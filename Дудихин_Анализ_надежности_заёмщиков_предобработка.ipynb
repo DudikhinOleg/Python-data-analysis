{
 "cells": [
  {
   "cell_type": "markdown",
   "id": "c141d7d9",
   "metadata": {},
   "source": [
    "# Исследование надежности заемщиков."
   ]
  },
  {
   "cell_type": "markdown",
   "id": "6c8e5c81",
   "metadata": {},
   "source": [
    "В ходе данной работы рассмотрим и сравним долю невозвратов/просрочек кредитов среди различных групп заёмщиков и в зависимости от целей кредита. Для исследования возьмем статистику банка по фактическим заёмщикам, их характеристикам и фактам невозвратов/просрочек кредитов и обработаем её для дальнейшего изучения. Полученные выводу помогут определить наиболее и наименее ответственные группы заёмщиков в зависимости от их семейного положения, социального статуса, цели кредита и прочего."
   ]
  },
  {
   "cell_type": "markdown",
   "id": "7bcba7b8",
   "metadata": {},
   "source": [
    "### Шаг 1. Обзор данных"
   ]
  },
  {
   "cell_type": "markdown",
   "id": "293f269c",
   "metadata": {},
   "source": [
    "Окрываем файл и просматриваем первые 10 строк таблицы для получения представления его структуре и формате данных"
   ]
  },
  {
   "cell_type": "code",
   "execution_count": 1,
   "id": "88ceea36",
   "metadata": {
    "scrolled": false
   },
   "outputs": [
    {
     "data": {
      "text/html": [
       "<div>\n",
       "<style scoped>\n",
       "    .dataframe tbody tr th:only-of-type {\n",
       "        vertical-align: middle;\n",
       "    }\n",
       "\n",
       "    .dataframe tbody tr th {\n",
       "        vertical-align: top;\n",
       "    }\n",
       "\n",
       "    .dataframe thead th {\n",
       "        text-align: right;\n",
       "    }\n",
       "</style>\n",
       "<table border=\"1\" class=\"dataframe\">\n",
       "  <thead>\n",
       "    <tr style=\"text-align: right;\">\n",
       "      <th></th>\n",
       "      <th>children</th>\n",
       "      <th>days_employed</th>\n",
       "      <th>dob_years</th>\n",
       "      <th>education</th>\n",
       "      <th>education_id</th>\n",
       "      <th>family_status</th>\n",
       "      <th>family_status_id</th>\n",
       "      <th>gender</th>\n",
       "      <th>income_type</th>\n",
       "      <th>debt</th>\n",
       "      <th>total_income</th>\n",
       "      <th>purpose</th>\n",
       "    </tr>\n",
       "  </thead>\n",
       "  <tbody>\n",
       "    <tr>\n",
       "      <th>0</th>\n",
       "      <td>1</td>\n",
       "      <td>-8437.673028</td>\n",
       "      <td>42</td>\n",
       "      <td>высшее</td>\n",
       "      <td>0</td>\n",
       "      <td>женат / замужем</td>\n",
       "      <td>0</td>\n",
       "      <td>F</td>\n",
       "      <td>сотрудник</td>\n",
       "      <td>0</td>\n",
       "      <td>253875.639453</td>\n",
       "      <td>покупка жилья</td>\n",
       "    </tr>\n",
       "    <tr>\n",
       "      <th>1</th>\n",
       "      <td>1</td>\n",
       "      <td>-4024.803754</td>\n",
       "      <td>36</td>\n",
       "      <td>среднее</td>\n",
       "      <td>1</td>\n",
       "      <td>женат / замужем</td>\n",
       "      <td>0</td>\n",
       "      <td>F</td>\n",
       "      <td>сотрудник</td>\n",
       "      <td>0</td>\n",
       "      <td>112080.014102</td>\n",
       "      <td>приобретение автомобиля</td>\n",
       "    </tr>\n",
       "    <tr>\n",
       "      <th>2</th>\n",
       "      <td>0</td>\n",
       "      <td>-5623.422610</td>\n",
       "      <td>33</td>\n",
       "      <td>Среднее</td>\n",
       "      <td>1</td>\n",
       "      <td>женат / замужем</td>\n",
       "      <td>0</td>\n",
       "      <td>M</td>\n",
       "      <td>сотрудник</td>\n",
       "      <td>0</td>\n",
       "      <td>145885.952297</td>\n",
       "      <td>покупка жилья</td>\n",
       "    </tr>\n",
       "    <tr>\n",
       "      <th>3</th>\n",
       "      <td>3</td>\n",
       "      <td>-4124.747207</td>\n",
       "      <td>32</td>\n",
       "      <td>среднее</td>\n",
       "      <td>1</td>\n",
       "      <td>женат / замужем</td>\n",
       "      <td>0</td>\n",
       "      <td>M</td>\n",
       "      <td>сотрудник</td>\n",
       "      <td>0</td>\n",
       "      <td>267628.550329</td>\n",
       "      <td>дополнительное образование</td>\n",
       "    </tr>\n",
       "    <tr>\n",
       "      <th>4</th>\n",
       "      <td>0</td>\n",
       "      <td>340266.072047</td>\n",
       "      <td>53</td>\n",
       "      <td>среднее</td>\n",
       "      <td>1</td>\n",
       "      <td>гражданский брак</td>\n",
       "      <td>1</td>\n",
       "      <td>F</td>\n",
       "      <td>пенсионер</td>\n",
       "      <td>0</td>\n",
       "      <td>158616.077870</td>\n",
       "      <td>сыграть свадьбу</td>\n",
       "    </tr>\n",
       "    <tr>\n",
       "      <th>5</th>\n",
       "      <td>0</td>\n",
       "      <td>-926.185831</td>\n",
       "      <td>27</td>\n",
       "      <td>высшее</td>\n",
       "      <td>0</td>\n",
       "      <td>гражданский брак</td>\n",
       "      <td>1</td>\n",
       "      <td>M</td>\n",
       "      <td>компаньон</td>\n",
       "      <td>0</td>\n",
       "      <td>255763.565419</td>\n",
       "      <td>покупка жилья</td>\n",
       "    </tr>\n",
       "    <tr>\n",
       "      <th>6</th>\n",
       "      <td>0</td>\n",
       "      <td>-2879.202052</td>\n",
       "      <td>43</td>\n",
       "      <td>высшее</td>\n",
       "      <td>0</td>\n",
       "      <td>женат / замужем</td>\n",
       "      <td>0</td>\n",
       "      <td>F</td>\n",
       "      <td>компаньон</td>\n",
       "      <td>0</td>\n",
       "      <td>240525.971920</td>\n",
       "      <td>операции с жильем</td>\n",
       "    </tr>\n",
       "    <tr>\n",
       "      <th>7</th>\n",
       "      <td>0</td>\n",
       "      <td>-152.779569</td>\n",
       "      <td>50</td>\n",
       "      <td>СРЕДНЕЕ</td>\n",
       "      <td>1</td>\n",
       "      <td>женат / замужем</td>\n",
       "      <td>0</td>\n",
       "      <td>M</td>\n",
       "      <td>сотрудник</td>\n",
       "      <td>0</td>\n",
       "      <td>135823.934197</td>\n",
       "      <td>образование</td>\n",
       "    </tr>\n",
       "    <tr>\n",
       "      <th>8</th>\n",
       "      <td>2</td>\n",
       "      <td>-6929.865299</td>\n",
       "      <td>35</td>\n",
       "      <td>ВЫСШЕЕ</td>\n",
       "      <td>0</td>\n",
       "      <td>гражданский брак</td>\n",
       "      <td>1</td>\n",
       "      <td>F</td>\n",
       "      <td>сотрудник</td>\n",
       "      <td>0</td>\n",
       "      <td>95856.832424</td>\n",
       "      <td>на проведение свадьбы</td>\n",
       "    </tr>\n",
       "    <tr>\n",
       "      <th>9</th>\n",
       "      <td>0</td>\n",
       "      <td>-2188.756445</td>\n",
       "      <td>41</td>\n",
       "      <td>среднее</td>\n",
       "      <td>1</td>\n",
       "      <td>женат / замужем</td>\n",
       "      <td>0</td>\n",
       "      <td>M</td>\n",
       "      <td>сотрудник</td>\n",
       "      <td>0</td>\n",
       "      <td>144425.938277</td>\n",
       "      <td>покупка жилья для семьи</td>\n",
       "    </tr>\n",
       "  </tbody>\n",
       "</table>\n",
       "</div>"
      ],
      "text/plain": [
       "   children  days_employed  dob_years education  education_id  \\\n",
       "0         1   -8437.673028         42    высшее             0   \n",
       "1         1   -4024.803754         36   среднее             1   \n",
       "2         0   -5623.422610         33   Среднее             1   \n",
       "3         3   -4124.747207         32   среднее             1   \n",
       "4         0  340266.072047         53   среднее             1   \n",
       "5         0    -926.185831         27    высшее             0   \n",
       "6         0   -2879.202052         43    высшее             0   \n",
       "7         0    -152.779569         50   СРЕДНЕЕ             1   \n",
       "8         2   -6929.865299         35    ВЫСШЕЕ             0   \n",
       "9         0   -2188.756445         41   среднее             1   \n",
       "\n",
       "      family_status  family_status_id gender income_type  debt   total_income  \\\n",
       "0   женат / замужем                 0      F   сотрудник     0  253875.639453   \n",
       "1   женат / замужем                 0      F   сотрудник     0  112080.014102   \n",
       "2   женат / замужем                 0      M   сотрудник     0  145885.952297   \n",
       "3   женат / замужем                 0      M   сотрудник     0  267628.550329   \n",
       "4  гражданский брак                 1      F   пенсионер     0  158616.077870   \n",
       "5  гражданский брак                 1      M   компаньон     0  255763.565419   \n",
       "6   женат / замужем                 0      F   компаньон     0  240525.971920   \n",
       "7   женат / замужем                 0      M   сотрудник     0  135823.934197   \n",
       "8  гражданский брак                 1      F   сотрудник     0   95856.832424   \n",
       "9   женат / замужем                 0      M   сотрудник     0  144425.938277   \n",
       "\n",
       "                      purpose  \n",
       "0               покупка жилья  \n",
       "1     приобретение автомобиля  \n",
       "2               покупка жилья  \n",
       "3  дополнительное образование  \n",
       "4             сыграть свадьбу  \n",
       "5               покупка жилья  \n",
       "6           операции с жильем  \n",
       "7                 образование  \n",
       "8       на проведение свадьбы  \n",
       "9     покупка жилья для семьи  "
      ]
     },
     "metadata": {},
     "output_type": "display_data"
    }
   ],
   "source": [
    "import pandas as pd\n",
    "df=pd.read_csv('/datasets/data.csv')\n",
    "display(df.head(10))"
   ]
  },
  {
   "cell_type": "markdown",
   "id": "f307c213",
   "metadata": {},
   "source": [
    "А также общую информацию о размере датафрейма и типе данных"
   ]
  },
  {
   "cell_type": "code",
   "execution_count": 2,
   "id": "1bf35a5f",
   "metadata": {},
   "outputs": [
    {
     "name": "stdout",
     "output_type": "stream",
     "text": [
      "<class 'pandas.core.frame.DataFrame'>\n",
      "RangeIndex: 21525 entries, 0 to 21524\n",
      "Data columns (total 12 columns):\n",
      " #   Column            Non-Null Count  Dtype  \n",
      "---  ------            --------------  -----  \n",
      " 0   children          21525 non-null  int64  \n",
      " 1   days_employed     19351 non-null  float64\n",
      " 2   dob_years         21525 non-null  int64  \n",
      " 3   education         21525 non-null  object \n",
      " 4   education_id      21525 non-null  int64  \n",
      " 5   family_status     21525 non-null  object \n",
      " 6   family_status_id  21525 non-null  int64  \n",
      " 7   gender            21525 non-null  object \n",
      " 8   income_type       21525 non-null  object \n",
      " 9   debt              21525 non-null  int64  \n",
      " 10  total_income      19351 non-null  float64\n",
      " 11  purpose           21525 non-null  object \n",
      "dtypes: float64(2), int64(5), object(5)\n",
      "memory usage: 2.0+ MB\n"
     ]
    }
   ],
   "source": [
    "df.info()"
   ]
  },
  {
   "cell_type": "markdown",
   "id": "64810f7a",
   "metadata": {},
   "source": [
    "Дата фрейм включает в себя 12 столбцов и 21525 строк различных форматов. Очевидно, что в нём присутствуют пропуски и аномалии. Далее мы от них избавимся. "
   ]
  },
  {
   "cell_type": "markdown",
   "id": "44d99727",
   "metadata": {},
   "source": [
    "### Шаг 2.1 Заполнение пропусков"
   ]
  },
  {
   "cell_type": "markdown",
   "id": "22a17a42",
   "metadata": {},
   "source": [
    "Определяем столбцы, в которых есть пропуски и их количество"
   ]
  },
  {
   "cell_type": "code",
   "execution_count": 3,
   "id": "b1abad1a",
   "metadata": {},
   "outputs": [
    {
     "name": "stdout",
     "output_type": "stream",
     "text": [
      "children               0\n",
      "days_employed       2174\n",
      "dob_years              0\n",
      "education              0\n",
      "education_id           0\n",
      "family_status          0\n",
      "family_status_id       0\n",
      "gender                 0\n",
      "income_type            0\n",
      "debt                   0\n",
      "total_income        2174\n",
      "purpose                0\n",
      "dtype: int64\n"
     ]
    }
   ],
   "source": [
    "print(df.isna().sum())"
   ]
  },
  {
   "cell_type": "markdown",
   "id": "95e3eb42",
   "metadata": {},
   "source": [
    "Пропуски обнаружены в столбцах 'days_employed' - трудовой стаж в днях и 'total_income' - суммарный доход.\n"
   ]
  },
  {
   "cell_type": "markdown",
   "id": "b621b0df",
   "metadata": {},
   "source": [
    "**Заполнение пропусков стажа**<br>Пропуски в 'days_employed' целесообразно заполнять, исходя из соотношения среднего возраста людей к среднему или медианному трудовому стажу.\n",
    "Сделаем проверку - сравнение среднего и медианного стажа в пересчёте на годы для определения того, какой стаж выбрать."
   ]
  },
  {
   "cell_type": "code",
   "execution_count": 4,
   "id": "dc9cef2e",
   "metadata": {},
   "outputs": [
    {
     "name": "stdout",
     "output_type": "stream",
     "text": [
      "Средний стаж 172.73013057937914\n",
      "Медианный стаж -3.296902818549285\n"
     ]
    }
   ],
   "source": [
    "print('Средний стаж',df['days_employed'].mean()/365)\n",
    "print('Медианный стаж',df['days_employed'].median()/365)"
   ]
  },
  {
   "cell_type": "markdown",
   "id": "b02ca4eb",
   "metadata": {},
   "source": [
    "Очевидно, медианный стаж имеет аномалии, вызванные значениями, введёнными со знаком \"-\", а средний стаж - аномалии, связанные с неправдоподобно большими значениями. Попробуем взять медиану по абсолютному значению стажа: "
   ]
  },
  {
   "cell_type": "code",
   "execution_count": 5,
   "id": "b77e6fb5",
   "metadata": {},
   "outputs": [
    {
     "name": "stdout",
     "output_type": "stream",
     "text": [
      "Медианный стаж 6.0115631969279315\n"
     ]
    }
   ],
   "source": [
    "print('Медианный стаж',abs(df['days_employed']).median()/365)"
   ]
  },
  {
   "cell_type": "markdown",
   "id": "f5fba7b9",
   "metadata": {},
   "source": [
    "Медианный стаж выглядит достаточно небольшим, но необходимо проверить средний возраст для сопоставления со стажем, т.к. выборка может состоять из относительно молодых людей, для которых 6 лет трудового стажа будут адекватной величиной."
   ]
  },
  {
   "cell_type": "code",
   "execution_count": 6,
   "id": "475e9902",
   "metadata": {},
   "outputs": [
    {
     "name": "stdout",
     "output_type": "stream",
     "text": [
      "Средний возраст 43.29337979094077\n"
     ]
    }
   ],
   "source": [
    "print('Средний возраст',df['dob_years'].mean())"
   ]
  },
  {
   "cell_type": "markdown",
   "id": "8c578a82",
   "metadata": {},
   "source": [
    "Очевидно, что для среднего возраста 43 года стаж в 6 лет является неадекватно маленьким. Попробуем другую теорию: большие значения стажа - это стаж в часах. Предельным стажем будем считать 50 лет, все значения, превышающие этот показатель будут аномалиями. Проверим количество строк для 50 лет, а также, для проверки, явно аномальные значения со стажем более 100000 и 300000 дней: "
   ]
  },
  {
   "cell_type": "code",
   "execution_count": 7,
   "id": "70fc7009",
   "metadata": {},
   "outputs": [
    {
     "name": "stdout",
     "output_type": "stream",
     "text": [
      "Люди со стажем более 50 лет: 3445\n",
      "Люди со стажем более 100000 \"дней\": 3445\n",
      "Люди со стажем более 300000 \"дней\": 3445\n"
     ]
    }
   ],
   "source": [
    "print('Люди со стажем более 50 лет:',df[df['days_employed']>(50*365)]['days_employed'].count())\n",
    "print('Люди со стажем более 100000 \"дней\":',df[df['days_employed']>100000]['days_employed'].count())\n",
    "print('Люди со стажем более 300000 \"дней\":',df[df['days_employed']>100000]['days_employed'].count())"
   ]
  },
  {
   "cell_type": "markdown",
   "id": "b68c10be",
   "metadata": {},
   "source": [
    "Таким образом, все данные о стаже, превышающем 50 лет будем считать данными, выраженными в часах, и конвертировать в дни.\n",
    "<a id='hours_to_years'></a>"
   ]
  },
  {
   "cell_type": "code",
   "execution_count": 8,
   "id": "76cd72e8",
   "metadata": {},
   "outputs": [],
   "source": [
    "df.loc[df['days_employed']>(50*365),'days_employed']=df['days_employed']/24"
   ]
  },
  {
   "cell_type": "markdown",
   "id": "84f7b1c6",
   "metadata": {},
   "source": [
    "Теперь проверим средний и медианный стаж в годах с учётом исправлений и абсолютных значений:"
   ]
  },
  {
   "cell_type": "code",
   "execution_count": 9,
   "id": "4d19780c",
   "metadata": {},
   "outputs": [
    {
     "name": "stdout",
     "output_type": "stream",
     "text": [
      "Медианный стаж 6.0115631969279315\n",
      "Средний стаж 12.716825140220974\n"
     ]
    }
   ],
   "source": [
    "print('Медианный стаж',abs(df['days_employed']).median()/365)\n",
    "print('Средний стаж',abs(df['days_employed']).mean()/365)"
   ]
  },
  {
   "cell_type": "markdown",
   "id": "1cbb3760",
   "metadata": {},
   "source": [
    "Очевидно, средний стаж в 12,7 лет соответствует среднему возрасту заемщика в 43 года. Теперь можно посчитать среднее значение отношения стажа к возрасту и заполнить пропуски трудового стажа заемщика, исходя из его возраста:"
   ]
  },
  {
   "cell_type": "code",
   "execution_count": 10,
   "id": "680f209c",
   "metadata": {},
   "outputs": [
    {
     "name": "stdout",
     "output_type": "stream",
     "text": [
      "children               0\n",
      "days_employed          0\n",
      "dob_years              0\n",
      "education              0\n",
      "education_id           0\n",
      "family_status          0\n",
      "family_status_id       0\n",
      "gender                 0\n",
      "income_type            0\n",
      "debt                   0\n",
      "total_income        2174\n",
      "purpose                0\n",
      "dtype: int64\n"
     ]
    }
   ],
   "source": [
    "avg_age_empl_ratio=abs(df['days_employed']).mean()/df['dob_years'].mean()\n",
    "#df.loc[df['days_employed']=='None','days_employed']=df['dob_years']*avg_age_empl_ratio\n",
    "df['days_employed']=df['days_employed'].fillna(df['dob_years']*avg_age_empl_ratio)\n",
    "print(df.isna().sum())"
   ]
  },
  {
   "cell_type": "markdown",
   "id": "4b61ea43",
   "metadata": {},
   "source": [
    "**Заполнение пропусков среднего заработка**<br>Теперь произведём заполнение пропусков среднего заработка. Предположение такое, что люди, имеющие одинаковое образование, имеют сопоставимый доход. Выведем все уникальные значения по образованию, имеющиеся в датафрейме."
   ]
  },
  {
   "cell_type": "code",
   "execution_count": 11,
   "id": "60cbef51",
   "metadata": {},
   "outputs": [
    {
     "data": {
      "text/plain": [
       "array(['высшее', 'среднее', 'Среднее', 'СРЕДНЕЕ', 'ВЫСШЕЕ',\n",
       "       'неоконченное высшее', 'начальное', 'Высшее',\n",
       "       'НЕОКОНЧЕННОЕ ВЫСШЕЕ', 'Неоконченное высшее', 'НАЧАЛЬНОЕ',\n",
       "       'Начальное', 'Ученая степень', 'УЧЕНАЯ СТЕПЕНЬ', 'ученая степень'],\n",
       "      dtype=object)"
      ]
     },
     "execution_count": 11,
     "metadata": {},
     "output_type": "execute_result"
    }
   ],
   "source": [
    "df['education'].unique()"
   ]
  },
  {
   "cell_type": "markdown",
   "id": "08d14c2b",
   "metadata": {},
   "source": [
    "Унифицируем все значения образования - приведём их в форму строчных букв и посмотрим на уникальные значения.\n",
    "<a id='lower'></a>"
   ]
  },
  {
   "cell_type": "code",
   "execution_count": 12,
   "id": "e8df22f5",
   "metadata": {},
   "outputs": [
    {
     "data": {
      "text/plain": [
       "array(['высшее', 'среднее', 'неоконченное высшее', 'начальное',\n",
       "       'ученая степень'], dtype=object)"
      ]
     },
     "execution_count": 12,
     "metadata": {},
     "output_type": "execute_result"
    }
   ],
   "source": [
    "df['education']=df['education'].str.lower()\n",
    "df['education'].unique()\n"
   ]
  },
  {
   "cell_type": "markdown",
   "id": "dbbe02d2",
   "metadata": {},
   "source": [
    "Объявим список, состоящий из уникальных значений типов образования и пустой список средних зарплат в зависимости от образования. Посчитаем медианные зарплаты для каждого типа образования и добавим их в список и выведем на экран."
   ]
  },
  {
   "cell_type": "code",
   "execution_count": 13,
   "id": "543c6e1b",
   "metadata": {
    "scrolled": true
   },
   "outputs": [
    {
     "name": "stdout",
     "output_type": "stream",
     "text": [
      "['высшее', 'среднее', 'неоконченное высшее', 'начальное', 'ученая степень'] \n",
      " [175340.81885544234, 136478.64324360332, 160115.39864359115, 117137.35282495996, 157259.8985551767]\n"
     ]
    }
   ],
   "source": [
    "educ=['высшее', 'среднее', 'неоконченное высшее', 'начальное',\n",
    "       'ученая степень']\n",
    "income_to_educ=[]\n",
    "for index in educ:\n",
    "    income_to_educ.append(df[df['education']==index]['total_income'].median())\n",
    "print(educ,'\\n',income_to_educ) "
   ]
  },
  {
   "cell_type": "markdown",
   "id": "3e61601a",
   "metadata": {},
   "source": [
    "Заменим пропуски соответствующими медианными значениями"
   ]
  },
  {
   "cell_type": "code",
   "execution_count": 14,
   "id": "97145a36",
   "metadata": {},
   "outputs": [
    {
     "name": "stdout",
     "output_type": "stream",
     "text": [
      "children            0\n",
      "days_employed       0\n",
      "dob_years           0\n",
      "education           0\n",
      "education_id        0\n",
      "family_status       0\n",
      "family_status_id    0\n",
      "gender              0\n",
      "income_type         0\n",
      "debt                0\n",
      "total_income        0\n",
      "purpose             0\n",
      "dtype: int64\n"
     ]
    }
   ],
   "source": [
    "for i in range(len(educ)):\n",
    "    df.loc[df['education']==educ[i],'total_income']=df['total_income'].fillna(income_to_educ[i])\n",
    "print(df.isna().sum())"
   ]
  },
  {
   "cell_type": "markdown",
   "id": "36a28910",
   "metadata": {},
   "source": [
    "### Шаг 2.2 Проверка данных на аномалии и исправления."
   ]
  },
  {
   "cell_type": "markdown",
   "id": "a94bb940",
   "metadata": {},
   "source": [
    "На [предыдущих шагах](#hours_to_years) мы уже заменили аномально большие значения трудового стажа, выраженные в часах вместо дней. Но для расчётов использовали функцию абсолютных значений, без замены отрицательных значений в самом датафрейме. Сделаем все значения стажа положительными на этом этапе:"
   ]
  },
  {
   "cell_type": "code",
   "execution_count": 15,
   "id": "4520e499",
   "metadata": {},
   "outputs": [],
   "source": [
    "df['days_employed']=abs(df['days_employed'])"
   ]
  },
  {
   "cell_type": "markdown",
   "id": "bf384512",
   "metadata": {},
   "source": [
    "Проверим дополнительно аномалии пола:"
   ]
  },
  {
   "cell_type": "code",
   "execution_count": 16,
   "id": "d5d6ef5b",
   "metadata": {},
   "outputs": [
    {
     "name": "stdout",
     "output_type": "stream",
     "text": [
      "F      14236\n",
      "M       7288\n",
      "XNA        1\n",
      "Name: gender, dtype: int64\n"
     ]
    }
   ],
   "source": [
    "print(df['gender'].value_counts())"
   ]
  },
  {
   "cell_type": "markdown",
   "id": "9ff287c0",
   "metadata": {},
   "source": [
    "В столбцах пола помимо F и M представлен XNA - очевидно, \"not available\". Но, т.к. в дальнейшем мы не делаем отдельную выборку по половому признаку, а также ввиду того, что это всего одна строка с таким значением, оставим данный столбец неизменным."
   ]
  },
  {
   "cell_type": "markdown",
   "id": "2f99a274",
   "metadata": {},
   "source": [
    "Проверим на аномалии также столбец с возрастом заёмщиков."
   ]
  },
  {
   "cell_type": "code",
   "execution_count": 17,
   "id": "081473bf",
   "metadata": {},
   "outputs": [
    {
     "name": "stdout",
     "output_type": "stream",
     "text": [
      "35    617\n",
      "40    609\n",
      "41    607\n",
      "34    603\n",
      "38    598\n",
      "42    597\n",
      "33    581\n",
      "39    573\n",
      "31    560\n",
      "36    555\n",
      "44    547\n",
      "29    545\n",
      "30    540\n",
      "48    538\n",
      "37    537\n",
      "50    514\n",
      "43    513\n",
      "32    510\n",
      "49    508\n",
      "28    503\n",
      "45    497\n",
      "27    493\n",
      "56    487\n",
      "52    484\n",
      "47    480\n",
      "54    479\n",
      "46    475\n",
      "58    461\n",
      "57    460\n",
      "53    459\n",
      "51    448\n",
      "59    444\n",
      "55    443\n",
      "26    408\n",
      "60    377\n",
      "25    357\n",
      "61    355\n",
      "62    352\n",
      "63    269\n",
      "64    265\n",
      "24    264\n",
      "23    254\n",
      "65    194\n",
      "66    183\n",
      "22    183\n",
      "67    167\n",
      "21    111\n",
      "0     101\n",
      "68     99\n",
      "69     85\n",
      "70     65\n",
      "71     58\n",
      "20     51\n",
      "72     33\n",
      "19     14\n",
      "73      8\n",
      "74      6\n",
      "75      1\n",
      "Name: dob_years, dtype: int64\n"
     ]
    }
   ],
   "source": [
    "print(df['dob_years'].value_counts())"
   ]
  },
  {
   "cell_type": "markdown",
   "id": "0b19ec68",
   "metadata": {},
   "source": [
    "В датафрейме есть 101 строка с возрастом 0 лет. Очевидно это вызвано ошибкой заполнения. Для целей нашего анализа возраст можно заменить средним значением из имеющихся."
   ]
  },
  {
   "cell_type": "code",
   "execution_count": 18,
   "id": "748cd83a",
   "metadata": {},
   "outputs": [
    {
     "name": "stdout",
     "output_type": "stream",
     "text": [
      "35    617\n",
      "43    614\n",
      "40    609\n",
      "41    607\n",
      "34    603\n",
      "38    598\n",
      "42    597\n",
      "33    581\n",
      "39    573\n",
      "31    560\n",
      "36    555\n",
      "44    547\n",
      "29    545\n",
      "30    540\n",
      "48    538\n",
      "37    537\n",
      "50    514\n",
      "32    510\n",
      "49    508\n",
      "28    503\n",
      "45    497\n",
      "27    493\n",
      "56    487\n",
      "52    484\n",
      "47    480\n",
      "54    479\n",
      "46    475\n",
      "58    461\n",
      "57    460\n",
      "53    459\n",
      "51    448\n",
      "59    444\n",
      "55    443\n",
      "26    408\n",
      "60    377\n",
      "25    357\n",
      "61    355\n",
      "62    352\n",
      "63    269\n",
      "64    265\n",
      "24    264\n",
      "23    254\n",
      "65    194\n",
      "22    183\n",
      "66    183\n",
      "67    167\n",
      "21    111\n",
      "68     99\n",
      "69     85\n",
      "70     65\n",
      "71     58\n",
      "20     51\n",
      "72     33\n",
      "19     14\n",
      "73      8\n",
      "74      6\n",
      "75      1\n",
      "Name: dob_years, dtype: int64\n"
     ]
    }
   ],
   "source": [
    "df.loc[df['dob_years']==0,'dob_years']=int(df['dob_years'].mean())\n",
    "print(df['dob_years'].value_counts())"
   ]
  },
  {
   "cell_type": "markdown",
   "id": "7968d54a",
   "metadata": {},
   "source": [
    "### Шаг 2.3. Изменение типов данных."
   ]
  },
  {
   "cell_type": "markdown",
   "id": "a71672fb",
   "metadata": {},
   "source": [
    "Поменяем тип данных столбца 'total_income' с float на int"
   ]
  },
  {
   "cell_type": "code",
   "execution_count": 19,
   "id": "505ac13c",
   "metadata": {},
   "outputs": [],
   "source": [
    "df['total_income']=df['total_income'].astype('int')"
   ]
  },
  {
   "cell_type": "markdown",
   "id": "e26c0485",
   "metadata": {},
   "source": [
    "### Шаг 2.4. Удаление дубликатов."
   ]
  },
  {
   "cell_type": "markdown",
   "id": "2e23e19f",
   "metadata": {},
   "source": [
    "Определим количество дубликатов и уберем их. Выборка будет включать как явные, так и неявыне дубликаты, т.к. [ранее](#lower) мы уже привели все строки с образованием ('education') к нижнему регистру"
   ]
  },
  {
   "cell_type": "code",
   "execution_count": 20,
   "id": "8c749f9a",
   "metadata": {},
   "outputs": [
    {
     "name": "stdout",
     "output_type": "stream",
     "text": [
      "Обнаружено и удалено дубликатов: 71\n"
     ]
    }
   ],
   "source": [
    "print('Обнаружено и удалено дубликатов:', df.duplicated().sum())\n",
    "df = df.drop_duplicates().reset_index(drop=True)"
   ]
  },
  {
   "cell_type": "markdown",
   "id": "022904c4",
   "metadata": {},
   "source": [
    "Выведем на экран первые 10 строк датафрейма и информацию о датафрейме для проверки"
   ]
  },
  {
   "cell_type": "code",
   "execution_count": 21,
   "id": "fa8e7d21",
   "metadata": {},
   "outputs": [
    {
     "data": {
      "text/html": [
       "<div>\n",
       "<style scoped>\n",
       "    .dataframe tbody tr th:only-of-type {\n",
       "        vertical-align: middle;\n",
       "    }\n",
       "\n",
       "    .dataframe tbody tr th {\n",
       "        vertical-align: top;\n",
       "    }\n",
       "\n",
       "    .dataframe thead th {\n",
       "        text-align: right;\n",
       "    }\n",
       "</style>\n",
       "<table border=\"1\" class=\"dataframe\">\n",
       "  <thead>\n",
       "    <tr style=\"text-align: right;\">\n",
       "      <th></th>\n",
       "      <th>children</th>\n",
       "      <th>days_employed</th>\n",
       "      <th>dob_years</th>\n",
       "      <th>education</th>\n",
       "      <th>education_id</th>\n",
       "      <th>family_status</th>\n",
       "      <th>family_status_id</th>\n",
       "      <th>gender</th>\n",
       "      <th>income_type</th>\n",
       "      <th>debt</th>\n",
       "      <th>total_income</th>\n",
       "      <th>purpose</th>\n",
       "    </tr>\n",
       "  </thead>\n",
       "  <tbody>\n",
       "    <tr>\n",
       "      <th>0</th>\n",
       "      <td>1</td>\n",
       "      <td>8437.673028</td>\n",
       "      <td>42</td>\n",
       "      <td>высшее</td>\n",
       "      <td>0</td>\n",
       "      <td>женат / замужем</td>\n",
       "      <td>0</td>\n",
       "      <td>F</td>\n",
       "      <td>сотрудник</td>\n",
       "      <td>0</td>\n",
       "      <td>253875</td>\n",
       "      <td>покупка жилья</td>\n",
       "    </tr>\n",
       "    <tr>\n",
       "      <th>1</th>\n",
       "      <td>1</td>\n",
       "      <td>4024.803754</td>\n",
       "      <td>36</td>\n",
       "      <td>среднее</td>\n",
       "      <td>1</td>\n",
       "      <td>женат / замужем</td>\n",
       "      <td>0</td>\n",
       "      <td>F</td>\n",
       "      <td>сотрудник</td>\n",
       "      <td>0</td>\n",
       "      <td>112080</td>\n",
       "      <td>приобретение автомобиля</td>\n",
       "    </tr>\n",
       "    <tr>\n",
       "      <th>2</th>\n",
       "      <td>0</td>\n",
       "      <td>5623.422610</td>\n",
       "      <td>33</td>\n",
       "      <td>среднее</td>\n",
       "      <td>1</td>\n",
       "      <td>женат / замужем</td>\n",
       "      <td>0</td>\n",
       "      <td>M</td>\n",
       "      <td>сотрудник</td>\n",
       "      <td>0</td>\n",
       "      <td>145885</td>\n",
       "      <td>покупка жилья</td>\n",
       "    </tr>\n",
       "    <tr>\n",
       "      <th>3</th>\n",
       "      <td>3</td>\n",
       "      <td>4124.747207</td>\n",
       "      <td>32</td>\n",
       "      <td>среднее</td>\n",
       "      <td>1</td>\n",
       "      <td>женат / замужем</td>\n",
       "      <td>0</td>\n",
       "      <td>M</td>\n",
       "      <td>сотрудник</td>\n",
       "      <td>0</td>\n",
       "      <td>267628</td>\n",
       "      <td>дополнительное образование</td>\n",
       "    </tr>\n",
       "    <tr>\n",
       "      <th>4</th>\n",
       "      <td>0</td>\n",
       "      <td>14177.753002</td>\n",
       "      <td>53</td>\n",
       "      <td>среднее</td>\n",
       "      <td>1</td>\n",
       "      <td>гражданский брак</td>\n",
       "      <td>1</td>\n",
       "      <td>F</td>\n",
       "      <td>пенсионер</td>\n",
       "      <td>0</td>\n",
       "      <td>158616</td>\n",
       "      <td>сыграть свадьбу</td>\n",
       "    </tr>\n",
       "    <tr>\n",
       "      <th>5</th>\n",
       "      <td>0</td>\n",
       "      <td>926.185831</td>\n",
       "      <td>27</td>\n",
       "      <td>высшее</td>\n",
       "      <td>0</td>\n",
       "      <td>гражданский брак</td>\n",
       "      <td>1</td>\n",
       "      <td>M</td>\n",
       "      <td>компаньон</td>\n",
       "      <td>0</td>\n",
       "      <td>255763</td>\n",
       "      <td>покупка жилья</td>\n",
       "    </tr>\n",
       "    <tr>\n",
       "      <th>6</th>\n",
       "      <td>0</td>\n",
       "      <td>2879.202052</td>\n",
       "      <td>43</td>\n",
       "      <td>высшее</td>\n",
       "      <td>0</td>\n",
       "      <td>женат / замужем</td>\n",
       "      <td>0</td>\n",
       "      <td>F</td>\n",
       "      <td>компаньон</td>\n",
       "      <td>0</td>\n",
       "      <td>240525</td>\n",
       "      <td>операции с жильем</td>\n",
       "    </tr>\n",
       "    <tr>\n",
       "      <th>7</th>\n",
       "      <td>0</td>\n",
       "      <td>152.779569</td>\n",
       "      <td>50</td>\n",
       "      <td>среднее</td>\n",
       "      <td>1</td>\n",
       "      <td>женат / замужем</td>\n",
       "      <td>0</td>\n",
       "      <td>M</td>\n",
       "      <td>сотрудник</td>\n",
       "      <td>0</td>\n",
       "      <td>135823</td>\n",
       "      <td>образование</td>\n",
       "    </tr>\n",
       "    <tr>\n",
       "      <th>8</th>\n",
       "      <td>2</td>\n",
       "      <td>6929.865299</td>\n",
       "      <td>35</td>\n",
       "      <td>высшее</td>\n",
       "      <td>0</td>\n",
       "      <td>гражданский брак</td>\n",
       "      <td>1</td>\n",
       "      <td>F</td>\n",
       "      <td>сотрудник</td>\n",
       "      <td>0</td>\n",
       "      <td>95856</td>\n",
       "      <td>на проведение свадьбы</td>\n",
       "    </tr>\n",
       "    <tr>\n",
       "      <th>9</th>\n",
       "      <td>0</td>\n",
       "      <td>2188.756445</td>\n",
       "      <td>41</td>\n",
       "      <td>среднее</td>\n",
       "      <td>1</td>\n",
       "      <td>женат / замужем</td>\n",
       "      <td>0</td>\n",
       "      <td>M</td>\n",
       "      <td>сотрудник</td>\n",
       "      <td>0</td>\n",
       "      <td>144425</td>\n",
       "      <td>покупка жилья для семьи</td>\n",
       "    </tr>\n",
       "  </tbody>\n",
       "</table>\n",
       "</div>"
      ],
      "text/plain": [
       "   children  days_employed  dob_years education  education_id  \\\n",
       "0         1    8437.673028         42    высшее             0   \n",
       "1         1    4024.803754         36   среднее             1   \n",
       "2         0    5623.422610         33   среднее             1   \n",
       "3         3    4124.747207         32   среднее             1   \n",
       "4         0   14177.753002         53   среднее             1   \n",
       "5         0     926.185831         27    высшее             0   \n",
       "6         0    2879.202052         43    высшее             0   \n",
       "7         0     152.779569         50   среднее             1   \n",
       "8         2    6929.865299         35    высшее             0   \n",
       "9         0    2188.756445         41   среднее             1   \n",
       "\n",
       "      family_status  family_status_id gender income_type  debt  total_income  \\\n",
       "0   женат / замужем                 0      F   сотрудник     0        253875   \n",
       "1   женат / замужем                 0      F   сотрудник     0        112080   \n",
       "2   женат / замужем                 0      M   сотрудник     0        145885   \n",
       "3   женат / замужем                 0      M   сотрудник     0        267628   \n",
       "4  гражданский брак                 1      F   пенсионер     0        158616   \n",
       "5  гражданский брак                 1      M   компаньон     0        255763   \n",
       "6   женат / замужем                 0      F   компаньон     0        240525   \n",
       "7   женат / замужем                 0      M   сотрудник     0        135823   \n",
       "8  гражданский брак                 1      F   сотрудник     0         95856   \n",
       "9   женат / замужем                 0      M   сотрудник     0        144425   \n",
       "\n",
       "                      purpose  \n",
       "0               покупка жилья  \n",
       "1     приобретение автомобиля  \n",
       "2               покупка жилья  \n",
       "3  дополнительное образование  \n",
       "4             сыграть свадьбу  \n",
       "5               покупка жилья  \n",
       "6           операции с жильем  \n",
       "7                 образование  \n",
       "8       на проведение свадьбы  \n",
       "9     покупка жилья для семьи  "
      ]
     },
     "metadata": {},
     "output_type": "display_data"
    },
    {
     "name": "stdout",
     "output_type": "stream",
     "text": [
      "<class 'pandas.core.frame.DataFrame'>\n",
      "RangeIndex: 21454 entries, 0 to 21453\n",
      "Data columns (total 12 columns):\n",
      " #   Column            Non-Null Count  Dtype  \n",
      "---  ------            --------------  -----  \n",
      " 0   children          21454 non-null  int64  \n",
      " 1   days_employed     21454 non-null  float64\n",
      " 2   dob_years         21454 non-null  int64  \n",
      " 3   education         21454 non-null  object \n",
      " 4   education_id      21454 non-null  int64  \n",
      " 5   family_status     21454 non-null  object \n",
      " 6   family_status_id  21454 non-null  int64  \n",
      " 7   gender            21454 non-null  object \n",
      " 8   income_type       21454 non-null  object \n",
      " 9   debt              21454 non-null  int64  \n",
      " 10  total_income      21454 non-null  int64  \n",
      " 11  purpose           21454 non-null  object \n",
      "dtypes: float64(1), int64(6), object(5)\n",
      "memory usage: 2.0+ MB\n"
     ]
    }
   ],
   "source": [
    "display(df.head(10))\n",
    "df.info()"
   ]
  },
  {
   "cell_type": "markdown",
   "id": "3493a254",
   "metadata": {},
   "source": [
    "### Шаг 2.5. Формирование дополнительных датафреймов словарей, декомпозиция исходного датафрейма."
   ]
  },
  {
   "cell_type": "markdown",
   "id": "53142026",
   "metadata": {},
   "source": [
    "Сформируем два дополнительных датафрейма-словаря, в которых будут храниться данные об образовании и семейном положении с соответствующими идентификаторами. В словарях оставим только уникальные значения с их идентификаторами. Соответственно, удалим столбцы 'education' и 'family_status' из исходного датафрейма, оставив только их идентификаторы."
   ]
  },
  {
   "cell_type": "code",
   "execution_count": 22,
   "id": "85f32773",
   "metadata": {},
   "outputs": [
    {
     "data": {
      "text/html": [
       "<div>\n",
       "<style scoped>\n",
       "    .dataframe tbody tr th:only-of-type {\n",
       "        vertical-align: middle;\n",
       "    }\n",
       "\n",
       "    .dataframe tbody tr th {\n",
       "        vertical-align: top;\n",
       "    }\n",
       "\n",
       "    .dataframe thead th {\n",
       "        text-align: right;\n",
       "    }\n",
       "</style>\n",
       "<table border=\"1\" class=\"dataframe\">\n",
       "  <thead>\n",
       "    <tr style=\"text-align: right;\">\n",
       "      <th></th>\n",
       "      <th>education_id</th>\n",
       "      <th>education</th>\n",
       "    </tr>\n",
       "  </thead>\n",
       "  <tbody>\n",
       "    <tr>\n",
       "      <th>0</th>\n",
       "      <td>0</td>\n",
       "      <td>высшее</td>\n",
       "    </tr>\n",
       "    <tr>\n",
       "      <th>1</th>\n",
       "      <td>1</td>\n",
       "      <td>среднее</td>\n",
       "    </tr>\n",
       "    <tr>\n",
       "      <th>2</th>\n",
       "      <td>2</td>\n",
       "      <td>неоконченное высшее</td>\n",
       "    </tr>\n",
       "    <tr>\n",
       "      <th>3</th>\n",
       "      <td>3</td>\n",
       "      <td>начальное</td>\n",
       "    </tr>\n",
       "    <tr>\n",
       "      <th>4</th>\n",
       "      <td>4</td>\n",
       "      <td>ученая степень</td>\n",
       "    </tr>\n",
       "  </tbody>\n",
       "</table>\n",
       "</div>"
      ],
      "text/plain": [
       "   education_id            education\n",
       "0             0               высшее\n",
       "1             1              среднее\n",
       "2             2  неоконченное высшее\n",
       "3             3            начальное\n",
       "4             4       ученая степень"
      ]
     },
     "metadata": {},
     "output_type": "display_data"
    },
    {
     "data": {
      "text/html": [
       "<div>\n",
       "<style scoped>\n",
       "    .dataframe tbody tr th:only-of-type {\n",
       "        vertical-align: middle;\n",
       "    }\n",
       "\n",
       "    .dataframe tbody tr th {\n",
       "        vertical-align: top;\n",
       "    }\n",
       "\n",
       "    .dataframe thead th {\n",
       "        text-align: right;\n",
       "    }\n",
       "</style>\n",
       "<table border=\"1\" class=\"dataframe\">\n",
       "  <thead>\n",
       "    <tr style=\"text-align: right;\">\n",
       "      <th></th>\n",
       "      <th>family_status_id</th>\n",
       "      <th>family_status</th>\n",
       "    </tr>\n",
       "  </thead>\n",
       "  <tbody>\n",
       "    <tr>\n",
       "      <th>0</th>\n",
       "      <td>0</td>\n",
       "      <td>женат / замужем</td>\n",
       "    </tr>\n",
       "    <tr>\n",
       "      <th>1</th>\n",
       "      <td>1</td>\n",
       "      <td>гражданский брак</td>\n",
       "    </tr>\n",
       "    <tr>\n",
       "      <th>2</th>\n",
       "      <td>2</td>\n",
       "      <td>вдовец / вдова</td>\n",
       "    </tr>\n",
       "    <tr>\n",
       "      <th>3</th>\n",
       "      <td>3</td>\n",
       "      <td>в разводе</td>\n",
       "    </tr>\n",
       "    <tr>\n",
       "      <th>4</th>\n",
       "      <td>4</td>\n",
       "      <td>Не женат / не замужем</td>\n",
       "    </tr>\n",
       "  </tbody>\n",
       "</table>\n",
       "</div>"
      ],
      "text/plain": [
       "   family_status_id          family_status\n",
       "0                 0        женат / замужем\n",
       "1                 1       гражданский брак\n",
       "2                 2         вдовец / вдова\n",
       "3                 3              в разводе\n",
       "4                 4  Не женат / не замужем"
      ]
     },
     "metadata": {},
     "output_type": "display_data"
    },
    {
     "data": {
      "text/plain": [
       "Index(['children', 'days_employed', 'dob_years', 'education_id',\n",
       "       'family_status_id', 'gender', 'income_type', 'debt', 'total_income',\n",
       "       'purpose'],\n",
       "      dtype='object')"
      ]
     },
     "execution_count": 22,
     "metadata": {},
     "output_type": "execute_result"
    }
   ],
   "source": [
    "educ_log=df[['education_id','education']]\n",
    "family_log=df[['family_status_id','family_status']]\n",
    "educ_log=educ_log.drop_duplicates().reset_index(drop=True)\n",
    "family_log=family_log.drop_duplicates().reset_index(drop=True)\n",
    "df=df.drop(columns=['education','family_status'],axis=1)\n",
    "display(educ_log.head())\n",
    "display(family_log.head())\n",
    "df.columns"
   ]
  },
  {
   "cell_type": "markdown",
   "id": "b64de766",
   "metadata": {},
   "source": [
    "### Шаг 2.6. Категоризация дохода."
   ]
  },
  {
   "cell_type": "markdown",
   "id": "66bff4a8",
   "metadata": {},
   "source": [
    "Создадим функцию категоризации заемщиков по уровню их дохода и добавим к основному датафрейму столбец с категориями заемщиков."
   ]
  },
  {
   "cell_type": "code",
   "execution_count": 23,
   "id": "f506515a",
   "metadata": {},
   "outputs": [
    {
     "data": {
      "text/html": [
       "<div>\n",
       "<style scoped>\n",
       "    .dataframe tbody tr th:only-of-type {\n",
       "        vertical-align: middle;\n",
       "    }\n",
       "\n",
       "    .dataframe tbody tr th {\n",
       "        vertical-align: top;\n",
       "    }\n",
       "\n",
       "    .dataframe thead th {\n",
       "        text-align: right;\n",
       "    }\n",
       "</style>\n",
       "<table border=\"1\" class=\"dataframe\">\n",
       "  <thead>\n",
       "    <tr style=\"text-align: right;\">\n",
       "      <th></th>\n",
       "      <th>children</th>\n",
       "      <th>days_employed</th>\n",
       "      <th>dob_years</th>\n",
       "      <th>education_id</th>\n",
       "      <th>family_status_id</th>\n",
       "      <th>gender</th>\n",
       "      <th>income_type</th>\n",
       "      <th>debt</th>\n",
       "      <th>total_income</th>\n",
       "      <th>purpose</th>\n",
       "      <th>total_income_category</th>\n",
       "    </tr>\n",
       "  </thead>\n",
       "  <tbody>\n",
       "    <tr>\n",
       "      <th>0</th>\n",
       "      <td>1</td>\n",
       "      <td>8437.673028</td>\n",
       "      <td>42</td>\n",
       "      <td>0</td>\n",
       "      <td>0</td>\n",
       "      <td>F</td>\n",
       "      <td>сотрудник</td>\n",
       "      <td>0</td>\n",
       "      <td>253875</td>\n",
       "      <td>покупка жилья</td>\n",
       "      <td>B</td>\n",
       "    </tr>\n",
       "    <tr>\n",
       "      <th>1</th>\n",
       "      <td>1</td>\n",
       "      <td>4024.803754</td>\n",
       "      <td>36</td>\n",
       "      <td>1</td>\n",
       "      <td>0</td>\n",
       "      <td>F</td>\n",
       "      <td>сотрудник</td>\n",
       "      <td>0</td>\n",
       "      <td>112080</td>\n",
       "      <td>приобретение автомобиля</td>\n",
       "      <td>C</td>\n",
       "    </tr>\n",
       "    <tr>\n",
       "      <th>2</th>\n",
       "      <td>0</td>\n",
       "      <td>5623.422610</td>\n",
       "      <td>33</td>\n",
       "      <td>1</td>\n",
       "      <td>0</td>\n",
       "      <td>M</td>\n",
       "      <td>сотрудник</td>\n",
       "      <td>0</td>\n",
       "      <td>145885</td>\n",
       "      <td>покупка жилья</td>\n",
       "      <td>C</td>\n",
       "    </tr>\n",
       "    <tr>\n",
       "      <th>3</th>\n",
       "      <td>3</td>\n",
       "      <td>4124.747207</td>\n",
       "      <td>32</td>\n",
       "      <td>1</td>\n",
       "      <td>0</td>\n",
       "      <td>M</td>\n",
       "      <td>сотрудник</td>\n",
       "      <td>0</td>\n",
       "      <td>267628</td>\n",
       "      <td>дополнительное образование</td>\n",
       "      <td>B</td>\n",
       "    </tr>\n",
       "    <tr>\n",
       "      <th>4</th>\n",
       "      <td>0</td>\n",
       "      <td>14177.753002</td>\n",
       "      <td>53</td>\n",
       "      <td>1</td>\n",
       "      <td>1</td>\n",
       "      <td>F</td>\n",
       "      <td>пенсионер</td>\n",
       "      <td>0</td>\n",
       "      <td>158616</td>\n",
       "      <td>сыграть свадьбу</td>\n",
       "      <td>C</td>\n",
       "    </tr>\n",
       "    <tr>\n",
       "      <th>5</th>\n",
       "      <td>0</td>\n",
       "      <td>926.185831</td>\n",
       "      <td>27</td>\n",
       "      <td>0</td>\n",
       "      <td>1</td>\n",
       "      <td>M</td>\n",
       "      <td>компаньон</td>\n",
       "      <td>0</td>\n",
       "      <td>255763</td>\n",
       "      <td>покупка жилья</td>\n",
       "      <td>B</td>\n",
       "    </tr>\n",
       "    <tr>\n",
       "      <th>6</th>\n",
       "      <td>0</td>\n",
       "      <td>2879.202052</td>\n",
       "      <td>43</td>\n",
       "      <td>0</td>\n",
       "      <td>0</td>\n",
       "      <td>F</td>\n",
       "      <td>компаньон</td>\n",
       "      <td>0</td>\n",
       "      <td>240525</td>\n",
       "      <td>операции с жильем</td>\n",
       "      <td>B</td>\n",
       "    </tr>\n",
       "    <tr>\n",
       "      <th>7</th>\n",
       "      <td>0</td>\n",
       "      <td>152.779569</td>\n",
       "      <td>50</td>\n",
       "      <td>1</td>\n",
       "      <td>0</td>\n",
       "      <td>M</td>\n",
       "      <td>сотрудник</td>\n",
       "      <td>0</td>\n",
       "      <td>135823</td>\n",
       "      <td>образование</td>\n",
       "      <td>C</td>\n",
       "    </tr>\n",
       "    <tr>\n",
       "      <th>8</th>\n",
       "      <td>2</td>\n",
       "      <td>6929.865299</td>\n",
       "      <td>35</td>\n",
       "      <td>0</td>\n",
       "      <td>1</td>\n",
       "      <td>F</td>\n",
       "      <td>сотрудник</td>\n",
       "      <td>0</td>\n",
       "      <td>95856</td>\n",
       "      <td>на проведение свадьбы</td>\n",
       "      <td>C</td>\n",
       "    </tr>\n",
       "    <tr>\n",
       "      <th>9</th>\n",
       "      <td>0</td>\n",
       "      <td>2188.756445</td>\n",
       "      <td>41</td>\n",
       "      <td>1</td>\n",
       "      <td>0</td>\n",
       "      <td>M</td>\n",
       "      <td>сотрудник</td>\n",
       "      <td>0</td>\n",
       "      <td>144425</td>\n",
       "      <td>покупка жилья для семьи</td>\n",
       "      <td>C</td>\n",
       "    </tr>\n",
       "  </tbody>\n",
       "</table>\n",
       "</div>"
      ],
      "text/plain": [
       "   children  days_employed  dob_years  education_id  family_status_id gender  \\\n",
       "0         1    8437.673028         42             0                 0      F   \n",
       "1         1    4024.803754         36             1                 0      F   \n",
       "2         0    5623.422610         33             1                 0      M   \n",
       "3         3    4124.747207         32             1                 0      M   \n",
       "4         0   14177.753002         53             1                 1      F   \n",
       "5         0     926.185831         27             0                 1      M   \n",
       "6         0    2879.202052         43             0                 0      F   \n",
       "7         0     152.779569         50             1                 0      M   \n",
       "8         2    6929.865299         35             0                 1      F   \n",
       "9         0    2188.756445         41             1                 0      M   \n",
       "\n",
       "  income_type  debt  total_income                     purpose  \\\n",
       "0   сотрудник     0        253875               покупка жилья   \n",
       "1   сотрудник     0        112080     приобретение автомобиля   \n",
       "2   сотрудник     0        145885               покупка жилья   \n",
       "3   сотрудник     0        267628  дополнительное образование   \n",
       "4   пенсионер     0        158616             сыграть свадьбу   \n",
       "5   компаньон     0        255763               покупка жилья   \n",
       "6   компаньон     0        240525           операции с жильем   \n",
       "7   сотрудник     0        135823                 образование   \n",
       "8   сотрудник     0         95856       на проведение свадьбы   \n",
       "9   сотрудник     0        144425     покупка жилья для семьи   \n",
       "\n",
       "  total_income_category  \n",
       "0                     B  \n",
       "1                     C  \n",
       "2                     C  \n",
       "3                     B  \n",
       "4                     C  \n",
       "5                     B  \n",
       "6                     B  \n",
       "7                     C  \n",
       "8                     C  \n",
       "9                     C  "
      ]
     },
     "metadata": {},
     "output_type": "display_data"
    }
   ],
   "source": [
    "def income_cat(total_income):\n",
    "    if total_income<=30000:\n",
    "        return 'E'\n",
    "    if 30001<=total_income<=50000:\n",
    "        return 'D'\n",
    "    if 50001<=total_income<=200000:\n",
    "        return 'C'\n",
    "    if 200001<=total_income<=1000000:\n",
    "        return 'B'\n",
    "    if total_income>=1000001:\n",
    "        return 'A'\n",
    "df['total_income_category']=df['total_income'].apply(income_cat)\n",
    "display(df.head(10))"
   ]
  },
  {
   "cell_type": "markdown",
   "id": "a3928440",
   "metadata": {},
   "source": [
    "\n",
    "    "
   ]
  },
  {
   "cell_type": "markdown",
   "id": "2c031005",
   "metadata": {},
   "source": [
    "### Шаг 2.7. Категоризация целей кредита."
   ]
  },
  {
   "cell_type": "markdown",
   "id": "24b664dc",
   "metadata": {},
   "source": [
    "Аналогично создадим функцию категоризации цели займа. Для этого, предварительно, определим все уникальные значения в данном столбце:\n"
   ]
  },
  {
   "cell_type": "code",
   "execution_count": 24,
   "id": "4358142f",
   "metadata": {},
   "outputs": [
    {
     "data": {
      "text/plain": [
       "array(['покупка жилья', 'приобретение автомобиля',\n",
       "       'дополнительное образование', 'сыграть свадьбу',\n",
       "       'операции с жильем', 'образование', 'на проведение свадьбы',\n",
       "       'покупка жилья для семьи', 'покупка недвижимости',\n",
       "       'покупка коммерческой недвижимости', 'покупка жилой недвижимости',\n",
       "       'строительство собственной недвижимости', 'недвижимость',\n",
       "       'строительство недвижимости', 'на покупку подержанного автомобиля',\n",
       "       'на покупку своего автомобиля',\n",
       "       'операции с коммерческой недвижимостью',\n",
       "       'строительство жилой недвижимости', 'жилье',\n",
       "       'операции со своей недвижимостью', 'автомобили',\n",
       "       'заняться образованием', 'сделка с подержанным автомобилем',\n",
       "       'получение образования', 'автомобиль', 'свадьба',\n",
       "       'получение дополнительного образования', 'покупка своего жилья',\n",
       "       'операции с недвижимостью', 'получение высшего образования',\n",
       "       'свой автомобиль', 'сделка с автомобилем',\n",
       "       'профильное образование', 'высшее образование',\n",
       "       'покупка жилья для сдачи', 'на покупку автомобиля', 'ремонт жилью',\n",
       "       'заняться высшим образованием'], dtype=object)"
      ]
     },
     "execution_count": 24,
     "metadata": {},
     "output_type": "execute_result"
    }
   ],
   "source": [
    "df['purpose'].unique()"
   ]
  },
  {
   "cell_type": "markdown",
   "id": "9ca25ebf",
   "metadata": {},
   "source": [
    "Исходя из перечня уникальных значений, для категоризации целей необходимо, чтобы они содержали следуюшие значения:\n",
    "<br> 'операции с автомобилем' - 'авто'\n",
    "<br> 'операции с недвижимостью' - 'недв', 'жил'\n",
    "<br> 'проведение свадьбы' - 'свадьб'\n",
    "<br> 'получение образования' - 'образ'"
   ]
  },
  {
   "cell_type": "markdown",
   "id": "51140fb5",
   "metadata": {},
   "source": [
    "Напишем соответствующую функцию категоризации и добавим столбец в датафрейм"
   ]
  },
  {
   "cell_type": "code",
   "execution_count": 25,
   "id": "f997cc50",
   "metadata": {},
   "outputs": [
    {
     "data": {
      "text/html": [
       "<div>\n",
       "<style scoped>\n",
       "    .dataframe tbody tr th:only-of-type {\n",
       "        vertical-align: middle;\n",
       "    }\n",
       "\n",
       "    .dataframe tbody tr th {\n",
       "        vertical-align: top;\n",
       "    }\n",
       "\n",
       "    .dataframe thead th {\n",
       "        text-align: right;\n",
       "    }\n",
       "</style>\n",
       "<table border=\"1\" class=\"dataframe\">\n",
       "  <thead>\n",
       "    <tr style=\"text-align: right;\">\n",
       "      <th></th>\n",
       "      <th>children</th>\n",
       "      <th>days_employed</th>\n",
       "      <th>dob_years</th>\n",
       "      <th>education_id</th>\n",
       "      <th>family_status_id</th>\n",
       "      <th>gender</th>\n",
       "      <th>income_type</th>\n",
       "      <th>debt</th>\n",
       "      <th>total_income</th>\n",
       "      <th>purpose</th>\n",
       "      <th>total_income_category</th>\n",
       "      <th>purpose_category</th>\n",
       "    </tr>\n",
       "  </thead>\n",
       "  <tbody>\n",
       "    <tr>\n",
       "      <th>0</th>\n",
       "      <td>1</td>\n",
       "      <td>8437.673028</td>\n",
       "      <td>42</td>\n",
       "      <td>0</td>\n",
       "      <td>0</td>\n",
       "      <td>F</td>\n",
       "      <td>сотрудник</td>\n",
       "      <td>0</td>\n",
       "      <td>253875</td>\n",
       "      <td>покупка жилья</td>\n",
       "      <td>B</td>\n",
       "      <td>операции с недвижимостью</td>\n",
       "    </tr>\n",
       "    <tr>\n",
       "      <th>1</th>\n",
       "      <td>1</td>\n",
       "      <td>4024.803754</td>\n",
       "      <td>36</td>\n",
       "      <td>1</td>\n",
       "      <td>0</td>\n",
       "      <td>F</td>\n",
       "      <td>сотрудник</td>\n",
       "      <td>0</td>\n",
       "      <td>112080</td>\n",
       "      <td>приобретение автомобиля</td>\n",
       "      <td>C</td>\n",
       "      <td>операции с автомобилем</td>\n",
       "    </tr>\n",
       "    <tr>\n",
       "      <th>2</th>\n",
       "      <td>0</td>\n",
       "      <td>5623.422610</td>\n",
       "      <td>33</td>\n",
       "      <td>1</td>\n",
       "      <td>0</td>\n",
       "      <td>M</td>\n",
       "      <td>сотрудник</td>\n",
       "      <td>0</td>\n",
       "      <td>145885</td>\n",
       "      <td>покупка жилья</td>\n",
       "      <td>C</td>\n",
       "      <td>операции с недвижимостью</td>\n",
       "    </tr>\n",
       "    <tr>\n",
       "      <th>3</th>\n",
       "      <td>3</td>\n",
       "      <td>4124.747207</td>\n",
       "      <td>32</td>\n",
       "      <td>1</td>\n",
       "      <td>0</td>\n",
       "      <td>M</td>\n",
       "      <td>сотрудник</td>\n",
       "      <td>0</td>\n",
       "      <td>267628</td>\n",
       "      <td>дополнительное образование</td>\n",
       "      <td>B</td>\n",
       "      <td>получение образования</td>\n",
       "    </tr>\n",
       "    <tr>\n",
       "      <th>4</th>\n",
       "      <td>0</td>\n",
       "      <td>14177.753002</td>\n",
       "      <td>53</td>\n",
       "      <td>1</td>\n",
       "      <td>1</td>\n",
       "      <td>F</td>\n",
       "      <td>пенсионер</td>\n",
       "      <td>0</td>\n",
       "      <td>158616</td>\n",
       "      <td>сыграть свадьбу</td>\n",
       "      <td>C</td>\n",
       "      <td>проведение свадьбы</td>\n",
       "    </tr>\n",
       "    <tr>\n",
       "      <th>5</th>\n",
       "      <td>0</td>\n",
       "      <td>926.185831</td>\n",
       "      <td>27</td>\n",
       "      <td>0</td>\n",
       "      <td>1</td>\n",
       "      <td>M</td>\n",
       "      <td>компаньон</td>\n",
       "      <td>0</td>\n",
       "      <td>255763</td>\n",
       "      <td>покупка жилья</td>\n",
       "      <td>B</td>\n",
       "      <td>операции с недвижимостью</td>\n",
       "    </tr>\n",
       "    <tr>\n",
       "      <th>6</th>\n",
       "      <td>0</td>\n",
       "      <td>2879.202052</td>\n",
       "      <td>43</td>\n",
       "      <td>0</td>\n",
       "      <td>0</td>\n",
       "      <td>F</td>\n",
       "      <td>компаньон</td>\n",
       "      <td>0</td>\n",
       "      <td>240525</td>\n",
       "      <td>операции с жильем</td>\n",
       "      <td>B</td>\n",
       "      <td>операции с недвижимостью</td>\n",
       "    </tr>\n",
       "    <tr>\n",
       "      <th>7</th>\n",
       "      <td>0</td>\n",
       "      <td>152.779569</td>\n",
       "      <td>50</td>\n",
       "      <td>1</td>\n",
       "      <td>0</td>\n",
       "      <td>M</td>\n",
       "      <td>сотрудник</td>\n",
       "      <td>0</td>\n",
       "      <td>135823</td>\n",
       "      <td>образование</td>\n",
       "      <td>C</td>\n",
       "      <td>получение образования</td>\n",
       "    </tr>\n",
       "    <tr>\n",
       "      <th>8</th>\n",
       "      <td>2</td>\n",
       "      <td>6929.865299</td>\n",
       "      <td>35</td>\n",
       "      <td>0</td>\n",
       "      <td>1</td>\n",
       "      <td>F</td>\n",
       "      <td>сотрудник</td>\n",
       "      <td>0</td>\n",
       "      <td>95856</td>\n",
       "      <td>на проведение свадьбы</td>\n",
       "      <td>C</td>\n",
       "      <td>проведение свадьбы</td>\n",
       "    </tr>\n",
       "    <tr>\n",
       "      <th>9</th>\n",
       "      <td>0</td>\n",
       "      <td>2188.756445</td>\n",
       "      <td>41</td>\n",
       "      <td>1</td>\n",
       "      <td>0</td>\n",
       "      <td>M</td>\n",
       "      <td>сотрудник</td>\n",
       "      <td>0</td>\n",
       "      <td>144425</td>\n",
       "      <td>покупка жилья для семьи</td>\n",
       "      <td>C</td>\n",
       "      <td>операции с недвижимостью</td>\n",
       "    </tr>\n",
       "  </tbody>\n",
       "</table>\n",
       "</div>"
      ],
      "text/plain": [
       "   children  days_employed  dob_years  education_id  family_status_id gender  \\\n",
       "0         1    8437.673028         42             0                 0      F   \n",
       "1         1    4024.803754         36             1                 0      F   \n",
       "2         0    5623.422610         33             1                 0      M   \n",
       "3         3    4124.747207         32             1                 0      M   \n",
       "4         0   14177.753002         53             1                 1      F   \n",
       "5         0     926.185831         27             0                 1      M   \n",
       "6         0    2879.202052         43             0                 0      F   \n",
       "7         0     152.779569         50             1                 0      M   \n",
       "8         2    6929.865299         35             0                 1      F   \n",
       "9         0    2188.756445         41             1                 0      M   \n",
       "\n",
       "  income_type  debt  total_income                     purpose  \\\n",
       "0   сотрудник     0        253875               покупка жилья   \n",
       "1   сотрудник     0        112080     приобретение автомобиля   \n",
       "2   сотрудник     0        145885               покупка жилья   \n",
       "3   сотрудник     0        267628  дополнительное образование   \n",
       "4   пенсионер     0        158616             сыграть свадьбу   \n",
       "5   компаньон     0        255763               покупка жилья   \n",
       "6   компаньон     0        240525           операции с жильем   \n",
       "7   сотрудник     0        135823                 образование   \n",
       "8   сотрудник     0         95856       на проведение свадьбы   \n",
       "9   сотрудник     0        144425     покупка жилья для семьи   \n",
       "\n",
       "  total_income_category          purpose_category  \n",
       "0                     B  операции с недвижимостью  \n",
       "1                     C    операции с автомобилем  \n",
       "2                     C  операции с недвижимостью  \n",
       "3                     B     получение образования  \n",
       "4                     C        проведение свадьбы  \n",
       "5                     B  операции с недвижимостью  \n",
       "6                     B  операции с недвижимостью  \n",
       "7                     C     получение образования  \n",
       "8                     C        проведение свадьбы  \n",
       "9                     C  операции с недвижимостью  "
      ]
     },
     "metadata": {},
     "output_type": "display_data"
    }
   ],
   "source": [
    "def purpose_cat(purpose):\n",
    "    if 'авто' in purpose:\n",
    "        return 'операции с автомобилем'\n",
    "    if 'недв' in purpose or 'жил' in purpose:\n",
    "        return 'операции с недвижимостью'\n",
    "    if 'свадьб' in purpose:\n",
    "        return 'проведение свадьбы'\n",
    "    if 'образ' in purpose:\n",
    "        return 'получение образования'\n",
    "df['purpose_category']=df['purpose'].apply(purpose_cat)\n",
    "display(df.head(10))"
   ]
  },
  {
   "cell_type": "markdown",
   "id": "390b2daa",
   "metadata": {},
   "source": [
    "### Ответы на вопросы."
   ]
  },
  {
   "cell_type": "markdown",
   "id": "220a5ca4",
   "metadata": {},
   "source": [
    "##### Вопрос 1:Есть ли зависимость между количеством детей и возвратом кредита в срок?"
   ]
  },
  {
   "cell_type": "markdown",
   "id": "99f9d154",
   "metadata": {},
   "source": [
    "Определим максимальное количество детей среди заёмщиков:"
   ]
  },
  {
   "cell_type": "code",
   "execution_count": 26,
   "id": "22f21bcf",
   "metadata": {},
   "outputs": [
    {
     "data": {
      "text/plain": [
       "array([ 1,  0,  3,  2, -1,  4, 20,  5])"
      ]
     },
     "execution_count": 26,
     "metadata": {},
     "output_type": "execute_result"
    }
   ],
   "source": [
    "df['children'].unique()"
   ]
  },
  {
   "cell_type": "markdown",
   "id": "8a636ea7",
   "metadata": {},
   "source": [
    "Очевидно, в данных о количестве детей также есть аномалии - присутствуют отрицательные значения и неправдоподобно большшое число - 20. Возьмем значения по модулю, а значение 20 заменим на 2, т.к. это вероятнеее всего опечатка"
   ]
  },
  {
   "cell_type": "code",
   "execution_count": 27,
   "id": "1f167637",
   "metadata": {},
   "outputs": [
    {
     "data": {
      "text/plain": [
       "array([1, 0, 3, 2, 4, 5])"
      ]
     },
     "execution_count": 27,
     "metadata": {},
     "output_type": "execute_result"
    }
   ],
   "source": [
    "df['children']=abs(df['children'])\n",
    "df.loc[df['children']==20,'children']=2\n",
    "df['children'].unique()"
   ]
  },
  {
   "cell_type": "code",
   "execution_count": 28,
   "id": "26a17ee6",
   "metadata": {},
   "outputs": [
    {
     "name": "stdout",
     "output_type": "stream",
     "text": [
      "без детей    1063\n",
      "1 ребенок     445\n",
      "2 ребенка     202\n",
      "3 ребенка      27\n",
      "4 ребенка       4\n",
      "Name: children_debt, dtype: int64\n",
      "0    14091\n",
      "1     4855\n",
      "2     2128\n",
      "3      330\n",
      "4       41\n",
      "5        9\n",
      "Name: children, dtype: int64\n"
     ]
    }
   ],
   "source": [
    "def children_debt(row):\n",
    "    children = row['children']\n",
    "    debt = row['debt']\n",
    "    if debt ==1:\n",
    "        if children == 0:\n",
    "            return 'без детей'\n",
    "        if children == 1:\n",
    "            return '1 ребенок'\n",
    "        if children == 2:\n",
    "            return '2 ребенка'\n",
    "        if children == 3:\n",
    "            return '3 ребенка'\n",
    "        if children == 4:\n",
    "            return '4 ребенка'\n",
    "        if children == 5:\n",
    "            return '5 детей'\n",
    "df['children_debt'] = df.apply(children_debt, axis=1)\n",
    "print(df['children_debt'].value_counts()) \n",
    "print(df['children'].value_counts())\n"
   ]
  },
  {
   "cell_type": "markdown",
   "id": "50f385d4",
   "metadata": {},
   "source": [
    "Сведем итоговый датафрейм и посчитаем долю просроченных кредитов по категориям."
   ]
  },
  {
   "cell_type": "code",
   "execution_count": 29,
   "id": "79bd58c5",
   "metadata": {},
   "outputs": [
    {
     "data": {
      "text/html": [
       "<div>\n",
       "<style scoped>\n",
       "    .dataframe tbody tr th:only-of-type {\n",
       "        vertical-align: middle;\n",
       "    }\n",
       "\n",
       "    .dataframe tbody tr th {\n",
       "        vertical-align: top;\n",
       "    }\n",
       "\n",
       "    .dataframe thead th {\n",
       "        text-align: right;\n",
       "    }\n",
       "</style>\n",
       "<table border=\"1\" class=\"dataframe\">\n",
       "  <thead>\n",
       "    <tr style=\"text-align: right;\">\n",
       "      <th></th>\n",
       "      <th>всего взяли кредит</th>\n",
       "      <th>из них просрочено</th>\n",
       "      <th>доля просроченных</th>\n",
       "    </tr>\n",
       "    <tr>\n",
       "      <th>children</th>\n",
       "      <th></th>\n",
       "      <th></th>\n",
       "      <th></th>\n",
       "    </tr>\n",
       "  </thead>\n",
       "  <tbody>\n",
       "    <tr>\n",
       "      <th>0</th>\n",
       "      <td>14091</td>\n",
       "      <td>1063</td>\n",
       "      <td>0.075438</td>\n",
       "    </tr>\n",
       "    <tr>\n",
       "      <th>1</th>\n",
       "      <td>4855</td>\n",
       "      <td>445</td>\n",
       "      <td>0.091658</td>\n",
       "    </tr>\n",
       "    <tr>\n",
       "      <th>2</th>\n",
       "      <td>2128</td>\n",
       "      <td>202</td>\n",
       "      <td>0.094925</td>\n",
       "    </tr>\n",
       "    <tr>\n",
       "      <th>3</th>\n",
       "      <td>330</td>\n",
       "      <td>27</td>\n",
       "      <td>0.081818</td>\n",
       "    </tr>\n",
       "    <tr>\n",
       "      <th>4</th>\n",
       "      <td>41</td>\n",
       "      <td>4</td>\n",
       "      <td>0.097561</td>\n",
       "    </tr>\n",
       "    <tr>\n",
       "      <th>5</th>\n",
       "      <td>9</td>\n",
       "      <td>0</td>\n",
       "      <td>0.000000</td>\n",
       "    </tr>\n",
       "  </tbody>\n",
       "</table>\n",
       "</div>"
      ],
      "text/plain": [
       "          всего взяли кредит  из них просрочено  доля просроченных\n",
       "children                                                          \n",
       "0                      14091               1063           0.075438\n",
       "1                       4855                445           0.091658\n",
       "2                       2128                202           0.094925\n",
       "3                        330                 27           0.081818\n",
       "4                         41                  4           0.097561\n",
       "5                          9                  0           0.000000"
      ]
     },
     "metadata": {},
     "output_type": "display_data"
    }
   ],
   "source": [
    "\n",
    "\n",
    "# через pivot\n",
    "table_children=df.pivot_table(index='children', values='debt',aggfunc=['count','sum'])\n",
    "table_children['debt share']=table_children['sum']/table_children['count']\n",
    "table_children.columns=['всего взяли кредит','из них просрочено', 'доля просроченных']\n",
    "display(table_children)"
   ]
  },
  {
   "cell_type": "code",
   "execution_count": 30,
   "id": "030e7318",
   "metadata": {},
   "outputs": [
    {
     "data": {
      "text/html": [
       "<div>\n",
       "<style scoped>\n",
       "    .dataframe tbody tr th:only-of-type {\n",
       "        vertical-align: middle;\n",
       "    }\n",
       "\n",
       "    .dataframe tbody tr th {\n",
       "        vertical-align: top;\n",
       "    }\n",
       "\n",
       "    .dataframe thead th {\n",
       "        text-align: right;\n",
       "    }\n",
       "</style>\n",
       "<table border=\"1\" class=\"dataframe\">\n",
       "  <thead>\n",
       "    <tr style=\"text-align: right;\">\n",
       "      <th></th>\n",
       "      <th>count</th>\n",
       "      <th>sum</th>\n",
       "      <th>mean</th>\n",
       "    </tr>\n",
       "    <tr>\n",
       "      <th>children</th>\n",
       "      <th></th>\n",
       "      <th></th>\n",
       "      <th></th>\n",
       "    </tr>\n",
       "  </thead>\n",
       "  <tbody>\n",
       "    <tr>\n",
       "      <th>0</th>\n",
       "      <td>14091</td>\n",
       "      <td>1063</td>\n",
       "      <td>0.075438</td>\n",
       "    </tr>\n",
       "    <tr>\n",
       "      <th>1</th>\n",
       "      <td>4855</td>\n",
       "      <td>445</td>\n",
       "      <td>0.091658</td>\n",
       "    </tr>\n",
       "    <tr>\n",
       "      <th>2</th>\n",
       "      <td>2128</td>\n",
       "      <td>202</td>\n",
       "      <td>0.094925</td>\n",
       "    </tr>\n",
       "    <tr>\n",
       "      <th>3</th>\n",
       "      <td>330</td>\n",
       "      <td>27</td>\n",
       "      <td>0.081818</td>\n",
       "    </tr>\n",
       "    <tr>\n",
       "      <th>4</th>\n",
       "      <td>41</td>\n",
       "      <td>4</td>\n",
       "      <td>0.097561</td>\n",
       "    </tr>\n",
       "    <tr>\n",
       "      <th>5</th>\n",
       "      <td>9</td>\n",
       "      <td>0</td>\n",
       "      <td>0.000000</td>\n",
       "    </tr>\n",
       "  </tbody>\n",
       "</table>\n",
       "</div>"
      ],
      "text/plain": [
       "          count   sum      mean\n",
       "children                       \n",
       "0         14091  1063  0.075438\n",
       "1          4855   445  0.091658\n",
       "2          2128   202  0.094925\n",
       "3           330    27  0.081818\n",
       "4            41     4  0.097561\n",
       "5             9     0  0.000000"
      ]
     },
     "execution_count": 30,
     "metadata": {},
     "output_type": "execute_result"
    }
   ],
   "source": [
    "# \n",
    "\n",
    "df.groupby('children')['debt'].agg(['count','sum','mean'])"
   ]
  },
  {
   "cell_type": "code",
   "execution_count": 31,
   "id": "e70809d2",
   "metadata": {},
   "outputs": [
    {
     "data": {
      "text/html": [
       "<div>\n",
       "<style scoped>\n",
       "    .dataframe tbody tr th:only-of-type {\n",
       "        vertical-align: middle;\n",
       "    }\n",
       "\n",
       "    .dataframe tbody tr th {\n",
       "        vertical-align: top;\n",
       "    }\n",
       "\n",
       "    .dataframe thead th {\n",
       "        text-align: right;\n",
       "    }\n",
       "</style>\n",
       "<table border=\"1\" class=\"dataframe\">\n",
       "  <thead>\n",
       "    <tr style=\"text-align: right;\">\n",
       "      <th></th>\n",
       "      <th>count</th>\n",
       "      <th>sum</th>\n",
       "      <th>my_mean</th>\n",
       "    </tr>\n",
       "    <tr>\n",
       "      <th>children</th>\n",
       "      <th></th>\n",
       "      <th></th>\n",
       "      <th></th>\n",
       "    </tr>\n",
       "  </thead>\n",
       "  <tbody>\n",
       "    <tr>\n",
       "      <th>0</th>\n",
       "      <td>14091</td>\n",
       "      <td>1063</td>\n",
       "      <td>7.543822</td>\n",
       "    </tr>\n",
       "    <tr>\n",
       "      <th>1</th>\n",
       "      <td>4855</td>\n",
       "      <td>445</td>\n",
       "      <td>9.165808</td>\n",
       "    </tr>\n",
       "    <tr>\n",
       "      <th>2</th>\n",
       "      <td>2128</td>\n",
       "      <td>202</td>\n",
       "      <td>9.492481</td>\n",
       "    </tr>\n",
       "    <tr>\n",
       "      <th>3</th>\n",
       "      <td>330</td>\n",
       "      <td>27</td>\n",
       "      <td>8.181818</td>\n",
       "    </tr>\n",
       "    <tr>\n",
       "      <th>4</th>\n",
       "      <td>41</td>\n",
       "      <td>4</td>\n",
       "      <td>9.756098</td>\n",
       "    </tr>\n",
       "    <tr>\n",
       "      <th>5</th>\n",
       "      <td>9</td>\n",
       "      <td>0</td>\n",
       "      <td>0.000000</td>\n",
       "    </tr>\n",
       "  </tbody>\n",
       "</table>\n",
       "</div>"
      ],
      "text/plain": [
       "          count   sum   my_mean\n",
       "children                       \n",
       "0         14091  1063  7.543822\n",
       "1          4855   445  9.165808\n",
       "2          2128   202  9.492481\n",
       "3           330    27  8.181818\n",
       "4            41     4  9.756098\n",
       "5             9     0  0.000000"
      ]
     },
     "execution_count": 31,
     "metadata": {},
     "output_type": "execute_result"
    }
   ],
   "source": [
    "# \n",
    "\n",
    "def my_mean(x): return x.mean()*100\n",
    "\n",
    "# В кач-ве агрегирования можно любую функцию брать.\n",
    "df.groupby('children')['debt'].agg(['count', 'sum', my_mean])"
   ]
  },
  {
   "cell_type": "code",
   "execution_count": 32,
   "id": "2bbbee8b",
   "metadata": {},
   "outputs": [
    {
     "data": {
      "text/html": [
       "<div>\n",
       "<style scoped>\n",
       "    .dataframe tbody tr th:only-of-type {\n",
       "        vertical-align: middle;\n",
       "    }\n",
       "\n",
       "    .dataframe tbody tr th {\n",
       "        vertical-align: top;\n",
       "    }\n",
       "\n",
       "    .dataframe thead th {\n",
       "        text-align: right;\n",
       "    }\n",
       "</style>\n",
       "<table border=\"1\" class=\"dataframe\">\n",
       "  <thead>\n",
       "    <tr style=\"text-align: right;\">\n",
       "      <th></th>\n",
       "      <th>count</th>\n",
       "      <th>sum</th>\n",
       "      <th>my_mean</th>\n",
       "    </tr>\n",
       "    <tr>\n",
       "      <th>children</th>\n",
       "      <th></th>\n",
       "      <th></th>\n",
       "      <th></th>\n",
       "    </tr>\n",
       "  </thead>\n",
       "  <tbody>\n",
       "    <tr>\n",
       "      <th>0</th>\n",
       "      <td>14091</td>\n",
       "      <td>1063</td>\n",
       "      <td>7.54%</td>\n",
       "    </tr>\n",
       "    <tr>\n",
       "      <th>1</th>\n",
       "      <td>4855</td>\n",
       "      <td>445</td>\n",
       "      <td>9.17%</td>\n",
       "    </tr>\n",
       "    <tr>\n",
       "      <th>2</th>\n",
       "      <td>2128</td>\n",
       "      <td>202</td>\n",
       "      <td>9.49%</td>\n",
       "    </tr>\n",
       "    <tr>\n",
       "      <th>3</th>\n",
       "      <td>330</td>\n",
       "      <td>27</td>\n",
       "      <td>8.18%</td>\n",
       "    </tr>\n",
       "    <tr>\n",
       "      <th>4</th>\n",
       "      <td>41</td>\n",
       "      <td>4</td>\n",
       "      <td>9.76%</td>\n",
       "    </tr>\n",
       "    <tr>\n",
       "      <th>5</th>\n",
       "      <td>9</td>\n",
       "      <td>0</td>\n",
       "      <td>0.00%</td>\n",
       "    </tr>\n",
       "  </tbody>\n",
       "</table>\n",
       "</div>"
      ],
      "text/plain": [
       "          count   sum my_mean\n",
       "children                     \n",
       "0         14091  1063  7.54% \n",
       "1          4855   445  9.17% \n",
       "2          2128   202  9.49% \n",
       "3           330    27  8.18% \n",
       "4            41     4  9.76% \n",
       "5             9     0  0.00% "
      ]
     },
     "execution_count": 32,
     "metadata": {},
     "output_type": "execute_result"
    }
   ],
   "source": [
    "# \n",
    "\n",
    "def my_mean(x): return '{:.2%} '.format(x.mean())\n",
    "\n",
    "df.groupby('children')['debt'].agg(['count', 'sum', my_mean])"
   ]
  },
  {
   "cell_type": "markdown",
   "id": "ae32dfc2",
   "metadata": {},
   "source": [
    "##### Вывод 1:"
   ]
  },
  {
   "cell_type": "markdown",
   "id": "fdc1a015",
   "metadata": {},
   "source": [
    "Таким образом, получается, что наиболее отвественными (7,5% просроченных кредитов) являются заёмщики без детей, они же и представляют собой самую многочисленную группу заёмщиков. Наименее ответсвенными и допустивщими больше всего просрочек - многодетные заёмщики, имеющие 4 ребенка (9,8% просроченных платежей). Доля задолженности среди заемщиков, имеющих 1-2 ребенка примерно одинакова, но значительно выше, чем у заемщиков без детей. <br>Также, минимальная доля просроченных кредитов среди заёмщиков с детьми (3 ребёнка) значительно превышает аналогичный показатель для заёмщиков без детей. <br>Таким образом, можно говорить о тенденции, что наличие детей отрицательно влияет на возможность возврата кредита в срок"
   ]
  },
  {
   "cell_type": "markdown",
   "id": "127daab8",
   "metadata": {},
   "source": [
    "##### Вопрос 2:Есть ли зависимость между семейным положением и возвратом кредита в срок?"
   ]
  },
  {
   "cell_type": "markdown",
   "id": "f2355290",
   "metadata": {},
   "source": [
    "Определим количество просроченных кредитов в зависимости от семейного положения:"
   ]
  },
  {
   "cell_type": "code",
   "execution_count": 33,
   "id": "6589d1f8",
   "metadata": {},
   "outputs": [
    {
     "name": "stdout",
     "output_type": "stream",
     "text": [
      "женат / замужем          931\n",
      "гражданский брак         388\n",
      "Не женат / не замужем    274\n",
      "в разводе                 85\n",
      "вдовец / вдова            63\n",
      "Name: family_debt, dtype: int64\n",
      "0    12339\n",
      "1     4151\n",
      "4     2810\n",
      "3     1195\n",
      "2      959\n",
      "Name: family_status_id, dtype: int64\n"
     ]
    }
   ],
   "source": [
    "def family_debt(row):\n",
    "    family = row['family_status_id']\n",
    "    debt = row['debt']\n",
    "    if debt ==1:\n",
    "        if family == 0:\n",
    "            return 'женат / замужем'\n",
    "        if family == 1:\n",
    "            return 'гражданский брак'\n",
    "        if family == 2:\n",
    "            return 'вдовец / вдова'\n",
    "        if family == 3:\n",
    "            return 'в разводе'\n",
    "        if family == 4:\n",
    "            return 'Не женат / не замужем'\n",
    "df['family_debt'] = df.apply(family_debt, axis=1)\n",
    "print(df['family_debt'].value_counts()) \n",
    "print(df['family_status_id'].value_counts())"
   ]
  },
  {
   "cell_type": "markdown",
   "id": "bf1eeb1d",
   "metadata": {},
   "source": [
    "Сведем итоговый датафрейм и посчитаем долю просроченных кредитов по категориям."
   ]
  },
  {
   "cell_type": "code",
   "execution_count": 34,
   "id": "af341038",
   "metadata": {},
   "outputs": [
    {
     "data": {
      "text/html": [
       "<div>\n",
       "<style scoped>\n",
       "    .dataframe tbody tr th:only-of-type {\n",
       "        vertical-align: middle;\n",
       "    }\n",
       "\n",
       "    .dataframe tbody tr th {\n",
       "        vertical-align: top;\n",
       "    }\n",
       "\n",
       "    .dataframe thead th {\n",
       "        text-align: right;\n",
       "    }\n",
       "</style>\n",
       "<table border=\"1\" class=\"dataframe\">\n",
       "  <thead>\n",
       "    <tr style=\"text-align: right;\">\n",
       "      <th></th>\n",
       "      <th>family_status</th>\n",
       "      <th>всего взяли кредит</th>\n",
       "      <th>из них просрочено</th>\n",
       "      <th>доля просроченных</th>\n",
       "    </tr>\n",
       "  </thead>\n",
       "  <tbody>\n",
       "    <tr>\n",
       "      <th>0</th>\n",
       "      <td>женат / замужем</td>\n",
       "      <td>12339</td>\n",
       "      <td>931</td>\n",
       "      <td>0.075452</td>\n",
       "    </tr>\n",
       "    <tr>\n",
       "      <th>1</th>\n",
       "      <td>гражданский брак</td>\n",
       "      <td>4151</td>\n",
       "      <td>388</td>\n",
       "      <td>0.093471</td>\n",
       "    </tr>\n",
       "    <tr>\n",
       "      <th>2</th>\n",
       "      <td>вдовец / вдова</td>\n",
       "      <td>959</td>\n",
       "      <td>63</td>\n",
       "      <td>0.065693</td>\n",
       "    </tr>\n",
       "    <tr>\n",
       "      <th>3</th>\n",
       "      <td>в разводе</td>\n",
       "      <td>1195</td>\n",
       "      <td>85</td>\n",
       "      <td>0.071130</td>\n",
       "    </tr>\n",
       "    <tr>\n",
       "      <th>4</th>\n",
       "      <td>Не женат / не замужем</td>\n",
       "      <td>2810</td>\n",
       "      <td>274</td>\n",
       "      <td>0.097509</td>\n",
       "    </tr>\n",
       "  </tbody>\n",
       "</table>\n",
       "</div>"
      ],
      "text/plain": [
       "           family_status  всего взяли кредит  из них просрочено  \\\n",
       "0        женат / замужем               12339                931   \n",
       "1       гражданский брак                4151                388   \n",
       "2         вдовец / вдова                 959                 63   \n",
       "3              в разводе                1195                 85   \n",
       "4  Не женат / не замужем                2810                274   \n",
       "\n",
       "   доля просроченных  \n",
       "0           0.075452  \n",
       "1           0.093471  \n",
       "2           0.065693  \n",
       "3           0.071130  \n",
       "4           0.097509  "
      ]
     },
     "metadata": {},
     "output_type": "display_data"
    }
   ],
   "source": [
    "\n",
    "\n",
    "# через pivot\n",
    "table_family=df.pivot_table(index='family_status_id', values='debt',aggfunc=['count','sum'])\n",
    "table_family['debt share']=table_family['sum']/table_family['count']\n",
    "table_family.columns=['всего взяли кредит','из них просрочено', 'доля просроченных']\n",
    "table_family1=family_log.join(table_family) #объединим со словарем\n",
    "table_family1=table_family1.drop(columns=['family_status_id'],axis=1) #уберем колонку с id\n",
    "display(table_family1)"
   ]
  },
  {
   "cell_type": "markdown",
   "id": "a1b8134a",
   "metadata": {},
   "source": [
    "##### Вывод 2:\n",
    "Наименее отвественными являются холостые заемщики и заемщики, проживающие в граданском браке (9,7% и и 9,3% просроченных платежей, соответственно). Среди остальных групп заемщиков, которе включают в себя женатых в настоящий момент, либо женатых в прошлом, доля просроченных кредитов значительно ниже. Безусловно, этот показатель также должен коррелировать с возрастом и уровнем и стабильностью дохода - женатые старше и имеют больший стабильный доход. Но по результатам данного сравнения неженатые/незамужние клиенты являются менее надежными заёмщиками."
   ]
  },
  {
   "cell_type": "markdown",
   "id": "fc89fb18",
   "metadata": {},
   "source": [
    "##### Вопрос 3:Есть ли зависимость между уровнем дохода и возвратом кредита в срок?"
   ]
  },
  {
   "cell_type": "markdown",
   "id": "04b38dd5",
   "metadata": {},
   "source": [
    "Определим количество просроченных кредитов в зависимости от уровня дохода:"
   ]
  },
  {
   "cell_type": "code",
   "execution_count": 35,
   "id": "4a763a9c",
   "metadata": {},
   "outputs": [
    {
     "name": "stdout",
     "output_type": "stream",
     "text": [
      "C    1360\n",
      "B     356\n",
      "D      21\n",
      "A       2\n",
      "E       2\n",
      "Name: income_debt, dtype: int64\n",
      "C    16016\n",
      "B     5041\n",
      "D      350\n",
      "A       25\n",
      "E       22\n",
      "Name: total_income_category, dtype: int64\n"
     ]
    }
   ],
   "source": [
    "def income_debt(row):\n",
    "    income = row['total_income_category']\n",
    "    debt = row['debt']\n",
    "    if debt ==1:\n",
    "        if income == 'A':\n",
    "            return 'A'\n",
    "        if income == 'B':\n",
    "            return 'B'\n",
    "        if income == 'C':\n",
    "            return 'C'\n",
    "        if income == 'D':\n",
    "            return 'D'\n",
    "        if income == 'E':\n",
    "            return 'E'\n",
    "df['income_debt'] = df.apply(income_debt, axis=1)\n",
    "print(df['income_debt'].value_counts()) \n",
    "print(df['total_income_category'].value_counts())"
   ]
  },
  {
   "cell_type": "markdown",
   "id": "e5a396e0",
   "metadata": {},
   "source": [
    "Сведем итоговый датафрейм и посчитаем долю просроченных кредитов по категориям."
   ]
  },
  {
   "cell_type": "code",
   "execution_count": 36,
   "id": "86f05461",
   "metadata": {},
   "outputs": [
    {
     "data": {
      "text/html": [
       "<div>\n",
       "<style scoped>\n",
       "    .dataframe tbody tr th:only-of-type {\n",
       "        vertical-align: middle;\n",
       "    }\n",
       "\n",
       "    .dataframe tbody tr th {\n",
       "        vertical-align: top;\n",
       "    }\n",
       "\n",
       "    .dataframe thead th {\n",
       "        text-align: right;\n",
       "    }\n",
       "</style>\n",
       "<table border=\"1\" class=\"dataframe\">\n",
       "  <thead>\n",
       "    <tr style=\"text-align: right;\">\n",
       "      <th></th>\n",
       "      <th>всего взяли кредит</th>\n",
       "      <th>из них просрочено</th>\n",
       "      <th>доля просроченных</th>\n",
       "    </tr>\n",
       "    <tr>\n",
       "      <th>total_income_category</th>\n",
       "      <th></th>\n",
       "      <th></th>\n",
       "      <th></th>\n",
       "    </tr>\n",
       "  </thead>\n",
       "  <tbody>\n",
       "    <tr>\n",
       "      <th>A</th>\n",
       "      <td>25</td>\n",
       "      <td>2</td>\n",
       "      <td>0.080000</td>\n",
       "    </tr>\n",
       "    <tr>\n",
       "      <th>B</th>\n",
       "      <td>5041</td>\n",
       "      <td>356</td>\n",
       "      <td>0.070621</td>\n",
       "    </tr>\n",
       "    <tr>\n",
       "      <th>C</th>\n",
       "      <td>16016</td>\n",
       "      <td>1360</td>\n",
       "      <td>0.084915</td>\n",
       "    </tr>\n",
       "    <tr>\n",
       "      <th>D</th>\n",
       "      <td>350</td>\n",
       "      <td>21</td>\n",
       "      <td>0.060000</td>\n",
       "    </tr>\n",
       "    <tr>\n",
       "      <th>E</th>\n",
       "      <td>22</td>\n",
       "      <td>2</td>\n",
       "      <td>0.090909</td>\n",
       "    </tr>\n",
       "  </tbody>\n",
       "</table>\n",
       "</div>"
      ],
      "text/plain": [
       "                       всего взяли кредит  из них просрочено  \\\n",
       "total_income_category                                          \n",
       "A                                      25                  2   \n",
       "B                                    5041                356   \n",
       "C                                   16016               1360   \n",
       "D                                     350                 21   \n",
       "E                                      22                  2   \n",
       "\n",
       "                       доля просроченных  \n",
       "total_income_category                     \n",
       "A                               0.080000  \n",
       "B                               0.070621  \n",
       "C                               0.084915  \n",
       "D                               0.060000  \n",
       "E                               0.090909  "
      ]
     },
     "metadata": {},
     "output_type": "display_data"
    }
   ],
   "source": [
    "\n",
    "\n",
    "# через pivot\n",
    "table_income=df.pivot_table(index='total_income_category', values='debt',aggfunc=['count','sum'])\n",
    "table_income['debt share']=table_income['sum']/table_income['count']\n",
    "table_income.columns=['всего взяли кредит','из них просрочено', 'доля просроченных']\n",
    "display(table_income)"
   ]
  },
  {
   "cell_type": "markdown",
   "id": "49651f91",
   "metadata": {},
   "source": [
    "##### Вывод 3:\n",
    "Наименее отвественными являются заемщики категории С с зарплатой 50001–200000 (8,5% просрочек). Заемщики категории Е хоть и имеют больший процент просрочек, но количество выданных кредитов крайне мало и такая выборка нерепрезентативна. При это доля просроченных кредитов ниже как для более обеспеченной категории клиентов, так и для менее обеспеченной. Таким образом, прямая корреляция между уровнем дохода и просрочкой кредите не прослеживается. Вероятно, заемщики оценивая свое финансовое состяние достаточно точно представляют, какую сумму долга они в состоянии обслуживать. <br> Заёмщики категории С, в свою очередь, находятся в промежуточном положении между \"средне-низким\" и \"средне-высоким\" доходом, ввду чего чаще ошибаются в возможности обслужвания долга и допускают просрочки.  "
   ]
  },
  {
   "cell_type": "markdown",
   "id": "989ffdf9",
   "metadata": {},
   "source": [
    "##### Вопрос 4:Как разные цели кредита влияют на его возврат в срок?"
   ]
  },
  {
   "cell_type": "markdown",
   "id": "0061096c",
   "metadata": {},
   "source": [
    "Определим количество просроченных кредитов в зависимости от категории целей:"
   ]
  },
  {
   "cell_type": "code",
   "execution_count": 37,
   "id": "1e0f46f8",
   "metadata": {},
   "outputs": [
    {
     "name": "stdout",
     "output_type": "stream",
     "text": [
      "операции с недвижимостью    782\n",
      "операции с автомобилем      403\n",
      "получение образования       370\n",
      "проведение свадьбы          186\n",
      "Name: purpose_debt, dtype: int64\n",
      "операции с недвижимостью    10811\n",
      "операции с автомобилем       4306\n",
      "получение образования        4013\n",
      "проведение свадьбы           2324\n",
      "Name: purpose_category, dtype: int64\n"
     ]
    }
   ],
   "source": [
    "def purpose_debt(row):\n",
    "    purpose = row['purpose_category']\n",
    "    debt = row['debt']\n",
    "    if debt ==1:\n",
    "        if purpose == 'операции с недвижимостью':\n",
    "            return 'операции с недвижимостью'\n",
    "        if purpose == 'операции с автомобилем':\n",
    "            return 'операции с автомобилем'\n",
    "        if purpose == 'получение образования':\n",
    "            return 'получение образования'\n",
    "        if purpose == 'проведение свадьбы':\n",
    "            return 'проведение свадьбы'\n",
    "df['purpose_debt'] = df.apply(purpose_debt, axis=1)\n",
    "print(df['purpose_debt'].value_counts()) \n",
    "print(df['purpose_category'].value_counts()) \n"
   ]
  },
  {
   "cell_type": "markdown",
   "id": "aadaa088",
   "metadata": {},
   "source": [
    "Сведем итоговый датафрейм и посчитаем долю просроченных кредитов по категориям."
   ]
  },
  {
   "cell_type": "code",
   "execution_count": 38,
   "id": "b78210ac",
   "metadata": {},
   "outputs": [
    {
     "data": {
      "text/html": [
       "<div>\n",
       "<style scoped>\n",
       "    .dataframe tbody tr th:only-of-type {\n",
       "        vertical-align: middle;\n",
       "    }\n",
       "\n",
       "    .dataframe tbody tr th {\n",
       "        vertical-align: top;\n",
       "    }\n",
       "\n",
       "    .dataframe thead th {\n",
       "        text-align: right;\n",
       "    }\n",
       "</style>\n",
       "<table border=\"1\" class=\"dataframe\">\n",
       "  <thead>\n",
       "    <tr style=\"text-align: right;\">\n",
       "      <th></th>\n",
       "      <th>всего взяли кредит</th>\n",
       "      <th>из них просрочено</th>\n",
       "      <th>доля просроченных</th>\n",
       "    </tr>\n",
       "    <tr>\n",
       "      <th>purpose_category</th>\n",
       "      <th></th>\n",
       "      <th></th>\n",
       "      <th></th>\n",
       "    </tr>\n",
       "  </thead>\n",
       "  <tbody>\n",
       "    <tr>\n",
       "      <th>операции с автомобилем</th>\n",
       "      <td>4306</td>\n",
       "      <td>403</td>\n",
       "      <td>0.093590</td>\n",
       "    </tr>\n",
       "    <tr>\n",
       "      <th>операции с недвижимостью</th>\n",
       "      <td>10811</td>\n",
       "      <td>782</td>\n",
       "      <td>0.072334</td>\n",
       "    </tr>\n",
       "    <tr>\n",
       "      <th>получение образования</th>\n",
       "      <td>4013</td>\n",
       "      <td>370</td>\n",
       "      <td>0.092200</td>\n",
       "    </tr>\n",
       "    <tr>\n",
       "      <th>проведение свадьбы</th>\n",
       "      <td>2324</td>\n",
       "      <td>186</td>\n",
       "      <td>0.080034</td>\n",
       "    </tr>\n",
       "  </tbody>\n",
       "</table>\n",
       "</div>"
      ],
      "text/plain": [
       "                          всего взяли кредит  из них просрочено  \\\n",
       "purpose_category                                                  \n",
       "операции с автомобилем                  4306                403   \n",
       "операции с недвижимостью               10811                782   \n",
       "получение образования                   4013                370   \n",
       "проведение свадьбы                      2324                186   \n",
       "\n",
       "                          доля просроченных  \n",
       "purpose_category                             \n",
       "операции с автомобилем             0.093590  \n",
       "операции с недвижимостью           0.072334  \n",
       "получение образования              0.092200  \n",
       "проведение свадьбы                 0.080034  "
      ]
     },
     "metadata": {},
     "output_type": "display_data"
    }
   ],
   "source": [
    "\n",
    "# через pivot\n",
    "table_purpose=df.pivot_table(index='purpose_category', values='debt',aggfunc=['count','sum'])\n",
    "table_purpose['debt share']=table_purpose['sum']/table_purpose['count']\n",
    "table_purpose.columns=['всего взяли кредит','из них просрочено', 'доля просроченных']\n",
    "display(table_purpose)"
   ]
  },
  {
   "cell_type": "markdown",
   "id": "0d378845",
   "metadata": {},
   "source": [
    "##### Вывод 4:\n",
    "Наиболее ответственными кредитопользователями являются заемщики, взявшие кредит на операции с недвижимостью (7,2% просрочек), операции с автомобилем и кредит на получение образования наиболее часто подвержены просрочкам (9,4% и 9,2% просрочек, соответственно).   "
   ]
  },
  {
   "cell_type": "markdown",
   "id": "d17b97b6",
   "metadata": {},
   "source": [
    "## Общий вывод:"
   ]
  },
  {
   "cell_type": "markdown",
   "id": "01873422",
   "metadata": {},
   "source": [
    "Надежность заемщиков продиктована множеством факторов, из которых сложно выделить один явно превалирующий. Причем, например, возможность обслуживания долга не всегда коррелирует с уровнем дохода. \n",
    "<br>Также, кредитоспособность в целом отвественной категории женатых людей сильно зависит от наличия и количества детей в семье.\n",
    "<br>В части целей кредита наиболее безопасными являются кредиты на недвижимость - нежелание лишиться жилья делает такие кредиты для заёмщика приоритетными. И заемщик готов допускать просрочки по другим кредитам, но не по жилищному. А также кредиты на проведение свадьбы, т.к. такие займы обычно невелики и предполагают быстрое погашение. Кредиты на получение образования имеют частые просрочки из-за невозможности быстро найти работу и стабильно отдавать кредит,  а также того факта, что \"образование\" у заемщика уже не \"изымут\". Автокредиты имеют частые просрочки ввиду того, что автомобиль не является предметом первой необходимости, и в случае сложного финансового положения заемщика может быть\n",
    "возвращён банку."
   ]
  }
 ],
 "metadata": {
  "ExecuteTimeLog": [
   {
    "duration": 70,
    "start_time": "2022-02-16T20:31:30.207Z"
   },
   {
    "duration": 593,
    "start_time": "2022-02-16T20:32:13.474Z"
   },
   {
    "duration": 13,
    "start_time": "2022-02-16T20:33:52.836Z"
   },
   {
    "duration": 12,
    "start_time": "2022-02-16T20:35:53.656Z"
   },
   {
    "duration": 10,
    "start_time": "2022-02-16T20:36:07.497Z"
   },
   {
    "duration": 57,
    "start_time": "2022-02-16T20:58:59.444Z"
   },
   {
    "duration": 10,
    "start_time": "2022-02-16T20:59:14.269Z"
   },
   {
    "duration": 4,
    "start_time": "2022-02-16T21:13:57.002Z"
   },
   {
    "duration": 5,
    "start_time": "2022-02-16T21:14:39.380Z"
   },
   {
    "duration": 8,
    "start_time": "2022-02-16T21:20:12.252Z"
   },
   {
    "duration": 7,
    "start_time": "2022-02-16T21:21:28.054Z"
   },
   {
    "duration": 6,
    "start_time": "2022-02-16T21:21:34.918Z"
   },
   {
    "duration": 7,
    "start_time": "2022-02-17T06:33:56.971Z"
   },
   {
    "duration": 5,
    "start_time": "2022-02-17T06:46:58.921Z"
   },
   {
    "duration": 56,
    "start_time": "2022-02-17T07:08:19.642Z"
   },
   {
    "duration": 59,
    "start_time": "2022-02-17T07:08:40.073Z"
   },
   {
    "duration": 4,
    "start_time": "2022-02-17T07:13:56.954Z"
   },
   {
    "duration": 59,
    "start_time": "2022-02-17T07:14:14.151Z"
   },
   {
    "duration": 53,
    "start_time": "2022-02-17T07:14:24.003Z"
   },
   {
    "duration": 3,
    "start_time": "2022-02-17T07:14:30.524Z"
   },
   {
    "duration": 4,
    "start_time": "2022-02-17T07:15:45.378Z"
   },
   {
    "duration": 4,
    "start_time": "2022-02-17T07:15:51.349Z"
   },
   {
    "duration": 662,
    "start_time": "2022-02-17T07:21:06.141Z"
   },
   {
    "duration": 12,
    "start_time": "2022-02-17T07:21:06.805Z"
   },
   {
    "duration": 37,
    "start_time": "2022-02-17T07:21:06.821Z"
   },
   {
    "duration": 34,
    "start_time": "2022-02-17T07:21:06.860Z"
   },
   {
    "duration": 33,
    "start_time": "2022-02-17T07:21:06.896Z"
   },
   {
    "duration": 28,
    "start_time": "2022-02-17T07:21:06.930Z"
   },
   {
    "duration": 23,
    "start_time": "2022-02-17T07:21:06.961Z"
   },
   {
    "duration": 2,
    "start_time": "2022-02-17T07:22:11.088Z"
   },
   {
    "duration": 587,
    "start_time": "2022-02-17T07:22:35.663Z"
   },
   {
    "duration": 11,
    "start_time": "2022-02-17T07:22:36.252Z"
   },
   {
    "duration": 12,
    "start_time": "2022-02-17T07:22:36.265Z"
   },
   {
    "duration": 7,
    "start_time": "2022-02-17T07:22:36.278Z"
   },
   {
    "duration": 5,
    "start_time": "2022-02-17T07:22:36.287Z"
   },
   {
    "duration": 4,
    "start_time": "2022-02-17T07:22:36.312Z"
   },
   {
    "duration": 6,
    "start_time": "2022-02-17T07:22:52.323Z"
   },
   {
    "duration": 33,
    "start_time": "2022-02-17T07:26:52.466Z"
   },
   {
    "duration": 6,
    "start_time": "2022-02-17T07:27:27.665Z"
   },
   {
    "duration": 6,
    "start_time": "2022-02-17T07:27:41.869Z"
   },
   {
    "duration": 6,
    "start_time": "2022-02-17T07:27:49.007Z"
   },
   {
    "duration": 7,
    "start_time": "2022-02-17T07:29:26.523Z"
   },
   {
    "duration": 8,
    "start_time": "2022-02-17T07:29:41.056Z"
   },
   {
    "duration": 8,
    "start_time": "2022-02-17T07:33:37.525Z"
   },
   {
    "duration": 9,
    "start_time": "2022-02-17T07:39:52.623Z"
   },
   {
    "duration": 10,
    "start_time": "2022-02-17T07:40:36.984Z"
   },
   {
    "duration": 8,
    "start_time": "2022-02-17T07:47:33.684Z"
   },
   {
    "duration": 6,
    "start_time": "2022-02-17T07:51:13.583Z"
   },
   {
    "duration": 6,
    "start_time": "2022-02-17T07:52:07.677Z"
   },
   {
    "duration": 6,
    "start_time": "2022-02-17T07:58:34.870Z"
   },
   {
    "duration": 12,
    "start_time": "2022-02-17T07:58:46.469Z"
   },
   {
    "duration": 268,
    "start_time": "2022-02-17T07:59:06.594Z"
   },
   {
    "duration": 13,
    "start_time": "2022-02-17T07:59:13.373Z"
   },
   {
    "duration": 13,
    "start_time": "2022-02-17T08:00:24.125Z"
   },
   {
    "duration": 14,
    "start_time": "2022-02-17T08:01:01.478Z"
   },
   {
    "duration": 11,
    "start_time": "2022-02-17T08:40:45.678Z"
   },
   {
    "duration": 69,
    "start_time": "2022-02-17T08:41:14.590Z"
   },
   {
    "duration": 14,
    "start_time": "2022-02-17T08:41:25.486Z"
   },
   {
    "duration": 7,
    "start_time": "2022-02-17T08:45:36.009Z"
   },
   {
    "duration": -338,
    "start_time": "2022-02-17T08:46:25.867Z"
   },
   {
    "duration": 2946,
    "start_time": "2022-02-17T08:46:32.606Z"
   },
   {
    "duration": 590,
    "start_time": "2022-02-17T08:46:44.371Z"
   },
   {
    "duration": 12,
    "start_time": "2022-02-17T08:46:44.963Z"
   },
   {
    "duration": 9,
    "start_time": "2022-02-17T08:46:44.977Z"
   },
   {
    "duration": 23,
    "start_time": "2022-02-17T08:46:44.989Z"
   },
   {
    "duration": 7,
    "start_time": "2022-02-17T08:46:45.014Z"
   },
   {
    "duration": 7,
    "start_time": "2022-02-17T08:46:45.022Z"
   },
   {
    "duration": 15,
    "start_time": "2022-02-17T08:46:45.030Z"
   },
   {
    "duration": 6,
    "start_time": "2022-02-17T08:46:45.047Z"
   },
   {
    "duration": 5,
    "start_time": "2022-02-17T08:46:45.055Z"
   },
   {
    "duration": 5,
    "start_time": "2022-02-17T08:46:45.062Z"
   },
   {
    "duration": 3020,
    "start_time": "2022-02-17T08:47:16.216Z"
   },
   {
    "duration": 660,
    "start_time": "2022-02-17T08:47:30.523Z"
   },
   {
    "duration": 11,
    "start_time": "2022-02-17T08:47:31.184Z"
   },
   {
    "duration": 33,
    "start_time": "2022-02-17T08:47:31.200Z"
   },
   {
    "duration": 16,
    "start_time": "2022-02-17T08:47:31.241Z"
   },
   {
    "duration": 7,
    "start_time": "2022-02-17T08:47:31.259Z"
   },
   {
    "duration": 4,
    "start_time": "2022-02-17T08:47:31.268Z"
   },
   {
    "duration": 10,
    "start_time": "2022-02-17T08:47:31.274Z"
   },
   {
    "duration": 6,
    "start_time": "2022-02-17T08:47:31.287Z"
   },
   {
    "duration": 19,
    "start_time": "2022-02-17T08:47:31.295Z"
   },
   {
    "duration": 7,
    "start_time": "2022-02-17T08:47:31.315Z"
   },
   {
    "duration": 3046,
    "start_time": "2022-02-17T08:48:19.972Z"
   },
   {
    "duration": 2977,
    "start_time": "2022-02-17T08:48:26.745Z"
   },
   {
    "duration": 620,
    "start_time": "2022-02-17T08:48:41.342Z"
   },
   {
    "duration": 11,
    "start_time": "2022-02-17T08:48:41.964Z"
   },
   {
    "duration": 9,
    "start_time": "2022-02-17T08:48:41.977Z"
   },
   {
    "duration": 23,
    "start_time": "2022-02-17T08:48:41.989Z"
   },
   {
    "duration": 5,
    "start_time": "2022-02-17T08:48:42.013Z"
   },
   {
    "duration": 6,
    "start_time": "2022-02-17T08:48:42.020Z"
   },
   {
    "duration": 19,
    "start_time": "2022-02-17T08:48:42.027Z"
   },
   {
    "duration": 6,
    "start_time": "2022-02-17T08:48:42.048Z"
   },
   {
    "duration": 5,
    "start_time": "2022-02-17T08:48:42.056Z"
   },
   {
    "duration": 8,
    "start_time": "2022-02-17T08:48:42.063Z"
   },
   {
    "duration": 3002,
    "start_time": "2022-02-17T08:49:18.070Z"
   },
   {
    "duration": 654,
    "start_time": "2022-02-17T08:49:29.198Z"
   },
   {
    "duration": 11,
    "start_time": "2022-02-17T08:49:29.853Z"
   },
   {
    "duration": 8,
    "start_time": "2022-02-17T08:49:29.866Z"
   },
   {
    "duration": 5,
    "start_time": "2022-02-17T08:49:29.876Z"
   },
   {
    "duration": 5,
    "start_time": "2022-02-17T08:49:29.882Z"
   },
   {
    "duration": 25,
    "start_time": "2022-02-17T08:49:29.889Z"
   },
   {
    "duration": 13,
    "start_time": "2022-02-17T08:49:29.915Z"
   },
   {
    "duration": 7,
    "start_time": "2022-02-17T08:49:29.930Z"
   },
   {
    "duration": 5,
    "start_time": "2022-02-17T08:49:29.940Z"
   },
   {
    "duration": 19,
    "start_time": "2022-02-17T08:49:29.946Z"
   },
   {
    "duration": 11,
    "start_time": "2022-02-17T08:50:17.237Z"
   },
   {
    "duration": 11,
    "start_time": "2022-02-17T08:50:30.839Z"
   },
   {
    "duration": 94,
    "start_time": "2022-02-17T09:06:18.306Z"
   },
   {
    "duration": 13,
    "start_time": "2022-02-17T09:27:38.247Z"
   },
   {
    "duration": 7,
    "start_time": "2022-02-17T09:30:38.319Z"
   },
   {
    "duration": 302,
    "start_time": "2022-02-17T19:46:20.214Z"
   },
   {
    "duration": 804,
    "start_time": "2022-02-17T19:46:32.112Z"
   },
   {
    "duration": 16,
    "start_time": "2022-02-17T19:46:32.919Z"
   },
   {
    "duration": 26,
    "start_time": "2022-02-17T19:46:32.939Z"
   },
   {
    "duration": 8,
    "start_time": "2022-02-17T19:46:32.968Z"
   },
   {
    "duration": 21,
    "start_time": "2022-02-17T19:46:32.979Z"
   },
   {
    "duration": 5,
    "start_time": "2022-02-17T19:46:33.002Z"
   },
   {
    "duration": 14,
    "start_time": "2022-02-17T19:46:33.009Z"
   },
   {
    "duration": 45,
    "start_time": "2022-02-17T19:46:33.027Z"
   },
   {
    "duration": 7,
    "start_time": "2022-02-17T19:46:33.074Z"
   },
   {
    "duration": 19,
    "start_time": "2022-02-17T19:46:33.084Z"
   },
   {
    "duration": 7,
    "start_time": "2022-02-17T19:46:33.105Z"
   },
   {
    "duration": 47,
    "start_time": "2022-02-17T19:46:33.114Z"
   },
   {
    "duration": 478,
    "start_time": "2022-02-17T19:46:42.411Z"
   },
   {
    "duration": 562,
    "start_time": "2022-02-17T19:46:55.925Z"
   },
   {
    "duration": 358,
    "start_time": "2022-02-17T19:47:09.891Z"
   },
   {
    "duration": 21,
    "start_time": "2022-02-17T19:47:40.755Z"
   },
   {
    "duration": 22,
    "start_time": "2022-02-17T19:50:03.334Z"
   },
   {
    "duration": 110,
    "start_time": "2022-02-17T19:50:23.784Z"
   },
   {
    "duration": 417,
    "start_time": "2022-02-17T19:50:28.861Z"
   },
   {
    "duration": 329,
    "start_time": "2022-02-17T19:50:32.399Z"
   },
   {
    "duration": 22,
    "start_time": "2022-02-17T19:50:48.873Z"
   },
   {
    "duration": 8993,
    "start_time": "2022-02-17T20:40:24.729Z"
   },
   {
    "duration": 842,
    "start_time": "2022-02-17T20:40:53.258Z"
   },
   {
    "duration": 20,
    "start_time": "2022-02-17T20:40:54.103Z"
   },
   {
    "duration": 11,
    "start_time": "2022-02-17T20:40:54.126Z"
   },
   {
    "duration": 25,
    "start_time": "2022-02-17T20:40:54.140Z"
   },
   {
    "duration": 7,
    "start_time": "2022-02-17T20:40:54.167Z"
   },
   {
    "duration": 5,
    "start_time": "2022-02-17T20:40:54.176Z"
   },
   {
    "duration": 15,
    "start_time": "2022-02-17T20:40:54.183Z"
   },
   {
    "duration": 63,
    "start_time": "2022-02-17T20:40:54.201Z"
   },
   {
    "duration": 8,
    "start_time": "2022-02-17T20:40:54.268Z"
   },
   {
    "duration": 15,
    "start_time": "2022-02-17T20:40:54.279Z"
   },
   {
    "duration": 7,
    "start_time": "2022-02-17T20:40:54.297Z"
   },
   {
    "duration": 70,
    "start_time": "2022-02-17T20:40:54.307Z"
   },
   {
    "duration": 7584,
    "start_time": "2022-02-17T20:40:54.380Z"
   },
   {
    "duration": 25,
    "start_time": "2022-02-17T20:43:24.664Z"
   },
   {
    "duration": 105,
    "start_time": "2022-02-17T20:44:29.220Z"
   },
   {
    "duration": 26,
    "start_time": "2022-02-17T20:45:12.324Z"
   },
   {
    "duration": 32,
    "start_time": "2022-02-17T20:45:18.598Z"
   },
   {
    "duration": 10,
    "start_time": "2022-02-17T20:54:22.989Z"
   },
   {
    "duration": 15,
    "start_time": "2022-02-17T20:55:00.814Z"
   },
   {
    "duration": 12,
    "start_time": "2022-02-17T20:55:19.853Z"
   },
   {
    "duration": 15,
    "start_time": "2022-02-17T20:55:28.351Z"
   },
   {
    "duration": 14,
    "start_time": "2022-02-17T20:59:05.020Z"
   },
   {
    "duration": 12,
    "start_time": "2022-02-17T20:59:47.710Z"
   },
   {
    "duration": 904,
    "start_time": "2022-02-17T20:59:58.629Z"
   },
   {
    "duration": 28,
    "start_time": "2022-02-17T20:59:59.537Z"
   },
   {
    "duration": 14,
    "start_time": "2022-02-17T20:59:59.569Z"
   },
   {
    "duration": 8,
    "start_time": "2022-02-17T20:59:59.586Z"
   },
   {
    "duration": 10,
    "start_time": "2022-02-17T20:59:59.596Z"
   },
   {
    "duration": 5,
    "start_time": "2022-02-17T20:59:59.609Z"
   },
   {
    "duration": 58,
    "start_time": "2022-02-17T20:59:59.616Z"
   },
   {
    "duration": 13,
    "start_time": "2022-02-17T20:59:59.678Z"
   },
   {
    "duration": 9,
    "start_time": "2022-02-17T20:59:59.694Z"
   },
   {
    "duration": 19,
    "start_time": "2022-02-17T20:59:59.705Z"
   },
   {
    "duration": 8,
    "start_time": "2022-02-17T20:59:59.762Z"
   },
   {
    "duration": 24,
    "start_time": "2022-02-17T20:59:59.772Z"
   },
   {
    "duration": 26,
    "start_time": "2022-02-17T20:59:59.799Z"
   },
   {
    "duration": 12,
    "start_time": "2022-02-17T20:59:59.860Z"
   },
   {
    "duration": 23,
    "start_time": "2022-02-17T21:01:20.848Z"
   },
   {
    "duration": 60,
    "start_time": "2022-02-17T21:02:30.325Z"
   },
   {
    "duration": 46,
    "start_time": "2022-02-17T21:03:53.575Z"
   },
   {
    "duration": 39,
    "start_time": "2022-02-17T21:04:21.304Z"
   },
   {
    "duration": 402,
    "start_time": "2022-02-18T12:52:26.553Z"
   },
   {
    "duration": 911,
    "start_time": "2022-02-18T12:52:34.336Z"
   },
   {
    "duration": 18,
    "start_time": "2022-02-18T12:52:35.250Z"
   },
   {
    "duration": 13,
    "start_time": "2022-02-18T12:52:35.271Z"
   },
   {
    "duration": 40,
    "start_time": "2022-02-18T12:52:35.286Z"
   },
   {
    "duration": 7,
    "start_time": "2022-02-18T12:52:35.328Z"
   },
   {
    "duration": 5,
    "start_time": "2022-02-18T12:52:35.337Z"
   },
   {
    "duration": 16,
    "start_time": "2022-02-18T12:52:35.344Z"
   },
   {
    "duration": 13,
    "start_time": "2022-02-18T12:52:35.363Z"
   },
   {
    "duration": 49,
    "start_time": "2022-02-18T12:52:35.380Z"
   },
   {
    "duration": 16,
    "start_time": "2022-02-18T12:52:35.431Z"
   },
   {
    "duration": 8,
    "start_time": "2022-02-18T12:52:35.450Z"
   },
   {
    "duration": 25,
    "start_time": "2022-02-18T12:52:35.461Z"
   },
   {
    "duration": 28,
    "start_time": "2022-02-18T12:52:35.526Z"
   },
   {
    "duration": 40,
    "start_time": "2022-02-18T12:52:35.557Z"
   },
   {
    "duration": 5,
    "start_time": "2022-02-18T12:52:35.627Z"
   },
   {
    "duration": 5,
    "start_time": "2022-02-18T13:08:06.246Z"
   },
   {
    "duration": 26,
    "start_time": "2022-02-18T13:56:38.841Z"
   },
   {
    "duration": 22,
    "start_time": "2022-02-18T14:53:12.438Z"
   },
   {
    "duration": 50,
    "start_time": "2022-02-18T14:53:35.994Z"
   },
   {
    "duration": 31,
    "start_time": "2022-02-18T14:55:03.964Z"
   },
   {
    "duration": 281,
    "start_time": "2022-02-21T16:52:16.885Z"
   },
   {
    "duration": 688,
    "start_time": "2022-02-21T16:52:24.117Z"
   },
   {
    "duration": 15,
    "start_time": "2022-02-21T16:52:24.808Z"
   },
   {
    "duration": 11,
    "start_time": "2022-02-21T16:52:24.826Z"
   },
   {
    "duration": 7,
    "start_time": "2022-02-21T16:52:24.839Z"
   },
   {
    "duration": 6,
    "start_time": "2022-02-21T16:52:24.848Z"
   },
   {
    "duration": 9,
    "start_time": "2022-02-21T16:52:24.856Z"
   },
   {
    "duration": 15,
    "start_time": "2022-02-21T16:52:24.866Z"
   },
   {
    "duration": 45,
    "start_time": "2022-02-21T16:52:24.884Z"
   },
   {
    "duration": 6,
    "start_time": "2022-02-21T16:52:24.932Z"
   },
   {
    "duration": 15,
    "start_time": "2022-02-21T16:52:24.940Z"
   },
   {
    "duration": 7,
    "start_time": "2022-02-21T16:52:24.956Z"
   },
   {
    "duration": 23,
    "start_time": "2022-02-21T16:52:24.964Z"
   },
   {
    "duration": 35,
    "start_time": "2022-02-21T16:52:24.990Z"
   },
   {
    "duration": 30,
    "start_time": "2022-02-21T16:52:25.027Z"
   },
   {
    "duration": 3,
    "start_time": "2022-02-21T16:52:25.060Z"
   },
   {
    "duration": 15,
    "start_time": "2022-02-21T16:52:25.065Z"
   },
   {
    "duration": 56,
    "start_time": "2022-02-21T16:52:25.082Z"
   },
   {
    "duration": 29,
    "start_time": "2022-02-21T16:52:25.140Z"
   },
   {
    "duration": 5,
    "start_time": "2022-02-21T16:52:41.740Z"
   },
   {
    "duration": 215,
    "start_time": "2022-02-21T16:52:56.813Z"
   },
   {
    "duration": 12,
    "start_time": "2022-02-21T16:53:49.577Z"
   },
   {
    "duration": 11,
    "start_time": "2022-02-21T16:54:04.796Z"
   },
   {
    "duration": 15,
    "start_time": "2022-02-21T16:55:42.641Z"
   },
   {
    "duration": 13,
    "start_time": "2022-02-21T16:55:48.094Z"
   },
   {
    "duration": 26,
    "start_time": "2022-02-21T16:56:23.390Z"
   },
   {
    "duration": 240,
    "start_time": "2022-02-21T17:08:02.878Z"
   },
   {
    "duration": 34,
    "start_time": "2022-02-21T17:08:15.036Z"
   },
   {
    "duration": 29,
    "start_time": "2022-02-21T17:08:26.796Z"
   },
   {
    "duration": 212,
    "start_time": "2022-02-21T17:09:25.072Z"
   },
   {
    "duration": 859,
    "start_time": "2022-02-21T17:09:31.763Z"
   },
   {
    "duration": 673,
    "start_time": "2022-02-21T17:09:40.278Z"
   },
   {
    "duration": 11,
    "start_time": "2022-02-21T17:09:40.952Z"
   },
   {
    "duration": 11,
    "start_time": "2022-02-21T17:09:40.965Z"
   },
   {
    "duration": 7,
    "start_time": "2022-02-21T17:09:40.978Z"
   },
   {
    "duration": 7,
    "start_time": "2022-02-21T17:09:40.987Z"
   },
   {
    "duration": 25,
    "start_time": "2022-02-21T17:09:40.995Z"
   },
   {
    "duration": 18,
    "start_time": "2022-02-21T17:09:41.021Z"
   },
   {
    "duration": 8,
    "start_time": "2022-02-21T17:09:41.041Z"
   },
   {
    "duration": 5,
    "start_time": "2022-02-21T17:09:41.051Z"
   },
   {
    "duration": 15,
    "start_time": "2022-02-21T17:09:41.058Z"
   },
   {
    "duration": 5,
    "start_time": "2022-02-21T17:09:41.075Z"
   },
   {
    "duration": 47,
    "start_time": "2022-02-21T17:09:41.082Z"
   },
   {
    "duration": 18,
    "start_time": "2022-02-21T17:09:41.131Z"
   },
   {
    "duration": 27,
    "start_time": "2022-02-21T17:09:41.151Z"
   },
   {
    "duration": 4,
    "start_time": "2022-02-21T17:09:41.180Z"
   },
   {
    "duration": 33,
    "start_time": "2022-02-21T17:09:41.185Z"
   },
   {
    "duration": 33,
    "start_time": "2022-02-21T17:09:41.221Z"
   },
   {
    "duration": 22,
    "start_time": "2022-02-21T17:09:41.256Z"
   },
   {
    "duration": 365,
    "start_time": "2022-02-21T17:09:41.280Z"
   },
   {
    "duration": 222,
    "start_time": "2022-02-21T17:10:15.343Z"
   },
   {
    "duration": 706,
    "start_time": "2022-02-21T17:10:22.106Z"
   },
   {
    "duration": 13,
    "start_time": "2022-02-21T17:10:22.818Z"
   },
   {
    "duration": 31,
    "start_time": "2022-02-21T17:10:22.834Z"
   },
   {
    "duration": 45,
    "start_time": "2022-02-21T17:10:22.868Z"
   },
   {
    "duration": 9,
    "start_time": "2022-02-21T17:10:22.915Z"
   },
   {
    "duration": 12,
    "start_time": "2022-02-21T17:10:22.926Z"
   },
   {
    "duration": 17,
    "start_time": "2022-02-21T17:10:22.939Z"
   },
   {
    "duration": 7,
    "start_time": "2022-02-21T17:10:22.957Z"
   },
   {
    "duration": 13,
    "start_time": "2022-02-21T17:10:22.967Z"
   },
   {
    "duration": 11,
    "start_time": "2022-02-21T17:10:22.982Z"
   },
   {
    "duration": 5,
    "start_time": "2022-02-21T17:10:22.994Z"
   },
   {
    "duration": 34,
    "start_time": "2022-02-21T17:10:23.000Z"
   },
   {
    "duration": 23,
    "start_time": "2022-02-21T17:10:23.036Z"
   },
   {
    "duration": 27,
    "start_time": "2022-02-21T17:10:23.061Z"
   },
   {
    "duration": 3,
    "start_time": "2022-02-21T17:10:23.090Z"
   },
   {
    "duration": 3,
    "start_time": "2022-02-21T17:10:23.119Z"
   },
   {
    "duration": 38,
    "start_time": "2022-02-21T17:10:23.124Z"
   },
   {
    "duration": 22,
    "start_time": "2022-02-21T17:10:23.163Z"
   },
   {
    "duration": 47,
    "start_time": "2022-02-21T17:10:23.188Z"
   },
   {
    "duration": 280,
    "start_time": "2022-02-21T17:29:34.608Z"
   },
   {
    "duration": 22,
    "start_time": "2022-02-21T17:29:44.927Z"
   },
   {
    "duration": 65,
    "start_time": "2022-02-21T17:38:08.646Z"
   },
   {
    "duration": 6,
    "start_time": "2022-02-21T17:39:07.981Z"
   },
   {
    "duration": 1131,
    "start_time": "2022-02-21T17:52:21.726Z"
   },
   {
    "duration": 20,
    "start_time": "2022-02-21T17:52:59.126Z"
   },
   {
    "duration": 20,
    "start_time": "2022-02-21T17:54:03.511Z"
   },
   {
    "duration": 4,
    "start_time": "2022-02-21T18:16:11.355Z"
   },
   {
    "duration": 5,
    "start_time": "2022-02-21T18:17:21.060Z"
   },
   {
    "duration": 10,
    "start_time": "2022-02-21T18:20:41.890Z"
   },
   {
    "duration": 9,
    "start_time": "2022-02-21T18:20:51.422Z"
   },
   {
    "duration": 5976,
    "start_time": "2022-02-21T18:24:59.181Z"
   },
   {
    "duration": 685,
    "start_time": "2022-02-21T18:25:17.990Z"
   },
   {
    "duration": 12,
    "start_time": "2022-02-21T18:25:18.676Z"
   },
   {
    "duration": 9,
    "start_time": "2022-02-21T18:25:18.690Z"
   },
   {
    "duration": 6,
    "start_time": "2022-02-21T18:25:18.717Z"
   },
   {
    "duration": 7,
    "start_time": "2022-02-21T18:25:18.725Z"
   },
   {
    "duration": 5,
    "start_time": "2022-02-21T18:25:18.734Z"
   },
   {
    "duration": 14,
    "start_time": "2022-02-21T18:25:18.740Z"
   },
   {
    "duration": 8,
    "start_time": "2022-02-21T18:25:18.756Z"
   },
   {
    "duration": 6,
    "start_time": "2022-02-21T18:25:18.766Z"
   },
   {
    "duration": 45,
    "start_time": "2022-02-21T18:25:18.773Z"
   },
   {
    "duration": 5,
    "start_time": "2022-02-21T18:25:18.820Z"
   },
   {
    "duration": 17,
    "start_time": "2022-02-21T18:25:18.827Z"
   },
   {
    "duration": 21,
    "start_time": "2022-02-21T18:25:18.846Z"
   },
   {
    "duration": 52,
    "start_time": "2022-02-21T18:25:18.869Z"
   },
   {
    "duration": 3,
    "start_time": "2022-02-21T18:25:18.923Z"
   },
   {
    "duration": 7,
    "start_time": "2022-02-21T18:25:18.928Z"
   },
   {
    "duration": 33,
    "start_time": "2022-02-21T18:25:18.937Z"
   },
   {
    "duration": 22,
    "start_time": "2022-02-21T18:25:18.972Z"
   },
   {
    "duration": 34,
    "start_time": "2022-02-21T18:25:19.019Z"
   },
   {
    "duration": 20,
    "start_time": "2022-02-21T18:25:19.055Z"
   },
   {
    "duration": 7,
    "start_time": "2022-02-21T18:25:19.077Z"
   },
   {
    "duration": 50,
    "start_time": "2022-02-21T18:25:19.086Z"
   },
   {
    "duration": 16,
    "start_time": "2022-02-21T18:25:19.140Z"
   },
   {
    "duration": 17,
    "start_time": "2022-02-21T18:25:19.159Z"
   },
   {
    "duration": 5456,
    "start_time": "2022-02-21T18:25:19.178Z"
   },
   {
    "duration": 5833,
    "start_time": "2022-02-21T18:35:14.523Z"
   },
   {
    "duration": 348,
    "start_time": "2022-02-21T18:37:12.177Z"
   },
   {
    "duration": 5379,
    "start_time": "2022-02-21T18:37:45.719Z"
   },
   {
    "duration": 378,
    "start_time": "2022-02-21T18:38:44.960Z"
   },
   {
    "duration": 394,
    "start_time": "2022-02-21T18:39:14.767Z"
   },
   {
    "duration": 621,
    "start_time": "2022-02-21T18:39:48.375Z"
   },
   {
    "duration": 12,
    "start_time": "2022-02-21T18:39:48.998Z"
   },
   {
    "duration": 12,
    "start_time": "2022-02-21T18:39:49.012Z"
   },
   {
    "duration": 6,
    "start_time": "2022-02-21T18:39:49.026Z"
   },
   {
    "duration": 4,
    "start_time": "2022-02-21T18:39:49.034Z"
   },
   {
    "duration": 3,
    "start_time": "2022-02-21T18:39:49.040Z"
   },
   {
    "duration": 12,
    "start_time": "2022-02-21T18:39:49.044Z"
   },
   {
    "duration": 8,
    "start_time": "2022-02-21T18:39:49.060Z"
   },
   {
    "duration": 9,
    "start_time": "2022-02-21T18:39:49.070Z"
   },
   {
    "duration": 49,
    "start_time": "2022-02-21T18:39:49.080Z"
   },
   {
    "duration": 6,
    "start_time": "2022-02-21T18:39:49.130Z"
   },
   {
    "duration": 17,
    "start_time": "2022-02-21T18:39:49.138Z"
   },
   {
    "duration": 19,
    "start_time": "2022-02-21T18:39:49.157Z"
   },
   {
    "duration": 62,
    "start_time": "2022-02-21T18:39:49.178Z"
   },
   {
    "duration": 4,
    "start_time": "2022-02-21T18:39:49.242Z"
   },
   {
    "duration": 11,
    "start_time": "2022-02-21T18:39:49.248Z"
   },
   {
    "duration": 39,
    "start_time": "2022-02-21T18:39:49.260Z"
   },
   {
    "duration": 33,
    "start_time": "2022-02-21T18:39:49.301Z"
   },
   {
    "duration": 24,
    "start_time": "2022-02-21T18:39:49.335Z"
   },
   {
    "duration": 18,
    "start_time": "2022-02-21T18:39:49.361Z"
   },
   {
    "duration": 39,
    "start_time": "2022-02-21T18:39:49.381Z"
   },
   {
    "duration": 20,
    "start_time": "2022-02-21T18:39:49.422Z"
   },
   {
    "duration": 5,
    "start_time": "2022-02-21T18:39:49.445Z"
   },
   {
    "duration": 12,
    "start_time": "2022-02-21T18:39:49.452Z"
   },
   {
    "duration": 399,
    "start_time": "2022-02-21T18:39:49.466Z"
   },
   {
    "duration": 377,
    "start_time": "2022-02-21T18:40:19.912Z"
   },
   {
    "duration": 355,
    "start_time": "2022-02-21T18:51:18.654Z"
   },
   {
    "duration": 370,
    "start_time": "2022-02-21T18:52:07.973Z"
   },
   {
    "duration": 368,
    "start_time": "2022-02-21T18:53:21.591Z"
   },
   {
    "duration": 365,
    "start_time": "2022-02-21T18:54:29.241Z"
   },
   {
    "duration": 393,
    "start_time": "2022-02-21T18:54:59.915Z"
   },
   {
    "duration": 410,
    "start_time": "2022-02-21T18:58:13.535Z"
   },
   {
    "duration": 379,
    "start_time": "2022-02-21T18:58:54.007Z"
   },
   {
    "duration": 638,
    "start_time": "2022-02-21T18:59:42.178Z"
   },
   {
    "duration": 389,
    "start_time": "2022-02-21T19:00:06.936Z"
   },
   {
    "duration": 417,
    "start_time": "2022-02-21T19:01:15.243Z"
   },
   {
    "duration": 699,
    "start_time": "2022-02-21T19:01:35.132Z"
   },
   {
    "duration": 529,
    "start_time": "2022-02-21T19:05:40.179Z"
   },
   {
    "duration": 3,
    "start_time": "2022-02-21T19:08:24.785Z"
   },
   {
    "duration": 3,
    "start_time": "2022-02-21T19:08:27.183Z"
   },
   {
    "duration": 68,
    "start_time": "2022-02-21T19:09:22.896Z"
   },
   {
    "duration": 357,
    "start_time": "2022-02-21T19:18:43.850Z"
   },
   {
    "duration": 382,
    "start_time": "2022-02-21T19:28:48.732Z"
   },
   {
    "duration": 397,
    "start_time": "2022-02-21T19:29:11.892Z"
   },
   {
    "duration": 253,
    "start_time": "2022-02-21T19:41:29.855Z"
   },
   {
    "duration": 242,
    "start_time": "2022-02-21T19:41:42.220Z"
   },
   {
    "duration": 280,
    "start_time": "2022-02-21T19:41:55.691Z"
   },
   {
    "duration": 24,
    "start_time": "2022-02-21T19:42:21.201Z"
   },
   {
    "duration": 266,
    "start_time": "2022-02-21T19:42:29.933Z"
   },
   {
    "duration": 224,
    "start_time": "2022-02-21T19:42:35.097Z"
   },
   {
    "duration": 212,
    "start_time": "2022-02-21T19:42:43.396Z"
   },
   {
    "duration": 213,
    "start_time": "2022-02-21T19:43:51.518Z"
   },
   {
    "duration": 19,
    "start_time": "2022-02-21T19:44:04.950Z"
   },
   {
    "duration": 248,
    "start_time": "2022-02-21T19:44:33.166Z"
   },
   {
    "duration": 26,
    "start_time": "2022-02-21T19:44:43.531Z"
   },
   {
    "duration": 13,
    "start_time": "2022-02-21T19:45:59.063Z"
   },
   {
    "duration": 15,
    "start_time": "2022-02-21T19:46:32.666Z"
   },
   {
    "duration": 14,
    "start_time": "2022-02-21T19:47:09.347Z"
   },
   {
    "duration": 13,
    "start_time": "2022-02-21T19:47:32.652Z"
   },
   {
    "duration": 256,
    "start_time": "2022-02-21T19:54:03.452Z"
   },
   {
    "duration": 15,
    "start_time": "2022-02-21T19:54:11.670Z"
   },
   {
    "duration": 8,
    "start_time": "2022-02-21T19:54:49.270Z"
   },
   {
    "duration": 391,
    "start_time": "2022-02-21T19:56:29.530Z"
   },
   {
    "duration": 211,
    "start_time": "2022-02-21T19:56:49.814Z"
   },
   {
    "duration": 722,
    "start_time": "2022-02-21T19:57:04.434Z"
   },
   {
    "duration": 11,
    "start_time": "2022-02-21T19:57:05.159Z"
   },
   {
    "duration": 9,
    "start_time": "2022-02-21T19:57:05.172Z"
   },
   {
    "duration": 8,
    "start_time": "2022-02-21T19:57:05.183Z"
   },
   {
    "duration": 26,
    "start_time": "2022-02-21T19:57:05.194Z"
   },
   {
    "duration": 11,
    "start_time": "2022-02-21T19:57:05.222Z"
   },
   {
    "duration": 19,
    "start_time": "2022-02-21T19:57:05.235Z"
   },
   {
    "duration": 12,
    "start_time": "2022-02-21T19:57:05.258Z"
   },
   {
    "duration": 7,
    "start_time": "2022-02-21T19:57:05.273Z"
   },
   {
    "duration": 39,
    "start_time": "2022-02-21T19:57:05.282Z"
   },
   {
    "duration": 6,
    "start_time": "2022-02-21T19:57:05.324Z"
   },
   {
    "duration": 31,
    "start_time": "2022-02-21T19:57:05.333Z"
   },
   {
    "duration": 30,
    "start_time": "2022-02-21T19:57:05.366Z"
   },
   {
    "duration": 53,
    "start_time": "2022-02-21T19:57:05.399Z"
   },
   {
    "duration": 5,
    "start_time": "2022-02-21T19:57:05.454Z"
   },
   {
    "duration": 7,
    "start_time": "2022-02-21T19:57:05.462Z"
   },
   {
    "duration": 54,
    "start_time": "2022-02-21T19:57:05.471Z"
   },
   {
    "duration": 23,
    "start_time": "2022-02-21T19:57:05.527Z"
   },
   {
    "duration": 28,
    "start_time": "2022-02-21T19:57:05.552Z"
   },
   {
    "duration": 54,
    "start_time": "2022-02-21T19:57:05.582Z"
   },
   {
    "duration": 11,
    "start_time": "2022-02-21T19:57:05.639Z"
   },
   {
    "duration": 22,
    "start_time": "2022-02-21T19:57:05.652Z"
   },
   {
    "duration": 13,
    "start_time": "2022-02-21T19:57:05.676Z"
   },
   {
    "duration": 34,
    "start_time": "2022-02-21T19:57:05.691Z"
   },
   {
    "duration": 391,
    "start_time": "2022-02-21T19:57:05.727Z"
   },
   {
    "duration": 399,
    "start_time": "2022-02-21T19:57:06.121Z"
   },
   {
    "duration": 390,
    "start_time": "2022-02-21T19:57:06.522Z"
   },
   {
    "duration": 278,
    "start_time": "2022-02-21T19:57:06.913Z"
   },
   {
    "duration": 383,
    "start_time": "2022-02-21T19:57:24.271Z"
   },
   {
    "duration": 254,
    "start_time": "2022-02-22T06:42:17.814Z"
   },
   {
    "duration": 678,
    "start_time": "2022-02-22T06:42:24.745Z"
   },
   {
    "duration": 13,
    "start_time": "2022-02-22T06:42:25.426Z"
   },
   {
    "duration": 12,
    "start_time": "2022-02-22T06:42:25.441Z"
   },
   {
    "duration": 13,
    "start_time": "2022-02-22T06:42:25.455Z"
   },
   {
    "duration": 21,
    "start_time": "2022-02-22T06:42:25.470Z"
   },
   {
    "duration": 19,
    "start_time": "2022-02-22T06:42:25.493Z"
   },
   {
    "duration": 27,
    "start_time": "2022-02-22T06:42:25.514Z"
   },
   {
    "duration": 9,
    "start_time": "2022-02-22T06:42:25.543Z"
   },
   {
    "duration": 6,
    "start_time": "2022-02-22T06:42:25.555Z"
   },
   {
    "duration": 12,
    "start_time": "2022-02-22T06:42:25.564Z"
   },
   {
    "duration": 35,
    "start_time": "2022-02-22T06:42:25.578Z"
   },
   {
    "duration": 18,
    "start_time": "2022-02-22T06:42:25.615Z"
   },
   {
    "duration": 23,
    "start_time": "2022-02-22T06:42:25.635Z"
   },
   {
    "duration": 57,
    "start_time": "2022-02-22T06:42:25.659Z"
   },
   {
    "duration": 3,
    "start_time": "2022-02-22T06:42:25.718Z"
   },
   {
    "duration": 12,
    "start_time": "2022-02-22T06:42:25.723Z"
   },
   {
    "duration": 39,
    "start_time": "2022-02-22T06:42:25.737Z"
   },
   {
    "duration": 40,
    "start_time": "2022-02-22T06:42:25.778Z"
   },
   {
    "duration": 28,
    "start_time": "2022-02-22T06:42:25.820Z"
   },
   {
    "duration": 22,
    "start_time": "2022-02-22T06:42:25.850Z"
   },
   {
    "duration": 40,
    "start_time": "2022-02-22T06:42:25.874Z"
   },
   {
    "duration": 24,
    "start_time": "2022-02-22T06:42:25.917Z"
   },
   {
    "duration": 7,
    "start_time": "2022-02-22T06:42:25.943Z"
   },
   {
    "duration": 19,
    "start_time": "2022-02-22T06:42:25.952Z"
   },
   {
    "duration": 474,
    "start_time": "2022-02-22T06:42:25.973Z"
   },
   {
    "duration": 420,
    "start_time": "2022-02-22T06:42:26.449Z"
   },
   {
    "duration": 396,
    "start_time": "2022-02-22T06:42:26.873Z"
   },
   {
    "duration": 387,
    "start_time": "2022-02-22T06:42:27.271Z"
   },
   {
    "duration": 458,
    "start_time": "2022-02-22T06:54:31.955Z"
   },
   {
    "duration": 391,
    "start_time": "2022-02-22T06:54:52.408Z"
   },
   {
    "duration": 68,
    "start_time": "2022-02-22T06:59:25.786Z"
   },
   {
    "duration": 388,
    "start_time": "2022-02-22T06:59:46.334Z"
   },
   {
    "duration": 400,
    "start_time": "2022-02-22T07:00:44.062Z"
   },
   {
    "duration": 380,
    "start_time": "2022-02-22T07:03:14.466Z"
   },
   {
    "duration": 394,
    "start_time": "2022-02-22T07:04:17.657Z"
   },
   {
    "duration": 5,
    "start_time": "2022-02-22T07:11:35.175Z"
   },
   {
    "duration": 5,
    "start_time": "2022-02-22T07:11:41.045Z"
   },
   {
    "duration": 10,
    "start_time": "2022-02-22T07:11:57.381Z"
   },
   {
    "duration": 12,
    "start_time": "2022-02-22T07:31:48.728Z"
   },
   {
    "duration": 71,
    "start_time": "2022-02-22T07:44:47.314Z"
   },
   {
    "duration": 11,
    "start_time": "2022-02-22T08:25:51.131Z"
   },
   {
    "duration": 14,
    "start_time": "2022-02-22T08:36:50.787Z"
   },
   {
    "duration": 11,
    "start_time": "2022-02-22T08:45:02.835Z"
   },
   {
    "duration": 724,
    "start_time": "2022-02-22T09:02:42.199Z"
   },
   {
    "duration": 14,
    "start_time": "2022-02-22T09:02:42.925Z"
   },
   {
    "duration": 15,
    "start_time": "2022-02-22T09:02:42.941Z"
   },
   {
    "duration": 33,
    "start_time": "2022-02-22T09:02:42.958Z"
   },
   {
    "duration": 23,
    "start_time": "2022-02-22T09:02:42.993Z"
   },
   {
    "duration": 5,
    "start_time": "2022-02-22T09:02:43.018Z"
   },
   {
    "duration": 20,
    "start_time": "2022-02-22T09:02:43.024Z"
   },
   {
    "duration": 7,
    "start_time": "2022-02-22T09:02:43.047Z"
   },
   {
    "duration": 6,
    "start_time": "2022-02-22T09:02:43.056Z"
   },
   {
    "duration": 15,
    "start_time": "2022-02-22T09:02:43.064Z"
   },
   {
    "duration": 28,
    "start_time": "2022-02-22T09:02:43.081Z"
   },
   {
    "duration": 32,
    "start_time": "2022-02-22T09:02:43.111Z"
   },
   {
    "duration": 25,
    "start_time": "2022-02-22T09:02:43.146Z"
   },
   {
    "duration": 59,
    "start_time": "2022-02-22T09:02:43.173Z"
   },
   {
    "duration": 5,
    "start_time": "2022-02-22T09:02:43.234Z"
   },
   {
    "duration": 19,
    "start_time": "2022-02-22T09:02:43.241Z"
   },
   {
    "duration": 52,
    "start_time": "2022-02-22T09:02:43.262Z"
   },
   {
    "duration": 27,
    "start_time": "2022-02-22T09:02:43.316Z"
   },
   {
    "duration": 28,
    "start_time": "2022-02-22T09:02:43.345Z"
   },
   {
    "duration": 52,
    "start_time": "2022-02-22T09:02:43.376Z"
   },
   {
    "duration": 6,
    "start_time": "2022-02-22T09:02:43.431Z"
   },
   {
    "duration": 33,
    "start_time": "2022-02-22T09:02:43.439Z"
   },
   {
    "duration": 36,
    "start_time": "2022-02-22T09:02:43.476Z"
   },
   {
    "duration": 16,
    "start_time": "2022-02-22T09:02:43.514Z"
   },
   {
    "duration": 549,
    "start_time": "2022-02-22T09:02:43.532Z"
   },
   {
    "duration": 11,
    "start_time": "2022-02-22T09:02:44.084Z"
   },
   {
    "duration": 422,
    "start_time": "2022-02-22T09:02:44.109Z"
   },
   {
    "duration": 11,
    "start_time": "2022-02-22T09:02:44.533Z"
   },
   {
    "duration": 652,
    "start_time": "2022-02-22T09:02:44.547Z"
   },
   {
    "duration": 17,
    "start_time": "2022-02-22T09:02:45.201Z"
   },
   {
    "duration": 429,
    "start_time": "2022-02-22T09:02:45.220Z"
   },
   {
    "duration": 10,
    "start_time": "2022-02-22T09:02:45.651Z"
   },
   {
    "duration": 608,
    "start_time": "2022-03-04T12:10:06.888Z"
   },
   {
    "duration": 12,
    "start_time": "2022-03-04T12:10:07.498Z"
   },
   {
    "duration": 24,
    "start_time": "2022-03-04T12:10:07.511Z"
   },
   {
    "duration": 28,
    "start_time": "2022-03-04T12:10:07.536Z"
   },
   {
    "duration": 15,
    "start_time": "2022-03-04T12:10:07.565Z"
   },
   {
    "duration": 23,
    "start_time": "2022-03-04T12:10:07.582Z"
   },
   {
    "duration": 18,
    "start_time": "2022-03-04T12:10:07.607Z"
   },
   {
    "duration": 19,
    "start_time": "2022-03-04T12:10:07.627Z"
   },
   {
    "duration": 14,
    "start_time": "2022-03-04T12:10:07.648Z"
   },
   {
    "duration": 31,
    "start_time": "2022-03-04T12:10:07.663Z"
   },
   {
    "duration": 12,
    "start_time": "2022-03-04T12:10:07.696Z"
   },
   {
    "duration": 18,
    "start_time": "2022-03-04T12:10:07.710Z"
   },
   {
    "duration": 26,
    "start_time": "2022-03-04T12:10:07.730Z"
   },
   {
    "duration": 25,
    "start_time": "2022-03-04T12:10:07.758Z"
   },
   {
    "duration": 4,
    "start_time": "2022-03-04T12:10:07.784Z"
   },
   {
    "duration": 8,
    "start_time": "2022-03-04T12:10:07.789Z"
   },
   {
    "duration": 47,
    "start_time": "2022-03-04T12:10:07.799Z"
   },
   {
    "duration": 19,
    "start_time": "2022-03-04T12:10:07.848Z"
   },
   {
    "duration": 22,
    "start_time": "2022-03-04T12:10:07.869Z"
   },
   {
    "duration": 18,
    "start_time": "2022-03-04T12:10:07.892Z"
   },
   {
    "duration": 8,
    "start_time": "2022-03-04T12:10:07.911Z"
   },
   {
    "duration": 48,
    "start_time": "2022-03-04T12:10:07.920Z"
   },
   {
    "duration": 4,
    "start_time": "2022-03-04T12:10:07.971Z"
   },
   {
    "duration": 21,
    "start_time": "2022-03-04T12:10:07.976Z"
   },
   {
    "duration": 348,
    "start_time": "2022-03-04T12:10:07.998Z"
   },
   {
    "duration": 8,
    "start_time": "2022-03-04T12:10:08.348Z"
   },
   {
    "duration": 362,
    "start_time": "2022-03-04T12:10:08.358Z"
   },
   {
    "duration": 8,
    "start_time": "2022-03-04T12:10:08.722Z"
   },
   {
    "duration": 387,
    "start_time": "2022-03-04T12:10:08.732Z"
   },
   {
    "duration": 9,
    "start_time": "2022-03-04T12:10:09.121Z"
   },
   {
    "duration": 371,
    "start_time": "2022-03-04T12:10:09.131Z"
   },
   {
    "duration": 8,
    "start_time": "2022-03-04T12:10:09.504Z"
   },
   {
    "duration": 5,
    "start_time": "2022-03-04T12:16:07.047Z"
   },
   {
    "duration": 5,
    "start_time": "2022-03-04T12:16:13.068Z"
   },
   {
    "duration": 279,
    "start_time": "2022-03-04T12:16:18.768Z"
   },
   {
    "duration": 6,
    "start_time": "2022-03-04T12:16:22.237Z"
   },
   {
    "duration": 5,
    "start_time": "2022-03-04T12:16:27.027Z"
   },
   {
    "duration": 418,
    "start_time": "2022-03-07T16:23:08.440Z"
   },
   {
    "duration": 894,
    "start_time": "2022-03-07T16:23:18.229Z"
   },
   {
    "duration": 15,
    "start_time": "2022-03-07T16:23:19.126Z"
   },
   {
    "duration": 12,
    "start_time": "2022-03-07T16:23:19.145Z"
   },
   {
    "duration": 7,
    "start_time": "2022-03-07T16:23:19.174Z"
   },
   {
    "duration": 8,
    "start_time": "2022-03-07T16:23:19.184Z"
   },
   {
    "duration": 7,
    "start_time": "2022-03-07T16:23:19.195Z"
   },
   {
    "duration": 18,
    "start_time": "2022-03-07T16:23:19.204Z"
   },
   {
    "duration": 60,
    "start_time": "2022-03-07T16:23:19.225Z"
   },
   {
    "duration": 8,
    "start_time": "2022-03-07T16:23:19.291Z"
   },
   {
    "duration": 18,
    "start_time": "2022-03-07T16:23:19.302Z"
   },
   {
    "duration": 7,
    "start_time": "2022-03-07T16:23:19.322Z"
   },
   {
    "duration": 64,
    "start_time": "2022-03-07T16:23:19.331Z"
   },
   {
    "duration": 30,
    "start_time": "2022-03-07T16:23:19.397Z"
   },
   {
    "duration": 68,
    "start_time": "2022-03-07T16:23:19.431Z"
   },
   {
    "duration": 7,
    "start_time": "2022-03-07T16:23:19.502Z"
   },
   {
    "duration": 10,
    "start_time": "2022-03-07T16:23:19.512Z"
   },
   {
    "duration": 13,
    "start_time": "2022-03-07T16:23:19.525Z"
   },
   {
    "duration": 79,
    "start_time": "2022-03-07T16:23:19.541Z"
   },
   {
    "duration": 57,
    "start_time": "2022-03-07T16:23:19.623Z"
   },
   {
    "duration": 47,
    "start_time": "2022-03-07T16:23:19.683Z"
   },
   {
    "duration": 65,
    "start_time": "2022-03-07T16:23:19.733Z"
   },
   {
    "duration": 8,
    "start_time": "2022-03-07T16:23:19.801Z"
   },
   {
    "duration": 63,
    "start_time": "2022-03-07T16:23:19.812Z"
   },
   {
    "duration": 6,
    "start_time": "2022-03-07T16:23:19.878Z"
   },
   {
    "duration": 33,
    "start_time": "2022-03-07T16:23:19.886Z"
   },
   {
    "duration": 742,
    "start_time": "2022-03-07T16:23:19.922Z"
   },
   {
    "duration": 18,
    "start_time": "2022-03-07T16:23:20.675Z"
   },
   {
    "duration": 649,
    "start_time": "2022-03-07T16:23:20.696Z"
   },
   {
    "duration": 27,
    "start_time": "2022-03-07T16:23:21.348Z"
   },
   {
    "duration": 630,
    "start_time": "2022-03-07T16:23:21.377Z"
   },
   {
    "duration": 16,
    "start_time": "2022-03-07T16:23:22.010Z"
   },
   {
    "duration": 637,
    "start_time": "2022-03-07T16:23:22.028Z"
   },
   {
    "duration": 18,
    "start_time": "2022-03-07T16:23:22.667Z"
   },
   {
    "duration": 15,
    "start_time": "2022-03-07T16:32:19.194Z"
   },
   {
    "duration": 9,
    "start_time": "2022-03-07T16:32:32.601Z"
   },
   {
    "duration": 7,
    "start_time": "2022-03-07T16:42:39.573Z"
   },
   {
    "duration": 6,
    "start_time": "2022-03-07T16:46:34.341Z"
   },
   {
    "duration": 8,
    "start_time": "2022-03-07T16:46:52.512Z"
   },
   {
    "duration": 12,
    "start_time": "2022-03-07T16:50:49.566Z"
   },
   {
    "duration": 14,
    "start_time": "2022-03-07T16:51:08.807Z"
   },
   {
    "duration": 105,
    "start_time": "2022-03-07T16:52:15.328Z"
   },
   {
    "duration": 414,
    "start_time": "2022-03-07T17:03:07.263Z"
   },
   {
    "duration": 298,
    "start_time": "2022-03-07T17:03:35.441Z"
   },
   {
    "duration": 327,
    "start_time": "2022-03-07T17:03:46.562Z"
   },
   {
    "duration": 15,
    "start_time": "2022-03-07T17:06:46.683Z"
   },
   {
    "duration": 310,
    "start_time": "2022-03-07T17:11:29.254Z"
   },
   {
    "duration": 1071,
    "start_time": "2022-03-07T17:11:44.791Z"
   },
   {
    "duration": 19,
    "start_time": "2022-03-07T17:11:45.866Z"
   },
   {
    "duration": 12,
    "start_time": "2022-03-07T17:11:45.889Z"
   },
   {
    "duration": 13,
    "start_time": "2022-03-07T17:11:45.905Z"
   },
   {
    "duration": 7,
    "start_time": "2022-03-07T17:11:45.921Z"
   },
   {
    "duration": 6,
    "start_time": "2022-03-07T17:11:45.974Z"
   },
   {
    "duration": 28,
    "start_time": "2022-03-07T17:11:45.983Z"
   },
   {
    "duration": 10,
    "start_time": "2022-03-07T17:11:46.015Z"
   },
   {
    "duration": 8,
    "start_time": "2022-03-07T17:11:46.029Z"
   },
   {
    "duration": 17,
    "start_time": "2022-03-07T17:11:46.074Z"
   },
   {
    "duration": 8,
    "start_time": "2022-03-07T17:11:46.094Z"
   },
   {
    "duration": 39,
    "start_time": "2022-03-07T17:11:46.105Z"
   },
   {
    "duration": 30,
    "start_time": "2022-03-07T17:11:46.174Z"
   },
   {
    "duration": 74,
    "start_time": "2022-03-07T17:11:46.206Z"
   },
   {
    "duration": 5,
    "start_time": "2022-03-07T17:11:46.282Z"
   },
   {
    "duration": 13,
    "start_time": "2022-03-07T17:11:46.289Z"
   },
   {
    "duration": 20,
    "start_time": "2022-03-07T17:11:46.305Z"
   },
   {
    "duration": 19,
    "start_time": "2022-03-07T17:11:46.329Z"
   },
   {
    "duration": 26,
    "start_time": "2022-03-07T17:11:46.350Z"
   },
   {
    "duration": 55,
    "start_time": "2022-03-07T17:11:46.380Z"
   },
   {
    "duration": 56,
    "start_time": "2022-03-07T17:11:46.438Z"
   },
   {
    "duration": 39,
    "start_time": "2022-03-07T17:11:46.497Z"
   },
   {
    "duration": 32,
    "start_time": "2022-03-07T17:11:46.576Z"
   },
   {
    "duration": 11,
    "start_time": "2022-03-07T17:11:46.611Z"
   },
   {
    "duration": 76,
    "start_time": "2022-03-07T17:11:46.625Z"
   },
   {
    "duration": 9,
    "start_time": "2022-03-07T17:11:46.704Z"
   },
   {
    "duration": 19,
    "start_time": "2022-03-07T17:11:46.716Z"
   },
   {
    "duration": 638,
    "start_time": "2022-03-07T17:11:46.737Z"
   },
   {
    "duration": 398,
    "start_time": "2022-03-07T17:11:47.377Z"
   },
   {
    "duration": -40,
    "start_time": "2022-03-07T17:11:47.817Z"
   },
   {
    "duration": -55,
    "start_time": "2022-03-07T17:11:47.834Z"
   },
   {
    "duration": -56,
    "start_time": "2022-03-07T17:11:47.836Z"
   },
   {
    "duration": -96,
    "start_time": "2022-03-07T17:11:47.878Z"
   },
   {
    "duration": -98,
    "start_time": "2022-03-07T17:11:47.881Z"
   },
   {
    "duration": -99,
    "start_time": "2022-03-07T17:11:47.884Z"
   },
   {
    "duration": 304,
    "start_time": "2022-03-07T17:13:57.378Z"
   },
   {
    "duration": 39,
    "start_time": "2022-03-07T17:15:03.068Z"
   },
   {
    "duration": 55,
    "start_time": "2022-03-07T17:15:14.712Z"
   },
   {
    "duration": 32,
    "start_time": "2022-03-07T17:17:50.603Z"
   },
   {
    "duration": 36,
    "start_time": "2022-03-07T17:19:53.166Z"
   },
   {
    "duration": 830,
    "start_time": "2022-03-07T17:20:04.226Z"
   },
   {
    "duration": 20,
    "start_time": "2022-03-07T17:20:05.058Z"
   },
   {
    "duration": 12,
    "start_time": "2022-03-07T17:20:05.081Z"
   },
   {
    "duration": 9,
    "start_time": "2022-03-07T17:20:05.096Z"
   },
   {
    "duration": 16,
    "start_time": "2022-03-07T17:20:05.108Z"
   },
   {
    "duration": 47,
    "start_time": "2022-03-07T17:20:05.126Z"
   },
   {
    "duration": 16,
    "start_time": "2022-03-07T17:20:05.175Z"
   },
   {
    "duration": 13,
    "start_time": "2022-03-07T17:20:05.197Z"
   },
   {
    "duration": 10,
    "start_time": "2022-03-07T17:20:05.214Z"
   },
   {
    "duration": 57,
    "start_time": "2022-03-07T17:20:05.226Z"
   },
   {
    "duration": 13,
    "start_time": "2022-03-07T17:20:05.286Z"
   },
   {
    "duration": 22,
    "start_time": "2022-03-07T17:20:05.302Z"
   },
   {
    "duration": 57,
    "start_time": "2022-03-07T17:20:05.326Z"
   },
   {
    "duration": 39,
    "start_time": "2022-03-07T17:20:05.385Z"
   },
   {
    "duration": 5,
    "start_time": "2022-03-07T17:20:05.426Z"
   },
   {
    "duration": 22,
    "start_time": "2022-03-07T17:20:05.433Z"
   },
   {
    "duration": 7,
    "start_time": "2022-03-07T17:20:05.475Z"
   },
   {
    "duration": 23,
    "start_time": "2022-03-07T17:20:05.485Z"
   },
   {
    "duration": 6,
    "start_time": "2022-03-07T17:20:05.511Z"
   },
   {
    "duration": 79,
    "start_time": "2022-03-07T17:20:05.519Z"
   },
   {
    "duration": 30,
    "start_time": "2022-03-07T17:20:05.601Z"
   },
   {
    "duration": 62,
    "start_time": "2022-03-07T17:20:05.634Z"
   },
   {
    "duration": 32,
    "start_time": "2022-03-07T17:20:05.701Z"
   },
   {
    "duration": 39,
    "start_time": "2022-03-07T17:20:05.735Z"
   },
   {
    "duration": 34,
    "start_time": "2022-03-07T17:20:05.777Z"
   },
   {
    "duration": 7,
    "start_time": "2022-03-07T17:20:05.813Z"
   },
   {
    "duration": 51,
    "start_time": "2022-03-07T17:20:05.823Z"
   },
   {
    "duration": 619,
    "start_time": "2022-03-07T17:20:05.877Z"
   },
   {
    "duration": 415,
    "start_time": "2022-03-07T17:20:06.499Z"
   },
   {
    "duration": -32,
    "start_time": "2022-03-07T17:20:06.948Z"
   },
   {
    "duration": -146,
    "start_time": "2022-03-07T17:20:07.064Z"
   },
   {
    "duration": -147,
    "start_time": "2022-03-07T17:20:07.066Z"
   },
   {
    "duration": -148,
    "start_time": "2022-03-07T17:20:07.069Z"
   },
   {
    "duration": -149,
    "start_time": "2022-03-07T17:20:07.071Z"
   },
   {
    "duration": -155,
    "start_time": "2022-03-07T17:20:07.079Z"
   },
   {
    "duration": 35,
    "start_time": "2022-03-07T17:20:27.810Z"
   },
   {
    "duration": 36,
    "start_time": "2022-03-07T17:21:43.667Z"
   },
   {
    "duration": 599,
    "start_time": "2022-03-07T17:22:37.605Z"
   },
   {
    "duration": 15,
    "start_time": "2022-03-07T17:22:44.166Z"
   },
   {
    "duration": 47,
    "start_time": "2022-03-07T17:26:10.008Z"
   },
   {
    "duration": 44,
    "start_time": "2022-03-07T17:28:23.661Z"
   },
   {
    "duration": 40,
    "start_time": "2022-03-07T17:29:03.063Z"
   },
   {
    "duration": 47,
    "start_time": "2022-03-07T17:31:42.002Z"
   },
   {
    "duration": 46,
    "start_time": "2022-03-07T17:38:24.701Z"
   },
   {
    "duration": 344,
    "start_time": "2022-03-07T17:39:14.564Z"
   },
   {
    "duration": 40,
    "start_time": "2022-03-07T17:40:44.176Z"
   },
   {
    "duration": 38,
    "start_time": "2022-03-07T17:40:54.357Z"
   },
   {
    "duration": 44,
    "start_time": "2022-03-07T17:43:57.021Z"
   },
   {
    "duration": 52,
    "start_time": "2022-03-07T17:45:06.283Z"
   },
   {
    "duration": 38,
    "start_time": "2022-03-07T17:45:26.233Z"
   },
   {
    "duration": 52,
    "start_time": "2022-03-07T17:48:14.780Z"
   },
   {
    "duration": 38,
    "start_time": "2022-03-07T17:50:11.458Z"
   },
   {
    "duration": 861,
    "start_time": "2022-03-07T17:51:15.634Z"
   },
   {
    "duration": 15,
    "start_time": "2022-03-07T17:51:16.497Z"
   },
   {
    "duration": 12,
    "start_time": "2022-03-07T17:51:16.515Z"
   },
   {
    "duration": 6,
    "start_time": "2022-03-07T17:51:16.530Z"
   },
   {
    "duration": 34,
    "start_time": "2022-03-07T17:51:16.539Z"
   },
   {
    "duration": 5,
    "start_time": "2022-03-07T17:51:16.575Z"
   },
   {
    "duration": 18,
    "start_time": "2022-03-07T17:51:16.582Z"
   },
   {
    "duration": 13,
    "start_time": "2022-03-07T17:51:16.603Z"
   },
   {
    "duration": 7,
    "start_time": "2022-03-07T17:51:16.619Z"
   },
   {
    "duration": 51,
    "start_time": "2022-03-07T17:51:16.628Z"
   },
   {
    "duration": 6,
    "start_time": "2022-03-07T17:51:16.682Z"
   },
   {
    "duration": 21,
    "start_time": "2022-03-07T17:51:16.691Z"
   },
   {
    "duration": 27,
    "start_time": "2022-03-07T17:51:16.715Z"
   },
   {
    "duration": 38,
    "start_time": "2022-03-07T17:51:16.774Z"
   },
   {
    "duration": 5,
    "start_time": "2022-03-07T17:51:16.814Z"
   },
   {
    "duration": 12,
    "start_time": "2022-03-07T17:51:16.821Z"
   },
   {
    "duration": 42,
    "start_time": "2022-03-07T17:51:16.835Z"
   },
   {
    "duration": 12,
    "start_time": "2022-03-07T17:51:16.880Z"
   },
   {
    "duration": 5,
    "start_time": "2022-03-07T17:51:16.894Z"
   },
   {
    "duration": 84,
    "start_time": "2022-03-07T17:51:16.902Z"
   },
   {
    "duration": 32,
    "start_time": "2022-03-07T17:51:16.989Z"
   },
   {
    "duration": 66,
    "start_time": "2022-03-07T17:51:17.024Z"
   },
   {
    "duration": 32,
    "start_time": "2022-03-07T17:51:17.095Z"
   },
   {
    "duration": 15,
    "start_time": "2022-03-07T17:51:17.130Z"
   },
   {
    "duration": 33,
    "start_time": "2022-03-07T17:51:17.173Z"
   },
   {
    "duration": 6,
    "start_time": "2022-03-07T17:51:17.208Z"
   },
   {
    "duration": 15,
    "start_time": "2022-03-07T17:51:17.217Z"
   },
   {
    "duration": 651,
    "start_time": "2022-03-07T17:51:17.235Z"
   },
   {
    "duration": 38,
    "start_time": "2022-03-07T17:51:17.888Z"
   },
   {
    "duration": 631,
    "start_time": "2022-03-07T17:51:17.928Z"
   },
   {
    "duration": 49,
    "start_time": "2022-03-07T17:51:18.562Z"
   },
   {
    "duration": 643,
    "start_time": "2022-03-07T17:51:18.613Z"
   },
   {
    "duration": 47,
    "start_time": "2022-03-07T17:51:19.259Z"
   },
   {
    "duration": 624,
    "start_time": "2022-03-07T17:51:19.309Z"
   },
   {
    "duration": 54,
    "start_time": "2022-03-07T17:51:19.935Z"
   },
   {
    "duration": 885,
    "start_time": "2022-03-07T17:53:02.442Z"
   },
   {
    "duration": 16,
    "start_time": "2022-03-07T17:53:03.330Z"
   },
   {
    "duration": 28,
    "start_time": "2022-03-07T17:53:03.350Z"
   },
   {
    "duration": 159,
    "start_time": "2022-03-07T17:53:03.381Z"
   },
   {
    "duration": 49,
    "start_time": "2022-03-07T17:53:03.543Z"
   },
   {
    "duration": 10,
    "start_time": "2022-03-07T17:53:03.594Z"
   },
   {
    "duration": 14,
    "start_time": "2022-03-07T17:53:03.606Z"
   },
   {
    "duration": 13,
    "start_time": "2022-03-07T17:53:03.622Z"
   },
   {
    "duration": 8,
    "start_time": "2022-03-07T17:53:03.638Z"
   },
   {
    "duration": 15,
    "start_time": "2022-03-07T17:53:03.673Z"
   },
   {
    "duration": 7,
    "start_time": "2022-03-07T17:53:03.690Z"
   },
   {
    "duration": 21,
    "start_time": "2022-03-07T17:53:03.699Z"
   },
   {
    "duration": 65,
    "start_time": "2022-03-07T17:53:03.722Z"
   },
   {
    "duration": 38,
    "start_time": "2022-03-07T17:53:03.789Z"
   },
   {
    "duration": 4,
    "start_time": "2022-03-07T17:53:03.829Z"
   },
   {
    "duration": 38,
    "start_time": "2022-03-07T17:53:03.835Z"
   },
   {
    "duration": 7,
    "start_time": "2022-03-07T17:53:03.876Z"
   },
   {
    "duration": 15,
    "start_time": "2022-03-07T17:53:03.885Z"
   },
   {
    "duration": 8,
    "start_time": "2022-03-07T17:53:03.903Z"
   },
   {
    "duration": 83,
    "start_time": "2022-03-07T17:53:03.913Z"
   },
   {
    "duration": 32,
    "start_time": "2022-03-07T17:53:03.998Z"
   },
   {
    "duration": 62,
    "start_time": "2022-03-07T17:53:04.033Z"
   },
   {
    "duration": 30,
    "start_time": "2022-03-07T17:53:04.097Z"
   },
   {
    "duration": 10,
    "start_time": "2022-03-07T17:53:04.130Z"
   },
   {
    "duration": 33,
    "start_time": "2022-03-07T17:53:04.173Z"
   },
   {
    "duration": 19,
    "start_time": "2022-03-07T17:53:04.208Z"
   },
   {
    "duration": 23,
    "start_time": "2022-03-07T17:53:04.232Z"
   },
   {
    "duration": 627,
    "start_time": "2022-03-07T17:53:04.258Z"
   },
   {
    "duration": 37,
    "start_time": "2022-03-07T17:53:04.888Z"
   },
   {
    "duration": 63,
    "start_time": "2022-03-07T17:53:04.928Z"
   },
   {
    "duration": 642,
    "start_time": "2022-03-07T17:53:04.994Z"
   },
   {
    "duration": 52,
    "start_time": "2022-03-07T17:53:05.638Z"
   },
   {
    "duration": 728,
    "start_time": "2022-03-07T17:53:05.692Z"
   },
   {
    "duration": 54,
    "start_time": "2022-03-07T17:53:06.423Z"
   },
   {
    "duration": 603,
    "start_time": "2022-03-07T17:53:46.328Z"
   },
   {
    "duration": 816,
    "start_time": "2022-03-09T09:03:06.306Z"
   },
   {
    "duration": 32,
    "start_time": "2022-03-09T09:03:07.125Z"
   },
   {
    "duration": 17,
    "start_time": "2022-03-09T09:03:07.161Z"
   },
   {
    "duration": 9,
    "start_time": "2022-03-09T09:03:07.182Z"
   },
   {
    "duration": 6,
    "start_time": "2022-03-09T09:03:07.195Z"
   },
   {
    "duration": 48,
    "start_time": "2022-03-09T09:03:07.204Z"
   },
   {
    "duration": 13,
    "start_time": "2022-03-09T09:03:07.255Z"
   },
   {
    "duration": 9,
    "start_time": "2022-03-09T09:03:07.270Z"
   },
   {
    "duration": 7,
    "start_time": "2022-03-09T09:03:07.282Z"
   },
   {
    "duration": 14,
    "start_time": "2022-03-09T09:03:07.292Z"
   },
   {
    "duration": 6,
    "start_time": "2022-03-09T09:03:07.351Z"
   },
   {
    "duration": 21,
    "start_time": "2022-03-09T09:03:07.360Z"
   },
   {
    "duration": 23,
    "start_time": "2022-03-09T09:03:07.383Z"
   },
   {
    "duration": 82,
    "start_time": "2022-03-09T09:03:07.408Z"
   },
   {
    "duration": 4,
    "start_time": "2022-03-09T09:03:07.492Z"
   },
   {
    "duration": 12,
    "start_time": "2022-03-09T09:03:07.499Z"
   },
   {
    "duration": 42,
    "start_time": "2022-03-09T09:03:07.513Z"
   },
   {
    "duration": 11,
    "start_time": "2022-03-09T09:03:07.558Z"
   },
   {
    "duration": 5,
    "start_time": "2022-03-09T09:03:07.572Z"
   },
   {
    "duration": 92,
    "start_time": "2022-03-09T09:03:07.580Z"
   },
   {
    "duration": 47,
    "start_time": "2022-03-09T09:03:07.675Z"
   },
   {
    "duration": 57,
    "start_time": "2022-03-09T09:03:07.725Z"
   },
   {
    "duration": 33,
    "start_time": "2022-03-09T09:03:07.785Z"
   },
   {
    "duration": 9,
    "start_time": "2022-03-09T09:03:07.852Z"
   },
   {
    "duration": 49,
    "start_time": "2022-03-09T09:03:07.864Z"
   },
   {
    "duration": 36,
    "start_time": "2022-03-09T09:03:07.917Z"
   },
   {
    "duration": 21,
    "start_time": "2022-03-09T09:03:07.960Z"
   },
   {
    "duration": 641,
    "start_time": "2022-03-09T09:03:07.984Z"
   },
   {
    "duration": 45,
    "start_time": "2022-03-09T09:03:08.628Z"
   },
   {
    "duration": 17,
    "start_time": "2022-03-09T09:03:13.725Z"
   },
   {
    "duration": 18,
    "start_time": "2022-03-09T09:03:23.257Z"
   },
   {
    "duration": 19,
    "start_time": "2022-03-09T09:03:39.782Z"
   },
   {
    "duration": 41,
    "start_time": "2022-05-02T20:04:46.550Z"
   },
   {
    "duration": 741,
    "start_time": "2022-08-05T13:45:22.026Z"
   },
   {
    "duration": 17,
    "start_time": "2022-08-05T13:45:22.769Z"
   },
   {
    "duration": 9,
    "start_time": "2022-08-05T13:45:22.788Z"
   },
   {
    "duration": 6,
    "start_time": "2022-08-05T13:45:22.799Z"
   },
   {
    "duration": 5,
    "start_time": "2022-08-05T13:45:22.807Z"
   },
   {
    "duration": 5,
    "start_time": "2022-08-05T13:45:22.814Z"
   },
   {
    "duration": 12,
    "start_time": "2022-08-05T13:45:22.821Z"
   },
   {
    "duration": 6,
    "start_time": "2022-08-05T13:45:22.834Z"
   },
   {
    "duration": 7,
    "start_time": "2022-08-05T13:45:22.842Z"
   },
   {
    "duration": 14,
    "start_time": "2022-08-05T13:45:22.850Z"
   },
   {
    "duration": 6,
    "start_time": "2022-08-05T13:45:22.866Z"
   },
   {
    "duration": 15,
    "start_time": "2022-08-05T13:45:22.910Z"
   },
   {
    "duration": 19,
    "start_time": "2022-08-05T13:45:22.927Z"
   },
   {
    "duration": 22,
    "start_time": "2022-08-05T13:45:22.949Z"
   },
   {
    "duration": 3,
    "start_time": "2022-08-05T13:45:22.973Z"
   },
   {
    "duration": 32,
    "start_time": "2022-08-05T13:45:22.978Z"
   },
   {
    "duration": 17,
    "start_time": "2022-08-05T13:45:23.011Z"
   },
   {
    "duration": 11,
    "start_time": "2022-08-05T13:45:23.030Z"
   },
   {
    "duration": 9,
    "start_time": "2022-08-05T13:45:23.043Z"
   },
   {
    "duration": 38,
    "start_time": "2022-08-05T13:45:23.054Z"
   },
   {
    "duration": 36,
    "start_time": "2022-08-05T13:45:23.094Z"
   },
   {
    "duration": 28,
    "start_time": "2022-08-05T13:45:23.131Z"
   },
   {
    "duration": 20,
    "start_time": "2022-08-05T13:45:23.160Z"
   },
   {
    "duration": 6,
    "start_time": "2022-08-05T13:45:23.209Z"
   },
   {
    "duration": 18,
    "start_time": "2022-08-05T13:45:23.217Z"
   },
   {
    "duration": 13,
    "start_time": "2022-08-05T13:45:23.237Z"
   },
   {
    "duration": 10,
    "start_time": "2022-08-05T13:45:23.252Z"
   },
   {
    "duration": 216,
    "start_time": "2022-08-05T13:45:23.264Z"
   },
   {
    "duration": 30,
    "start_time": "2022-08-05T13:45:23.482Z"
   },
   {
    "duration": 12,
    "start_time": "2022-08-05T13:45:23.514Z"
   },
   {
    "duration": 13,
    "start_time": "2022-08-05T13:45:23.528Z"
   },
   {
    "duration": 14,
    "start_time": "2022-08-05T13:45:23.543Z"
   },
   {
    "duration": 227,
    "start_time": "2022-08-05T13:45:23.559Z"
   },
   {
    "duration": 40,
    "start_time": "2022-08-05T13:45:23.789Z"
   },
   {
    "duration": 199,
    "start_time": "2022-08-05T13:45:23.832Z"
   },
   {
    "duration": 35,
    "start_time": "2022-08-05T13:45:24.033Z"
   },
   {
    "duration": 213,
    "start_time": "2022-08-05T13:45:24.070Z"
   },
   {
    "duration": 38,
    "start_time": "2022-08-05T13:45:24.284Z"
   }
  ],
  "kernelspec": {
   "display_name": "Python 3 (ipykernel)",
   "language": "python",
   "name": "python3"
  },
  "language_info": {
   "codemirror_mode": {
    "name": "ipython",
    "version": 3
   },
   "file_extension": ".py",
   "mimetype": "text/x-python",
   "name": "python",
   "nbconvert_exporter": "python",
   "pygments_lexer": "ipython3",
   "version": "3.9.7"
  },
  "toc": {
   "base_numbering": 1,
   "nav_menu": {},
   "number_sections": true,
   "sideBar": true,
   "skip_h1_title": true,
   "title_cell": "Table of Contents",
   "title_sidebar": "Contents",
   "toc_cell": false,
   "toc_position": {},
   "toc_section_display": true,
   "toc_window_display": true
  }
 },
 "nbformat": 4,
 "nbformat_minor": 5
}
