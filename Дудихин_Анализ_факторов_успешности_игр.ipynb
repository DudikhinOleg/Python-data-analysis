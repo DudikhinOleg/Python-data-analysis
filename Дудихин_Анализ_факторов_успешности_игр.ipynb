{
 "cells": [
  {
   "cell_type": "markdown",
   "metadata": {},
   "source": [
    "<h1>Сборный проект</h1>\n",
    "В рамках проекта проанализируем данные о продажах он-лайн магазин игр. Определим основные и перспективыне игровые платформы, жанры. Оценим влияние отзывов пользователей и критиков на объемы продаж. Соберем портрет типичнго пользователся в различных регионах и проверим гипотезу об объемах продаж для различных жанров и платформ.\n",
    "<h2>Предобработка данных</h2>"
   ]
  },
  {
   "cell_type": "markdown",
   "metadata": {},
   "source": [
    "Импортируем необходимые библиотеки и средства для дальнейшей работы"
   ]
  },
  {
   "cell_type": "code",
   "execution_count": 1,
   "metadata": {},
   "outputs": [],
   "source": [
    "import pandas as pd\n",
    "import numpy as np\n",
    "import seaborn as sns\n",
    "import matplotlib.pyplot as plt\n",
    "from scipy import stats as st"
   ]
  },
  {
   "cell_type": "markdown",
   "metadata": {},
   "source": [
    "Откроем файл данных, выведем первые 10 строчек в таблицу и описание датасета"
   ]
  },
  {
   "cell_type": "code",
   "execution_count": 2,
   "metadata": {},
   "outputs": [
    {
     "data": {
      "text/html": [
       "<div>\n",
       "<style scoped>\n",
       "    .dataframe tbody tr th:only-of-type {\n",
       "        vertical-align: middle;\n",
       "    }\n",
       "\n",
       "    .dataframe tbody tr th {\n",
       "        vertical-align: top;\n",
       "    }\n",
       "\n",
       "    .dataframe thead th {\n",
       "        text-align: right;\n",
       "    }\n",
       "</style>\n",
       "<table border=\"1\" class=\"dataframe\">\n",
       "  <thead>\n",
       "    <tr style=\"text-align: right;\">\n",
       "      <th></th>\n",
       "      <th>Name</th>\n",
       "      <th>Platform</th>\n",
       "      <th>Year_of_Release</th>\n",
       "      <th>Genre</th>\n",
       "      <th>NA_sales</th>\n",
       "      <th>EU_sales</th>\n",
       "      <th>JP_sales</th>\n",
       "      <th>Other_sales</th>\n",
       "      <th>Critic_Score</th>\n",
       "      <th>User_Score</th>\n",
       "      <th>Rating</th>\n",
       "    </tr>\n",
       "  </thead>\n",
       "  <tbody>\n",
       "    <tr>\n",
       "      <th>0</th>\n",
       "      <td>Wii Sports</td>\n",
       "      <td>Wii</td>\n",
       "      <td>2006.0</td>\n",
       "      <td>Sports</td>\n",
       "      <td>41.36</td>\n",
       "      <td>28.96</td>\n",
       "      <td>3.77</td>\n",
       "      <td>8.45</td>\n",
       "      <td>76.0</td>\n",
       "      <td>8</td>\n",
       "      <td>E</td>\n",
       "    </tr>\n",
       "    <tr>\n",
       "      <th>1</th>\n",
       "      <td>Super Mario Bros.</td>\n",
       "      <td>NES</td>\n",
       "      <td>1985.0</td>\n",
       "      <td>Platform</td>\n",
       "      <td>29.08</td>\n",
       "      <td>3.58</td>\n",
       "      <td>6.81</td>\n",
       "      <td>0.77</td>\n",
       "      <td>NaN</td>\n",
       "      <td>NaN</td>\n",
       "      <td>NaN</td>\n",
       "    </tr>\n",
       "    <tr>\n",
       "      <th>2</th>\n",
       "      <td>Mario Kart Wii</td>\n",
       "      <td>Wii</td>\n",
       "      <td>2008.0</td>\n",
       "      <td>Racing</td>\n",
       "      <td>15.68</td>\n",
       "      <td>12.76</td>\n",
       "      <td>3.79</td>\n",
       "      <td>3.29</td>\n",
       "      <td>82.0</td>\n",
       "      <td>8.3</td>\n",
       "      <td>E</td>\n",
       "    </tr>\n",
       "    <tr>\n",
       "      <th>3</th>\n",
       "      <td>Wii Sports Resort</td>\n",
       "      <td>Wii</td>\n",
       "      <td>2009.0</td>\n",
       "      <td>Sports</td>\n",
       "      <td>15.61</td>\n",
       "      <td>10.93</td>\n",
       "      <td>3.28</td>\n",
       "      <td>2.95</td>\n",
       "      <td>80.0</td>\n",
       "      <td>8</td>\n",
       "      <td>E</td>\n",
       "    </tr>\n",
       "    <tr>\n",
       "      <th>4</th>\n",
       "      <td>Pokemon Red/Pokemon Blue</td>\n",
       "      <td>GB</td>\n",
       "      <td>1996.0</td>\n",
       "      <td>Role-Playing</td>\n",
       "      <td>11.27</td>\n",
       "      <td>8.89</td>\n",
       "      <td>10.22</td>\n",
       "      <td>1.00</td>\n",
       "      <td>NaN</td>\n",
       "      <td>NaN</td>\n",
       "      <td>NaN</td>\n",
       "    </tr>\n",
       "    <tr>\n",
       "      <th>5</th>\n",
       "      <td>Tetris</td>\n",
       "      <td>GB</td>\n",
       "      <td>1989.0</td>\n",
       "      <td>Puzzle</td>\n",
       "      <td>23.20</td>\n",
       "      <td>2.26</td>\n",
       "      <td>4.22</td>\n",
       "      <td>0.58</td>\n",
       "      <td>NaN</td>\n",
       "      <td>NaN</td>\n",
       "      <td>NaN</td>\n",
       "    </tr>\n",
       "    <tr>\n",
       "      <th>6</th>\n",
       "      <td>New Super Mario Bros.</td>\n",
       "      <td>DS</td>\n",
       "      <td>2006.0</td>\n",
       "      <td>Platform</td>\n",
       "      <td>11.28</td>\n",
       "      <td>9.14</td>\n",
       "      <td>6.50</td>\n",
       "      <td>2.88</td>\n",
       "      <td>89.0</td>\n",
       "      <td>8.5</td>\n",
       "      <td>E</td>\n",
       "    </tr>\n",
       "    <tr>\n",
       "      <th>7</th>\n",
       "      <td>Wii Play</td>\n",
       "      <td>Wii</td>\n",
       "      <td>2006.0</td>\n",
       "      <td>Misc</td>\n",
       "      <td>13.96</td>\n",
       "      <td>9.18</td>\n",
       "      <td>2.93</td>\n",
       "      <td>2.84</td>\n",
       "      <td>58.0</td>\n",
       "      <td>6.6</td>\n",
       "      <td>E</td>\n",
       "    </tr>\n",
       "    <tr>\n",
       "      <th>8</th>\n",
       "      <td>New Super Mario Bros. Wii</td>\n",
       "      <td>Wii</td>\n",
       "      <td>2009.0</td>\n",
       "      <td>Platform</td>\n",
       "      <td>14.44</td>\n",
       "      <td>6.94</td>\n",
       "      <td>4.70</td>\n",
       "      <td>2.24</td>\n",
       "      <td>87.0</td>\n",
       "      <td>8.4</td>\n",
       "      <td>E</td>\n",
       "    </tr>\n",
       "    <tr>\n",
       "      <th>9</th>\n",
       "      <td>Duck Hunt</td>\n",
       "      <td>NES</td>\n",
       "      <td>1984.0</td>\n",
       "      <td>Shooter</td>\n",
       "      <td>26.93</td>\n",
       "      <td>0.63</td>\n",
       "      <td>0.28</td>\n",
       "      <td>0.47</td>\n",
       "      <td>NaN</td>\n",
       "      <td>NaN</td>\n",
       "      <td>NaN</td>\n",
       "    </tr>\n",
       "  </tbody>\n",
       "</table>\n",
       "</div>"
      ],
      "text/plain": [
       "                        Name Platform  Year_of_Release         Genre  \\\n",
       "0                 Wii Sports      Wii           2006.0        Sports   \n",
       "1          Super Mario Bros.      NES           1985.0      Platform   \n",
       "2             Mario Kart Wii      Wii           2008.0        Racing   \n",
       "3          Wii Sports Resort      Wii           2009.0        Sports   \n",
       "4   Pokemon Red/Pokemon Blue       GB           1996.0  Role-Playing   \n",
       "5                     Tetris       GB           1989.0        Puzzle   \n",
       "6      New Super Mario Bros.       DS           2006.0      Platform   \n",
       "7                   Wii Play      Wii           2006.0          Misc   \n",
       "8  New Super Mario Bros. Wii      Wii           2009.0      Platform   \n",
       "9                  Duck Hunt      NES           1984.0       Shooter   \n",
       "\n",
       "   NA_sales  EU_sales  JP_sales  Other_sales  Critic_Score User_Score Rating  \n",
       "0     41.36     28.96      3.77         8.45          76.0          8      E  \n",
       "1     29.08      3.58      6.81         0.77           NaN        NaN    NaN  \n",
       "2     15.68     12.76      3.79         3.29          82.0        8.3      E  \n",
       "3     15.61     10.93      3.28         2.95          80.0          8      E  \n",
       "4     11.27      8.89     10.22         1.00           NaN        NaN    NaN  \n",
       "5     23.20      2.26      4.22         0.58           NaN        NaN    NaN  \n",
       "6     11.28      9.14      6.50         2.88          89.0        8.5      E  \n",
       "7     13.96      9.18      2.93         2.84          58.0        6.6      E  \n",
       "8     14.44      6.94      4.70         2.24          87.0        8.4      E  \n",
       "9     26.93      0.63      0.28         0.47           NaN        NaN    NaN  "
      ]
     },
     "metadata": {},
     "output_type": "display_data"
    },
    {
     "name": "stdout",
     "output_type": "stream",
     "text": [
      "<class 'pandas.core.frame.DataFrame'>\n",
      "RangeIndex: 16715 entries, 0 to 16714\n",
      "Data columns (total 11 columns):\n",
      " #   Column           Non-Null Count  Dtype  \n",
      "---  ------           --------------  -----  \n",
      " 0   Name             16713 non-null  object \n",
      " 1   Platform         16715 non-null  object \n",
      " 2   Year_of_Release  16446 non-null  float64\n",
      " 3   Genre            16713 non-null  object \n",
      " 4   NA_sales         16715 non-null  float64\n",
      " 5   EU_sales         16715 non-null  float64\n",
      " 6   JP_sales         16715 non-null  float64\n",
      " 7   Other_sales      16715 non-null  float64\n",
      " 8   Critic_Score     8137 non-null   float64\n",
      " 9   User_Score       10014 non-null  object \n",
      " 10  Rating           9949 non-null   object \n",
      "dtypes: float64(6), object(5)\n",
      "memory usage: 1.4+ MB\n",
      "None\n"
     ]
    }
   ],
   "source": [
    "df=pd.read_csv('/datasets/games.csv')\n",
    "display(df.head(10))\n",
    "print(df.info())"
   ]
  },
  {
   "cell_type": "markdown",
   "metadata": {},
   "source": [
    "Переименуем заголовки таблиц, приведем все к нижнему регистру"
   ]
  },
  {
   "cell_type": "code",
   "execution_count": 3,
   "metadata": {},
   "outputs": [
    {
     "data": {
      "text/html": [
       "<div>\n",
       "<style scoped>\n",
       "    .dataframe tbody tr th:only-of-type {\n",
       "        vertical-align: middle;\n",
       "    }\n",
       "\n",
       "    .dataframe tbody tr th {\n",
       "        vertical-align: top;\n",
       "    }\n",
       "\n",
       "    .dataframe thead th {\n",
       "        text-align: right;\n",
       "    }\n",
       "</style>\n",
       "<table border=\"1\" class=\"dataframe\">\n",
       "  <thead>\n",
       "    <tr style=\"text-align: right;\">\n",
       "      <th></th>\n",
       "      <th>name</th>\n",
       "      <th>platform</th>\n",
       "      <th>year_of_release</th>\n",
       "      <th>genre</th>\n",
       "      <th>na_sales</th>\n",
       "      <th>eu_sales</th>\n",
       "      <th>jp_sales</th>\n",
       "      <th>other_sales</th>\n",
       "      <th>critic_score</th>\n",
       "      <th>user_score</th>\n",
       "      <th>rating</th>\n",
       "    </tr>\n",
       "  </thead>\n",
       "  <tbody>\n",
       "    <tr>\n",
       "      <th>0</th>\n",
       "      <td>Wii Sports</td>\n",
       "      <td>Wii</td>\n",
       "      <td>2006.0</td>\n",
       "      <td>Sports</td>\n",
       "      <td>41.36</td>\n",
       "      <td>28.96</td>\n",
       "      <td>3.77</td>\n",
       "      <td>8.45</td>\n",
       "      <td>76.0</td>\n",
       "      <td>8</td>\n",
       "      <td>E</td>\n",
       "    </tr>\n",
       "    <tr>\n",
       "      <th>1</th>\n",
       "      <td>Super Mario Bros.</td>\n",
       "      <td>NES</td>\n",
       "      <td>1985.0</td>\n",
       "      <td>Platform</td>\n",
       "      <td>29.08</td>\n",
       "      <td>3.58</td>\n",
       "      <td>6.81</td>\n",
       "      <td>0.77</td>\n",
       "      <td>NaN</td>\n",
       "      <td>NaN</td>\n",
       "      <td>NaN</td>\n",
       "    </tr>\n",
       "    <tr>\n",
       "      <th>2</th>\n",
       "      <td>Mario Kart Wii</td>\n",
       "      <td>Wii</td>\n",
       "      <td>2008.0</td>\n",
       "      <td>Racing</td>\n",
       "      <td>15.68</td>\n",
       "      <td>12.76</td>\n",
       "      <td>3.79</td>\n",
       "      <td>3.29</td>\n",
       "      <td>82.0</td>\n",
       "      <td>8.3</td>\n",
       "      <td>E</td>\n",
       "    </tr>\n",
       "    <tr>\n",
       "      <th>3</th>\n",
       "      <td>Wii Sports Resort</td>\n",
       "      <td>Wii</td>\n",
       "      <td>2009.0</td>\n",
       "      <td>Sports</td>\n",
       "      <td>15.61</td>\n",
       "      <td>10.93</td>\n",
       "      <td>3.28</td>\n",
       "      <td>2.95</td>\n",
       "      <td>80.0</td>\n",
       "      <td>8</td>\n",
       "      <td>E</td>\n",
       "    </tr>\n",
       "    <tr>\n",
       "      <th>4</th>\n",
       "      <td>Pokemon Red/Pokemon Blue</td>\n",
       "      <td>GB</td>\n",
       "      <td>1996.0</td>\n",
       "      <td>Role-Playing</td>\n",
       "      <td>11.27</td>\n",
       "      <td>8.89</td>\n",
       "      <td>10.22</td>\n",
       "      <td>1.00</td>\n",
       "      <td>NaN</td>\n",
       "      <td>NaN</td>\n",
       "      <td>NaN</td>\n",
       "    </tr>\n",
       "    <tr>\n",
       "      <th>5</th>\n",
       "      <td>Tetris</td>\n",
       "      <td>GB</td>\n",
       "      <td>1989.0</td>\n",
       "      <td>Puzzle</td>\n",
       "      <td>23.20</td>\n",
       "      <td>2.26</td>\n",
       "      <td>4.22</td>\n",
       "      <td>0.58</td>\n",
       "      <td>NaN</td>\n",
       "      <td>NaN</td>\n",
       "      <td>NaN</td>\n",
       "    </tr>\n",
       "    <tr>\n",
       "      <th>6</th>\n",
       "      <td>New Super Mario Bros.</td>\n",
       "      <td>DS</td>\n",
       "      <td>2006.0</td>\n",
       "      <td>Platform</td>\n",
       "      <td>11.28</td>\n",
       "      <td>9.14</td>\n",
       "      <td>6.50</td>\n",
       "      <td>2.88</td>\n",
       "      <td>89.0</td>\n",
       "      <td>8.5</td>\n",
       "      <td>E</td>\n",
       "    </tr>\n",
       "    <tr>\n",
       "      <th>7</th>\n",
       "      <td>Wii Play</td>\n",
       "      <td>Wii</td>\n",
       "      <td>2006.0</td>\n",
       "      <td>Misc</td>\n",
       "      <td>13.96</td>\n",
       "      <td>9.18</td>\n",
       "      <td>2.93</td>\n",
       "      <td>2.84</td>\n",
       "      <td>58.0</td>\n",
       "      <td>6.6</td>\n",
       "      <td>E</td>\n",
       "    </tr>\n",
       "    <tr>\n",
       "      <th>8</th>\n",
       "      <td>New Super Mario Bros. Wii</td>\n",
       "      <td>Wii</td>\n",
       "      <td>2009.0</td>\n",
       "      <td>Platform</td>\n",
       "      <td>14.44</td>\n",
       "      <td>6.94</td>\n",
       "      <td>4.70</td>\n",
       "      <td>2.24</td>\n",
       "      <td>87.0</td>\n",
       "      <td>8.4</td>\n",
       "      <td>E</td>\n",
       "    </tr>\n",
       "    <tr>\n",
       "      <th>9</th>\n",
       "      <td>Duck Hunt</td>\n",
       "      <td>NES</td>\n",
       "      <td>1984.0</td>\n",
       "      <td>Shooter</td>\n",
       "      <td>26.93</td>\n",
       "      <td>0.63</td>\n",
       "      <td>0.28</td>\n",
       "      <td>0.47</td>\n",
       "      <td>NaN</td>\n",
       "      <td>NaN</td>\n",
       "      <td>NaN</td>\n",
       "    </tr>\n",
       "    <tr>\n",
       "      <th>10</th>\n",
       "      <td>Nintendogs</td>\n",
       "      <td>DS</td>\n",
       "      <td>2005.0</td>\n",
       "      <td>Simulation</td>\n",
       "      <td>9.05</td>\n",
       "      <td>10.95</td>\n",
       "      <td>1.93</td>\n",
       "      <td>2.74</td>\n",
       "      <td>NaN</td>\n",
       "      <td>NaN</td>\n",
       "      <td>NaN</td>\n",
       "    </tr>\n",
       "    <tr>\n",
       "      <th>11</th>\n",
       "      <td>Mario Kart DS</td>\n",
       "      <td>DS</td>\n",
       "      <td>2005.0</td>\n",
       "      <td>Racing</td>\n",
       "      <td>9.71</td>\n",
       "      <td>7.47</td>\n",
       "      <td>4.13</td>\n",
       "      <td>1.90</td>\n",
       "      <td>91.0</td>\n",
       "      <td>8.6</td>\n",
       "      <td>E</td>\n",
       "    </tr>\n",
       "    <tr>\n",
       "      <th>12</th>\n",
       "      <td>Pokemon Gold/Pokemon Silver</td>\n",
       "      <td>GB</td>\n",
       "      <td>1999.0</td>\n",
       "      <td>Role-Playing</td>\n",
       "      <td>9.00</td>\n",
       "      <td>6.18</td>\n",
       "      <td>7.20</td>\n",
       "      <td>0.71</td>\n",
       "      <td>NaN</td>\n",
       "      <td>NaN</td>\n",
       "      <td>NaN</td>\n",
       "    </tr>\n",
       "    <tr>\n",
       "      <th>13</th>\n",
       "      <td>Wii Fit</td>\n",
       "      <td>Wii</td>\n",
       "      <td>2007.0</td>\n",
       "      <td>Sports</td>\n",
       "      <td>8.92</td>\n",
       "      <td>8.03</td>\n",
       "      <td>3.60</td>\n",
       "      <td>2.15</td>\n",
       "      <td>80.0</td>\n",
       "      <td>7.7</td>\n",
       "      <td>E</td>\n",
       "    </tr>\n",
       "    <tr>\n",
       "      <th>14</th>\n",
       "      <td>Kinect Adventures!</td>\n",
       "      <td>X360</td>\n",
       "      <td>2010.0</td>\n",
       "      <td>Misc</td>\n",
       "      <td>15.00</td>\n",
       "      <td>4.89</td>\n",
       "      <td>0.24</td>\n",
       "      <td>1.69</td>\n",
       "      <td>61.0</td>\n",
       "      <td>6.3</td>\n",
       "      <td>E</td>\n",
       "    </tr>\n",
       "  </tbody>\n",
       "</table>\n",
       "</div>"
      ],
      "text/plain": [
       "                           name platform  year_of_release         genre  \\\n",
       "0                    Wii Sports      Wii           2006.0        Sports   \n",
       "1             Super Mario Bros.      NES           1985.0      Platform   \n",
       "2                Mario Kart Wii      Wii           2008.0        Racing   \n",
       "3             Wii Sports Resort      Wii           2009.0        Sports   \n",
       "4      Pokemon Red/Pokemon Blue       GB           1996.0  Role-Playing   \n",
       "5                        Tetris       GB           1989.0        Puzzle   \n",
       "6         New Super Mario Bros.       DS           2006.0      Platform   \n",
       "7                      Wii Play      Wii           2006.0          Misc   \n",
       "8     New Super Mario Bros. Wii      Wii           2009.0      Platform   \n",
       "9                     Duck Hunt      NES           1984.0       Shooter   \n",
       "10                   Nintendogs       DS           2005.0    Simulation   \n",
       "11                Mario Kart DS       DS           2005.0        Racing   \n",
       "12  Pokemon Gold/Pokemon Silver       GB           1999.0  Role-Playing   \n",
       "13                      Wii Fit      Wii           2007.0        Sports   \n",
       "14           Kinect Adventures!     X360           2010.0          Misc   \n",
       "\n",
       "    na_sales  eu_sales  jp_sales  other_sales  critic_score user_score rating  \n",
       "0      41.36     28.96      3.77         8.45          76.0          8      E  \n",
       "1      29.08      3.58      6.81         0.77           NaN        NaN    NaN  \n",
       "2      15.68     12.76      3.79         3.29          82.0        8.3      E  \n",
       "3      15.61     10.93      3.28         2.95          80.0          8      E  \n",
       "4      11.27      8.89     10.22         1.00           NaN        NaN    NaN  \n",
       "5      23.20      2.26      4.22         0.58           NaN        NaN    NaN  \n",
       "6      11.28      9.14      6.50         2.88          89.0        8.5      E  \n",
       "7      13.96      9.18      2.93         2.84          58.0        6.6      E  \n",
       "8      14.44      6.94      4.70         2.24          87.0        8.4      E  \n",
       "9      26.93      0.63      0.28         0.47           NaN        NaN    NaN  \n",
       "10      9.05     10.95      1.93         2.74           NaN        NaN    NaN  \n",
       "11      9.71      7.47      4.13         1.90          91.0        8.6      E  \n",
       "12      9.00      6.18      7.20         0.71           NaN        NaN    NaN  \n",
       "13      8.92      8.03      3.60         2.15          80.0        7.7      E  \n",
       "14     15.00      4.89      0.24         1.69          61.0        6.3      E  "
      ]
     },
     "metadata": {},
     "output_type": "display_data"
    }
   ],
   "source": [
    "df=df.rename(columns={'Name':'name','Platform':'platform','Year_of_Release':'year_of_release','Genre':'genre',\n",
    "                     'NA_sales':'na_sales','EU_sales':'eu_sales','JP_sales':'jp_sales','Other_sales':'other_sales',\n",
    "                     'Critic_Score':'critic_score','User_Score':'user_score','Rating':'rating'})\n",
    "display(df.head(15))"
   ]
  },
  {
   "cell_type": "markdown",
   "metadata": {},
   "source": [
    "Проверим наличие явных дубликатов"
   ]
  },
  {
   "cell_type": "code",
   "execution_count": 4,
   "metadata": {},
   "outputs": [
    {
     "name": "stdout",
     "output_type": "stream",
     "text": [
      "Обнаружено и удалено дубликатов: 0\n"
     ]
    }
   ],
   "source": [
    "print('Обнаружено и удалено дубликатов:', df.duplicated().sum())\n"
   ]
  },
  {
   "cell_type": "code",
   "execution_count": 5,
   "metadata": {
    "scrolled": true
   },
   "outputs": [
    {
     "name": "stdout",
     "output_type": "stream",
     "text": [
      "name                  2\n",
      "platform              0\n",
      "year_of_release     269\n",
      "genre                 2\n",
      "na_sales              0\n",
      "eu_sales              0\n",
      "jp_sales              0\n",
      "other_sales           0\n",
      "critic_score       8578\n",
      "user_score         6701\n",
      "rating             6766\n",
      "dtype: int64\n"
     ]
    }
   ],
   "source": [
    "print(df.isna().sum())"
   ]
  },
  {
   "cell_type": "markdown",
   "metadata": {},
   "source": [
    "Приведем название платформ, жанр и названия игр к нижнему регистру "
   ]
  },
  {
   "cell_type": "code",
   "execution_count": 6,
   "metadata": {},
   "outputs": [],
   "source": [
    "df['genre']=df['genre'].str.lower()\n",
    "df['platform']=df['platform'].str.lower()\n",
    "df['name']=df['name'].str.lower()"
   ]
  },
  {
   "cell_type": "markdown",
   "metadata": {},
   "source": [
    "<h3>Заполнение пропусков</h3>\n",
    "Заполним или ликвидируем пропуски.\n",
    "<br>Поле name, не имеющее значений, нам не интересно, данные строки логично удалить."
   ]
  },
  {
   "cell_type": "code",
   "execution_count": 7,
   "metadata": {},
   "outputs": [
    {
     "name": "stdout",
     "output_type": "stream",
     "text": [
      "name                  0\n",
      "platform              0\n",
      "year_of_release     269\n",
      "genre                 0\n",
      "na_sales              0\n",
      "eu_sales              0\n",
      "jp_sales              0\n",
      "other_sales           0\n",
      "critic_score       8576\n",
      "user_score         6699\n",
      "rating             6764\n",
      "dtype: int64\n"
     ]
    }
   ],
   "source": [
    "df=df.dropna(subset=['name'])\n",
    "print(df.isna().sum())"
   ]
  },
  {
   "cell_type": "markdown",
   "metadata": {},
   "source": [
    "Пропущенные значения года выпуска можно заменить на медианные для всей выборки"
   ]
  },
  {
   "cell_type": "code",
   "execution_count": 8,
   "metadata": {},
   "outputs": [],
   "source": [
    "#убираем строки с играми без года выпуска\n",
    "df=df.dropna(subset=['year_of_release'])"
   ]
  },
  {
   "cell_type": "code",
   "execution_count": 9,
   "metadata": {},
   "outputs": [
    {
     "name": "stdout",
     "output_type": "stream",
     "text": [
      "2007.0\n",
      "name                  0\n",
      "platform              0\n",
      "year_of_release       0\n",
      "genre                 0\n",
      "na_sales              0\n",
      "eu_sales              0\n",
      "jp_sales              0\n",
      "other_sales           0\n",
      "critic_score       8461\n",
      "user_score         6605\n",
      "rating             6676\n",
      "dtype: int64\n"
     ]
    }
   ],
   "source": [
    "print(df['year_of_release'].median())\n",
    "df['year_of_release']=df['year_of_release'].fillna(df['year_of_release'].median())\n",
    "print(df.isna().sum())"
   ]
  },
  {
   "cell_type": "markdown",
   "metadata": {},
   "source": [
    "Конвертируем типы данных. Заменим тип данных в столбце year_of_release на int (год - только целое число), а в столбце user_score на float (оценка - дробное число)"
   ]
  },
  {
   "cell_type": "code",
   "execution_count": 10,
   "metadata": {},
   "outputs": [],
   "source": [
    "df['year_of_release']=df['year_of_release'].astype('int')\n",
    "#заменим значения tbd на NaN\n",
    "df.loc[df['user_score']=='tbd','user_score']=np.nan\n",
    "df['user_score']=pd.to_numeric(df['user_score'])"
   ]
  },
  {
   "cell_type": "markdown",
   "metadata": {},
   "source": [
    "Заполним пропуски в столбцах с оценкой медианными оценками игр аналогичного жанра"
   ]
  },
  {
   "cell_type": "code",
   "execution_count": 11,
   "metadata": {},
   "outputs": [],
   "source": [
    "#df['user_score'] = df['user_score'].fillna(df.groupby('genre')['user_score'].transform('median'))\n",
    "#df['critic_score'] = df['critic_score'].fillna(df.groupby('genre')['critic_score'].transform('median'))"
   ]
  },
  {
   "cell_type": "code",
   "execution_count": 12,
   "metadata": {},
   "outputs": [
    {
     "name": "stdout",
     "output_type": "stream",
     "text": [
      "name                  0\n",
      "platform              0\n",
      "year_of_release       0\n",
      "genre                 0\n",
      "na_sales              0\n",
      "eu_sales              0\n",
      "jp_sales              0\n",
      "other_sales           0\n",
      "critic_score       8461\n",
      "user_score         8981\n",
      "rating             6676\n",
      "dtype: int64\n"
     ]
    }
   ],
   "source": [
    "print(df.isna().sum())"
   ]
  },
  {
   "cell_type": "code",
   "execution_count": 13,
   "metadata": {},
   "outputs": [
    {
     "name": "stdout",
     "output_type": "stream",
     "text": [
      "['E' nan 'M' 'T' 'E10+' 'K-A' 'AO' 'EC' 'RP']\n"
     ]
    }
   ],
   "source": [
    "print(df['rating'].unique())"
   ]
  },
  {
   "cell_type": "markdown",
   "metadata": {},
   "source": [
    "Значения рейтинг нечисловые, поэтому создадим функцию, которая находит значение рейтинга, которое встречается чаще всег ждля указанной игры и заполним их этим значением."
   ]
  },
  {
   "cell_type": "code",
   "execution_count": 14,
   "metadata": {},
   "outputs": [
    {
     "name": "stdout",
     "output_type": "stream",
     "text": [
      "name                  0\n",
      "platform              0\n",
      "year_of_release       0\n",
      "genre                 0\n",
      "na_sales              0\n",
      "eu_sales              0\n",
      "jp_sales              0\n",
      "other_sales           0\n",
      "critic_score       8461\n",
      "user_score         8981\n",
      "rating             6259\n",
      "dtype: int64\n"
     ]
    }
   ],
   "source": [
    "def my_mode(x):                  \n",
    "    mode = x.mode()\n",
    "    if len(mode) > 0:\n",
    "        return mode[0]\n",
    "    return None\n",
    "df['rating'] = df['rating'].fillna(df.groupby('name')['rating'].transform(my_mode))\n",
    "print(df.isna().sum())"
   ]
  },
  {
   "cell_type": "markdown",
   "metadata": {},
   "source": [
    "Создадим отдельный столбец с продажами во всех регионах"
   ]
  },
  {
   "cell_type": "code",
   "execution_count": 15,
   "metadata": {},
   "outputs": [
    {
     "data": {
      "text/html": [
       "<div>\n",
       "<style scoped>\n",
       "    .dataframe tbody tr th:only-of-type {\n",
       "        vertical-align: middle;\n",
       "    }\n",
       "\n",
       "    .dataframe tbody tr th {\n",
       "        vertical-align: top;\n",
       "    }\n",
       "\n",
       "    .dataframe thead th {\n",
       "        text-align: right;\n",
       "    }\n",
       "</style>\n",
       "<table border=\"1\" class=\"dataframe\">\n",
       "  <thead>\n",
       "    <tr style=\"text-align: right;\">\n",
       "      <th></th>\n",
       "      <th>name</th>\n",
       "      <th>platform</th>\n",
       "      <th>year_of_release</th>\n",
       "      <th>genre</th>\n",
       "      <th>na_sales</th>\n",
       "      <th>eu_sales</th>\n",
       "      <th>jp_sales</th>\n",
       "      <th>other_sales</th>\n",
       "      <th>critic_score</th>\n",
       "      <th>user_score</th>\n",
       "      <th>rating</th>\n",
       "      <th>total_sales</th>\n",
       "    </tr>\n",
       "  </thead>\n",
       "  <tbody>\n",
       "    <tr>\n",
       "      <th>0</th>\n",
       "      <td>wii sports</td>\n",
       "      <td>wii</td>\n",
       "      <td>2006</td>\n",
       "      <td>sports</td>\n",
       "      <td>41.36</td>\n",
       "      <td>28.96</td>\n",
       "      <td>3.77</td>\n",
       "      <td>8.45</td>\n",
       "      <td>76.0</td>\n",
       "      <td>8.0</td>\n",
       "      <td>E</td>\n",
       "      <td>82.54</td>\n",
       "    </tr>\n",
       "    <tr>\n",
       "      <th>1</th>\n",
       "      <td>super mario bros.</td>\n",
       "      <td>nes</td>\n",
       "      <td>1985</td>\n",
       "      <td>platform</td>\n",
       "      <td>29.08</td>\n",
       "      <td>3.58</td>\n",
       "      <td>6.81</td>\n",
       "      <td>0.77</td>\n",
       "      <td>NaN</td>\n",
       "      <td>NaN</td>\n",
       "      <td>NaN</td>\n",
       "      <td>40.24</td>\n",
       "    </tr>\n",
       "    <tr>\n",
       "      <th>2</th>\n",
       "      <td>mario kart wii</td>\n",
       "      <td>wii</td>\n",
       "      <td>2008</td>\n",
       "      <td>racing</td>\n",
       "      <td>15.68</td>\n",
       "      <td>12.76</td>\n",
       "      <td>3.79</td>\n",
       "      <td>3.29</td>\n",
       "      <td>82.0</td>\n",
       "      <td>8.3</td>\n",
       "      <td>E</td>\n",
       "      <td>35.52</td>\n",
       "    </tr>\n",
       "    <tr>\n",
       "      <th>3</th>\n",
       "      <td>wii sports resort</td>\n",
       "      <td>wii</td>\n",
       "      <td>2009</td>\n",
       "      <td>sports</td>\n",
       "      <td>15.61</td>\n",
       "      <td>10.93</td>\n",
       "      <td>3.28</td>\n",
       "      <td>2.95</td>\n",
       "      <td>80.0</td>\n",
       "      <td>8.0</td>\n",
       "      <td>E</td>\n",
       "      <td>32.77</td>\n",
       "    </tr>\n",
       "    <tr>\n",
       "      <th>4</th>\n",
       "      <td>pokemon red/pokemon blue</td>\n",
       "      <td>gb</td>\n",
       "      <td>1996</td>\n",
       "      <td>role-playing</td>\n",
       "      <td>11.27</td>\n",
       "      <td>8.89</td>\n",
       "      <td>10.22</td>\n",
       "      <td>1.00</td>\n",
       "      <td>NaN</td>\n",
       "      <td>NaN</td>\n",
       "      <td>NaN</td>\n",
       "      <td>31.38</td>\n",
       "    </tr>\n",
       "  </tbody>\n",
       "</table>\n",
       "</div>"
      ],
      "text/plain": [
       "                       name platform  year_of_release         genre  na_sales  \\\n",
       "0                wii sports      wii             2006        sports     41.36   \n",
       "1         super mario bros.      nes             1985      platform     29.08   \n",
       "2            mario kart wii      wii             2008        racing     15.68   \n",
       "3         wii sports resort      wii             2009        sports     15.61   \n",
       "4  pokemon red/pokemon blue       gb             1996  role-playing     11.27   \n",
       "\n",
       "   eu_sales  jp_sales  other_sales  critic_score  user_score rating  \\\n",
       "0     28.96      3.77         8.45          76.0         8.0      E   \n",
       "1      3.58      6.81         0.77           NaN         NaN    NaN   \n",
       "2     12.76      3.79         3.29          82.0         8.3      E   \n",
       "3     10.93      3.28         2.95          80.0         8.0      E   \n",
       "4      8.89     10.22         1.00           NaN         NaN    NaN   \n",
       "\n",
       "   total_sales  \n",
       "0        82.54  \n",
       "1        40.24  \n",
       "2        35.52  \n",
       "3        32.77  \n",
       "4        31.38  "
      ]
     },
     "metadata": {},
     "output_type": "display_data"
    }
   ],
   "source": [
    "df['total_sales']=df['na_sales']+df['eu_sales']+df['jp_sales']+df['other_sales']\n",
    "display(df.head())"
   ]
  },
  {
   "cell_type": "markdown",
   "metadata": {},
   "source": [
    "На этом этапе этап предобработки данных завершен. Удалены 2 строки, которые, скорее всего, имели пропуски по всем параметрам и интереса не предоставляли. Заполнены пропуски для остальных строк, кроме рейтинга, который не удалось заполнить в полном объёме."
   ]
  },
  {
   "cell_type": "markdown",
   "metadata": {},
   "source": [
    "<h2>Исследовательский анализ данных</h2>"
   ]
  },
  {
   "cell_type": "markdown",
   "metadata": {},
   "source": [
    "<h3>Анализ актуального временного диапазона и перспективных платформ</h3>"
   ]
  },
  {
   "cell_type": "code",
   "execution_count": 16,
   "metadata": {},
   "outputs": [
    {
     "data": {
      "text/plain": [
       "<AxesSubplot:xlabel='Year', ylabel='Sales'>"
      ]
     },
     "execution_count": 16,
     "metadata": {},
     "output_type": "execute_result"
    },
    {
     "data": {
      "image/png": "[encoded data removed]",
      "text/plain": [
       "<Figure size 1440x720 with 1 Axes>"
      ]
     },
     "metadata": {
      "needs_background": "light"
     },
     "output_type": "display_data"
    }
   ],
   "source": [
    "plt.figure(figsize=[20, 10])\n",
    "plt.xlabel(\"Year\")\n",
    "plt.ylabel(\"Sales\")\n",
    "df['year_of_release'].hist(bins=40, grid=False)"
   ]
  },
  {
   "cell_type": "markdown",
   "metadata": {},
   "source": [
    "Очевидно, что репрезентативаня выборка начинается примерно с 1990 года, и для дальнейшего исследования нам интересен этот интервал. "
   ]
  },
  {
   "cell_type": "markdown",
   "metadata": {},
   "source": [
    "Сделаем свод по продажам в разрезе по платформам, опрделим, какие из них имеют наибольшие суммарные продажи."
   ]
  },
  {
   "cell_type": "code",
   "execution_count": 17,
   "metadata": {},
   "outputs": [
    {
     "data": {
      "text/html": [
       "<div>\n",
       "<style scoped>\n",
       "    .dataframe tbody tr th:only-of-type {\n",
       "        vertical-align: middle;\n",
       "    }\n",
       "\n",
       "    .dataframe tbody tr th {\n",
       "        vertical-align: top;\n",
       "    }\n",
       "\n",
       "    .dataframe thead th {\n",
       "        text-align: right;\n",
       "    }\n",
       "</style>\n",
       "<table border=\"1\" class=\"dataframe\">\n",
       "  <thead>\n",
       "    <tr style=\"text-align: right;\">\n",
       "      <th></th>\n",
       "      <th>total_sales</th>\n",
       "    </tr>\n",
       "    <tr>\n",
       "      <th>platform</th>\n",
       "      <th></th>\n",
       "    </tr>\n",
       "  </thead>\n",
       "  <tbody>\n",
       "    <tr>\n",
       "      <th>ps2</th>\n",
       "      <td>1233.56</td>\n",
       "    </tr>\n",
       "    <tr>\n",
       "      <th>x360</th>\n",
       "      <td>961.24</td>\n",
       "    </tr>\n",
       "    <tr>\n",
       "      <th>ps3</th>\n",
       "      <td>931.34</td>\n",
       "    </tr>\n",
       "    <tr>\n",
       "      <th>wii</th>\n",
       "      <td>891.18</td>\n",
       "    </tr>\n",
       "    <tr>\n",
       "      <th>ds</th>\n",
       "      <td>802.78</td>\n",
       "    </tr>\n",
       "    <tr>\n",
       "      <th>ps</th>\n",
       "      <td>727.58</td>\n",
       "    </tr>\n",
       "    <tr>\n",
       "      <th>ps4</th>\n",
       "      <td>314.14</td>\n",
       "    </tr>\n",
       "    <tr>\n",
       "      <th>gba</th>\n",
       "      <td>312.88</td>\n",
       "    </tr>\n",
       "    <tr>\n",
       "      <th>psp</th>\n",
       "      <td>289.53</td>\n",
       "    </tr>\n",
       "    <tr>\n",
       "      <th>3ds</th>\n",
       "      <td>257.81</td>\n",
       "    </tr>\n",
       "    <tr>\n",
       "      <th>pc</th>\n",
       "      <td>255.76</td>\n",
       "    </tr>\n",
       "    <tr>\n",
       "      <th>gb</th>\n",
       "      <td>254.43</td>\n",
       "    </tr>\n",
       "    <tr>\n",
       "      <th>xb</th>\n",
       "      <td>251.57</td>\n",
       "    </tr>\n",
       "    <tr>\n",
       "      <th>nes</th>\n",
       "      <td>251.05</td>\n",
       "    </tr>\n",
       "    <tr>\n",
       "      <th>n64</th>\n",
       "      <td>218.01</td>\n",
       "    </tr>\n",
       "    <tr>\n",
       "      <th>snes</th>\n",
       "      <td>200.04</td>\n",
       "    </tr>\n",
       "    <tr>\n",
       "      <th>gc</th>\n",
       "      <td>196.73</td>\n",
       "    </tr>\n",
       "    <tr>\n",
       "      <th>xone</th>\n",
       "      <td>159.32</td>\n",
       "    </tr>\n",
       "    <tr>\n",
       "      <th>2600</th>\n",
       "      <td>86.48</td>\n",
       "    </tr>\n",
       "    <tr>\n",
       "      <th>wiiu</th>\n",
       "      <td>82.19</td>\n",
       "    </tr>\n",
       "    <tr>\n",
       "      <th>psv</th>\n",
       "      <td>53.81</td>\n",
       "    </tr>\n",
       "    <tr>\n",
       "      <th>sat</th>\n",
       "      <td>33.59</td>\n",
       "    </tr>\n",
       "    <tr>\n",
       "      <th>gen</th>\n",
       "      <td>28.35</td>\n",
       "    </tr>\n",
       "    <tr>\n",
       "      <th>dc</th>\n",
       "      <td>15.95</td>\n",
       "    </tr>\n",
       "    <tr>\n",
       "      <th>scd</th>\n",
       "      <td>1.86</td>\n",
       "    </tr>\n",
       "    <tr>\n",
       "      <th>ng</th>\n",
       "      <td>1.44</td>\n",
       "    </tr>\n",
       "    <tr>\n",
       "      <th>ws</th>\n",
       "      <td>1.42</td>\n",
       "    </tr>\n",
       "    <tr>\n",
       "      <th>tg16</th>\n",
       "      <td>0.16</td>\n",
       "    </tr>\n",
       "    <tr>\n",
       "      <th>3do</th>\n",
       "      <td>0.10</td>\n",
       "    </tr>\n",
       "    <tr>\n",
       "      <th>gg</th>\n",
       "      <td>0.04</td>\n",
       "    </tr>\n",
       "    <tr>\n",
       "      <th>pcfx</th>\n",
       "      <td>0.03</td>\n",
       "    </tr>\n",
       "  </tbody>\n",
       "</table>\n",
       "</div>"
      ],
      "text/plain": [
       "          total_sales\n",
       "platform             \n",
       "ps2           1233.56\n",
       "x360           961.24\n",
       "ps3            931.34\n",
       "wii            891.18\n",
       "ds             802.78\n",
       "ps             727.58\n",
       "ps4            314.14\n",
       "gba            312.88\n",
       "psp            289.53\n",
       "3ds            257.81\n",
       "pc             255.76\n",
       "gb             254.43\n",
       "xb             251.57\n",
       "nes            251.05\n",
       "n64            218.01\n",
       "snes           200.04\n",
       "gc             196.73\n",
       "xone           159.32\n",
       "2600            86.48\n",
       "wiiu            82.19\n",
       "psv             53.81\n",
       "sat             33.59\n",
       "gen             28.35\n",
       "dc              15.95\n",
       "scd              1.86\n",
       "ng               1.44\n",
       "ws               1.42\n",
       "tg16             0.16\n",
       "3do              0.10\n",
       "gg               0.04\n",
       "pcfx             0.03"
      ]
     },
     "metadata": {},
     "output_type": "display_data"
    }
   ],
   "source": [
    "display(df.pivot_table(index='platform', values='total_sales', aggfunc='sum').sort_values(by='total_sales', ascending=False))\n",
    "df_top=df.pivot_table(index='platform', values='total_sales', aggfunc='sum').sort_values(by='total_sales', ascending=False)"
   ]
  },
  {
   "cell_type": "markdown",
   "metadata": {},
   "source": [
    "Для дальнеййшего рассмотрени целесообразно отобрать 10 первых платформ - такая выборка охватывает основные платформы, при этом снижение от платформы с самым большим значением продаж не превышает 5 раз + дополнитьельно добавим к рассмотрению XBoxOne"
   ]
  },
  {
   "cell_type": "markdown",
   "metadata": {},
   "source": [
    "Построим для данных платформ распределнеие с выходом игр по годам"
   ]
  },
  {
   "cell_type": "code",
   "execution_count": 18,
   "metadata": {
    "scrolled": false
   },
   "outputs": [
    {
     "name": "stdout",
     "output_type": "stream",
     "text": [
      "['ps2', 'x360', 'ps3', 'wii', 'ds', 'ps', 'ps4', 'gba', 'psp', '3ds', 'pc', 'xone']\n",
      "ps2\n"
     ]
    },
    {
     "data": {
      "image/png": "[encoded data removed]",
      "text/plain": [
       "<Figure size 1080x360 with 1 Axes>"
      ]
     },
     "metadata": {
      "needs_background": "light"
     },
     "output_type": "display_data"
    },
    {
     "name": "stdout",
     "output_type": "stream",
     "text": [
      "x360\n"
     ]
    },
    {
     "data": {
      "image/png": "[encoded data removed]",
      "text/plain": [
       "<Figure size 1080x360 with 1 Axes>"
      ]
     },
     "metadata": {
      "needs_background": "light"
     },
     "output_type": "display_data"
    },
    {
     "name": "stdout",
     "output_type": "stream",
     "text": [
      "ps3\n"
     ]
    },
    {
     "data": {
      "image/png": "[encoded data removed]",
      "text/plain": [
       "<Figure size 1080x360 with 1 Axes>"
      ]
     },
     "metadata": {
      "needs_background": "light"
     },
     "output_type": "display_data"
    },
    {
     "name": "stdout",
     "output_type": "stream",
     "text": [
      "wii\n"
     ]
    },
    {
     "data": {
      "image/png": "[encoded data removed]",
      "text/plain": [
       "<Figure size 1080x360 with 1 Axes>"
      ]
     },
     "metadata": {
      "needs_background": "light"
     },
     "output_type": "display_data"
    },
    {
     "name": "stdout",
     "output_type": "stream",
     "text": [
      "ds\n"
     ]
    },
    {
     "data": {
      "image/png": "[encoded data removed]",
      "text/plain": [
       "<Figure size 1080x360 with 1 Axes>"
      ]
     },
     "metadata": {
      "needs_background": "light"
     },
     "output_type": "display_data"
    },
    {
     "name": "stdout",
     "output_type": "stream",
     "text": [
      "ps\n"
     ]
    },
    {
     "data": {
      "image/png": "[encoded data removed]",
      "text/plain": [
       "<Figure size 1080x360 with 1 Axes>"
      ]
     },
     "metadata": {
      "needs_background": "light"
     },
     "output_type": "display_data"
    },
    {
     "name": "stdout",
     "output_type": "stream",
     "text": [
      "ps4\n"
     ]
    },
    {
     "data": {
      "image/png": "[encoded data removed]",
      "text/plain": [
       "<Figure size 1080x360 with 1 Axes>"
      ]
     },
     "metadata": {
      "needs_background": "light"
     },
     "output_type": "display_data"
    },
    {
     "name": "stdout",
     "output_type": "stream",
     "text": [
      "gba\n"
     ]
    },
    {
     "data": {
      "image/png": "[encoded data removed]",
      "text/plain": [
       "<Figure size 1080x360 with 1 Axes>"
      ]
     },
     "metadata": {
      "needs_background": "light"
     },
     "output_type": "display_data"
    },
    {
     "name": "stdout",
     "output_type": "stream",
     "text": [
      "psp\n"
     ]
    },
    {
     "data": {
      "image/png": "[encoded data removed]",
      "text/plain": [
       "<Figure size 1080x360 with 1 Axes>"
      ]
     },
     "metadata": {
      "needs_background": "light"
     },
     "output_type": "display_data"
    },
    {
     "name": "stdout",
     "output_type": "stream",
     "text": [
      "3ds\n"
     ]
    },
    {
     "data": {
      "image/png": "[encoded data removed]",
      "text/plain": [
       "<Figure size 1080x360 with 1 Axes>"
      ]
     },
     "metadata": {
      "needs_background": "light"
     },
     "output_type": "display_data"
    },
    {
     "name": "stdout",
     "output_type": "stream",
     "text": [
      "pc\n"
     ]
    },
    {
     "data": {
      "image/png": "[encoded data removed]",
      "text/plain": [
       "<Figure size 1080x360 with 1 Axes>"
      ]
     },
     "metadata": {
      "needs_background": "light"
     },
     "output_type": "display_data"
    },
    {
     "name": "stdout",
     "output_type": "stream",
     "text": [
      "xone\n"
     ]
    },
    {
     "data": {
      "image/png": "[encoded data removed]",
      "text/plain": [
       "<Figure size 1080x360 with 1 Axes>"
      ]
     },
     "metadata": {
      "needs_background": "light"
     },
     "output_type": "display_data"
    },
    {
     "data": {
      "text/html": [
       "<div>\n",
       "<style scoped>\n",
       "    .dataframe tbody tr th:only-of-type {\n",
       "        vertical-align: middle;\n",
       "    }\n",
       "\n",
       "    .dataframe tbody tr th {\n",
       "        vertical-align: top;\n",
       "    }\n",
       "\n",
       "    .dataframe thead th {\n",
       "        text-align: right;\n",
       "    }\n",
       "</style>\n",
       "<table border=\"1\" class=\"dataframe\">\n",
       "  <thead>\n",
       "    <tr style=\"text-align: right;\">\n",
       "      <th></th>\n",
       "      <th>platform</th>\n",
       "      <th>year_of_release</th>\n",
       "      <th>total_sales</th>\n",
       "    </tr>\n",
       "  </thead>\n",
       "  <tbody>\n",
       "    <tr>\n",
       "      <th>0</th>\n",
       "      <td>3ds</td>\n",
       "      <td>2011</td>\n",
       "      <td>63.20</td>\n",
       "    </tr>\n",
       "    <tr>\n",
       "      <th>1</th>\n",
       "      <td>3ds</td>\n",
       "      <td>2012</td>\n",
       "      <td>51.36</td>\n",
       "    </tr>\n",
       "    <tr>\n",
       "      <th>2</th>\n",
       "      <td>3ds</td>\n",
       "      <td>2013</td>\n",
       "      <td>56.57</td>\n",
       "    </tr>\n",
       "    <tr>\n",
       "      <th>3</th>\n",
       "      <td>3ds</td>\n",
       "      <td>2014</td>\n",
       "      <td>43.76</td>\n",
       "    </tr>\n",
       "    <tr>\n",
       "      <th>4</th>\n",
       "      <td>3ds</td>\n",
       "      <td>2015</td>\n",
       "      <td>27.78</td>\n",
       "    </tr>\n",
       "    <tr>\n",
       "      <th>...</th>\n",
       "      <td>...</td>\n",
       "      <td>...</td>\n",
       "      <td>...</td>\n",
       "    </tr>\n",
       "    <tr>\n",
       "      <th>122</th>\n",
       "      <td>x360</td>\n",
       "      <td>2016</td>\n",
       "      <td>1.52</td>\n",
       "    </tr>\n",
       "    <tr>\n",
       "      <th>123</th>\n",
       "      <td>xone</td>\n",
       "      <td>2013</td>\n",
       "      <td>18.96</td>\n",
       "    </tr>\n",
       "    <tr>\n",
       "      <th>124</th>\n",
       "      <td>xone</td>\n",
       "      <td>2014</td>\n",
       "      <td>54.07</td>\n",
       "    </tr>\n",
       "    <tr>\n",
       "      <th>125</th>\n",
       "      <td>xone</td>\n",
       "      <td>2015</td>\n",
       "      <td>60.14</td>\n",
       "    </tr>\n",
       "    <tr>\n",
       "      <th>126</th>\n",
       "      <td>xone</td>\n",
       "      <td>2016</td>\n",
       "      <td>26.15</td>\n",
       "    </tr>\n",
       "  </tbody>\n",
       "</table>\n",
       "<p>127 rows × 3 columns</p>\n",
       "</div>"
      ],
      "text/plain": [
       "    platform  year_of_release  total_sales\n",
       "0        3ds             2011        63.20\n",
       "1        3ds             2012        51.36\n",
       "2        3ds             2013        56.57\n",
       "3        3ds             2014        43.76\n",
       "4        3ds             2015        27.78\n",
       "..       ...              ...          ...\n",
       "122     x360             2016         1.52\n",
       "123     xone             2013        18.96\n",
       "124     xone             2014        54.07\n",
       "125     xone             2015        60.14\n",
       "126     xone             2016        26.15\n",
       "\n",
       "[127 rows x 3 columns]"
      ]
     },
     "metadata": {},
     "output_type": "display_data"
    }
   ],
   "source": [
    "#сформируем список из топ-10 платформ\n",
    "top_platform=[]\n",
    "for i in range(0,11):\n",
    "    top_platform.append(df_top.index[i])\n",
    "top_platform.append('xone')\n",
    "print(top_platform) \n",
    "#сформируем список из топ-10 платформ\n",
    "#сформируем итоговую таблицу и построим распределение с выходом игр по годам\n",
    "df_top_10_pivot=df.query('platform in @top_platform').groupby(['platform','year_of_release']).agg({'total_sales':'sum'}).reset_index()\n",
    "\n",
    "for each_platform in top_platform:\n",
    "    print(each_platform)\n",
    "    plt.figure(figsize=[15, 5])\n",
    "    sns.barplot(x=\"year_of_release\", y=\"total_sales\", data=df_top_10_pivot[df_top_10_pivot['platform']==each_platform], ci=None)\n",
    "    plt.show()\n",
    "display(df_top_10_pivot)"
   ]
  },
  {
   "cell_type": "markdown",
   "metadata": {},
   "source": [
    "<h4>Промежуточный вывод</h4>\n",
    "Наибольшее количество продаж - не меньше половины от максимального - имеют первые 6 платформ, но часть из них была популярна в более ранние годы, по'тому для оценки и прогнозирования продаж на 2017 год мы расширили выборку до 10 платформ.\n",
    "<br>В среднем, по данным графикам можно сделать вывод о том, <b>что средний срок жизни/популярности платформы составляет около 8 лет.</b>\n",
    "<br>Лидирующая по суммарным продажам платформа PS2 падает и достигла минимума в 2011 году, таким образом, на 2017 год эта палтформа неперспективная и нерелевантна для дальнейшего прогнозирования. В среднем, платформа достигает пика на 4-5 год то начала продаж, далее начинается ее спад. Примерно за 3 года платформа \"умирает\", - вытесняется конкурентами, либо заменяется олее новой. Таким образом, <b>актуальным диапазоном будут годы с 2014 по 2016 годы включительно.</b>\n",
    "<br>Среди менее популярных, но относительно новых и релевантных программ <b>интересны платформы: PS4, 3ds, XOne и PC.</b> \n",
    "<br>Причем, PS4 и XOne вероятно наиболее персективные из них по причине новизны и наибольшего объема продаж в 2016 году.\n",
    "<br>Проверим дополнилеьно суммарные объемы продаж по платформам в актуальном периоде"
   ]
  },
  {
   "cell_type": "code",
   "execution_count": 19,
   "metadata": {},
   "outputs": [
    {
     "data": {
      "text/html": [
       "<div>\n",
       "<style scoped>\n",
       "    .dataframe tbody tr th:only-of-type {\n",
       "        vertical-align: middle;\n",
       "    }\n",
       "\n",
       "    .dataframe tbody tr th {\n",
       "        vertical-align: top;\n",
       "    }\n",
       "\n",
       "    .dataframe thead th {\n",
       "        text-align: right;\n",
       "    }\n",
       "</style>\n",
       "<table border=\"1\" class=\"dataframe\">\n",
       "  <thead>\n",
       "    <tr style=\"text-align: right;\">\n",
       "      <th></th>\n",
       "      <th>total_sales</th>\n",
       "    </tr>\n",
       "    <tr>\n",
       "      <th>platform</th>\n",
       "      <th></th>\n",
       "    </tr>\n",
       "  </thead>\n",
       "  <tbody>\n",
       "    <tr>\n",
       "      <th>ps4</th>\n",
       "      <td>288.15</td>\n",
       "    </tr>\n",
       "    <tr>\n",
       "      <th>xone</th>\n",
       "      <td>140.36</td>\n",
       "    </tr>\n",
       "    <tr>\n",
       "      <th>3ds</th>\n",
       "      <td>86.68</td>\n",
       "    </tr>\n",
       "    <tr>\n",
       "      <th>ps3</th>\n",
       "      <td>68.18</td>\n",
       "    </tr>\n",
       "    <tr>\n",
       "      <th>x360</th>\n",
       "      <td>48.22</td>\n",
       "    </tr>\n",
       "    <tr>\n",
       "      <th>wiiu</th>\n",
       "      <td>42.98</td>\n",
       "    </tr>\n",
       "    <tr>\n",
       "      <th>pc</th>\n",
       "      <td>27.05</td>\n",
       "    </tr>\n",
       "    <tr>\n",
       "      <th>psv</th>\n",
       "      <td>22.40</td>\n",
       "    </tr>\n",
       "    <tr>\n",
       "      <th>wii</th>\n",
       "      <td>5.07</td>\n",
       "    </tr>\n",
       "    <tr>\n",
       "      <th>psp</th>\n",
       "      <td>0.36</td>\n",
       "    </tr>\n",
       "  </tbody>\n",
       "</table>\n",
       "</div>"
      ],
      "text/plain": [
       "          total_sales\n",
       "platform             \n",
       "ps4            288.15\n",
       "xone           140.36\n",
       "3ds             86.68\n",
       "ps3             68.18\n",
       "x360            48.22\n",
       "wiiu            42.98\n",
       "pc              27.05\n",
       "psv             22.40\n",
       "wii              5.07\n",
       "psp              0.36"
      ]
     },
     "metadata": {},
     "output_type": "display_data"
    }
   ],
   "source": [
    "display(df.query('year_of_release >= 2014')\n",
    "        .pivot_table(index='platform', values='total_sales', aggfunc='sum').sort_values(by='total_sales', ascending=False))"
   ]
  },
  {
   "cell_type": "markdown",
   "metadata": {},
   "source": [
    "<br><b>Итоговый перечень перспективных платформ: PS4, 3DS, XONE, PC</b>. Платформы PS3 и X360 еще находятся достаточно высоко в топе продаж, но, судя по динамике, уже уходят с рынка.\n",
    "<br><b>В дальнейшем, используем датафрейм для актуального периода, начиная с 2014 года включительно.</b>"
   ]
  },
  {
   "cell_type": "markdown",
   "metadata": {},
   "source": [
    "Построим диаграмму размаха (\"ящик с усами\") по глобальным продажам игр в разбивке по платформам"
   ]
  },
  {
   "cell_type": "code",
   "execution_count": 20,
   "metadata": {},
   "outputs": [
    {
     "data": {
      "image/png": "[encoded data removed]",
      "text/plain": [
       "<Figure size 864x720 with 1 Axes>"
      ]
     },
     "metadata": {
      "needs_background": "light"
     },
     "output_type": "display_data"
    }
   ],
   "source": [
    "#np.random.seed(1234)\n",
    "#df = pd.DataFrame(np.random.randn(10, 4),\n",
    "#                  columns=['Col1', 'Col2', 'Col3', 'Col4'])\n",
    "df=df.query('year_of_release >= 2014')\n",
    "actual=df.query('platform in [\"ps4\",\"3ds\",\"xone\",\"pc\"]')\n",
    "boxplot = actual.boxplot(column='total_sales', by='platform', figsize=(12,10))  "
   ]
  },
  {
   "cell_type": "markdown",
   "metadata": {},
   "source": [
    "Построим дополнительный график в масштабе, не учитывающем выбросов:"
   ]
  },
  {
   "cell_type": "code",
   "execution_count": 21,
   "metadata": {},
   "outputs": [
    {
     "data": {
      "text/plain": [
       "(0.0, 1.1)"
      ]
     },
     "execution_count": 21,
     "metadata": {},
     "output_type": "execute_result"
    },
    {
     "data": {
      "image/png": "[encoded data removed]",
      "text/plain": [
       "<Figure size 864x720 with 1 Axes>"
      ]
     },
     "metadata": {
      "needs_background": "light"
     },
     "output_type": "display_data"
    }
   ],
   "source": [
    "boxplot = actual.boxplot(column='total_sales', by='platform', figsize=(12,10))  \n",
    "plt.ylim(0, 1.1)"
   ]
  },
  {
   "cell_type": "markdown",
   "metadata": {},
   "source": [
    "<h4>Промежуточный вывод</h4>\n",
    "<br>Наиболее высокие значения медианных продаж на рассматриваемом периоде имеют наиболее перспективные платформы - PS4 и Xone. При этом, с учетом того, что средние показатели, в приницпе сопоставимы, для PS4 и 3ds характерны большие забросы по продажам для некотрых игр, что говорит о том, что на этих платформах выходили очень популярные игры. Для остальных платформ игры с такой популярностью отсутствуют.\n",
    "<br>Медианные значения и величина 75% квартиля для платформ PS4 и Xone выше, чем для 3ds и PC, то есть в среднем игры на этих платформах более популярны и продаются больше. Что дополнитьлеьно подтверждает наш тезис о популярности и перспективности платформ PS4 и Xone."
   ]
  },
  {
   "cell_type": "markdown",
   "metadata": {},
   "source": [
    "<h3>Определение корреляции между отзывам и продажами внутри одной из популярных платформ</h3>\n",
    "<br>Возьмем платформу PS4 и для нее построим график корреляции продаж и отзывов пользователей и критиков отдельно. Дополнительно определим коэффициент корреляции Пирсона для каждого из вариантов."
   ]
  },
  {
   "cell_type": "code",
   "execution_count": 22,
   "metadata": {},
   "outputs": [
    {
     "name": "stdout",
     "output_type": "stream",
     "text": [
      "Корреляция отзывов игроков и продаж для платформы\n",
      "Коэффициент корреляции -0.040131589472697356\n"
     ]
    },
    {
     "data": {
      "image/png": "[encoded data removed]",
      "text/plain": [
       "<Figure size 432x288 with 1 Axes>"
      ]
     },
     "metadata": {
      "needs_background": "light"
     },
     "output_type": "display_data"
    }
   ],
   "source": [
    "print('Корреляция отзывов игроков и продаж для платформы')\n",
    "df.query('platform == \"ps4\"').plot(x='user_score',y='total_sales',kind='scatter')\n",
    "print('Коэффициент корреляции',df.query('platform == \"ps4\"')['user_score'].corr(df.query('platform == \"ps4\"')['total_sales']))"
   ]
  },
  {
   "cell_type": "code",
   "execution_count": 23,
   "metadata": {},
   "outputs": [
    {
     "name": "stdout",
     "output_type": "stream",
     "text": [
      "Корреляция отзывов критиков и продаж для платформы\n",
      "Коэффициент корреляции 0.40266141068104083\n"
     ]
    },
    {
     "data": {
      "image/png": "[encoded data removed]",
      "text/plain": [
       "<Figure size 432x288 with 1 Axes>"
      ]
     },
     "metadata": {
      "needs_background": "light"
     },
     "output_type": "display_data"
    }
   ],
   "source": [
    "print('Корреляция отзывов критиков и продаж для платформы')\n",
    "df.query('platform == \"ps4\"').plot(x='critic_score',y='total_sales',kind='scatter')\n",
    "print('Коэффициент корреляции',df.query('platform == \"ps4\"')['critic_score'].corr(df.query('platform == \"ps4\"')['total_sales']))"
   ]
  },
  {
   "cell_type": "markdown",
   "metadata": {},
   "source": [
    "Дополнительно проверим, насколько в принципе коррелируют между собо отзывы критиков и игроков"
   ]
  },
  {
   "cell_type": "code",
   "execution_count": 24,
   "metadata": {},
   "outputs": [
    {
     "name": "stdout",
     "output_type": "stream",
     "text": [
      "Корреляция отзывов критиков и пользователей для платформы\n",
      "Коэффициент корреляции 0.546434245119031\n"
     ]
    },
    {
     "data": {
      "image/png": "[encoded data removed]",
      "text/plain": [
       "<Figure size 432x288 with 1 Axes>"
      ]
     },
     "metadata": {
      "needs_background": "light"
     },
     "output_type": "display_data"
    }
   ],
   "source": [
    "print('Корреляция отзывов критиков и пользователей для платформы')\n",
    "df.query('platform == \"ps4\"').plot(x='critic_score',y='user_score',kind='scatter')\n",
    "print('Коэффициент корреляции',df.query('platform == \"ps4\"')['critic_score'].corr(df.query('platform == \"ps4\"')['user_score']))"
   ]
  },
  {
   "cell_type": "markdown",
   "metadata": {},
   "source": [
    "<h4>Промежуточный вывод</h4>\n",
    "<br>Отызвы пользователей имеют слабоотрицательную корреляцию с объемом продаж, из разброса явно видно, что есть популярные игры, которые игрокам на данной палтформе не нарвятся. Отзывы критико имеют полжительную корреляцию с уровнем продаж, возможно за счёт более глубокого понимания и опыта оценки игр. В целом, отзывы критиков и пользователей между собой коррелируют."
   ]
  },
  {
   "cell_type": "markdown",
   "metadata": {},
   "source": [
    "Проверим аналогичным образом наши выводы для двух других платформ - возьмем XOne и 3ds.\n",
    "<br><b>Для XOne</b>"
   ]
  },
  {
   "cell_type": "code",
   "execution_count": 25,
   "metadata": {},
   "outputs": [
    {
     "name": "stdout",
     "output_type": "stream",
     "text": [
      "Корреляция отзывов игроков и продаж для платформы\n",
      "Коэффициент корреляции -0.0703839280647581\n"
     ]
    },
    {
     "data": {
      "image/png": "[encoded data removed]",
      "text/plain": [
       "<Figure size 432x288 with 1 Axes>"
      ]
     },
     "metadata": {
      "needs_background": "light"
     },
     "output_type": "display_data"
    }
   ],
   "source": [
    "print('Корреляция отзывов игроков и продаж для платформы')\n",
    "df.query('platform == \"xone\"').plot(x='user_score',y='total_sales',kind='scatter')\n",
    "print('Коэффициент корреляции',df.query('platform == \"xone\"')['user_score'].corr(df.query('platform == \"xone\"')['total_sales']))"
   ]
  },
  {
   "cell_type": "code",
   "execution_count": 26,
   "metadata": {},
   "outputs": [
    {
     "name": "stdout",
     "output_type": "stream",
     "text": [
      "Корреляция отзывов критиков и продаж для платформы\n",
      "Коэффициент корреляции 0.42867694370333226\n"
     ]
    },
    {
     "data": {
      "image/png": "[encoded data removed]",
      "text/plain": [
       "<Figure size 432x288 with 1 Axes>"
      ]
     },
     "metadata": {
      "needs_background": "light"
     },
     "output_type": "display_data"
    }
   ],
   "source": [
    "print('Корреляция отзывов критиков и продаж для платформы')\n",
    "df.query('platform == \"xone\"').plot(x='critic_score',y='total_sales',kind='scatter')\n",
    "print('Коэффициент корреляции',df.query('platform == \"xone\"')['critic_score'].corr(df.query('platform == \"xone\"')['total_sales']))"
   ]
  },
  {
   "cell_type": "code",
   "execution_count": 27,
   "metadata": {},
   "outputs": [
    {
     "name": "stdout",
     "output_type": "stream",
     "text": [
      "Корреляция отзывов критиков и пользователей для платформы\n",
      "Коэффициент корреляции 0.4409773483764412\n"
     ]
    },
    {
     "data": {
      "image/png": "[encoded data removed]",
      "text/plain": [
       "<Figure size 432x288 with 1 Axes>"
      ]
     },
     "metadata": {
      "needs_background": "light"
     },
     "output_type": "display_data"
    }
   ],
   "source": [
    "print('Корреляция отзывов критиков и пользователей для платформы')\n",
    "df.query('platform == \"xone\"').plot(x='critic_score',y='user_score',kind='scatter')\n",
    "print('Коэффициент корреляции',df.query('platform == \"xone\"')['critic_score'].corr(df.query('platform == \"xone\"')['user_score']))"
   ]
  },
  {
   "cell_type": "markdown",
   "metadata": {},
   "source": [
    "<h4>Промежуточный вывод</h4>\n",
    "<br>Аналогично предыдущей платформе (ps4), отызвы пользователей имеют слабоотрицательную корреляцию с объемом продаж, а отзывы критиков - полжительную корреляцию. Отзывы критиков и пользователей также между собой коррелируют."
   ]
  },
  {
   "cell_type": "markdown",
   "metadata": {},
   "source": [
    "<b>Для 3ds</b>"
   ]
  },
  {
   "cell_type": "code",
   "execution_count": 28,
   "metadata": {},
   "outputs": [
    {
     "name": "stdout",
     "output_type": "stream",
     "text": [
      "Корреляция отзывов игроков и продаж для платформы\n",
      "Коэффициент корреляции 0.2151932718527028\n"
     ]
    },
    {
     "data": {
      "image/png": "[encoded data removed]",
      "text/plain": [
       "<Figure size 432x288 with 1 Axes>"
      ]
     },
     "metadata": {
      "needs_background": "light"
     },
     "output_type": "display_data"
    }
   ],
   "source": [
    "print('Корреляция отзывов игроков и продаж для платформы')\n",
    "df.query('platform == \"3ds\"').plot(x='user_score',y='total_sales',kind='scatter')\n",
    "print('Коэффициент корреляции',df.query('platform == \"3ds\"')['user_score'].corr(df.query('platform == \"3ds\"')['total_sales']))"
   ]
  },
  {
   "cell_type": "code",
   "execution_count": 29,
   "metadata": {},
   "outputs": [
    {
     "name": "stdout",
     "output_type": "stream",
     "text": [
      "Корреляция отзывов критиков и продаж для платформы\n",
      "Коэффициент корреляции 0.314117492869051\n"
     ]
    },
    {
     "data": {
      "image/png": "[encoded data removed]",
      "text/plain": [
       "<Figure size 432x288 with 1 Axes>"
      ]
     },
     "metadata": {
      "needs_background": "light"
     },
     "output_type": "display_data"
    }
   ],
   "source": [
    "print('Корреляция отзывов критиков и продаж для платформы')\n",
    "df.query('platform == \"3ds\"').plot(x='critic_score',y='total_sales',kind='scatter')\n",
    "print('Коэффициент корреляции',df.query('platform == \"3ds\"')['critic_score'].corr(df.query('platform == \"3ds\"')['total_sales']))"
   ]
  },
  {
   "cell_type": "code",
   "execution_count": 30,
   "metadata": {},
   "outputs": [
    {
     "name": "stdout",
     "output_type": "stream",
     "text": [
      "Корреляция отзывов критиков и пользователей для платформы\n",
      "Коэффициент корреляции 0.862484552934546\n"
     ]
    },
    {
     "data": {
      "image/png": "[encoded data removed]",
      "text/plain": [
       "<Figure size 432x288 with 1 Axes>"
      ]
     },
     "metadata": {
      "needs_background": "light"
     },
     "output_type": "display_data"
    }
   ],
   "source": [
    "print('Корреляция отзывов критиков и пользователей для платформы')\n",
    "df.query('platform == \"3ds\"').plot(x='critic_score',y='user_score',kind='scatter')\n",
    "print('Коэффициент корреляции',df.query('platform == \"3ds\"')['critic_score'].corr(df.query('platform == \"3ds\"')['user_score']))"
   ]
  },
  {
   "cell_type": "markdown",
   "metadata": {},
   "source": [
    "В целом, выводы для первой платформы (PS4) справедливы и для остальных двух. Но при этом, PS4 и XOne имеет слабоотрицательную корреляцию между отзывами поьзователей и продажами, в от 3ds, где она слабоположительная. Это может быть вызвано относительной новизной платформ и меньшим количеством игр и продаж в принципе."
   ]
  },
  {
   "cell_type": "markdown",
   "metadata": {},
   "source": [
    "<h3>Распределние продаж игр по жанрам</h3>\n",
    "Рассмотрим общее распределение игр по жанрам. Построим диаграмму рассеяния продаж в зависимости от жанров\n"
   ]
  },
  {
   "cell_type": "code",
   "execution_count": 31,
   "metadata": {},
   "outputs": [
    {
     "data": {
      "text/plain": [
       "<AxesSubplot:xlabel='genre', ylabel='total_sales'>"
      ]
     },
     "execution_count": 31,
     "metadata": {},
     "output_type": "execute_result"
    },
    {
     "data": {
      "image/png": "[encoded data removed]",
      "text/plain": [
       "<Figure size 720x360 with 1 Axes>"
      ]
     },
     "metadata": {
      "needs_background": "light"
     },
     "output_type": "display_data"
    }
   ],
   "source": [
    "df.plot(x='genre',y='total_sales',kind='scatter',figsize=(10,5))"
   ]
  },
  {
   "cell_type": "markdown",
   "metadata": {},
   "source": [
    "Дополнительно построим график зависимости среднего объема продаж от жанра"
   ]
  },
  {
   "cell_type": "code",
   "execution_count": 32,
   "metadata": {},
   "outputs": [
    {
     "data": {
      "text/plain": [
       "<AxesSubplot:xlabel='genre'>"
      ]
     },
     "execution_count": 32,
     "metadata": {},
     "output_type": "execute_result"
    },
    {
     "data": {
      "image/png": "[encoded data removed]",
      "text/plain": [
       "<Figure size 720x360 with 1 Axes>"
      ]
     },
     "metadata": {
      "needs_background": "light"
     },
     "output_type": "display_data"
    }
   ],
   "source": [
    "df.pivot_table(index='genre', values='total_sales', aggfunc='mean').plot(kind='bar',figsize=(10,5))"
   ]
  },
  {
   "cell_type": "markdown",
   "metadata": {},
   "source": [
    "<h4>Промежуточный вывод</h4>\n",
    "<br>По суммарным показателям привыли явно выделяются по объемам продаж игры в жанрах Sports, Platform и Racing, они являются самыми популярными и, очевидно, прибыльными. Низкие продажи имеют игры жанров Fighting, Adventure и Strategy.\n",
    "<br>Однако, по средней выручке лидируют другие жанры - <b>Shooter, Sports и Platform</b>. Что говорит о том, что в жанре Shooter преобладают игры с большими средними продажами, но представленные в небольшом количестве, а в жанре Racing - много игр, но они мало популярны и в среднес имеют более низкие показатели продаж. Таким образом, игры жанров <b>Shooter, Sports и Platform</b> считаем наиболее популярными."
   ]
  },
  {
   "cell_type": "markdown",
   "metadata": {},
   "source": [
    "<h2>Портрет пользователя для каждого региона</h2>"
   ]
  },
  {
   "cell_type": "markdown",
   "metadata": {},
   "source": [
    "<h3>Анализ популярности платформ</h3>"
   ]
  },
  {
   "cell_type": "markdown",
   "metadata": {},
   "source": [
    "<br><b>Определим топ-5 самых популярных платформ для каждого региона и построим круговую диаграмму</b>"
   ]
  },
  {
   "cell_type": "code",
   "execution_count": 33,
   "metadata": {},
   "outputs": [
    {
     "data": {
      "text/html": [
       "<div>\n",
       "<style scoped>\n",
       "    .dataframe tbody tr th:only-of-type {\n",
       "        vertical-align: middle;\n",
       "    }\n",
       "\n",
       "    .dataframe tbody tr th {\n",
       "        vertical-align: top;\n",
       "    }\n",
       "\n",
       "    .dataframe thead th {\n",
       "        text-align: right;\n",
       "    }\n",
       "</style>\n",
       "<table border=\"1\" class=\"dataframe\">\n",
       "  <thead>\n",
       "    <tr style=\"text-align: right;\">\n",
       "      <th></th>\n",
       "      <th>na_sales</th>\n",
       "    </tr>\n",
       "    <tr>\n",
       "      <th>platform</th>\n",
       "      <th></th>\n",
       "    </tr>\n",
       "  </thead>\n",
       "  <tbody>\n",
       "    <tr>\n",
       "      <th>ps4</th>\n",
       "      <td>98.61</td>\n",
       "    </tr>\n",
       "    <tr>\n",
       "      <th>xone</th>\n",
       "      <td>81.27</td>\n",
       "    </tr>\n",
       "    <tr>\n",
       "      <th>x360</th>\n",
       "      <td>28.30</td>\n",
       "    </tr>\n",
       "    <tr>\n",
       "      <th>3ds</th>\n",
       "      <td>22.64</td>\n",
       "    </tr>\n",
       "    <tr>\n",
       "      <th>ps3</th>\n",
       "      <td>22.05</td>\n",
       "    </tr>\n",
       "  </tbody>\n",
       "</table>\n",
       "</div>"
      ],
      "text/plain": [
       "          na_sales\n",
       "platform          \n",
       "ps4          98.61\n",
       "xone         81.27\n",
       "x360         28.30\n",
       "3ds          22.64\n",
       "ps3          22.05"
      ]
     },
     "metadata": {},
     "output_type": "display_data"
    },
    {
     "data": {
      "text/html": [
       "<div>\n",
       "<style scoped>\n",
       "    .dataframe tbody tr th:only-of-type {\n",
       "        vertical-align: middle;\n",
       "    }\n",
       "\n",
       "    .dataframe tbody tr th {\n",
       "        vertical-align: top;\n",
       "    }\n",
       "\n",
       "    .dataframe thead th {\n",
       "        text-align: right;\n",
       "    }\n",
       "</style>\n",
       "<table border=\"1\" class=\"dataframe\">\n",
       "  <thead>\n",
       "    <tr style=\"text-align: right;\">\n",
       "      <th></th>\n",
       "      <th>eu_sales</th>\n",
       "    </tr>\n",
       "    <tr>\n",
       "      <th>platform</th>\n",
       "      <th></th>\n",
       "    </tr>\n",
       "  </thead>\n",
       "  <tbody>\n",
       "    <tr>\n",
       "      <th>ps4</th>\n",
       "      <td>130.04</td>\n",
       "    </tr>\n",
       "    <tr>\n",
       "      <th>xone</th>\n",
       "      <td>46.25</td>\n",
       "    </tr>\n",
       "    <tr>\n",
       "      <th>ps3</th>\n",
       "      <td>25.54</td>\n",
       "    </tr>\n",
       "    <tr>\n",
       "      <th>pc</th>\n",
       "      <td>17.97</td>\n",
       "    </tr>\n",
       "    <tr>\n",
       "      <th>3ds</th>\n",
       "      <td>16.12</td>\n",
       "    </tr>\n",
       "  </tbody>\n",
       "</table>\n",
       "</div>"
      ],
      "text/plain": [
       "          eu_sales\n",
       "platform          \n",
       "ps4         130.04\n",
       "xone         46.25\n",
       "ps3          25.54\n",
       "pc           17.97\n",
       "3ds          16.12"
      ]
     },
     "metadata": {},
     "output_type": "display_data"
    },
    {
     "data": {
      "text/html": [
       "<div>\n",
       "<style scoped>\n",
       "    .dataframe tbody tr th:only-of-type {\n",
       "        vertical-align: middle;\n",
       "    }\n",
       "\n",
       "    .dataframe tbody tr th {\n",
       "        vertical-align: top;\n",
       "    }\n",
       "\n",
       "    .dataframe thead th {\n",
       "        text-align: right;\n",
       "    }\n",
       "</style>\n",
       "<table border=\"1\" class=\"dataframe\">\n",
       "  <thead>\n",
       "    <tr style=\"text-align: right;\">\n",
       "      <th></th>\n",
       "      <th>jp_sales</th>\n",
       "    </tr>\n",
       "    <tr>\n",
       "      <th>platform</th>\n",
       "      <th></th>\n",
       "    </tr>\n",
       "  </thead>\n",
       "  <tbody>\n",
       "    <tr>\n",
       "      <th>3ds</th>\n",
       "      <td>44.24</td>\n",
       "    </tr>\n",
       "    <tr>\n",
       "      <th>ps4</th>\n",
       "      <td>15.02</td>\n",
       "    </tr>\n",
       "    <tr>\n",
       "      <th>psv</th>\n",
       "      <td>14.54</td>\n",
       "    </tr>\n",
       "    <tr>\n",
       "      <th>ps3</th>\n",
       "      <td>11.22</td>\n",
       "    </tr>\n",
       "    <tr>\n",
       "      <th>wiiu</th>\n",
       "      <td>7.31</td>\n",
       "    </tr>\n",
       "  </tbody>\n",
       "</table>\n",
       "</div>"
      ],
      "text/plain": [
       "          jp_sales\n",
       "platform          \n",
       "3ds          44.24\n",
       "ps4          15.02\n",
       "psv          14.54\n",
       "ps3          11.22\n",
       "wiiu          7.31"
      ]
     },
     "metadata": {},
     "output_type": "display_data"
    }
   ],
   "source": [
    "#NA region\n",
    "df_platf_na=df.pivot_table(index='platform', values='na_sales', aggfunc='sum').sort_values(by='na_sales', ascending=False)\n",
    "#EU region\n",
    "df_platf_eu=df.pivot_table(index='platform', values='eu_sales', aggfunc='sum').sort_values(by='eu_sales', ascending=False)\n",
    "#JP region\n",
    "df_platf_jp=df.pivot_table(index='platform', values='jp_sales', aggfunc='sum').sort_values(by='jp_sales', ascending=False)\n",
    "display(df_platf_na.head(5), df_platf_eu.head(5), df_platf_jp.head(5))"
   ]
  },
  {
   "cell_type": "code",
   "execution_count": 34,
   "metadata": {},
   "outputs": [
    {
     "name": "stdout",
     "output_type": "stream",
     "text": [
      "Регион NA\n",
      "Регион EU\n",
      "Регион JP\n"
     ]
    },
    {
     "data": {
      "text/plain": [
       "array([<AxesSubplot:ylabel='jp_sales'>], dtype=object)"
      ]
     },
     "execution_count": 34,
     "metadata": {},
     "output_type": "execute_result"
    },
    {
     "data": {
      "image/png": "[encoded data removed]",
      "text/plain": [
       "<Figure size 432x288 with 1 Axes>"
      ]
     },
     "metadata": {},
     "output_type": "display_data"
    },
    {
     "data": {
      "image/png": "[encoded data removed]",
      "text/plain": [
       "<Figure size 432x288 with 1 Axes>"
      ]
     },
     "metadata": {},
     "output_type": "display_data"
    },
    {
     "data": {
      "image/png": "[encoded data removed]",
      "text/plain": [
       "<Figure size 432x288 with 1 Axes>"
      ]
     },
     "metadata": {},
     "output_type": "display_data"
    }
   ],
   "source": [
    "print('Регион NA')\n",
    "df_platf_na.query('platform in [\"ps4\",\"xone\",\"x360\",\"3ds\",\"ps3\"]').plot(kind='pie',subplots=True)\n",
    "print('Регион EU')\n",
    "df_platf_eu.query('platform in [\"ps4\",\"xone\",\"ps3\",\"pc\",\"3ds\"]').plot(kind='pie',subplots=True)\n",
    "print('Регион JP')\n",
    "df_platf_jp.query('platform in [\"3ds\",\"ps4\",\"psv\",\"ps3\",\"wiiu\"]').plot(kind='pie',subplots=True)"
   ]
  },
  {
   "cell_type": "code",
   "execution_count": 35,
   "metadata": {},
   "outputs": [
    {
     "name": "stdout",
     "output_type": "stream",
     "text": [
      "Регион NA\n",
      "Регион EU\n",
      "Регион JP\n"
     ]
    },
    {
     "data": {
      "text/plain": [
       "array([<AxesSubplot:title={'center':'jp_sales'}, xlabel='platform'>],\n",
       "      dtype=object)"
      ]
     },
     "execution_count": 35,
     "metadata": {},
     "output_type": "execute_result"
    },
    {
     "data": {
      "image/png": "[encoded data removed]",
      "text/plain": [
       "<Figure size 432x288 with 1 Axes>"
      ]
     },
     "metadata": {
      "needs_background": "light"
     },
     "output_type": "display_data"
    },
    {
     "data": {
      "image/png": "[encoded data removed]",
      "text/plain": [
       "<Figure size 432x288 with 1 Axes>"
      ]
     },
     "metadata": {
      "needs_background": "light"
     },
     "output_type": "display_data"
    },
    {
     "data": {
      "image/png": "[encoded data removed]",
      "text/plain": [
       "<Figure size 432x288 with 1 Axes>"
      ]
     },
     "metadata": {
      "needs_background": "light"
     },
     "output_type": "display_data"
    }
   ],
   "source": [
    "print('Регион NA')\n",
    "df_platf_na.query('platform in [\"ps4\",\"xone\",\"x360\",\"3ds\",\"ps3\"]').plot(kind='bar',subplots=True)\n",
    "print('Регион EU')\n",
    "df_platf_eu.query('platform in [\"ps4\",\"xone\",\"ps3\",\"pc\",\"3ds\"]').plot(kind='bar',subplots=True)\n",
    "print('Регион JP')\n",
    "df_platf_jp.query('platform in [\"3ds\",\"ps4\",\"psv\",\"ps3\",\"wiiu\"]').plot(kind='bar',subplots=True)"
   ]
  },
  {
   "cell_type": "markdown",
   "metadata": {},
   "source": [
    "<h4>Промежуточный вывод</h4>\n",
    "Качественно стсоав топ-5 платформ занчительно отличается от региона к региону - в Северной Америке и Европе лидирует PS4, за котоой следует XOne, причем в Северной Америке показатели продаж для них сопоставимы. А в Японии лидером является 3ds, за котрой с большим отрывом следуют PS4 и PSV."
   ]
  },
  {
   "cell_type": "markdown",
   "metadata": {},
   "source": [
    "<h3>Анализ популярности жанров</h3>"
   ]
  },
  {
   "cell_type": "markdown",
   "metadata": {},
   "source": [
    "<br><b>Определим топ-5 самых популярных жанров для каждого региона и построим столбчатую диаграмму</b>"
   ]
  },
  {
   "cell_type": "code",
   "execution_count": 36,
   "metadata": {},
   "outputs": [
    {
     "data": {
      "text/html": [
       "<div>\n",
       "<style scoped>\n",
       "    .dataframe tbody tr th:only-of-type {\n",
       "        vertical-align: middle;\n",
       "    }\n",
       "\n",
       "    .dataframe tbody tr th {\n",
       "        vertical-align: top;\n",
       "    }\n",
       "\n",
       "    .dataframe thead th {\n",
       "        text-align: right;\n",
       "    }\n",
       "</style>\n",
       "<table border=\"1\" class=\"dataframe\">\n",
       "  <thead>\n",
       "    <tr style=\"text-align: right;\">\n",
       "      <th></th>\n",
       "      <th>na_sales</th>\n",
       "    </tr>\n",
       "    <tr>\n",
       "      <th>genre</th>\n",
       "      <th></th>\n",
       "    </tr>\n",
       "  </thead>\n",
       "  <tbody>\n",
       "    <tr>\n",
       "      <th>shooter</th>\n",
       "      <td>79.02</td>\n",
       "    </tr>\n",
       "    <tr>\n",
       "      <th>action</th>\n",
       "      <td>72.53</td>\n",
       "    </tr>\n",
       "    <tr>\n",
       "      <th>sports</th>\n",
       "      <td>46.13</td>\n",
       "    </tr>\n",
       "    <tr>\n",
       "      <th>role-playing</th>\n",
       "      <td>33.47</td>\n",
       "    </tr>\n",
       "    <tr>\n",
       "      <th>misc</th>\n",
       "      <td>15.05</td>\n",
       "    </tr>\n",
       "  </tbody>\n",
       "</table>\n",
       "</div>"
      ],
      "text/plain": [
       "              na_sales\n",
       "genre                 \n",
       "shooter          79.02\n",
       "action           72.53\n",
       "sports           46.13\n",
       "role-playing     33.47\n",
       "misc             15.05"
      ]
     },
     "metadata": {},
     "output_type": "display_data"
    },
    {
     "data": {
      "text/html": [
       "<div>\n",
       "<style scoped>\n",
       "    .dataframe tbody tr th:only-of-type {\n",
       "        vertical-align: middle;\n",
       "    }\n",
       "\n",
       "    .dataframe tbody tr th {\n",
       "        vertical-align: top;\n",
       "    }\n",
       "\n",
       "    .dataframe thead th {\n",
       "        text-align: right;\n",
       "    }\n",
       "</style>\n",
       "<table border=\"1\" class=\"dataframe\">\n",
       "  <thead>\n",
       "    <tr style=\"text-align: right;\">\n",
       "      <th></th>\n",
       "      <th>eu_sales</th>\n",
       "    </tr>\n",
       "    <tr>\n",
       "      <th>genre</th>\n",
       "      <th></th>\n",
       "    </tr>\n",
       "  </thead>\n",
       "  <tbody>\n",
       "    <tr>\n",
       "      <th>action</th>\n",
       "      <td>74.68</td>\n",
       "    </tr>\n",
       "    <tr>\n",
       "      <th>shooter</th>\n",
       "      <td>65.52</td>\n",
       "    </tr>\n",
       "    <tr>\n",
       "      <th>sports</th>\n",
       "      <td>45.73</td>\n",
       "    </tr>\n",
       "    <tr>\n",
       "      <th>role-playing</th>\n",
       "      <td>28.17</td>\n",
       "    </tr>\n",
       "    <tr>\n",
       "      <th>racing</th>\n",
       "      <td>14.13</td>\n",
       "    </tr>\n",
       "  </tbody>\n",
       "</table>\n",
       "</div>"
      ],
      "text/plain": [
       "              eu_sales\n",
       "genre                 \n",
       "action           74.68\n",
       "shooter          65.52\n",
       "sports           45.73\n",
       "role-playing     28.17\n",
       "racing           14.13"
      ]
     },
     "metadata": {},
     "output_type": "display_data"
    },
    {
     "data": {
      "text/html": [
       "<div>\n",
       "<style scoped>\n",
       "    .dataframe tbody tr th:only-of-type {\n",
       "        vertical-align: middle;\n",
       "    }\n",
       "\n",
       "    .dataframe tbody tr th {\n",
       "        vertical-align: top;\n",
       "    }\n",
       "\n",
       "    .dataframe thead th {\n",
       "        text-align: right;\n",
       "    }\n",
       "</style>\n",
       "<table border=\"1\" class=\"dataframe\">\n",
       "  <thead>\n",
       "    <tr style=\"text-align: right;\">\n",
       "      <th></th>\n",
       "      <th>jp_sales</th>\n",
       "    </tr>\n",
       "    <tr>\n",
       "      <th>genre</th>\n",
       "      <th></th>\n",
       "    </tr>\n",
       "  </thead>\n",
       "  <tbody>\n",
       "    <tr>\n",
       "      <th>role-playing</th>\n",
       "      <td>31.16</td>\n",
       "    </tr>\n",
       "    <tr>\n",
       "      <th>action</th>\n",
       "      <td>29.58</td>\n",
       "    </tr>\n",
       "    <tr>\n",
       "      <th>fighting</th>\n",
       "      <td>6.37</td>\n",
       "    </tr>\n",
       "    <tr>\n",
       "      <th>misc</th>\n",
       "      <td>5.61</td>\n",
       "    </tr>\n",
       "    <tr>\n",
       "      <th>shooter</th>\n",
       "      <td>4.87</td>\n",
       "    </tr>\n",
       "  </tbody>\n",
       "</table>\n",
       "</div>"
      ],
      "text/plain": [
       "              jp_sales\n",
       "genre                 \n",
       "role-playing     31.16\n",
       "action           29.58\n",
       "fighting          6.37\n",
       "misc              5.61\n",
       "shooter           4.87"
      ]
     },
     "metadata": {},
     "output_type": "display_data"
    }
   ],
   "source": [
    "#NA region\n",
    "df_genre_na=df.pivot_table(index='genre', values='na_sales', aggfunc='sum').sort_values(by='na_sales', ascending=False)\n",
    "#EU region\n",
    "df_genre_eu=df.pivot_table(index='genre', values='eu_sales', aggfunc='sum').sort_values(by='eu_sales', ascending=False)\n",
    "#JP region\n",
    "df_genre_jp=df.pivot_table(index='genre', values='jp_sales', aggfunc='sum').sort_values(by='jp_sales', ascending=False)\n",
    "display(df_genre_na.head(5), df_genre_eu.head(5), df_genre_jp.head(5))"
   ]
  },
  {
   "cell_type": "code",
   "execution_count": 37,
   "metadata": {},
   "outputs": [
    {
     "name": "stdout",
     "output_type": "stream",
     "text": [
      "Регион NA\n",
      "Регион EU\n",
      "Регион JP\n"
     ]
    },
    {
     "data": {
      "text/plain": [
       "array([<AxesSubplot:title={'center':'jp_sales'}, xlabel='genre'>],\n",
       "      dtype=object)"
      ]
     },
     "execution_count": 37,
     "metadata": {},
     "output_type": "execute_result"
    },
    {
     "data": {
      "image/png": "[encoded data removed]",
      "text/plain": [
       "<Figure size 432x288 with 1 Axes>"
      ]
     },
     "metadata": {
      "needs_background": "light"
     },
     "output_type": "display_data"
    },
    {
     "data": {
      "image/png": "[encoded data removed]",
      "text/plain": [
       "<Figure size 432x288 with 1 Axes>"
      ]
     },
     "metadata": {
      "needs_background": "light"
     },
     "output_type": "display_data"
    },
    {
     "data": {
      "image/png": "[encoded data removed]",
      "text/plain": [
       "<Figure size 432x288 with 1 Axes>"
      ]
     },
     "metadata": {
      "needs_background": "light"
     },
     "output_type": "display_data"
    }
   ],
   "source": [
    "print('Регион NA')\n",
    "df_genre_na.query('genre in [\"action\",\"sports\",\"shooter\",\"role-playing\",\"misc\"]').plot(kind='bar',subplots=True)\n",
    "print('Регион EU')\n",
    "df_genre_eu.query('genre in [\"action\",\"sports\",\"shooter\",\"racing\",\"role-playing\"]').plot(kind='bar',subplots=True)\n",
    "print('Регион JP')\n",
    "df_genre_jp.query('genre in [\"role-playing\",\"action\",\"fighting\",\"shooter\",\"misc\"]').plot(kind='bar',subplots=True)"
   ]
  },
  {
   "cell_type": "markdown",
   "metadata": {},
   "source": [
    "<h4>Промежуточный вывод</h4>\n",
    "Пользовательское поведение в части жанров игр для пользователей Северной Америки и Европы практически совпадает: лидируют жанры Action и Shooter (практически одинаковы), на третьем месте - жанр Sports.\n",
    "<br>У пользователей из Японии характерно лидируют жанры RPG и Action, остальные 3 жанра значительно отстают."
   ]
  },
  {
   "cell_type": "markdown",
   "metadata": {},
   "source": [
    "<h3>Анализ влияния рейтинга ESRB на продажи в отдельном регионе </h3>"
   ]
  },
  {
   "cell_type": "markdown",
   "metadata": {},
   "source": [
    "<b>Исследуем влияние рейтинга ESRB на продажи в отдельном регионе</b>\n",
    "<br>Определим для каждого региона корреляцию рейтинга и продаж\n",
    "<br><b>Регион NA</b>"
   ]
  },
  {
   "cell_type": "code",
   "execution_count": 38,
   "metadata": {},
   "outputs": [
    {
     "data": {
      "text/plain": [
       "<AxesSubplot:xlabel='rating'>"
      ]
     },
     "execution_count": 38,
     "metadata": {},
     "output_type": "execute_result"
    },
    {
     "data": {
      "image/png": "[encoded data removed]",
      "text/plain": [
       "<Figure size 720x360 with 1 Axes>"
      ]
     },
     "metadata": {
      "needs_background": "light"
     },
     "output_type": "display_data"
    }
   ],
   "source": [
    "#Заполним строки с отсутствующим значением рейтинга\n",
    "df['rating']=df['rating'].fillna('No rating')\n",
    "df.pivot_table(index='rating',values='na_sales', aggfunc='sum').plot(kind='bar', figsize=(10,5))"
   ]
  },
  {
   "cell_type": "markdown",
   "metadata": {},
   "source": [
    "<br><b>Регион EU</b>"
   ]
  },
  {
   "cell_type": "code",
   "execution_count": 39,
   "metadata": {},
   "outputs": [
    {
     "data": {
      "text/plain": [
       "<AxesSubplot:xlabel='rating'>"
      ]
     },
     "execution_count": 39,
     "metadata": {},
     "output_type": "execute_result"
    },
    {
     "data": {
      "image/png": "[encoded data removed]",
      "text/plain": [
       "<Figure size 720x360 with 1 Axes>"
      ]
     },
     "metadata": {
      "needs_background": "light"
     },
     "output_type": "display_data"
    }
   ],
   "source": [
    "df.pivot_table(index='rating',values='eu_sales', aggfunc='sum').plot(kind='bar', figsize=(10,5))"
   ]
  },
  {
   "cell_type": "markdown",
   "metadata": {},
   "source": [
    "<br><b>Регион JP</b>"
   ]
  },
  {
   "cell_type": "code",
   "execution_count": 40,
   "metadata": {},
   "outputs": [
    {
     "data": {
      "text/plain": [
       "<AxesSubplot:xlabel='rating'>"
      ]
     },
     "execution_count": 40,
     "metadata": {},
     "output_type": "execute_result"
    },
    {
     "data": {
      "image/png": "[encoded data removed]",
      "text/plain": [
       "<Figure size 720x360 with 1 Axes>"
      ]
     },
     "metadata": {
      "needs_background": "light"
     },
     "output_type": "display_data"
    }
   ],
   "source": [
    "df.pivot_table(index='rating',values='jp_sales', aggfunc='sum').plot(kind='bar', figsize=(10,5))"
   ]
  },
  {
   "cell_type": "markdown",
   "metadata": {},
   "source": [
    "<h4>Промежуточный вывод</h4>\n",
    "<br>Рейтинг ESRB связан с количествоv продаж в региоахе Европа и Северная Америка - там лидируют игры с рейтингом М, а в регионе Япония лидирют игры, не отмеченные никаким из рейтингов ESRB. Возможно это связано с наличием собственной рейтинговой системы в Японии, которая отличается от ESRB."
   ]
  },
  {
   "cell_type": "markdown",
   "metadata": {},
   "source": [
    "Справочно, соберем пользовательские портреты для трёх разных регионах по рассмотренным выше параметрам\n",
    "\n",
    "<br><b>Сводный портрет пользователя региона Северная Америка</b>"
   ]
  },
  {
   "cell_type": "code",
   "execution_count": 41,
   "metadata": {},
   "outputs": [
    {
     "name": "stdout",
     "output_type": "stream",
     "text": [
      "Предпочтения по платформам\n",
      "Предпочтения по жанрам\n",
      "Распределение по рейтингу ESRB\n"
     ]
    },
    {
     "data": {
      "text/plain": [
       "<AxesSubplot:xlabel='rating'>"
      ]
     },
     "execution_count": 41,
     "metadata": {},
     "output_type": "execute_result"
    },
    {
     "data": {
      "image/png": "[encoded data removed]",
      "text/plain": [
       "<Figure size 432x288 with 1 Axes>"
      ]
     },
     "metadata": {
      "needs_background": "light"
     },
     "output_type": "display_data"
    },
    {
     "data": {
      "image/png": "[encoded data removed]",
      "text/plain": [
       "<Figure size 432x288 with 1 Axes>"
      ]
     },
     "metadata": {
      "needs_background": "light"
     },
     "output_type": "display_data"
    },
    {
     "data": {
      "image/png": "[encoded data removed]",
      "text/plain": [
       "<Figure size 432x288 with 1 Axes>"
      ]
     },
     "metadata": {
      "needs_background": "light"
     },
     "output_type": "display_data"
    }
   ],
   "source": [
    "print('Предпочтения по платформам')\n",
    "df_platf_na.query('platform in [\"ps4\",\"xone\",\"x360\",\"3ds\",\"ps3\"]').plot(kind='bar',subplots=True)\n",
    "print('Предпочтения по жанрам')\n",
    "df_genre_na.query('genre in [\"action\",\"sports\",\"shooter\",\"role-playing\",\"misc\"]').plot(kind='bar',subplots=True)\n",
    "print('Распределение по рейтингу ESRB')\n",
    "df.pivot_table(index='rating',values='na_sales', aggfunc='sum').plot(kind='bar')"
   ]
  },
  {
   "cell_type": "markdown",
   "metadata": {},
   "source": [
    "<b>Сводный портрет пользователя региона Европа</b>"
   ]
  },
  {
   "cell_type": "code",
   "execution_count": 42,
   "metadata": {},
   "outputs": [
    {
     "name": "stdout",
     "output_type": "stream",
     "text": [
      "Предпочтения по платформам\n",
      "Предпочтения по жанрам\n",
      "Распределение по рейтингу ESRB\n"
     ]
    },
    {
     "data": {
      "text/plain": [
       "<AxesSubplot:xlabel='rating'>"
      ]
     },
     "execution_count": 42,
     "metadata": {},
     "output_type": "execute_result"
    },
    {
     "data": {
      "image/png": "[encoded data removed]",
      "text/plain": [
       "<Figure size 432x288 with 1 Axes>"
      ]
     },
     "metadata": {
      "needs_background": "light"
     },
     "output_type": "display_data"
    },
    {
     "data": {
      "image/png": "[encoded data removed]",
      "text/plain": [
       "<Figure size 432x288 with 1 Axes>"
      ]
     },
     "metadata": {
      "needs_background": "light"
     },
     "output_type": "display_data"
    },
    {
     "data": {
      "image/png": "[encoded data removed]",
      "text/plain": [
       "<Figure size 432x288 with 1 Axes>"
      ]
     },
     "metadata": {
      "needs_background": "light"
     },
     "output_type": "display_data"
    }
   ],
   "source": [
    "print('Предпочтения по платформам')\n",
    "df_platf_eu.query('platform in [\"ps4\",\"xone\",\"ps3\",\"pc\",\"3ds\"]').plot(kind='bar',subplots=True)\n",
    "print('Предпочтения по жанрам')\n",
    "df_genre_eu.query('genre in [\"action\",\"sports\",\"shooter\",\"racing\",\"role-playing\"]').plot(kind='bar',subplots=True)\n",
    "print('Распределение по рейтингу ESRB')\n",
    "df.pivot_table(index='rating',values='eu_sales', aggfunc='sum').plot(kind='bar')"
   ]
  },
  {
   "cell_type": "markdown",
   "metadata": {},
   "source": [
    "<b>Сводный портрет пользователя региона Япония</b>"
   ]
  },
  {
   "cell_type": "code",
   "execution_count": 43,
   "metadata": {},
   "outputs": [
    {
     "name": "stdout",
     "output_type": "stream",
     "text": [
      "Предпочтения по платформам\n",
      "Предпочтения по жанрам\n",
      "Распределение по рейтингу ESRB\n"
     ]
    },
    {
     "data": {
      "text/plain": [
       "<AxesSubplot:xlabel='rating'>"
      ]
     },
     "execution_count": 43,
     "metadata": {},
     "output_type": "execute_result"
    },
    {
     "data": {
      "image/png": "[encoded data removed]",
      "text/plain": [
       "<Figure size 432x288 with 1 Axes>"
      ]
     },
     "metadata": {
      "needs_background": "light"
     },
     "output_type": "display_data"
    },
    {
     "data": {
      "image/png": "[encoded data removed]",
      "text/plain": [
       "<Figure size 432x288 with 1 Axes>"
      ]
     },
     "metadata": {
      "needs_background": "light"
     },
     "output_type": "display_data"
    },
    {
     "data": {
      "image/png": "[encoded data removed]",
      "text/plain": [
       "<Figure size 432x288 with 1 Axes>"
      ]
     },
     "metadata": {
      "needs_background": "light"
     },
     "output_type": "display_data"
    }
   ],
   "source": [
    "print('Предпочтения по платформам')\n",
    "df_platf_jp.query('platform in [\"3ds\",\"ps4\",\"psv\",\"ps3\",\"wiiu\"]').plot(kind='bar',subplots=True)\n",
    "print('Предпочтения по жанрам')\n",
    "df_genre_jp.query('genre in [\"role-playing\",\"action\",\"fighting\",\"shooter\",\"misc\"]').plot(kind='bar',subplots=True)\n",
    "print('Распределение по рейтингу ESRB')\n",
    "df.pivot_table(index='rating',values='jp_sales', aggfunc='sum').plot(kind='bar')"
   ]
  },
  {
   "cell_type": "markdown",
   "metadata": {},
   "source": [
    "<h2>Проверка гипотез</h2>"
   ]
  },
  {
   "cell_type": "markdown",
   "metadata": {},
   "source": [
    "Проверим гиоптезу о том, что средние пользовательские рейтинги платформ Xbox One и PC одинаковые.\n",
    "<br>Сформулируем нулевую и альтернативную гипоетзы:\n",
    "<br><b>Нулевая гипотеза:</b>\n",
    "\n",
    "<br>Н0 - Средние пользовательские рейтинги платформ Xbox One и PC равны, т.е. средние значения равны.\n",
    "<br>Н1 - Средние пользовательские рейтинги платформ Xbox One и PC не равны, т.е. средние значения не равны.\n"
   ]
  },
  {
   "cell_type": "code",
   "execution_count": 44,
   "metadata": {},
   "outputs": [
    {
     "name": "stdout",
     "output_type": "stream",
     "text": [
      "p-значение: 0.10450507919348415\n",
      "Не получилось отвергнуть нулевую гипотезу\n"
     ]
    }
   ],
   "source": [
    "alpha = .05\n",
    "#df_actual=df.query('year_of_release >= 2014') - больше не актуально\n",
    "#уберем пропуски в пользовательских оценках\n",
    "df=df.dropna(subset=['user_score'])\n",
    "#создадим датафрейм с оценками для XOne\n",
    "df_xone=df.query('platform == \"xone\"')\n",
    "#создадим датафрейм с оценками для PC\n",
    "df_pc=df.query('platform == \"pc\"')\n",
    "\n",
    "results = st.ttest_ind(\n",
    "    df_xone['user_score'], \n",
    "    df_pc['user_score'])\n",
    "\n",
    "print('p-значение:', results.pvalue)\n",
    "\n",
    "if results.pvalue < alpha:\n",
    "    print(\"Отвергаем нулевую гипотезу\")\n",
    "else:\n",
    "    print(\"Не получилось отвергнуть нулевую гипотезу\")"
   ]
  },
  {
   "cell_type": "markdown",
   "metadata": {},
   "source": [
    "Нулевую гиоптезу отвергунть не получилось, таким образом, <b>средние пользовательские рейтинги для данных платформ равны.</b>"
   ]
  },
  {
   "cell_type": "markdown",
   "metadata": {},
   "source": [
    "Проверим гиоптезу о том, что cредние пользовательские рейтинги жанров Action и Sports разные.\n",
    "<br>Сформулируем нулевую и альтернативную гипоетзы: \n",
    "<br><b>Нулевая гипотеза:</b>\n",
    "\n",
    "\n",
    "<br>Н0 - Средние пользовательские рейтинги жанров Action и Sports разные, т.е. средние значения не равны.\n",
    "<br>Н1 - Средние пользовательские рейтинги жанров Action и Sports одинаковы, т.е. средние значения равны."
   ]
  },
  {
   "cell_type": "code",
   "execution_count": 45,
   "metadata": {},
   "outputs": [
    {
     "name": "stdout",
     "output_type": "stream",
     "text": [
      "p-значение: 2.8711147985105864e-19\n",
      "Отвергаем нулевую гипотезу\n"
     ]
    }
   ],
   "source": [
    "alpha = .05\n",
    "df_action=df.query('genre == \"action\"')\n",
    "df_sports=df.query('genre == \"sports\"')\n",
    "\n",
    "results = st.ttest_ind(\n",
    "    df_action['user_score'], \n",
    "    df_sports['user_score'])\n",
    "\n",
    "print('p-значение:', results.pvalue)\n",
    "\n",
    "if results.pvalue < alpha:\n",
    "    print(\"Отвергаем нулевую гипотезу\")\n",
    "else:\n",
    "    print(\"Не получилось отвергнуть нулевую гипотезу\")"
   ]
  },
  {
   "cell_type": "markdown",
   "metadata": {},
   "source": [
    "Нулевая гиоптеза отвергунта, таким образом, <b>средние пользовательские рейтинги для данных жанров равны.</b>"
   ]
  },
  {
   "cell_type": "markdown",
   "metadata": {},
   "source": [
    "<h2>Общий вывод</h2>\n",
    "<br>Нами были рассмотрены данные о продажах игр для различных игровых платформ в трёх ключевых ргеонах - NA (Свеврная Америка), EU (Европа), JP (Япония).\n",
    "<br>Мы установили, что на 2017 год (по историческим данным актуального периода - начиная с 2014 года ) наиболее перспективными и потенциально прибыльными являются плтаформы PS4 и XONE и, в качестве альтернативы, PC. \n",
    "<br>По результатам изучения отзывов, мы можем отметить, что отызвы пользователей имеют слабоположительную корреляцию с объемом продаж. Причем, явно видно, что есть популярные игры, которые игрокам на данной палтформе не нравятся. Отзывы критиков имеют бОльшую полжительную корреляцию с уровнем продаж, возможно за счёт более глубокого понимания и опыта оценки игр. В целом, отзывы критиков и пользователей между собой коррелируют.\n",
    "<br>Среди жанров явно выделяются по объемам продаж игры в жанрах Shooter и Sports, они являются самыми популярными и, очевидно, прибыльными. Низкие продажи имеют игры жанров Adventure и Strategy.\n",
    "<br>Составили для каждого региона портрет пользователя в разрезе 5 наиболее популярных платформ, жанров и влияния ESRB рейтинга на объемы продаж. Дополнительно пришли к выводу, что данный рейтинг коррелирует с продажами в Северной Америке и Европе, но в Японии лидируют игры без рейтинга, что потенциально говорит о наличии собственного внутристранового рейтинга.\n",
    "<br>Проверили 2 гиоптезы: \n",
    "<br>О том, что средние пользовательские рейтинги платформ Xbox One и PC одинаковые. Нулевую гиоптезу отвергунть не получилось, таким образом, <b>средние пользовательские рейтинги для данных платформ равны.</b>\n",
    "<br>О том, что cредние пользовательские рейтинги жанров Action и Sports разные.Нулевая гиоптеза отвергунта, таким образом, <b>средние пользовательские рейтинги для данных жанров равны.</b>"
   ]
  }
 ],
 "metadata": {
  "ExecuteTimeLog": [
   {
    "duration": 529,
    "start_time": "2022-04-27T20:55:52.194Z"
   },
   {
    "duration": 60,
    "start_time": "2022-04-27T20:56:04.822Z"
   },
   {
    "duration": 80,
    "start_time": "2022-04-27T20:56:42.789Z"
   },
   {
    "duration": 96,
    "start_time": "2022-04-27T21:07:19.776Z"
   },
   {
    "duration": 69,
    "start_time": "2022-04-28T20:50:11.804Z"
   },
   {
    "duration": 459,
    "start_time": "2022-04-28T20:50:17.549Z"
   },
   {
    "duration": 5,
    "start_time": "2022-04-28T20:50:18.010Z"
   },
   {
    "duration": 6,
    "start_time": "2022-04-28T20:50:32.276Z"
   },
   {
    "duration": 43,
    "start_time": "2022-05-02T17:58:41.410Z"
   },
   {
    "duration": 432,
    "start_time": "2022-05-02T17:58:51.321Z"
   },
   {
    "duration": 13,
    "start_time": "2022-05-02T17:58:51.755Z"
   },
   {
    "duration": 66,
    "start_time": "2022-05-02T19:11:30.920Z"
   },
   {
    "duration": 14,
    "start_time": "2022-05-02T19:11:31.559Z"
   },
   {
    "duration": 65,
    "start_time": "2022-05-02T19:11:50.137Z"
   },
   {
    "duration": 12,
    "start_time": "2022-05-02T19:12:22.537Z"
   },
   {
    "duration": 454,
    "start_time": "2022-05-02T19:17:26.463Z"
   },
   {
    "duration": 13,
    "start_time": "2022-05-02T19:17:26.919Z"
   },
   {
    "duration": 79,
    "start_time": "2022-05-02T19:17:26.934Z"
   },
   {
    "duration": 10,
    "start_time": "2022-05-02T19:18:15.817Z"
   },
   {
    "duration": 11,
    "start_time": "2022-05-02T19:20:09.950Z"
   },
   {
    "duration": 11,
    "start_time": "2022-05-02T19:20:14.414Z"
   },
   {
    "duration": 11,
    "start_time": "2022-05-02T19:23:17.584Z"
   },
   {
    "duration": 7,
    "start_time": "2022-05-02T19:24:55.102Z"
   },
   {
    "duration": 17,
    "start_time": "2022-05-02T19:31:20.601Z"
   },
   {
    "duration": 4,
    "start_time": "2022-05-02T19:32:29.349Z"
   },
   {
    "duration": 1984,
    "start_time": "2022-05-02T19:55:41.672Z"
   },
   {
    "duration": 460,
    "start_time": "2022-05-02T19:55:59.296Z"
   },
   {
    "duration": 17,
    "start_time": "2022-05-02T19:55:59.757Z"
   },
   {
    "duration": 9,
    "start_time": "2022-05-02T19:55:59.775Z"
   },
   {
    "duration": 16,
    "start_time": "2022-05-02T19:55:59.785Z"
   },
   {
    "duration": 1957,
    "start_time": "2022-05-02T19:55:59.802Z"
   },
   {
    "duration": 0,
    "start_time": "2022-05-02T19:56:01.761Z"
   },
   {
    "duration": 2020,
    "start_time": "2022-05-02T19:56:19.023Z"
   },
   {
    "duration": 1913,
    "start_time": "2022-05-02T19:56:59.347Z"
   },
   {
    "duration": 1891,
    "start_time": "2022-05-02T19:57:20.868Z"
   },
   {
    "duration": 1929,
    "start_time": "2022-05-02T19:57:52.176Z"
   },
   {
    "duration": 1908,
    "start_time": "2022-05-02T19:58:17.400Z"
   },
   {
    "duration": 1914,
    "start_time": "2022-05-02T19:59:15.388Z"
   },
   {
    "duration": 408,
    "start_time": "2022-05-02T19:59:28.848Z"
   },
   {
    "duration": 17,
    "start_time": "2022-05-02T19:59:29.258Z"
   },
   {
    "duration": 11,
    "start_time": "2022-05-02T19:59:29.276Z"
   },
   {
    "duration": 14,
    "start_time": "2022-05-02T19:59:29.289Z"
   },
   {
    "duration": 2074,
    "start_time": "2022-05-02T19:59:29.305Z"
   },
   {
    "duration": 0,
    "start_time": "2022-05-02T19:59:31.381Z"
   },
   {
    "duration": 2018,
    "start_time": "2022-05-02T19:59:49.751Z"
   },
   {
    "duration": 460,
    "start_time": "2022-05-02T20:00:04.277Z"
   },
   {
    "duration": 16,
    "start_time": "2022-05-02T20:00:04.739Z"
   },
   {
    "duration": 9,
    "start_time": "2022-05-02T20:00:04.756Z"
   },
   {
    "duration": 14,
    "start_time": "2022-05-02T20:00:04.767Z"
   },
   {
    "duration": 21,
    "start_time": "2022-05-02T20:00:04.782Z"
   },
   {
    "duration": 66,
    "start_time": "2022-05-02T20:00:04.805Z"
   },
   {
    "duration": 5,
    "start_time": "2022-05-02T20:00:59.862Z"
   },
   {
    "duration": 1267,
    "start_time": "2022-05-02T20:01:03.059Z"
   },
   {
    "duration": 9,
    "start_time": "2022-05-02T20:01:30.050Z"
   },
   {
    "duration": 10,
    "start_time": "2022-05-02T20:01:58.224Z"
   },
   {
    "duration": 15,
    "start_time": "2022-05-02T20:04:15.554Z"
   },
   {
    "duration": 13,
    "start_time": "2022-05-02T20:04:23.714Z"
   },
   {
    "duration": 14,
    "start_time": "2022-05-02T20:06:24.285Z"
   },
   {
    "duration": 9,
    "start_time": "2022-05-02T20:06:42.156Z"
   },
   {
    "duration": 434,
    "start_time": "2022-05-02T20:06:50.958Z"
   },
   {
    "duration": 16,
    "start_time": "2022-05-02T20:06:51.394Z"
   },
   {
    "duration": 16,
    "start_time": "2022-05-02T20:06:51.411Z"
   },
   {
    "duration": 7,
    "start_time": "2022-05-02T20:06:51.428Z"
   },
   {
    "duration": 8,
    "start_time": "2022-05-02T20:06:51.436Z"
   },
   {
    "duration": 11,
    "start_time": "2022-05-02T20:06:51.445Z"
   },
   {
    "duration": 1352,
    "start_time": "2022-05-02T20:06:51.457Z"
   },
   {
    "duration": 20,
    "start_time": "2022-05-02T20:06:59.688Z"
   },
   {
    "duration": 12,
    "start_time": "2022-05-02T20:08:53.840Z"
   },
   {
    "duration": 12,
    "start_time": "2022-05-02T20:09:05.608Z"
   },
   {
    "duration": 26,
    "start_time": "2022-05-02T20:09:20.259Z"
   },
   {
    "duration": 8,
    "start_time": "2022-05-02T20:09:57.192Z"
   },
   {
    "duration": 418,
    "start_time": "2022-05-02T20:10:04.240Z"
   },
   {
    "duration": 17,
    "start_time": "2022-05-02T20:10:04.660Z"
   },
   {
    "duration": 23,
    "start_time": "2022-05-02T20:10:04.678Z"
   },
   {
    "duration": 8,
    "start_time": "2022-05-02T20:10:04.702Z"
   },
   {
    "duration": 9,
    "start_time": "2022-05-02T20:10:04.711Z"
   },
   {
    "duration": 10,
    "start_time": "2022-05-02T20:10:04.722Z"
   },
   {
    "duration": 1396,
    "start_time": "2022-05-02T20:10:04.734Z"
   },
   {
    "duration": 16,
    "start_time": "2022-05-02T20:10:24.818Z"
   },
   {
    "duration": 432,
    "start_time": "2022-05-02T20:10:41.823Z"
   },
   {
    "duration": 16,
    "start_time": "2022-05-02T20:10:42.256Z"
   },
   {
    "duration": 16,
    "start_time": "2022-05-02T20:10:42.274Z"
   },
   {
    "duration": 7,
    "start_time": "2022-05-02T20:10:42.300Z"
   },
   {
    "duration": 15,
    "start_time": "2022-05-02T20:10:42.308Z"
   },
   {
    "duration": 10,
    "start_time": "2022-05-02T20:10:42.324Z"
   },
   {
    "duration": 1363,
    "start_time": "2022-05-02T20:10:42.335Z"
   },
   {
    "duration": 12,
    "start_time": "2022-05-02T20:11:05.706Z"
   },
   {
    "duration": 16,
    "start_time": "2022-05-02T20:11:10.471Z"
   },
   {
    "duration": 404,
    "start_time": "2022-05-02T20:11:23.745Z"
   },
   {
    "duration": 16,
    "start_time": "2022-05-02T20:11:24.151Z"
   },
   {
    "duration": 17,
    "start_time": "2022-05-02T20:11:24.169Z"
   },
   {
    "duration": 7,
    "start_time": "2022-05-02T20:11:24.200Z"
   },
   {
    "duration": 14,
    "start_time": "2022-05-02T20:11:24.208Z"
   },
   {
    "duration": 9,
    "start_time": "2022-05-02T20:11:24.224Z"
   },
   {
    "duration": 1895,
    "start_time": "2022-05-02T20:11:24.235Z"
   },
   {
    "duration": 14,
    "start_time": "2022-05-02T20:12:31.624Z"
   },
   {
    "duration": 8,
    "start_time": "2022-05-02T20:12:58.420Z"
   },
   {
    "duration": 11,
    "start_time": "2022-05-02T20:13:06.941Z"
   },
   {
    "duration": 430,
    "start_time": "2022-05-02T20:13:15.118Z"
   },
   {
    "duration": 16,
    "start_time": "2022-05-02T20:13:15.550Z"
   },
   {
    "duration": 15,
    "start_time": "2022-05-02T20:13:15.568Z"
   },
   {
    "duration": 7,
    "start_time": "2022-05-02T20:13:15.599Z"
   },
   {
    "duration": 12,
    "start_time": "2022-05-02T20:13:15.608Z"
   },
   {
    "duration": 11,
    "start_time": "2022-05-02T20:13:15.621Z"
   },
   {
    "duration": 1410,
    "start_time": "2022-05-02T20:13:15.634Z"
   },
   {
    "duration": 10,
    "start_time": "2022-05-02T20:14:05.754Z"
   },
   {
    "duration": 12,
    "start_time": "2022-05-02T20:16:38.863Z"
   },
   {
    "duration": 10,
    "start_time": "2022-05-02T20:18:41.004Z"
   },
   {
    "duration": 10,
    "start_time": "2022-05-02T20:18:55.778Z"
   },
   {
    "duration": 9,
    "start_time": "2022-05-02T20:32:54.874Z"
   },
   {
    "duration": 8,
    "start_time": "2022-05-02T20:33:04.135Z"
   },
   {
    "duration": 6,
    "start_time": "2022-05-02T20:33:09.107Z"
   },
   {
    "duration": 491,
    "start_time": "2022-05-02T20:33:15.368Z"
   },
   {
    "duration": 17,
    "start_time": "2022-05-02T20:33:15.861Z"
   },
   {
    "duration": 32,
    "start_time": "2022-05-02T20:33:15.880Z"
   },
   {
    "duration": 8,
    "start_time": "2022-05-02T20:33:15.914Z"
   },
   {
    "duration": 15,
    "start_time": "2022-05-02T20:33:15.924Z"
   },
   {
    "duration": 11,
    "start_time": "2022-05-02T20:33:15.940Z"
   },
   {
    "duration": 1713,
    "start_time": "2022-05-02T20:33:15.953Z"
   },
   {
    "duration": 2857,
    "start_time": "2022-05-02T20:34:13.403Z"
   },
   {
    "duration": 9,
    "start_time": "2022-05-02T20:34:46.537Z"
   },
   {
    "duration": 15,
    "start_time": "2022-05-02T20:36:09.237Z"
   },
   {
    "duration": 426,
    "start_time": "2022-05-02T20:36:21.630Z"
   },
   {
    "duration": 17,
    "start_time": "2022-05-02T20:36:22.058Z"
   },
   {
    "duration": 23,
    "start_time": "2022-05-02T20:36:22.076Z"
   },
   {
    "duration": 7,
    "start_time": "2022-05-02T20:36:22.100Z"
   },
   {
    "duration": 15,
    "start_time": "2022-05-02T20:36:22.109Z"
   },
   {
    "duration": 9,
    "start_time": "2022-05-02T20:36:22.125Z"
   },
   {
    "duration": 82,
    "start_time": "2022-05-02T20:36:22.135Z"
   },
   {
    "duration": 13,
    "start_time": "2022-05-02T20:37:02.738Z"
   },
   {
    "duration": 469,
    "start_time": "2022-05-02T20:37:44.864Z"
   },
   {
    "duration": 17,
    "start_time": "2022-05-02T20:37:45.335Z"
   },
   {
    "duration": 16,
    "start_time": "2022-05-02T20:37:45.353Z"
   },
   {
    "duration": 7,
    "start_time": "2022-05-02T20:37:45.371Z"
   },
   {
    "duration": 26,
    "start_time": "2022-05-02T20:37:45.379Z"
   },
   {
    "duration": 9,
    "start_time": "2022-05-02T20:37:45.406Z"
   },
   {
    "duration": 84,
    "start_time": "2022-05-02T20:37:45.417Z"
   },
   {
    "duration": 11,
    "start_time": "2022-05-02T20:43:56.443Z"
   },
   {
    "duration": 396,
    "start_time": "2022-05-02T20:44:23.050Z"
   },
   {
    "duration": 16,
    "start_time": "2022-05-02T20:44:23.448Z"
   },
   {
    "duration": 16,
    "start_time": "2022-05-02T20:44:23.466Z"
   },
   {
    "duration": 19,
    "start_time": "2022-05-02T20:44:23.484Z"
   },
   {
    "duration": 8,
    "start_time": "2022-05-02T20:44:23.505Z"
   },
   {
    "duration": 11,
    "start_time": "2022-05-02T20:44:23.514Z"
   },
   {
    "duration": 83,
    "start_time": "2022-05-02T20:44:23.526Z"
   },
   {
    "duration": 1413,
    "start_time": "2022-05-02T20:44:32.322Z"
   },
   {
    "duration": 642,
    "start_time": "2022-05-02T20:44:57.679Z"
   },
   {
    "duration": 465,
    "start_time": "2022-05-02T20:45:09.882Z"
   },
   {
    "duration": 16,
    "start_time": "2022-05-02T20:45:10.349Z"
   },
   {
    "duration": 15,
    "start_time": "2022-05-02T20:45:10.366Z"
   },
   {
    "duration": 19,
    "start_time": "2022-05-02T20:45:10.383Z"
   },
   {
    "duration": 7,
    "start_time": "2022-05-02T20:45:10.403Z"
   },
   {
    "duration": 13,
    "start_time": "2022-05-02T20:45:10.411Z"
   },
   {
    "duration": 1437,
    "start_time": "2022-05-02T20:45:10.425Z"
   },
   {
    "duration": 8,
    "start_time": "2022-05-02T20:47:06.299Z"
   },
   {
    "duration": 1269,
    "start_time": "2022-05-02T20:47:52.467Z"
   },
   {
    "duration": 423,
    "start_time": "2022-05-02T20:48:04.224Z"
   },
   {
    "duration": 16,
    "start_time": "2022-05-02T20:48:04.650Z"
   },
   {
    "duration": 17,
    "start_time": "2022-05-02T20:48:04.668Z"
   },
   {
    "duration": 6,
    "start_time": "2022-05-02T20:48:04.701Z"
   },
   {
    "duration": 8,
    "start_time": "2022-05-02T20:48:04.709Z"
   },
   {
    "duration": 9,
    "start_time": "2022-05-02T20:48:04.719Z"
   },
   {
    "duration": 1390,
    "start_time": "2022-05-02T20:48:04.729Z"
   },
   {
    "duration": 60,
    "start_time": "2022-05-02T20:48:49.982Z"
   },
   {
    "duration": 2529,
    "start_time": "2022-05-02T20:48:58.240Z"
   },
   {
    "duration": 444,
    "start_time": "2022-05-02T20:49:25.608Z"
   },
   {
    "duration": 16,
    "start_time": "2022-05-02T20:49:26.054Z"
   },
   {
    "duration": 15,
    "start_time": "2022-05-02T20:49:26.071Z"
   },
   {
    "duration": 17,
    "start_time": "2022-05-02T20:49:26.088Z"
   },
   {
    "duration": 6,
    "start_time": "2022-05-02T20:49:26.106Z"
   },
   {
    "duration": 10,
    "start_time": "2022-05-02T20:49:26.114Z"
   },
   {
    "duration": 8,
    "start_time": "2022-05-02T20:49:26.125Z"
   },
   {
    "duration": 5,
    "start_time": "2022-05-02T20:51:04.462Z"
   },
   {
    "duration": 7,
    "start_time": "2022-05-02T20:51:14.672Z"
   },
   {
    "duration": 7,
    "start_time": "2022-05-02T20:56:37.882Z"
   },
   {
    "duration": 8,
    "start_time": "2022-05-02T20:56:39.119Z"
   },
   {
    "duration": 9,
    "start_time": "2022-05-02T21:06:05.930Z"
   },
   {
    "duration": 65,
    "start_time": "2022-05-02T21:10:44.034Z"
   },
   {
    "duration": 16,
    "start_time": "2022-05-02T21:10:54.525Z"
   },
   {
    "duration": 437,
    "start_time": "2022-05-02T21:11:05.608Z"
   },
   {
    "duration": 16,
    "start_time": "2022-05-02T21:11:06.047Z"
   },
   {
    "duration": 20,
    "start_time": "2022-05-02T21:11:06.064Z"
   },
   {
    "duration": 19,
    "start_time": "2022-05-02T21:11:06.086Z"
   },
   {
    "duration": 59,
    "start_time": "2022-05-02T21:11:06.106Z"
   },
   {
    "duration": 0,
    "start_time": "2022-05-02T21:11:06.166Z"
   },
   {
    "duration": 0,
    "start_time": "2022-05-02T21:11:06.167Z"
   },
   {
    "duration": 0,
    "start_time": "2022-05-02T21:11:06.169Z"
   },
   {
    "duration": 0,
    "start_time": "2022-05-02T21:11:06.169Z"
   },
   {
    "duration": 7,
    "start_time": "2022-05-02T21:11:11.049Z"
   },
   {
    "duration": 438,
    "start_time": "2022-05-02T21:11:17.219Z"
   },
   {
    "duration": 18,
    "start_time": "2022-05-02T21:11:17.659Z"
   },
   {
    "duration": 31,
    "start_time": "2022-05-02T21:11:17.679Z"
   },
   {
    "duration": 8,
    "start_time": "2022-05-02T21:11:17.712Z"
   },
   {
    "duration": 15,
    "start_time": "2022-05-02T21:11:17.722Z"
   },
   {
    "duration": 11,
    "start_time": "2022-05-02T21:11:17.738Z"
   },
   {
    "duration": 11,
    "start_time": "2022-05-02T21:11:17.750Z"
   },
   {
    "duration": 43,
    "start_time": "2022-05-02T21:11:17.763Z"
   },
   {
    "duration": 8,
    "start_time": "2022-05-02T21:11:17.807Z"
   },
   {
    "duration": 13,
    "start_time": "2022-05-02T21:11:50.520Z"
   },
   {
    "duration": 14,
    "start_time": "2022-05-02T21:12:01.949Z"
   },
   {
    "duration": 12,
    "start_time": "2022-05-02T21:12:07.262Z"
   },
   {
    "duration": 432,
    "start_time": "2022-05-02T21:12:12.115Z"
   },
   {
    "duration": 16,
    "start_time": "2022-05-02T21:12:12.549Z"
   },
   {
    "duration": 17,
    "start_time": "2022-05-02T21:12:12.567Z"
   },
   {
    "duration": 8,
    "start_time": "2022-05-02T21:12:12.600Z"
   },
   {
    "duration": 14,
    "start_time": "2022-05-02T21:12:12.610Z"
   },
   {
    "duration": 10,
    "start_time": "2022-05-02T21:12:12.626Z"
   },
   {
    "duration": 8,
    "start_time": "2022-05-02T21:12:12.637Z"
   },
   {
    "duration": 9,
    "start_time": "2022-05-02T21:12:12.646Z"
   },
   {
    "duration": 7,
    "start_time": "2022-05-02T21:12:12.656Z"
   },
   {
    "duration": 11,
    "start_time": "2022-05-02T21:12:36.525Z"
   },
   {
    "duration": 12,
    "start_time": "2022-05-02T21:12:45.060Z"
   },
   {
    "duration": 454,
    "start_time": "2022-05-02T21:12:52.800Z"
   },
   {
    "duration": 18,
    "start_time": "2022-05-02T21:12:53.257Z"
   },
   {
    "duration": 27,
    "start_time": "2022-05-02T21:12:53.277Z"
   },
   {
    "duration": 9,
    "start_time": "2022-05-02T21:12:53.307Z"
   },
   {
    "duration": 16,
    "start_time": "2022-05-02T21:12:53.317Z"
   },
   {
    "duration": 10,
    "start_time": "2022-05-02T21:12:53.335Z"
   },
   {
    "duration": 9,
    "start_time": "2022-05-02T21:12:53.346Z"
   },
   {
    "duration": 48,
    "start_time": "2022-05-02T21:12:53.357Z"
   },
   {
    "duration": 7,
    "start_time": "2022-05-02T21:12:53.407Z"
   },
   {
    "duration": 2571,
    "start_time": "2022-05-02T21:13:56.763Z"
   },
   {
    "duration": 2627,
    "start_time": "2022-05-02T21:14:08.548Z"
   },
   {
    "duration": 474,
    "start_time": "2022-05-02T21:14:42.981Z"
   },
   {
    "duration": 17,
    "start_time": "2022-05-02T21:14:43.457Z"
   },
   {
    "duration": 29,
    "start_time": "2022-05-02T21:14:43.475Z"
   },
   {
    "duration": 7,
    "start_time": "2022-05-02T21:14:43.506Z"
   },
   {
    "duration": 14,
    "start_time": "2022-05-02T21:14:43.514Z"
   },
   {
    "duration": 9,
    "start_time": "2022-05-02T21:14:43.529Z"
   },
   {
    "duration": 9,
    "start_time": "2022-05-02T21:14:43.540Z"
   },
   {
    "duration": 8,
    "start_time": "2022-05-02T21:14:43.550Z"
   },
   {
    "duration": 41,
    "start_time": "2022-05-02T21:14:43.559Z"
   },
   {
    "duration": 2645,
    "start_time": "2022-05-02T21:14:43.602Z"
   },
   {
    "duration": 4,
    "start_time": "2022-05-02T21:17:21.245Z"
   },
   {
    "duration": 13,
    "start_time": "2022-05-02T21:17:36.977Z"
   },
   {
    "duration": 4,
    "start_time": "2022-05-02T21:19:51.180Z"
   },
   {
    "duration": 556,
    "start_time": "2022-05-02T21:25:05.731Z"
   },
   {
    "duration": 200,
    "start_time": "2022-05-02T21:25:19.649Z"
   },
   {
    "duration": 109,
    "start_time": "2022-05-02T21:25:23.652Z"
   },
   {
    "duration": 181,
    "start_time": "2022-05-02T21:25:28.742Z"
   },
   {
    "duration": 145,
    "start_time": "2022-05-02T21:25:36.452Z"
   },
   {
    "duration": 48,
    "start_time": "2022-05-07T16:52:25.703Z"
   },
   {
    "duration": 441,
    "start_time": "2022-05-07T16:52:31.918Z"
   },
   {
    "duration": 28,
    "start_time": "2022-05-07T16:52:32.368Z"
   },
   {
    "duration": 27,
    "start_time": "2022-05-07T16:52:32.398Z"
   },
   {
    "duration": 8,
    "start_time": "2022-05-07T16:52:32.426Z"
   },
   {
    "duration": 32,
    "start_time": "2022-05-07T16:52:32.436Z"
   },
   {
    "duration": 20,
    "start_time": "2022-05-07T16:52:32.469Z"
   },
   {
    "duration": 10,
    "start_time": "2022-05-07T16:52:32.490Z"
   },
   {
    "duration": 8,
    "start_time": "2022-05-07T16:52:32.502Z"
   },
   {
    "duration": 7,
    "start_time": "2022-05-07T16:52:32.511Z"
   },
   {
    "duration": 7,
    "start_time": "2022-05-07T16:52:32.520Z"
   },
   {
    "duration": 3205,
    "start_time": "2022-05-07T16:52:32.547Z"
   },
   {
    "duration": 21,
    "start_time": "2022-05-07T16:52:35.753Z"
   },
   {
    "duration": 637,
    "start_time": "2022-05-07T16:52:35.777Z"
   },
   {
    "duration": 167,
    "start_time": "2022-05-07T16:52:44.674Z"
   },
   {
    "duration": 59,
    "start_time": "2022-05-09T09:28:11.106Z"
   },
   {
    "duration": 525,
    "start_time": "2022-05-09T09:28:16.164Z"
   },
   {
    "duration": 19,
    "start_time": "2022-05-09T09:28:16.691Z"
   },
   {
    "duration": 41,
    "start_time": "2022-05-09T09:28:16.712Z"
   },
   {
    "duration": 13,
    "start_time": "2022-05-09T09:28:16.756Z"
   },
   {
    "duration": 17,
    "start_time": "2022-05-09T09:28:16.771Z"
   },
   {
    "duration": 14,
    "start_time": "2022-05-09T09:28:16.790Z"
   },
   {
    "duration": 59,
    "start_time": "2022-05-09T09:28:16.806Z"
   },
   {
    "duration": 12,
    "start_time": "2022-05-09T09:28:16.868Z"
   },
   {
    "duration": 9,
    "start_time": "2022-05-09T09:28:16.883Z"
   },
   {
    "duration": 6,
    "start_time": "2022-05-09T09:28:16.895Z"
   },
   {
    "duration": 3159,
    "start_time": "2022-05-09T09:28:16.904Z"
   },
   {
    "duration": 22,
    "start_time": "2022-05-09T09:28:20.065Z"
   },
   {
    "duration": 616,
    "start_time": "2022-05-09T09:28:20.089Z"
   },
   {
    "duration": 16,
    "start_time": "2022-05-09T09:28:20.707Z"
   },
   {
    "duration": 77,
    "start_time": "2022-05-09T09:29:26.978Z"
   },
   {
    "duration": 8,
    "start_time": "2022-05-09T09:29:31.204Z"
   },
   {
    "duration": 14,
    "start_time": "2022-05-09T09:29:34.969Z"
   },
   {
    "duration": 8,
    "start_time": "2022-05-09T09:30:05.508Z"
   },
   {
    "duration": 15,
    "start_time": "2022-05-09T09:30:11.176Z"
   },
   {
    "duration": 16,
    "start_time": "2022-05-09T09:31:37.323Z"
   },
   {
    "duration": 77,
    "start_time": "2022-05-09T09:33:45.960Z"
   },
   {
    "duration": 167,
    "start_time": "2022-05-09T09:34:00.357Z"
   },
   {
    "duration": 16,
    "start_time": "2022-05-09T09:34:24.336Z"
   },
   {
    "duration": 27,
    "start_time": "2022-05-09T09:43:35.640Z"
   },
   {
    "duration": 25,
    "start_time": "2022-05-09T09:43:45.497Z"
   },
   {
    "duration": 13,
    "start_time": "2022-05-09T09:44:02.204Z"
   },
   {
    "duration": 25170,
    "start_time": "2022-05-09T09:44:09.114Z"
   },
   {
    "duration": 148,
    "start_time": "2022-05-09T09:51:52.573Z"
   },
   {
    "duration": 484,
    "start_time": "2022-05-09T09:52:14.299Z"
   },
   {
    "duration": 17,
    "start_time": "2022-05-09T09:52:14.785Z"
   },
   {
    "duration": 16,
    "start_time": "2022-05-09T09:52:14.803Z"
   },
   {
    "duration": 7,
    "start_time": "2022-05-09T09:52:14.821Z"
   },
   {
    "duration": 25,
    "start_time": "2022-05-09T09:52:14.851Z"
   },
   {
    "duration": 14,
    "start_time": "2022-05-09T09:52:14.878Z"
   },
   {
    "duration": 10,
    "start_time": "2022-05-09T09:52:14.893Z"
   },
   {
    "duration": 8,
    "start_time": "2022-05-09T09:52:14.905Z"
   },
   {
    "duration": 41,
    "start_time": "2022-05-09T09:52:14.914Z"
   },
   {
    "duration": 27,
    "start_time": "2022-05-09T09:52:14.958Z"
   },
   {
    "duration": 3318,
    "start_time": "2022-05-09T09:52:14.986Z"
   },
   {
    "duration": 15,
    "start_time": "2022-05-09T09:52:18.306Z"
   },
   {
    "duration": 447,
    "start_time": "2022-05-09T09:52:18.323Z"
   },
   {
    "duration": 17,
    "start_time": "2022-05-09T09:52:18.772Z"
   },
   {
    "duration": 185,
    "start_time": "2022-05-09T09:52:18.790Z"
   },
   {
    "duration": 16,
    "start_time": "2022-05-09T09:53:26.585Z"
   },
   {
    "duration": 1616,
    "start_time": "2022-05-09T09:54:02.924Z"
   },
   {
    "duration": 491,
    "start_time": "2022-05-09T09:54:17.646Z"
   },
   {
    "duration": 22,
    "start_time": "2022-05-09T09:54:18.139Z"
   },
   {
    "duration": 31,
    "start_time": "2022-05-09T09:54:18.163Z"
   },
   {
    "duration": 7,
    "start_time": "2022-05-09T09:54:18.196Z"
   },
   {
    "duration": 12,
    "start_time": "2022-05-09T09:54:18.205Z"
   },
   {
    "duration": 10,
    "start_time": "2022-05-09T09:54:18.219Z"
   },
   {
    "duration": 20,
    "start_time": "2022-05-09T09:54:18.247Z"
   },
   {
    "duration": 18,
    "start_time": "2022-05-09T09:54:18.270Z"
   },
   {
    "duration": 8,
    "start_time": "2022-05-09T09:54:18.289Z"
   },
   {
    "duration": 4,
    "start_time": "2022-05-09T09:54:18.299Z"
   },
   {
    "duration": 3306,
    "start_time": "2022-05-09T09:54:18.304Z"
   },
   {
    "duration": 14,
    "start_time": "2022-05-09T09:54:21.611Z"
   },
   {
    "duration": 455,
    "start_time": "2022-05-09T09:54:21.627Z"
   },
   {
    "duration": 17,
    "start_time": "2022-05-09T09:54:22.083Z"
   },
   {
    "duration": 1611,
    "start_time": "2022-05-09T09:54:22.102Z"
   },
   {
    "duration": 19,
    "start_time": "2022-05-09T09:57:04.671Z"
   },
   {
    "duration": 161,
    "start_time": "2022-05-09T09:57:21.978Z"
   },
   {
    "duration": 22,
    "start_time": "2022-05-09T09:57:35.874Z"
   },
   {
    "duration": 170,
    "start_time": "2022-05-09T09:57:43.621Z"
   },
   {
    "duration": 3098,
    "start_time": "2022-05-09T09:57:57.784Z"
   },
   {
    "duration": 188,
    "start_time": "2022-05-09T10:05:19.964Z"
   },
   {
    "duration": 25,
    "start_time": "2022-05-09T10:05:39.674Z"
   },
   {
    "duration": 103,
    "start_time": "2022-05-09T10:06:00.508Z"
   },
   {
    "duration": 19,
    "start_time": "2022-05-09T10:06:06.775Z"
   },
   {
    "duration": 228,
    "start_time": "2022-05-09T10:06:16.867Z"
   },
   {
    "duration": 217,
    "start_time": "2022-05-09T10:06:24.372Z"
   },
   {
    "duration": 212,
    "start_time": "2022-05-09T10:07:19.579Z"
   },
   {
    "duration": 247,
    "start_time": "2022-05-09T10:08:31.212Z"
   },
   {
    "duration": 378,
    "start_time": "2022-05-09T10:09:22.932Z"
   },
   {
    "duration": 582,
    "start_time": "2022-05-09T10:11:04.514Z"
   },
   {
    "duration": 646,
    "start_time": "2022-05-09T10:28:48.580Z"
   },
   {
    "duration": 18,
    "start_time": "2022-05-09T10:34:47.384Z"
   },
   {
    "duration": 1206,
    "start_time": "2022-05-09T10:34:52.435Z"
   },
   {
    "duration": 24,
    "start_time": "2022-05-09T10:34:53.643Z"
   },
   {
    "duration": 14,
    "start_time": "2022-05-09T10:34:53.669Z"
   },
   {
    "duration": 7,
    "start_time": "2022-05-09T10:34:53.685Z"
   },
   {
    "duration": 18,
    "start_time": "2022-05-09T10:34:53.694Z"
   },
   {
    "duration": 48,
    "start_time": "2022-05-09T10:34:53.714Z"
   },
   {
    "duration": 14,
    "start_time": "2022-05-09T10:34:53.764Z"
   },
   {
    "duration": 9,
    "start_time": "2022-05-09T10:34:53.780Z"
   },
   {
    "duration": 8,
    "start_time": "2022-05-09T10:34:53.790Z"
   },
   {
    "duration": 7,
    "start_time": "2022-05-09T10:34:53.800Z"
   },
   {
    "duration": 45,
    "start_time": "2022-05-09T10:34:53.809Z"
   },
   {
    "duration": 2930,
    "start_time": "2022-05-09T10:34:53.856Z"
   },
   {
    "duration": 15,
    "start_time": "2022-05-09T10:34:56.788Z"
   },
   {
    "duration": 191,
    "start_time": "2022-05-09T10:34:56.804Z"
   },
   {
    "duration": 16,
    "start_time": "2022-05-09T10:34:56.997Z"
   },
   {
    "duration": 127,
    "start_time": "2022-05-09T10:34:57.015Z"
   },
   {
    "duration": 0,
    "start_time": "2022-05-09T10:34:57.143Z"
   },
   {
    "duration": 9,
    "start_time": "2022-05-09T10:36:20.436Z"
   },
   {
    "duration": 20,
    "start_time": "2022-05-09T10:40:55.399Z"
   },
   {
    "duration": 1205,
    "start_time": "2022-05-09T10:41:10.717Z"
   },
   {
    "duration": 18,
    "start_time": "2022-05-09T10:41:11.924Z"
   },
   {
    "duration": 23,
    "start_time": "2022-05-09T10:41:11.943Z"
   },
   {
    "duration": 7,
    "start_time": "2022-05-09T10:41:11.968Z"
   },
   {
    "duration": 17,
    "start_time": "2022-05-09T10:41:11.977Z"
   },
   {
    "duration": 12,
    "start_time": "2022-05-09T10:41:11.996Z"
   },
   {
    "duration": 47,
    "start_time": "2022-05-09T10:41:12.009Z"
   },
   {
    "duration": 11,
    "start_time": "2022-05-09T10:41:12.058Z"
   },
   {
    "duration": 10,
    "start_time": "2022-05-09T10:41:12.071Z"
   },
   {
    "duration": 9,
    "start_time": "2022-05-09T10:41:12.084Z"
   },
   {
    "duration": 4,
    "start_time": "2022-05-09T10:41:12.095Z"
   },
   {
    "duration": 3019,
    "start_time": "2022-05-09T10:41:12.101Z"
   },
   {
    "duration": 30,
    "start_time": "2022-05-09T10:41:15.123Z"
   },
   {
    "duration": 187,
    "start_time": "2022-05-09T10:41:15.155Z"
   },
   {
    "duration": 21,
    "start_time": "2022-05-09T10:41:15.347Z"
   },
   {
    "duration": 2,
    "start_time": "2022-05-09T10:41:15.370Z"
   },
   {
    "duration": 127,
    "start_time": "2022-05-09T10:41:15.374Z"
   },
   {
    "duration": 11,
    "start_time": "2022-05-09T10:49:45.211Z"
   },
   {
    "duration": 15,
    "start_time": "2022-05-09T10:50:02.860Z"
   },
   {
    "duration": 88,
    "start_time": "2022-05-09T10:50:59.566Z"
   },
   {
    "duration": 22,
    "start_time": "2022-05-09T10:51:27.103Z"
   },
   {
    "duration": 136,
    "start_time": "2022-05-09T10:51:54.567Z"
   },
   {
    "duration": 1259,
    "start_time": "2022-05-09T10:52:46.412Z"
   },
   {
    "duration": 20,
    "start_time": "2022-05-09T10:53:57.657Z"
   },
   {
    "duration": 1175,
    "start_time": "2022-05-09T10:54:16.540Z"
   },
   {
    "duration": 17,
    "start_time": "2022-05-09T10:54:17.717Z"
   },
   {
    "duration": 20,
    "start_time": "2022-05-09T10:54:17.736Z"
   },
   {
    "duration": 8,
    "start_time": "2022-05-09T10:54:17.758Z"
   },
   {
    "duration": 19,
    "start_time": "2022-05-09T10:54:17.768Z"
   },
   {
    "duration": 12,
    "start_time": "2022-05-09T10:54:17.789Z"
   },
   {
    "duration": 10,
    "start_time": "2022-05-09T10:54:17.802Z"
   },
   {
    "duration": 12,
    "start_time": "2022-05-09T10:54:17.847Z"
   },
   {
    "duration": 9,
    "start_time": "2022-05-09T10:54:17.861Z"
   },
   {
    "duration": 7,
    "start_time": "2022-05-09T10:54:17.872Z"
   },
   {
    "duration": 10,
    "start_time": "2022-05-09T10:54:17.880Z"
   },
   {
    "duration": 3029,
    "start_time": "2022-05-09T10:54:17.892Z"
   },
   {
    "duration": 14,
    "start_time": "2022-05-09T10:54:20.923Z"
   },
   {
    "duration": 180,
    "start_time": "2022-05-09T10:54:20.948Z"
   },
   {
    "duration": 122,
    "start_time": "2022-05-09T10:54:21.130Z"
   },
   {
    "duration": 0,
    "start_time": "2022-05-09T10:54:21.253Z"
   },
   {
    "duration": 0,
    "start_time": "2022-05-09T10:54:21.254Z"
   },
   {
    "duration": 16,
    "start_time": "2022-05-09T10:54:43.014Z"
   },
   {
    "duration": 2071,
    "start_time": "2022-05-09T10:55:24.367Z"
   },
   {
    "duration": 8,
    "start_time": "2022-05-09T10:55:46.777Z"
   },
   {
    "duration": 26,
    "start_time": "2022-05-09T10:58:02.081Z"
   },
   {
    "duration": 20,
    "start_time": "2022-05-09T11:00:16.183Z"
   },
   {
    "duration": 141,
    "start_time": "2022-05-09T11:08:43.605Z"
   },
   {
    "duration": 245,
    "start_time": "2022-05-09T11:10:34.605Z"
   },
   {
    "duration": 136,
    "start_time": "2022-05-09T11:10:47.490Z"
   },
   {
    "duration": 276,
    "start_time": "2022-05-09T11:10:54.537Z"
   },
   {
    "duration": 57,
    "start_time": "2022-05-09T11:11:14.478Z"
   },
   {
    "duration": 1577,
    "start_time": "2022-05-09T11:11:21.071Z"
   },
   {
    "duration": 29,
    "start_time": "2022-05-09T11:11:22.651Z"
   },
   {
    "duration": 24,
    "start_time": "2022-05-09T11:11:22.682Z"
   },
   {
    "duration": 12,
    "start_time": "2022-05-09T11:11:22.708Z"
   },
   {
    "duration": 31,
    "start_time": "2022-05-09T11:11:22.747Z"
   },
   {
    "duration": 20,
    "start_time": "2022-05-09T11:11:22.780Z"
   },
   {
    "duration": 16,
    "start_time": "2022-05-09T11:11:22.802Z"
   },
   {
    "duration": 14,
    "start_time": "2022-05-09T11:11:22.848Z"
   },
   {
    "duration": 13,
    "start_time": "2022-05-09T11:11:22.864Z"
   },
   {
    "duration": 11,
    "start_time": "2022-05-09T11:11:22.879Z"
   },
   {
    "duration": 5,
    "start_time": "2022-05-09T11:11:22.892Z"
   },
   {
    "duration": 4291,
    "start_time": "2022-05-09T11:11:22.899Z"
   },
   {
    "duration": 13,
    "start_time": "2022-05-09T11:11:27.192Z"
   },
   {
    "duration": 182,
    "start_time": "2022-05-09T11:11:27.207Z"
   },
   {
    "duration": 15,
    "start_time": "2022-05-09T11:11:27.390Z"
   },
   {
    "duration": 2,
    "start_time": "2022-05-09T11:11:27.407Z"
   },
   {
    "duration": 405,
    "start_time": "2022-05-09T11:11:27.410Z"
   },
   {
    "duration": 16,
    "start_time": "2022-05-09T11:13:28.818Z"
   },
   {
    "duration": 15,
    "start_time": "2022-05-09T11:19:06.886Z"
   },
   {
    "duration": 19,
    "start_time": "2022-05-09T11:19:55.351Z"
   },
   {
    "duration": 260,
    "start_time": "2022-05-09T11:20:13.527Z"
   },
   {
    "duration": 19,
    "start_time": "2022-05-09T11:24:16.775Z"
   },
   {
    "duration": 24,
    "start_time": "2022-05-09T11:24:23.024Z"
   },
   {
    "duration": 20,
    "start_time": "2022-05-09T11:26:02.309Z"
   },
   {
    "duration": 259,
    "start_time": "2022-05-09T11:26:53.916Z"
   },
   {
    "duration": 266,
    "start_time": "2022-05-09T11:27:17.146Z"
   },
   {
    "duration": 249,
    "start_time": "2022-05-09T11:28:08.981Z"
   },
   {
    "duration": 156,
    "start_time": "2022-05-09T11:29:17.666Z"
   },
   {
    "duration": 1125,
    "start_time": "2022-05-09T12:07:13.090Z"
   },
   {
    "duration": 18,
    "start_time": "2022-05-09T12:07:14.217Z"
   },
   {
    "duration": 25,
    "start_time": "2022-05-09T12:07:14.236Z"
   },
   {
    "duration": 8,
    "start_time": "2022-05-09T12:07:14.263Z"
   },
   {
    "duration": 18,
    "start_time": "2022-05-09T12:07:14.272Z"
   },
   {
    "duration": 13,
    "start_time": "2022-05-09T12:07:14.292Z"
   },
   {
    "duration": 45,
    "start_time": "2022-05-09T12:07:14.307Z"
   },
   {
    "duration": 11,
    "start_time": "2022-05-09T12:07:14.354Z"
   },
   {
    "duration": 10,
    "start_time": "2022-05-09T12:07:14.367Z"
   },
   {
    "duration": 8,
    "start_time": "2022-05-09T12:07:14.380Z"
   },
   {
    "duration": 5,
    "start_time": "2022-05-09T12:07:14.390Z"
   },
   {
    "duration": 2869,
    "start_time": "2022-05-09T12:07:14.397Z"
   },
   {
    "duration": 15,
    "start_time": "2022-05-09T12:07:17.268Z"
   },
   {
    "duration": 184,
    "start_time": "2022-05-09T12:07:17.284Z"
   },
   {
    "duration": 18,
    "start_time": "2022-05-09T12:07:17.469Z"
   },
   {
    "duration": 3,
    "start_time": "2022-05-09T12:07:17.488Z"
   },
   {
    "duration": 270,
    "start_time": "2022-05-09T12:07:17.492Z"
   },
   {
    "duration": 20,
    "start_time": "2022-05-09T12:07:30.217Z"
   },
   {
    "duration": 163,
    "start_time": "2022-05-09T12:08:15.288Z"
   },
   {
    "duration": 181,
    "start_time": "2022-05-09T12:08:34.791Z"
   },
   {
    "duration": 158,
    "start_time": "2022-05-09T12:08:55.235Z"
   },
   {
    "duration": 56,
    "start_time": "2022-05-09T12:10:13.103Z"
   },
   {
    "duration": 1190,
    "start_time": "2022-05-09T12:10:17.252Z"
   },
   {
    "duration": 19,
    "start_time": "2022-05-09T12:10:18.447Z"
   },
   {
    "duration": 15,
    "start_time": "2022-05-09T12:10:18.470Z"
   },
   {
    "duration": 8,
    "start_time": "2022-05-09T12:10:18.487Z"
   },
   {
    "duration": 51,
    "start_time": "2022-05-09T12:10:18.497Z"
   },
   {
    "duration": 13,
    "start_time": "2022-05-09T12:10:18.551Z"
   },
   {
    "duration": 11,
    "start_time": "2022-05-09T12:10:18.566Z"
   },
   {
    "duration": 10,
    "start_time": "2022-05-09T12:10:18.579Z"
   },
   {
    "duration": 10,
    "start_time": "2022-05-09T12:10:18.591Z"
   },
   {
    "duration": 49,
    "start_time": "2022-05-09T12:10:18.603Z"
   },
   {
    "duration": 5,
    "start_time": "2022-05-09T12:10:18.653Z"
   },
   {
    "duration": 3022,
    "start_time": "2022-05-09T12:10:18.659Z"
   },
   {
    "duration": 15,
    "start_time": "2022-05-09T12:10:21.683Z"
   },
   {
    "duration": 185,
    "start_time": "2022-05-09T12:10:21.700Z"
   },
   {
    "duration": 18,
    "start_time": "2022-05-09T12:10:21.887Z"
   },
   {
    "duration": 3,
    "start_time": "2022-05-09T12:10:21.907Z"
   },
   {
    "duration": 337,
    "start_time": "2022-05-09T12:10:21.912Z"
   },
   {
    "duration": 825,
    "start_time": "2022-05-09T12:10:49.504Z"
   },
   {
    "duration": 911,
    "start_time": "2022-05-09T12:11:08.456Z"
   },
   {
    "duration": 839,
    "start_time": "2022-05-09T12:27:16.901Z"
   },
   {
    "duration": 1094,
    "start_time": "2022-05-09T12:30:18.414Z"
   },
   {
    "duration": 1534,
    "start_time": "2022-05-09T12:30:54.393Z"
   },
   {
    "duration": 11,
    "start_time": "2022-05-09T13:01:45.114Z"
   },
   {
    "duration": 1308,
    "start_time": "2022-05-09T13:01:51.823Z"
   },
   {
    "duration": 24,
    "start_time": "2022-05-09T13:01:53.133Z"
   },
   {
    "duration": 39,
    "start_time": "2022-05-09T13:01:53.159Z"
   },
   {
    "duration": 11,
    "start_time": "2022-05-09T13:01:53.200Z"
   },
   {
    "duration": 42,
    "start_time": "2022-05-09T13:01:53.213Z"
   },
   {
    "duration": 25,
    "start_time": "2022-05-09T13:01:53.259Z"
   },
   {
    "duration": 11,
    "start_time": "2022-05-09T13:01:53.286Z"
   },
   {
    "duration": 9,
    "start_time": "2022-05-09T13:01:53.299Z"
   },
   {
    "duration": 8,
    "start_time": "2022-05-09T13:01:53.310Z"
   },
   {
    "duration": 36,
    "start_time": "2022-05-09T13:01:53.320Z"
   },
   {
    "duration": 12,
    "start_time": "2022-05-09T13:01:53.359Z"
   },
   {
    "duration": 3305,
    "start_time": "2022-05-09T13:01:53.372Z"
   },
   {
    "duration": 21,
    "start_time": "2022-05-09T13:01:56.679Z"
   },
   {
    "duration": 265,
    "start_time": "2022-05-09T13:01:56.702Z"
   },
   {
    "duration": 20,
    "start_time": "2022-05-09T13:01:56.970Z"
   },
   {
    "duration": 1701,
    "start_time": "2022-05-09T13:01:56.992Z"
   },
   {
    "duration": 2068,
    "start_time": "2022-05-09T13:01:58.695Z"
   },
   {
    "duration": 273,
    "start_time": "2022-05-09T13:05:35.540Z"
   },
   {
    "duration": 102,
    "start_time": "2022-05-09T14:14:56.316Z"
   },
   {
    "duration": 17,
    "start_time": "2022-05-09T14:23:49.693Z"
   },
   {
    "duration": 214,
    "start_time": "2022-05-09T14:30:34.981Z"
   },
   {
    "duration": 23,
    "start_time": "2022-05-09T14:31:54.988Z"
   },
   {
    "duration": 183,
    "start_time": "2022-05-09T14:48:10.568Z"
   },
   {
    "duration": 73,
    "start_time": "2022-05-09T14:53:20.440Z"
   },
   {
    "duration": 39,
    "start_time": "2022-05-09T14:53:33.109Z"
   },
   {
    "duration": 27,
    "start_time": "2022-05-09T14:53:46.751Z"
   },
   {
    "duration": 28,
    "start_time": "2022-05-09T14:54:47.846Z"
   },
   {
    "duration": 1265,
    "start_time": "2022-05-09T14:55:01.591Z"
   },
   {
    "duration": 20,
    "start_time": "2022-05-09T14:55:02.858Z"
   },
   {
    "duration": 20,
    "start_time": "2022-05-09T14:55:02.880Z"
   },
   {
    "duration": 8,
    "start_time": "2022-05-09T14:55:02.902Z"
   },
   {
    "duration": 19,
    "start_time": "2022-05-09T14:55:02.948Z"
   },
   {
    "duration": 16,
    "start_time": "2022-05-09T14:55:02.968Z"
   },
   {
    "duration": 12,
    "start_time": "2022-05-09T14:55:02.986Z"
   },
   {
    "duration": 12,
    "start_time": "2022-05-09T14:55:03.000Z"
   },
   {
    "duration": 40,
    "start_time": "2022-05-09T14:55:03.014Z"
   },
   {
    "duration": 8,
    "start_time": "2022-05-09T14:55:03.056Z"
   },
   {
    "duration": 7,
    "start_time": "2022-05-09T14:55:03.066Z"
   },
   {
    "duration": 3775,
    "start_time": "2022-05-09T14:55:03.075Z"
   },
   {
    "duration": 22,
    "start_time": "2022-05-09T14:55:06.853Z"
   },
   {
    "duration": 192,
    "start_time": "2022-05-09T14:55:06.877Z"
   },
   {
    "duration": 18,
    "start_time": "2022-05-09T14:55:07.071Z"
   },
   {
    "duration": 1559,
    "start_time": "2022-05-09T14:55:07.090Z"
   },
   {
    "duration": 16,
    "start_time": "2022-05-09T14:55:08.650Z"
   },
   {
    "duration": 9,
    "start_time": "2022-05-09T14:55:08.667Z"
   },
   {
    "duration": 120,
    "start_time": "2022-05-09T14:55:08.678Z"
   },
   {
    "duration": 109,
    "start_time": "2022-05-09T14:55:17.777Z"
   },
   {
    "duration": 233,
    "start_time": "2022-05-09T14:55:25.897Z"
   },
   {
    "duration": 280,
    "start_time": "2022-05-09T14:56:00.564Z"
   },
   {
    "duration": 89,
    "start_time": "2022-05-10T16:49:23.310Z"
   },
   {
    "duration": 2659,
    "start_time": "2022-05-10T16:50:38.244Z"
   },
   {
    "duration": 43,
    "start_time": "2022-05-10T16:50:40.910Z"
   },
   {
    "duration": 57,
    "start_time": "2022-05-10T16:50:40.956Z"
   },
   {
    "duration": 93,
    "start_time": "2022-05-10T16:50:41.017Z"
   },
   {
    "duration": 109,
    "start_time": "2022-05-10T16:50:41.113Z"
   },
   {
    "duration": 305,
    "start_time": "2022-05-10T16:50:41.229Z"
   },
   {
    "duration": 187,
    "start_time": "2022-05-10T16:50:41.537Z"
   },
   {
    "duration": 464,
    "start_time": "2022-05-10T16:50:41.728Z"
   },
   {
    "duration": 236,
    "start_time": "2022-05-10T16:50:42.195Z"
   },
   {
    "duration": 228,
    "start_time": "2022-05-10T16:50:42.437Z"
   },
   {
    "duration": 193,
    "start_time": "2022-05-10T16:50:42.668Z"
   },
   {
    "duration": 7898,
    "start_time": "2022-05-10T16:50:42.865Z"
   },
   {
    "duration": 49,
    "start_time": "2022-05-10T16:50:50.766Z"
   },
   {
    "duration": 481,
    "start_time": "2022-05-10T16:50:50.817Z"
   },
   {
    "duration": 39,
    "start_time": "2022-05-10T16:50:51.301Z"
   },
   {
    "duration": 3377,
    "start_time": "2022-05-10T16:50:51.343Z"
   },
   {
    "duration": 26,
    "start_time": "2022-05-10T16:50:54.723Z"
   },
   {
    "duration": 425,
    "start_time": "2022-05-10T16:50:54.751Z"
   },
   {
    "duration": 2726,
    "start_time": "2022-05-10T16:50:55.183Z"
   },
   {
    "duration": 250,
    "start_time": "2022-05-10T16:51:24.619Z"
   },
   {
    "duration": 397,
    "start_time": "2022-05-10T16:52:11.952Z"
   },
   {
    "duration": 290,
    "start_time": "2022-05-10T17:11:15.272Z"
   },
   {
    "duration": 198,
    "start_time": "2022-05-10T17:27:56.741Z"
   },
   {
    "duration": 277,
    "start_time": "2022-05-10T17:29:21.769Z"
   },
   {
    "duration": 229,
    "start_time": "2022-05-10T17:29:42.008Z"
   },
   {
    "duration": 347,
    "start_time": "2022-05-10T17:30:10.245Z"
   },
   {
    "duration": 235,
    "start_time": "2022-05-10T17:31:10.117Z"
   },
   {
    "duration": 260,
    "start_time": "2022-05-10T17:32:06.044Z"
   },
   {
    "duration": 238,
    "start_time": "2022-05-10T17:33:12.584Z"
   },
   {
    "duration": 287,
    "start_time": "2022-05-10T17:41:36.133Z"
   },
   {
    "duration": 16,
    "start_time": "2022-05-10T17:43:03.276Z"
   },
   {
    "duration": 20,
    "start_time": "2022-05-10T17:43:10.028Z"
   },
   {
    "duration": 71,
    "start_time": "2022-05-10T17:43:32.684Z"
   },
   {
    "duration": 504,
    "start_time": "2022-05-10T17:43:45.626Z"
   },
   {
    "duration": 297,
    "start_time": "2022-05-10T17:43:54.339Z"
   },
   {
    "duration": 453,
    "start_time": "2022-05-10T17:51:20.847Z"
   },
   {
    "duration": 31,
    "start_time": "2022-05-10T18:22:17.078Z"
   },
   {
    "duration": 24,
    "start_time": "2022-05-10T18:22:25.542Z"
   },
   {
    "duration": 1884,
    "start_time": "2022-05-10T18:35:33.836Z"
   },
   {
    "duration": 62,
    "start_time": "2022-05-10T18:35:35.724Z"
   },
   {
    "duration": 25,
    "start_time": "2022-05-10T18:35:35.788Z"
   },
   {
    "duration": 18,
    "start_time": "2022-05-10T18:35:35.816Z"
   },
   {
    "duration": 74,
    "start_time": "2022-05-10T18:35:35.838Z"
   },
   {
    "duration": 18,
    "start_time": "2022-05-10T18:35:35.914Z"
   },
   {
    "duration": 23,
    "start_time": "2022-05-10T18:35:35.935Z"
   },
   {
    "duration": 42,
    "start_time": "2022-05-10T18:35:35.960Z"
   },
   {
    "duration": 19,
    "start_time": "2022-05-10T18:35:36.006Z"
   },
   {
    "duration": 15,
    "start_time": "2022-05-10T18:35:36.027Z"
   },
   {
    "duration": 44,
    "start_time": "2022-05-10T18:35:36.045Z"
   },
   {
    "duration": 6249,
    "start_time": "2022-05-10T18:35:36.095Z"
   },
   {
    "duration": 37,
    "start_time": "2022-05-10T18:35:42.347Z"
   },
   {
    "duration": 319,
    "start_time": "2022-05-10T18:35:42.390Z"
   },
   {
    "duration": 26,
    "start_time": "2022-05-10T18:35:42.712Z"
   },
   {
    "duration": 2777,
    "start_time": "2022-05-10T18:35:42.741Z"
   },
   {
    "duration": 33,
    "start_time": "2022-05-10T18:35:45.521Z"
   },
   {
    "duration": 390,
    "start_time": "2022-05-10T18:35:45.557Z"
   },
   {
    "duration": 334,
    "start_time": "2022-05-10T18:35:45.950Z"
   },
   {
    "duration": 218,
    "start_time": "2022-05-10T18:35:46.287Z"
   },
   {
    "duration": 335,
    "start_time": "2022-05-10T18:35:46.508Z"
   },
   {
    "duration": 244,
    "start_time": "2022-05-10T18:35:46.846Z"
   },
   {
    "duration": 260,
    "start_time": "2022-05-10T18:35:47.092Z"
   },
   {
    "duration": 425,
    "start_time": "2022-05-10T18:35:47.356Z"
   },
   {
    "duration": 248,
    "start_time": "2022-05-10T18:35:47.788Z"
   },
   {
    "duration": 277,
    "start_time": "2022-05-10T18:35:48.039Z"
   },
   {
    "duration": 275,
    "start_time": "2022-05-10T18:35:48.319Z"
   },
   {
    "duration": 318,
    "start_time": "2022-05-10T18:35:48.597Z"
   },
   {
    "duration": 14,
    "start_time": "2022-05-10T18:35:48.917Z"
   },
   {
    "duration": 184,
    "start_time": "2022-05-10T18:35:48.933Z"
   },
   {
    "duration": 15,
    "start_time": "2022-05-10T18:36:46.833Z"
   },
   {
    "duration": 246,
    "start_time": "2022-05-10T18:36:53.361Z"
   },
   {
    "duration": 16,
    "start_time": "2022-05-10T18:42:23.654Z"
   },
   {
    "duration": 24,
    "start_time": "2022-05-10T18:42:35.345Z"
   },
   {
    "duration": 28,
    "start_time": "2022-05-10T18:43:59.318Z"
   },
   {
    "duration": 36,
    "start_time": "2022-05-10T18:44:22.469Z"
   },
   {
    "duration": 15,
    "start_time": "2022-05-10T18:45:58.610Z"
   },
   {
    "duration": 72,
    "start_time": "2022-05-10T18:59:39.124Z"
   },
   {
    "duration": 373,
    "start_time": "2022-05-10T19:00:04.123Z"
   },
   {
    "duration": 121,
    "start_time": "2022-05-10T19:01:55.872Z"
   },
   {
    "duration": 285,
    "start_time": "2022-05-10T19:02:04.775Z"
   },
   {
    "duration": 889,
    "start_time": "2022-05-10T19:03:39.496Z"
   },
   {
    "duration": 59,
    "start_time": "2022-05-10T19:41:02.477Z"
   },
   {
    "duration": 761,
    "start_time": "2022-05-10T19:44:17.015Z"
   },
   {
    "duration": 2119,
    "start_time": "2022-05-10T20:03:05.849Z"
   },
   {
    "duration": 374,
    "start_time": "2022-05-10T20:05:50.697Z"
   },
   {
    "duration": 296,
    "start_time": "2022-05-10T20:07:52.878Z"
   },
   {
    "duration": 272,
    "start_time": "2022-05-10T20:07:56.736Z"
   },
   {
    "duration": 747,
    "start_time": "2022-05-10T20:17:44.464Z"
   },
   {
    "duration": 1007,
    "start_time": "2022-05-10T20:19:44.217Z"
   },
   {
    "duration": 965,
    "start_time": "2022-05-10T20:20:20.738Z"
   },
   {
    "duration": 1052,
    "start_time": "2022-05-10T20:21:02.253Z"
   },
   {
    "duration": 37,
    "start_time": "2022-05-10T20:33:00.738Z"
   },
   {
    "duration": 16,
    "start_time": "2022-05-10T20:33:59.341Z"
   },
   {
    "duration": 27,
    "start_time": "2022-05-10T20:35:52.322Z"
   },
   {
    "duration": 2319,
    "start_time": "2022-05-10T20:36:26.208Z"
   },
   {
    "duration": 61,
    "start_time": "2022-05-10T20:36:28.530Z"
   },
   {
    "duration": 54,
    "start_time": "2022-05-10T20:36:28.594Z"
   },
   {
    "duration": 18,
    "start_time": "2022-05-10T20:36:28.652Z"
   },
   {
    "duration": 77,
    "start_time": "2022-05-10T20:36:28.672Z"
   },
   {
    "duration": 26,
    "start_time": "2022-05-10T20:36:28.752Z"
   },
   {
    "duration": 21,
    "start_time": "2022-05-10T20:36:28.781Z"
   },
   {
    "duration": 37,
    "start_time": "2022-05-10T20:36:28.807Z"
   },
   {
    "duration": 35,
    "start_time": "2022-05-10T20:36:28.847Z"
   },
   {
    "duration": 17,
    "start_time": "2022-05-10T20:36:28.890Z"
   },
   {
    "duration": 18,
    "start_time": "2022-05-10T20:36:28.910Z"
   },
   {
    "duration": 8798,
    "start_time": "2022-05-10T20:36:28.931Z"
   },
   {
    "duration": 27,
    "start_time": "2022-05-10T20:36:37.732Z"
   },
   {
    "duration": 342,
    "start_time": "2022-05-10T20:36:37.762Z"
   },
   {
    "duration": 28,
    "start_time": "2022-05-10T20:36:38.107Z"
   },
   {
    "duration": 3079,
    "start_time": "2022-05-10T20:36:38.137Z"
   },
   {
    "duration": 31,
    "start_time": "2022-05-10T20:36:41.218Z"
   },
   {
    "duration": 400,
    "start_time": "2022-05-10T20:36:41.252Z"
   },
   {
    "duration": 333,
    "start_time": "2022-05-10T20:36:41.656Z"
   },
   {
    "duration": 220,
    "start_time": "2022-05-10T20:36:41.994Z"
   },
   {
    "duration": 358,
    "start_time": "2022-05-10T20:36:42.217Z"
   },
   {
    "duration": 220,
    "start_time": "2022-05-10T20:36:42.581Z"
   },
   {
    "duration": 266,
    "start_time": "2022-05-10T20:36:42.803Z"
   },
   {
    "duration": 242,
    "start_time": "2022-05-10T20:36:43.072Z"
   },
   {
    "duration": 258,
    "start_time": "2022-05-10T20:36:43.317Z"
   },
   {
    "duration": 365,
    "start_time": "2022-05-10T20:36:43.583Z"
   },
   {
    "duration": 282,
    "start_time": "2022-05-10T20:36:43.950Z"
   },
   {
    "duration": 352,
    "start_time": "2022-05-10T20:36:44.236Z"
   },
   {
    "duration": 106,
    "start_time": "2022-05-10T20:36:44.592Z"
   },
   {
    "duration": 819,
    "start_time": "2022-05-10T20:36:44.701Z"
   },
   {
    "duration": 92,
    "start_time": "2022-05-10T20:36:45.523Z"
   },
   {
    "duration": 1176,
    "start_time": "2022-05-10T20:36:45.618Z"
   },
   {
    "duration": 263,
    "start_time": "2022-05-10T20:36:46.797Z"
   },
   {
    "duration": 287,
    "start_time": "2022-05-10T20:36:47.063Z"
   },
   {
    "duration": 385,
    "start_time": "2022-05-10T20:36:47.352Z"
   },
   {
    "duration": 957,
    "start_time": "2022-05-10T20:36:47.739Z"
   },
   {
    "duration": 952,
    "start_time": "2022-05-10T20:36:48.698Z"
   },
   {
    "duration": 987,
    "start_time": "2022-05-10T20:36:49.653Z"
   },
   {
    "duration": 193,
    "start_time": "2022-05-10T20:36:50.642Z"
   },
   {
    "duration": 26,
    "start_time": "2022-05-10T20:36:57.299Z"
   },
   {
    "duration": 15,
    "start_time": "2022-05-10T20:42:37.334Z"
   },
   {
    "duration": 15,
    "start_time": "2022-05-10T20:44:47.127Z"
   },
   {
    "duration": 15,
    "start_time": "2022-05-10T20:44:55.009Z"
   },
   {
    "duration": 15,
    "start_time": "2022-05-10T20:47:15.217Z"
   },
   {
    "duration": 21,
    "start_time": "2022-05-10T20:47:36.297Z"
   },
   {
    "duration": 205,
    "start_time": "2022-05-11T06:44:09.080Z"
   },
   {
    "duration": 1991,
    "start_time": "2022-05-11T07:54:01.510Z"
   },
   {
    "duration": 50,
    "start_time": "2022-05-11T07:54:03.505Z"
   },
   {
    "duration": 36,
    "start_time": "2022-05-11T07:54:03.558Z"
   },
   {
    "duration": 12,
    "start_time": "2022-05-11T07:54:03.596Z"
   },
   {
    "duration": 51,
    "start_time": "2022-05-11T07:54:03.610Z"
   },
   {
    "duration": 22,
    "start_time": "2022-05-11T07:54:03.664Z"
   },
   {
    "duration": 47,
    "start_time": "2022-05-11T07:54:03.689Z"
   },
   {
    "duration": 17,
    "start_time": "2022-05-11T07:54:03.739Z"
   },
   {
    "duration": 21,
    "start_time": "2022-05-11T07:54:03.758Z"
   },
   {
    "duration": 12,
    "start_time": "2022-05-11T07:54:03.781Z"
   },
   {
    "duration": 38,
    "start_time": "2022-05-11T07:54:03.795Z"
   },
   {
    "duration": 6146,
    "start_time": "2022-05-11T07:54:03.836Z"
   },
   {
    "duration": 23,
    "start_time": "2022-05-11T07:54:09.984Z"
   },
   {
    "duration": 342,
    "start_time": "2022-05-11T07:54:10.011Z"
   },
   {
    "duration": 24,
    "start_time": "2022-05-11T07:54:10.355Z"
   },
   {
    "duration": 3102,
    "start_time": "2022-05-11T07:54:10.381Z"
   },
   {
    "duration": 51,
    "start_time": "2022-05-11T07:54:13.486Z"
   },
   {
    "duration": 394,
    "start_time": "2022-05-11T07:54:13.540Z"
   },
   {
    "duration": 232,
    "start_time": "2022-05-11T07:54:13.937Z"
   },
   {
    "duration": 227,
    "start_time": "2022-05-11T07:54:14.172Z"
   },
   {
    "duration": 354,
    "start_time": "2022-05-11T07:54:14.402Z"
   },
   {
    "duration": 217,
    "start_time": "2022-05-11T07:54:14.759Z"
   },
   {
    "duration": 259,
    "start_time": "2022-05-11T07:54:14.979Z"
   },
   {
    "duration": 243,
    "start_time": "2022-05-11T07:54:15.241Z"
   },
   {
    "duration": 265,
    "start_time": "2022-05-11T07:54:15.486Z"
   },
   {
    "duration": 264,
    "start_time": "2022-05-11T07:54:15.754Z"
   },
   {
    "duration": 265,
    "start_time": "2022-05-11T07:54:16.028Z"
   },
   {
    "duration": 324,
    "start_time": "2022-05-11T07:54:16.295Z"
   },
   {
    "duration": 59,
    "start_time": "2022-05-11T07:54:16.621Z"
   },
   {
    "duration": 778,
    "start_time": "2022-05-11T07:54:16.683Z"
   },
   {
    "duration": 75,
    "start_time": "2022-05-11T07:54:17.464Z"
   },
   {
    "duration": 915,
    "start_time": "2022-05-11T07:54:17.541Z"
   },
   {
    "duration": 260,
    "start_time": "2022-05-11T07:54:18.458Z"
   },
   {
    "duration": 282,
    "start_time": "2022-05-11T07:54:18.724Z"
   },
   {
    "duration": 294,
    "start_time": "2022-05-11T07:54:19.008Z"
   },
   {
    "duration": 769,
    "start_time": "2022-05-11T07:54:19.305Z"
   },
   {
    "duration": 790,
    "start_time": "2022-05-11T07:54:20.076Z"
   },
   {
    "duration": 804,
    "start_time": "2022-05-11T07:54:20.867Z"
   },
   {
    "duration": 21,
    "start_time": "2022-05-11T07:54:21.673Z"
   },
   {
    "duration": 42,
    "start_time": "2022-05-11T07:54:21.696Z"
   },
   {
    "duration": 15,
    "start_time": "2022-05-11T08:02:06.565Z"
   },
   {
    "duration": 44,
    "start_time": "2022-05-11T16:50:24.315Z"
   },
   {
    "duration": 1307,
    "start_time": "2022-05-11T16:50:30.584Z"
   },
   {
    "duration": 17,
    "start_time": "2022-05-11T16:50:31.893Z"
   },
   {
    "duration": 17,
    "start_time": "2022-05-11T16:50:31.911Z"
   },
   {
    "duration": 7,
    "start_time": "2022-05-11T16:50:31.930Z"
   },
   {
    "duration": 44,
    "start_time": "2022-05-11T16:50:31.939Z"
   },
   {
    "duration": 13,
    "start_time": "2022-05-11T16:50:31.985Z"
   },
   {
    "duration": 11,
    "start_time": "2022-05-11T16:50:31.999Z"
   },
   {
    "duration": 8,
    "start_time": "2022-05-11T16:50:35.236Z"
   },
   {
    "duration": 64,
    "start_time": "2022-05-11T16:50:51.751Z"
   },
   {
    "duration": 16,
    "start_time": "2022-05-11T16:50:51.817Z"
   },
   {
    "duration": 16,
    "start_time": "2022-05-11T16:50:51.835Z"
   },
   {
    "duration": 8,
    "start_time": "2022-05-11T16:50:51.870Z"
   },
   {
    "duration": 18,
    "start_time": "2022-05-11T16:50:51.879Z"
   },
   {
    "duration": 11,
    "start_time": "2022-05-11T16:50:51.899Z"
   },
   {
    "duration": 18,
    "start_time": "2022-05-11T16:50:51.911Z"
   },
   {
    "duration": 22,
    "start_time": "2022-05-11T16:51:15.013Z"
   },
   {
    "duration": 55,
    "start_time": "2022-05-11T17:28:57.038Z"
   },
   {
    "duration": 17,
    "start_time": "2022-05-11T17:28:57.095Z"
   },
   {
    "duration": 17,
    "start_time": "2022-05-11T17:28:57.113Z"
   },
   {
    "duration": 41,
    "start_time": "2022-05-11T17:28:57.131Z"
   },
   {
    "duration": 19,
    "start_time": "2022-05-11T17:28:57.173Z"
   },
   {
    "duration": 14,
    "start_time": "2022-05-11T17:28:57.193Z"
   },
   {
    "duration": 10,
    "start_time": "2022-05-11T17:28:57.208Z"
   },
   {
    "duration": 13,
    "start_time": "2022-05-11T17:28:57.219Z"
   },
   {
    "duration": 41,
    "start_time": "2022-05-11T17:28:57.234Z"
   },
   {
    "duration": 7,
    "start_time": "2022-05-11T17:28:57.278Z"
   },
   {
    "duration": 4,
    "start_time": "2022-05-11T17:28:57.286Z"
   },
   {
    "duration": 2887,
    "start_time": "2022-05-11T17:28:57.292Z"
   },
   {
    "duration": 14,
    "start_time": "2022-05-11T17:29:00.180Z"
   },
   {
    "duration": 176,
    "start_time": "2022-05-11T17:29:00.196Z"
   },
   {
    "duration": 16,
    "start_time": "2022-05-11T17:29:00.374Z"
   },
   {
    "duration": 1405,
    "start_time": "2022-05-11T17:29:00.391Z"
   },
   {
    "duration": 15,
    "start_time": "2022-05-11T17:29:01.798Z"
   },
   {
    "duration": 200,
    "start_time": "2022-05-11T17:29:01.815Z"
   },
   {
    "duration": 122,
    "start_time": "2022-05-11T17:29:02.016Z"
   },
   {
    "duration": 136,
    "start_time": "2022-05-11T17:29:02.140Z"
   },
   {
    "duration": 214,
    "start_time": "2022-05-11T17:29:02.278Z"
   },
   {
    "duration": 119,
    "start_time": "2022-05-11T17:29:02.494Z"
   },
   {
    "duration": 141,
    "start_time": "2022-05-11T17:29:02.615Z"
   },
   {
    "duration": 146,
    "start_time": "2022-05-11T17:29:02.758Z"
   },
   {
    "duration": 135,
    "start_time": "2022-05-11T17:29:02.905Z"
   },
   {
    "duration": 156,
    "start_time": "2022-05-11T17:29:03.042Z"
   },
   {
    "duration": 202,
    "start_time": "2022-05-11T17:29:03.200Z"
   },
   {
    "duration": 225,
    "start_time": "2022-05-11T17:29:03.407Z"
   },
   {
    "duration": 43,
    "start_time": "2022-05-11T17:29:03.633Z"
   },
   {
    "duration": 407,
    "start_time": "2022-05-11T17:29:03.677Z"
   },
   {
    "duration": 31,
    "start_time": "2022-05-11T17:29:04.086Z"
   },
   {
    "duration": 512,
    "start_time": "2022-05-11T17:29:04.119Z"
   },
   {
    "duration": 145,
    "start_time": "2022-05-11T17:29:04.633Z"
   },
   {
    "duration": 155,
    "start_time": "2022-05-11T17:29:04.780Z"
   },
   {
    "duration": 148,
    "start_time": "2022-05-11T17:29:04.937Z"
   },
   {
    "duration": 416,
    "start_time": "2022-05-11T17:29:05.087Z"
   },
   {
    "duration": 436,
    "start_time": "2022-05-11T17:29:05.505Z"
   },
   {
    "duration": 429,
    "start_time": "2022-05-11T17:29:05.943Z"
   },
   {
    "duration": 10,
    "start_time": "2022-05-11T17:29:06.374Z"
   },
   {
    "duration": 7,
    "start_time": "2022-05-11T17:29:32.989Z"
   },
   {
    "duration": 9,
    "start_time": "2022-05-11T17:29:55.632Z"
   },
   {
    "duration": 50,
    "start_time": "2022-05-12T19:12:08.635Z"
   },
   {
    "duration": 1466,
    "start_time": "2022-05-12T19:12:14.894Z"
   },
   {
    "duration": 22,
    "start_time": "2022-05-12T19:12:16.362Z"
   },
   {
    "duration": 19,
    "start_time": "2022-05-12T19:12:16.386Z"
   },
   {
    "duration": 27,
    "start_time": "2022-05-12T19:12:16.407Z"
   },
   {
    "duration": 24,
    "start_time": "2022-05-12T19:12:16.436Z"
   },
   {
    "duration": 15,
    "start_time": "2022-05-12T19:12:16.462Z"
   },
   {
    "duration": 7,
    "start_time": "2022-05-12T19:12:16.479Z"
   },
   {
    "duration": 16,
    "start_time": "2022-05-12T19:12:16.487Z"
   },
   {
    "duration": 37,
    "start_time": "2022-05-12T19:12:16.505Z"
   },
   {
    "duration": 10,
    "start_time": "2022-05-12T19:12:16.545Z"
   },
   {
    "duration": 8,
    "start_time": "2022-05-12T19:12:16.557Z"
   },
   {
    "duration": 6,
    "start_time": "2022-05-12T19:12:16.567Z"
   },
   {
    "duration": 3188,
    "start_time": "2022-05-12T19:12:16.574Z"
   },
   {
    "duration": 19,
    "start_time": "2022-05-12T19:12:19.764Z"
   },
   {
    "duration": 226,
    "start_time": "2022-05-12T19:12:19.784Z"
   },
   {
    "duration": 28,
    "start_time": "2022-05-12T19:12:20.011Z"
   },
   {
    "duration": 1735,
    "start_time": "2022-05-12T19:12:20.041Z"
   },
   {
    "duration": 19,
    "start_time": "2022-05-12T19:12:21.778Z"
   },
   {
    "duration": 246,
    "start_time": "2022-05-12T19:12:21.799Z"
   },
   {
    "duration": 151,
    "start_time": "2022-05-12T19:12:22.047Z"
   },
   {
    "duration": 153,
    "start_time": "2022-05-12T19:12:22.200Z"
   },
   {
    "duration": 149,
    "start_time": "2022-05-12T19:12:22.355Z"
   },
   {
    "duration": 240,
    "start_time": "2022-05-12T19:12:22.506Z"
   },
   {
    "duration": 166,
    "start_time": "2022-05-12T19:12:22.748Z"
   },
   {
    "duration": 165,
    "start_time": "2022-05-12T19:12:22.916Z"
   },
   {
    "duration": 181,
    "start_time": "2022-05-12T19:12:23.083Z"
   },
   {
    "duration": 176,
    "start_time": "2022-05-12T19:12:23.266Z"
   },
   {
    "duration": 179,
    "start_time": "2022-05-12T19:12:23.445Z"
   },
   {
    "duration": 218,
    "start_time": "2022-05-12T19:12:23.625Z"
   },
   {
    "duration": 38,
    "start_time": "2022-05-12T19:12:23.845Z"
   },
   {
    "duration": 516,
    "start_time": "2022-05-12T19:12:23.885Z"
   },
   {
    "duration": 41,
    "start_time": "2022-05-12T19:12:24.403Z"
   },
   {
    "duration": 521,
    "start_time": "2022-05-12T19:12:24.445Z"
   },
   {
    "duration": 262,
    "start_time": "2022-05-12T19:12:24.967Z"
   },
   {
    "duration": 181,
    "start_time": "2022-05-12T19:12:25.232Z"
   },
   {
    "duration": 181,
    "start_time": "2022-05-12T19:12:25.415Z"
   },
   {
    "duration": 508,
    "start_time": "2022-05-12T19:12:25.598Z"
   },
   {
    "duration": 502,
    "start_time": "2022-05-12T19:12:26.108Z"
   },
   {
    "duration": 521,
    "start_time": "2022-05-12T19:12:26.612Z"
   },
   {
    "duration": 14,
    "start_time": "2022-05-12T19:12:27.135Z"
   },
   {
    "duration": 10,
    "start_time": "2022-05-12T19:12:27.151Z"
   },
   {
    "duration": 1325,
    "start_time": "2022-05-12T19:25:33.165Z"
   },
   {
    "duration": 22,
    "start_time": "2022-05-12T19:25:34.492Z"
   },
   {
    "duration": 30,
    "start_time": "2022-05-12T19:25:34.516Z"
   },
   {
    "duration": 9,
    "start_time": "2022-05-12T19:25:34.549Z"
   },
   {
    "duration": 23,
    "start_time": "2022-05-12T19:25:34.559Z"
   },
   {
    "duration": 15,
    "start_time": "2022-05-12T19:25:34.583Z"
   },
   {
    "duration": 34,
    "start_time": "2022-05-12T19:25:34.600Z"
   },
   {
    "duration": 14,
    "start_time": "2022-05-12T19:25:34.635Z"
   },
   {
    "duration": 12,
    "start_time": "2022-05-12T19:25:34.651Z"
   },
   {
    "duration": 2,
    "start_time": "2022-05-12T19:25:34.666Z"
   },
   {
    "duration": 11,
    "start_time": "2022-05-12T19:25:34.670Z"
   },
   {
    "duration": 5,
    "start_time": "2022-05-12T19:25:34.683Z"
   },
   {
    "duration": 3320,
    "start_time": "2022-05-12T19:25:34.689Z"
   },
   {
    "duration": 24,
    "start_time": "2022-05-12T19:25:38.011Z"
   },
   {
    "duration": 134,
    "start_time": "2022-05-12T19:25:38.037Z"
   },
   {
    "duration": 0,
    "start_time": "2022-05-12T19:25:38.173Z"
   },
   {
    "duration": 0,
    "start_time": "2022-05-12T19:25:38.175Z"
   },
   {
    "duration": 0,
    "start_time": "2022-05-12T19:25:38.176Z"
   },
   {
    "duration": 0,
    "start_time": "2022-05-12T19:25:38.177Z"
   },
   {
    "duration": 0,
    "start_time": "2022-05-12T19:25:38.178Z"
   },
   {
    "duration": 0,
    "start_time": "2022-05-12T19:25:38.179Z"
   },
   {
    "duration": 0,
    "start_time": "2022-05-12T19:25:38.180Z"
   },
   {
    "duration": 0,
    "start_time": "2022-05-12T19:25:38.182Z"
   },
   {
    "duration": 0,
    "start_time": "2022-05-12T19:25:38.183Z"
   },
   {
    "duration": 0,
    "start_time": "2022-05-12T19:25:38.184Z"
   },
   {
    "duration": 0,
    "start_time": "2022-05-12T19:25:38.185Z"
   },
   {
    "duration": 0,
    "start_time": "2022-05-12T19:25:38.186Z"
   },
   {
    "duration": 0,
    "start_time": "2022-05-12T19:25:38.187Z"
   },
   {
    "duration": 0,
    "start_time": "2022-05-12T19:25:38.189Z"
   },
   {
    "duration": 0,
    "start_time": "2022-05-12T19:25:38.190Z"
   },
   {
    "duration": 0,
    "start_time": "2022-05-12T19:25:38.191Z"
   },
   {
    "duration": 0,
    "start_time": "2022-05-12T19:25:38.192Z"
   },
   {
    "duration": 0,
    "start_time": "2022-05-12T19:25:38.193Z"
   },
   {
    "duration": 0,
    "start_time": "2022-05-12T19:25:38.194Z"
   },
   {
    "duration": 0,
    "start_time": "2022-05-12T19:25:38.195Z"
   },
   {
    "duration": 0,
    "start_time": "2022-05-12T19:25:38.196Z"
   },
   {
    "duration": 0,
    "start_time": "2022-05-12T19:25:38.197Z"
   },
   {
    "duration": 0,
    "start_time": "2022-05-12T19:25:38.198Z"
   },
   {
    "duration": 0,
    "start_time": "2022-05-12T19:25:38.199Z"
   },
   {
    "duration": 0,
    "start_time": "2022-05-12T19:25:38.200Z"
   },
   {
    "duration": 0,
    "start_time": "2022-05-12T19:25:38.201Z"
   },
   {
    "duration": 207,
    "start_time": "2022-05-12T19:25:46.109Z"
   },
   {
    "duration": 246,
    "start_time": "2022-05-12T19:37:19.318Z"
   },
   {
    "duration": 242,
    "start_time": "2022-05-12T19:37:52.934Z"
   },
   {
    "duration": 327,
    "start_time": "2022-05-12T19:39:46.062Z"
   },
   {
    "duration": 469,
    "start_time": "2022-05-12T19:39:51.754Z"
   },
   {
    "duration": 224,
    "start_time": "2022-05-12T19:40:17.101Z"
   },
   {
    "duration": 295,
    "start_time": "2022-05-12T19:40:21.367Z"
   },
   {
    "duration": 301,
    "start_time": "2022-05-12T19:40:45.672Z"
   },
   {
    "duration": 282,
    "start_time": "2022-05-12T19:41:26.468Z"
   },
   {
    "duration": 278,
    "start_time": "2022-05-12T19:41:44.783Z"
   },
   {
    "duration": 15,
    "start_time": "2022-05-12T19:42:03.506Z"
   },
   {
    "duration": 13,
    "start_time": "2022-05-12T19:42:09.445Z"
   },
   {
    "duration": 325,
    "start_time": "2022-05-12T19:42:18.546Z"
   },
   {
    "duration": 274,
    "start_time": "2022-05-12T19:42:41.765Z"
   },
   {
    "duration": 19,
    "start_time": "2022-05-12T19:43:28.560Z"
   },
   {
    "duration": 162,
    "start_time": "2022-05-12T19:51:00.774Z"
   },
   {
    "duration": 12,
    "start_time": "2022-05-12T19:51:06.678Z"
   },
   {
    "duration": 11,
    "start_time": "2022-05-12T19:51:11.295Z"
   },
   {
    "duration": 11,
    "start_time": "2022-05-12T19:51:48.459Z"
   },
   {
    "duration": 1341,
    "start_time": "2022-05-12T19:51:56.919Z"
   },
   {
    "duration": 23,
    "start_time": "2022-05-12T19:51:58.262Z"
   },
   {
    "duration": 21,
    "start_time": "2022-05-12T19:51:58.287Z"
   },
   {
    "duration": 27,
    "start_time": "2022-05-12T19:51:58.311Z"
   },
   {
    "duration": 24,
    "start_time": "2022-05-12T19:51:58.340Z"
   },
   {
    "duration": 23,
    "start_time": "2022-05-12T19:51:58.366Z"
   },
   {
    "duration": 7,
    "start_time": "2022-05-12T19:51:58.391Z"
   },
   {
    "duration": 43,
    "start_time": "2022-05-12T19:51:58.400Z"
   },
   {
    "duration": 12,
    "start_time": "2022-05-12T19:51:58.445Z"
   },
   {
    "duration": 2,
    "start_time": "2022-05-12T19:51:58.460Z"
   },
   {
    "duration": 13,
    "start_time": "2022-05-12T19:51:58.464Z"
   },
   {
    "duration": 8,
    "start_time": "2022-05-12T19:51:58.478Z"
   },
   {
    "duration": 3507,
    "start_time": "2022-05-12T19:51:58.488Z"
   },
   {
    "duration": 19,
    "start_time": "2022-05-12T19:52:01.998Z"
   },
   {
    "duration": 326,
    "start_time": "2022-05-12T19:52:02.019Z"
   },
   {
    "duration": 26,
    "start_time": "2022-05-12T19:52:02.347Z"
   },
   {
    "duration": 2472,
    "start_time": "2022-05-12T19:52:02.375Z"
   },
   {
    "duration": 0,
    "start_time": "2022-05-12T19:52:04.849Z"
   },
   {
    "duration": 0,
    "start_time": "2022-05-12T19:52:04.852Z"
   },
   {
    "duration": 0,
    "start_time": "2022-05-12T19:52:04.853Z"
   },
   {
    "duration": 0,
    "start_time": "2022-05-12T19:52:04.854Z"
   },
   {
    "duration": 0,
    "start_time": "2022-05-12T19:52:04.855Z"
   },
   {
    "duration": 0,
    "start_time": "2022-05-12T19:52:04.856Z"
   },
   {
    "duration": 0,
    "start_time": "2022-05-12T19:52:04.857Z"
   },
   {
    "duration": 0,
    "start_time": "2022-05-12T19:52:04.858Z"
   },
   {
    "duration": 0,
    "start_time": "2022-05-12T19:52:04.859Z"
   },
   {
    "duration": 0,
    "start_time": "2022-05-12T19:52:04.860Z"
   },
   {
    "duration": 0,
    "start_time": "2022-05-12T19:52:04.861Z"
   },
   {
    "duration": 0,
    "start_time": "2022-05-12T19:52:04.862Z"
   },
   {
    "duration": 0,
    "start_time": "2022-05-12T19:52:04.863Z"
   },
   {
    "duration": 0,
    "start_time": "2022-05-12T19:52:04.864Z"
   },
   {
    "duration": 0,
    "start_time": "2022-05-12T19:52:04.865Z"
   },
   {
    "duration": 0,
    "start_time": "2022-05-12T19:52:04.866Z"
   },
   {
    "duration": 0,
    "start_time": "2022-05-12T19:52:04.867Z"
   },
   {
    "duration": 0,
    "start_time": "2022-05-12T19:52:04.868Z"
   },
   {
    "duration": 0,
    "start_time": "2022-05-12T19:52:04.869Z"
   },
   {
    "duration": 0,
    "start_time": "2022-05-12T19:52:04.870Z"
   },
   {
    "duration": 0,
    "start_time": "2022-05-12T19:52:04.871Z"
   },
   {
    "duration": 0,
    "start_time": "2022-05-12T19:52:04.872Z"
   },
   {
    "duration": 0,
    "start_time": "2022-05-12T19:52:04.873Z"
   },
   {
    "duration": 0,
    "start_time": "2022-05-12T19:52:04.874Z"
   },
   {
    "duration": 2558,
    "start_time": "2022-05-12T19:55:01.476Z"
   },
   {
    "duration": 1828,
    "start_time": "2022-05-12T19:55:26.838Z"
   },
   {
    "duration": 2065,
    "start_time": "2022-05-12T19:55:56.427Z"
   },
   {
    "duration": 2003,
    "start_time": "2022-05-12T19:57:13.400Z"
   },
   {
    "duration": 2437,
    "start_time": "2022-05-12T19:57:52.365Z"
   },
   {
    "duration": 2000,
    "start_time": "2022-05-12T19:58:04.779Z"
   },
   {
    "duration": 2237,
    "start_time": "2022-05-12T19:58:47.835Z"
   },
   {
    "duration": 2305,
    "start_time": "2022-05-12T19:59:10.195Z"
   },
   {
    "duration": 1981,
    "start_time": "2022-05-12T20:00:53.584Z"
   },
   {
    "duration": 1925,
    "start_time": "2022-05-12T20:01:08.778Z"
   },
   {
    "duration": 26,
    "start_time": "2022-05-12T20:01:27.086Z"
   },
   {
    "duration": 16,
    "start_time": "2022-05-12T20:01:33.934Z"
   },
   {
    "duration": 1867,
    "start_time": "2022-05-12T20:01:39.403Z"
   },
   {
    "duration": 2013,
    "start_time": "2022-05-12T20:01:44.801Z"
   },
   {
    "duration": 18,
    "start_time": "2022-05-12T20:02:14.290Z"
   },
   {
    "duration": 17,
    "start_time": "2022-05-12T20:02:23.587Z"
   },
   {
    "duration": 2156,
    "start_time": "2022-05-12T20:02:31.001Z"
   },
   {
    "duration": 2070,
    "start_time": "2022-05-12T20:02:34.897Z"
   },
   {
    "duration": 18,
    "start_time": "2022-05-12T20:02:49.445Z"
   },
   {
    "duration": 1982,
    "start_time": "2022-05-12T20:02:53.583Z"
   },
   {
    "duration": 16,
    "start_time": "2022-05-12T20:03:15.400Z"
   },
   {
    "duration": 1988,
    "start_time": "2022-05-12T20:03:21.658Z"
   },
   {
    "duration": 1976,
    "start_time": "2022-05-12T20:03:27.450Z"
   },
   {
    "duration": 1958,
    "start_time": "2022-05-12T20:03:37.920Z"
   },
   {
    "duration": 16,
    "start_time": "2022-05-12T20:03:44.314Z"
   },
   {
    "duration": 1926,
    "start_time": "2022-05-12T20:03:49.018Z"
   },
   {
    "duration": 1883,
    "start_time": "2022-05-12T20:04:15.574Z"
   },
   {
    "duration": 18,
    "start_time": "2022-05-12T20:04:33.491Z"
   },
   {
    "duration": 16,
    "start_time": "2022-05-12T20:04:38.269Z"
   },
   {
    "duration": 1909,
    "start_time": "2022-05-12T20:04:41.465Z"
   },
   {
    "duration": 15,
    "start_time": "2022-05-12T20:05:04.848Z"
   },
   {
    "duration": 1817,
    "start_time": "2022-05-12T20:05:13.218Z"
   },
   {
    "duration": 1875,
    "start_time": "2022-05-12T20:05:38.690Z"
   },
   {
    "duration": 17,
    "start_time": "2022-05-12T20:05:44.706Z"
   },
   {
    "duration": 16,
    "start_time": "2022-05-12T20:05:52.850Z"
   },
   {
    "duration": 1961,
    "start_time": "2022-05-12T20:06:00.781Z"
   },
   {
    "duration": 1891,
    "start_time": "2022-05-12T20:06:18.525Z"
   },
   {
    "duration": 1934,
    "start_time": "2022-05-12T20:06:23.318Z"
   },
   {
    "duration": 2280,
    "start_time": "2022-05-12T20:12:09.684Z"
   },
   {
    "duration": 1899,
    "start_time": "2022-05-12T20:12:24.893Z"
   },
   {
    "duration": 1374,
    "start_time": "2022-05-12T20:57:38.824Z"
   },
   {
    "duration": 21,
    "start_time": "2022-05-12T20:57:40.200Z"
   },
   {
    "duration": 22,
    "start_time": "2022-05-12T20:57:40.222Z"
   },
   {
    "duration": 9,
    "start_time": "2022-05-12T20:57:40.246Z"
   },
   {
    "duration": 28,
    "start_time": "2022-05-12T20:57:40.257Z"
   },
   {
    "duration": 15,
    "start_time": "2022-05-12T20:57:40.287Z"
   },
   {
    "duration": 31,
    "start_time": "2022-05-12T20:57:40.304Z"
   },
   {
    "duration": 17,
    "start_time": "2022-05-12T20:57:40.337Z"
   },
   {
    "duration": 11,
    "start_time": "2022-05-12T20:57:40.356Z"
   },
   {
    "duration": 2,
    "start_time": "2022-05-12T20:57:40.370Z"
   },
   {
    "duration": 14,
    "start_time": "2022-05-12T20:57:40.374Z"
   },
   {
    "duration": 6,
    "start_time": "2022-05-12T20:57:40.390Z"
   },
   {
    "duration": 3263,
    "start_time": "2022-05-12T20:57:40.398Z"
   },
   {
    "duration": 18,
    "start_time": "2022-05-12T20:57:43.663Z"
   },
   {
    "duration": 290,
    "start_time": "2022-05-12T20:57:43.683Z"
   },
   {
    "duration": 27,
    "start_time": "2022-05-12T20:57:43.975Z"
   },
   {
    "duration": 1894,
    "start_time": "2022-05-12T20:57:44.004Z"
   },
   {
    "duration": 35,
    "start_time": "2022-05-12T20:57:45.900Z"
   },
   {
    "duration": 243,
    "start_time": "2022-05-12T20:57:45.937Z"
   },
   {
    "duration": 161,
    "start_time": "2022-05-12T20:57:46.182Z"
   },
   {
    "duration": 167,
    "start_time": "2022-05-12T20:57:46.346Z"
   },
   {
    "duration": 157,
    "start_time": "2022-05-12T20:57:46.515Z"
   },
   {
    "duration": 253,
    "start_time": "2022-05-12T20:57:46.674Z"
   },
   {
    "duration": 169,
    "start_time": "2022-05-12T20:57:46.933Z"
   },
   {
    "duration": 232,
    "start_time": "2022-05-12T20:57:47.104Z"
   },
   {
    "duration": 320,
    "start_time": "2022-05-12T20:57:47.338Z"
   },
   {
    "duration": 383,
    "start_time": "2022-05-12T20:57:47.660Z"
   },
   {
    "duration": 391,
    "start_time": "2022-05-12T20:57:48.047Z"
   },
   {
    "duration": 433,
    "start_time": "2022-05-12T20:57:48.440Z"
   },
   {
    "duration": 91,
    "start_time": "2022-05-12T20:57:48.875Z"
   },
   {
    "duration": 570,
    "start_time": "2022-05-12T20:57:48.968Z"
   },
   {
    "duration": 40,
    "start_time": "2022-05-12T20:57:49.539Z"
   },
   {
    "duration": 599,
    "start_time": "2022-05-12T20:57:49.581Z"
   },
   {
    "duration": 294,
    "start_time": "2022-05-12T20:57:50.182Z"
   },
   {
    "duration": 197,
    "start_time": "2022-05-12T20:57:50.478Z"
   },
   {
    "duration": 208,
    "start_time": "2022-05-12T20:57:50.677Z"
   },
   {
    "duration": 591,
    "start_time": "2022-05-12T20:57:50.888Z"
   },
   {
    "duration": 563,
    "start_time": "2022-05-12T20:57:51.481Z"
   },
   {
    "duration": 598,
    "start_time": "2022-05-12T20:57:52.046Z"
   },
   {
    "duration": 14,
    "start_time": "2022-05-12T20:57:52.647Z"
   },
   {
    "duration": 13,
    "start_time": "2022-05-12T20:57:52.663Z"
   },
   {
    "duration": 1937,
    "start_time": "2022-05-12T20:58:44.602Z"
   },
   {
    "duration": 132,
    "start_time": "2022-05-12T20:59:16.437Z"
   },
   {
    "duration": 1909,
    "start_time": "2022-05-12T20:59:21.598Z"
   },
   {
    "duration": 2031,
    "start_time": "2022-05-12T20:59:43.804Z"
   },
   {
    "duration": 2172,
    "start_time": "2022-05-12T21:00:58.901Z"
   },
   {
    "duration": 2121,
    "start_time": "2022-05-12T21:01:28.727Z"
   },
   {
    "duration": 2249,
    "start_time": "2022-05-12T21:01:50.886Z"
   },
   {
    "duration": 2401,
    "start_time": "2022-05-12T21:05:57.864Z"
   },
   {
    "duration": 17,
    "start_time": "2022-05-12T21:07:42.746Z"
   },
   {
    "duration": 242,
    "start_time": "2022-05-12T21:11:58.883Z"
   },
   {
    "duration": 338,
    "start_time": "2022-05-12T21:13:57.367Z"
   },
   {
    "duration": 133,
    "start_time": "2022-05-12T21:14:11.587Z"
   },
   {
    "duration": 273,
    "start_time": "2022-05-12T21:14:17.204Z"
   },
   {
    "duration": 217,
    "start_time": "2022-05-12T21:14:27.614Z"
   },
   {
    "duration": 241,
    "start_time": "2022-05-12T21:15:12.918Z"
   },
   {
    "duration": 218,
    "start_time": "2022-05-12T21:18:12.633Z"
   },
   {
    "duration": 308,
    "start_time": "2022-05-12T21:18:19.299Z"
   },
   {
    "duration": 157,
    "start_time": "2022-05-12T21:18:53.907Z"
   },
   {
    "duration": 164,
    "start_time": "2022-05-12T21:19:05.679Z"
   },
   {
    "duration": 170,
    "start_time": "2022-05-12T21:19:16.512Z"
   },
   {
    "duration": 150,
    "start_time": "2022-05-12T21:20:20.486Z"
   },
   {
    "duration": 156,
    "start_time": "2022-05-12T21:20:32.085Z"
   },
   {
    "duration": 186,
    "start_time": "2022-05-12T21:20:51.175Z"
   },
   {
    "duration": 1359,
    "start_time": "2022-05-12T21:22:01.845Z"
   },
   {
    "duration": 23,
    "start_time": "2022-05-12T21:22:03.207Z"
   },
   {
    "duration": 32,
    "start_time": "2022-05-12T21:22:03.234Z"
   },
   {
    "duration": 14,
    "start_time": "2022-05-12T21:22:03.269Z"
   },
   {
    "duration": 62,
    "start_time": "2022-05-12T21:22:03.286Z"
   },
   {
    "duration": 25,
    "start_time": "2022-05-12T21:22:03.350Z"
   },
   {
    "duration": 9,
    "start_time": "2022-05-12T21:22:03.377Z"
   },
   {
    "duration": 44,
    "start_time": "2022-05-12T21:22:03.390Z"
   },
   {
    "duration": 17,
    "start_time": "2022-05-12T21:22:03.438Z"
   },
   {
    "duration": 3,
    "start_time": "2022-05-12T21:22:03.457Z"
   },
   {
    "duration": 12,
    "start_time": "2022-05-12T21:22:03.462Z"
   },
   {
    "duration": 7,
    "start_time": "2022-05-12T21:22:03.476Z"
   },
   {
    "duration": 3314,
    "start_time": "2022-05-12T21:22:03.485Z"
   },
   {
    "duration": 19,
    "start_time": "2022-05-12T21:22:06.803Z"
   },
   {
    "duration": 303,
    "start_time": "2022-05-12T21:22:06.833Z"
   },
   {
    "duration": 27,
    "start_time": "2022-05-12T21:22:07.138Z"
   },
   {
    "duration": 2341,
    "start_time": "2022-05-12T21:22:07.167Z"
   },
   {
    "duration": 34,
    "start_time": "2022-05-12T21:22:09.509Z"
   },
   {
    "duration": 232,
    "start_time": "2022-05-12T21:22:09.545Z"
   },
   {
    "duration": 214,
    "start_time": "2022-05-12T21:22:09.779Z"
   },
   {
    "duration": 286,
    "start_time": "2022-05-12T21:22:09.994Z"
   },
   {
    "duration": 172,
    "start_time": "2022-05-12T21:22:10.282Z"
   },
   {
    "duration": 188,
    "start_time": "2022-05-12T21:22:10.456Z"
   },
   {
    "duration": 192,
    "start_time": "2022-05-12T21:22:10.646Z"
   },
   {
    "duration": 176,
    "start_time": "2022-05-12T21:22:10.839Z"
   },
   {
    "duration": 197,
    "start_time": "2022-05-12T21:22:11.017Z"
   },
   {
    "duration": 193,
    "start_time": "2022-05-12T21:22:11.216Z"
   },
   {
    "duration": 201,
    "start_time": "2022-05-12T21:22:11.411Z"
   },
   {
    "duration": 173,
    "start_time": "2022-05-12T21:22:11.614Z"
   },
   {
    "duration": 202,
    "start_time": "2022-05-12T21:22:11.789Z"
   },
   {
    "duration": 46,
    "start_time": "2022-05-12T21:22:11.993Z"
   },
   {
    "duration": 457,
    "start_time": "2022-05-12T21:22:12.041Z"
   },
   {
    "duration": 49,
    "start_time": "2022-05-12T21:22:12.500Z"
   },
   {
    "duration": 700,
    "start_time": "2022-05-12T21:22:12.551Z"
   },
   {
    "duration": 220,
    "start_time": "2022-05-12T21:22:13.253Z"
   },
   {
    "duration": 153,
    "start_time": "2022-05-12T21:22:13.475Z"
   },
   {
    "duration": 158,
    "start_time": "2022-05-12T21:22:13.630Z"
   },
   {
    "duration": 510,
    "start_time": "2022-05-12T21:22:13.790Z"
   },
   {
    "duration": 517,
    "start_time": "2022-05-12T21:22:14.302Z"
   },
   {
    "duration": 488,
    "start_time": "2022-05-12T21:22:14.820Z"
   },
   {
    "duration": 29,
    "start_time": "2022-05-12T21:22:15.314Z"
   },
   {
    "duration": 228,
    "start_time": "2022-05-12T21:22:15.345Z"
   },
   {
    "duration": 48,
    "start_time": "2022-05-13T09:19:45.710Z"
   },
   {
    "duration": 1425,
    "start_time": "2022-05-13T09:19:51.515Z"
   },
   {
    "duration": 20,
    "start_time": "2022-05-13T09:19:52.942Z"
   },
   {
    "duration": 30,
    "start_time": "2022-05-13T09:19:52.964Z"
   },
   {
    "duration": 8,
    "start_time": "2022-05-13T09:19:52.997Z"
   },
   {
    "duration": 24,
    "start_time": "2022-05-13T09:19:53.007Z"
   },
   {
    "duration": 14,
    "start_time": "2022-05-13T09:19:53.033Z"
   },
   {
    "duration": 6,
    "start_time": "2022-05-13T09:19:53.049Z"
   },
   {
    "duration": 40,
    "start_time": "2022-05-13T09:19:53.057Z"
   },
   {
    "duration": 11,
    "start_time": "2022-05-13T09:19:53.099Z"
   },
   {
    "duration": 4,
    "start_time": "2022-05-13T09:19:53.113Z"
   },
   {
    "duration": 10,
    "start_time": "2022-05-13T09:19:53.118Z"
   },
   {
    "duration": 6,
    "start_time": "2022-05-13T09:19:53.130Z"
   },
   {
    "duration": 2812,
    "start_time": "2022-05-13T09:19:53.137Z"
   },
   {
    "duration": 16,
    "start_time": "2022-05-13T09:19:55.951Z"
   },
   {
    "duration": 256,
    "start_time": "2022-05-13T09:19:55.969Z"
   },
   {
    "duration": 24,
    "start_time": "2022-05-13T09:19:56.227Z"
   },
   {
    "duration": 2601,
    "start_time": "2022-05-13T09:19:56.253Z"
   },
   {
    "duration": 15,
    "start_time": "2022-05-13T09:19:58.856Z"
   },
   {
    "duration": 195,
    "start_time": "2022-05-13T09:19:58.873Z"
   },
   {
    "duration": 166,
    "start_time": "2022-05-13T09:19:59.070Z"
   },
   {
    "duration": 234,
    "start_time": "2022-05-13T09:19:59.237Z"
   },
   {
    "duration": 151,
    "start_time": "2022-05-13T09:19:59.472Z"
   },
   {
    "duration": 156,
    "start_time": "2022-05-13T09:19:59.625Z"
   },
   {
    "duration": 151,
    "start_time": "2022-05-13T09:19:59.782Z"
   },
   {
    "duration": 173,
    "start_time": "2022-05-13T09:19:59.935Z"
   },
   {
    "duration": 164,
    "start_time": "2022-05-13T09:20:00.110Z"
   },
   {
    "duration": 169,
    "start_time": "2022-05-13T09:20:00.276Z"
   },
   {
    "duration": 174,
    "start_time": "2022-05-13T09:20:00.450Z"
   },
   {
    "duration": 149,
    "start_time": "2022-05-13T09:20:00.625Z"
   },
   {
    "duration": 182,
    "start_time": "2022-05-13T09:20:00.776Z"
   },
   {
    "duration": 110,
    "start_time": "2022-05-13T09:20:00.959Z"
   },
   {
    "duration": 0,
    "start_time": "2022-05-13T09:20:01.071Z"
   },
   {
    "duration": 0,
    "start_time": "2022-05-13T09:20:01.072Z"
   },
   {
    "duration": 0,
    "start_time": "2022-05-13T09:20:01.073Z"
   },
   {
    "duration": 0,
    "start_time": "2022-05-13T09:20:01.074Z"
   },
   {
    "duration": 0,
    "start_time": "2022-05-13T09:20:01.075Z"
   },
   {
    "duration": 0,
    "start_time": "2022-05-13T09:20:01.076Z"
   },
   {
    "duration": 0,
    "start_time": "2022-05-13T09:20:01.077Z"
   },
   {
    "duration": 0,
    "start_time": "2022-05-13T09:20:01.088Z"
   },
   {
    "duration": 0,
    "start_time": "2022-05-13T09:20:01.089Z"
   },
   {
    "duration": 0,
    "start_time": "2022-05-13T09:20:01.090Z"
   },
   {
    "duration": 0,
    "start_time": "2022-05-13T09:20:01.091Z"
   },
   {
    "duration": 0,
    "start_time": "2022-05-13T09:20:01.092Z"
   },
   {
    "duration": 20,
    "start_time": "2022-05-13T09:20:07.051Z"
   },
   {
    "duration": 132,
    "start_time": "2022-05-13T09:20:15.231Z"
   },
   {
    "duration": 171,
    "start_time": "2022-05-13T09:21:42.811Z"
   },
   {
    "duration": 279,
    "start_time": "2022-05-13T09:22:38.153Z"
   },
   {
    "duration": 1217,
    "start_time": "2022-05-13T10:04:12.759Z"
   },
   {
    "duration": 19,
    "start_time": "2022-05-13T10:04:13.978Z"
   },
   {
    "duration": 21,
    "start_time": "2022-05-13T10:04:13.998Z"
   },
   {
    "duration": 8,
    "start_time": "2022-05-13T10:04:14.021Z"
   },
   {
    "duration": 18,
    "start_time": "2022-05-13T10:04:14.031Z"
   },
   {
    "duration": 38,
    "start_time": "2022-05-13T10:04:14.051Z"
   },
   {
    "duration": 8,
    "start_time": "2022-05-13T10:04:14.091Z"
   },
   {
    "duration": 14,
    "start_time": "2022-05-13T10:04:14.101Z"
   },
   {
    "duration": 10,
    "start_time": "2022-05-13T10:04:14.117Z"
   },
   {
    "duration": 2,
    "start_time": "2022-05-13T10:04:14.130Z"
   },
   {
    "duration": 17,
    "start_time": "2022-05-13T10:04:14.133Z"
   },
   {
    "duration": 5,
    "start_time": "2022-05-13T10:04:14.151Z"
   },
   {
    "duration": 2881,
    "start_time": "2022-05-13T10:04:14.158Z"
   },
   {
    "duration": 17,
    "start_time": "2022-05-13T10:04:17.040Z"
   },
   {
    "duration": 266,
    "start_time": "2022-05-13T10:04:17.058Z"
   },
   {
    "duration": 24,
    "start_time": "2022-05-13T10:04:17.326Z"
   },
   {
    "duration": 1954,
    "start_time": "2022-05-13T10:04:17.351Z"
   },
   {
    "duration": 15,
    "start_time": "2022-05-13T10:04:19.306Z"
   },
   {
    "duration": 195,
    "start_time": "2022-05-13T10:04:19.323Z"
   },
   {
    "duration": 182,
    "start_time": "2022-05-13T10:04:19.520Z"
   },
   {
    "duration": 250,
    "start_time": "2022-05-13T10:04:19.704Z"
   },
   {
    "duration": 151,
    "start_time": "2022-05-13T10:04:19.956Z"
   },
   {
    "duration": 154,
    "start_time": "2022-05-13T10:04:20.108Z"
   },
   {
    "duration": 140,
    "start_time": "2022-05-13T10:04:20.263Z"
   },
   {
    "duration": 146,
    "start_time": "2022-05-13T10:04:20.405Z"
   },
   {
    "duration": 160,
    "start_time": "2022-05-13T10:04:20.552Z"
   },
   {
    "duration": 146,
    "start_time": "2022-05-13T10:04:20.714Z"
   },
   {
    "duration": 148,
    "start_time": "2022-05-13T10:04:20.863Z"
   },
   {
    "duration": 140,
    "start_time": "2022-05-13T10:04:21.013Z"
   },
   {
    "duration": 166,
    "start_time": "2022-05-13T10:04:21.155Z"
   },
   {
    "duration": 187,
    "start_time": "2022-05-13T10:04:21.323Z"
   },
   {
    "duration": 31,
    "start_time": "2022-05-13T10:04:21.512Z"
   },
   {
    "duration": 379,
    "start_time": "2022-05-13T10:04:21.544Z"
   },
   {
    "duration": 33,
    "start_time": "2022-05-13T10:04:21.925Z"
   },
   {
    "duration": 581,
    "start_time": "2022-05-13T10:04:21.960Z"
   },
   {
    "duration": 135,
    "start_time": "2022-05-13T10:04:22.543Z"
   },
   {
    "duration": 133,
    "start_time": "2022-05-13T10:04:22.679Z"
   },
   {
    "duration": 132,
    "start_time": "2022-05-13T10:04:22.814Z"
   },
   {
    "duration": 771,
    "start_time": "2022-05-13T10:04:22.948Z"
   },
   {
    "duration": 750,
    "start_time": "2022-05-13T10:04:23.720Z"
   },
   {
    "duration": 417,
    "start_time": "2022-05-13T10:04:24.471Z"
   },
   {
    "duration": 13,
    "start_time": "2022-05-13T10:04:24.890Z"
   },
   {
    "duration": 116,
    "start_time": "2022-05-13T10:04:24.904Z"
   },
   {
    "duration": 447,
    "start_time": "2022-05-13T10:16:58.117Z"
   },
   {
    "duration": 353,
    "start_time": "2022-05-13T10:17:55.897Z"
   },
   {
    "duration": 407,
    "start_time": "2022-05-13T10:33:30.139Z"
   },
   {
    "duration": 121,
    "start_time": "2022-05-13T10:41:55.107Z"
   },
   {
    "duration": 1201,
    "start_time": "2022-05-13T10:42:02.972Z"
   },
   {
    "duration": 18,
    "start_time": "2022-05-13T10:42:04.175Z"
   },
   {
    "duration": 19,
    "start_time": "2022-05-13T10:42:04.195Z"
   },
   {
    "duration": 7,
    "start_time": "2022-05-13T10:42:04.216Z"
   },
   {
    "duration": 21,
    "start_time": "2022-05-13T10:42:04.225Z"
   },
   {
    "duration": 13,
    "start_time": "2022-05-13T10:42:04.248Z"
   },
   {
    "duration": 30,
    "start_time": "2022-05-13T10:42:04.263Z"
   },
   {
    "duration": 16,
    "start_time": "2022-05-13T10:42:04.295Z"
   },
   {
    "duration": 10,
    "start_time": "2022-05-13T10:42:04.313Z"
   },
   {
    "duration": 11,
    "start_time": "2022-05-13T10:42:04.324Z"
   },
   {
    "duration": 12,
    "start_time": "2022-05-13T10:42:04.336Z"
   },
   {
    "duration": 5,
    "start_time": "2022-05-13T10:42:04.350Z"
   },
   {
    "duration": 3534,
    "start_time": "2022-05-13T10:42:04.357Z"
   },
   {
    "duration": 16,
    "start_time": "2022-05-13T10:42:07.894Z"
   },
   {
    "duration": 244,
    "start_time": "2022-05-13T10:42:07.911Z"
   },
   {
    "duration": 37,
    "start_time": "2022-05-13T10:42:08.157Z"
   },
   {
    "duration": 1980,
    "start_time": "2022-05-13T10:42:08.196Z"
   },
   {
    "duration": 17,
    "start_time": "2022-05-13T10:42:10.187Z"
   },
   {
    "duration": 195,
    "start_time": "2022-05-13T10:42:10.205Z"
   },
   {
    "duration": 182,
    "start_time": "2022-05-13T10:42:10.403Z"
   },
   {
    "duration": 261,
    "start_time": "2022-05-13T10:42:10.587Z"
   },
   {
    "duration": 148,
    "start_time": "2022-05-13T10:42:10.850Z"
   },
   {
    "duration": 161,
    "start_time": "2022-05-13T10:42:11.000Z"
   },
   {
    "duration": 140,
    "start_time": "2022-05-13T10:42:11.163Z"
   },
   {
    "duration": 144,
    "start_time": "2022-05-13T10:42:11.304Z"
   },
   {
    "duration": 160,
    "start_time": "2022-05-13T10:42:11.449Z"
   },
   {
    "duration": 148,
    "start_time": "2022-05-13T10:42:11.611Z"
   },
   {
    "duration": 154,
    "start_time": "2022-05-13T10:42:11.761Z"
   },
   {
    "duration": 140,
    "start_time": "2022-05-13T10:42:11.916Z"
   },
   {
    "duration": 170,
    "start_time": "2022-05-13T10:42:12.058Z"
   },
   {
    "duration": 187,
    "start_time": "2022-05-13T10:42:12.230Z"
   },
   {
    "duration": 33,
    "start_time": "2022-05-13T10:42:12.419Z"
   },
   {
    "duration": 583,
    "start_time": "2022-05-13T10:42:12.454Z"
   },
   {
    "duration": 357,
    "start_time": "2022-05-13T10:42:13.039Z"
   },
   {
    "duration": 31,
    "start_time": "2022-05-13T10:42:13.397Z"
   },
   {
    "duration": 405,
    "start_time": "2022-05-13T10:42:13.429Z"
   },
   {
    "duration": 104,
    "start_time": "2022-05-13T10:42:13.836Z"
   },
   {
    "duration": 0,
    "start_time": "2022-05-13T10:42:13.941Z"
   },
   {
    "duration": 0,
    "start_time": "2022-05-13T10:42:13.942Z"
   },
   {
    "duration": 0,
    "start_time": "2022-05-13T10:42:13.944Z"
   },
   {
    "duration": 0,
    "start_time": "2022-05-13T10:42:13.944Z"
   },
   {
    "duration": 0,
    "start_time": "2022-05-13T10:42:13.945Z"
   },
   {
    "duration": 0,
    "start_time": "2022-05-13T10:42:13.947Z"
   },
   {
    "duration": 0,
    "start_time": "2022-05-13T10:42:13.947Z"
   },
   {
    "duration": 133,
    "start_time": "2022-05-13T10:42:27.166Z"
   },
   {
    "duration": 1199,
    "start_time": "2022-05-13T10:42:42.099Z"
   },
   {
    "duration": 20,
    "start_time": "2022-05-13T10:42:43.300Z"
   },
   {
    "duration": 18,
    "start_time": "2022-05-13T10:42:43.322Z"
   },
   {
    "duration": 12,
    "start_time": "2022-05-13T10:42:43.342Z"
   },
   {
    "duration": 42,
    "start_time": "2022-05-13T10:42:43.356Z"
   },
   {
    "duration": 16,
    "start_time": "2022-05-13T10:42:43.400Z"
   },
   {
    "duration": 7,
    "start_time": "2022-05-13T10:42:43.418Z"
   },
   {
    "duration": 11,
    "start_time": "2022-05-13T10:42:43.426Z"
   },
   {
    "duration": 13,
    "start_time": "2022-05-13T10:42:43.439Z"
   },
   {
    "duration": 5,
    "start_time": "2022-05-13T10:42:43.455Z"
   },
   {
    "duration": 32,
    "start_time": "2022-05-13T10:42:43.461Z"
   },
   {
    "duration": 7,
    "start_time": "2022-05-13T10:42:43.495Z"
   },
   {
    "duration": 3609,
    "start_time": "2022-05-13T10:42:43.504Z"
   },
   {
    "duration": 16,
    "start_time": "2022-05-13T10:42:47.115Z"
   },
   {
    "duration": 255,
    "start_time": "2022-05-13T10:42:47.133Z"
   },
   {
    "duration": 23,
    "start_time": "2022-05-13T10:42:47.389Z"
   },
   {
    "duration": 2143,
    "start_time": "2022-05-13T10:42:47.414Z"
   },
   {
    "duration": 29,
    "start_time": "2022-05-13T10:42:49.559Z"
   },
   {
    "duration": 205,
    "start_time": "2022-05-13T10:42:49.590Z"
   },
   {
    "duration": 191,
    "start_time": "2022-05-13T10:42:49.797Z"
   },
   {
    "duration": 271,
    "start_time": "2022-05-13T10:42:49.989Z"
   },
   {
    "duration": 161,
    "start_time": "2022-05-13T10:42:50.262Z"
   },
   {
    "duration": 169,
    "start_time": "2022-05-13T10:42:50.425Z"
   },
   {
    "duration": 154,
    "start_time": "2022-05-13T10:42:50.596Z"
   },
   {
    "duration": 161,
    "start_time": "2022-05-13T10:42:50.752Z"
   },
   {
    "duration": 167,
    "start_time": "2022-05-13T10:42:50.915Z"
   },
   {
    "duration": 175,
    "start_time": "2022-05-13T10:42:51.088Z"
   },
   {
    "duration": 159,
    "start_time": "2022-05-13T10:42:51.267Z"
   },
   {
    "duration": 148,
    "start_time": "2022-05-13T10:42:51.428Z"
   },
   {
    "duration": 205,
    "start_time": "2022-05-13T10:42:51.577Z"
   },
   {
    "duration": 203,
    "start_time": "2022-05-13T10:42:51.787Z"
   },
   {
    "duration": 35,
    "start_time": "2022-05-13T10:42:51.992Z"
   },
   {
    "duration": 596,
    "start_time": "2022-05-13T10:42:52.030Z"
   },
   {
    "duration": 373,
    "start_time": "2022-05-13T10:42:52.628Z"
   },
   {
    "duration": 32,
    "start_time": "2022-05-13T10:42:53.003Z"
   },
   {
    "duration": 426,
    "start_time": "2022-05-13T10:42:53.036Z"
   },
   {
    "duration": 227,
    "start_time": "2022-05-13T10:42:53.464Z"
   },
   {
    "duration": 0,
    "start_time": "2022-05-13T10:42:53.692Z"
   },
   {
    "duration": 0,
    "start_time": "2022-05-13T10:42:53.693Z"
   },
   {
    "duration": 0,
    "start_time": "2022-05-13T10:42:53.694Z"
   },
   {
    "duration": 0,
    "start_time": "2022-05-13T10:42:53.696Z"
   },
   {
    "duration": 0,
    "start_time": "2022-05-13T10:42:53.697Z"
   },
   {
    "duration": 0,
    "start_time": "2022-05-13T10:42:53.698Z"
   },
   {
    "duration": 0,
    "start_time": "2022-05-13T10:42:53.699Z"
   },
   {
    "duration": 124,
    "start_time": "2022-05-13T10:43:51.051Z"
   },
   {
    "duration": 119,
    "start_time": "2022-05-13T10:45:11.167Z"
   },
   {
    "duration": 133,
    "start_time": "2022-05-13T10:45:28.994Z"
   },
   {
    "duration": 116,
    "start_time": "2022-05-13T10:45:32.273Z"
   },
   {
    "duration": 143,
    "start_time": "2022-05-13T10:47:28.264Z"
   },
   {
    "duration": 130,
    "start_time": "2022-05-13T10:47:41.720Z"
   },
   {
    "duration": 240,
    "start_time": "2022-05-13T10:48:12.445Z"
   },
   {
    "duration": 127,
    "start_time": "2022-05-13T10:48:23.342Z"
   },
   {
    "duration": 375,
    "start_time": "2022-05-13T10:51:21.624Z"
   },
   {
    "duration": 372,
    "start_time": "2022-05-13T10:51:34.599Z"
   },
   {
    "duration": 390,
    "start_time": "2022-05-13T10:53:04.376Z"
   },
   {
    "duration": 359,
    "start_time": "2022-05-13T10:56:17.104Z"
   },
   {
    "duration": 497,
    "start_time": "2022-05-13T10:58:04.141Z"
   },
   {
    "duration": 4,
    "start_time": "2022-05-13T10:59:36.497Z"
   },
   {
    "duration": 357,
    "start_time": "2022-05-13T10:59:49.420Z"
   },
   {
    "duration": 1249,
    "start_time": "2022-05-13T11:00:04.580Z"
   },
   {
    "duration": 20,
    "start_time": "2022-05-13T11:00:05.831Z"
   },
   {
    "duration": 18,
    "start_time": "2022-05-13T11:00:05.853Z"
   },
   {
    "duration": 22,
    "start_time": "2022-05-13T11:00:05.874Z"
   },
   {
    "duration": 22,
    "start_time": "2022-05-13T11:00:05.897Z"
   },
   {
    "duration": 18,
    "start_time": "2022-05-13T11:00:05.921Z"
   },
   {
    "duration": 7,
    "start_time": "2022-05-13T11:00:05.941Z"
   },
   {
    "duration": 17,
    "start_time": "2022-05-13T11:00:05.949Z"
   },
   {
    "duration": 12,
    "start_time": "2022-05-13T11:00:05.987Z"
   },
   {
    "duration": 3,
    "start_time": "2022-05-13T11:00:06.002Z"
   },
   {
    "duration": 13,
    "start_time": "2022-05-13T11:00:06.006Z"
   },
   {
    "duration": 7,
    "start_time": "2022-05-13T11:00:06.020Z"
   },
   {
    "duration": 2889,
    "start_time": "2022-05-13T11:00:06.029Z"
   },
   {
    "duration": 16,
    "start_time": "2022-05-13T11:00:08.920Z"
   },
   {
    "duration": 278,
    "start_time": "2022-05-13T11:00:08.938Z"
   },
   {
    "duration": 24,
    "start_time": "2022-05-13T11:00:09.218Z"
   },
   {
    "duration": 2121,
    "start_time": "2022-05-13T11:00:09.244Z"
   },
   {
    "duration": 36,
    "start_time": "2022-05-13T11:00:11.366Z"
   },
   {
    "duration": 214,
    "start_time": "2022-05-13T11:00:11.404Z"
   },
   {
    "duration": 190,
    "start_time": "2022-05-13T11:00:11.621Z"
   },
   {
    "duration": 267,
    "start_time": "2022-05-13T11:00:11.813Z"
   },
   {
    "duration": 149,
    "start_time": "2022-05-13T11:00:12.088Z"
   },
   {
    "duration": 167,
    "start_time": "2022-05-13T11:00:12.239Z"
   },
   {
    "duration": 155,
    "start_time": "2022-05-13T11:00:12.407Z"
   },
   {
    "duration": 156,
    "start_time": "2022-05-13T11:00:12.564Z"
   },
   {
    "duration": 157,
    "start_time": "2022-05-13T11:00:12.722Z"
   },
   {
    "duration": 166,
    "start_time": "2022-05-13T11:00:12.881Z"
   },
   {
    "duration": 154,
    "start_time": "2022-05-13T11:00:13.052Z"
   },
   {
    "duration": 149,
    "start_time": "2022-05-13T11:00:13.209Z"
   },
   {
    "duration": 172,
    "start_time": "2022-05-13T11:00:13.360Z"
   },
   {
    "duration": 198,
    "start_time": "2022-05-13T11:00:13.535Z"
   },
   {
    "duration": 53,
    "start_time": "2022-05-13T11:00:13.735Z"
   },
   {
    "duration": 600,
    "start_time": "2022-05-13T11:00:13.790Z"
   },
   {
    "duration": 370,
    "start_time": "2022-05-13T11:00:14.392Z"
   },
   {
    "duration": 41,
    "start_time": "2022-05-13T11:00:14.763Z"
   },
   {
    "duration": 414,
    "start_time": "2022-05-13T11:00:14.806Z"
   },
   {
    "duration": 143,
    "start_time": "2022-05-13T11:00:15.221Z"
   },
   {
    "duration": 147,
    "start_time": "2022-05-13T11:00:15.366Z"
   },
   {
    "duration": 149,
    "start_time": "2022-05-13T11:00:15.515Z"
   },
   {
    "duration": 397,
    "start_time": "2022-05-13T11:00:15.666Z"
   },
   {
    "duration": 512,
    "start_time": "2022-05-13T11:00:16.065Z"
   },
   {
    "duration": 381,
    "start_time": "2022-05-13T11:00:16.579Z"
   },
   {
    "duration": 13,
    "start_time": "2022-05-13T11:00:16.961Z"
   },
   {
    "duration": 11,
    "start_time": "2022-05-13T11:00:16.989Z"
   },
   {
    "duration": 14,
    "start_time": "2022-05-13T11:03:47.963Z"
   },
   {
    "duration": 10,
    "start_time": "2022-05-13T11:04:26.217Z"
   },
   {
    "duration": 1209,
    "start_time": "2022-05-13T11:17:24.518Z"
   },
   {
    "duration": 69,
    "start_time": "2022-05-13T11:17:25.729Z"
   },
   {
    "duration": 20,
    "start_time": "2022-05-13T11:17:25.799Z"
   },
   {
    "duration": 18,
    "start_time": "2022-05-13T11:17:25.822Z"
   },
   {
    "duration": 10,
    "start_time": "2022-05-13T11:17:25.842Z"
   },
   {
    "duration": 46,
    "start_time": "2022-05-13T11:17:25.853Z"
   },
   {
    "duration": 14,
    "start_time": "2022-05-13T11:17:25.901Z"
   },
   {
    "duration": 7,
    "start_time": "2022-05-13T11:17:25.916Z"
   },
   {
    "duration": 12,
    "start_time": "2022-05-13T11:17:25.925Z"
   },
   {
    "duration": 9,
    "start_time": "2022-05-13T11:17:25.940Z"
   },
   {
    "duration": 3,
    "start_time": "2022-05-13T11:17:25.950Z"
   },
   {
    "duration": 8,
    "start_time": "2022-05-13T11:17:25.989Z"
   },
   {
    "duration": 6,
    "start_time": "2022-05-13T11:17:25.999Z"
   },
   {
    "duration": 2915,
    "start_time": "2022-05-13T11:17:26.007Z"
   },
   {
    "duration": 17,
    "start_time": "2022-05-13T11:17:28.923Z"
   },
   {
    "duration": 273,
    "start_time": "2022-05-13T11:17:28.941Z"
   },
   {
    "duration": 25,
    "start_time": "2022-05-13T11:17:29.216Z"
   },
   {
    "duration": 2055,
    "start_time": "2022-05-13T11:17:29.243Z"
   },
   {
    "duration": 17,
    "start_time": "2022-05-13T11:17:31.299Z"
   },
   {
    "duration": 208,
    "start_time": "2022-05-13T11:17:31.318Z"
   },
   {
    "duration": 187,
    "start_time": "2022-05-13T11:17:31.527Z"
   },
   {
    "duration": 274,
    "start_time": "2022-05-13T11:17:31.716Z"
   },
   {
    "duration": 152,
    "start_time": "2022-05-13T11:17:31.992Z"
   },
   {
    "duration": 168,
    "start_time": "2022-05-13T11:17:32.146Z"
   },
   {
    "duration": 150,
    "start_time": "2022-05-13T11:17:32.315Z"
   },
   {
    "duration": 143,
    "start_time": "2022-05-13T11:17:32.466Z"
   },
   {
    "duration": 160,
    "start_time": "2022-05-13T11:17:32.611Z"
   },
   {
    "duration": 162,
    "start_time": "2022-05-13T11:17:32.774Z"
   },
   {
    "duration": 164,
    "start_time": "2022-05-13T11:17:32.938Z"
   },
   {
    "duration": 146,
    "start_time": "2022-05-13T11:17:33.104Z"
   },
   {
    "duration": 168,
    "start_time": "2022-05-13T11:17:33.252Z"
   },
   {
    "duration": 192,
    "start_time": "2022-05-13T11:17:33.422Z"
   },
   {
    "duration": 31,
    "start_time": "2022-05-13T11:17:33.616Z"
   },
   {
    "duration": 585,
    "start_time": "2022-05-13T11:17:33.649Z"
   },
   {
    "duration": 370,
    "start_time": "2022-05-13T11:17:34.236Z"
   },
   {
    "duration": 32,
    "start_time": "2022-05-13T11:17:34.608Z"
   },
   {
    "duration": 423,
    "start_time": "2022-05-13T11:17:34.641Z"
   },
   {
    "duration": 142,
    "start_time": "2022-05-13T11:17:35.066Z"
   },
   {
    "duration": 139,
    "start_time": "2022-05-13T11:17:35.210Z"
   },
   {
    "duration": 140,
    "start_time": "2022-05-13T11:17:35.351Z"
   },
   {
    "duration": 382,
    "start_time": "2022-05-13T11:17:35.493Z"
   },
   {
    "duration": 500,
    "start_time": "2022-05-13T11:17:35.877Z"
   },
   {
    "duration": 379,
    "start_time": "2022-05-13T11:17:36.379Z"
   },
   {
    "duration": 101,
    "start_time": "2022-05-13T11:17:36.760Z"
   },
   {
    "duration": 0,
    "start_time": "2022-05-13T11:17:36.863Z"
   },
   {
    "duration": 13,
    "start_time": "2022-05-13T11:18:25.136Z"
   },
   {
    "duration": 10,
    "start_time": "2022-05-13T11:18:41.929Z"
   },
   {
    "duration": 1356,
    "start_time": "2022-05-13T11:18:49.164Z"
   },
   {
    "duration": 69,
    "start_time": "2022-05-13T11:18:50.522Z"
   },
   {
    "duration": 21,
    "start_time": "2022-05-13T11:18:50.593Z"
   },
   {
    "duration": 52,
    "start_time": "2022-05-13T11:18:50.616Z"
   },
   {
    "duration": 24,
    "start_time": "2022-05-13T11:18:50.671Z"
   },
   {
    "duration": 27,
    "start_time": "2022-05-13T11:18:50.697Z"
   },
   {
    "duration": 37,
    "start_time": "2022-05-13T11:18:50.726Z"
   },
   {
    "duration": 25,
    "start_time": "2022-05-13T11:18:50.765Z"
   },
   {
    "duration": 65,
    "start_time": "2022-05-13T11:18:50.792Z"
   },
   {
    "duration": 61,
    "start_time": "2022-05-13T11:18:50.859Z"
   },
   {
    "duration": 32,
    "start_time": "2022-05-13T11:18:50.921Z"
   },
   {
    "duration": 36,
    "start_time": "2022-05-13T11:18:50.955Z"
   },
   {
    "duration": 52,
    "start_time": "2022-05-13T11:18:50.992Z"
   },
   {
    "duration": 2850,
    "start_time": "2022-05-13T11:18:51.047Z"
   },
   {
    "duration": 16,
    "start_time": "2022-05-13T11:18:53.899Z"
   },
   {
    "duration": 245,
    "start_time": "2022-05-13T11:18:53.916Z"
   },
   {
    "duration": 33,
    "start_time": "2022-05-13T11:18:54.163Z"
   },
   {
    "duration": 1933,
    "start_time": "2022-05-13T11:18:54.198Z"
   },
   {
    "duration": 16,
    "start_time": "2022-05-13T11:18:56.132Z"
   },
   {
    "duration": 196,
    "start_time": "2022-05-13T11:18:56.150Z"
   },
   {
    "duration": 176,
    "start_time": "2022-05-13T11:18:56.348Z"
   },
   {
    "duration": 241,
    "start_time": "2022-05-13T11:18:56.526Z"
   },
   {
    "duration": 153,
    "start_time": "2022-05-13T11:18:56.768Z"
   },
   {
    "duration": 156,
    "start_time": "2022-05-13T11:18:56.923Z"
   },
   {
    "duration": 148,
    "start_time": "2022-05-13T11:18:57.080Z"
   },
   {
    "duration": 143,
    "start_time": "2022-05-13T11:18:57.230Z"
   },
   {
    "duration": 158,
    "start_time": "2022-05-13T11:18:57.375Z"
   },
   {
    "duration": 154,
    "start_time": "2022-05-13T11:18:57.535Z"
   },
   {
    "duration": 151,
    "start_time": "2022-05-13T11:18:57.691Z"
   },
   {
    "duration": 137,
    "start_time": "2022-05-13T11:18:57.844Z"
   },
   {
    "duration": 168,
    "start_time": "2022-05-13T11:18:57.987Z"
   },
   {
    "duration": 197,
    "start_time": "2022-05-13T11:18:58.157Z"
   },
   {
    "duration": 40,
    "start_time": "2022-05-13T11:18:58.356Z"
   },
   {
    "duration": 560,
    "start_time": "2022-05-13T11:18:58.397Z"
   },
   {
    "duration": 365,
    "start_time": "2022-05-13T11:18:58.959Z"
   },
   {
    "duration": 32,
    "start_time": "2022-05-13T11:18:59.326Z"
   },
   {
    "duration": 411,
    "start_time": "2022-05-13T11:18:59.360Z"
   },
   {
    "duration": 146,
    "start_time": "2022-05-13T11:18:59.774Z"
   },
   {
    "duration": 149,
    "start_time": "2022-05-13T11:18:59.922Z"
   },
   {
    "duration": 138,
    "start_time": "2022-05-13T11:19:00.073Z"
   },
   {
    "duration": 390,
    "start_time": "2022-05-13T11:19:00.215Z"
   },
   {
    "duration": 502,
    "start_time": "2022-05-13T11:19:00.607Z"
   },
   {
    "duration": 386,
    "start_time": "2022-05-13T11:19:01.111Z"
   },
   {
    "duration": 14,
    "start_time": "2022-05-13T11:19:01.499Z"
   },
   {
    "duration": 36,
    "start_time": "2022-05-13T11:19:01.514Z"
   },
   {
    "duration": 1150,
    "start_time": "2022-05-13T11:46:20.550Z"
   },
   {
    "duration": 79,
    "start_time": "2022-05-13T11:46:21.702Z"
   },
   {
    "duration": 23,
    "start_time": "2022-05-13T11:46:21.782Z"
   },
   {
    "duration": 30,
    "start_time": "2022-05-13T11:46:21.808Z"
   },
   {
    "duration": 8,
    "start_time": "2022-05-13T11:46:21.840Z"
   },
   {
    "duration": 20,
    "start_time": "2022-05-13T11:46:21.850Z"
   },
   {
    "duration": 20,
    "start_time": "2022-05-13T11:46:21.872Z"
   },
   {
    "duration": 11,
    "start_time": "2022-05-13T11:46:21.893Z"
   },
   {
    "duration": 23,
    "start_time": "2022-05-13T11:46:21.906Z"
   },
   {
    "duration": 9,
    "start_time": "2022-05-13T11:46:21.932Z"
   },
   {
    "duration": 9,
    "start_time": "2022-05-13T11:46:21.943Z"
   },
   {
    "duration": 11,
    "start_time": "2022-05-13T11:46:21.953Z"
   },
   {
    "duration": 5,
    "start_time": "2022-05-13T11:46:21.965Z"
   },
   {
    "duration": 3241,
    "start_time": "2022-05-13T11:46:21.972Z"
   },
   {
    "duration": 15,
    "start_time": "2022-05-13T11:46:25.215Z"
   },
   {
    "duration": 226,
    "start_time": "2022-05-13T11:46:25.231Z"
   },
   {
    "duration": 21,
    "start_time": "2022-05-13T11:46:25.459Z"
   },
   {
    "duration": 1887,
    "start_time": "2022-05-13T11:46:25.482Z"
   },
   {
    "duration": 15,
    "start_time": "2022-05-13T11:46:27.370Z"
   },
   {
    "duration": 188,
    "start_time": "2022-05-13T11:46:27.386Z"
   },
   {
    "duration": 182,
    "start_time": "2022-05-13T11:46:27.576Z"
   },
   {
    "duration": 236,
    "start_time": "2022-05-13T11:46:27.759Z"
   },
   {
    "duration": 135,
    "start_time": "2022-05-13T11:46:27.997Z"
   },
   {
    "duration": 152,
    "start_time": "2022-05-13T11:46:28.134Z"
   },
   {
    "duration": 142,
    "start_time": "2022-05-13T11:46:28.287Z"
   },
   {
    "duration": 147,
    "start_time": "2022-05-13T11:46:28.431Z"
   },
   {
    "duration": 149,
    "start_time": "2022-05-13T11:46:28.580Z"
   },
   {
    "duration": 146,
    "start_time": "2022-05-13T11:46:28.732Z"
   },
   {
    "duration": 153,
    "start_time": "2022-05-13T11:46:28.880Z"
   },
   {
    "duration": 134,
    "start_time": "2022-05-13T11:46:29.035Z"
   },
   {
    "duration": 166,
    "start_time": "2022-05-13T11:46:29.170Z"
   },
   {
    "duration": 190,
    "start_time": "2022-05-13T11:46:29.338Z"
   },
   {
    "duration": 28,
    "start_time": "2022-05-13T11:46:29.530Z"
   },
   {
    "duration": 550,
    "start_time": "2022-05-13T11:46:29.559Z"
   },
   {
    "duration": 362,
    "start_time": "2022-05-13T11:46:30.111Z"
   },
   {
    "duration": 50,
    "start_time": "2022-05-13T11:46:30.475Z"
   },
   {
    "duration": 395,
    "start_time": "2022-05-13T11:46:30.526Z"
   },
   {
    "duration": 199,
    "start_time": "2022-05-13T11:46:30.924Z"
   },
   {
    "duration": 301,
    "start_time": "2022-05-13T11:46:31.125Z"
   },
   {
    "duration": 298,
    "start_time": "2022-05-13T11:46:31.428Z"
   },
   {
    "duration": 892,
    "start_time": "2022-05-13T11:46:31.728Z"
   },
   {
    "duration": 594,
    "start_time": "2022-05-13T11:46:32.621Z"
   },
   {
    "duration": 350,
    "start_time": "2022-05-13T11:46:33.217Z"
   },
   {
    "duration": 12,
    "start_time": "2022-05-13T11:46:33.569Z"
   },
   {
    "duration": 21,
    "start_time": "2022-05-13T11:46:33.582Z"
   }
  ],
  "kernelspec": {
   "display_name": "Python 3 (ipykernel)",
   "language": "python",
   "name": "python3"
  },
  "language_info": {
   "codemirror_mode": {
    "name": "ipython",
    "version": 3
   },
   "file_extension": ".py",
   "mimetype": "text/x-python",
   "name": "python",
   "nbconvert_exporter": "python",
   "pygments_lexer": "ipython3",
   "version": "3.9.7"
  },
  "toc": {
   "base_numbering": 1,
   "nav_menu": {},
   "number_sections": true,
   "sideBar": true,
   "skip_h1_title": true,
   "title_cell": "Table of Contents",
   "title_sidebar": "Contents",
   "toc_cell": false,
   "toc_position": {},
   "toc_section_display": true,
   "toc_window_display": true
  }
 },
 "nbformat": 4,
 "nbformat_minor": 2
}
