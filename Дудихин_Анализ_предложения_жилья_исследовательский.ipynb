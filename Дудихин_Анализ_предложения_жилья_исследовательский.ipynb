{
 "cells": [
  {
   "cell_type": "markdown",
   "metadata": {
    "toc": true
   },
   "source": [
    "<h1>Содержание<span class=\"tocSkip\"></span></h1>\n",
    "<div class=\"toc\"><ul class=\"toc-item\"><li><span><a href=\"#Изучение-данных-из-файла\" data-toc-modified-id=\"Изучение-данных-из-файла-1\"><span class=\"toc-item-num\">1&nbsp;&nbsp;</span>Изучение данных из файла</a></span></li><li><span><a href=\"#Предобработка-данных-\" data-toc-modified-id=\"Предобработка-данных--2\"><span class=\"toc-item-num\">2&nbsp;&nbsp;</span>Предобработка данных </a></span><ul class=\"toc-item\"><li><span><a href=\"#Вывод\" data-toc-modified-id=\"Вывод-2.1\"><span class=\"toc-item-num\">2.1&nbsp;&nbsp;</span>Вывод</a></span></li></ul></li><li><span><a href=\"#Расчёты-и-добавление-результатов-в-таблицу\" data-toc-modified-id=\"Расчёты-и-добавление-результатов-в-таблицу-3\"><span class=\"toc-item-num\">3&nbsp;&nbsp;</span>Расчёты и добавление результатов в таблицу</a></span><ul class=\"toc-item\"><li><span><a href=\"#Промежуточный-вывод\" data-toc-modified-id=\"Промежуточный-вывод-3.1\"><span class=\"toc-item-num\">3.1&nbsp;&nbsp;</span>Промежуточный вывод</a></span></li></ul></li><li><span><a href=\"#Исследовательский-анализ-данных\" data-toc-modified-id=\"Исследовательский-анализ-данных-4\"><span class=\"toc-item-num\">4&nbsp;&nbsp;</span>Исследовательский анализ данных</a></span><ul class=\"toc-item\"><li><span><a href=\"#Исследование-1.-Изучение-основных-параметров\" data-toc-modified-id=\"Исследование-1.-Изучение-основных-параметров-4.1\"><span class=\"toc-item-num\">4.1&nbsp;&nbsp;</span>Исследование 1. Изучение основных параметров</a></span></li><li><span><a href=\"#Промежуточный-вывод-1\" data-toc-modified-id=\"Промежуточный-вывод-1-4.2\"><span class=\"toc-item-num\">4.2&nbsp;&nbsp;</span>Промежуточный вывод 1</a></span></li><li><span><a href=\"#Исследование-2.-Изучение-времени-продажи-квартиры\" data-toc-modified-id=\"Исследование-2.-Изучение-времени-продажи-квартиры-4.3\"><span class=\"toc-item-num\">4.3&nbsp;&nbsp;</span>Исследование 2. Изучение времени продажи квартиры</a></span></li><li><span><a href=\"#Промежуточный-вывод-2\" data-toc-modified-id=\"Промежуточный-вывод-2-4.4\"><span class=\"toc-item-num\">4.4&nbsp;&nbsp;</span>Промежуточный вывод 2</a></span></li><li><span><a href=\"#Исследование-3.-Факторы,-влияющие-на-цену-квартиры\" data-toc-modified-id=\"Исследование-3.-Факторы,-влияющие-на-цену-квартиры-4.5\"><span class=\"toc-item-num\">4.5&nbsp;&nbsp;</span>Исследование 3. Факторы, влияющие на цену квартиры</a></span></li><li><span><a href=\"#Промежуточный-вывод-3\" data-toc-modified-id=\"Промежуточный-вывод-3-4.6\"><span class=\"toc-item-num\">4.6&nbsp;&nbsp;</span>Промежуточный вывод 3</a></span></li><li><span><a href=\"#Исследование-4.-Исследование-10-населенных-пунктов\" data-toc-modified-id=\"Исследование-4.-Исследование-10-населенных-пунктов-4.7\"><span class=\"toc-item-num\">4.7&nbsp;&nbsp;</span>Исследование 4. Исследование 10 населенных пунктов</a></span></li><li><span><a href=\"#Промежуточный-вывод-4\" data-toc-modified-id=\"Промежуточный-вывод-4-4.8\"><span class=\"toc-item-num\">4.8&nbsp;&nbsp;</span>Промежуточный вывод 4</a></span></li><li><span><a href=\"#Исследование-5.-Определение-границы-центра-СПб\" data-toc-modified-id=\"Исследование-5.-Определение-границы-центра-СПб-4.9\"><span class=\"toc-item-num\">4.9&nbsp;&nbsp;</span>Исследование 5. Определение границы центра СПб</a></span></li><li><span><a href=\"#Промежуточный-вывод-5\" data-toc-modified-id=\"Промежуточный-вывод-5-4.10\"><span class=\"toc-item-num\">4.10&nbsp;&nbsp;</span>Промежуточный вывод 5</a></span></li><li><span><a href=\"#Исследование-6.-Факторы,-влияющие-на-цену-квартир-в-центре-СПб\" data-toc-modified-id=\"Исследование-6.-Факторы,-влияющие-на-цену-квартир-в-центре-СПб-4.11\"><span class=\"toc-item-num\">4.11&nbsp;&nbsp;</span>Исследование 6. Факторы, влияющие на цену квартир в центре СПб</a></span></li><li><span><a href=\"#Промежуточный-вывод-6\" data-toc-modified-id=\"Промежуточный-вывод-6-4.12\"><span class=\"toc-item-num\">4.12&nbsp;&nbsp;</span>Промежуточный вывод 6</a></span></li></ul></li><li><span><a href=\"#Общий-вывод\" data-toc-modified-id=\"Общий-вывод-5\"><span class=\"toc-item-num\">5&nbsp;&nbsp;</span>Общий вывод</a></span></li><li><span><a href=\"#Чек-лист-готовности-проекта\" data-toc-modified-id=\"Чек-лист-готовности-проекта-6\"><span class=\"toc-item-num\">6&nbsp;&nbsp;</span>Чек-лист готовности проекта</a></span></li></ul></div>"
   ]
  },
  {
   "cell_type": "markdown",
   "metadata": {},
   "source": [
    "# Исследование объявлений о продаже квартир\n",
    "\n",
    "В вашем распоряжении данные сервиса Яндекc Недвижимость — архив объявлений о продаже квартир в Санкт-Петербурге и соседних населённых пунктах за несколько лет. Нужно научиться определять рыночную стоимость объектов недвижимости. Ваша задача — установить параметры. Это позволит построить автоматизированную систему: она отследит аномалии и мошенническую деятельность. \n",
    "\n",
    "По каждой квартире на продажу доступны два вида данных. Первые вписаны пользователем, вторые получены автоматически на основе картографических данных. Например, расстояние до центра, аэропорта, ближайшего парка и водоёма. "
   ]
  },
  {
   "cell_type": "markdown",
   "metadata": {},
   "source": [
    "## Изучение данных из файла"
   ]
  },
  {
   "cell_type": "markdown",
   "metadata": {},
   "source": [
    "На основе представленных в датафрейме данных определить рыночную стоимость недвижимости в зависимости от ряда ключевых параметров и хараткеристик. Набор параметров и диапазоны их значений будет установлен в ходе выполнения проекта. Также отследим анмалии в данных, причем с пониманием того, какие аномалии были получены из-за \"машинной\" ошибки, а какие - результат мошенничества и заведомо неправильного заполнения форм."
   ]
  },
  {
   "cell_type": "markdown",
   "metadata": {},
   "source": [
    "Откроем датафрейм, выведем на экран первые 15 строк и общую информацию о нем."
   ]
  },
  {
   "cell_type": "code",
   "execution_count": 1,
   "metadata": {},
   "outputs": [
    {
     "data": {
      "text/html": [
       "<div>\n",
       "<style scoped>\n",
       "    .dataframe tbody tr th:only-of-type {\n",
       "        vertical-align: middle;\n",
       "    }\n",
       "\n",
       "    .dataframe tbody tr th {\n",
       "        vertical-align: top;\n",
       "    }\n",
       "\n",
       "    .dataframe thead th {\n",
       "        text-align: right;\n",
       "    }\n",
       "</style>\n",
       "<table border=\"1\" class=\"dataframe\">\n",
       "  <thead>\n",
       "    <tr style=\"text-align: right;\">\n",
       "      <th></th>\n",
       "      <th>total_images</th>\n",
       "      <th>last_price</th>\n",
       "      <th>total_area</th>\n",
       "      <th>first_day_exposition</th>\n",
       "      <th>rooms</th>\n",
       "      <th>ceiling_height</th>\n",
       "      <th>floors_total</th>\n",
       "      <th>living_area</th>\n",
       "      <th>floor</th>\n",
       "      <th>is_apartment</th>\n",
       "      <th>...</th>\n",
       "      <th>kitchen_area</th>\n",
       "      <th>balcony</th>\n",
       "      <th>locality_name</th>\n",
       "      <th>airports_nearest</th>\n",
       "      <th>cityCenters_nearest</th>\n",
       "      <th>parks_around3000</th>\n",
       "      <th>parks_nearest</th>\n",
       "      <th>ponds_around3000</th>\n",
       "      <th>ponds_nearest</th>\n",
       "      <th>days_exposition</th>\n",
       "    </tr>\n",
       "  </thead>\n",
       "  <tbody>\n",
       "    <tr>\n",
       "      <td>0</td>\n",
       "      <td>20</td>\n",
       "      <td>13000000.0</td>\n",
       "      <td>108.00</td>\n",
       "      <td>2019-03-07T00:00:00</td>\n",
       "      <td>3</td>\n",
       "      <td>2.70</td>\n",
       "      <td>16.0</td>\n",
       "      <td>51.00</td>\n",
       "      <td>8</td>\n",
       "      <td>NaN</td>\n",
       "      <td>...</td>\n",
       "      <td>25.00</td>\n",
       "      <td>NaN</td>\n",
       "      <td>Санкт-Петербург</td>\n",
       "      <td>18863.0</td>\n",
       "      <td>16028.0</td>\n",
       "      <td>1.0</td>\n",
       "      <td>482.0</td>\n",
       "      <td>2.0</td>\n",
       "      <td>755.0</td>\n",
       "      <td>NaN</td>\n",
       "    </tr>\n",
       "    <tr>\n",
       "      <td>1</td>\n",
       "      <td>7</td>\n",
       "      <td>3350000.0</td>\n",
       "      <td>40.40</td>\n",
       "      <td>2018-12-04T00:00:00</td>\n",
       "      <td>1</td>\n",
       "      <td>NaN</td>\n",
       "      <td>11.0</td>\n",
       "      <td>18.60</td>\n",
       "      <td>1</td>\n",
       "      <td>NaN</td>\n",
       "      <td>...</td>\n",
       "      <td>11.00</td>\n",
       "      <td>2.0</td>\n",
       "      <td>посёлок Шушары</td>\n",
       "      <td>12817.0</td>\n",
       "      <td>18603.0</td>\n",
       "      <td>0.0</td>\n",
       "      <td>NaN</td>\n",
       "      <td>0.0</td>\n",
       "      <td>NaN</td>\n",
       "      <td>81.0</td>\n",
       "    </tr>\n",
       "    <tr>\n",
       "      <td>2</td>\n",
       "      <td>10</td>\n",
       "      <td>5196000.0</td>\n",
       "      <td>56.00</td>\n",
       "      <td>2015-08-20T00:00:00</td>\n",
       "      <td>2</td>\n",
       "      <td>NaN</td>\n",
       "      <td>5.0</td>\n",
       "      <td>34.30</td>\n",
       "      <td>4</td>\n",
       "      <td>NaN</td>\n",
       "      <td>...</td>\n",
       "      <td>8.30</td>\n",
       "      <td>0.0</td>\n",
       "      <td>Санкт-Петербург</td>\n",
       "      <td>21741.0</td>\n",
       "      <td>13933.0</td>\n",
       "      <td>1.0</td>\n",
       "      <td>90.0</td>\n",
       "      <td>2.0</td>\n",
       "      <td>574.0</td>\n",
       "      <td>558.0</td>\n",
       "    </tr>\n",
       "    <tr>\n",
       "      <td>3</td>\n",
       "      <td>0</td>\n",
       "      <td>64900000.0</td>\n",
       "      <td>159.00</td>\n",
       "      <td>2015-07-24T00:00:00</td>\n",
       "      <td>3</td>\n",
       "      <td>NaN</td>\n",
       "      <td>14.0</td>\n",
       "      <td>NaN</td>\n",
       "      <td>9</td>\n",
       "      <td>NaN</td>\n",
       "      <td>...</td>\n",
       "      <td>NaN</td>\n",
       "      <td>0.0</td>\n",
       "      <td>Санкт-Петербург</td>\n",
       "      <td>28098.0</td>\n",
       "      <td>6800.0</td>\n",
       "      <td>2.0</td>\n",
       "      <td>84.0</td>\n",
       "      <td>3.0</td>\n",
       "      <td>234.0</td>\n",
       "      <td>424.0</td>\n",
       "    </tr>\n",
       "    <tr>\n",
       "      <td>4</td>\n",
       "      <td>2</td>\n",
       "      <td>10000000.0</td>\n",
       "      <td>100.00</td>\n",
       "      <td>2018-06-19T00:00:00</td>\n",
       "      <td>2</td>\n",
       "      <td>3.03</td>\n",
       "      <td>14.0</td>\n",
       "      <td>32.00</td>\n",
       "      <td>13</td>\n",
       "      <td>NaN</td>\n",
       "      <td>...</td>\n",
       "      <td>41.00</td>\n",
       "      <td>NaN</td>\n",
       "      <td>Санкт-Петербург</td>\n",
       "      <td>31856.0</td>\n",
       "      <td>8098.0</td>\n",
       "      <td>2.0</td>\n",
       "      <td>112.0</td>\n",
       "      <td>1.0</td>\n",
       "      <td>48.0</td>\n",
       "      <td>121.0</td>\n",
       "    </tr>\n",
       "    <tr>\n",
       "      <td>5</td>\n",
       "      <td>10</td>\n",
       "      <td>2890000.0</td>\n",
       "      <td>30.40</td>\n",
       "      <td>2018-09-10T00:00:00</td>\n",
       "      <td>1</td>\n",
       "      <td>NaN</td>\n",
       "      <td>12.0</td>\n",
       "      <td>14.40</td>\n",
       "      <td>5</td>\n",
       "      <td>NaN</td>\n",
       "      <td>...</td>\n",
       "      <td>9.10</td>\n",
       "      <td>NaN</td>\n",
       "      <td>городской посёлок Янино-1</td>\n",
       "      <td>NaN</td>\n",
       "      <td>NaN</td>\n",
       "      <td>NaN</td>\n",
       "      <td>NaN</td>\n",
       "      <td>NaN</td>\n",
       "      <td>NaN</td>\n",
       "      <td>55.0</td>\n",
       "    </tr>\n",
       "    <tr>\n",
       "      <td>6</td>\n",
       "      <td>6</td>\n",
       "      <td>3700000.0</td>\n",
       "      <td>37.30</td>\n",
       "      <td>2017-11-02T00:00:00</td>\n",
       "      <td>1</td>\n",
       "      <td>NaN</td>\n",
       "      <td>26.0</td>\n",
       "      <td>10.60</td>\n",
       "      <td>6</td>\n",
       "      <td>NaN</td>\n",
       "      <td>...</td>\n",
       "      <td>14.40</td>\n",
       "      <td>1.0</td>\n",
       "      <td>посёлок Парголово</td>\n",
       "      <td>52996.0</td>\n",
       "      <td>19143.0</td>\n",
       "      <td>0.0</td>\n",
       "      <td>NaN</td>\n",
       "      <td>0.0</td>\n",
       "      <td>NaN</td>\n",
       "      <td>155.0</td>\n",
       "    </tr>\n",
       "    <tr>\n",
       "      <td>7</td>\n",
       "      <td>5</td>\n",
       "      <td>7915000.0</td>\n",
       "      <td>71.60</td>\n",
       "      <td>2019-04-18T00:00:00</td>\n",
       "      <td>2</td>\n",
       "      <td>NaN</td>\n",
       "      <td>24.0</td>\n",
       "      <td>NaN</td>\n",
       "      <td>22</td>\n",
       "      <td>NaN</td>\n",
       "      <td>...</td>\n",
       "      <td>18.90</td>\n",
       "      <td>2.0</td>\n",
       "      <td>Санкт-Петербург</td>\n",
       "      <td>23982.0</td>\n",
       "      <td>11634.0</td>\n",
       "      <td>0.0</td>\n",
       "      <td>NaN</td>\n",
       "      <td>0.0</td>\n",
       "      <td>NaN</td>\n",
       "      <td>NaN</td>\n",
       "    </tr>\n",
       "    <tr>\n",
       "      <td>8</td>\n",
       "      <td>20</td>\n",
       "      <td>2900000.0</td>\n",
       "      <td>33.16</td>\n",
       "      <td>2018-05-23T00:00:00</td>\n",
       "      <td>1</td>\n",
       "      <td>NaN</td>\n",
       "      <td>27.0</td>\n",
       "      <td>15.43</td>\n",
       "      <td>26</td>\n",
       "      <td>NaN</td>\n",
       "      <td>...</td>\n",
       "      <td>8.81</td>\n",
       "      <td>NaN</td>\n",
       "      <td>посёлок Мурино</td>\n",
       "      <td>NaN</td>\n",
       "      <td>NaN</td>\n",
       "      <td>NaN</td>\n",
       "      <td>NaN</td>\n",
       "      <td>NaN</td>\n",
       "      <td>NaN</td>\n",
       "      <td>189.0</td>\n",
       "    </tr>\n",
       "    <tr>\n",
       "      <td>9</td>\n",
       "      <td>18</td>\n",
       "      <td>5400000.0</td>\n",
       "      <td>61.00</td>\n",
       "      <td>2017-02-26T00:00:00</td>\n",
       "      <td>3</td>\n",
       "      <td>2.50</td>\n",
       "      <td>9.0</td>\n",
       "      <td>43.60</td>\n",
       "      <td>7</td>\n",
       "      <td>NaN</td>\n",
       "      <td>...</td>\n",
       "      <td>6.50</td>\n",
       "      <td>2.0</td>\n",
       "      <td>Санкт-Петербург</td>\n",
       "      <td>50898.0</td>\n",
       "      <td>15008.0</td>\n",
       "      <td>0.0</td>\n",
       "      <td>NaN</td>\n",
       "      <td>0.0</td>\n",
       "      <td>NaN</td>\n",
       "      <td>289.0</td>\n",
       "    </tr>\n",
       "    <tr>\n",
       "      <td>10</td>\n",
       "      <td>5</td>\n",
       "      <td>5050000.0</td>\n",
       "      <td>39.60</td>\n",
       "      <td>2017-11-16T00:00:00</td>\n",
       "      <td>1</td>\n",
       "      <td>2.67</td>\n",
       "      <td>12.0</td>\n",
       "      <td>20.30</td>\n",
       "      <td>3</td>\n",
       "      <td>NaN</td>\n",
       "      <td>...</td>\n",
       "      <td>8.50</td>\n",
       "      <td>NaN</td>\n",
       "      <td>Санкт-Петербург</td>\n",
       "      <td>38357.0</td>\n",
       "      <td>13878.0</td>\n",
       "      <td>1.0</td>\n",
       "      <td>310.0</td>\n",
       "      <td>2.0</td>\n",
       "      <td>553.0</td>\n",
       "      <td>137.0</td>\n",
       "    </tr>\n",
       "    <tr>\n",
       "      <td>11</td>\n",
       "      <td>9</td>\n",
       "      <td>3300000.0</td>\n",
       "      <td>44.00</td>\n",
       "      <td>2018-08-27T00:00:00</td>\n",
       "      <td>2</td>\n",
       "      <td>NaN</td>\n",
       "      <td>5.0</td>\n",
       "      <td>31.00</td>\n",
       "      <td>4</td>\n",
       "      <td>False</td>\n",
       "      <td>...</td>\n",
       "      <td>6.00</td>\n",
       "      <td>1.0</td>\n",
       "      <td>Ломоносов</td>\n",
       "      <td>48252.0</td>\n",
       "      <td>51677.0</td>\n",
       "      <td>0.0</td>\n",
       "      <td>NaN</td>\n",
       "      <td>0.0</td>\n",
       "      <td>NaN</td>\n",
       "      <td>7.0</td>\n",
       "    </tr>\n",
       "    <tr>\n",
       "      <td>12</td>\n",
       "      <td>10</td>\n",
       "      <td>3890000.0</td>\n",
       "      <td>54.00</td>\n",
       "      <td>2016-06-30T00:00:00</td>\n",
       "      <td>2</td>\n",
       "      <td>NaN</td>\n",
       "      <td>5.0</td>\n",
       "      <td>30.00</td>\n",
       "      <td>5</td>\n",
       "      <td>NaN</td>\n",
       "      <td>...</td>\n",
       "      <td>9.00</td>\n",
       "      <td>0.0</td>\n",
       "      <td>Сертолово</td>\n",
       "      <td>NaN</td>\n",
       "      <td>NaN</td>\n",
       "      <td>NaN</td>\n",
       "      <td>NaN</td>\n",
       "      <td>NaN</td>\n",
       "      <td>NaN</td>\n",
       "      <td>90.0</td>\n",
       "    </tr>\n",
       "    <tr>\n",
       "      <td>13</td>\n",
       "      <td>20</td>\n",
       "      <td>3550000.0</td>\n",
       "      <td>42.80</td>\n",
       "      <td>2017-07-01T00:00:00</td>\n",
       "      <td>2</td>\n",
       "      <td>2.56</td>\n",
       "      <td>5.0</td>\n",
       "      <td>27.00</td>\n",
       "      <td>5</td>\n",
       "      <td>NaN</td>\n",
       "      <td>...</td>\n",
       "      <td>5.20</td>\n",
       "      <td>1.0</td>\n",
       "      <td>Петергоф</td>\n",
       "      <td>37868.0</td>\n",
       "      <td>33058.0</td>\n",
       "      <td>1.0</td>\n",
       "      <td>294.0</td>\n",
       "      <td>3.0</td>\n",
       "      <td>298.0</td>\n",
       "      <td>366.0</td>\n",
       "    </tr>\n",
       "    <tr>\n",
       "      <td>14</td>\n",
       "      <td>1</td>\n",
       "      <td>4400000.0</td>\n",
       "      <td>36.00</td>\n",
       "      <td>2016-06-23T00:00:00</td>\n",
       "      <td>1</td>\n",
       "      <td>NaN</td>\n",
       "      <td>6.0</td>\n",
       "      <td>17.00</td>\n",
       "      <td>1</td>\n",
       "      <td>NaN</td>\n",
       "      <td>...</td>\n",
       "      <td>8.00</td>\n",
       "      <td>0.0</td>\n",
       "      <td>Пушкин</td>\n",
       "      <td>20782.0</td>\n",
       "      <td>30759.0</td>\n",
       "      <td>0.0</td>\n",
       "      <td>NaN</td>\n",
       "      <td>1.0</td>\n",
       "      <td>96.0</td>\n",
       "      <td>203.0</td>\n",
       "    </tr>\n",
       "  </tbody>\n",
       "</table>\n",
       "<p>15 rows × 22 columns</p>\n",
       "</div>"
      ],
      "text/plain": [
       "    total_images  last_price  total_area first_day_exposition  rooms  \\\n",
       "0             20  13000000.0      108.00  2019-03-07T00:00:00      3   \n",
       "1              7   3350000.0       40.40  2018-12-04T00:00:00      1   \n",
       "2             10   5196000.0       56.00  2015-08-20T00:00:00      2   \n",
       "3              0  64900000.0      159.00  2015-07-24T00:00:00      3   \n",
       "4              2  10000000.0      100.00  2018-06-19T00:00:00      2   \n",
       "5             10   2890000.0       30.40  2018-09-10T00:00:00      1   \n",
       "6              6   3700000.0       37.30  2017-11-02T00:00:00      1   \n",
       "7              5   7915000.0       71.60  2019-04-18T00:00:00      2   \n",
       "8             20   2900000.0       33.16  2018-05-23T00:00:00      1   \n",
       "9             18   5400000.0       61.00  2017-02-26T00:00:00      3   \n",
       "10             5   5050000.0       39.60  2017-11-16T00:00:00      1   \n",
       "11             9   3300000.0       44.00  2018-08-27T00:00:00      2   \n",
       "12            10   3890000.0       54.00  2016-06-30T00:00:00      2   \n",
       "13            20   3550000.0       42.80  2017-07-01T00:00:00      2   \n",
       "14             1   4400000.0       36.00  2016-06-23T00:00:00      1   \n",
       "\n",
       "    ceiling_height  floors_total  living_area  floor is_apartment  ...  \\\n",
       "0             2.70          16.0        51.00      8          NaN  ...   \n",
       "1              NaN          11.0        18.60      1          NaN  ...   \n",
       "2              NaN           5.0        34.30      4          NaN  ...   \n",
       "3              NaN          14.0          NaN      9          NaN  ...   \n",
       "4             3.03          14.0        32.00     13          NaN  ...   \n",
       "5              NaN          12.0        14.40      5          NaN  ...   \n",
       "6              NaN          26.0        10.60      6          NaN  ...   \n",
       "7              NaN          24.0          NaN     22          NaN  ...   \n",
       "8              NaN          27.0        15.43     26          NaN  ...   \n",
       "9             2.50           9.0        43.60      7          NaN  ...   \n",
       "10            2.67          12.0        20.30      3          NaN  ...   \n",
       "11             NaN           5.0        31.00      4        False  ...   \n",
       "12             NaN           5.0        30.00      5          NaN  ...   \n",
       "13            2.56           5.0        27.00      5          NaN  ...   \n",
       "14             NaN           6.0        17.00      1          NaN  ...   \n",
       "\n",
       "    kitchen_area  balcony              locality_name  airports_nearest  \\\n",
       "0          25.00      NaN            Санкт-Петербург           18863.0   \n",
       "1          11.00      2.0             посёлок Шушары           12817.0   \n",
       "2           8.30      0.0            Санкт-Петербург           21741.0   \n",
       "3            NaN      0.0            Санкт-Петербург           28098.0   \n",
       "4          41.00      NaN            Санкт-Петербург           31856.0   \n",
       "5           9.10      NaN  городской посёлок Янино-1               NaN   \n",
       "6          14.40      1.0          посёлок Парголово           52996.0   \n",
       "7          18.90      2.0            Санкт-Петербург           23982.0   \n",
       "8           8.81      NaN             посёлок Мурино               NaN   \n",
       "9           6.50      2.0            Санкт-Петербург           50898.0   \n",
       "10          8.50      NaN            Санкт-Петербург           38357.0   \n",
       "11          6.00      1.0                  Ломоносов           48252.0   \n",
       "12          9.00      0.0                  Сертолово               NaN   \n",
       "13          5.20      1.0                   Петергоф           37868.0   \n",
       "14          8.00      0.0                     Пушкин           20782.0   \n",
       "\n",
       "   cityCenters_nearest  parks_around3000  parks_nearest  ponds_around3000  \\\n",
       "0              16028.0               1.0          482.0               2.0   \n",
       "1              18603.0               0.0            NaN               0.0   \n",
       "2              13933.0               1.0           90.0               2.0   \n",
       "3               6800.0               2.0           84.0               3.0   \n",
       "4               8098.0               2.0          112.0               1.0   \n",
       "5                  NaN               NaN            NaN               NaN   \n",
       "6              19143.0               0.0            NaN               0.0   \n",
       "7              11634.0               0.0            NaN               0.0   \n",
       "8                  NaN               NaN            NaN               NaN   \n",
       "9              15008.0               0.0            NaN               0.0   \n",
       "10             13878.0               1.0          310.0               2.0   \n",
       "11             51677.0               0.0            NaN               0.0   \n",
       "12                 NaN               NaN            NaN               NaN   \n",
       "13             33058.0               1.0          294.0               3.0   \n",
       "14             30759.0               0.0            NaN               1.0   \n",
       "\n",
       "    ponds_nearest  days_exposition  \n",
       "0           755.0              NaN  \n",
       "1             NaN             81.0  \n",
       "2           574.0            558.0  \n",
       "3           234.0            424.0  \n",
       "4            48.0            121.0  \n",
       "5             NaN             55.0  \n",
       "6             NaN            155.0  \n",
       "7             NaN              NaN  \n",
       "8             NaN            189.0  \n",
       "9             NaN            289.0  \n",
       "10          553.0            137.0  \n",
       "11            NaN              7.0  \n",
       "12            NaN             90.0  \n",
       "13          298.0            366.0  \n",
       "14           96.0            203.0  \n",
       "\n",
       "[15 rows x 22 columns]"
      ]
     },
     "metadata": {},
     "output_type": "display_data"
    },
    {
     "name": "stdout",
     "output_type": "stream",
     "text": [
      "<class 'pandas.core.frame.DataFrame'>\n",
      "RangeIndex: 23699 entries, 0 to 23698\n",
      "Data columns (total 22 columns):\n",
      "total_images            23699 non-null int64\n",
      "last_price              23699 non-null float64\n",
      "total_area              23699 non-null float64\n",
      "first_day_exposition    23699 non-null object\n",
      "rooms                   23699 non-null int64\n",
      "ceiling_height          14504 non-null float64\n",
      "floors_total            23613 non-null float64\n",
      "living_area             21796 non-null float64\n",
      "floor                   23699 non-null int64\n",
      "is_apartment            2775 non-null object\n",
      "studio                  23699 non-null bool\n",
      "open_plan               23699 non-null bool\n",
      "kitchen_area            21421 non-null float64\n",
      "balcony                 12180 non-null float64\n",
      "locality_name           23650 non-null object\n",
      "airports_nearest        18157 non-null float64\n",
      "cityCenters_nearest     18180 non-null float64\n",
      "parks_around3000        18181 non-null float64\n",
      "parks_nearest           8079 non-null float64\n",
      "ponds_around3000        18181 non-null float64\n",
      "ponds_nearest           9110 non-null float64\n",
      "days_exposition         20518 non-null float64\n",
      "dtypes: bool(2), float64(14), int64(3), object(3)\n",
      "memory usage: 3.7+ MB\n"
     ]
    }
   ],
   "source": [
    "import pandas as pd\n",
    "df=pd.read_csv('/datasets/real_estate_data.csv', sep='\\t')\n",
    "display(df.head(15))\n",
    "df.info()"
   ]
  },
  {
   "cell_type": "markdown",
   "metadata": {},
   "source": [
    "Датафрейм состоит из 23699 записей и 22 столбцов. Причем, часть записей имеют пропуски. Посмотрим предметно, какие данные пропущены, и как мы можем их заменить. Для удобства переименуем столбец <b>cityCenters_nearest</b> в нижний регистр"
   ]
  },
  {
   "cell_type": "code",
   "execution_count": 2,
   "metadata": {},
   "outputs": [],
   "source": [
    "df=df.rename(columns={'cityCenters_nearest':'city_centers_nearest'})"
   ]
  },
  {
   "cell_type": "markdown",
   "metadata": {},
   "source": [
    "<h2>Предобработка данных </h2>"
   ]
  },
  {
   "cell_type": "markdown",
   "metadata": {},
   "source": [
    "Определим столбцы датафрейма, имеющие пропуски:"
   ]
  },
  {
   "cell_type": "code",
   "execution_count": 3,
   "metadata": {},
   "outputs": [
    {
     "data": {
      "text/plain": [
       "total_images                0\n",
       "last_price                  0\n",
       "total_area                  0\n",
       "first_day_exposition        0\n",
       "rooms                       0\n",
       "ceiling_height           9195\n",
       "floors_total               86\n",
       "living_area              1903\n",
       "floor                       0\n",
       "is_apartment            20924\n",
       "studio                      0\n",
       "open_plan                   0\n",
       "kitchen_area             2278\n",
       "balcony                 11519\n",
       "locality_name              49\n",
       "airports_nearest         5542\n",
       "city_centers_nearest     5519\n",
       "parks_around3000         5518\n",
       "parks_nearest           15620\n",
       "ponds_around3000         5518\n",
       "ponds_nearest           14589\n",
       "days_exposition          3181\n",
       "dtype: int64"
      ]
     },
     "execution_count": 3,
     "metadata": {},
     "output_type": "execute_result"
    }
   ],
   "source": [
    "df.isna().sum()"
   ]
  },
  {
   "cell_type": "markdown",
   "metadata": {},
   "source": [
    "Проверим наличие явных дубликатов:"
   ]
  },
  {
   "cell_type": "code",
   "execution_count": 4,
   "metadata": {},
   "outputs": [
    {
     "data": {
      "text/plain": [
       "0"
      ]
     },
     "execution_count": 4,
     "metadata": {},
     "output_type": "execute_result"
    }
   ],
   "source": [
    "df.duplicated().sum()"
   ]
  },
  {
   "cell_type": "markdown",
   "metadata": {},
   "source": [
    "Пойдем по порядку.\n",
    "<br><b>ceiling_height</b> - высота потолков. В перувю очередь, необходимо проверить, какие значения представлены, чтобы избавиться от явных аномалий. Далее заполнить высоту потолков средни занчением из имеющихся в выборке, т.к. это плюс-минус стандартная величина и разброс высоты потолков не должен быть большим."
   ]
  },
  {
   "cell_type": "code",
   "execution_count": 5,
   "metadata": {},
   "outputs": [
    {
     "name": "stdout",
     "output_type": "stream",
     "text": [
      "[  2.7     nan   3.03   2.5    2.67   2.56   3.05   2.75   2.6    2.9\n",
      "   2.8    2.55   3.     2.65   3.2    2.61   3.25   3.45   2.77   2.85\n",
      "   2.64   2.57   4.15   3.5    3.3    2.71   4.     2.47   2.73   2.84\n",
      "   3.1    2.34   3.4    3.06   2.72   2.54   2.51   2.78   2.76  25.\n",
      "   2.58   3.7    2.52   5.2    2.87   2.66   2.59   2.     2.45   3.6\n",
      "   2.92   3.11   3.13   3.8    3.15   3.55   3.16   3.62   3.12   2.53\n",
      "   2.74   2.96   2.46   5.3    5.     2.79   2.95   4.06   2.94   3.82\n",
      "   3.54   3.53   2.83   4.7    2.4    3.38   3.01   5.6    3.65   3.9\n",
      "   3.18   3.35   2.3    3.57   2.48   2.62   2.82   3.98   2.63   3.83\n",
      "   3.52   3.95   3.75   2.88   3.67   3.87   3.66   3.85   3.86   4.19\n",
      "   3.24   4.8    4.5    4.2    3.36  32.     3.08   3.68   3.07   3.37\n",
      "   3.09   8.     3.26   3.34   2.81   3.44   2.97   3.14   4.37   2.68\n",
      "   3.22   3.27  27.     4.1    2.93   3.46  24.     3.47   3.33   3.63\n",
      "   3.32  26.     1.2    8.3    2.98   2.86   3.17   4.4    3.28   3.04\n",
      "   4.45   5.5    3.84   3.23   3.02   3.21   3.43   3.78   4.3    3.39\n",
      "   2.69   3.31   4.65   3.56   2.2    3.51   3.93   3.42   2.99   3.49\n",
      "  14.     4.14   2.91   3.88   1.75   4.25   3.29  20.     2.25   3.76\n",
      "   3.69   6.    22.6    2.89   3.58   5.8   27.5    2.49   4.9    3.48\n",
      "  10.3    1.   100.     3.59]\n"
     ]
    }
   ],
   "source": [
    "print(df['ceiling_height'].unique())"
   ]
  },
  {
   "cell_type": "markdown",
   "metadata": {},
   "source": [
    "Очевидно, что не бывает потолков высотой менее 2 метров, а также вряд ли есть потолки в 20 метров и более. \n",
    "<br> В случае низких потолков (до 2 м) предлагаем заменить их на стандуртную высоту потолка в 2.6 метра.\n",
    "<br> А высоту потолков более 20 метров - разделить на 10, т.к. это явно ошибка заполнения формы.\n",
    "Что касается \"переходной\" высоты около 10 метров, считаем такое возможным, например, для двухуровневых квартир или лофтов свободной планировки."
   ]
  },
  {
   "cell_type": "code",
   "execution_count": 6,
   "metadata": {},
   "outputs": [
    {
     "name": "stdout",
     "output_type": "stream",
     "text": [
      "[ 2.7    nan  3.03  2.5   2.67  2.56  3.05  2.75  2.6   2.9   2.8   2.55\n",
      "  3.    2.65  3.2   2.61  3.25  3.45  2.77  2.85  2.64  2.57  4.15  3.5\n",
      "  3.3   2.71  4.    2.47  2.73  2.84  3.1   2.34  3.4   3.06  2.72  2.54\n",
      "  2.51  2.78  2.76  2.58  3.7   2.52  5.2   2.87  2.66  2.59  2.    2.45\n",
      "  3.6   2.92  3.11  3.13  3.8   3.15  3.55  3.16  3.62  3.12  2.53  2.74\n",
      "  2.96  2.46  5.3   5.    2.79  2.95  4.06  2.94  3.82  3.54  3.53  2.83\n",
      "  4.7   2.4   3.38  3.01  5.6   3.65  3.9   3.18  3.35  2.3   3.57  2.48\n",
      "  2.62  2.82  3.98  2.63  3.83  3.52  3.95  3.75  2.88  3.67  3.87  3.66\n",
      "  3.85  3.86  4.19  3.24  4.8   4.5   4.2   3.36  3.08  3.68  3.07  3.37\n",
      "  3.09  8.    3.26  3.34  2.81  3.44  2.97  3.14  4.37  2.68  3.22  3.27\n",
      "  4.1   2.93  3.46  3.47  3.33  3.63  3.32  8.3   2.98  2.86  3.17  4.4\n",
      "  3.28  3.04  4.45  5.5   3.84  3.23  3.02  3.21  3.43  3.78  4.3   3.39\n",
      "  2.69  3.31  4.65  3.56  2.2   3.51  3.93  3.42  2.99  3.49 14.    4.14\n",
      "  2.91  3.88  4.25  3.29  2.25  3.76  3.69  6.    2.26  2.89  3.58  5.8\n",
      "  2.49  4.9   3.48 10.3  10.    3.59]\n"
     ]
    }
   ],
   "source": [
    "df.loc[df['ceiling_height']<2,'ceiling_height']=2.6 #убираем слишком низкие потолки\n",
    "df.loc[df['ceiling_height']>=20,'ceiling_height']=(df['ceiling_height'])/10 #убираем слишком высокие потолки\n",
    "print(df['ceiling_height'].unique()) #проверяем результат замены"
   ]
  },
  {
   "cell_type": "markdown",
   "metadata": {},
   "source": [
    "Посчитаем среднее значение высоты потолков и заполним им оставшиеся пропуски средним."
   ]
  },
  {
   "cell_type": "code",
   "execution_count": 7,
   "metadata": {},
   "outputs": [
    {
     "name": "stdout",
     "output_type": "stream",
     "text": [
      "Средняя высота потолков 2.729873138444567\n"
     ]
    }
   ],
   "source": [
    "print('Средняя высота потолков', df['ceiling_height'].mean())\n",
    "df['ceiling_height']=df['ceiling_height'].fillna(df['ceiling_height'].mean())"
   ]
  },
  {
   "cell_type": "markdown",
   "metadata": {},
   "source": [
    "Далее - floors_total, <b>общее количество этажей</b>. Проверим на уникальные значения:"
   ]
  },
  {
   "cell_type": "code",
   "execution_count": 8,
   "metadata": {},
   "outputs": [
    {
     "name": "stdout",
     "output_type": "stream",
     "text": [
      "5.0     5788\n",
      "9.0     3761\n",
      "16.0    1376\n",
      "12.0    1362\n",
      "4.0     1200\n",
      "10.0    1174\n",
      "25.0    1075\n",
      "6.0      914\n",
      "17.0     833\n",
      "3.0      668\n",
      "7.0      592\n",
      "14.0     553\n",
      "18.0     505\n",
      "24.0     469\n",
      "8.0      390\n",
      "2.0      383\n",
      "15.0     365\n",
      "23.0     352\n",
      "19.0     339\n",
      "22.0     286\n",
      "20.0     271\n",
      "13.0     229\n",
      "11.0     203\n",
      "27.0     164\n",
      "21.0     158\n",
      "26.0     124\n",
      "1.0       25\n",
      "35.0      24\n",
      "28.0      21\n",
      "36.0       3\n",
      "29.0       1\n",
      "60.0       1\n",
      "33.0       1\n",
      "52.0       1\n",
      "37.0       1\n",
      "34.0       1\n",
      "Name: floors_total, dtype: int64\n"
     ]
    }
   ],
   "source": [
    "print(df['floors_total'].value_counts())"
   ]
  },
  {
   "cell_type": "markdown",
   "metadata": {},
   "source": [
    "Явные аномалии в количестве этажей отсутствуют. Есть единичные случаи квартир в зданиях очень высокой этажности, теоретически такое возможно. 68 строк с отсутствующими данными можно не заполнять, т.к. во-первых, они несильно вляиют на дальнейшие выборки за счёт малого количества, а во-вторых, метрика общего колчества этажей не будет являться определяющей."
   ]
  },
  {
   "cell_type": "markdown",
   "metadata": {},
   "source": [
    "Следующий параметра - <b>living_area</b>, общая жилая площадь. Столбец имеет 1903 пропуска. Это довольно много, плюс параметр площади является определяющим для описания набора данных о жилых поммещениях.\n",
    "<br> Мы можем заметить, что столбец <b>rooms</b> не имеет пропусков. То етсь мы можем посчитать среднюю площадь комнаты и заполнить пропуски общей площади произведением количества комнат на ее среднюю площадь. "
   ]
  },
  {
   "cell_type": "code",
   "execution_count": 9,
   "metadata": {},
   "outputs": [
    {
     "name": "stdout",
     "output_type": "stream",
     "text": [
      "Средняя площадь комнат 16.64\n"
     ]
    }
   ],
   "source": [
    "#найдем среднюю площадь комант\n",
    "room_avg_area=df['living_area'].mean()/df['rooms'].mean()\n",
    "print('Средняя площадь комнат',\"%.2f\" % room_avg_area)"
   ]
  },
  {
   "cell_type": "markdown",
   "metadata": {},
   "source": [
    "Заменим пропуски площади через среднюю площадь комнат:"
   ]
  },
  {
   "cell_type": "code",
   "execution_count": 10,
   "metadata": {},
   "outputs": [],
   "source": [
    "df['living_area']=df['living_area'].fillna(df['rooms']*room_avg_area)"
   ]
  },
  {
   "cell_type": "markdown",
   "metadata": {},
   "source": [
    "Проверим параметр - <b>is_apartment</b>, логический параметр, который описывает относится ли данное помещение к апартаментам (в случае,е сли занчение True), или к жилому фонду (если значение False). В случае наличия пропусков их целесообразно заполнить значениями False, т.к. большинство недвижимости, как правило, не является апартаментами. "
   ]
  },
  {
   "cell_type": "code",
   "execution_count": 11,
   "metadata": {},
   "outputs": [
    {
     "name": "stdout",
     "output_type": "stream",
     "text": [
      "False    2725\n",
      "True       50\n",
      "Name: is_apartment, dtype: int64\n",
      "Пропусков значений: 20924\n"
     ]
    }
   ],
   "source": [
    "print(df['is_apartment'].value_counts()) #считаем значения\n",
    "print('Пропусков значений:',df['is_apartment'].isna().sum())#и количесвто пропусков"
   ]
  },
  {
   "cell_type": "markdown",
   "metadata": {},
   "source": [
    "Заполним пропуски и присвоим переменным тип bool:"
   ]
  },
  {
   "cell_type": "code",
   "execution_count": 12,
   "metadata": {},
   "outputs": [],
   "source": [
    "df['is_apartment']=df['is_apartment'].fillna(False).astype(bool)"
   ]
  },
  {
   "cell_type": "markdown",
   "metadata": {},
   "source": [
    "Проверим итоговое количество пропусков в датасете:"
   ]
  },
  {
   "cell_type": "markdown",
   "metadata": {},
   "source": [
    "Значения столбца <b>kitchen_area</b> - площадь кухни, целесообразно заменить просто средним занчением, без привязки к жилой площади, т.к. и трех- и однокомнатная квартиры могут иметь сопоставимую по площади кухню. предварительно проверим среднюю площадь кухни на адеватность величины."
   ]
  },
  {
   "cell_type": "code",
   "execution_count": 13,
   "metadata": {},
   "outputs": [
    {
     "name": "stdout",
     "output_type": "stream",
     "text": [
      "Средняя площадь кухни, м2 10.57\n"
     ]
    }
   ],
   "source": [
    "kitchen_area_mean=df['kitchen_area'].mean()\n",
    "print('Средняя площадь кухни, м2',\"%.2f\" % kitchen_area_mean)\n",
    "df['kitchen_area']=df['kitchen_area'].fillna(kitchen_area_mean)"
   ]
  },
  {
   "cell_type": "markdown",
   "metadata": {},
   "source": [
    "Перейдем к балконам. Опишем имеющиеся значения для столбца <b>balcony</b>"
   ]
  },
  {
   "cell_type": "code",
   "execution_count": 14,
   "metadata": {},
   "outputs": [
    {
     "data": {
      "text/plain": [
       "array([nan,  2.,  0.,  1.,  5.,  4.,  3.])"
      ]
     },
     "execution_count": 14,
     "metadata": {},
     "output_type": "execute_result"
    }
   ],
   "source": [
    "df['balcony'].unique()"
   ]
  },
  {
   "cell_type": "markdown",
   "metadata": {},
   "source": [
    "Во-первых, небообсновано выбран формат данных float, который целесообразно заменить на int. Во-вторых, пропуски означают, что пользователь оставил поле \"балкон\" пустым, т.е. скорее всего его  нет. Такие занчения можно заменить на ноль."
   ]
  },
  {
   "cell_type": "code",
   "execution_count": 15,
   "metadata": {},
   "outputs": [
    {
     "data": {
      "text/plain": [
       "array([0, 2, 1, 5, 4, 3])"
      ]
     },
     "execution_count": 15,
     "metadata": {},
     "output_type": "execute_result"
    }
   ],
   "source": [
    "df['balcony']=df['balcony'].fillna(0).astype(int)\n",
    "df['balcony'].unique()"
   ]
  },
  {
   "cell_type": "markdown",
   "metadata": {},
   "source": [
    "Для значения <b>locality name</b> сложно предложить какую-то логическую замену, плюс количество пропусков невелико (49 значений), так что данный столбец можно оставить без изменений."
   ]
  },
  {
   "cell_type": "markdown",
   "metadata": {},
   "source": [
    "Исследуем значения столбца <b>airports_nearest</b>. Проверим максимально близкие и максимально далекие локации:"
   ]
  },
  {
   "cell_type": "code",
   "execution_count": 16,
   "metadata": {},
   "outputs": [
    {
     "data": {
      "text/plain": [
       "21085       0.0\n",
       "12899    6450.0\n",
       "4017     6450.0\n",
       "7778     6914.0\n",
       "23150    6949.0\n",
       "10059    6989.0\n",
       "22283    6989.0\n",
       "5062     6989.0\n",
       "15633    6989.0\n",
       "11294    6989.0\n",
       "5074     6989.0\n",
       "10986    6992.0\n",
       "895      6995.0\n",
       "16576    6995.0\n",
       "15336    7002.0\n",
       "Name: airports_nearest, dtype: float64"
      ]
     },
     "metadata": {},
     "output_type": "display_data"
    },
    {
     "data": {
      "text/plain": [
       "9640     84869.0\n",
       "5340     84853.0\n",
       "577      84665.0\n",
       "20746    84006.0\n",
       "5218     83758.0\n",
       "18884    81607.0\n",
       "2974     81355.0\n",
       "4441     78527.0\n",
       "939      75646.0\n",
       "376      73827.0\n",
       "6247     73547.0\n",
       "22941    73391.0\n",
       "22855    73115.0\n",
       "11244    72713.0\n",
       "18096    72469.0\n",
       "Name: airports_nearest, dtype: float64"
      ]
     },
     "metadata": {},
     "output_type": "display_data"
    }
   ],
   "source": [
    "display(df['airports_nearest'].sort_values(ascending=True).head(15))\n",
    "display(df['airports_nearest'].sort_values(ascending=False).head(15))"
   ]
  },
  {
   "cell_type": "markdown",
   "metadata": {},
   "source": [
    "Значения меняются от 6,5 до 72 км. В принципе, это адекватный диапазон.\n",
    "Проверим также остальные минимальные и максимальные значения для оставшихся столбцов."
   ]
  },
  {
   "cell_type": "code",
   "execution_count": 17,
   "metadata": {},
   "outputs": [
    {
     "name": "stdout",
     "output_type": "stream",
     "text": [
      "Минимальная удаленность от центра, км 0.181 Максимальная удалённость от центра, км 65.968\n",
      "Минимальное расстояние до парка, км 0.001 Максимальное расстояние до парка, км 3.19\n",
      "Минимальное расстояние до пруда, км 0.013 Максимальное расстояние до пруда, км 1.344\n"
     ]
    }
   ],
   "source": [
    "print('Минимальная удаленность от центра, км',df['city_centers_nearest'].min()/1000,\n",
    "      'Максимальная удалённость от центра, км',df['city_centers_nearest'].max()/1000)\n",
    "print('Минимальное расстояние до парка, км',df['parks_nearest'].min()/1000,\n",
    "      'Максимальное расстояние до парка, км',df['parks_nearest'].max()/1000)\n",
    "print('Минимальное расстояние до пруда, км',df['ponds_nearest'].min()/1000,\n",
    "      'Максимальное расстояние до пруда, км',df['ponds_nearest'].max()/1000)"
   ]
  },
  {
   "cell_type": "markdown",
   "metadata": {},
   "source": [
    "Предоставленные данные логичны, но большое количество пропусков также нельзя заменить, исходя из какой-то общей логики.\n",
    "<br>Очевидно, что пропуски вызваны незаполнением данных значений продавцами квартир, т.к. эти данные либо воспринимаются второстепенными по значимости, либо просто неизвестны продавцам квартир. \n",
    "<br>Данные в ячейках, связанных с расположением объектов, как и данные по количеству дней экспонирования квартир оставляем с пропусками."
   ]
  },
  {
   "cell_type": "code",
   "execution_count": 18,
   "metadata": {},
   "outputs": [
    {
     "name": "stdout",
     "output_type": "stream",
     "text": [
      "total_images                0\n",
      "last_price                  0\n",
      "total_area                  0\n",
      "first_day_exposition        0\n",
      "rooms                       0\n",
      "ceiling_height              0\n",
      "floors_total               86\n",
      "living_area                 0\n",
      "floor                       0\n",
      "is_apartment                0\n",
      "studio                      0\n",
      "open_plan                   0\n",
      "kitchen_area                0\n",
      "balcony                     0\n",
      "locality_name              49\n",
      "airports_nearest         5542\n",
      "city_centers_nearest     5519\n",
      "parks_around3000         5518\n",
      "parks_nearest           15620\n",
      "ponds_around3000         5518\n",
      "ponds_nearest           14589\n",
      "days_exposition          3181\n",
      "dtype: int64\n"
     ]
    }
   ],
   "source": [
    "print(df.isna().sum())"
   ]
  },
  {
   "cell_type": "markdown",
   "metadata": {},
   "source": [
    "### Вывод"
   ]
  },
  {
   "cell_type": "markdown",
   "metadata": {},
   "source": [
    "В общем, удалось избавиться от явных пропусков данных в датафрейме в тех значениях, которые просчитываются, исходя из логики (например, наличие/отсутсвие балконов или средняя площадь комнат), либо из общих представлений о размерности квартир (например, высоты потолков). \n",
    "<br>Часть пропущенных значений либо невелика или не представляет важности - например, количество этажей или наименование локации.\n",
    "<br>А часть отсутстующих значений, связанных с расположением объекта по отношению к другим объектам (центр города, парки, пруды, аэропорты) невозможно определить, исходя из имеющихся данных. Тем не менее таких пропущенных значений много (порядка 20% от общего числа строк в датафрейме), поэтому убрать мы их не можем и оставляем просто пустыми. "
   ]
  },
  {
   "cell_type": "markdown",
   "metadata": {},
   "source": [
    "## Расчёты и добавление результатов в таблицу"
   ]
  },
  {
   "cell_type": "markdown",
   "metadata": {},
   "source": [
    "Посчитаем и добавим в таблицу стоимость квадратного метра"
   ]
  },
  {
   "cell_type": "code",
   "execution_count": 19,
   "metadata": {
    "scrolled": true
   },
   "outputs": [
    {
     "data": {
      "text/html": [
       "<div>\n",
       "<style scoped>\n",
       "    .dataframe tbody tr th:only-of-type {\n",
       "        vertical-align: middle;\n",
       "    }\n",
       "\n",
       "    .dataframe tbody tr th {\n",
       "        vertical-align: top;\n",
       "    }\n",
       "\n",
       "    .dataframe thead th {\n",
       "        text-align: right;\n",
       "    }\n",
       "</style>\n",
       "<table border=\"1\" class=\"dataframe\">\n",
       "  <thead>\n",
       "    <tr style=\"text-align: right;\">\n",
       "      <th></th>\n",
       "      <th>total_images</th>\n",
       "      <th>last_price</th>\n",
       "      <th>total_area</th>\n",
       "      <th>first_day_exposition</th>\n",
       "      <th>rooms</th>\n",
       "      <th>ceiling_height</th>\n",
       "      <th>floors_total</th>\n",
       "      <th>living_area</th>\n",
       "      <th>floor</th>\n",
       "      <th>is_apartment</th>\n",
       "      <th>...</th>\n",
       "      <th>balcony</th>\n",
       "      <th>locality_name</th>\n",
       "      <th>airports_nearest</th>\n",
       "      <th>city_centers_nearest</th>\n",
       "      <th>parks_around3000</th>\n",
       "      <th>parks_nearest</th>\n",
       "      <th>ponds_around3000</th>\n",
       "      <th>ponds_nearest</th>\n",
       "      <th>days_exposition</th>\n",
       "      <th>meter_price</th>\n",
       "    </tr>\n",
       "  </thead>\n",
       "  <tbody>\n",
       "    <tr>\n",
       "      <td>0</td>\n",
       "      <td>20</td>\n",
       "      <td>13000000.0</td>\n",
       "      <td>108.0</td>\n",
       "      <td>2019-03-07T00:00:00</td>\n",
       "      <td>3</td>\n",
       "      <td>2.700000</td>\n",
       "      <td>16.0</td>\n",
       "      <td>51.00000</td>\n",
       "      <td>8</td>\n",
       "      <td>False</td>\n",
       "      <td>...</td>\n",
       "      <td>0</td>\n",
       "      <td>Санкт-Петербург</td>\n",
       "      <td>18863.0</td>\n",
       "      <td>16028.0</td>\n",
       "      <td>1.0</td>\n",
       "      <td>482.0</td>\n",
       "      <td>2.0</td>\n",
       "      <td>755.0</td>\n",
       "      <td>NaN</td>\n",
       "      <td>120370.370370</td>\n",
       "    </tr>\n",
       "    <tr>\n",
       "      <td>1</td>\n",
       "      <td>7</td>\n",
       "      <td>3350000.0</td>\n",
       "      <td>40.4</td>\n",
       "      <td>2018-12-04T00:00:00</td>\n",
       "      <td>1</td>\n",
       "      <td>2.729873</td>\n",
       "      <td>11.0</td>\n",
       "      <td>18.60000</td>\n",
       "      <td>1</td>\n",
       "      <td>False</td>\n",
       "      <td>...</td>\n",
       "      <td>2</td>\n",
       "      <td>посёлок Шушары</td>\n",
       "      <td>12817.0</td>\n",
       "      <td>18603.0</td>\n",
       "      <td>0.0</td>\n",
       "      <td>NaN</td>\n",
       "      <td>0.0</td>\n",
       "      <td>NaN</td>\n",
       "      <td>81.0</td>\n",
       "      <td>82920.792079</td>\n",
       "    </tr>\n",
       "    <tr>\n",
       "      <td>2</td>\n",
       "      <td>10</td>\n",
       "      <td>5196000.0</td>\n",
       "      <td>56.0</td>\n",
       "      <td>2015-08-20T00:00:00</td>\n",
       "      <td>2</td>\n",
       "      <td>2.729873</td>\n",
       "      <td>5.0</td>\n",
       "      <td>34.30000</td>\n",
       "      <td>4</td>\n",
       "      <td>False</td>\n",
       "      <td>...</td>\n",
       "      <td>0</td>\n",
       "      <td>Санкт-Петербург</td>\n",
       "      <td>21741.0</td>\n",
       "      <td>13933.0</td>\n",
       "      <td>1.0</td>\n",
       "      <td>90.0</td>\n",
       "      <td>2.0</td>\n",
       "      <td>574.0</td>\n",
       "      <td>558.0</td>\n",
       "      <td>92785.714286</td>\n",
       "    </tr>\n",
       "    <tr>\n",
       "      <td>3</td>\n",
       "      <td>0</td>\n",
       "      <td>64900000.0</td>\n",
       "      <td>159.0</td>\n",
       "      <td>2015-07-24T00:00:00</td>\n",
       "      <td>3</td>\n",
       "      <td>2.729873</td>\n",
       "      <td>14.0</td>\n",
       "      <td>49.92358</td>\n",
       "      <td>9</td>\n",
       "      <td>False</td>\n",
       "      <td>...</td>\n",
       "      <td>0</td>\n",
       "      <td>Санкт-Петербург</td>\n",
       "      <td>28098.0</td>\n",
       "      <td>6800.0</td>\n",
       "      <td>2.0</td>\n",
       "      <td>84.0</td>\n",
       "      <td>3.0</td>\n",
       "      <td>234.0</td>\n",
       "      <td>424.0</td>\n",
       "      <td>408176.100629</td>\n",
       "    </tr>\n",
       "    <tr>\n",
       "      <td>4</td>\n",
       "      <td>2</td>\n",
       "      <td>10000000.0</td>\n",
       "      <td>100.0</td>\n",
       "      <td>2018-06-19T00:00:00</td>\n",
       "      <td>2</td>\n",
       "      <td>3.030000</td>\n",
       "      <td>14.0</td>\n",
       "      <td>32.00000</td>\n",
       "      <td>13</td>\n",
       "      <td>False</td>\n",
       "      <td>...</td>\n",
       "      <td>0</td>\n",
       "      <td>Санкт-Петербург</td>\n",
       "      <td>31856.0</td>\n",
       "      <td>8098.0</td>\n",
       "      <td>2.0</td>\n",
       "      <td>112.0</td>\n",
       "      <td>1.0</td>\n",
       "      <td>48.0</td>\n",
       "      <td>121.0</td>\n",
       "      <td>100000.000000</td>\n",
       "    </tr>\n",
       "  </tbody>\n",
       "</table>\n",
       "<p>5 rows × 23 columns</p>\n",
       "</div>"
      ],
      "text/plain": [
       "   total_images  last_price  total_area first_day_exposition  rooms  \\\n",
       "0            20  13000000.0       108.0  2019-03-07T00:00:00      3   \n",
       "1             7   3350000.0        40.4  2018-12-04T00:00:00      1   \n",
       "2            10   5196000.0        56.0  2015-08-20T00:00:00      2   \n",
       "3             0  64900000.0       159.0  2015-07-24T00:00:00      3   \n",
       "4             2  10000000.0       100.0  2018-06-19T00:00:00      2   \n",
       "\n",
       "   ceiling_height  floors_total  living_area  floor  is_apartment  ...  \\\n",
       "0        2.700000          16.0     51.00000      8         False  ...   \n",
       "1        2.729873          11.0     18.60000      1         False  ...   \n",
       "2        2.729873           5.0     34.30000      4         False  ...   \n",
       "3        2.729873          14.0     49.92358      9         False  ...   \n",
       "4        3.030000          14.0     32.00000     13         False  ...   \n",
       "\n",
       "   balcony    locality_name  airports_nearest  city_centers_nearest  \\\n",
       "0        0  Санкт-Петербург           18863.0               16028.0   \n",
       "1        2   посёлок Шушары           12817.0               18603.0   \n",
       "2        0  Санкт-Петербург           21741.0               13933.0   \n",
       "3        0  Санкт-Петербург           28098.0                6800.0   \n",
       "4        0  Санкт-Петербург           31856.0                8098.0   \n",
       "\n",
       "  parks_around3000  parks_nearest  ponds_around3000  ponds_nearest  \\\n",
       "0              1.0          482.0               2.0          755.0   \n",
       "1              0.0            NaN               0.0            NaN   \n",
       "2              1.0           90.0               2.0          574.0   \n",
       "3              2.0           84.0               3.0          234.0   \n",
       "4              2.0          112.0               1.0           48.0   \n",
       "\n",
       "   days_exposition    meter_price  \n",
       "0              NaN  120370.370370  \n",
       "1             81.0   82920.792079  \n",
       "2            558.0   92785.714286  \n",
       "3            424.0  408176.100629  \n",
       "4            121.0  100000.000000  \n",
       "\n",
       "[5 rows x 23 columns]"
      ]
     },
     "metadata": {},
     "output_type": "display_data"
    }
   ],
   "source": [
    "df['meter_price']=df['last_price']/df['total_area']\n",
    "display(df.head())"
   ]
  },
  {
   "cell_type": "markdown",
   "metadata": {},
   "source": [
    "Добавим столбцы с днём недели, месяцем и годом публикации объявления"
   ]
  },
  {
   "cell_type": "code",
   "execution_count": 20,
   "metadata": {},
   "outputs": [
    {
     "data": {
      "text/html": [
       "<div>\n",
       "<style scoped>\n",
       "    .dataframe tbody tr th:only-of-type {\n",
       "        vertical-align: middle;\n",
       "    }\n",
       "\n",
       "    .dataframe tbody tr th {\n",
       "        vertical-align: top;\n",
       "    }\n",
       "\n",
       "    .dataframe thead th {\n",
       "        text-align: right;\n",
       "    }\n",
       "</style>\n",
       "<table border=\"1\" class=\"dataframe\">\n",
       "  <thead>\n",
       "    <tr style=\"text-align: right;\">\n",
       "      <th></th>\n",
       "      <th>total_images</th>\n",
       "      <th>last_price</th>\n",
       "      <th>total_area</th>\n",
       "      <th>first_day_exposition</th>\n",
       "      <th>rooms</th>\n",
       "      <th>ceiling_height</th>\n",
       "      <th>floors_total</th>\n",
       "      <th>living_area</th>\n",
       "      <th>floor</th>\n",
       "      <th>is_apartment</th>\n",
       "      <th>...</th>\n",
       "      <th>city_centers_nearest</th>\n",
       "      <th>parks_around3000</th>\n",
       "      <th>parks_nearest</th>\n",
       "      <th>ponds_around3000</th>\n",
       "      <th>ponds_nearest</th>\n",
       "      <th>days_exposition</th>\n",
       "      <th>meter_price</th>\n",
       "      <th>week_day</th>\n",
       "      <th>month</th>\n",
       "      <th>year</th>\n",
       "    </tr>\n",
       "  </thead>\n",
       "  <tbody>\n",
       "    <tr>\n",
       "      <td>0</td>\n",
       "      <td>20</td>\n",
       "      <td>13000000.0</td>\n",
       "      <td>108.0</td>\n",
       "      <td>2019-03-07</td>\n",
       "      <td>3</td>\n",
       "      <td>2.700000</td>\n",
       "      <td>16.0</td>\n",
       "      <td>51.00000</td>\n",
       "      <td>8</td>\n",
       "      <td>False</td>\n",
       "      <td>...</td>\n",
       "      <td>16028.0</td>\n",
       "      <td>1.0</td>\n",
       "      <td>482.0</td>\n",
       "      <td>2.0</td>\n",
       "      <td>755.0</td>\n",
       "      <td>NaN</td>\n",
       "      <td>120370.370370</td>\n",
       "      <td>3</td>\n",
       "      <td>3</td>\n",
       "      <td>2019</td>\n",
       "    </tr>\n",
       "    <tr>\n",
       "      <td>1</td>\n",
       "      <td>7</td>\n",
       "      <td>3350000.0</td>\n",
       "      <td>40.4</td>\n",
       "      <td>2018-12-04</td>\n",
       "      <td>1</td>\n",
       "      <td>2.729873</td>\n",
       "      <td>11.0</td>\n",
       "      <td>18.60000</td>\n",
       "      <td>1</td>\n",
       "      <td>False</td>\n",
       "      <td>...</td>\n",
       "      <td>18603.0</td>\n",
       "      <td>0.0</td>\n",
       "      <td>NaN</td>\n",
       "      <td>0.0</td>\n",
       "      <td>NaN</td>\n",
       "      <td>81.0</td>\n",
       "      <td>82920.792079</td>\n",
       "      <td>1</td>\n",
       "      <td>12</td>\n",
       "      <td>2018</td>\n",
       "    </tr>\n",
       "    <tr>\n",
       "      <td>2</td>\n",
       "      <td>10</td>\n",
       "      <td>5196000.0</td>\n",
       "      <td>56.0</td>\n",
       "      <td>2015-08-20</td>\n",
       "      <td>2</td>\n",
       "      <td>2.729873</td>\n",
       "      <td>5.0</td>\n",
       "      <td>34.30000</td>\n",
       "      <td>4</td>\n",
       "      <td>False</td>\n",
       "      <td>...</td>\n",
       "      <td>13933.0</td>\n",
       "      <td>1.0</td>\n",
       "      <td>90.0</td>\n",
       "      <td>2.0</td>\n",
       "      <td>574.0</td>\n",
       "      <td>558.0</td>\n",
       "      <td>92785.714286</td>\n",
       "      <td>3</td>\n",
       "      <td>8</td>\n",
       "      <td>2015</td>\n",
       "    </tr>\n",
       "    <tr>\n",
       "      <td>3</td>\n",
       "      <td>0</td>\n",
       "      <td>64900000.0</td>\n",
       "      <td>159.0</td>\n",
       "      <td>2015-07-24</td>\n",
       "      <td>3</td>\n",
       "      <td>2.729873</td>\n",
       "      <td>14.0</td>\n",
       "      <td>49.92358</td>\n",
       "      <td>9</td>\n",
       "      <td>False</td>\n",
       "      <td>...</td>\n",
       "      <td>6800.0</td>\n",
       "      <td>2.0</td>\n",
       "      <td>84.0</td>\n",
       "      <td>3.0</td>\n",
       "      <td>234.0</td>\n",
       "      <td>424.0</td>\n",
       "      <td>408176.100629</td>\n",
       "      <td>4</td>\n",
       "      <td>7</td>\n",
       "      <td>2015</td>\n",
       "    </tr>\n",
       "    <tr>\n",
       "      <td>4</td>\n",
       "      <td>2</td>\n",
       "      <td>10000000.0</td>\n",
       "      <td>100.0</td>\n",
       "      <td>2018-06-19</td>\n",
       "      <td>2</td>\n",
       "      <td>3.030000</td>\n",
       "      <td>14.0</td>\n",
       "      <td>32.00000</td>\n",
       "      <td>13</td>\n",
       "      <td>False</td>\n",
       "      <td>...</td>\n",
       "      <td>8098.0</td>\n",
       "      <td>2.0</td>\n",
       "      <td>112.0</td>\n",
       "      <td>1.0</td>\n",
       "      <td>48.0</td>\n",
       "      <td>121.0</td>\n",
       "      <td>100000.000000</td>\n",
       "      <td>1</td>\n",
       "      <td>6</td>\n",
       "      <td>2018</td>\n",
       "    </tr>\n",
       "  </tbody>\n",
       "</table>\n",
       "<p>5 rows × 26 columns</p>\n",
       "</div>"
      ],
      "text/plain": [
       "   total_images  last_price  total_area first_day_exposition  rooms  \\\n",
       "0            20  13000000.0       108.0           2019-03-07      3   \n",
       "1             7   3350000.0        40.4           2018-12-04      1   \n",
       "2            10   5196000.0        56.0           2015-08-20      2   \n",
       "3             0  64900000.0       159.0           2015-07-24      3   \n",
       "4             2  10000000.0       100.0           2018-06-19      2   \n",
       "\n",
       "   ceiling_height  floors_total  living_area  floor  is_apartment  ...  \\\n",
       "0        2.700000          16.0     51.00000      8         False  ...   \n",
       "1        2.729873          11.0     18.60000      1         False  ...   \n",
       "2        2.729873           5.0     34.30000      4         False  ...   \n",
       "3        2.729873          14.0     49.92358      9         False  ...   \n",
       "4        3.030000          14.0     32.00000     13         False  ...   \n",
       "\n",
       "   city_centers_nearest  parks_around3000  parks_nearest  ponds_around3000  \\\n",
       "0               16028.0               1.0          482.0               2.0   \n",
       "1               18603.0               0.0            NaN               0.0   \n",
       "2               13933.0               1.0           90.0               2.0   \n",
       "3                6800.0               2.0           84.0               3.0   \n",
       "4                8098.0               2.0          112.0               1.0   \n",
       "\n",
       "  ponds_nearest  days_exposition    meter_price  week_day  month  year  \n",
       "0         755.0              NaN  120370.370370         3      3  2019  \n",
       "1           NaN             81.0   82920.792079         1     12  2018  \n",
       "2         574.0            558.0   92785.714286         3      8  2015  \n",
       "3         234.0            424.0  408176.100629         4      7  2015  \n",
       "4          48.0            121.0  100000.000000         1      6  2018  \n",
       "\n",
       "[5 rows x 26 columns]"
      ]
     },
     "metadata": {},
     "output_type": "display_data"
    }
   ],
   "source": [
    "df['first_day_exposition']=pd.to_datetime(df['first_day_exposition'], format='%Y-%m-%dT%H:%M')\n",
    "df['week_day']=df['first_day_exposition'].dt.weekday\n",
    "df['month']=df['first_day_exposition'].dt.month\n",
    "df['year']=df['first_day_exposition'].dt.year\n",
    "display(df.head())"
   ]
  },
  {
   "cell_type": "markdown",
   "metadata": {},
   "source": [
    "Добавим столбец со значением этажа - первый, последний, другой"
   ]
  },
  {
   "cell_type": "code",
   "execution_count": 21,
   "metadata": {
    "scrolled": true
   },
   "outputs": [
    {
     "data": {
      "text/html": [
       "<div>\n",
       "<style scoped>\n",
       "    .dataframe tbody tr th:only-of-type {\n",
       "        vertical-align: middle;\n",
       "    }\n",
       "\n",
       "    .dataframe tbody tr th {\n",
       "        vertical-align: top;\n",
       "    }\n",
       "\n",
       "    .dataframe thead th {\n",
       "        text-align: right;\n",
       "    }\n",
       "</style>\n",
       "<table border=\"1\" class=\"dataframe\">\n",
       "  <thead>\n",
       "    <tr style=\"text-align: right;\">\n",
       "      <th></th>\n",
       "      <th>total_images</th>\n",
       "      <th>last_price</th>\n",
       "      <th>total_area</th>\n",
       "      <th>first_day_exposition</th>\n",
       "      <th>rooms</th>\n",
       "      <th>ceiling_height</th>\n",
       "      <th>floors_total</th>\n",
       "      <th>living_area</th>\n",
       "      <th>floor</th>\n",
       "      <th>is_apartment</th>\n",
       "      <th>...</th>\n",
       "      <th>parks_around3000</th>\n",
       "      <th>parks_nearest</th>\n",
       "      <th>ponds_around3000</th>\n",
       "      <th>ponds_nearest</th>\n",
       "      <th>days_exposition</th>\n",
       "      <th>meter_price</th>\n",
       "      <th>week_day</th>\n",
       "      <th>month</th>\n",
       "      <th>year</th>\n",
       "      <th>floor_type</th>\n",
       "    </tr>\n",
       "  </thead>\n",
       "  <tbody>\n",
       "    <tr>\n",
       "      <td>0</td>\n",
       "      <td>20</td>\n",
       "      <td>13000000.0</td>\n",
       "      <td>108.0</td>\n",
       "      <td>2019-03-07</td>\n",
       "      <td>3</td>\n",
       "      <td>2.700000</td>\n",
       "      <td>16.0</td>\n",
       "      <td>51.00000</td>\n",
       "      <td>8</td>\n",
       "      <td>False</td>\n",
       "      <td>...</td>\n",
       "      <td>1.0</td>\n",
       "      <td>482.0</td>\n",
       "      <td>2.0</td>\n",
       "      <td>755.0</td>\n",
       "      <td>NaN</td>\n",
       "      <td>120370.370370</td>\n",
       "      <td>3</td>\n",
       "      <td>3</td>\n",
       "      <td>2019</td>\n",
       "      <td>Other</td>\n",
       "    </tr>\n",
       "    <tr>\n",
       "      <td>1</td>\n",
       "      <td>7</td>\n",
       "      <td>3350000.0</td>\n",
       "      <td>40.4</td>\n",
       "      <td>2018-12-04</td>\n",
       "      <td>1</td>\n",
       "      <td>2.729873</td>\n",
       "      <td>11.0</td>\n",
       "      <td>18.60000</td>\n",
       "      <td>1</td>\n",
       "      <td>False</td>\n",
       "      <td>...</td>\n",
       "      <td>0.0</td>\n",
       "      <td>NaN</td>\n",
       "      <td>0.0</td>\n",
       "      <td>NaN</td>\n",
       "      <td>81.0</td>\n",
       "      <td>82920.792079</td>\n",
       "      <td>1</td>\n",
       "      <td>12</td>\n",
       "      <td>2018</td>\n",
       "      <td>First</td>\n",
       "    </tr>\n",
       "    <tr>\n",
       "      <td>2</td>\n",
       "      <td>10</td>\n",
       "      <td>5196000.0</td>\n",
       "      <td>56.0</td>\n",
       "      <td>2015-08-20</td>\n",
       "      <td>2</td>\n",
       "      <td>2.729873</td>\n",
       "      <td>5.0</td>\n",
       "      <td>34.30000</td>\n",
       "      <td>4</td>\n",
       "      <td>False</td>\n",
       "      <td>...</td>\n",
       "      <td>1.0</td>\n",
       "      <td>90.0</td>\n",
       "      <td>2.0</td>\n",
       "      <td>574.0</td>\n",
       "      <td>558.0</td>\n",
       "      <td>92785.714286</td>\n",
       "      <td>3</td>\n",
       "      <td>8</td>\n",
       "      <td>2015</td>\n",
       "      <td>Other</td>\n",
       "    </tr>\n",
       "    <tr>\n",
       "      <td>3</td>\n",
       "      <td>0</td>\n",
       "      <td>64900000.0</td>\n",
       "      <td>159.0</td>\n",
       "      <td>2015-07-24</td>\n",
       "      <td>3</td>\n",
       "      <td>2.729873</td>\n",
       "      <td>14.0</td>\n",
       "      <td>49.92358</td>\n",
       "      <td>9</td>\n",
       "      <td>False</td>\n",
       "      <td>...</td>\n",
       "      <td>2.0</td>\n",
       "      <td>84.0</td>\n",
       "      <td>3.0</td>\n",
       "      <td>234.0</td>\n",
       "      <td>424.0</td>\n",
       "      <td>408176.100629</td>\n",
       "      <td>4</td>\n",
       "      <td>7</td>\n",
       "      <td>2015</td>\n",
       "      <td>Other</td>\n",
       "    </tr>\n",
       "    <tr>\n",
       "      <td>4</td>\n",
       "      <td>2</td>\n",
       "      <td>10000000.0</td>\n",
       "      <td>100.0</td>\n",
       "      <td>2018-06-19</td>\n",
       "      <td>2</td>\n",
       "      <td>3.030000</td>\n",
       "      <td>14.0</td>\n",
       "      <td>32.00000</td>\n",
       "      <td>13</td>\n",
       "      <td>False</td>\n",
       "      <td>...</td>\n",
       "      <td>2.0</td>\n",
       "      <td>112.0</td>\n",
       "      <td>1.0</td>\n",
       "      <td>48.0</td>\n",
       "      <td>121.0</td>\n",
       "      <td>100000.000000</td>\n",
       "      <td>1</td>\n",
       "      <td>6</td>\n",
       "      <td>2018</td>\n",
       "      <td>Other</td>\n",
       "    </tr>\n",
       "  </tbody>\n",
       "</table>\n",
       "<p>5 rows × 27 columns</p>\n",
       "</div>"
      ],
      "text/plain": [
       "   total_images  last_price  total_area first_day_exposition  rooms  \\\n",
       "0            20  13000000.0       108.0           2019-03-07      3   \n",
       "1             7   3350000.0        40.4           2018-12-04      1   \n",
       "2            10   5196000.0        56.0           2015-08-20      2   \n",
       "3             0  64900000.0       159.0           2015-07-24      3   \n",
       "4             2  10000000.0       100.0           2018-06-19      2   \n",
       "\n",
       "   ceiling_height  floors_total  living_area  floor  is_apartment  ...  \\\n",
       "0        2.700000          16.0     51.00000      8         False  ...   \n",
       "1        2.729873          11.0     18.60000      1         False  ...   \n",
       "2        2.729873           5.0     34.30000      4         False  ...   \n",
       "3        2.729873          14.0     49.92358      9         False  ...   \n",
       "4        3.030000          14.0     32.00000     13         False  ...   \n",
       "\n",
       "   parks_around3000  parks_nearest  ponds_around3000  ponds_nearest  \\\n",
       "0               1.0          482.0               2.0          755.0   \n",
       "1               0.0            NaN               0.0            NaN   \n",
       "2               1.0           90.0               2.0          574.0   \n",
       "3               2.0           84.0               3.0          234.0   \n",
       "4               2.0          112.0               1.0           48.0   \n",
       "\n",
       "  days_exposition    meter_price  week_day  month  year  floor_type  \n",
       "0             NaN  120370.370370         3      3  2019       Other  \n",
       "1            81.0   82920.792079         1     12  2018       First  \n",
       "2           558.0   92785.714286         3      8  2015       Other  \n",
       "3           424.0  408176.100629         4      7  2015       Other  \n",
       "4           121.0  100000.000000         1      6  2018       Other  \n",
       "\n",
       "[5 rows x 27 columns]"
      ]
     },
     "metadata": {},
     "output_type": "display_data"
    }
   ],
   "source": [
    "df['floor_type']='Other'\n",
    "df.loc[df['floor']==df['floors_total'],'floor_type']='Last'\n",
    "df.loc[df['floor']==1,'floor_type']='First'\n",
    "display(df.head())"
   ]
  },
  {
   "cell_type": "markdown",
   "metadata": {},
   "source": [
    "Добавим столбец с соотношением жилой и общей площади"
   ]
  },
  {
   "cell_type": "code",
   "execution_count": 22,
   "metadata": {},
   "outputs": [],
   "source": [
    "df['living_to_total']=df['living_area']/df['total_area']"
   ]
  },
  {
   "cell_type": "markdown",
   "metadata": {},
   "source": [
    "А также отношение площади кухни к общей."
   ]
  },
  {
   "cell_type": "code",
   "execution_count": 23,
   "metadata": {},
   "outputs": [
    {
     "data": {
      "text/html": [
       "<div>\n",
       "<style scoped>\n",
       "    .dataframe tbody tr th:only-of-type {\n",
       "        vertical-align: middle;\n",
       "    }\n",
       "\n",
       "    .dataframe tbody tr th {\n",
       "        vertical-align: top;\n",
       "    }\n",
       "\n",
       "    .dataframe thead th {\n",
       "        text-align: right;\n",
       "    }\n",
       "</style>\n",
       "<table border=\"1\" class=\"dataframe\">\n",
       "  <thead>\n",
       "    <tr style=\"text-align: right;\">\n",
       "      <th></th>\n",
       "      <th>total_images</th>\n",
       "      <th>last_price</th>\n",
       "      <th>total_area</th>\n",
       "      <th>first_day_exposition</th>\n",
       "      <th>rooms</th>\n",
       "      <th>ceiling_height</th>\n",
       "      <th>floors_total</th>\n",
       "      <th>living_area</th>\n",
       "      <th>floor</th>\n",
       "      <th>is_apartment</th>\n",
       "      <th>...</th>\n",
       "      <th>ponds_around3000</th>\n",
       "      <th>ponds_nearest</th>\n",
       "      <th>days_exposition</th>\n",
       "      <th>meter_price</th>\n",
       "      <th>week_day</th>\n",
       "      <th>month</th>\n",
       "      <th>year</th>\n",
       "      <th>floor_type</th>\n",
       "      <th>living_to_total</th>\n",
       "      <th>kitchen_to_total</th>\n",
       "    </tr>\n",
       "  </thead>\n",
       "  <tbody>\n",
       "    <tr>\n",
       "      <td>0</td>\n",
       "      <td>20</td>\n",
       "      <td>13000000.0</td>\n",
       "      <td>108.00</td>\n",
       "      <td>2019-03-07</td>\n",
       "      <td>3</td>\n",
       "      <td>2.700000</td>\n",
       "      <td>16.0</td>\n",
       "      <td>51.000000</td>\n",
       "      <td>8</td>\n",
       "      <td>False</td>\n",
       "      <td>...</td>\n",
       "      <td>2.0</td>\n",
       "      <td>755.0</td>\n",
       "      <td>NaN</td>\n",
       "      <td>120370.370370</td>\n",
       "      <td>3</td>\n",
       "      <td>3</td>\n",
       "      <td>2019</td>\n",
       "      <td>Other</td>\n",
       "      <td>0.472222</td>\n",
       "      <td>0.231481</td>\n",
       "    </tr>\n",
       "    <tr>\n",
       "      <td>1</td>\n",
       "      <td>7</td>\n",
       "      <td>3350000.0</td>\n",
       "      <td>40.40</td>\n",
       "      <td>2018-12-04</td>\n",
       "      <td>1</td>\n",
       "      <td>2.729873</td>\n",
       "      <td>11.0</td>\n",
       "      <td>18.600000</td>\n",
       "      <td>1</td>\n",
       "      <td>False</td>\n",
       "      <td>...</td>\n",
       "      <td>0.0</td>\n",
       "      <td>NaN</td>\n",
       "      <td>81.0</td>\n",
       "      <td>82920.792079</td>\n",
       "      <td>1</td>\n",
       "      <td>12</td>\n",
       "      <td>2018</td>\n",
       "      <td>First</td>\n",
       "      <td>0.460396</td>\n",
       "      <td>0.272277</td>\n",
       "    </tr>\n",
       "    <tr>\n",
       "      <td>2</td>\n",
       "      <td>10</td>\n",
       "      <td>5196000.0</td>\n",
       "      <td>56.00</td>\n",
       "      <td>2015-08-20</td>\n",
       "      <td>2</td>\n",
       "      <td>2.729873</td>\n",
       "      <td>5.0</td>\n",
       "      <td>34.300000</td>\n",
       "      <td>4</td>\n",
       "      <td>False</td>\n",
       "      <td>...</td>\n",
       "      <td>2.0</td>\n",
       "      <td>574.0</td>\n",
       "      <td>558.0</td>\n",
       "      <td>92785.714286</td>\n",
       "      <td>3</td>\n",
       "      <td>8</td>\n",
       "      <td>2015</td>\n",
       "      <td>Other</td>\n",
       "      <td>0.612500</td>\n",
       "      <td>0.148214</td>\n",
       "    </tr>\n",
       "    <tr>\n",
       "      <td>3</td>\n",
       "      <td>0</td>\n",
       "      <td>64900000.0</td>\n",
       "      <td>159.00</td>\n",
       "      <td>2015-07-24</td>\n",
       "      <td>3</td>\n",
       "      <td>2.729873</td>\n",
       "      <td>14.0</td>\n",
       "      <td>49.923580</td>\n",
       "      <td>9</td>\n",
       "      <td>False</td>\n",
       "      <td>...</td>\n",
       "      <td>3.0</td>\n",
       "      <td>234.0</td>\n",
       "      <td>424.0</td>\n",
       "      <td>408176.100629</td>\n",
       "      <td>4</td>\n",
       "      <td>7</td>\n",
       "      <td>2015</td>\n",
       "      <td>Other</td>\n",
       "      <td>0.313985</td>\n",
       "      <td>0.066477</td>\n",
       "    </tr>\n",
       "    <tr>\n",
       "      <td>4</td>\n",
       "      <td>2</td>\n",
       "      <td>10000000.0</td>\n",
       "      <td>100.00</td>\n",
       "      <td>2018-06-19</td>\n",
       "      <td>2</td>\n",
       "      <td>3.030000</td>\n",
       "      <td>14.0</td>\n",
       "      <td>32.000000</td>\n",
       "      <td>13</td>\n",
       "      <td>False</td>\n",
       "      <td>...</td>\n",
       "      <td>1.0</td>\n",
       "      <td>48.0</td>\n",
       "      <td>121.0</td>\n",
       "      <td>100000.000000</td>\n",
       "      <td>1</td>\n",
       "      <td>6</td>\n",
       "      <td>2018</td>\n",
       "      <td>Other</td>\n",
       "      <td>0.320000</td>\n",
       "      <td>0.410000</td>\n",
       "    </tr>\n",
       "    <tr>\n",
       "      <td>5</td>\n",
       "      <td>10</td>\n",
       "      <td>2890000.0</td>\n",
       "      <td>30.40</td>\n",
       "      <td>2018-09-10</td>\n",
       "      <td>1</td>\n",
       "      <td>2.729873</td>\n",
       "      <td>12.0</td>\n",
       "      <td>14.400000</td>\n",
       "      <td>5</td>\n",
       "      <td>False</td>\n",
       "      <td>...</td>\n",
       "      <td>NaN</td>\n",
       "      <td>NaN</td>\n",
       "      <td>55.0</td>\n",
       "      <td>95065.789474</td>\n",
       "      <td>0</td>\n",
       "      <td>9</td>\n",
       "      <td>2018</td>\n",
       "      <td>Other</td>\n",
       "      <td>0.473684</td>\n",
       "      <td>0.299342</td>\n",
       "    </tr>\n",
       "    <tr>\n",
       "      <td>6</td>\n",
       "      <td>6</td>\n",
       "      <td>3700000.0</td>\n",
       "      <td>37.30</td>\n",
       "      <td>2017-11-02</td>\n",
       "      <td>1</td>\n",
       "      <td>2.729873</td>\n",
       "      <td>26.0</td>\n",
       "      <td>10.600000</td>\n",
       "      <td>6</td>\n",
       "      <td>False</td>\n",
       "      <td>...</td>\n",
       "      <td>0.0</td>\n",
       "      <td>NaN</td>\n",
       "      <td>155.0</td>\n",
       "      <td>99195.710456</td>\n",
       "      <td>3</td>\n",
       "      <td>11</td>\n",
       "      <td>2017</td>\n",
       "      <td>Other</td>\n",
       "      <td>0.284182</td>\n",
       "      <td>0.386059</td>\n",
       "    </tr>\n",
       "    <tr>\n",
       "      <td>7</td>\n",
       "      <td>5</td>\n",
       "      <td>7915000.0</td>\n",
       "      <td>71.60</td>\n",
       "      <td>2019-04-18</td>\n",
       "      <td>2</td>\n",
       "      <td>2.729873</td>\n",
       "      <td>24.0</td>\n",
       "      <td>33.282387</td>\n",
       "      <td>22</td>\n",
       "      <td>False</td>\n",
       "      <td>...</td>\n",
       "      <td>0.0</td>\n",
       "      <td>NaN</td>\n",
       "      <td>NaN</td>\n",
       "      <td>110544.692737</td>\n",
       "      <td>3</td>\n",
       "      <td>4</td>\n",
       "      <td>2019</td>\n",
       "      <td>Other</td>\n",
       "      <td>0.464838</td>\n",
       "      <td>0.263966</td>\n",
       "    </tr>\n",
       "    <tr>\n",
       "      <td>8</td>\n",
       "      <td>20</td>\n",
       "      <td>2900000.0</td>\n",
       "      <td>33.16</td>\n",
       "      <td>2018-05-23</td>\n",
       "      <td>1</td>\n",
       "      <td>2.729873</td>\n",
       "      <td>27.0</td>\n",
       "      <td>15.430000</td>\n",
       "      <td>26</td>\n",
       "      <td>False</td>\n",
       "      <td>...</td>\n",
       "      <td>NaN</td>\n",
       "      <td>NaN</td>\n",
       "      <td>189.0</td>\n",
       "      <td>87454.764777</td>\n",
       "      <td>2</td>\n",
       "      <td>5</td>\n",
       "      <td>2018</td>\n",
       "      <td>Other</td>\n",
       "      <td>0.465320</td>\n",
       "      <td>0.265682</td>\n",
       "    </tr>\n",
       "    <tr>\n",
       "      <td>9</td>\n",
       "      <td>18</td>\n",
       "      <td>5400000.0</td>\n",
       "      <td>61.00</td>\n",
       "      <td>2017-02-26</td>\n",
       "      <td>3</td>\n",
       "      <td>2.500000</td>\n",
       "      <td>9.0</td>\n",
       "      <td>43.600000</td>\n",
       "      <td>7</td>\n",
       "      <td>False</td>\n",
       "      <td>...</td>\n",
       "      <td>0.0</td>\n",
       "      <td>NaN</td>\n",
       "      <td>289.0</td>\n",
       "      <td>88524.590164</td>\n",
       "      <td>6</td>\n",
       "      <td>2</td>\n",
       "      <td>2017</td>\n",
       "      <td>Other</td>\n",
       "      <td>0.714754</td>\n",
       "      <td>0.106557</td>\n",
       "    </tr>\n",
       "  </tbody>\n",
       "</table>\n",
       "<p>10 rows × 29 columns</p>\n",
       "</div>"
      ],
      "text/plain": [
       "   total_images  last_price  total_area first_day_exposition  rooms  \\\n",
       "0            20  13000000.0      108.00           2019-03-07      3   \n",
       "1             7   3350000.0       40.40           2018-12-04      1   \n",
       "2            10   5196000.0       56.00           2015-08-20      2   \n",
       "3             0  64900000.0      159.00           2015-07-24      3   \n",
       "4             2  10000000.0      100.00           2018-06-19      2   \n",
       "5            10   2890000.0       30.40           2018-09-10      1   \n",
       "6             6   3700000.0       37.30           2017-11-02      1   \n",
       "7             5   7915000.0       71.60           2019-04-18      2   \n",
       "8            20   2900000.0       33.16           2018-05-23      1   \n",
       "9            18   5400000.0       61.00           2017-02-26      3   \n",
       "\n",
       "   ceiling_height  floors_total  living_area  floor  is_apartment  ...  \\\n",
       "0        2.700000          16.0    51.000000      8         False  ...   \n",
       "1        2.729873          11.0    18.600000      1         False  ...   \n",
       "2        2.729873           5.0    34.300000      4         False  ...   \n",
       "3        2.729873          14.0    49.923580      9         False  ...   \n",
       "4        3.030000          14.0    32.000000     13         False  ...   \n",
       "5        2.729873          12.0    14.400000      5         False  ...   \n",
       "6        2.729873          26.0    10.600000      6         False  ...   \n",
       "7        2.729873          24.0    33.282387     22         False  ...   \n",
       "8        2.729873          27.0    15.430000     26         False  ...   \n",
       "9        2.500000           9.0    43.600000      7         False  ...   \n",
       "\n",
       "   ponds_around3000  ponds_nearest  days_exposition    meter_price week_day  \\\n",
       "0               2.0          755.0              NaN  120370.370370        3   \n",
       "1               0.0            NaN             81.0   82920.792079        1   \n",
       "2               2.0          574.0            558.0   92785.714286        3   \n",
       "3               3.0          234.0            424.0  408176.100629        4   \n",
       "4               1.0           48.0            121.0  100000.000000        1   \n",
       "5               NaN            NaN             55.0   95065.789474        0   \n",
       "6               0.0            NaN            155.0   99195.710456        3   \n",
       "7               0.0            NaN              NaN  110544.692737        3   \n",
       "8               NaN            NaN            189.0   87454.764777        2   \n",
       "9               0.0            NaN            289.0   88524.590164        6   \n",
       "\n",
       "   month  year  floor_type  living_to_total  kitchen_to_total  \n",
       "0      3  2019       Other         0.472222          0.231481  \n",
       "1     12  2018       First         0.460396          0.272277  \n",
       "2      8  2015       Other         0.612500          0.148214  \n",
       "3      7  2015       Other         0.313985          0.066477  \n",
       "4      6  2018       Other         0.320000          0.410000  \n",
       "5      9  2018       Other         0.473684          0.299342  \n",
       "6     11  2017       Other         0.284182          0.386059  \n",
       "7      4  2019       Other         0.464838          0.263966  \n",
       "8      5  2018       Other         0.465320          0.265682  \n",
       "9      2  2017       Other         0.714754          0.106557  \n",
       "\n",
       "[10 rows x 29 columns]"
      ]
     },
     "metadata": {},
     "output_type": "display_data"
    }
   ],
   "source": [
    "df['kitchen_to_total']=df['kitchen_area']/df['total_area']\n",
    "display(df.head(10))"
   ]
  },
  {
   "cell_type": "markdown",
   "metadata": {},
   "source": [
    "<h3>Промежуточный вывод</h3>\n",
    "Мы провели предварительную подготовку данных, проанализировали состав, величины и типы данных. Добавили дополнительные параметры, характеризующие жилые помещения, которые могут быть использованы в дальнейшем исследовательском анализе."
   ]
  },
  {
   "cell_type": "markdown",
   "metadata": {},
   "source": [
    "## Исследовательский анализ данных"
   ]
  },
  {
   "cell_type": "markdown",
   "metadata": {},
   "source": [
    "<h3>Исследование 1. Изучение основных параметров</h3>\n",
    "Построим и проанализируем гистограммы для слежующих параметров: площадь, цена, число комнат, высота потолков.\n",
    "Гистограмма для площади квартир:"
   ]
  },
  {
   "cell_type": "code",
   "execution_count": 24,
   "metadata": {},
   "outputs": [
    {
     "data": {
      "text/plain": [
       "<matplotlib.axes._subplots.AxesSubplot at 0x7faf28e5bd90>"
      ]
     },
     "execution_count": 24,
     "metadata": {},
     "output_type": "execute_result"
    },
    {
     "data": {
      "image/png": "[encoded data removed]",
      "text/plain": [
       "<Figure size 432x288 with 1 Axes>"
      ]
     },
     "metadata": {
      "needs_background": "light"
     },
     "output_type": "display_data"
    }
   ],
   "source": [
    "df['total_area'].hist(bins=100, range=(0,400))"
   ]
  },
  {
   "cell_type": "markdown",
   "metadata": {},
   "source": [
    "Все площади квартир находятся в диапазоне до 400 кв.м. Наибольшее число квартир имеет площадь чуть меньше 50 кв.м., что соответсвует средней площади 1-2 комнатной квартиры. Данное распределение выглядит вполне логичным."
   ]
  },
  {
   "cell_type": "markdown",
   "metadata": {},
   "source": [
    "Теперь целесообразно постоить гистограмму для количества комнат, чтобы проверить нашу предыдущую теорию о том, что, судя по площади большинство предложений - это 1-2 комнатные квартиры."
   ]
  },
  {
   "cell_type": "code",
   "execution_count": 25,
   "metadata": {},
   "outputs": [
    {
     "data": {
      "text/plain": [
       "<matplotlib.axes._subplots.AxesSubplot at 0x7faebaaf4b50>"
      ]
     },
     "execution_count": 25,
     "metadata": {},
     "output_type": "execute_result"
    },
    {
     "data": {
      "image/png": "[encoded data removed]",
      "text/plain": [
       "<Figure size 432x288 with 1 Axes>"
      ]
     },
     "metadata": {
      "needs_background": "light"
     },
     "output_type": "display_data"
    }
   ],
   "source": [
    "df['rooms'].hist(bins=10, range=(0,10))"
   ]
  },
  {
   "cell_type": "markdown",
   "metadata": {},
   "source": [
    "Данное распределние подтверждает гипотезу о том, что большинство квартир в объявлениях являются 1-2 комнатными.\n",
    "\n",
    "Построим гистограмму распредения цены квартир:"
   ]
  },
  {
   "cell_type": "code",
   "execution_count": 26,
   "metadata": {},
   "outputs": [
    {
     "data": {
      "text/plain": [
       "<matplotlib.axes._subplots.AxesSubplot at 0x7faebaa9b910>"
      ]
     },
     "execution_count": 26,
     "metadata": {},
     "output_type": "execute_result"
    },
    {
     "data": {
      "image/png": "[encoded data removed]",
      "text/plain": [
       "<Figure size 432x288 with 1 Axes>"
      ]
     },
     "metadata": {
      "needs_background": "light"
     },
     "output_type": "display_data"
    }
   ],
   "source": [
    "df['last_price'].hist(bins=100, range=(0,80000000))"
   ]
  },
  {
   "cell_type": "markdown",
   "metadata": {},
   "source": [
    "Основная масса предложений находитс в диапазоне до 40 млн (вообще валюта не указана, но предположим, что рублей), и всего лишь несколько значений попадают в диапазон 40-80 млн руб. Для целей анализа стоимости квартир можно откинуть этот диапазон:"
   ]
  },
  {
   "cell_type": "code",
   "execution_count": 27,
   "metadata": {},
   "outputs": [
    {
     "data": {
      "text/plain": [
       "<matplotlib.axes._subplots.AxesSubplot at 0x7faeba8bf910>"
      ]
     },
     "execution_count": 27,
     "metadata": {},
     "output_type": "execute_result"
    },
    {
     "data": {
      "image/png": "[encoded data removed]",
      "text/plain": [
       "<Figure size 432x288 with 1 Axes>"
      ]
     },
     "metadata": {
      "needs_background": "light"
     },
     "output_type": "display_data"
    }
   ],
   "source": [
    "df['last_price'].hist(bins=100, range=(0,40000000))"
   ]
  },
  {
   "cell_type": "markdown",
   "metadata": {},
   "source": [
    "Наблюдаем, что большинство квартир находится в диапазоне стоимости порядка 4 млн руб.\n",
    "\n",
    "Построитм гистограмму для высоты потолков:"
   ]
  },
  {
   "cell_type": "code",
   "execution_count": 28,
   "metadata": {},
   "outputs": [
    {
     "data": {
      "text/plain": [
       "<matplotlib.axes._subplots.AxesSubplot at 0x7faeba730910>"
      ]
     },
     "execution_count": 28,
     "metadata": {},
     "output_type": "execute_result"
    },
    {
     "data": {
      "image/png": "[encoded data removed]",
      "text/plain": [
       "<Figure size 432x288 with 1 Axes>"
      ]
     },
     "metadata": {
      "needs_background": "light"
     },
     "output_type": "display_data"
    }
   ],
   "source": [
    "df['ceiling_height'].hist(bins=20, range=(2,5))"
   ]
  },
  {
   "cell_type": "markdown",
   "metadata": {},
   "source": [
    "Распределение показывает, что наиболее распространенная высота потолков - примерно 2.7 метра, что соответсвует средней высоте потолка типового многоквартирного дома."
   ]
  },
  {
   "cell_type": "markdown",
   "metadata": {},
   "source": [
    "<h3>Промежуточный вывод 1</h3>\n",
    "В результате анализа гистограмм для выбранных 4 метрик - площадь, цена, число комнат, высота потолков - мы получили, что среди объявлений наиболее распространены типовые 1-2 комнатные квартиры стоимостью порядка 4 млн рублей. Распределение данных параметров представляет собой нормальное распределение без резко выбивающихся значений."
   ]
  },
  {
   "cell_type": "markdown",
   "metadata": {},
   "source": [
    "<h3>Исследование 2. Изучение времени продажи квартиры</h3>\n",
    "Изучим время продажи квартиры. Для этого построим гистограмму времени продажи, а также посчитаем среднее и медианное значения для этой величины."
   ]
  },
  {
   "cell_type": "code",
   "execution_count": 29,
   "metadata": {},
   "outputs": [
    {
     "name": "stdout",
     "output_type": "stream",
     "text": [
      "Среднее значение 180.88863436982163\n",
      "Медианное значение 95.0\n"
     ]
    },
    {
     "data": {
      "image/png": "[encoded data removed]",
      "text/plain": [
       "<Figure size 432x288 with 1 Axes>"
      ]
     },
     "metadata": {
      "needs_background": "light"
     },
     "output_type": "display_data"
    }
   ],
   "source": [
    "df['days_exposition'].hist(bins=300)\n",
    "print('Среднее значение',df['days_exposition'].mean())\n",
    "print('Медианное значение',df['days_exposition'].median())"
   ]
  },
  {
   "cell_type": "markdown",
   "metadata": {},
   "source": [
    "Распределние представляет собой распределение Пуассона. При этом график имеет ярко выраженный хвост в сторону очень больших значений и почти двукратное отличие среднего и медианного значений, а также выбросы в левой части графика в области порядка 50 дней. Это может говорить о некой аномалии исходных данных. \n",
    "<br>В целом,по графику мы видим, что большинство квартир продается вскоре после публикации объявления, в срок порядка 100 дней. При этом, есть квартиры, проданные почти сразу после публикации объявления - их срок экспонирования находится около нуля, и явно \"застоявшиеся\" варианты, висящие годами. "
   ]
  },
  {
   "cell_type": "markdown",
   "metadata": {},
   "source": [
    "Обработаем хвосты и выбросы данных.Выведем описание столбца, а также его наиболее часто повторяющиеся значения."
   ]
  },
  {
   "cell_type": "code",
   "execution_count": 30,
   "metadata": {},
   "outputs": [
    {
     "name": "stdout",
     "output_type": "stream",
     "text": [
      "count    20518.000000\n",
      "mean       180.888634\n",
      "std        219.727988\n",
      "min          1.000000\n",
      "25%         45.000000\n",
      "50%         95.000000\n",
      "75%        232.000000\n",
      "max       1580.000000\n",
      "Name: days_exposition, dtype: float64\n"
     ]
    },
    {
     "data": {
      "text/plain": [
       "45.0    880\n",
       "60.0    538\n",
       "7.0     234\n",
       "30.0    208\n",
       "90.0    204\n",
       "4.0     176\n",
       "3.0     158\n",
       "5.0     152\n",
       "14.0    148\n",
       "9.0     143\n",
       "Name: days_exposition, dtype: int64"
      ]
     },
     "execution_count": 30,
     "metadata": {},
     "output_type": "execute_result"
    }
   ],
   "source": [
    "print(df['days_exposition'].describe())\n",
    "df['days_exposition'].value_counts().head(10)"
   ]
  },
  {
   "cell_type": "markdown",
   "metadata": {},
   "source": [
    "Предлагаем убрать все значения для квартир, экспонирующихся дольше 3 лет, т.е. 1095 дней. "
   ]
  },
  {
   "cell_type": "code",
   "execution_count": 31,
   "metadata": {},
   "outputs": [
    {
     "data": {
      "text/plain": [
       "<matplotlib.axes._subplots.AxesSubplot at 0x7faeba2dc310>"
      ]
     },
     "execution_count": 31,
     "metadata": {},
     "output_type": "execute_result"
    },
    {
     "data": {
      "image/png": "[encoded data removed]",
      "text/plain": [
       "<Figure size 432x288 with 1 Axes>"
      ]
     },
     "metadata": {
      "needs_background": "light"
     },
     "output_type": "display_data"
    }
   ],
   "source": [
    "df['days_exposition'].hist(bins=100, range=(0,1095))"
   ]
  },
  {
   "cell_type": "markdown",
   "metadata": {},
   "source": [
    "А также построим график на диапазоне 365 дней - это близко к третей квартили, и соответсвует сроку продажи в 1 год "
   ]
  },
  {
   "cell_type": "code",
   "execution_count": 32,
   "metadata": {},
   "outputs": [
    {
     "data": {
      "text/plain": [
       "<matplotlib.axes._subplots.AxesSubplot at 0x7faebb194450>"
      ]
     },
     "execution_count": 32,
     "metadata": {},
     "output_type": "execute_result"
    },
    {
     "data": {
      "image/png": "[encoded data removed]",
      "text/plain": [
       "<Figure size 432x288 with 1 Axes>"
      ]
     },
     "metadata": {
      "needs_background": "light"
     },
     "output_type": "display_data"
    }
   ],
   "source": [
    "df['days_exposition'].hist(bins=100, range=(0,365))"
   ]
  },
  {
   "cell_type": "markdown",
   "metadata": {},
   "source": [
    "Явно видны 3 выброса, и подсчёт значений это подтверждает, в районе 45, 60 и 90 дней. Такие цифры, тем более все кратные 15 наводят на мысль, что это либо автоматические снятия с продажи, либо какие-то мошеннические объявления, например для кликбейта. Предлагаем их убрать."
   ]
  },
  {
   "cell_type": "markdown",
   "metadata": {},
   "source": [
    "Сделаем срез данных, включающий 1095 значений и исключающий значения 45, 60 и 90 дней."
   ]
  },
  {
   "cell_type": "code",
   "execution_count": 33,
   "metadata": {},
   "outputs": [
    {
     "data": {
      "text/plain": [
       "7.0     234\n",
       "30.0    208\n",
       "4.0     176\n",
       "3.0     158\n",
       "5.0     152\n",
       "14.0    148\n",
       "9.0     143\n",
       "20.0    139\n",
       "8.0     139\n",
       "11.0    135\n",
       "Name: days_exposition, dtype: int64"
      ]
     },
     "execution_count": 33,
     "metadata": {},
     "output_type": "execute_result"
    },
    {
     "data": {
      "image/png": "[encoded data removed]",
      "text/plain": [
       "<Figure size 432x288 with 1 Axes>"
      ]
     },
     "metadata": {
      "needs_background": "light"
     },
     "output_type": "display_data"
    }
   ],
   "source": [
    "df_new=df.query('days_exposition<1095 and not (44<days_exposition<46) and not (59<days_exposition<61) and not (89<days_exposition<91)')\n",
    "\n",
    "df_new['days_exposition'].hist(bins=100, range=(0,1095))\n",
    "df_new['days_exposition'].value_counts().head(10)"
   ]
  },
  {
   "cell_type": "markdown",
   "metadata": {},
   "source": [
    "Выведем описание столбца."
   ]
  },
  {
   "cell_type": "code",
   "execution_count": 34,
   "metadata": {},
   "outputs": [
    {
     "data": {
      "text/plain": [
       "count    18487.000000\n",
       "mean       183.627360\n",
       "std        203.661259\n",
       "min          1.000000\n",
       "25%         40.000000\n",
       "50%        111.000000\n",
       "75%        249.000000\n",
       "max       1094.000000\n",
       "Name: days_exposition, dtype: float64"
      ]
     },
     "execution_count": 34,
     "metadata": {},
     "output_type": "execute_result"
    }
   ],
   "source": [
    "df_new['days_exposition'].describe()"
   ]
  },
  {
   "cell_type": "markdown",
   "metadata": {},
   "source": [
    "<h3>Промежуточный вывод 2</h3>\n"
   ]
  },
  {
   "cell_type": "markdown",
   "metadata": {},
   "source": [
    "Медианное время экспонирования квартиры составляет 111 дней - чуть больше 3 месяцев. При этом, данное значение стало немного ближе к среднему после отсечения \"хвоста\" и резких выбросов значений на 45, 60 и 90 днях.  "
   ]
  },
  {
   "cell_type": "markdown",
   "metadata": {},
   "source": [
    "<h3>Исследование 3. Факторы, влияющие на цену квартиры</h3>\n",
    "<b>Изучим факторы, влияющие на цену квартиры.</b>\n",
    "<br>Оценим влияние на цену площади квартиры. Для этого построим диаграмму рассеяния по параметрам \"цена-площадь\""
   ]
  },
  {
   "cell_type": "code",
   "execution_count": 35,
   "metadata": {},
   "outputs": [
    {
     "data": {
      "text/plain": [
       "<matplotlib.axes._subplots.AxesSubplot at 0x7faeba511a50>"
      ]
     },
     "execution_count": 35,
     "metadata": {},
     "output_type": "execute_result"
    },
    {
     "data": {
      "image/png": "[encoded data removed]",
      "text/plain": [
       "<Figure size 432x288 with 1 Axes>"
      ]
     },
     "metadata": {
      "needs_background": "light"
     },
     "output_type": "display_data"
    }
   ],
   "source": [
    "df_new.plot(x='total_area',y='last_price',kind='scatter')"
   ]
  },
  {
   "cell_type": "markdown",
   "metadata": {},
   "source": [
    "Для более наглядного результата возьмем срез, в котором цена находится в пределах 20 млн рублей"
   ]
  },
  {
   "cell_type": "code",
   "execution_count": 36,
   "metadata": {},
   "outputs": [
    {
     "data": {
      "text/plain": [
       "<matplotlib.axes._subplots.AxesSubplot at 0x7faeba6295d0>"
      ]
     },
     "execution_count": 36,
     "metadata": {},
     "output_type": "execute_result"
    },
    {
     "data": {
      "image/png": "[encoded data removed]",
      "text/plain": [
       "<Figure size 432x288 with 1 Axes>"
      ]
     },
     "metadata": {
      "needs_background": "light"
     },
     "output_type": "display_data"
    }
   ],
   "source": [
    "df_new.query('last_price<20000000').plot(x='total_area',y='last_price',kind='scatter')"
   ]
  },
  {
   "cell_type": "markdown",
   "metadata": {},
   "source": [
    "График показывает положительную линейную корреляцию площади и цены квартиры. Проверим эту теорию, посчитав коэффициент корреляции Пирсона."
   ]
  },
  {
   "cell_type": "code",
   "execution_count": 37,
   "metadata": {},
   "outputs": [
    {
     "name": "stdout",
     "output_type": "stream",
     "text": [
      "0.6436045173886926\n"
     ]
    }
   ],
   "source": [
    "print(df_new['total_area'].corr(df_new['last_price']))"
   ]
  },
  {
   "cell_type": "markdown",
   "metadata": {},
   "source": [
    "Полученный коэффициент подтверждает нашу теорию."
   ]
  },
  {
   "cell_type": "markdown",
   "metadata": {},
   "source": [
    "Теперь изучим вляиние на цену количества комнат:"
   ]
  },
  {
   "cell_type": "code",
   "execution_count": 38,
   "metadata": {},
   "outputs": [
    {
     "data": {
      "text/plain": [
       "<matplotlib.axes._subplots.AxesSubplot at 0x7faf28e5bdd0>"
      ]
     },
     "execution_count": 38,
     "metadata": {},
     "output_type": "execute_result"
    },
    {
     "data": {
      "image/png": "[encoded data removed]",
      "text/plain": [
       "<Figure size 432x288 with 1 Axes>"
      ]
     },
     "metadata": {
      "needs_background": "light"
     },
     "output_type": "display_data"
    }
   ],
   "source": [
    "#df_new.plot(x='rooms',y='last_price',kind='bar')\n",
    "rooms=df_new.pivot_table(index='rooms', values='last_price', aggfunc='mean')\n",
    "rooms.plot(kind='bar')"
   ]
  },
  {
   "cell_type": "markdown",
   "metadata": {},
   "source": [
    "Средняя цена прирастает пропорционально количеству комнат и остигает докального максимума для 7 комант. При этом, квартиры более 9 комнат находятся примерно в одинаковом ценовом диапазоне. Для 12 комнат наблюдается резкий выброс, вероятно в этот сегмент попадают очень дорогие квартиры. Для наглядности исключим этот сегмент."
   ]
  },
  {
   "cell_type": "code",
   "execution_count": 39,
   "metadata": {},
   "outputs": [
    {
     "data": {
      "text/plain": [
       "<matplotlib.axes._subplots.AxesSubplot at 0x7faeba0dd2d0>"
      ]
     },
     "execution_count": 39,
     "metadata": {},
     "output_type": "execute_result"
    },
    {
     "data": {
      "image/png": "[encoded data removed]",
      "text/plain": [
       "<Figure size 432x288 with 1 Axes>"
      ]
     },
     "metadata": {
      "needs_background": "light"
     },
     "output_type": "display_data"
    }
   ],
   "source": [
    "rooms=df_new.query('rooms!=12').pivot_table(index='rooms', values='last_price', aggfunc='mean')\n",
    "rooms.plot(kind='bar')"
   ]
  },
  {
   "cell_type": "markdown",
   "metadata": {},
   "source": [
    "Уточненный график подтверждает нашу гипотезу. Очевидно, что на 7 комантах заканчивается условно \"массовый\" сегмент и начинаются уникальные предложения, где цена зависит от рядя других факторов."
   ]
  },
  {
   "cell_type": "markdown",
   "metadata": {},
   "source": [
    "Проверим влияние на цену фактора этажа"
   ]
  },
  {
   "cell_type": "code",
   "execution_count": 40,
   "metadata": {
    "scrolled": true
   },
   "outputs": [
    {
     "data": {
      "text/plain": [
       "<matplotlib.axes._subplots.AxesSubplot at 0x7faeb9f5e110>"
      ]
     },
     "execution_count": 40,
     "metadata": {},
     "output_type": "execute_result"
    },
    {
     "data": {
      "image/png": "[encoded data removed]",
      "text/plain": [
       "<Figure size 432x288 with 1 Axes>"
      ]
     },
     "metadata": {
      "needs_background": "light"
     },
     "output_type": "display_data"
    }
   ],
   "source": [
    "floors=df_new.pivot_table(index='floor_type', values='last_price', aggfunc='mean')\n",
    "floors.plot(kind='bar')"
   ]
  },
  {
   "cell_type": "markdown",
   "metadata": {},
   "source": [
    "В среднем, квартиры на последнем этаже самые дороги, на первом - наиболее дешевые."
   ]
  },
  {
   "cell_type": "markdown",
   "metadata": {},
   "source": [
    "Оценив зависимость цен от удаленности от центра"
   ]
  },
  {
   "cell_type": "code",
   "execution_count": 41,
   "metadata": {},
   "outputs": [
    {
     "data": {
      "text/plain": [
       "<matplotlib.axes._subplots.AxesSubplot at 0x7faeb9ec8710>"
      ]
     },
     "execution_count": 41,
     "metadata": {},
     "output_type": "execute_result"
    },
    {
     "data": {
      "image/png": "[encoded data removed]",
      "text/plain": [
       "<Figure size 432x288 with 1 Axes>"
      ]
     },
     "metadata": {
      "needs_background": "light"
     },
     "output_type": "display_data"
    }
   ],
   "source": [
    "df_new.query('last_price<20000000').plot(x='city_centers_nearest',y='last_price',kind='scatter')"
   ]
  },
  {
   "cell_type": "markdown",
   "metadata": {},
   "source": [
    "Очевидно, рассеяние показывает снижение цен по мере удаления от центра. Для проверки этого утверждения посчитаем коэффициент корреляции Пирсона:"
   ]
  },
  {
   "cell_type": "code",
   "execution_count": 42,
   "metadata": {},
   "outputs": [
    {
     "name": "stdout",
     "output_type": "stream",
     "text": [
      "-0.18954982613785623\n"
     ]
    }
   ],
   "source": [
    "print(df_new['city_centers_nearest'].corr(df_new['last_price']))"
   ]
  },
  {
   "cell_type": "markdown",
   "metadata": {},
   "source": [
    "Наблюдаем слабую отрицательную корреляцию."
   ]
  },
  {
   "cell_type": "markdown",
   "metadata": {},
   "source": [
    "Изучим зависимость от даты размещения: дня недели, месяца и года"
   ]
  },
  {
   "cell_type": "code",
   "execution_count": 43,
   "metadata": {},
   "outputs": [
    {
     "data": {
      "text/plain": [
       "<matplotlib.axes._subplots.AxesSubplot at 0x7faeb9aa1b50>"
      ]
     },
     "execution_count": 43,
     "metadata": {},
     "output_type": "execute_result"
    },
    {
     "data": {
      "image/png": "[encoded data removed]",
      "text/plain": [
       "<Figure size 432x288 with 1 Axes>"
      ]
     },
     "metadata": {
      "needs_background": "light"
     },
     "output_type": "display_data"
    },
    {
     "data": {
      "image/png": "[encoded data removed]",
      "text/plain": [
       "<Figure size 432x288 with 1 Axes>"
      ]
     },
     "metadata": {
      "needs_background": "light"
     },
     "output_type": "display_data"
    },
    {
     "data": {
      "image/png": "[encoded data removed]",
      "text/plain": [
       "<Figure size 432x288 with 1 Axes>"
      ]
     },
     "metadata": {
      "needs_background": "light"
     },
     "output_type": "display_data"
    }
   ],
   "source": [
    "#аггрегируем сводные таблицы\n",
    "week_days=df_new.pivot_table(index='week_day', values='last_price', aggfunc='mean')\n",
    "month=df_new.pivot_table(index='month', values='last_price', aggfunc='mean')\n",
    "year=df_new.pivot_table(index='year', values='last_price', aggfunc='mean')\n",
    "#строитм столбчатые диаграммы\n",
    "week_days.plot(kind='bar')\n",
    "month.plot(kind='bar')\n",
    "year.plot(kind='bar')"
   ]
  },
  {
   "cell_type": "markdown",
   "metadata": {},
   "source": [
    "Корреляция между днеём недели и месяцем размещения отсутсвует. График по годам показщывает среднее снижение стоимости квартир, начиная с 2014 года, и небольшой рост в 2019."
   ]
  },
  {
   "cell_type": "markdown",
   "metadata": {},
   "source": [
    "<h3>Промежуточный вывод 3</h3>\n",
    "Присутствует явноая положительная корреляция между ценой и площадью квартиры, а также между ценой и удвленностью квартиры от центра. Также стоимость квартиры прирастает в зависимости от количества комнат и зависит от года размещения объявления. С остальными проверенными параметрами стоимость квартиры либо не коррелирует, или коррелирует слабо. "
   ]
  },
  {
   "cell_type": "markdown",
   "metadata": {},
   "source": [
    "<h3>Исследование 4. Исследование 10 населенных пунктов</h3>\n",
    "Выберем 10 населенных пунктов с наибольшим числом объявлений."
   ]
  },
  {
   "cell_type": "code",
   "execution_count": 44,
   "metadata": {},
   "outputs": [
    {
     "data": {
      "text/plain": [
       "Index(['Санкт-Петербург', 'посёлок Мурино', 'посёлок Шушары', 'Всеволожск',\n",
       "       'Пушкин', 'Колпино', 'посёлок Парголово', 'деревня Кудрово', 'Гатчина',\n",
       "       'Выборг'],\n",
       "      dtype='object')"
      ]
     },
     "metadata": {},
     "output_type": "display_data"
    }
   ],
   "source": [
    "top_10=df_new['locality_name'].value_counts().head(10).index\n",
    "display(top_10)"
   ]
  },
  {
   "cell_type": "markdown",
   "metadata": {},
   "source": [
    "Создадим соответствующий срез данных"
   ]
  },
  {
   "cell_type": "code",
   "execution_count": 45,
   "metadata": {},
   "outputs": [
    {
     "data": {
      "text/html": [
       "<div>\n",
       "<style scoped>\n",
       "    .dataframe tbody tr th:only-of-type {\n",
       "        vertical-align: middle;\n",
       "    }\n",
       "\n",
       "    .dataframe tbody tr th {\n",
       "        vertical-align: top;\n",
       "    }\n",
       "\n",
       "    .dataframe thead th {\n",
       "        text-align: right;\n",
       "    }\n",
       "</style>\n",
       "<table border=\"1\" class=\"dataframe\">\n",
       "  <thead>\n",
       "    <tr style=\"text-align: right;\">\n",
       "      <th></th>\n",
       "      <th>total_images</th>\n",
       "      <th>last_price</th>\n",
       "      <th>total_area</th>\n",
       "      <th>first_day_exposition</th>\n",
       "      <th>rooms</th>\n",
       "      <th>ceiling_height</th>\n",
       "      <th>floors_total</th>\n",
       "      <th>living_area</th>\n",
       "      <th>floor</th>\n",
       "      <th>is_apartment</th>\n",
       "      <th>...</th>\n",
       "      <th>ponds_around3000</th>\n",
       "      <th>ponds_nearest</th>\n",
       "      <th>days_exposition</th>\n",
       "      <th>meter_price</th>\n",
       "      <th>week_day</th>\n",
       "      <th>month</th>\n",
       "      <th>year</th>\n",
       "      <th>floor_type</th>\n",
       "      <th>living_to_total</th>\n",
       "      <th>kitchen_to_total</th>\n",
       "    </tr>\n",
       "  </thead>\n",
       "  <tbody>\n",
       "    <tr>\n",
       "      <td>1</td>\n",
       "      <td>7</td>\n",
       "      <td>3350000.0</td>\n",
       "      <td>40.40</td>\n",
       "      <td>2018-12-04</td>\n",
       "      <td>1</td>\n",
       "      <td>2.729873</td>\n",
       "      <td>11.0</td>\n",
       "      <td>18.600000</td>\n",
       "      <td>1</td>\n",
       "      <td>False</td>\n",
       "      <td>...</td>\n",
       "      <td>0.0</td>\n",
       "      <td>NaN</td>\n",
       "      <td>81.0</td>\n",
       "      <td>82920.792079</td>\n",
       "      <td>1</td>\n",
       "      <td>12</td>\n",
       "      <td>2018</td>\n",
       "      <td>First</td>\n",
       "      <td>0.460396</td>\n",
       "      <td>0.272277</td>\n",
       "    </tr>\n",
       "    <tr>\n",
       "      <td>2</td>\n",
       "      <td>10</td>\n",
       "      <td>5196000.0</td>\n",
       "      <td>56.00</td>\n",
       "      <td>2015-08-20</td>\n",
       "      <td>2</td>\n",
       "      <td>2.729873</td>\n",
       "      <td>5.0</td>\n",
       "      <td>34.300000</td>\n",
       "      <td>4</td>\n",
       "      <td>False</td>\n",
       "      <td>...</td>\n",
       "      <td>2.0</td>\n",
       "      <td>574.0</td>\n",
       "      <td>558.0</td>\n",
       "      <td>92785.714286</td>\n",
       "      <td>3</td>\n",
       "      <td>8</td>\n",
       "      <td>2015</td>\n",
       "      <td>Other</td>\n",
       "      <td>0.612500</td>\n",
       "      <td>0.148214</td>\n",
       "    </tr>\n",
       "    <tr>\n",
       "      <td>3</td>\n",
       "      <td>0</td>\n",
       "      <td>64900000.0</td>\n",
       "      <td>159.00</td>\n",
       "      <td>2015-07-24</td>\n",
       "      <td>3</td>\n",
       "      <td>2.729873</td>\n",
       "      <td>14.0</td>\n",
       "      <td>49.923580</td>\n",
       "      <td>9</td>\n",
       "      <td>False</td>\n",
       "      <td>...</td>\n",
       "      <td>3.0</td>\n",
       "      <td>234.0</td>\n",
       "      <td>424.0</td>\n",
       "      <td>408176.100629</td>\n",
       "      <td>4</td>\n",
       "      <td>7</td>\n",
       "      <td>2015</td>\n",
       "      <td>Other</td>\n",
       "      <td>0.313985</td>\n",
       "      <td>0.066477</td>\n",
       "    </tr>\n",
       "    <tr>\n",
       "      <td>4</td>\n",
       "      <td>2</td>\n",
       "      <td>10000000.0</td>\n",
       "      <td>100.00</td>\n",
       "      <td>2018-06-19</td>\n",
       "      <td>2</td>\n",
       "      <td>3.030000</td>\n",
       "      <td>14.0</td>\n",
       "      <td>32.000000</td>\n",
       "      <td>13</td>\n",
       "      <td>False</td>\n",
       "      <td>...</td>\n",
       "      <td>1.0</td>\n",
       "      <td>48.0</td>\n",
       "      <td>121.0</td>\n",
       "      <td>100000.000000</td>\n",
       "      <td>1</td>\n",
       "      <td>6</td>\n",
       "      <td>2018</td>\n",
       "      <td>Other</td>\n",
       "      <td>0.320000</td>\n",
       "      <td>0.410000</td>\n",
       "    </tr>\n",
       "    <tr>\n",
       "      <td>6</td>\n",
       "      <td>6</td>\n",
       "      <td>3700000.0</td>\n",
       "      <td>37.30</td>\n",
       "      <td>2017-11-02</td>\n",
       "      <td>1</td>\n",
       "      <td>2.729873</td>\n",
       "      <td>26.0</td>\n",
       "      <td>10.600000</td>\n",
       "      <td>6</td>\n",
       "      <td>False</td>\n",
       "      <td>...</td>\n",
       "      <td>0.0</td>\n",
       "      <td>NaN</td>\n",
       "      <td>155.0</td>\n",
       "      <td>99195.710456</td>\n",
       "      <td>3</td>\n",
       "      <td>11</td>\n",
       "      <td>2017</td>\n",
       "      <td>Other</td>\n",
       "      <td>0.284182</td>\n",
       "      <td>0.386059</td>\n",
       "    </tr>\n",
       "    <tr>\n",
       "      <td>...</td>\n",
       "      <td>...</td>\n",
       "      <td>...</td>\n",
       "      <td>...</td>\n",
       "      <td>...</td>\n",
       "      <td>...</td>\n",
       "      <td>...</td>\n",
       "      <td>...</td>\n",
       "      <td>...</td>\n",
       "      <td>...</td>\n",
       "      <td>...</td>\n",
       "      <td>...</td>\n",
       "      <td>...</td>\n",
       "      <td>...</td>\n",
       "      <td>...</td>\n",
       "      <td>...</td>\n",
       "      <td>...</td>\n",
       "      <td>...</td>\n",
       "      <td>...</td>\n",
       "      <td>...</td>\n",
       "      <td>...</td>\n",
       "      <td>...</td>\n",
       "    </tr>\n",
       "    <tr>\n",
       "      <td>23688</td>\n",
       "      <td>19</td>\n",
       "      <td>9200000.0</td>\n",
       "      <td>101.00</td>\n",
       "      <td>2019-04-01</td>\n",
       "      <td>3</td>\n",
       "      <td>3.050000</td>\n",
       "      <td>15.0</td>\n",
       "      <td>63.000000</td>\n",
       "      <td>12</td>\n",
       "      <td>False</td>\n",
       "      <td>...</td>\n",
       "      <td>0.0</td>\n",
       "      <td>NaN</td>\n",
       "      <td>23.0</td>\n",
       "      <td>91089.108911</td>\n",
       "      <td>0</td>\n",
       "      <td>4</td>\n",
       "      <td>2019</td>\n",
       "      <td>Other</td>\n",
       "      <td>0.623762</td>\n",
       "      <td>0.148515</td>\n",
       "    </tr>\n",
       "    <tr>\n",
       "      <td>23689</td>\n",
       "      <td>13</td>\n",
       "      <td>3550000.0</td>\n",
       "      <td>35.30</td>\n",
       "      <td>2018-02-28</td>\n",
       "      <td>1</td>\n",
       "      <td>2.860000</td>\n",
       "      <td>15.0</td>\n",
       "      <td>16.300000</td>\n",
       "      <td>4</td>\n",
       "      <td>False</td>\n",
       "      <td>...</td>\n",
       "      <td>2.0</td>\n",
       "      <td>652.0</td>\n",
       "      <td>29.0</td>\n",
       "      <td>100566.572238</td>\n",
       "      <td>2</td>\n",
       "      <td>2</td>\n",
       "      <td>2018</td>\n",
       "      <td>Other</td>\n",
       "      <td>0.461756</td>\n",
       "      <td>0.257790</td>\n",
       "    </tr>\n",
       "    <tr>\n",
       "      <td>23690</td>\n",
       "      <td>3</td>\n",
       "      <td>5500000.0</td>\n",
       "      <td>52.00</td>\n",
       "      <td>2018-07-19</td>\n",
       "      <td>2</td>\n",
       "      <td>2.729873</td>\n",
       "      <td>5.0</td>\n",
       "      <td>31.000000</td>\n",
       "      <td>2</td>\n",
       "      <td>False</td>\n",
       "      <td>...</td>\n",
       "      <td>0.0</td>\n",
       "      <td>NaN</td>\n",
       "      <td>15.0</td>\n",
       "      <td>105769.230769</td>\n",
       "      <td>3</td>\n",
       "      <td>7</td>\n",
       "      <td>2018</td>\n",
       "      <td>Other</td>\n",
       "      <td>0.596154</td>\n",
       "      <td>0.115385</td>\n",
       "    </tr>\n",
       "    <tr>\n",
       "      <td>23691</td>\n",
       "      <td>11</td>\n",
       "      <td>9470000.0</td>\n",
       "      <td>72.90</td>\n",
       "      <td>2016-10-13</td>\n",
       "      <td>2</td>\n",
       "      <td>2.750000</td>\n",
       "      <td>25.0</td>\n",
       "      <td>40.300000</td>\n",
       "      <td>7</td>\n",
       "      <td>False</td>\n",
       "      <td>...</td>\n",
       "      <td>1.0</td>\n",
       "      <td>806.0</td>\n",
       "      <td>519.0</td>\n",
       "      <td>129903.978052</td>\n",
       "      <td>3</td>\n",
       "      <td>10</td>\n",
       "      <td>2016</td>\n",
       "      <td>Other</td>\n",
       "      <td>0.552812</td>\n",
       "      <td>0.145405</td>\n",
       "    </tr>\n",
       "    <tr>\n",
       "      <td>23697</td>\n",
       "      <td>13</td>\n",
       "      <td>11475000.0</td>\n",
       "      <td>76.75</td>\n",
       "      <td>2017-03-28</td>\n",
       "      <td>2</td>\n",
       "      <td>3.000000</td>\n",
       "      <td>17.0</td>\n",
       "      <td>33.282387</td>\n",
       "      <td>12</td>\n",
       "      <td>False</td>\n",
       "      <td>...</td>\n",
       "      <td>3.0</td>\n",
       "      <td>196.0</td>\n",
       "      <td>602.0</td>\n",
       "      <td>149511.400651</td>\n",
       "      <td>1</td>\n",
       "      <td>3</td>\n",
       "      <td>2017</td>\n",
       "      <td>Other</td>\n",
       "      <td>0.433647</td>\n",
       "      <td>0.303583</td>\n",
       "    </tr>\n",
       "  </tbody>\n",
       "</table>\n",
       "<p>15111 rows × 29 columns</p>\n",
       "</div>"
      ],
      "text/plain": [
       "       total_images  last_price  total_area first_day_exposition  rooms  \\\n",
       "1                 7   3350000.0       40.40           2018-12-04      1   \n",
       "2                10   5196000.0       56.00           2015-08-20      2   \n",
       "3                 0  64900000.0      159.00           2015-07-24      3   \n",
       "4                 2  10000000.0      100.00           2018-06-19      2   \n",
       "6                 6   3700000.0       37.30           2017-11-02      1   \n",
       "...             ...         ...         ...                  ...    ...   \n",
       "23688            19   9200000.0      101.00           2019-04-01      3   \n",
       "23689            13   3550000.0       35.30           2018-02-28      1   \n",
       "23690             3   5500000.0       52.00           2018-07-19      2   \n",
       "23691            11   9470000.0       72.90           2016-10-13      2   \n",
       "23697            13  11475000.0       76.75           2017-03-28      2   \n",
       "\n",
       "       ceiling_height  floors_total  living_area  floor  is_apartment  ...  \\\n",
       "1            2.729873          11.0    18.600000      1         False  ...   \n",
       "2            2.729873           5.0    34.300000      4         False  ...   \n",
       "3            2.729873          14.0    49.923580      9         False  ...   \n",
       "4            3.030000          14.0    32.000000     13         False  ...   \n",
       "6            2.729873          26.0    10.600000      6         False  ...   \n",
       "...               ...           ...          ...    ...           ...  ...   \n",
       "23688        3.050000          15.0    63.000000     12         False  ...   \n",
       "23689        2.860000          15.0    16.300000      4         False  ...   \n",
       "23690        2.729873           5.0    31.000000      2         False  ...   \n",
       "23691        2.750000          25.0    40.300000      7         False  ...   \n",
       "23697        3.000000          17.0    33.282387     12         False  ...   \n",
       "\n",
       "       ponds_around3000  ponds_nearest  days_exposition    meter_price  \\\n",
       "1                   0.0            NaN             81.0   82920.792079   \n",
       "2                   2.0          574.0            558.0   92785.714286   \n",
       "3                   3.0          234.0            424.0  408176.100629   \n",
       "4                   1.0           48.0            121.0  100000.000000   \n",
       "6                   0.0            NaN            155.0   99195.710456   \n",
       "...                 ...            ...              ...            ...   \n",
       "23688               0.0            NaN             23.0   91089.108911   \n",
       "23689               2.0          652.0             29.0  100566.572238   \n",
       "23690               0.0            NaN             15.0  105769.230769   \n",
       "23691               1.0          806.0            519.0  129903.978052   \n",
       "23697               3.0          196.0            602.0  149511.400651   \n",
       "\n",
       "      week_day  month  year  floor_type  living_to_total  kitchen_to_total  \n",
       "1            1     12  2018       First         0.460396          0.272277  \n",
       "2            3      8  2015       Other         0.612500          0.148214  \n",
       "3            4      7  2015       Other         0.313985          0.066477  \n",
       "4            1      6  2018       Other         0.320000          0.410000  \n",
       "6            3     11  2017       Other         0.284182          0.386059  \n",
       "...        ...    ...   ...         ...              ...               ...  \n",
       "23688        0      4  2019       Other         0.623762          0.148515  \n",
       "23689        2      2  2018       Other         0.461756          0.257790  \n",
       "23690        3      7  2018       Other         0.596154          0.115385  \n",
       "23691        3     10  2016       Other         0.552812          0.145405  \n",
       "23697        1      3  2017       Other         0.433647          0.303583  \n",
       "\n",
       "[15111 rows x 29 columns]"
      ]
     },
     "metadata": {},
     "output_type": "display_data"
    }
   ],
   "source": [
    "freq=df_new.query('locality_name in @top_10')\n",
    "display(freq)"
   ]
  },
  {
   "cell_type": "markdown",
   "metadata": {},
   "source": [
    "Определим среднюю цену квадратного метра в данных локациях. Определим населенные пункты с самой высокой и самой низкой стоимостью жилья."
   ]
  },
  {
   "cell_type": "code",
   "execution_count": 46,
   "metadata": {
    "scrolled": true
   },
   "outputs": [
    {
     "data": {
      "text/html": [
       "<div>\n",
       "<style scoped>\n",
       "    .dataframe tbody tr th:only-of-type {\n",
       "        vertical-align: middle;\n",
       "    }\n",
       "\n",
       "    .dataframe tbody tr th {\n",
       "        vertical-align: top;\n",
       "    }\n",
       "\n",
       "    .dataframe thead th {\n",
       "        text-align: right;\n",
       "    }\n",
       "</style>\n",
       "<table border=\"1\" class=\"dataframe\">\n",
       "  <thead>\n",
       "    <tr style=\"text-align: right;\">\n",
       "      <th></th>\n",
       "      <th>meter_price</th>\n",
       "    </tr>\n",
       "    <tr>\n",
       "      <th>locality_name</th>\n",
       "      <th></th>\n",
       "    </tr>\n",
       "  </thead>\n",
       "  <tbody>\n",
       "    <tr>\n",
       "      <td>Санкт-Петербург</td>\n",
       "      <td>112164.134785</td>\n",
       "    </tr>\n",
       "    <tr>\n",
       "      <td>Пушкин</td>\n",
       "      <td>102516.530046</td>\n",
       "    </tr>\n",
       "    <tr>\n",
       "      <td>деревня Кудрово</td>\n",
       "      <td>91906.261362</td>\n",
       "    </tr>\n",
       "    <tr>\n",
       "      <td>посёлок Парголово</td>\n",
       "      <td>89778.829260</td>\n",
       "    </tr>\n",
       "    <tr>\n",
       "      <td>посёлок Мурино</td>\n",
       "      <td>85795.053233</td>\n",
       "    </tr>\n",
       "    <tr>\n",
       "      <td>посёлок Шушары</td>\n",
       "      <td>78121.715176</td>\n",
       "    </tr>\n",
       "    <tr>\n",
       "      <td>Колпино</td>\n",
       "      <td>75063.712578</td>\n",
       "    </tr>\n",
       "    <tr>\n",
       "      <td>Гатчина</td>\n",
       "      <td>67474.444087</td>\n",
       "    </tr>\n",
       "    <tr>\n",
       "      <td>Всеволожск</td>\n",
       "      <td>66580.679532</td>\n",
       "    </tr>\n",
       "    <tr>\n",
       "      <td>Выборг</td>\n",
       "      <td>56845.005075</td>\n",
       "    </tr>\n",
       "  </tbody>\n",
       "</table>\n",
       "</div>"
      ],
      "text/plain": [
       "                     meter_price\n",
       "locality_name                   \n",
       "Санкт-Петербург    112164.134785\n",
       "Пушкин             102516.530046\n",
       "деревня Кудрово     91906.261362\n",
       "посёлок Парголово   89778.829260\n",
       "посёлок Мурино      85795.053233\n",
       "посёлок Шушары      78121.715176\n",
       "Колпино             75063.712578\n",
       "Гатчина             67474.444087\n",
       "Всеволожск          66580.679532\n",
       "Выборг              56845.005075"
      ]
     },
     "metadata": {},
     "output_type": "display_data"
    }
   ],
   "source": [
    "display(freq.pivot_table(index='locality_name', values='meter_price', aggfunc='mean')\n",
    "        .sort_values('meter_price', ascending=False))\n"
   ]
  },
  {
   "cell_type": "markdown",
   "metadata": {},
   "source": [
    "<h3>Промежуточный вывод 4</h3>\n",
    "Максимальная средняя стоимость квадратного метра в Санкт-Петербурге, минимальная - в Выборге."
   ]
  },
  {
   "cell_type": "markdown",
   "metadata": {},
   "source": [
    "<h3>Исследование 5. Определение границы центра СПб</h3>\n",
    "Определим границу стоимости для центральной части Санкт-Петербурга.\n",
    "<br>Создадим сред данных для локации Санкт-Петербург и сделаем сводную таблицу средней стоимости в зависимости от расстояния до центра. Построим соответствующий график."
   ]
  },
  {
   "cell_type": "code",
   "execution_count": 47,
   "metadata": {},
   "outputs": [
    {
     "name": "stderr",
     "output_type": "stream",
     "text": [
      "/opt/conda/lib/python3.7/site-packages/ipykernel_launcher.py:1: SettingWithCopyWarning: \n",
      "A value is trying to be set on a copy of a slice from a DataFrame.\n",
      "Try using .loc[row_indexer,col_indexer] = value instead\n",
      "\n",
      "See the caveats in the documentation: http://pandas.pydata.org/pandas-docs/stable/user_guide/indexing.html#returning-a-view-versus-a-copy\n",
      "  \"\"\"Entry point for launching an IPython kernel.\n",
      "/opt/conda/lib/python3.7/site-packages/ipykernel_launcher.py:3: SettingWithCopyWarning: \n",
      "A value is trying to be set on a copy of a slice from a DataFrame.\n",
      "Try using .loc[row_indexer,col_indexer] = value instead\n",
      "\n",
      "See the caveats in the documentation: http://pandas.pydata.org/pandas-docs/stable/user_guide/indexing.html#returning-a-view-versus-a-copy\n",
      "  This is separate from the ipykernel package so we can avoid doing imports until\n"
     ]
    },
    {
     "data": {
      "text/plain": [
       "<matplotlib.axes._subplots.AxesSubplot at 0x7faeba50fed0>"
      ]
     },
     "execution_count": 47,
     "metadata": {},
     "output_type": "execute_result"
    },
    {
     "data": {
      "image/png": "[encoded data removed]",
      "text/plain": [
       "<Figure size 432x288 with 1 Axes>"
      ]
     },
     "metadata": {
      "needs_background": "light"
     },
     "output_type": "display_data"
    }
   ],
   "source": [
    "df_new['center_km']=df_new['city_centers_nearest']/1000 #перевод расстояния до центра в километры\n",
    "df_new = df_new.dropna(subset=['center_km']) #удаление пропущенных значений\n",
    "df_new['center_km_int'] = df_new['center_km'].astype('int') #перевод расстояния в километрах в целые\n",
    "spb=df_new.query('locality_name == \"Санкт-Петербург\"') #срез по локации\n",
    "spb.pivot_table(index='center_km_int', values='meter_price', aggfunc='mean').plot() #сводная таблица и график"
   ]
  },
  {
   "cell_type": "markdown",
   "metadata": {},
   "source": [
    "<h3>Промежуточный вывод 5</h3>\n",
    "Условная граница центра проходит на удалении 10 км. После этого значения цена резко снижается и далее находится примерно в одном диапазоне значений."
   ]
  },
  {
   "cell_type": "markdown",
   "metadata": {},
   "source": [
    "<h3>Исследование 6. Факторы, влияющие на цену квартир в центре СПб</h3>\n",
    "Исследуем сегмент квартир в центре (на удалении не более 10 км)."
   ]
  },
  {
   "cell_type": "code",
   "execution_count": 48,
   "metadata": {},
   "outputs": [
    {
     "data": {
      "text/html": [
       "<div>\n",
       "<style scoped>\n",
       "    .dataframe tbody tr th:only-of-type {\n",
       "        vertical-align: middle;\n",
       "    }\n",
       "\n",
       "    .dataframe tbody tr th {\n",
       "        vertical-align: top;\n",
       "    }\n",
       "\n",
       "    .dataframe thead th {\n",
       "        text-align: right;\n",
       "    }\n",
       "</style>\n",
       "<table border=\"1\" class=\"dataframe\">\n",
       "  <thead>\n",
       "    <tr style=\"text-align: right;\">\n",
       "      <th></th>\n",
       "      <th>ceiling_height</th>\n",
       "      <th>last_price</th>\n",
       "      <th>rooms</th>\n",
       "      <th>total_area</th>\n",
       "    </tr>\n",
       "    <tr>\n",
       "      <th>center_km_int</th>\n",
       "      <th></th>\n",
       "      <th></th>\n",
       "      <th></th>\n",
       "      <th></th>\n",
       "    </tr>\n",
       "  </thead>\n",
       "  <tbody>\n",
       "    <tr>\n",
       "      <td>0</td>\n",
       "      <td>3.042569</td>\n",
       "      <td>2.275328e+07</td>\n",
       "      <td>3.184615</td>\n",
       "      <td>110.282769</td>\n",
       "    </tr>\n",
       "    <tr>\n",
       "      <td>1</td>\n",
       "      <td>3.089175</td>\n",
       "      <td>1.697869e+07</td>\n",
       "      <td>3.202247</td>\n",
       "      <td>99.244944</td>\n",
       "    </tr>\n",
       "    <tr>\n",
       "      <td>2</td>\n",
       "      <td>3.086290</td>\n",
       "      <td>1.622863e+07</td>\n",
       "      <td>3.029915</td>\n",
       "      <td>95.123034</td>\n",
       "    </tr>\n",
       "    <tr>\n",
       "      <td>3</td>\n",
       "      <td>2.983867</td>\n",
       "      <td>1.361728e+07</td>\n",
       "      <td>2.981723</td>\n",
       "      <td>90.352376</td>\n",
       "    </tr>\n",
       "    <tr>\n",
       "      <td>4</td>\n",
       "      <td>2.969323</td>\n",
       "      <td>1.275226e+07</td>\n",
       "      <td>2.820917</td>\n",
       "      <td>92.278138</td>\n",
       "    </tr>\n",
       "    <tr>\n",
       "      <td>5</td>\n",
       "      <td>2.911572</td>\n",
       "      <td>1.548830e+07</td>\n",
       "      <td>2.694590</td>\n",
       "      <td>92.909913</td>\n",
       "    </tr>\n",
       "    <tr>\n",
       "      <td>6</td>\n",
       "      <td>2.873688</td>\n",
       "      <td>1.284728e+07</td>\n",
       "      <td>2.303371</td>\n",
       "      <td>79.024157</td>\n",
       "    </tr>\n",
       "    <tr>\n",
       "      <td>7</td>\n",
       "      <td>2.778846</td>\n",
       "      <td>1.311918e+07</td>\n",
       "      <td>2.402439</td>\n",
       "      <td>77.138110</td>\n",
       "    </tr>\n",
       "    <tr>\n",
       "      <td>8</td>\n",
       "      <td>2.808545</td>\n",
       "      <td>7.760893e+06</td>\n",
       "      <td>2.155070</td>\n",
       "      <td>64.593002</td>\n",
       "    </tr>\n",
       "    <tr>\n",
       "      <td>9</td>\n",
       "      <td>2.717646</td>\n",
       "      <td>6.128128e+06</td>\n",
       "      <td>1.985790</td>\n",
       "      <td>56.288366</td>\n",
       "    </tr>\n",
       "    <tr>\n",
       "      <td>10</td>\n",
       "      <td>2.694702</td>\n",
       "      <td>6.159641e+06</td>\n",
       "      <td>1.970390</td>\n",
       "      <td>54.777699</td>\n",
       "    </tr>\n",
       "  </tbody>\n",
       "</table>\n",
       "</div>"
      ],
      "text/plain": [
       "               ceiling_height    last_price     rooms  total_area\n",
       "center_km_int                                                    \n",
       "0                    3.042569  2.275328e+07  3.184615  110.282769\n",
       "1                    3.089175  1.697869e+07  3.202247   99.244944\n",
       "2                    3.086290  1.622863e+07  3.029915   95.123034\n",
       "3                    2.983867  1.361728e+07  2.981723   90.352376\n",
       "4                    2.969323  1.275226e+07  2.820917   92.278138\n",
       "5                    2.911572  1.548830e+07  2.694590   92.909913\n",
       "6                    2.873688  1.284728e+07  2.303371   79.024157\n",
       "7                    2.778846  1.311918e+07  2.402439   77.138110\n",
       "8                    2.808545  7.760893e+06  2.155070   64.593002\n",
       "9                    2.717646  6.128128e+06  1.985790   56.288366\n",
       "10                   2.694702  6.159641e+06  1.970390   54.777699"
      ]
     },
     "execution_count": 48,
     "metadata": {},
     "output_type": "execute_result"
    }
   ],
   "source": [
    "spb.query('center_km_int<11').pivot_table(index='center_km_int',\n",
    "                                          values=['ceiling_height','rooms','total_area','last_price'],\n",
    "                                          aggfunc='mean')\n"
   ]
  },
  {
   "cell_type": "markdown",
   "metadata": {},
   "source": [
    "По мере удаления от центра квартиры в среднем становятся менее привлекательны.\n",
    "<br>В частности, уменьшается высота потолков, количество комнат и общая площадь. Соразмерно ухудшению этих качеств снижается и цена.\n",
    "<br>Определим факторы, влияющие на стоимость квартиры, такие как число комнат, этаж, удалённость от центра, дата размещения объявления. Для этого построим ряд графиков:"
   ]
  },
  {
   "cell_type": "code",
   "execution_count": 59,
   "metadata": {},
   "outputs": [
    {
     "data": {
      "text/plain": [
       "<matplotlib.axes._subplots.AxesSubplot at 0x7faeb938ba10>"
      ]
     },
     "execution_count": 59,
     "metadata": {},
     "output_type": "execute_result"
    },
    {
     "data": {
      "image/png": "[encoded data removed]",
      "text/plain": [
       "<Figure size 432x288 with 1 Axes>"
      ]
     },
     "metadata": {
      "needs_background": "light"
     },
     "output_type": "display_data"
    },
    {
     "data": {
      "image/png": "[encoded data removed]",
      "text/plain": [
       "<Figure size 432x288 with 1 Axes>"
      ]
     },
     "metadata": {
      "needs_background": "light"
     },
     "output_type": "display_data"
    },
    {
     "data": {
      "image/png": "[encoded data removed]",
      "text/plain": [
       "<Figure size 432x288 with 1 Axes>"
      ]
     },
     "metadata": {
      "needs_background": "light"
     },
     "output_type": "display_data"
    },
    {
     "data": {
      "image/png": "[encoded data removed]",
      "text/plain": [
       "<Figure size 432x288 with 1 Axes>"
      ]
     },
     "metadata": {
      "needs_background": "light"
     },
     "output_type": "display_data"
    }
   ],
   "source": [
    "#оценка влияния количества комнат\n",
    "spb.query('center_km_int<11').pivot_table(index='rooms',\n",
    "                                          values=['last_price'],aggfunc='mean').plot(kind='bar')\n",
    "#оценка влияния этажей - первый, последний, другой\n",
    "spb.query('center_km_int<11').pivot_table(index='floor_type',\n",
    "                                          values=['last_price'],aggfunc='mean').plot(kind='bar')\n",
    "#оценка влияния удалённости от центра\n",
    "spb.query('center_km_int<11').pivot_table(index='center_km_int',\n",
    "                                          values=['last_price'],aggfunc='mean').plot(kind='bar')\n",
    "#оценка влияния года размещения объявления\n",
    "spb.query('center_km_int<11').pivot_table(index='year',\n",
    "                                          values=['last_price'],aggfunc='mean').plot(kind='bar')"
   ]
  },
  {
   "cell_type": "markdown",
   "metadata": {},
   "source": [
    "<h3>Промежуточный вывод 6</h3>\n",
    "По мере удаления от центра города квартиры становятся в среднем менее привлекательны - снижается высота потолков, количество комнат и общая площадь. Однако, соразмерно падает и цена.\n",
    "<br>Влияние на цену основных параметров, таких как количество комнат, этаж, год публикации, удаленность от центра качетсвенно совпадает с таковым для квартир, расположенных в других локациях. При этом, чтоит заметить, что в отличие от среднего значения по всему датафрейму, квартиры в центре СПб и в 2019 году продолжили дешеветь, тогда как для остальных квартир наблюдался незначительный рост."
   ]
  },
  {
   "cell_type": "markdown",
   "metadata": {},
   "source": [
    "## Общий вывод"
   ]
  },
  {
   "cell_type": "markdown",
   "metadata": {},
   "source": [
    "Изучение данных объявлений недвижимости выявило, что в среднем объявления экспонируются порядка 3 месяцев, редкие из них висят от года до трёх лет. \n",
    "<br>На среднюю цену влияют такие объективные факторы, как площадь, количество комнат, этаж расположения квартиры (верхний - наиболее популярный, первый - наименее),её удаленность от центра. \n",
    "При этом, в зависимости от года публикации объявления явно прослеживается тенденция к снижению стоимости квартир в диапазоне от 2014 до 2019 года.\n",
    "<br>Данные наблюдения верны как для квартир, находящихся в мелких городах и на периферии, так и для квартир в центре крупного города - Санкт-Петербурга. В ходе анализа были также определены топ-10  населенных пунктов по количеству размезенных объявлений, лидером среди которых оказался Санкт-Петербург.\n",
    "<br>По динамике изменения средней цены квадратного метра в зависимости от удаленности от центра позволил очертить условную границу центра города для дальнейшего изучения предложений. \n",
    "<br>Анализ предложений в центре Санкт-Петербурга также показал тенденцию к \"ухудшению\" потребительских качеств квартир (площадь, высота потолков, количество комнат) по мере удаления от центра города, но и соответсвующее снижение цены.  "
   ]
  }
 ],
 "metadata": {
  "ExecuteTimeLog": [
   {
    "duration": 107,
    "start_time": "2022-03-10T10:44:46.774Z"
   },
   {
    "duration": 3332,
    "start_time": "2022-03-10T10:45:00.612Z"
   },
   {
    "duration": 3184,
    "start_time": "2022-03-10T10:45:21.653Z"
   },
   {
    "duration": 86,
    "start_time": "2022-03-10T10:45:48.107Z"
   },
   {
    "duration": 123,
    "start_time": "2022-03-10T10:48:59.303Z"
   },
   {
    "duration": 12,
    "start_time": "2022-03-10T10:49:36.813Z"
   },
   {
    "duration": 37,
    "start_time": "2022-03-10T10:53:11.224Z"
   },
   {
    "duration": 8,
    "start_time": "2022-03-10T10:53:33.803Z"
   },
   {
    "duration": 20,
    "start_time": "2022-03-10T10:53:54.967Z"
   },
   {
    "duration": 8,
    "start_time": "2022-03-10T10:54:19.569Z"
   },
   {
    "duration": 8,
    "start_time": "2022-03-10T10:54:46.158Z"
   },
   {
    "duration": 6,
    "start_time": "2022-03-10T10:55:22.378Z"
   },
   {
    "duration": 6,
    "start_time": "2022-03-10T10:55:39.888Z"
   },
   {
    "duration": 12,
    "start_time": "2022-03-10T10:56:09.247Z"
   },
   {
    "duration": 1074,
    "start_time": "2022-03-10T10:58:02.065Z"
   },
   {
    "duration": 21,
    "start_time": "2022-03-10T10:58:03.143Z"
   },
   {
    "duration": 37,
    "start_time": "2022-03-10T10:58:03.167Z"
   },
   {
    "duration": 7,
    "start_time": "2022-03-10T10:58:03.207Z"
   },
   {
    "duration": 51,
    "start_time": "2022-03-10T10:58:03.217Z"
   },
   {
    "duration": 8,
    "start_time": "2022-03-10T10:58:03.270Z"
   },
   {
    "duration": 13,
    "start_time": "2022-03-10T10:58:03.280Z"
   },
   {
    "duration": 27,
    "start_time": "2022-03-10T10:58:03.297Z"
   },
   {
    "duration": 6,
    "start_time": "2022-03-10T10:58:03.352Z"
   },
   {
    "duration": 17,
    "start_time": "2022-03-10T10:58:03.360Z"
   },
   {
    "duration": 164,
    "start_time": "2022-03-10T20:08:40.876Z"
   },
   {
    "duration": 671,
    "start_time": "2022-03-10T20:08:50.314Z"
   },
   {
    "duration": 8,
    "start_time": "2022-03-10T20:08:50.986Z"
   },
   {
    "duration": 37,
    "start_time": "2022-03-10T20:08:50.996Z"
   },
   {
    "duration": 5,
    "start_time": "2022-03-10T20:08:51.034Z"
   },
   {
    "duration": 11,
    "start_time": "2022-03-10T20:08:51.041Z"
   },
   {
    "duration": 6,
    "start_time": "2022-03-10T20:08:51.054Z"
   },
   {
    "duration": 7,
    "start_time": "2022-03-10T20:08:51.062Z"
   },
   {
    "duration": 4,
    "start_time": "2022-03-10T20:08:51.072Z"
   },
   {
    "duration": 5,
    "start_time": "2022-03-10T20:08:51.078Z"
   },
   {
    "duration": 52,
    "start_time": "2022-03-10T20:08:51.084Z"
   },
   {
    "duration": 9,
    "start_time": "2022-03-10T20:08:51.138Z"
   },
   {
    "duration": 7,
    "start_time": "2022-03-10T20:13:32.455Z"
   },
   {
    "duration": 7,
    "start_time": "2022-03-10T20:13:57.354Z"
   },
   {
    "duration": 178,
    "start_time": "2022-03-10T20:14:24.610Z"
   },
   {
    "duration": 7,
    "start_time": "2022-03-10T20:15:16.364Z"
   },
   {
    "duration": 6,
    "start_time": "2022-03-10T20:15:20.506Z"
   },
   {
    "duration": 4,
    "start_time": "2022-03-10T20:15:23.921Z"
   },
   {
    "duration": 1737,
    "start_time": "2022-03-10T20:15:31.920Z"
   },
   {
    "duration": 3,
    "start_time": "2022-03-10T20:15:33.663Z"
   },
   {
    "duration": 623,
    "start_time": "2022-03-10T20:15:42.342Z"
   },
   {
    "duration": 7,
    "start_time": "2022-03-10T20:15:42.967Z"
   },
   {
    "duration": 25,
    "start_time": "2022-03-10T20:15:42.976Z"
   },
   {
    "duration": 5,
    "start_time": "2022-03-10T20:15:43.002Z"
   },
   {
    "duration": 32,
    "start_time": "2022-03-10T20:15:43.009Z"
   },
   {
    "duration": 5,
    "start_time": "2022-03-10T20:15:43.043Z"
   },
   {
    "duration": 5,
    "start_time": "2022-03-10T20:15:43.049Z"
   },
   {
    "duration": 3,
    "start_time": "2022-03-10T20:15:43.056Z"
   },
   {
    "duration": 4,
    "start_time": "2022-03-10T20:15:43.061Z"
   },
   {
    "duration": 7,
    "start_time": "2022-03-10T20:15:43.066Z"
   },
   {
    "duration": 4,
    "start_time": "2022-03-10T20:15:43.075Z"
   },
   {
    "duration": 10,
    "start_time": "2022-03-10T20:15:43.081Z"
   },
   {
    "duration": 195,
    "start_time": "2022-03-10T20:22:06.105Z"
   },
   {
    "duration": 3,
    "start_time": "2022-03-10T20:24:07.788Z"
   },
   {
    "duration": 4,
    "start_time": "2022-03-10T20:42:52.104Z"
   },
   {
    "duration": 4,
    "start_time": "2022-03-10T20:43:16.395Z"
   },
   {
    "duration": 5,
    "start_time": "2022-03-10T20:43:58.988Z"
   },
   {
    "duration": 6,
    "start_time": "2022-03-10T20:44:50.123Z"
   },
   {
    "duration": 5,
    "start_time": "2022-03-10T20:45:37.213Z"
   },
   {
    "duration": 7,
    "start_time": "2022-03-10T20:45:41.148Z"
   },
   {
    "duration": 5,
    "start_time": "2022-03-10T20:49:33.958Z"
   },
   {
    "duration": 242,
    "start_time": "2022-03-10T21:00:43.474Z"
   },
   {
    "duration": 4,
    "start_time": "2022-03-10T21:08:23.126Z"
   },
   {
    "duration": 9,
    "start_time": "2022-03-10T21:08:26.754Z"
   },
   {
    "duration": 128,
    "start_time": "2022-03-10T21:26:24.785Z"
   },
   {
    "duration": 141,
    "start_time": "2022-03-10T21:26:38.624Z"
   },
   {
    "duration": 5,
    "start_time": "2022-03-10T21:29:01.557Z"
   },
   {
    "duration": 5,
    "start_time": "2022-03-10T21:29:18.502Z"
   },
   {
    "duration": 6,
    "start_time": "2022-03-10T21:29:32.346Z"
   },
   {
    "duration": 4,
    "start_time": "2022-03-10T21:29:58.695Z"
   },
   {
    "duration": 8,
    "start_time": "2022-03-10T21:30:05.912Z"
   },
   {
    "duration": 6,
    "start_time": "2022-03-10T21:36:18.974Z"
   },
   {
    "duration": 7,
    "start_time": "2022-03-10T21:39:24.090Z"
   },
   {
    "duration": 7,
    "start_time": "2022-03-10T21:40:14.769Z"
   },
   {
    "duration": 7,
    "start_time": "2022-03-10T21:40:20.747Z"
   },
   {
    "duration": 8,
    "start_time": "2022-03-10T21:45:37.175Z"
   },
   {
    "duration": 12,
    "start_time": "2022-03-10T21:47:27.293Z"
   },
   {
    "duration": 200,
    "start_time": "2022-03-10T21:52:40.369Z"
   },
   {
    "duration": 10,
    "start_time": "2022-03-10T21:52:54.670Z"
   },
   {
    "duration": 619,
    "start_time": "2022-03-10T21:53:05.696Z"
   },
   {
    "duration": 22,
    "start_time": "2022-03-10T21:53:06.317Z"
   },
   {
    "duration": 12,
    "start_time": "2022-03-10T21:53:06.341Z"
   },
   {
    "duration": 37,
    "start_time": "2022-03-10T21:53:06.355Z"
   },
   {
    "duration": 6,
    "start_time": "2022-03-10T21:53:06.394Z"
   },
   {
    "duration": 35,
    "start_time": "2022-03-10T21:53:06.402Z"
   },
   {
    "duration": 6,
    "start_time": "2022-03-10T21:53:06.439Z"
   },
   {
    "duration": 9,
    "start_time": "2022-03-10T21:53:06.447Z"
   },
   {
    "duration": 4,
    "start_time": "2022-03-10T21:53:06.459Z"
   },
   {
    "duration": 4,
    "start_time": "2022-03-10T21:53:06.465Z"
   },
   {
    "duration": 9,
    "start_time": "2022-03-10T21:53:06.470Z"
   },
   {
    "duration": 6,
    "start_time": "2022-03-10T21:53:06.481Z"
   },
   {
    "duration": 7,
    "start_time": "2022-03-10T21:53:06.488Z"
   },
   {
    "duration": 37,
    "start_time": "2022-03-10T21:53:06.497Z"
   },
   {
    "duration": 7,
    "start_time": "2022-03-10T21:53:06.535Z"
   },
   {
    "duration": 12,
    "start_time": "2022-03-10T21:53:06.544Z"
   },
   {
    "duration": 3181,
    "start_time": "2022-03-10T21:53:06.557Z"
   },
   {
    "duration": 176,
    "start_time": "2022-03-10T21:53:09.564Z"
   },
   {
    "duration": 6,
    "start_time": "2022-03-10T21:57:12.797Z"
   },
   {
    "duration": 5,
    "start_time": "2022-03-10T21:57:26.462Z"
   },
   {
    "duration": 9,
    "start_time": "2022-03-10T21:57:44.944Z"
   },
   {
    "duration": 8,
    "start_time": "2022-03-10T22:00:04.918Z"
   },
   {
    "duration": 274,
    "start_time": "2022-03-11T14:56:21.305Z"
   },
   {
    "duration": 888,
    "start_time": "2022-03-11T14:56:29.043Z"
   },
   {
    "duration": 10,
    "start_time": "2022-03-11T14:56:29.934Z"
   },
   {
    "duration": 12,
    "start_time": "2022-03-11T14:56:29.947Z"
   },
   {
    "duration": 37,
    "start_time": "2022-03-11T14:56:29.984Z"
   },
   {
    "duration": 7,
    "start_time": "2022-03-11T14:56:30.024Z"
   },
   {
    "duration": 16,
    "start_time": "2022-03-11T14:56:30.034Z"
   },
   {
    "duration": 8,
    "start_time": "2022-03-11T14:56:30.083Z"
   },
   {
    "duration": 15,
    "start_time": "2022-03-11T14:56:30.094Z"
   },
   {
    "duration": 8,
    "start_time": "2022-03-11T14:56:30.112Z"
   },
   {
    "duration": 9,
    "start_time": "2022-03-11T14:56:30.122Z"
   },
   {
    "duration": 15,
    "start_time": "2022-03-11T14:56:30.134Z"
   },
   {
    "duration": 37,
    "start_time": "2022-03-11T14:56:30.151Z"
   },
   {
    "duration": 14,
    "start_time": "2022-03-11T14:56:30.190Z"
   },
   {
    "duration": 8,
    "start_time": "2022-03-11T14:56:30.207Z"
   },
   {
    "duration": 12,
    "start_time": "2022-03-11T14:56:30.218Z"
   },
   {
    "duration": 50,
    "start_time": "2022-03-11T14:56:30.232Z"
   },
   {
    "duration": 10,
    "start_time": "2022-03-11T14:56:30.285Z"
   },
   {
    "duration": 24,
    "start_time": "2022-03-11T14:56:30.297Z"
   },
   {
    "duration": 36,
    "start_time": "2022-03-11T14:56:30.324Z"
   },
   {
    "duration": 327,
    "start_time": "2022-03-11T15:14:47.741Z"
   },
   {
    "duration": 297,
    "start_time": "2022-03-11T15:26:51.741Z"
   },
   {
    "duration": 236,
    "start_time": "2022-03-11T15:32:13.762Z"
   },
   {
    "duration": 33,
    "start_time": "2022-03-11T15:32:46.948Z"
   },
   {
    "duration": 38,
    "start_time": "2022-03-11T15:33:26.210Z"
   },
   {
    "duration": 426,
    "start_time": "2022-03-11T15:46:04.988Z"
   },
   {
    "duration": 1033,
    "start_time": "2022-03-11T15:46:24.048Z"
   },
   {
    "duration": 95,
    "start_time": "2022-03-11T15:46:41.140Z"
   },
   {
    "duration": 94,
    "start_time": "2022-03-11T15:46:47.101Z"
   },
   {
    "duration": 270,
    "start_time": "2022-03-11T15:46:49.979Z"
   },
   {
    "duration": 895,
    "start_time": "2022-03-11T15:47:56.864Z"
   },
   {
    "duration": 42,
    "start_time": "2022-03-11T15:49:47.380Z"
   },
   {
    "duration": 44,
    "start_time": "2022-03-11T15:50:04.988Z"
   },
   {
    "duration": 20,
    "start_time": "2022-03-11T16:04:56.715Z"
   },
   {
    "duration": 36,
    "start_time": "2022-03-11T16:05:39.849Z"
   },
   {
    "duration": 39,
    "start_time": "2022-03-11T16:05:57.781Z"
   },
   {
    "duration": 6,
    "start_time": "2022-03-11T16:11:56.750Z"
   },
   {
    "duration": 5,
    "start_time": "2022-03-11T16:13:44.080Z"
   },
   {
    "duration": 36,
    "start_time": "2022-03-11T16:14:02.617Z"
   },
   {
    "duration": 267,
    "start_time": "2022-03-12T14:12:16.343Z"
   },
   {
    "duration": 228,
    "start_time": "2022-03-12T14:12:20.685Z"
   },
   {
    "duration": 672,
    "start_time": "2022-03-12T14:12:27.787Z"
   },
   {
    "duration": 8,
    "start_time": "2022-03-12T14:12:28.460Z"
   },
   {
    "duration": 8,
    "start_time": "2022-03-12T14:12:28.470Z"
   },
   {
    "duration": 27,
    "start_time": "2022-03-12T14:12:28.480Z"
   },
   {
    "duration": 5,
    "start_time": "2022-03-12T14:12:28.508Z"
   },
   {
    "duration": 12,
    "start_time": "2022-03-12T14:12:28.515Z"
   },
   {
    "duration": 34,
    "start_time": "2022-03-12T14:12:28.529Z"
   },
   {
    "duration": 5,
    "start_time": "2022-03-12T14:12:28.565Z"
   },
   {
    "duration": 4,
    "start_time": "2022-03-12T14:12:28.573Z"
   },
   {
    "duration": 4,
    "start_time": "2022-03-12T14:12:28.578Z"
   },
   {
    "duration": 11,
    "start_time": "2022-03-12T14:12:28.583Z"
   },
   {
    "duration": 7,
    "start_time": "2022-03-12T14:12:28.595Z"
   },
   {
    "duration": 11,
    "start_time": "2022-03-12T14:12:28.603Z"
   },
   {
    "duration": 45,
    "start_time": "2022-03-12T14:12:28.615Z"
   },
   {
    "duration": 6,
    "start_time": "2022-03-12T14:12:28.662Z"
   },
   {
    "duration": 15,
    "start_time": "2022-03-12T14:12:28.670Z"
   },
   {
    "duration": 9,
    "start_time": "2022-03-12T14:12:28.687Z"
   },
   {
    "duration": 10,
    "start_time": "2022-03-12T14:12:28.698Z"
   },
   {
    "duration": 62,
    "start_time": "2022-03-12T14:12:28.710Z"
   },
   {
    "duration": 37,
    "start_time": "2022-03-12T14:12:28.774Z"
   },
   {
    "duration": 55,
    "start_time": "2022-03-12T14:12:28.813Z"
   },
   {
    "duration": 4,
    "start_time": "2022-03-12T14:12:28.869Z"
   },
   {
    "duration": 26,
    "start_time": "2022-03-12T14:12:28.875Z"
   },
   {
    "duration": 5712,
    "start_time": "2022-03-12T14:12:28.902Z"
   },
   {
    "duration": 239,
    "start_time": "2022-03-12T14:12:41.997Z"
   },
   {
    "duration": 349,
    "start_time": "2022-03-12T14:12:55.053Z"
   },
   {
    "duration": 301,
    "start_time": "2022-03-12T14:18:57.044Z"
   },
   {
    "duration": 238,
    "start_time": "2022-03-12T14:19:01.701Z"
   },
   {
    "duration": 1129,
    "start_time": "2022-03-12T14:19:06.223Z"
   },
   {
    "duration": 771,
    "start_time": "2022-03-12T14:19:18.742Z"
   },
   {
    "duration": 737,
    "start_time": "2022-03-12T14:19:31.110Z"
   },
   {
    "duration": 356,
    "start_time": "2022-03-12T14:19:54.663Z"
   },
   {
    "duration": 363,
    "start_time": "2022-03-12T14:48:30.362Z"
   },
   {
    "duration": 367,
    "start_time": "2022-03-12T14:48:43.111Z"
   },
   {
    "duration": 455,
    "start_time": "2022-03-12T14:48:51.152Z"
   },
   {
    "duration": 198,
    "start_time": "2022-03-12T14:48:53.721Z"
   },
   {
    "duration": 296,
    "start_time": "2022-03-12T14:49:14.699Z"
   },
   {
    "duration": 271,
    "start_time": "2022-03-12T14:49:23.884Z"
   },
   {
    "duration": 201,
    "start_time": "2022-03-12T14:49:28.421Z"
   },
   {
    "duration": 386,
    "start_time": "2022-03-12T15:31:27.101Z"
   },
   {
    "duration": 817,
    "start_time": "2022-03-12T15:32:02.945Z"
   },
   {
    "duration": 387,
    "start_time": "2022-03-12T15:32:16.915Z"
   },
   {
    "duration": 204,
    "start_time": "2022-03-12T15:32:21.709Z"
   },
   {
    "duration": 397,
    "start_time": "2022-03-12T15:32:34.899Z"
   },
   {
    "duration": 354,
    "start_time": "2022-03-12T15:32:46.453Z"
   },
   {
    "duration": 351,
    "start_time": "2022-03-12T15:32:50.171Z"
   },
   {
    "duration": 366,
    "start_time": "2022-03-12T15:33:04.388Z"
   },
   {
    "duration": 501,
    "start_time": "2022-03-12T15:33:16.162Z"
   },
   {
    "duration": 384,
    "start_time": "2022-03-12T15:33:31.450Z"
   },
   {
    "duration": 380,
    "start_time": "2022-03-12T15:43:25.501Z"
   },
   {
    "duration": 289,
    "start_time": "2022-03-12T17:59:35.477Z"
   },
   {
    "duration": 822,
    "start_time": "2022-03-12T17:59:42.699Z"
   },
   {
    "duration": 9,
    "start_time": "2022-03-12T17:59:43.524Z"
   },
   {
    "duration": 11,
    "start_time": "2022-03-12T17:59:43.536Z"
   },
   {
    "duration": 59,
    "start_time": "2022-03-12T17:59:43.550Z"
   },
   {
    "duration": 6,
    "start_time": "2022-03-12T17:59:43.612Z"
   },
   {
    "duration": 16,
    "start_time": "2022-03-12T17:59:43.621Z"
   },
   {
    "duration": 6,
    "start_time": "2022-03-12T17:59:43.640Z"
   },
   {
    "duration": 7,
    "start_time": "2022-03-12T17:59:43.682Z"
   },
   {
    "duration": 10,
    "start_time": "2022-03-12T17:59:43.694Z"
   },
   {
    "duration": 8,
    "start_time": "2022-03-12T17:59:43.707Z"
   },
   {
    "duration": 15,
    "start_time": "2022-03-12T17:59:43.717Z"
   },
   {
    "duration": 9,
    "start_time": "2022-03-12T17:59:43.734Z"
   },
   {
    "duration": 39,
    "start_time": "2022-03-12T17:59:43.745Z"
   },
   {
    "duration": 10,
    "start_time": "2022-03-12T17:59:43.786Z"
   },
   {
    "duration": 10,
    "start_time": "2022-03-12T17:59:43.799Z"
   },
   {
    "duration": 16,
    "start_time": "2022-03-12T17:59:43.811Z"
   },
   {
    "duration": 55,
    "start_time": "2022-03-12T17:59:43.829Z"
   },
   {
    "duration": 10,
    "start_time": "2022-03-12T17:59:43.886Z"
   },
   {
    "duration": 34,
    "start_time": "2022-03-12T17:59:43.899Z"
   },
   {
    "duration": 82,
    "start_time": "2022-03-12T17:59:43.936Z"
   },
   {
    "duration": 46,
    "start_time": "2022-03-12T17:59:44.021Z"
   },
   {
    "duration": 5,
    "start_time": "2022-03-12T17:59:44.083Z"
   },
   {
    "duration": 43,
    "start_time": "2022-03-12T17:59:44.090Z"
   },
   {
    "duration": 641,
    "start_time": "2022-03-12T17:59:44.135Z"
   },
   {
    "duration": 295,
    "start_time": "2022-03-12T17:59:44.782Z"
   },
   {
    "duration": 617,
    "start_time": "2022-03-12T17:59:45.079Z"
   },
   {
    "duration": 573,
    "start_time": "2022-03-12T17:59:45.700Z"
   },
   {
    "duration": 602,
    "start_time": "2022-03-12T17:59:46.282Z"
   },
   {
    "duration": 576,
    "start_time": "2022-03-12T18:00:05.666Z"
   },
   {
    "duration": 516,
    "start_time": "2022-03-12T18:00:18.854Z"
   },
   {
    "duration": 591,
    "start_time": "2022-03-12T18:00:24.309Z"
   },
   {
    "duration": 297,
    "start_time": "2022-03-12T18:00:33.919Z"
   },
   {
    "duration": 1587,
    "start_time": "2022-03-12T18:00:39.763Z"
   },
   {
    "duration": 508,
    "start_time": "2022-03-12T18:00:51.610Z"
   },
   {
    "duration": 422,
    "start_time": "2022-03-12T18:01:01.760Z"
   },
   {
    "duration": 512,
    "start_time": "2022-03-12T18:01:28.342Z"
   },
   {
    "duration": 1329,
    "start_time": "2022-03-12T18:01:32.961Z"
   },
   {
    "duration": 328,
    "start_time": "2022-03-12T18:01:37.037Z"
   },
   {
    "duration": 342,
    "start_time": "2022-03-12T18:01:42.402Z"
   },
   {
    "duration": 445,
    "start_time": "2022-03-12T18:01:46.289Z"
   },
   {
    "duration": 341,
    "start_time": "2022-03-12T18:01:55.101Z"
   },
   {
    "duration": 829,
    "start_time": "2022-03-12T18:02:01.953Z"
   },
   {
    "duration": 314,
    "start_time": "2022-03-12T18:02:06.711Z"
   },
   {
    "duration": 660,
    "start_time": "2022-03-12T18:09:51.385Z"
   },
   {
    "duration": 526,
    "start_time": "2022-03-12T18:11:18.716Z"
   },
   {
    "duration": 539,
    "start_time": "2022-03-12T18:11:29.377Z"
   },
   {
    "duration": 542,
    "start_time": "2022-03-12T18:12:54.075Z"
   },
   {
    "duration": 826,
    "start_time": "2022-03-12T18:13:17.908Z"
   },
   {
    "duration": 1365,
    "start_time": "2022-03-12T18:21:40.789Z"
   },
   {
    "duration": 7,
    "start_time": "2022-03-12T18:30:31.082Z"
   },
   {
    "duration": 11,
    "start_time": "2022-03-12T18:30:37.378Z"
   },
   {
    "duration": 14,
    "start_time": "2022-03-12T18:33:15.047Z"
   },
   {
    "duration": 20,
    "start_time": "2022-03-12T18:33:35.011Z"
   },
   {
    "duration": 16,
    "start_time": "2022-03-12T18:34:06.959Z"
   },
   {
    "duration": 1094,
    "start_time": "2022-03-12T18:39:44.069Z"
   },
   {
    "duration": 1100,
    "start_time": "2022-03-12T18:40:13.174Z"
   },
   {
    "duration": 9383,
    "start_time": "2022-03-12T18:40:24.989Z"
   },
   {
    "duration": 536,
    "start_time": "2022-03-12T18:40:41.182Z"
   },
   {
    "duration": 577,
    "start_time": "2022-03-12T18:41:03.387Z"
   },
   {
    "duration": 512,
    "start_time": "2022-03-12T18:42:08.047Z"
   },
   {
    "duration": 564,
    "start_time": "2022-03-12T18:42:41.867Z"
   },
   {
    "duration": 1050,
    "start_time": "2022-03-12T18:42:54.301Z"
   },
   {
    "duration": 1377,
    "start_time": "2022-03-12T18:44:29.798Z"
   },
   {
    "duration": 532,
    "start_time": "2022-03-12T18:44:36.059Z"
   },
   {
    "duration": 536,
    "start_time": "2022-03-12T18:44:51.579Z"
   },
   {
    "duration": 814,
    "start_time": "2022-03-12T18:45:38.931Z"
   },
   {
    "duration": 530,
    "start_time": "2022-03-12T18:45:51.220Z"
   },
   {
    "duration": 550,
    "start_time": "2022-03-12T18:46:08.996Z"
   },
   {
    "duration": 326,
    "start_time": "2022-03-12T18:51:31.992Z"
   },
   {
    "duration": 321,
    "start_time": "2022-03-12T18:51:51.936Z"
   },
   {
    "duration": 74,
    "start_time": "2022-03-12T18:57:11.558Z"
   },
   {
    "duration": 350,
    "start_time": "2022-03-12T18:57:20.662Z"
   },
   {
    "duration": 12,
    "start_time": "2022-03-12T18:57:42.011Z"
   },
   {
    "duration": 235,
    "start_time": "2022-03-12T19:00:45.712Z"
   },
   {
    "duration": 18,
    "start_time": "2022-03-12T19:03:09.390Z"
   },
   {
    "duration": 18,
    "start_time": "2022-03-12T19:03:26.855Z"
   },
   {
    "duration": 537,
    "start_time": "2022-03-12T19:03:39.440Z"
   },
   {
    "duration": 16,
    "start_time": "2022-03-12T19:03:57.491Z"
   },
   {
    "duration": 544,
    "start_time": "2022-03-12T19:03:59.968Z"
   },
   {
    "duration": 75,
    "start_time": "2022-03-12T19:04:50.667Z"
   },
   {
    "duration": 1803,
    "start_time": "2022-03-12T19:05:06.706Z"
   },
   {
    "duration": 546,
    "start_time": "2022-03-12T19:05:08.859Z"
   },
   {
    "duration": 76,
    "start_time": "2022-03-12T19:05:28.712Z"
   },
   {
    "duration": 1514,
    "start_time": "2022-03-12T19:05:35.395Z"
   },
   {
    "duration": 31,
    "start_time": "2022-03-12T19:05:57.964Z"
   },
   {
    "duration": 576,
    "start_time": "2022-03-12T19:06:00.276Z"
   },
   {
    "duration": 23,
    "start_time": "2022-03-12T19:06:15.754Z"
   },
   {
    "duration": 901,
    "start_time": "2022-03-12T19:06:21.441Z"
   },
   {
    "duration": 38,
    "start_time": "2022-03-12T19:07:29.999Z"
   },
   {
    "duration": 597,
    "start_time": "2022-03-12T19:07:31.206Z"
   },
   {
    "duration": 25,
    "start_time": "2022-03-12T19:07:40.231Z"
   },
   {
    "duration": 569,
    "start_time": "2022-03-12T19:07:41.813Z"
   },
   {
    "duration": 904,
    "start_time": "2022-03-12T19:07:54.711Z"
   },
   {
    "duration": 10,
    "start_time": "2022-03-12T19:07:55.618Z"
   },
   {
    "duration": 12,
    "start_time": "2022-03-12T19:07:55.631Z"
   },
   {
    "duration": 67,
    "start_time": "2022-03-12T19:07:55.646Z"
   },
   {
    "duration": 7,
    "start_time": "2022-03-12T19:07:55.715Z"
   },
   {
    "duration": 21,
    "start_time": "2022-03-12T19:07:55.724Z"
   },
   {
    "duration": 36,
    "start_time": "2022-03-12T19:07:55.747Z"
   },
   {
    "duration": 7,
    "start_time": "2022-03-12T19:07:55.785Z"
   },
   {
    "duration": 11,
    "start_time": "2022-03-12T19:07:55.796Z"
   },
   {
    "duration": 13,
    "start_time": "2022-03-12T19:07:55.810Z"
   },
   {
    "duration": 16,
    "start_time": "2022-03-12T19:07:55.826Z"
   },
   {
    "duration": 9,
    "start_time": "2022-03-12T19:07:55.844Z"
   },
   {
    "duration": 8,
    "start_time": "2022-03-12T19:07:55.882Z"
   },
   {
    "duration": 7,
    "start_time": "2022-03-12T19:07:55.892Z"
   },
   {
    "duration": 9,
    "start_time": "2022-03-12T19:07:55.901Z"
   },
   {
    "duration": 16,
    "start_time": "2022-03-12T19:07:55.912Z"
   },
   {
    "duration": 59,
    "start_time": "2022-03-12T19:07:55.930Z"
   },
   {
    "duration": 11,
    "start_time": "2022-03-12T19:07:55.992Z"
   },
   {
    "duration": 32,
    "start_time": "2022-03-12T19:07:56.005Z"
   },
   {
    "duration": 82,
    "start_time": "2022-03-12T19:07:56.039Z"
   },
   {
    "duration": 63,
    "start_time": "2022-03-12T19:07:56.124Z"
   },
   {
    "duration": 6,
    "start_time": "2022-03-12T19:07:56.189Z"
   },
   {
    "duration": 42,
    "start_time": "2022-03-12T19:07:56.197Z"
   },
   {
    "duration": 652,
    "start_time": "2022-03-12T19:07:56.242Z"
   },
   {
    "duration": 311,
    "start_time": "2022-03-12T19:07:56.896Z"
   },
   {
    "duration": 619,
    "start_time": "2022-03-12T19:07:57.210Z"
   },
   {
    "duration": 590,
    "start_time": "2022-03-12T19:07:57.835Z"
   },
   {
    "duration": 357,
    "start_time": "2022-03-12T19:07:58.428Z"
   },
   {
    "duration": 1124,
    "start_time": "2022-03-12T19:07:58.787Z"
   },
   {
    "duration": 17,
    "start_time": "2022-03-12T19:07:59.914Z"
   },
   {
    "duration": 579,
    "start_time": "2022-03-12T19:07:59.934Z"
   },
   {
    "duration": 689,
    "start_time": "2022-03-12T19:08:00.516Z"
   },
   {
    "duration": 47,
    "start_time": "2022-03-12T19:08:01.208Z"
   },
   {
    "duration": 630,
    "start_time": "2022-03-12T19:08:01.258Z"
   },
   {
    "duration": 13,
    "start_time": "2022-03-12T19:09:23.017Z"
   },
   {
    "duration": 309,
    "start_time": "2022-03-12T19:09:24.609Z"
   },
   {
    "duration": 219,
    "start_time": "2022-03-12T19:09:35.573Z"
   },
   {
    "duration": 225,
    "start_time": "2022-03-12T19:09:36.200Z"
   },
   {
    "duration": 806,
    "start_time": "2022-03-12T19:09:47.023Z"
   },
   {
    "duration": 11,
    "start_time": "2022-03-12T19:09:47.831Z"
   },
   {
    "duration": 12,
    "start_time": "2022-03-12T19:09:47.846Z"
   },
   {
    "duration": 39,
    "start_time": "2022-03-12T19:09:47.883Z"
   },
   {
    "duration": 7,
    "start_time": "2022-03-12T19:09:47.924Z"
   },
   {
    "duration": 19,
    "start_time": "2022-03-12T19:09:47.933Z"
   },
   {
    "duration": 7,
    "start_time": "2022-03-12T19:09:47.983Z"
   },
   {
    "duration": 8,
    "start_time": "2022-03-12T19:09:47.994Z"
   },
   {
    "duration": 14,
    "start_time": "2022-03-12T19:09:48.004Z"
   },
   {
    "duration": 16,
    "start_time": "2022-03-12T19:09:48.020Z"
   },
   {
    "duration": 12,
    "start_time": "2022-03-12T19:09:48.038Z"
   },
   {
    "duration": 36,
    "start_time": "2022-03-12T19:09:48.052Z"
   },
   {
    "duration": 8,
    "start_time": "2022-03-12T19:09:48.091Z"
   },
   {
    "duration": 7,
    "start_time": "2022-03-12T19:09:48.101Z"
   },
   {
    "duration": 10,
    "start_time": "2022-03-12T19:09:48.110Z"
   },
   {
    "duration": 17,
    "start_time": "2022-03-12T19:09:48.122Z"
   },
   {
    "duration": 51,
    "start_time": "2022-03-12T19:09:48.141Z"
   },
   {
    "duration": 10,
    "start_time": "2022-03-12T19:09:48.195Z"
   },
   {
    "duration": 34,
    "start_time": "2022-03-12T19:09:48.208Z"
   },
   {
    "duration": 88,
    "start_time": "2022-03-12T19:09:48.244Z"
   },
   {
    "duration": 67,
    "start_time": "2022-03-12T19:09:48.334Z"
   },
   {
    "duration": 6,
    "start_time": "2022-03-12T19:09:48.403Z"
   },
   {
    "duration": 37,
    "start_time": "2022-03-12T19:09:48.414Z"
   },
   {
    "duration": 685,
    "start_time": "2022-03-12T19:09:48.454Z"
   },
   {
    "duration": 298,
    "start_time": "2022-03-12T19:09:49.141Z"
   },
   {
    "duration": 615,
    "start_time": "2022-03-12T19:09:49.442Z"
   },
   {
    "duration": 603,
    "start_time": "2022-03-12T19:09:50.060Z"
   },
   {
    "duration": 370,
    "start_time": "2022-03-12T19:09:50.666Z"
   },
   {
    "duration": 1230,
    "start_time": "2022-03-12T19:09:51.039Z"
   },
   {
    "duration": 33,
    "start_time": "2022-03-12T19:09:52.272Z"
   },
   {
    "duration": 600,
    "start_time": "2022-03-12T19:09:52.308Z"
   },
   {
    "duration": 655,
    "start_time": "2022-03-12T19:09:52.910Z"
   },
   {
    "duration": 34,
    "start_time": "2022-03-12T19:09:53.567Z"
   },
   {
    "duration": 627,
    "start_time": "2022-03-12T19:09:53.603Z"
   },
   {
    "duration": 14,
    "start_time": "2022-03-12T19:10:17.243Z"
   },
   {
    "duration": 532,
    "start_time": "2022-03-12T19:10:18.327Z"
   },
   {
    "duration": 70,
    "start_time": "2022-03-12T19:10:24.686Z"
   },
   {
    "duration": 563,
    "start_time": "2022-03-12T19:10:33.419Z"
   },
   {
    "duration": 15,
    "start_time": "2022-03-12T19:10:48.996Z"
   },
   {
    "duration": 465,
    "start_time": "2022-03-13T14:11:11.111Z"
   },
   {
    "duration": 893,
    "start_time": "2022-03-13T14:11:18.110Z"
   },
   {
    "duration": 9,
    "start_time": "2022-03-13T14:11:19.006Z"
   },
   {
    "duration": 38,
    "start_time": "2022-03-13T14:11:19.018Z"
   },
   {
    "duration": 55,
    "start_time": "2022-03-13T14:11:19.059Z"
   },
   {
    "duration": 9,
    "start_time": "2022-03-13T14:11:19.116Z"
   },
   {
    "duration": 44,
    "start_time": "2022-03-13T14:11:19.128Z"
   },
   {
    "duration": 59,
    "start_time": "2022-03-13T14:11:19.176Z"
   },
   {
    "duration": 16,
    "start_time": "2022-03-13T14:11:19.239Z"
   },
   {
    "duration": 36,
    "start_time": "2022-03-13T14:11:19.258Z"
   },
   {
    "duration": 22,
    "start_time": "2022-03-13T14:11:19.297Z"
   },
   {
    "duration": 29,
    "start_time": "2022-03-13T14:11:19.321Z"
   },
   {
    "duration": 22,
    "start_time": "2022-03-13T14:11:19.353Z"
   },
   {
    "duration": 46,
    "start_time": "2022-03-13T14:11:19.377Z"
   },
   {
    "duration": 31,
    "start_time": "2022-03-13T14:11:19.425Z"
   },
   {
    "duration": 21,
    "start_time": "2022-03-13T14:11:19.458Z"
   },
   {
    "duration": 57,
    "start_time": "2022-03-13T14:11:19.482Z"
   },
   {
    "duration": 28,
    "start_time": "2022-03-13T14:11:19.542Z"
   },
   {
    "duration": 53,
    "start_time": "2022-03-13T14:11:19.573Z"
   },
   {
    "duration": 47,
    "start_time": "2022-03-13T14:11:19.629Z"
   },
   {
    "duration": 58,
    "start_time": "2022-03-13T14:11:19.679Z"
   },
   {
    "duration": 68,
    "start_time": "2022-03-13T14:11:19.739Z"
   },
   {
    "duration": 5,
    "start_time": "2022-03-13T14:11:19.809Z"
   },
   {
    "duration": 49,
    "start_time": "2022-03-13T14:11:19.819Z"
   },
   {
    "duration": 680,
    "start_time": "2022-03-13T14:11:19.871Z"
   },
   {
    "duration": 322,
    "start_time": "2022-03-13T14:11:20.553Z"
   },
   {
    "duration": 621,
    "start_time": "2022-03-13T14:11:20.882Z"
   },
   {
    "duration": 603,
    "start_time": "2022-03-13T14:11:21.506Z"
   },
   {
    "duration": 349,
    "start_time": "2022-03-13T14:11:22.112Z"
   },
   {
    "duration": 1180,
    "start_time": "2022-03-13T14:11:22.464Z"
   },
   {
    "duration": 17,
    "start_time": "2022-03-13T14:11:23.647Z"
   },
   {
    "duration": 584,
    "start_time": "2022-03-13T14:11:23.684Z"
   },
   {
    "duration": 688,
    "start_time": "2022-03-13T14:11:24.270Z"
   },
   {
    "duration": 37,
    "start_time": "2022-03-13T14:11:24.960Z"
   },
   {
    "duration": 416,
    "start_time": "2022-03-13T14:11:25.000Z"
   },
   {
    "duration": 244,
    "start_time": "2022-03-13T14:14:42.815Z"
   },
   {
    "duration": 234,
    "start_time": "2022-03-13T14:14:52.712Z"
   },
   {
    "duration": 887,
    "start_time": "2022-03-13T14:15:02.768Z"
   },
   {
    "duration": 24,
    "start_time": "2022-03-13T14:15:03.658Z"
   },
   {
    "duration": 16,
    "start_time": "2022-03-13T14:15:03.687Z"
   },
   {
    "duration": 46,
    "start_time": "2022-03-13T14:15:03.707Z"
   },
   {
    "duration": 26,
    "start_time": "2022-03-13T14:15:03.756Z"
   },
   {
    "duration": 33,
    "start_time": "2022-03-13T14:15:03.785Z"
   },
   {
    "duration": 8,
    "start_time": "2022-03-13T14:15:03.821Z"
   },
   {
    "duration": 9,
    "start_time": "2022-03-13T14:15:03.833Z"
   },
   {
    "duration": 38,
    "start_time": "2022-03-13T14:15:03.845Z"
   },
   {
    "duration": 8,
    "start_time": "2022-03-13T14:15:03.886Z"
   },
   {
    "duration": 17,
    "start_time": "2022-03-13T14:15:03.897Z"
   },
   {
    "duration": 17,
    "start_time": "2022-03-13T14:15:03.916Z"
   },
   {
    "duration": 9,
    "start_time": "2022-03-13T14:15:03.935Z"
   },
   {
    "duration": 41,
    "start_time": "2022-03-13T14:15:03.946Z"
   },
   {
    "duration": 10,
    "start_time": "2022-03-13T14:15:03.990Z"
   },
   {
    "duration": 25,
    "start_time": "2022-03-13T14:15:04.003Z"
   },
   {
    "duration": 13,
    "start_time": "2022-03-13T14:15:04.031Z"
   },
   {
    "duration": 14,
    "start_time": "2022-03-13T14:15:04.082Z"
   },
   {
    "duration": 36,
    "start_time": "2022-03-13T14:15:04.100Z"
   },
   {
    "duration": 85,
    "start_time": "2022-03-13T14:15:04.139Z"
   },
   {
    "duration": 67,
    "start_time": "2022-03-13T14:15:04.227Z"
   },
   {
    "duration": 7,
    "start_time": "2022-03-13T14:15:04.297Z"
   },
   {
    "duration": 46,
    "start_time": "2022-03-13T14:15:04.308Z"
   },
   {
    "duration": 684,
    "start_time": "2022-03-13T14:15:04.357Z"
   },
   {
    "duration": 329,
    "start_time": "2022-03-13T14:15:05.044Z"
   },
   {
    "duration": 676,
    "start_time": "2022-03-13T14:15:05.384Z"
   },
   {
    "duration": 582,
    "start_time": "2022-03-13T14:15:06.062Z"
   },
   {
    "duration": 359,
    "start_time": "2022-03-13T14:15:06.647Z"
   },
   {
    "duration": 1150,
    "start_time": "2022-03-13T14:15:07.008Z"
   },
   {
    "duration": 24,
    "start_time": "2022-03-13T14:15:08.161Z"
   },
   {
    "duration": 588,
    "start_time": "2022-03-13T14:15:08.189Z"
   },
   {
    "duration": 643,
    "start_time": "2022-03-13T14:15:08.783Z"
   },
   {
    "duration": 18,
    "start_time": "2022-03-13T14:15:09.429Z"
   },
   {
    "duration": 589,
    "start_time": "2022-03-13T14:15:09.450Z"
   },
   {
    "duration": 15,
    "start_time": "2022-03-13T14:15:30.342Z"
   },
   {
    "duration": 333,
    "start_time": "2022-03-13T14:15:33.498Z"
   },
   {
    "duration": 336,
    "start_time": "2022-03-13T14:15:42.499Z"
   },
   {
    "duration": 219,
    "start_time": "2022-03-13T14:15:46.112Z"
   },
   {
    "duration": 229,
    "start_time": "2022-03-13T14:16:09.811Z"
   },
   {
    "duration": 221,
    "start_time": "2022-03-13T14:16:16.640Z"
   },
   {
    "duration": 236,
    "start_time": "2022-03-13T14:17:05.654Z"
   },
   {
    "duration": 918,
    "start_time": "2022-03-13T14:17:13.258Z"
   },
   {
    "duration": 11,
    "start_time": "2022-03-13T14:17:14.178Z"
   },
   {
    "duration": 18,
    "start_time": "2022-03-13T14:17:14.193Z"
   },
   {
    "duration": 39,
    "start_time": "2022-03-13T14:17:14.214Z"
   },
   {
    "duration": 10,
    "start_time": "2022-03-13T14:17:14.283Z"
   },
   {
    "duration": 22,
    "start_time": "2022-03-13T14:17:14.296Z"
   },
   {
    "duration": 7,
    "start_time": "2022-03-13T14:17:14.321Z"
   },
   {
    "duration": 9,
    "start_time": "2022-03-13T14:17:14.330Z"
   },
   {
    "duration": 8,
    "start_time": "2022-03-13T14:17:14.383Z"
   },
   {
    "duration": 7,
    "start_time": "2022-03-13T14:17:14.395Z"
   },
   {
    "duration": 23,
    "start_time": "2022-03-13T14:17:14.405Z"
   },
   {
    "duration": 9,
    "start_time": "2022-03-13T14:17:14.431Z"
   },
   {
    "duration": 41,
    "start_time": "2022-03-13T14:17:14.443Z"
   },
   {
    "duration": 8,
    "start_time": "2022-03-13T14:17:14.488Z"
   },
   {
    "duration": 27,
    "start_time": "2022-03-13T14:17:14.499Z"
   },
   {
    "duration": 15,
    "start_time": "2022-03-13T14:17:14.529Z"
   },
   {
    "duration": 43,
    "start_time": "2022-03-13T14:17:14.547Z"
   },
   {
    "duration": 28,
    "start_time": "2022-03-13T14:17:14.594Z"
   },
   {
    "duration": 36,
    "start_time": "2022-03-13T14:17:14.624Z"
   },
   {
    "duration": 75,
    "start_time": "2022-03-13T14:17:14.662Z"
   },
   {
    "duration": 67,
    "start_time": "2022-03-13T14:17:14.740Z"
   },
   {
    "duration": 5,
    "start_time": "2022-03-13T14:17:14.810Z"
   },
   {
    "duration": 40,
    "start_time": "2022-03-13T14:17:14.818Z"
   },
   {
    "duration": 697,
    "start_time": "2022-03-13T14:17:14.861Z"
   },
   {
    "duration": 339,
    "start_time": "2022-03-13T14:17:15.561Z"
   },
   {
    "duration": 652,
    "start_time": "2022-03-13T14:17:15.903Z"
   },
   {
    "duration": 633,
    "start_time": "2022-03-13T14:17:16.559Z"
   },
   {
    "duration": 426,
    "start_time": "2022-03-13T14:17:17.198Z"
   },
   {
    "duration": 1165,
    "start_time": "2022-03-13T14:17:17.627Z"
   },
   {
    "duration": 18,
    "start_time": "2022-03-13T14:17:18.794Z"
   },
   {
    "duration": 576,
    "start_time": "2022-03-13T14:17:18.814Z"
   },
   {
    "duration": 652,
    "start_time": "2022-03-13T14:17:19.392Z"
   },
   {
    "duration": 16,
    "start_time": "2022-03-13T14:17:20.047Z"
   },
   {
    "duration": 608,
    "start_time": "2022-03-13T14:17:20.065Z"
   },
   {
    "duration": 20,
    "start_time": "2022-03-13T14:18:49.601Z"
   },
   {
    "duration": 575,
    "start_time": "2022-03-13T14:18:50.931Z"
   },
   {
    "duration": 32,
    "start_time": "2022-03-13T14:19:04.779Z"
   },
   {
    "duration": 554,
    "start_time": "2022-03-13T14:19:06.319Z"
   },
   {
    "duration": 848,
    "start_time": "2022-03-13T14:19:27.727Z"
   },
   {
    "duration": 12,
    "start_time": "2022-03-13T14:19:28.578Z"
   },
   {
    "duration": 19,
    "start_time": "2022-03-13T14:19:28.594Z"
   },
   {
    "duration": 66,
    "start_time": "2022-03-13T14:19:28.617Z"
   },
   {
    "duration": 14,
    "start_time": "2022-03-13T14:19:28.686Z"
   },
   {
    "duration": 17,
    "start_time": "2022-03-13T14:19:28.704Z"
   },
   {
    "duration": 7,
    "start_time": "2022-03-13T14:19:28.723Z"
   },
   {
    "duration": 8,
    "start_time": "2022-03-13T14:19:28.733Z"
   },
   {
    "duration": 43,
    "start_time": "2022-03-13T14:19:28.744Z"
   },
   {
    "duration": 11,
    "start_time": "2022-03-13T14:19:28.789Z"
   },
   {
    "duration": 18,
    "start_time": "2022-03-13T14:19:28.803Z"
   },
   {
    "duration": 8,
    "start_time": "2022-03-13T14:19:28.824Z"
   },
   {
    "duration": 10,
    "start_time": "2022-03-13T14:19:28.834Z"
   },
   {
    "duration": 40,
    "start_time": "2022-03-13T14:19:28.846Z"
   },
   {
    "duration": 12,
    "start_time": "2022-03-13T14:19:28.888Z"
   },
   {
    "duration": 18,
    "start_time": "2022-03-13T14:19:28.903Z"
   },
   {
    "duration": 11,
    "start_time": "2022-03-13T14:19:28.923Z"
   },
   {
    "duration": 59,
    "start_time": "2022-03-13T14:19:28.936Z"
   },
   {
    "duration": 38,
    "start_time": "2022-03-13T14:19:28.997Z"
   },
   {
    "duration": 84,
    "start_time": "2022-03-13T14:19:29.038Z"
   },
   {
    "duration": 63,
    "start_time": "2022-03-13T14:19:29.124Z"
   },
   {
    "duration": 7,
    "start_time": "2022-03-13T14:19:29.189Z"
   },
   {
    "duration": 48,
    "start_time": "2022-03-13T14:19:29.202Z"
   },
   {
    "duration": 665,
    "start_time": "2022-03-13T14:19:29.253Z"
   },
   {
    "duration": 314,
    "start_time": "2022-03-13T14:19:29.920Z"
   },
   {
    "duration": 704,
    "start_time": "2022-03-13T14:19:30.236Z"
   },
   {
    "duration": 603,
    "start_time": "2022-03-13T14:19:30.942Z"
   },
   {
    "duration": 359,
    "start_time": "2022-03-13T14:19:31.548Z"
   },
   {
    "duration": 1189,
    "start_time": "2022-03-13T14:19:31.910Z"
   },
   {
    "duration": 17,
    "start_time": "2022-03-13T14:19:33.102Z"
   },
   {
    "duration": 614,
    "start_time": "2022-03-13T14:19:33.121Z"
   },
   {
    "duration": 648,
    "start_time": "2022-03-13T14:19:33.737Z"
   },
   {
    "duration": 35,
    "start_time": "2022-03-13T14:19:34.388Z"
   },
   {
    "duration": 585,
    "start_time": "2022-03-13T14:19:34.426Z"
   },
   {
    "duration": 81,
    "start_time": "2022-03-13T14:19:43.328Z"
   },
   {
    "duration": 88,
    "start_time": "2022-03-13T14:19:51.637Z"
   },
   {
    "duration": 543,
    "start_time": "2022-03-13T14:19:56.446Z"
   },
   {
    "duration": 608,
    "start_time": "2022-03-13T14:20:20.686Z"
   },
   {
    "duration": 26,
    "start_time": "2022-03-13T14:20:27.471Z"
   },
   {
    "duration": 548,
    "start_time": "2022-03-13T14:20:28.486Z"
   },
   {
    "duration": 27,
    "start_time": "2022-03-13T14:20:37.126Z"
   },
   {
    "duration": 28,
    "start_time": "2022-03-13T14:20:51.366Z"
   },
   {
    "duration": 664,
    "start_time": "2022-03-13T14:20:53.626Z"
   },
   {
    "duration": 21,
    "start_time": "2022-03-13T14:21:09.974Z"
   },
   {
    "duration": 682,
    "start_time": "2022-03-13T14:21:17.234Z"
   },
   {
    "duration": 865,
    "start_time": "2022-03-13T14:21:45.073Z"
   },
   {
    "duration": 9,
    "start_time": "2022-03-13T14:21:45.941Z"
   },
   {
    "duration": 36,
    "start_time": "2022-03-13T14:21:45.957Z"
   },
   {
    "duration": 38,
    "start_time": "2022-03-13T14:21:45.995Z"
   },
   {
    "duration": 7,
    "start_time": "2022-03-13T14:21:46.036Z"
   },
   {
    "duration": 44,
    "start_time": "2022-03-13T14:21:46.045Z"
   },
   {
    "duration": 8,
    "start_time": "2022-03-13T14:21:46.092Z"
   },
   {
    "duration": 11,
    "start_time": "2022-03-13T14:21:46.104Z"
   },
   {
    "duration": 6,
    "start_time": "2022-03-13T14:21:46.117Z"
   },
   {
    "duration": 6,
    "start_time": "2022-03-13T14:21:46.125Z"
   },
   {
    "duration": 56,
    "start_time": "2022-03-13T14:21:46.133Z"
   },
   {
    "duration": 15,
    "start_time": "2022-03-13T14:21:46.193Z"
   },
   {
    "duration": 13,
    "start_time": "2022-03-13T14:21:46.211Z"
   },
   {
    "duration": 7,
    "start_time": "2022-03-13T14:21:46.226Z"
   },
   {
    "duration": 9,
    "start_time": "2022-03-13T14:21:46.235Z"
   },
   {
    "duration": 48,
    "start_time": "2022-03-13T14:21:46.246Z"
   },
   {
    "duration": 15,
    "start_time": "2022-03-13T14:21:46.297Z"
   },
   {
    "duration": 13,
    "start_time": "2022-03-13T14:21:46.315Z"
   },
   {
    "duration": 81,
    "start_time": "2022-03-13T14:21:46.330Z"
   },
   {
    "duration": 67,
    "start_time": "2022-03-13T14:21:46.415Z"
   },
   {
    "duration": 49,
    "start_time": "2022-03-13T14:21:46.485Z"
   },
   {
    "duration": 6,
    "start_time": "2022-03-13T14:21:46.538Z"
   },
   {
    "duration": 72,
    "start_time": "2022-03-13T14:21:46.546Z"
   },
   {
    "duration": 665,
    "start_time": "2022-03-13T14:21:46.620Z"
   },
   {
    "duration": 416,
    "start_time": "2022-03-13T14:21:47.288Z"
   },
   {
    "duration": 635,
    "start_time": "2022-03-13T14:21:47.707Z"
   },
   {
    "duration": 611,
    "start_time": "2022-03-13T14:21:48.345Z"
   },
   {
    "duration": 405,
    "start_time": "2022-03-13T14:21:48.958Z"
   },
   {
    "duration": 1243,
    "start_time": "2022-03-13T14:21:49.366Z"
   },
   {
    "duration": 16,
    "start_time": "2022-03-13T14:21:50.611Z"
   },
   {
    "duration": 572,
    "start_time": "2022-03-13T14:21:50.629Z"
   },
   {
    "duration": 674,
    "start_time": "2022-03-13T14:21:51.204Z"
   },
   {
    "duration": 43,
    "start_time": "2022-03-13T14:21:51.880Z"
   },
   {
    "duration": 632,
    "start_time": "2022-03-13T14:21:51.926Z"
   },
   {
    "duration": 1068,
    "start_time": "2022-03-13T14:22:48.635Z"
   },
   {
    "duration": 568,
    "start_time": "2022-03-13T14:22:56.455Z"
   },
   {
    "duration": 24,
    "start_time": "2022-03-13T14:23:15.725Z"
   },
   {
    "duration": 643,
    "start_time": "2022-03-13T14:23:17.058Z"
   },
   {
    "duration": 25,
    "start_time": "2022-03-13T14:23:25.301Z"
   },
   {
    "duration": 532,
    "start_time": "2022-03-13T14:23:26.030Z"
   },
   {
    "duration": 24,
    "start_time": "2022-03-13T14:23:30.976Z"
   },
   {
    "duration": 657,
    "start_time": "2022-03-13T14:23:32.265Z"
   },
   {
    "duration": 516,
    "start_time": "2022-03-13T14:25:52.072Z"
   },
   {
    "duration": 508,
    "start_time": "2022-03-13T14:25:52.081Z"
   },
   {
    "duration": 126,
    "start_time": "2022-03-13T14:25:59.895Z"
   },
   {
    "duration": 6,
    "start_time": "2022-03-13T14:26:00.024Z"
   },
   {
    "duration": 16,
    "start_time": "2022-03-13T14:26:00.033Z"
   },
   {
    "duration": 61,
    "start_time": "2022-03-13T14:26:00.051Z"
   },
   {
    "duration": 7,
    "start_time": "2022-03-13T14:26:00.115Z"
   },
   {
    "duration": 26,
    "start_time": "2022-03-13T14:26:00.125Z"
   },
   {
    "duration": 31,
    "start_time": "2022-03-13T14:26:00.154Z"
   },
   {
    "duration": 11,
    "start_time": "2022-03-13T14:26:00.188Z"
   },
   {
    "duration": 14,
    "start_time": "2022-03-13T14:26:00.202Z"
   },
   {
    "duration": 8,
    "start_time": "2022-03-13T14:26:00.218Z"
   },
   {
    "duration": 14,
    "start_time": "2022-03-13T14:26:00.228Z"
   },
   {
    "duration": 16,
    "start_time": "2022-03-13T14:26:00.244Z"
   },
   {
    "duration": 7,
    "start_time": "2022-03-13T14:26:00.283Z"
   },
   {
    "duration": 14,
    "start_time": "2022-03-13T14:26:00.293Z"
   },
   {
    "duration": 16,
    "start_time": "2022-03-13T14:26:00.309Z"
   },
   {
    "duration": 19,
    "start_time": "2022-03-13T14:26:00.327Z"
   },
   {
    "duration": 36,
    "start_time": "2022-03-13T14:26:00.348Z"
   },
   {
    "duration": 11,
    "start_time": "2022-03-13T14:26:00.387Z"
   },
   {
    "duration": 38,
    "start_time": "2022-03-13T14:26:00.400Z"
   },
   {
    "duration": 83,
    "start_time": "2022-03-13T14:26:00.441Z"
   },
   {
    "duration": 65,
    "start_time": "2022-03-13T14:26:00.527Z"
   },
   {
    "duration": 6,
    "start_time": "2022-03-13T14:26:00.594Z"
   },
   {
    "duration": 63,
    "start_time": "2022-03-13T14:26:00.602Z"
   },
   {
    "duration": 574,
    "start_time": "2022-03-13T14:26:00.668Z"
   },
   {
    "duration": 311,
    "start_time": "2022-03-13T14:26:01.244Z"
   },
   {
    "duration": 581,
    "start_time": "2022-03-13T14:26:01.558Z"
   },
   {
    "duration": 622,
    "start_time": "2022-03-13T14:26:02.142Z"
   },
   {
    "duration": 422,
    "start_time": "2022-03-13T14:26:02.766Z"
   },
   {
    "duration": 1106,
    "start_time": "2022-03-13T14:26:03.191Z"
   },
   {
    "duration": 19,
    "start_time": "2022-03-13T14:26:04.300Z"
   },
   {
    "duration": 610,
    "start_time": "2022-03-13T14:26:04.322Z"
   },
   {
    "duration": 556,
    "start_time": "2022-03-13T14:26:04.934Z"
   },
   {
    "duration": 28,
    "start_time": "2022-03-13T14:26:05.492Z"
   },
   {
    "duration": 566,
    "start_time": "2022-03-13T14:26:05.523Z"
   },
   {
    "duration": 26,
    "start_time": "2022-03-13T14:26:25.743Z"
   },
   {
    "duration": 692,
    "start_time": "2022-03-13T14:26:26.311Z"
   },
   {
    "duration": 26,
    "start_time": "2022-03-13T14:26:32.353Z"
   },
   {
    "duration": 23,
    "start_time": "2022-03-13T14:26:40.729Z"
   },
   {
    "duration": 529,
    "start_time": "2022-03-13T14:26:42.206Z"
   },
   {
    "duration": 22,
    "start_time": "2022-03-13T14:26:48.833Z"
   },
   {
    "duration": 523,
    "start_time": "2022-03-13T14:26:51.037Z"
   },
   {
    "duration": 17,
    "start_time": "2022-03-13T14:27:00.989Z"
   },
   {
    "duration": 538,
    "start_time": "2022-03-13T14:27:02.803Z"
   },
   {
    "duration": 23,
    "start_time": "2022-03-13T14:27:10.095Z"
   },
   {
    "duration": 210,
    "start_time": "2022-03-13T14:30:05.975Z"
   },
   {
    "duration": 11,
    "start_time": "2022-03-13T14:30:06.189Z"
   },
   {
    "duration": 17,
    "start_time": "2022-03-13T14:30:06.204Z"
   },
   {
    "duration": 84,
    "start_time": "2022-03-13T14:30:06.225Z"
   },
   {
    "duration": 8,
    "start_time": "2022-03-13T14:30:06.312Z"
   },
   {
    "duration": 18,
    "start_time": "2022-03-13T14:30:06.324Z"
   },
   {
    "duration": 38,
    "start_time": "2022-03-13T14:30:06.344Z"
   },
   {
    "duration": 8,
    "start_time": "2022-03-13T14:30:06.385Z"
   },
   {
    "duration": 11,
    "start_time": "2022-03-13T14:30:06.395Z"
   },
   {
    "duration": 6,
    "start_time": "2022-03-13T14:30:06.409Z"
   },
   {
    "duration": 12,
    "start_time": "2022-03-13T14:30:06.418Z"
   },
   {
    "duration": 51,
    "start_time": "2022-03-13T14:30:06.433Z"
   },
   {
    "duration": 9,
    "start_time": "2022-03-13T14:30:06.486Z"
   },
   {
    "duration": 12,
    "start_time": "2022-03-13T14:30:06.497Z"
   },
   {
    "duration": 11,
    "start_time": "2022-03-13T14:30:06.512Z"
   },
   {
    "duration": 63,
    "start_time": "2022-03-13T14:30:06.527Z"
   },
   {
    "duration": 14,
    "start_time": "2022-03-13T14:30:06.592Z"
   },
   {
    "duration": 11,
    "start_time": "2022-03-13T14:30:06.609Z"
   },
   {
    "duration": 85,
    "start_time": "2022-03-13T14:30:06.624Z"
   },
   {
    "duration": 80,
    "start_time": "2022-03-13T14:30:06.713Z"
   },
   {
    "duration": 51,
    "start_time": "2022-03-13T14:30:06.796Z"
   },
   {
    "duration": 6,
    "start_time": "2022-03-13T14:30:06.850Z"
   },
   {
    "duration": 75,
    "start_time": "2022-03-13T14:30:06.858Z"
   },
   {
    "duration": 827,
    "start_time": "2022-03-13T14:30:06.937Z"
   },
   {
    "duration": 373,
    "start_time": "2022-03-13T14:30:07.767Z"
   },
   {
    "duration": 816,
    "start_time": "2022-03-13T14:30:08.143Z"
   },
   {
    "duration": 726,
    "start_time": "2022-03-13T14:30:08.962Z"
   },
   {
    "duration": 458,
    "start_time": "2022-03-13T14:30:09.691Z"
   },
   {
    "duration": 1267,
    "start_time": "2022-03-13T14:30:10.152Z"
   },
   {
    "duration": 17,
    "start_time": "2022-03-13T14:30:11.422Z"
   },
   {
    "duration": 604,
    "start_time": "2022-03-13T14:30:11.443Z"
   },
   {
    "duration": 666,
    "start_time": "2022-03-13T14:30:12.050Z"
   },
   {
    "duration": 31,
    "start_time": "2022-03-13T14:30:12.720Z"
   },
   {
    "duration": 706,
    "start_time": "2022-03-13T14:30:12.758Z"
   },
   {
    "duration": 25,
    "start_time": "2022-03-13T14:32:53.025Z"
   },
   {
    "duration": 689,
    "start_time": "2022-03-13T14:32:56.056Z"
   },
   {
    "duration": 11,
    "start_time": "2022-03-13T14:33:27.841Z"
   },
   {
    "duration": 603,
    "start_time": "2022-03-13T14:33:29.983Z"
   },
   {
    "duration": 26,
    "start_time": "2022-03-13T14:33:54.114Z"
   },
   {
    "duration": 16,
    "start_time": "2022-03-13T14:35:32.969Z"
   },
   {
    "duration": 576,
    "start_time": "2022-03-13T14:35:37.309Z"
   },
   {
    "duration": 22,
    "start_time": "2022-03-13T14:36:24.463Z"
   },
   {
    "duration": 556,
    "start_time": "2022-03-13T14:36:26.506Z"
   },
   {
    "duration": 23,
    "start_time": "2022-03-13T14:36:39.988Z"
   },
   {
    "duration": 535,
    "start_time": "2022-03-13T14:36:42.008Z"
   },
   {
    "duration": 910,
    "start_time": "2022-03-13T14:38:22.561Z"
   },
   {
    "duration": 16,
    "start_time": "2022-03-13T14:38:23.474Z"
   },
   {
    "duration": 13,
    "start_time": "2022-03-13T14:38:23.493Z"
   },
   {
    "duration": 43,
    "start_time": "2022-03-13T14:38:23.509Z"
   },
   {
    "duration": 33,
    "start_time": "2022-03-13T14:38:23.554Z"
   },
   {
    "duration": 25,
    "start_time": "2022-03-13T14:38:23.590Z"
   },
   {
    "duration": 8,
    "start_time": "2022-03-13T14:38:23.618Z"
   },
   {
    "duration": 53,
    "start_time": "2022-03-13T14:38:23.630Z"
   },
   {
    "duration": 7,
    "start_time": "2022-03-13T14:38:23.687Z"
   },
   {
    "duration": 6,
    "start_time": "2022-03-13T14:38:23.697Z"
   },
   {
    "duration": 12,
    "start_time": "2022-03-13T14:38:23.706Z"
   },
   {
    "duration": 10,
    "start_time": "2022-03-13T14:38:23.720Z"
   },
   {
    "duration": 52,
    "start_time": "2022-03-13T14:38:23.733Z"
   },
   {
    "duration": 9,
    "start_time": "2022-03-13T14:38:23.788Z"
   },
   {
    "duration": 12,
    "start_time": "2022-03-13T14:38:23.800Z"
   },
   {
    "duration": 18,
    "start_time": "2022-03-13T14:38:23.815Z"
   },
   {
    "duration": 56,
    "start_time": "2022-03-13T14:38:23.835Z"
   },
   {
    "duration": 15,
    "start_time": "2022-03-13T14:38:23.894Z"
   },
   {
    "duration": 85,
    "start_time": "2022-03-13T14:38:23.912Z"
   },
   {
    "duration": 91,
    "start_time": "2022-03-13T14:38:24.001Z"
   },
   {
    "duration": 51,
    "start_time": "2022-03-13T14:38:24.095Z"
   },
   {
    "duration": 6,
    "start_time": "2022-03-13T14:38:24.148Z"
   },
   {
    "duration": 38,
    "start_time": "2022-03-13T14:38:24.185Z"
   },
   {
    "duration": 656,
    "start_time": "2022-03-13T14:38:24.226Z"
   },
   {
    "duration": 317,
    "start_time": "2022-03-13T14:38:24.884Z"
   },
   {
    "duration": 638,
    "start_time": "2022-03-13T14:38:25.204Z"
   },
   {
    "duration": 601,
    "start_time": "2022-03-13T14:38:25.845Z"
   },
   {
    "duration": 344,
    "start_time": "2022-03-13T14:38:26.449Z"
   },
   {
    "duration": 1098,
    "start_time": "2022-03-13T14:38:26.796Z"
   },
   {
    "duration": 17,
    "start_time": "2022-03-13T14:38:27.896Z"
   },
   {
    "duration": 612,
    "start_time": "2022-03-13T14:38:27.916Z"
   },
   {
    "duration": 633,
    "start_time": "2022-03-13T14:38:28.530Z"
   },
   {
    "duration": 39,
    "start_time": "2022-03-13T14:38:29.165Z"
   },
   {
    "duration": 579,
    "start_time": "2022-03-13T14:38:29.207Z"
   },
   {
    "duration": 12,
    "start_time": "2022-03-13T14:39:50.753Z"
   },
   {
    "duration": 333,
    "start_time": "2022-03-13T14:39:53.679Z"
   },
   {
    "duration": 240,
    "start_time": "2022-03-13T14:40:32.065Z"
   },
   {
    "duration": 267,
    "start_time": "2022-03-13T14:40:54.078Z"
   },
   {
    "duration": 901,
    "start_time": "2022-03-13T14:43:27.507Z"
   },
   {
    "duration": 10,
    "start_time": "2022-03-13T14:43:28.411Z"
   },
   {
    "duration": 13,
    "start_time": "2022-03-13T14:43:28.424Z"
   },
   {
    "duration": 70,
    "start_time": "2022-03-13T14:43:28.440Z"
   },
   {
    "duration": 8,
    "start_time": "2022-03-13T14:43:28.512Z"
   },
   {
    "duration": 22,
    "start_time": "2022-03-13T14:43:28.522Z"
   },
   {
    "duration": 36,
    "start_time": "2022-03-13T14:43:28.546Z"
   },
   {
    "duration": 10,
    "start_time": "2022-03-13T14:43:28.585Z"
   },
   {
    "duration": 6,
    "start_time": "2022-03-13T14:43:28.599Z"
   },
   {
    "duration": 7,
    "start_time": "2022-03-13T14:43:28.609Z"
   },
   {
    "duration": 17,
    "start_time": "2022-03-13T14:43:28.619Z"
   },
   {
    "duration": 49,
    "start_time": "2022-03-13T14:43:28.638Z"
   },
   {
    "duration": 10,
    "start_time": "2022-03-13T14:43:28.689Z"
   },
   {
    "duration": 7,
    "start_time": "2022-03-13T14:43:28.702Z"
   },
   {
    "duration": 9,
    "start_time": "2022-03-13T14:43:28.712Z"
   },
   {
    "duration": 61,
    "start_time": "2022-03-13T14:43:28.723Z"
   },
   {
    "duration": 12,
    "start_time": "2022-03-13T14:43:28.787Z"
   },
   {
    "duration": 11,
    "start_time": "2022-03-13T14:43:28.802Z"
   },
   {
    "duration": 79,
    "start_time": "2022-03-13T14:43:28.816Z"
   },
   {
    "duration": 54,
    "start_time": "2022-03-13T14:43:28.897Z"
   },
   {
    "duration": 68,
    "start_time": "2022-03-13T14:43:28.954Z"
   },
   {
    "duration": 6,
    "start_time": "2022-03-13T14:43:29.025Z"
   },
   {
    "duration": 64,
    "start_time": "2022-03-13T14:43:29.033Z"
   },
   {
    "duration": 685,
    "start_time": "2022-03-13T14:43:29.100Z"
   },
   {
    "duration": 431,
    "start_time": "2022-03-13T14:43:29.787Z"
   },
   {
    "duration": 670,
    "start_time": "2022-03-13T14:43:30.221Z"
   },
   {
    "duration": 638,
    "start_time": "2022-03-13T14:43:30.896Z"
   },
   {
    "duration": 376,
    "start_time": "2022-03-13T14:43:31.538Z"
   },
   {
    "duration": 1428,
    "start_time": "2022-03-13T14:43:31.917Z"
   },
   {
    "duration": 41,
    "start_time": "2022-03-13T14:43:33.348Z"
   },
   {
    "duration": 606,
    "start_time": "2022-03-13T14:43:33.393Z"
   },
   {
    "duration": 743,
    "start_time": "2022-03-13T14:43:34.001Z"
   },
   {
    "duration": 35,
    "start_time": "2022-03-13T14:43:34.748Z"
   },
   {
    "duration": 619,
    "start_time": "2022-03-13T14:43:34.786Z"
   },
   {
    "duration": 14,
    "start_time": "2022-03-13T14:43:55.972Z"
   },
   {
    "duration": 597,
    "start_time": "2022-03-13T14:43:58.831Z"
   },
   {
    "duration": 915,
    "start_time": "2022-03-13T14:44:08.279Z"
   },
   {
    "duration": 10,
    "start_time": "2022-03-13T14:44:09.197Z"
   },
   {
    "duration": 11,
    "start_time": "2022-03-13T14:44:09.211Z"
   },
   {
    "duration": 69,
    "start_time": "2022-03-13T14:44:09.225Z"
   },
   {
    "duration": 8,
    "start_time": "2022-03-13T14:44:09.297Z"
   },
   {
    "duration": 20,
    "start_time": "2022-03-13T14:44:09.308Z"
   },
   {
    "duration": 9,
    "start_time": "2022-03-13T14:44:09.332Z"
   },
   {
    "duration": 48,
    "start_time": "2022-03-13T14:44:09.344Z"
   },
   {
    "duration": 8,
    "start_time": "2022-03-13T14:44:09.397Z"
   },
   {
    "duration": 7,
    "start_time": "2022-03-13T14:44:09.409Z"
   },
   {
    "duration": 15,
    "start_time": "2022-03-13T14:44:09.419Z"
   },
   {
    "duration": 50,
    "start_time": "2022-03-13T14:44:09.437Z"
   },
   {
    "duration": 13,
    "start_time": "2022-03-13T14:44:09.489Z"
   },
   {
    "duration": 14,
    "start_time": "2022-03-13T14:44:09.505Z"
   },
   {
    "duration": 10,
    "start_time": "2022-03-13T14:44:09.522Z"
   },
   {
    "duration": 53,
    "start_time": "2022-03-13T14:44:09.535Z"
   },
   {
    "duration": 13,
    "start_time": "2022-03-13T14:44:09.591Z"
   },
   {
    "duration": 11,
    "start_time": "2022-03-13T14:44:09.606Z"
   },
   {
    "duration": 68,
    "start_time": "2022-03-13T14:44:09.620Z"
   },
   {
    "duration": 54,
    "start_time": "2022-03-13T14:44:09.691Z"
   },
   {
    "duration": 70,
    "start_time": "2022-03-13T14:44:09.748Z"
   },
   {
    "duration": 6,
    "start_time": "2022-03-13T14:44:09.820Z"
   },
   {
    "duration": 60,
    "start_time": "2022-03-13T14:44:09.828Z"
   },
   {
    "duration": 653,
    "start_time": "2022-03-13T14:44:09.890Z"
   },
   {
    "duration": 312,
    "start_time": "2022-03-13T14:44:10.546Z"
   },
   {
    "duration": 608,
    "start_time": "2022-03-13T14:44:10.860Z"
   },
   {
    "duration": 581,
    "start_time": "2022-03-13T14:44:11.482Z"
   },
   {
    "duration": 356,
    "start_time": "2022-03-13T14:44:12.067Z"
   },
   {
    "duration": 1152,
    "start_time": "2022-03-13T14:44:12.425Z"
   },
   {
    "duration": 16,
    "start_time": "2022-03-13T14:44:13.583Z"
   },
   {
    "duration": 582,
    "start_time": "2022-03-13T14:44:13.602Z"
   },
   {
    "duration": 656,
    "start_time": "2022-03-13T14:44:14.187Z"
   },
   {
    "duration": 18,
    "start_time": "2022-03-13T14:44:14.845Z"
   },
   {
    "duration": 356,
    "start_time": "2022-03-13T14:44:14.865Z"
   },
   {
    "duration": 3,
    "start_time": "2022-03-13T14:44:28.280Z"
   },
   {
    "duration": 251,
    "start_time": "2022-03-13T14:44:29.908Z"
   },
   {
    "duration": 833,
    "start_time": "2022-03-13T14:44:41.597Z"
   },
   {
    "duration": 9,
    "start_time": "2022-03-13T14:44:42.433Z"
   },
   {
    "duration": 37,
    "start_time": "2022-03-13T14:44:42.446Z"
   },
   {
    "duration": 37,
    "start_time": "2022-03-13T14:44:42.486Z"
   },
   {
    "duration": 8,
    "start_time": "2022-03-13T14:44:42.525Z"
   },
   {
    "duration": 47,
    "start_time": "2022-03-13T14:44:42.535Z"
   },
   {
    "duration": 8,
    "start_time": "2022-03-13T14:44:42.585Z"
   },
   {
    "duration": 9,
    "start_time": "2022-03-13T14:44:42.598Z"
   },
   {
    "duration": 6,
    "start_time": "2022-03-13T14:44:42.611Z"
   },
   {
    "duration": 12,
    "start_time": "2022-03-13T14:44:42.620Z"
   },
   {
    "duration": 55,
    "start_time": "2022-03-13T14:44:42.634Z"
   },
   {
    "duration": 10,
    "start_time": "2022-03-13T14:44:42.692Z"
   },
   {
    "duration": 13,
    "start_time": "2022-03-13T14:44:42.705Z"
   },
   {
    "duration": 6,
    "start_time": "2022-03-13T14:44:42.721Z"
   },
   {
    "duration": 11,
    "start_time": "2022-03-13T14:44:42.730Z"
   },
   {
    "duration": 17,
    "start_time": "2022-03-13T14:44:42.781Z"
   },
   {
    "duration": 13,
    "start_time": "2022-03-13T14:44:42.800Z"
   },
   {
    "duration": 42,
    "start_time": "2022-03-13T14:44:42.815Z"
   },
   {
    "duration": 48,
    "start_time": "2022-03-13T14:44:42.859Z"
   },
   {
    "duration": 51,
    "start_time": "2022-03-13T14:44:42.910Z"
   },
   {
    "duration": 44,
    "start_time": "2022-03-13T14:44:42.982Z"
   },
   {
    "duration": 5,
    "start_time": "2022-03-13T14:44:43.028Z"
   },
   {
    "duration": 69,
    "start_time": "2022-03-13T14:44:43.037Z"
   },
   {
    "duration": 657,
    "start_time": "2022-03-13T14:44:43.109Z"
   },
   {
    "duration": 303,
    "start_time": "2022-03-13T14:44:43.769Z"
   },
   {
    "duration": 663,
    "start_time": "2022-03-13T14:44:44.075Z"
   },
   {
    "duration": 607,
    "start_time": "2022-03-13T14:44:44.741Z"
   },
   {
    "duration": 385,
    "start_time": "2022-03-13T14:44:45.351Z"
   },
   {
    "duration": 1143,
    "start_time": "2022-03-13T14:44:45.739Z"
   },
   {
    "duration": 17,
    "start_time": "2022-03-13T14:44:46.884Z"
   },
   {
    "duration": 635,
    "start_time": "2022-03-13T14:44:46.904Z"
   },
   {
    "duration": 686,
    "start_time": "2022-03-13T14:44:47.542Z"
   },
   {
    "duration": 3,
    "start_time": "2022-03-13T14:44:48.231Z"
   },
   {
    "duration": 548,
    "start_time": "2022-03-13T14:44:48.237Z"
   },
   {
    "duration": 17,
    "start_time": "2022-03-13T14:45:02.242Z"
   },
   {
    "duration": 562,
    "start_time": "2022-03-13T14:45:03.735Z"
   },
   {
    "duration": 336,
    "start_time": "2022-03-13T14:47:35.618Z"
   },
   {
    "duration": 227,
    "start_time": "2022-03-13T14:48:03.642Z"
   },
   {
    "duration": 10,
    "start_time": "2022-03-13T14:49:27.972Z"
   },
   {
    "duration": 534,
    "start_time": "2022-03-13T14:49:31.841Z"
   },
   {
    "duration": 10,
    "start_time": "2022-03-13T14:49:51.505Z"
   },
   {
    "duration": 532,
    "start_time": "2022-03-13T14:49:53.070Z"
   },
   {
    "duration": 15,
    "start_time": "2022-03-13T14:50:05.521Z"
   },
   {
    "duration": 738,
    "start_time": "2022-03-13T14:50:07.622Z"
   },
   {
    "duration": 17,
    "start_time": "2022-03-13T14:53:26.776Z"
   },
   {
    "duration": 565,
    "start_time": "2022-03-13T14:53:28.622Z"
   },
   {
    "duration": 12,
    "start_time": "2022-03-13T14:54:01.744Z"
   },
   {
    "duration": 573,
    "start_time": "2022-03-13T14:54:03.238Z"
   },
   {
    "duration": 11,
    "start_time": "2022-03-13T14:54:40.214Z"
   },
   {
    "duration": 567,
    "start_time": "2022-03-13T14:54:42.701Z"
   },
   {
    "duration": 269,
    "start_time": "2022-03-13T14:54:51.403Z"
   },
   {
    "duration": 241,
    "start_time": "2022-03-13T14:55:05.717Z"
   },
   {
    "duration": 73,
    "start_time": "2022-03-13T14:55:16.396Z"
   },
   {
    "duration": 253,
    "start_time": "2022-03-13T14:55:20.654Z"
   },
   {
    "duration": 13,
    "start_time": "2022-03-13T14:55:29.808Z"
   },
   {
    "duration": 564,
    "start_time": "2022-03-13T14:55:35.553Z"
   },
   {
    "duration": 16,
    "start_time": "2022-03-13T14:55:43.151Z"
   },
   {
    "duration": 551,
    "start_time": "2022-03-13T14:55:45.346Z"
   },
   {
    "duration": 11,
    "start_time": "2022-03-13T14:55:52.998Z"
   },
   {
    "duration": 746,
    "start_time": "2022-03-13T14:55:54.201Z"
   },
   {
    "duration": 85,
    "start_time": "2022-03-13T14:56:05.023Z"
   },
   {
    "duration": 11,
    "start_time": "2022-03-13T14:56:08.177Z"
   },
   {
    "duration": 612,
    "start_time": "2022-03-13T14:56:10.027Z"
   },
   {
    "duration": 10,
    "start_time": "2022-03-13T14:56:19.852Z"
   },
   {
    "duration": 591,
    "start_time": "2022-03-13T14:56:22.097Z"
   },
   {
    "duration": 878,
    "start_time": "2022-03-13T14:56:30.384Z"
   },
   {
    "duration": 18,
    "start_time": "2022-03-13T14:56:31.265Z"
   },
   {
    "duration": 26,
    "start_time": "2022-03-13T14:56:31.287Z"
   },
   {
    "duration": 55,
    "start_time": "2022-03-13T14:56:31.316Z"
   },
   {
    "duration": 10,
    "start_time": "2022-03-13T14:56:31.374Z"
   },
   {
    "duration": 49,
    "start_time": "2022-03-13T14:56:31.387Z"
   },
   {
    "duration": 7,
    "start_time": "2022-03-13T14:56:31.439Z"
   },
   {
    "duration": 11,
    "start_time": "2022-03-13T14:56:31.449Z"
   },
   {
    "duration": 15,
    "start_time": "2022-03-13T14:56:31.464Z"
   },
   {
    "duration": 15,
    "start_time": "2022-03-13T14:56:31.482Z"
   },
   {
    "duration": 47,
    "start_time": "2022-03-13T14:56:31.500Z"
   },
   {
    "duration": 18,
    "start_time": "2022-03-13T14:56:31.550Z"
   },
   {
    "duration": 30,
    "start_time": "2022-03-13T14:56:31.570Z"
   },
   {
    "duration": 14,
    "start_time": "2022-03-13T14:56:31.603Z"
   },
   {
    "duration": 25,
    "start_time": "2022-03-13T14:56:31.619Z"
   },
   {
    "duration": 27,
    "start_time": "2022-03-13T14:56:31.647Z"
   },
   {
    "duration": 26,
    "start_time": "2022-03-13T14:56:31.676Z"
   },
   {
    "duration": 10,
    "start_time": "2022-03-13T14:56:31.704Z"
   },
   {
    "duration": 34,
    "start_time": "2022-03-13T14:56:31.716Z"
   },
   {
    "duration": 77,
    "start_time": "2022-03-13T14:56:31.753Z"
   },
   {
    "duration": 69,
    "start_time": "2022-03-13T14:56:31.833Z"
   },
   {
    "duration": 5,
    "start_time": "2022-03-13T14:56:31.906Z"
   },
   {
    "duration": 39,
    "start_time": "2022-03-13T14:56:31.914Z"
   },
   {
    "duration": 722,
    "start_time": "2022-03-13T14:56:31.956Z"
   },
   {
    "duration": 321,
    "start_time": "2022-03-13T14:56:32.684Z"
   },
   {
    "duration": 645,
    "start_time": "2022-03-13T14:56:33.008Z"
   },
   {
    "duration": 614,
    "start_time": "2022-03-13T14:56:33.657Z"
   },
   {
    "duration": 356,
    "start_time": "2022-03-13T14:56:34.274Z"
   },
   {
    "duration": 1234,
    "start_time": "2022-03-13T14:56:34.632Z"
   },
   {
    "duration": 24,
    "start_time": "2022-03-13T14:56:35.868Z"
   },
   {
    "duration": 593,
    "start_time": "2022-03-13T14:56:35.898Z"
   },
   {
    "duration": 642,
    "start_time": "2022-03-13T14:56:36.494Z"
   },
   {
    "duration": 18,
    "start_time": "2022-03-13T14:56:37.138Z"
   },
   {
    "duration": 608,
    "start_time": "2022-03-13T14:56:37.158Z"
   },
   {
    "duration": 13,
    "start_time": "2022-03-13T14:57:35.977Z"
   },
   {
    "duration": 588,
    "start_time": "2022-03-13T14:57:39.403Z"
   },
   {
    "duration": 20,
    "start_time": "2022-03-13T14:57:58.808Z"
   },
   {
    "duration": 726,
    "start_time": "2022-03-13T14:58:02.556Z"
   },
   {
    "duration": 20,
    "start_time": "2022-03-13T14:58:28.596Z"
   },
   {
    "duration": 564,
    "start_time": "2022-03-13T14:58:33.258Z"
   },
   {
    "duration": 38,
    "start_time": "2022-03-13T14:59:02.449Z"
   },
   {
    "duration": 697,
    "start_time": "2022-03-13T15:00:43.988Z"
   },
   {
    "duration": 25,
    "start_time": "2022-03-13T15:00:50.927Z"
   },
   {
    "duration": 611,
    "start_time": "2022-03-13T15:00:53.009Z"
   },
   {
    "duration": 29,
    "start_time": "2022-03-13T15:01:04.095Z"
   },
   {
    "duration": 625,
    "start_time": "2022-03-13T15:01:09.486Z"
   },
   {
    "duration": 24,
    "start_time": "2022-03-13T15:23:30.218Z"
   },
   {
    "duration": 692,
    "start_time": "2022-03-13T15:23:32.147Z"
   },
   {
    "duration": 392,
    "start_time": "2022-03-13T15:24:04.276Z"
   },
   {
    "duration": 265,
    "start_time": "2022-03-13T15:24:17.679Z"
   },
   {
    "duration": 363,
    "start_time": "2022-03-13T15:24:42.947Z"
   },
   {
    "duration": 38,
    "start_time": "2022-03-13T15:24:50.520Z"
   },
   {
    "duration": 27,
    "start_time": "2022-03-13T15:25:05.392Z"
   },
   {
    "duration": 587,
    "start_time": "2022-03-13T15:25:07.913Z"
   },
   {
    "duration": 19,
    "start_time": "2022-03-13T15:25:22.091Z"
   },
   {
    "duration": 546,
    "start_time": "2022-03-13T15:25:24.040Z"
   },
   {
    "duration": 27,
    "start_time": "2022-03-13T15:25:29.248Z"
   },
   {
    "duration": 663,
    "start_time": "2022-03-13T15:25:38.568Z"
   },
   {
    "duration": 241,
    "start_time": "2022-03-13T15:27:06.057Z"
   },
   {
    "duration": 227,
    "start_time": "2022-03-13T15:27:12.191Z"
   },
   {
    "duration": 390,
    "start_time": "2022-03-13T15:27:20.357Z"
   },
   {
    "duration": 225,
    "start_time": "2022-03-13T15:27:37.091Z"
   },
   {
    "duration": 848,
    "start_time": "2022-03-13T15:27:43.220Z"
   },
   {
    "duration": 17,
    "start_time": "2022-03-13T15:27:44.071Z"
   },
   {
    "duration": 12,
    "start_time": "2022-03-13T15:27:44.091Z"
   },
   {
    "duration": 42,
    "start_time": "2022-03-13T15:27:44.105Z"
   },
   {
    "duration": 7,
    "start_time": "2022-03-13T15:27:44.149Z"
   },
   {
    "duration": 17,
    "start_time": "2022-03-13T15:27:44.183Z"
   },
   {
    "duration": 6,
    "start_time": "2022-03-13T15:27:44.202Z"
   },
   {
    "duration": 8,
    "start_time": "2022-03-13T15:27:44.211Z"
   },
   {
    "duration": 6,
    "start_time": "2022-03-13T15:27:44.223Z"
   },
   {
    "duration": 51,
    "start_time": "2022-03-13T15:27:44.232Z"
   },
   {
    "duration": 10,
    "start_time": "2022-03-13T15:27:44.285Z"
   },
   {
    "duration": 10,
    "start_time": "2022-03-13T15:27:44.298Z"
   },
   {
    "duration": 8,
    "start_time": "2022-03-13T15:27:44.311Z"
   },
   {
    "duration": 7,
    "start_time": "2022-03-13T15:27:44.321Z"
   },
   {
    "duration": 8,
    "start_time": "2022-03-13T15:27:44.330Z"
   },
   {
    "duration": 57,
    "start_time": "2022-03-13T15:27:44.340Z"
   },
   {
    "duration": 11,
    "start_time": "2022-03-13T15:27:44.399Z"
   },
   {
    "duration": 11,
    "start_time": "2022-03-13T15:27:44.413Z"
   },
   {
    "duration": 76,
    "start_time": "2022-03-13T15:27:44.427Z"
   },
   {
    "duration": 51,
    "start_time": "2022-03-13T15:27:44.505Z"
   },
   {
    "duration": 44,
    "start_time": "2022-03-13T15:27:44.582Z"
   },
   {
    "duration": 7,
    "start_time": "2022-03-13T15:27:44.629Z"
   },
   {
    "duration": 64,
    "start_time": "2022-03-13T15:27:44.639Z"
   },
   {
    "duration": 643,
    "start_time": "2022-03-13T15:27:44.706Z"
   },
   {
    "duration": 296,
    "start_time": "2022-03-13T15:27:45.352Z"
   },
   {
    "duration": 610,
    "start_time": "2022-03-13T15:27:45.651Z"
   },
   {
    "duration": 582,
    "start_time": "2022-03-13T15:27:46.267Z"
   },
   {
    "duration": 332,
    "start_time": "2022-03-13T15:27:46.852Z"
   },
   {
    "duration": 1119,
    "start_time": "2022-03-13T15:27:47.187Z"
   },
   {
    "duration": 17,
    "start_time": "2022-03-13T15:27:48.308Z"
   },
   {
    "duration": 640,
    "start_time": "2022-03-13T15:27:48.327Z"
   },
   {
    "duration": 618,
    "start_time": "2022-03-13T15:27:48.970Z"
   },
   {
    "duration": 337,
    "start_time": "2022-03-13T15:27:49.590Z"
   },
   {
    "duration": 517,
    "start_time": "2022-03-13T15:27:49.413Z"
   },
   {
    "duration": 221,
    "start_time": "2022-03-13T15:28:38.800Z"
   },
   {
    "duration": 222,
    "start_time": "2022-03-13T15:28:42.766Z"
   },
   {
    "duration": 3,
    "start_time": "2022-03-13T15:28:54.666Z"
   },
   {
    "duration": 278,
    "start_time": "2022-03-13T15:28:57.735Z"
   },
   {
    "duration": 846,
    "start_time": "2022-03-13T15:29:05.765Z"
   },
   {
    "duration": 11,
    "start_time": "2022-03-13T15:29:06.614Z"
   },
   {
    "duration": 17,
    "start_time": "2022-03-13T15:29:06.628Z"
   },
   {
    "duration": 61,
    "start_time": "2022-03-13T15:29:06.648Z"
   },
   {
    "duration": 8,
    "start_time": "2022-03-13T15:29:06.711Z"
   },
   {
    "duration": 20,
    "start_time": "2022-03-13T15:29:06.722Z"
   },
   {
    "duration": 6,
    "start_time": "2022-03-13T15:29:06.744Z"
   },
   {
    "duration": 35,
    "start_time": "2022-03-13T15:29:06.753Z"
   },
   {
    "duration": 17,
    "start_time": "2022-03-13T15:29:06.792Z"
   },
   {
    "duration": 21,
    "start_time": "2022-03-13T15:29:06.812Z"
   },
   {
    "duration": 29,
    "start_time": "2022-03-13T15:29:06.835Z"
   },
   {
    "duration": 17,
    "start_time": "2022-03-13T15:29:06.867Z"
   },
   {
    "duration": 15,
    "start_time": "2022-03-13T15:29:06.887Z"
   },
   {
    "duration": 27,
    "start_time": "2022-03-13T15:29:06.905Z"
   },
   {
    "duration": 13,
    "start_time": "2022-03-13T15:29:06.935Z"
   },
   {
    "duration": 21,
    "start_time": "2022-03-13T15:29:06.951Z"
   },
   {
    "duration": 16,
    "start_time": "2022-03-13T15:29:06.974Z"
   },
   {
    "duration": 10,
    "start_time": "2022-03-13T15:29:06.992Z"
   },
   {
    "duration": 36,
    "start_time": "2022-03-13T15:29:07.005Z"
   },
   {
    "duration": 86,
    "start_time": "2022-03-13T15:29:07.044Z"
   },
   {
    "duration": 61,
    "start_time": "2022-03-13T15:29:07.133Z"
   },
   {
    "duration": 6,
    "start_time": "2022-03-13T15:29:07.196Z"
   },
   {
    "duration": 53,
    "start_time": "2022-03-13T15:29:07.205Z"
   },
   {
    "duration": 746,
    "start_time": "2022-03-13T15:29:07.260Z"
   },
   {
    "duration": 329,
    "start_time": "2022-03-13T15:29:08.011Z"
   },
   {
    "duration": 633,
    "start_time": "2022-03-13T15:29:08.342Z"
   },
   {
    "duration": 564,
    "start_time": "2022-03-13T15:29:08.985Z"
   },
   {
    "duration": 349,
    "start_time": "2022-03-13T15:29:09.553Z"
   },
   {
    "duration": 1138,
    "start_time": "2022-03-13T15:29:09.905Z"
   },
   {
    "duration": 16,
    "start_time": "2022-03-13T15:29:11.045Z"
   },
   {
    "duration": 560,
    "start_time": "2022-03-13T15:29:11.083Z"
   },
   {
    "duration": 640,
    "start_time": "2022-03-13T15:29:11.645Z"
   },
   {
    "duration": 3,
    "start_time": "2022-03-13T15:29:12.288Z"
   },
   {
    "duration": 570,
    "start_time": "2022-03-13T15:29:12.293Z"
   },
   {
    "duration": 831,
    "start_time": "2022-03-13T15:29:26.940Z"
   },
   {
    "duration": 14,
    "start_time": "2022-03-13T15:29:27.774Z"
   },
   {
    "duration": 18,
    "start_time": "2022-03-13T15:29:27.791Z"
   },
   {
    "duration": 41,
    "start_time": "2022-03-13T15:29:27.812Z"
   },
   {
    "duration": 26,
    "start_time": "2022-03-13T15:29:27.856Z"
   },
   {
    "duration": 17,
    "start_time": "2022-03-13T15:29:27.885Z"
   },
   {
    "duration": 6,
    "start_time": "2022-03-13T15:29:27.904Z"
   },
   {
    "duration": 8,
    "start_time": "2022-03-13T15:29:27.914Z"
   },
   {
    "duration": 6,
    "start_time": "2022-03-13T15:29:27.924Z"
   },
   {
    "duration": 54,
    "start_time": "2022-03-13T15:29:27.932Z"
   },
   {
    "duration": 13,
    "start_time": "2022-03-13T15:29:27.989Z"
   },
   {
    "duration": 12,
    "start_time": "2022-03-13T15:29:28.005Z"
   },
   {
    "duration": 8,
    "start_time": "2022-03-13T15:29:28.020Z"
   },
   {
    "duration": 6,
    "start_time": "2022-03-13T15:29:28.030Z"
   },
   {
    "duration": 45,
    "start_time": "2022-03-13T15:29:28.039Z"
   },
   {
    "duration": 19,
    "start_time": "2022-03-13T15:29:28.086Z"
   },
   {
    "duration": 10,
    "start_time": "2022-03-13T15:29:28.108Z"
   },
   {
    "duration": 11,
    "start_time": "2022-03-13T15:29:28.120Z"
   },
   {
    "duration": 79,
    "start_time": "2022-03-13T15:29:28.133Z"
   },
   {
    "duration": 69,
    "start_time": "2022-03-13T15:29:28.215Z"
   },
   {
    "duration": 45,
    "start_time": "2022-03-13T15:29:28.286Z"
   },
   {
    "duration": 5,
    "start_time": "2022-03-13T15:29:28.334Z"
   },
   {
    "duration": 69,
    "start_time": "2022-03-13T15:29:28.343Z"
   },
   {
    "duration": 694,
    "start_time": "2022-03-13T15:29:28.415Z"
   },
   {
    "duration": 306,
    "start_time": "2022-03-13T15:29:29.112Z"
   },
   {
    "duration": 617,
    "start_time": "2022-03-13T15:29:29.420Z"
   },
   {
    "duration": 595,
    "start_time": "2022-03-13T15:29:30.040Z"
   },
   {
    "duration": 348,
    "start_time": "2022-03-13T15:29:30.638Z"
   },
   {
    "duration": 1097,
    "start_time": "2022-03-13T15:29:30.988Z"
   },
   {
    "duration": 16,
    "start_time": "2022-03-13T15:29:32.088Z"
   },
   {
    "duration": 590,
    "start_time": "2022-03-13T15:29:32.107Z"
   },
   {
    "duration": 622,
    "start_time": "2022-03-13T15:29:32.700Z"
   },
   {
    "duration": 31,
    "start_time": "2022-03-13T15:29:33.324Z"
   },
   {
    "duration": 559,
    "start_time": "2022-03-13T15:29:33.357Z"
   },
   {
    "duration": 64,
    "start_time": "2022-03-13T15:32:46.554Z"
   },
   {
    "duration": 80,
    "start_time": "2022-03-13T15:33:25.740Z"
   },
   {
    "duration": 12,
    "start_time": "2022-03-13T15:33:43.892Z"
   },
   {
    "duration": 11914,
    "start_time": "2022-03-13T15:34:05.219Z"
   },
   {
    "duration": 331,
    "start_time": "2022-03-13T15:34:28.435Z"
   },
   {
    "duration": 822,
    "start_time": "2022-03-13T15:34:41.836Z"
   },
   {
    "duration": 23,
    "start_time": "2022-03-13T15:34:42.661Z"
   },
   {
    "duration": 12,
    "start_time": "2022-03-13T15:34:42.687Z"
   },
   {
    "duration": 38,
    "start_time": "2022-03-13T15:34:42.702Z"
   },
   {
    "duration": 7,
    "start_time": "2022-03-13T15:34:42.743Z"
   },
   {
    "duration": 21,
    "start_time": "2022-03-13T15:34:42.783Z"
   },
   {
    "duration": 6,
    "start_time": "2022-03-13T15:34:42.806Z"
   },
   {
    "duration": 9,
    "start_time": "2022-03-13T15:34:42.815Z"
   },
   {
    "duration": 5,
    "start_time": "2022-03-13T15:34:42.828Z"
   },
   {
    "duration": 5,
    "start_time": "2022-03-13T15:34:42.836Z"
   },
   {
    "duration": 10,
    "start_time": "2022-03-13T15:34:42.883Z"
   },
   {
    "duration": 8,
    "start_time": "2022-03-13T15:34:42.896Z"
   },
   {
    "duration": 8,
    "start_time": "2022-03-13T15:34:42.906Z"
   },
   {
    "duration": 6,
    "start_time": "2022-03-13T15:34:42.916Z"
   },
   {
    "duration": 10,
    "start_time": "2022-03-13T15:34:42.925Z"
   },
   {
    "duration": 20,
    "start_time": "2022-03-13T15:34:42.983Z"
   },
   {
    "duration": 13,
    "start_time": "2022-03-13T15:34:43.006Z"
   },
   {
    "duration": 19,
    "start_time": "2022-03-13T15:34:43.022Z"
   },
   {
    "duration": 74,
    "start_time": "2022-03-13T15:34:43.043Z"
   },
   {
    "duration": 72,
    "start_time": "2022-03-13T15:34:43.119Z"
   },
   {
    "duration": 46,
    "start_time": "2022-03-13T15:34:43.193Z"
   },
   {
    "duration": 5,
    "start_time": "2022-03-13T15:34:43.241Z"
   },
   {
    "duration": 59,
    "start_time": "2022-03-13T15:34:43.249Z"
   },
   {
    "duration": 641,
    "start_time": "2022-03-13T15:34:43.310Z"
   },
   {
    "duration": 323,
    "start_time": "2022-03-13T15:34:43.953Z"
   },
   {
    "duration": 633,
    "start_time": "2022-03-13T15:34:44.279Z"
   },
   {
    "duration": 593,
    "start_time": "2022-03-13T15:34:44.916Z"
   },
   {
    "duration": 359,
    "start_time": "2022-03-13T15:34:45.512Z"
   },
   {
    "duration": 1114,
    "start_time": "2022-03-13T15:34:45.873Z"
   },
   {
    "duration": 16,
    "start_time": "2022-03-13T15:34:46.990Z"
   },
   {
    "duration": 578,
    "start_time": "2022-03-13T15:34:47.009Z"
   },
   {
    "duration": 619,
    "start_time": "2022-03-13T15:34:47.589Z"
   },
   {
    "duration": 32,
    "start_time": "2022-03-13T15:34:48.211Z"
   },
   {
    "duration": 573,
    "start_time": "2022-03-13T15:34:48.245Z"
   },
   {
    "duration": 317,
    "start_time": "2022-03-13T15:34:48.820Z"
   },
   {
    "duration": 23,
    "start_time": "2022-03-13T15:35:23.709Z"
   },
   {
    "duration": 550,
    "start_time": "2022-03-13T15:35:53.988Z"
   },
   {
    "duration": 1020,
    "start_time": "2022-03-13T15:36:10.955Z"
   },
   {
    "duration": 12,
    "start_time": "2022-03-13T15:36:11.983Z"
   },
   {
    "duration": 16,
    "start_time": "2022-03-13T15:36:11.998Z"
   },
   {
    "duration": 69,
    "start_time": "2022-03-13T15:36:12.017Z"
   },
   {
    "duration": 9,
    "start_time": "2022-03-13T15:36:12.089Z"
   },
   {
    "duration": 38,
    "start_time": "2022-03-13T15:36:12.100Z"
   },
   {
    "duration": 23,
    "start_time": "2022-03-13T15:36:12.141Z"
   },
   {
    "duration": 16,
    "start_time": "2022-03-13T15:36:12.170Z"
   },
   {
    "duration": 17,
    "start_time": "2022-03-13T15:36:12.190Z"
   },
   {
    "duration": 28,
    "start_time": "2022-03-13T15:36:12.210Z"
   },
   {
    "duration": 29,
    "start_time": "2022-03-13T15:36:12.240Z"
   },
   {
    "duration": 27,
    "start_time": "2022-03-13T15:36:12.272Z"
   },
   {
    "duration": 39,
    "start_time": "2022-03-13T15:36:12.302Z"
   },
   {
    "duration": 18,
    "start_time": "2022-03-13T15:36:12.343Z"
   },
   {
    "duration": 21,
    "start_time": "2022-03-13T15:36:12.364Z"
   },
   {
    "duration": 19,
    "start_time": "2022-03-13T15:36:12.388Z"
   },
   {
    "duration": 15,
    "start_time": "2022-03-13T15:36:12.410Z"
   },
   {
    "duration": 23,
    "start_time": "2022-03-13T15:36:12.428Z"
   },
   {
    "duration": 78,
    "start_time": "2022-03-13T15:36:12.454Z"
   },
   {
    "duration": 76,
    "start_time": "2022-03-13T15:36:12.536Z"
   },
   {
    "duration": 47,
    "start_time": "2022-03-13T15:36:12.615Z"
   },
   {
    "duration": 6,
    "start_time": "2022-03-13T15:36:12.682Z"
   },
   {
    "duration": 49,
    "start_time": "2022-03-13T15:36:12.692Z"
   },
   {
    "duration": 632,
    "start_time": "2022-03-13T15:36:12.744Z"
   },
   {
    "duration": 320,
    "start_time": "2022-03-13T15:36:13.378Z"
   },
   {
    "duration": 621,
    "start_time": "2022-03-13T15:36:13.700Z"
   },
   {
    "duration": 571,
    "start_time": "2022-03-13T15:36:14.323Z"
   },
   {
    "duration": 343,
    "start_time": "2022-03-13T15:36:14.896Z"
   },
   {
    "duration": 1113,
    "start_time": "2022-03-13T15:36:15.242Z"
   },
   {
    "duration": 28,
    "start_time": "2022-03-13T15:36:16.357Z"
   },
   {
    "duration": 638,
    "start_time": "2022-03-13T15:36:16.388Z"
   },
   {
    "duration": 749,
    "start_time": "2022-03-13T15:36:17.028Z"
   },
   {
    "duration": 3,
    "start_time": "2022-03-13T15:36:17.782Z"
   },
   {
    "duration": 544,
    "start_time": "2022-03-13T15:36:17.787Z"
   },
   {
    "duration": 549,
    "start_time": "2022-03-13T15:36:18.333Z"
   },
   {
    "duration": 541,
    "start_time": "2022-03-13T15:39:06.724Z"
   },
   {
    "duration": 539,
    "start_time": "2022-03-13T15:39:30.593Z"
   },
   {
    "duration": 629,
    "start_time": "2022-03-13T15:39:47.996Z"
   },
   {
    "duration": 540,
    "start_time": "2022-03-13T15:40:07.136Z"
   },
   {
    "duration": 538,
    "start_time": "2022-03-13T15:40:36.773Z"
   },
   {
    "duration": 529,
    "start_time": "2022-03-13T15:40:58.334Z"
   },
   {
    "duration": 586,
    "start_time": "2022-03-13T15:41:11.852Z"
   },
   {
    "duration": 599,
    "start_time": "2022-03-13T15:41:17.064Z"
   },
   {
    "duration": 650,
    "start_time": "2022-03-13T15:41:53.670Z"
   },
   {
    "duration": 545,
    "start_time": "2022-03-13T15:42:22.940Z"
   },
   {
    "duration": 548,
    "start_time": "2022-03-13T15:42:53.652Z"
   },
   {
    "duration": 512,
    "start_time": "2022-03-13T15:43:00.357Z"
   },
   {
    "duration": 575,
    "start_time": "2022-03-13T15:43:15.587Z"
   },
   {
    "duration": 667,
    "start_time": "2022-03-13T15:43:20.955Z"
   },
   {
    "duration": 85,
    "start_time": "2022-03-13T15:43:45.090Z"
   },
   {
    "duration": 504,
    "start_time": "2022-03-13T15:44:11.762Z"
   },
   {
    "duration": 587,
    "start_time": "2022-03-13T15:44:26.106Z"
   },
   {
    "duration": 506,
    "start_time": "2022-03-13T15:44:48.638Z"
   },
   {
    "duration": 533,
    "start_time": "2022-03-13T15:45:04.732Z"
   },
   {
    "duration": 532,
    "start_time": "2022-03-13T15:45:28.174Z"
   },
   {
    "duration": 31,
    "start_time": "2022-03-13T15:46:09.750Z"
   },
   {
    "duration": 646,
    "start_time": "2022-03-13T15:46:10.923Z"
   },
   {
    "duration": 335,
    "start_time": "2022-03-13T15:46:33.444Z"
   },
   {
    "duration": 308,
    "start_time": "2022-03-13T15:47:03.215Z"
   },
   {
    "duration": 373,
    "start_time": "2022-03-13T15:48:18.568Z"
   },
   {
    "duration": 4,
    "start_time": "2022-03-13T15:48:56.842Z"
   },
   {
    "duration": 536,
    "start_time": "2022-03-13T15:48:58.102Z"
   },
   {
    "duration": 549,
    "start_time": "2022-03-13T15:49:04.437Z"
   },
   {
    "duration": 864,
    "start_time": "2022-03-13T15:49:21.003Z"
   },
   {
    "duration": 14,
    "start_time": "2022-03-13T15:49:21.869Z"
   },
   {
    "duration": 38,
    "start_time": "2022-03-13T15:49:21.886Z"
   },
   {
    "duration": 36,
    "start_time": "2022-03-13T15:49:21.927Z"
   },
   {
    "duration": 18,
    "start_time": "2022-03-13T15:49:21.966Z"
   },
   {
    "duration": 22,
    "start_time": "2022-03-13T15:49:21.986Z"
   },
   {
    "duration": 8,
    "start_time": "2022-03-13T15:49:22.011Z"
   },
   {
    "duration": 8,
    "start_time": "2022-03-13T15:49:22.023Z"
   },
   {
    "duration": 10,
    "start_time": "2022-03-13T15:49:22.034Z"
   },
   {
    "duration": 6,
    "start_time": "2022-03-13T15:49:22.083Z"
   },
   {
    "duration": 13,
    "start_time": "2022-03-13T15:49:22.091Z"
   },
   {
    "duration": 8,
    "start_time": "2022-03-13T15:49:22.106Z"
   },
   {
    "duration": 10,
    "start_time": "2022-03-13T15:49:22.116Z"
   },
   {
    "duration": 8,
    "start_time": "2022-03-13T15:49:22.129Z"
   },
   {
    "duration": 53,
    "start_time": "2022-03-13T15:49:22.139Z"
   },
   {
    "duration": 24,
    "start_time": "2022-03-13T15:49:22.195Z"
   },
   {
    "duration": 13,
    "start_time": "2022-03-13T15:49:22.222Z"
   },
   {
    "duration": 53,
    "start_time": "2022-03-13T15:49:22.238Z"
   },
   {
    "duration": 35,
    "start_time": "2022-03-13T15:49:22.293Z"
   },
   {
    "duration": 85,
    "start_time": "2022-03-13T15:49:22.330Z"
   },
   {
    "duration": 66,
    "start_time": "2022-03-13T15:49:22.418Z"
   },
   {
    "duration": 5,
    "start_time": "2022-03-13T15:49:22.486Z"
   },
   {
    "duration": 39,
    "start_time": "2022-03-13T15:49:22.496Z"
   },
   {
    "duration": 810,
    "start_time": "2022-03-13T15:49:22.537Z"
   },
   {
    "duration": 304,
    "start_time": "2022-03-13T15:49:23.350Z"
   },
   {
    "duration": 607,
    "start_time": "2022-03-13T15:49:23.656Z"
   },
   {
    "duration": 559,
    "start_time": "2022-03-13T15:49:24.265Z"
   },
   {
    "duration": 350,
    "start_time": "2022-03-13T15:49:24.827Z"
   },
   {
    "duration": 1089,
    "start_time": "2022-03-13T15:49:25.183Z"
   },
   {
    "duration": 23,
    "start_time": "2022-03-13T15:49:26.275Z"
   },
   {
    "duration": 537,
    "start_time": "2022-03-13T15:49:26.301Z"
   },
   {
    "duration": 717,
    "start_time": "2022-03-13T15:49:26.841Z"
   },
   {
    "duration": 3,
    "start_time": "2022-03-13T15:49:27.560Z"
   },
   {
    "duration": 542,
    "start_time": "2022-03-13T15:49:27.565Z"
   },
   {
    "duration": 549,
    "start_time": "2022-03-13T15:49:28.109Z"
   },
   {
    "duration": 566,
    "start_time": "2022-03-13T15:50:08.711Z"
   },
   {
    "duration": 537,
    "start_time": "2022-03-13T15:51:14.038Z"
   },
   {
    "duration": 635,
    "start_time": "2022-03-13T15:51:19.414Z"
   },
   {
    "duration": 525,
    "start_time": "2022-03-13T15:51:27.251Z"
   },
   {
    "duration": 522,
    "start_time": "2022-03-13T15:51:49.610Z"
   },
   {
    "duration": 522,
    "start_time": "2022-03-13T15:52:15.411Z"
   },
   {
    "duration": 538,
    "start_time": "2022-03-13T15:52:50.546Z"
   },
   {
    "duration": 536,
    "start_time": "2022-03-13T15:53:04.717Z"
   },
   {
    "duration": 647,
    "start_time": "2022-03-13T15:53:48.350Z"
   },
   {
    "duration": 645,
    "start_time": "2022-03-13T16:13:33.697Z"
   },
   {
    "duration": 554,
    "start_time": "2022-03-13T16:13:47.607Z"
   },
   {
    "duration": 12,
    "start_time": "2022-03-13T16:14:48.861Z"
   },
   {
    "duration": 642,
    "start_time": "2022-03-13T16:46:31.608Z"
   },
   {
    "duration": 643,
    "start_time": "2022-03-13T16:53:36.727Z"
   },
   {
    "duration": 618,
    "start_time": "2022-03-13T16:55:39.269Z"
   },
   {
    "duration": 641,
    "start_time": "2022-03-13T16:55:56.648Z"
   },
   {
    "duration": 7,
    "start_time": "2022-03-13T16:57:18.482Z"
   },
   {
    "duration": 713,
    "start_time": "2022-03-13T17:10:25.001Z"
   },
   {
    "duration": 651,
    "start_time": "2022-03-13T17:10:43.783Z"
   },
   {
    "duration": 1102,
    "start_time": "2022-03-13T17:13:26.201Z"
   },
   {
    "duration": 14,
    "start_time": "2022-03-13T17:13:27.307Z"
   },
   {
    "duration": 17,
    "start_time": "2022-03-13T17:13:27.325Z"
   },
   {
    "duration": 73,
    "start_time": "2022-03-13T17:13:27.345Z"
   },
   {
    "duration": 7,
    "start_time": "2022-03-13T17:13:27.421Z"
   },
   {
    "duration": 55,
    "start_time": "2022-03-13T17:13:27.431Z"
   },
   {
    "duration": 9,
    "start_time": "2022-03-13T17:13:27.490Z"
   },
   {
    "duration": 16,
    "start_time": "2022-03-13T17:13:27.503Z"
   },
   {
    "duration": 7,
    "start_time": "2022-03-13T17:13:27.523Z"
   },
   {
    "duration": 49,
    "start_time": "2022-03-13T17:13:27.533Z"
   },
   {
    "duration": 15,
    "start_time": "2022-03-13T17:13:27.586Z"
   },
   {
    "duration": 9,
    "start_time": "2022-03-13T17:13:27.604Z"
   },
   {
    "duration": 10,
    "start_time": "2022-03-13T17:13:27.616Z"
   },
   {
    "duration": 57,
    "start_time": "2022-03-13T17:13:27.628Z"
   },
   {
    "duration": 12,
    "start_time": "2022-03-13T17:13:27.688Z"
   },
   {
    "duration": 17,
    "start_time": "2022-03-13T17:13:27.703Z"
   },
   {
    "duration": 60,
    "start_time": "2022-03-13T17:13:27.722Z"
   },
   {
    "duration": 10,
    "start_time": "2022-03-13T17:13:27.787Z"
   },
   {
    "duration": 82,
    "start_time": "2022-03-13T17:13:27.802Z"
   },
   {
    "duration": 51,
    "start_time": "2022-03-13T17:13:27.886Z"
   },
   {
    "duration": 77,
    "start_time": "2022-03-13T17:13:27.939Z"
   },
   {
    "duration": 5,
    "start_time": "2022-03-13T17:13:28.019Z"
   },
   {
    "duration": 69,
    "start_time": "2022-03-13T17:13:28.027Z"
   },
   {
    "duration": 640,
    "start_time": "2022-03-13T17:13:28.098Z"
   },
   {
    "duration": 331,
    "start_time": "2022-03-13T17:13:28.741Z"
   },
   {
    "duration": 648,
    "start_time": "2022-03-13T17:13:29.075Z"
   },
   {
    "duration": 587,
    "start_time": "2022-03-13T17:13:29.727Z"
   },
   {
    "duration": 371,
    "start_time": "2022-03-13T17:13:30.318Z"
   },
   {
    "duration": 1125,
    "start_time": "2022-03-13T17:13:30.692Z"
   },
   {
    "duration": 16,
    "start_time": "2022-03-13T17:13:31.820Z"
   },
   {
    "duration": 611,
    "start_time": "2022-03-13T17:13:31.839Z"
   },
   {
    "duration": 671,
    "start_time": "2022-03-13T17:13:32.452Z"
   },
   {
    "duration": 580,
    "start_time": "2022-03-13T17:13:33.126Z"
   },
   {
    "duration": 15,
    "start_time": "2022-03-13T17:13:33.709Z"
   },
   {
    "duration": 907,
    "start_time": "2022-03-13T17:13:33.727Z"
   },
   {
    "duration": 686,
    "start_time": "2022-03-13T17:13:34.636Z"
   },
   {
    "duration": 6,
    "start_time": "2022-03-13T17:13:35.325Z"
   },
   {
    "duration": 933,
    "start_time": "2022-03-13T17:14:47.639Z"
   },
   {
    "duration": 10,
    "start_time": "2022-03-13T17:14:48.583Z"
   },
   {
    "duration": 14,
    "start_time": "2022-03-13T17:14:48.597Z"
   },
   {
    "duration": 73,
    "start_time": "2022-03-13T17:14:48.615Z"
   },
   {
    "duration": 7,
    "start_time": "2022-03-13T17:14:48.691Z"
   },
   {
    "duration": 43,
    "start_time": "2022-03-13T17:14:48.700Z"
   },
   {
    "duration": 7,
    "start_time": "2022-03-13T17:14:48.745Z"
   },
   {
    "duration": 32,
    "start_time": "2022-03-13T17:14:48.756Z"
   },
   {
    "duration": 13,
    "start_time": "2022-03-13T17:14:48.791Z"
   },
   {
    "duration": 17,
    "start_time": "2022-03-13T17:14:48.807Z"
   },
   {
    "duration": 16,
    "start_time": "2022-03-13T17:14:48.827Z"
   },
   {
    "duration": 39,
    "start_time": "2022-03-13T17:14:48.846Z"
   },
   {
    "duration": 10,
    "start_time": "2022-03-13T17:14:48.889Z"
   },
   {
    "duration": 9,
    "start_time": "2022-03-13T17:14:48.902Z"
   },
   {
    "duration": 10,
    "start_time": "2022-03-13T17:14:48.915Z"
   },
   {
    "duration": 78,
    "start_time": "2022-03-13T17:14:48.927Z"
   },
   {
    "duration": 12,
    "start_time": "2022-03-13T17:14:49.007Z"
   },
   {
    "duration": 11,
    "start_time": "2022-03-13T17:14:49.022Z"
   },
   {
    "duration": 82,
    "start_time": "2022-03-13T17:14:49.036Z"
   },
   {
    "duration": 85,
    "start_time": "2022-03-13T17:14:49.121Z"
   },
   {
    "duration": 45,
    "start_time": "2022-03-13T17:14:49.208Z"
   },
   {
    "duration": 30,
    "start_time": "2022-03-13T17:14:49.255Z"
   },
   {
    "duration": 50,
    "start_time": "2022-03-13T17:14:49.290Z"
   },
   {
    "duration": 687,
    "start_time": "2022-03-13T17:14:49.343Z"
   },
   {
    "duration": 330,
    "start_time": "2022-03-13T17:14:50.033Z"
   },
   {
    "duration": 622,
    "start_time": "2022-03-13T17:14:50.365Z"
   },
   {
    "duration": 619,
    "start_time": "2022-03-13T17:14:50.990Z"
   },
   {
    "duration": 351,
    "start_time": "2022-03-13T17:14:51.612Z"
   },
   {
    "duration": 1110,
    "start_time": "2022-03-13T17:14:51.967Z"
   },
   {
    "duration": 18,
    "start_time": "2022-03-13T17:14:53.083Z"
   },
   {
    "duration": 578,
    "start_time": "2022-03-13T17:14:53.104Z"
   },
   {
    "duration": 653,
    "start_time": "2022-03-13T17:14:53.685Z"
   },
   {
    "duration": 568,
    "start_time": "2022-03-13T17:14:54.341Z"
   },
   {
    "duration": 12,
    "start_time": "2022-03-13T17:14:54.912Z"
   },
   {
    "duration": 635,
    "start_time": "2022-03-13T17:14:54.926Z"
   },
   {
    "duration": 691,
    "start_time": "2022-03-13T17:14:55.564Z"
   },
   {
    "duration": 6,
    "start_time": "2022-03-13T17:14:56.258Z"
   },
   {
    "duration": 684,
    "start_time": "2022-03-13T17:14:56.283Z"
   },
   {
    "duration": 1024,
    "start_time": "2022-03-13T17:17:47.076Z"
   },
   {
    "duration": 11,
    "start_time": "2022-03-13T17:17:48.103Z"
   },
   {
    "duration": 12,
    "start_time": "2022-03-13T17:17:48.118Z"
   },
   {
    "duration": 76,
    "start_time": "2022-03-13T17:17:48.133Z"
   },
   {
    "duration": 8,
    "start_time": "2022-03-13T17:17:48.211Z"
   },
   {
    "duration": 20,
    "start_time": "2022-03-13T17:17:48.222Z"
   },
   {
    "duration": 39,
    "start_time": "2022-03-13T17:17:48.245Z"
   },
   {
    "duration": 10,
    "start_time": "2022-03-13T17:17:48.288Z"
   },
   {
    "duration": 7,
    "start_time": "2022-03-13T17:17:48.301Z"
   },
   {
    "duration": 8,
    "start_time": "2022-03-13T17:17:48.310Z"
   },
   {
    "duration": 62,
    "start_time": "2022-03-13T17:17:48.321Z"
   },
   {
    "duration": 13,
    "start_time": "2022-03-13T17:17:48.387Z"
   },
   {
    "duration": 9,
    "start_time": "2022-03-13T17:17:48.403Z"
   },
   {
    "duration": 11,
    "start_time": "2022-03-13T17:17:48.414Z"
   },
   {
    "duration": 58,
    "start_time": "2022-03-13T17:17:48.427Z"
   },
   {
    "duration": 17,
    "start_time": "2022-03-13T17:17:48.488Z"
   },
   {
    "duration": 10,
    "start_time": "2022-03-13T17:17:48.508Z"
   },
   {
    "duration": 63,
    "start_time": "2022-03-13T17:17:48.520Z"
   },
   {
    "duration": 39,
    "start_time": "2022-03-13T17:17:48.586Z"
   },
   {
    "duration": 88,
    "start_time": "2022-03-13T17:17:48.627Z"
   },
   {
    "duration": 67,
    "start_time": "2022-03-13T17:17:48.717Z"
   },
   {
    "duration": 6,
    "start_time": "2022-03-13T17:17:48.787Z"
   },
   {
    "duration": 41,
    "start_time": "2022-03-13T17:17:48.799Z"
   },
   {
    "duration": 680,
    "start_time": "2022-03-13T17:17:48.843Z"
   },
   {
    "duration": 316,
    "start_time": "2022-03-13T17:17:49.527Z"
   },
   {
    "duration": 641,
    "start_time": "2022-03-13T17:17:49.846Z"
   },
   {
    "duration": 586,
    "start_time": "2022-03-13T17:17:50.490Z"
   },
   {
    "duration": 364,
    "start_time": "2022-03-13T17:17:51.082Z"
   },
   {
    "duration": 1139,
    "start_time": "2022-03-13T17:17:51.448Z"
   },
   {
    "duration": 20,
    "start_time": "2022-03-13T17:17:52.590Z"
   },
   {
    "duration": 605,
    "start_time": "2022-03-13T17:17:52.613Z"
   },
   {
    "duration": 641,
    "start_time": "2022-03-13T17:17:53.221Z"
   },
   {
    "duration": 598,
    "start_time": "2022-03-13T17:17:53.864Z"
   },
   {
    "duration": 24,
    "start_time": "2022-03-13T17:17:54.464Z"
   },
   {
    "duration": 664,
    "start_time": "2022-03-13T17:17:54.490Z"
   },
   {
    "duration": 668,
    "start_time": "2022-03-13T17:17:55.156Z"
   },
   {
    "duration": 6,
    "start_time": "2022-03-13T17:17:55.827Z"
   },
   {
    "duration": 5,
    "start_time": "2022-03-13T17:17:55.836Z"
   },
   {
    "duration": 436,
    "start_time": "2022-03-13T17:23:03.641Z"
   },
   {
    "duration": 20,
    "start_time": "2022-03-13T17:23:13.594Z"
   },
   {
    "duration": 281,
    "start_time": "2022-03-13T17:24:00.618Z"
   },
   {
    "duration": 386,
    "start_time": "2022-03-13T17:25:03.791Z"
   },
   {
    "duration": 259,
    "start_time": "2022-03-13T17:39:01.459Z"
   },
   {
    "duration": 381,
    "start_time": "2022-03-13T17:39:08.305Z"
   },
   {
    "duration": 254,
    "start_time": "2022-03-13T17:44:51.364Z"
   },
   {
    "duration": 650,
    "start_time": "2022-03-13T17:49:37.570Z"
   },
   {
    "duration": 694,
    "start_time": "2022-03-13T17:49:51.469Z"
   },
   {
    "duration": 666,
    "start_time": "2022-03-13T17:50:30.602Z"
   },
   {
    "duration": 706,
    "start_time": "2022-03-13T17:51:14.172Z"
   },
   {
    "duration": 845,
    "start_time": "2022-03-13T17:52:02.220Z"
   },
   {
    "duration": 24,
    "start_time": "2022-03-13T17:52:03.068Z"
   },
   {
    "duration": 12,
    "start_time": "2022-03-13T17:52:03.096Z"
   },
   {
    "duration": 73,
    "start_time": "2022-03-13T17:52:03.111Z"
   },
   {
    "duration": 8,
    "start_time": "2022-03-13T17:52:03.187Z"
   },
   {
    "duration": 18,
    "start_time": "2022-03-13T17:52:03.197Z"
   },
   {
    "duration": 7,
    "start_time": "2022-03-13T17:52:03.217Z"
   },
   {
    "duration": 55,
    "start_time": "2022-03-13T17:52:03.227Z"
   },
   {
    "duration": 6,
    "start_time": "2022-03-13T17:52:03.286Z"
   },
   {
    "duration": 7,
    "start_time": "2022-03-13T17:52:03.295Z"
   },
   {
    "duration": 13,
    "start_time": "2022-03-13T17:52:03.304Z"
   },
   {
    "duration": 8,
    "start_time": "2022-03-13T17:52:03.319Z"
   },
   {
    "duration": 59,
    "start_time": "2022-03-13T17:52:03.330Z"
   },
   {
    "duration": 11,
    "start_time": "2022-03-13T17:52:03.391Z"
   },
   {
    "duration": 9,
    "start_time": "2022-03-13T17:52:03.404Z"
   },
   {
    "duration": 70,
    "start_time": "2022-03-13T17:52:03.415Z"
   },
   {
    "duration": 11,
    "start_time": "2022-03-13T17:52:03.488Z"
   },
   {
    "duration": 11,
    "start_time": "2022-03-13T17:52:03.501Z"
   },
   {
    "duration": 80,
    "start_time": "2022-03-13T17:52:03.515Z"
   },
   {
    "duration": 52,
    "start_time": "2022-03-13T17:52:03.597Z"
   },
   {
    "duration": 69,
    "start_time": "2022-03-13T17:52:03.652Z"
   },
   {
    "duration": 5,
    "start_time": "2022-03-13T17:52:03.724Z"
   },
   {
    "duration": 66,
    "start_time": "2022-03-13T17:52:03.731Z"
   },
   {
    "duration": 640,
    "start_time": "2022-03-13T17:52:03.799Z"
   },
   {
    "duration": 309,
    "start_time": "2022-03-13T17:52:04.443Z"
   },
   {
    "duration": 611,
    "start_time": "2022-03-13T17:52:04.755Z"
   },
   {
    "duration": 587,
    "start_time": "2022-03-13T17:52:05.372Z"
   },
   {
    "duration": 341,
    "start_time": "2022-03-13T17:52:05.962Z"
   },
   {
    "duration": 1107,
    "start_time": "2022-03-13T17:52:06.306Z"
   },
   {
    "duration": 16,
    "start_time": "2022-03-13T17:52:07.416Z"
   },
   {
    "duration": 551,
    "start_time": "2022-03-13T17:52:07.434Z"
   },
   {
    "duration": 629,
    "start_time": "2022-03-13T17:52:07.987Z"
   },
   {
    "duration": 577,
    "start_time": "2022-03-13T17:52:08.619Z"
   },
   {
    "duration": 13,
    "start_time": "2022-03-13T17:52:09.198Z"
   },
   {
    "duration": 654,
    "start_time": "2022-03-13T17:52:09.213Z"
   },
   {
    "duration": 683,
    "start_time": "2022-03-13T17:52:09.870Z"
   },
   {
    "duration": 6,
    "start_time": "2022-03-13T17:52:10.555Z"
   },
   {
    "duration": 373,
    "start_time": "2022-03-13T17:52:10.583Z"
   },
   {
    "duration": 365,
    "start_time": "2022-03-13T17:52:10.958Z"
   },
   {
    "duration": 283,
    "start_time": "2022-03-13T17:52:11.326Z"
   },
   {
    "duration": 626,
    "start_time": "2022-03-13T17:52:11.611Z"
   },
   {
    "duration": 343,
    "start_time": "2022-03-13T17:57:55.169Z"
   },
   {
    "duration": 358,
    "start_time": "2022-03-13T18:00:55.037Z"
   },
   {
    "duration": 994,
    "start_time": "2022-03-13T18:03:11.528Z"
   },
   {
    "duration": 15,
    "start_time": "2022-03-13T18:03:12.526Z"
   },
   {
    "duration": 45,
    "start_time": "2022-03-13T18:03:12.545Z"
   },
   {
    "duration": 60,
    "start_time": "2022-03-13T18:03:12.594Z"
   },
   {
    "duration": 34,
    "start_time": "2022-03-13T18:03:12.658Z"
   },
   {
    "duration": 25,
    "start_time": "2022-03-13T18:03:12.696Z"
   },
   {
    "duration": 8,
    "start_time": "2022-03-13T18:03:12.724Z"
   },
   {
    "duration": 9,
    "start_time": "2022-03-13T18:03:12.783Z"
   },
   {
    "duration": 15,
    "start_time": "2022-03-13T18:03:12.797Z"
   },
   {
    "duration": 26,
    "start_time": "2022-03-13T18:03:12.816Z"
   },
   {
    "duration": 19,
    "start_time": "2022-03-13T18:03:12.845Z"
   },
   {
    "duration": 9,
    "start_time": "2022-03-13T18:03:12.884Z"
   },
   {
    "duration": 15,
    "start_time": "2022-03-13T18:03:12.896Z"
   },
   {
    "duration": 16,
    "start_time": "2022-03-13T18:03:12.914Z"
   },
   {
    "duration": 50,
    "start_time": "2022-03-13T18:03:12.933Z"
   },
   {
    "duration": 18,
    "start_time": "2022-03-13T18:03:12.986Z"
   },
   {
    "duration": 12,
    "start_time": "2022-03-13T18:03:13.006Z"
   },
   {
    "duration": 63,
    "start_time": "2022-03-13T18:03:13.020Z"
   },
   {
    "duration": 38,
    "start_time": "2022-03-13T18:03:13.085Z"
   },
   {
    "duration": 98,
    "start_time": "2022-03-13T18:03:13.126Z"
   },
   {
    "duration": 91,
    "start_time": "2022-03-13T18:03:13.227Z"
   },
   {
    "duration": 6,
    "start_time": "2022-03-13T18:03:13.320Z"
   },
   {
    "duration": 76,
    "start_time": "2022-03-13T18:03:13.328Z"
   },
   {
    "duration": 716,
    "start_time": "2022-03-13T18:03:13.407Z"
   },
   {
    "duration": 335,
    "start_time": "2022-03-13T18:03:14.125Z"
   },
   {
    "duration": 668,
    "start_time": "2022-03-13T18:03:14.463Z"
   },
   {
    "duration": 610,
    "start_time": "2022-03-13T18:03:15.136Z"
   },
   {
    "duration": 365,
    "start_time": "2022-03-13T18:03:15.749Z"
   },
   {
    "duration": 1247,
    "start_time": "2022-03-13T18:03:16.117Z"
   },
   {
    "duration": 28,
    "start_time": "2022-03-13T18:03:17.368Z"
   },
   {
    "duration": 683,
    "start_time": "2022-03-13T18:03:17.399Z"
   },
   {
    "duration": 735,
    "start_time": "2022-03-13T18:03:18.085Z"
   },
   {
    "duration": 911,
    "start_time": "2022-03-13T18:03:18.823Z"
   },
   {
    "duration": 15,
    "start_time": "2022-03-13T18:03:19.736Z"
   },
   {
    "duration": 838,
    "start_time": "2022-03-13T18:03:19.755Z"
   },
   {
    "duration": 674,
    "start_time": "2022-03-13T18:03:20.596Z"
   },
   {
    "duration": 11,
    "start_time": "2022-03-13T18:03:21.274Z"
   },
   {
    "duration": 436,
    "start_time": "2022-03-13T18:03:21.288Z"
   },
   {
    "duration": 363,
    "start_time": "2022-03-13T18:03:21.727Z"
   },
   {
    "duration": 299,
    "start_time": "2022-03-13T18:03:22.094Z"
   },
   {
    "duration": 669,
    "start_time": "2022-03-13T18:03:22.396Z"
   },
   {
    "duration": 355,
    "start_time": "2022-03-13T18:03:23.068Z"
   },
   {
    "duration": 6,
    "start_time": "2022-03-13T18:08:44.176Z"
   },
   {
    "duration": 946,
    "start_time": "2022-03-13T18:10:58.850Z"
   },
   {
    "duration": 891,
    "start_time": "2022-03-13T18:15:26.073Z"
   },
   {
    "duration": 858,
    "start_time": "2022-03-13T18:16:03.906Z"
   },
   {
    "duration": 11,
    "start_time": "2022-03-13T18:21:04.223Z"
   },
   {
    "duration": 129,
    "start_time": "2022-03-13T18:24:13.827Z"
   },
   {
    "duration": 349,
    "start_time": "2022-03-13T18:27:03.325Z"
   },
   {
    "duration": 258,
    "start_time": "2022-03-13T18:27:15.898Z"
   },
   {
    "duration": 654,
    "start_time": "2022-03-13T18:27:27.738Z"
   },
   {
    "duration": 91,
    "start_time": "2022-03-13T18:30:40.210Z"
   },
   {
    "duration": 138,
    "start_time": "2022-03-13T18:30:45.998Z"
   },
   {
    "duration": 251,
    "start_time": "2022-03-13T18:33:37.739Z"
   },
   {
    "duration": 12,
    "start_time": "2022-03-13T18:35:15.775Z"
   },
   {
    "duration": 10,
    "start_time": "2022-03-13T18:38:22.990Z"
   },
   {
    "duration": 9,
    "start_time": "2022-03-13T18:41:43.499Z"
   },
   {
    "duration": 12,
    "start_time": "2022-03-13T18:41:55.005Z"
   },
   {
    "duration": 61,
    "start_time": "2022-03-13T18:42:07.046Z"
   },
   {
    "duration": 8,
    "start_time": "2022-03-13T18:42:52.099Z"
   },
   {
    "duration": 19,
    "start_time": "2022-03-13T18:44:33.547Z"
   },
   {
    "duration": 230,
    "start_time": "2022-03-13T18:47:30.920Z"
   },
   {
    "duration": 20,
    "start_time": "2022-03-13T18:47:51.085Z"
   },
   {
    "duration": 20,
    "start_time": "2022-03-13T18:50:20.113Z"
   },
   {
    "duration": 21,
    "start_time": "2022-03-13T18:51:28.546Z"
   },
   {
    "duration": 24,
    "start_time": "2022-03-13T18:55:32.021Z"
   },
   {
    "duration": 867,
    "start_time": "2022-03-13T18:57:08.581Z"
   },
   {
    "duration": 33,
    "start_time": "2022-03-13T18:57:09.452Z"
   },
   {
    "duration": 15,
    "start_time": "2022-03-13T18:57:09.488Z"
   },
   {
    "duration": 37,
    "start_time": "2022-03-13T18:57:09.506Z"
   },
   {
    "duration": 42,
    "start_time": "2022-03-13T18:57:09.545Z"
   },
   {
    "duration": 27,
    "start_time": "2022-03-13T18:57:09.590Z"
   },
   {
    "duration": 6,
    "start_time": "2022-03-13T18:57:09.620Z"
   },
   {
    "duration": 8,
    "start_time": "2022-03-13T18:57:09.629Z"
   },
   {
    "duration": 7,
    "start_time": "2022-03-13T18:57:09.681Z"
   },
   {
    "duration": 6,
    "start_time": "2022-03-13T18:57:09.691Z"
   },
   {
    "duration": 12,
    "start_time": "2022-03-13T18:57:09.700Z"
   },
   {
    "duration": 8,
    "start_time": "2022-03-13T18:57:09.714Z"
   },
   {
    "duration": 61,
    "start_time": "2022-03-13T18:57:09.724Z"
   },
   {
    "duration": 6,
    "start_time": "2022-03-13T18:57:09.788Z"
   },
   {
    "duration": 10,
    "start_time": "2022-03-13T18:57:09.797Z"
   },
   {
    "duration": 17,
    "start_time": "2022-03-13T18:57:09.809Z"
   },
   {
    "duration": 64,
    "start_time": "2022-03-13T18:57:09.828Z"
   },
   {
    "duration": 11,
    "start_time": "2022-03-13T18:57:09.895Z"
   },
   {
    "duration": 74,
    "start_time": "2022-03-13T18:57:09.909Z"
   },
   {
    "duration": 53,
    "start_time": "2022-03-13T18:57:09.985Z"
   },
   {
    "duration": 73,
    "start_time": "2022-03-13T18:57:10.040Z"
   },
   {
    "duration": 5,
    "start_time": "2022-03-13T18:57:10.116Z"
   },
   {
    "duration": 62,
    "start_time": "2022-03-13T18:57:10.123Z"
   },
   {
    "duration": 631,
    "start_time": "2022-03-13T18:57:10.188Z"
   },
   {
    "duration": 307,
    "start_time": "2022-03-13T18:57:10.822Z"
   },
   {
    "duration": 623,
    "start_time": "2022-03-13T18:57:11.132Z"
   },
   {
    "duration": 639,
    "start_time": "2022-03-13T18:57:11.760Z"
   },
   {
    "duration": 359,
    "start_time": "2022-03-13T18:57:12.402Z"
   },
   {
    "duration": 1137,
    "start_time": "2022-03-13T18:57:12.764Z"
   },
   {
    "duration": 16,
    "start_time": "2022-03-13T18:57:13.904Z"
   },
   {
    "duration": 564,
    "start_time": "2022-03-13T18:57:13.923Z"
   },
   {
    "duration": 660,
    "start_time": "2022-03-13T18:57:14.490Z"
   },
   {
    "duration": 571,
    "start_time": "2022-03-13T18:57:15.153Z"
   },
   {
    "duration": 13,
    "start_time": "2022-03-13T18:57:15.728Z"
   },
   {
    "duration": 687,
    "start_time": "2022-03-13T18:57:15.743Z"
   },
   {
    "duration": 692,
    "start_time": "2022-03-13T18:57:16.433Z"
   },
   {
    "duration": 5,
    "start_time": "2022-03-13T18:57:17.128Z"
   },
   {
    "duration": 427,
    "start_time": "2022-03-13T18:57:17.136Z"
   },
   {
    "duration": 401,
    "start_time": "2022-03-13T18:57:17.566Z"
   },
   {
    "duration": 253,
    "start_time": "2022-03-13T18:57:17.969Z"
   },
   {
    "duration": 663,
    "start_time": "2022-03-13T18:57:18.224Z"
   },
   {
    "duration": 6,
    "start_time": "2022-03-13T18:57:18.890Z"
   },
   {
    "duration": 1246,
    "start_time": "2022-03-13T18:57:18.898Z"
   },
   {
    "duration": 12,
    "start_time": "2022-03-13T18:57:20.147Z"
   },
   {
    "duration": 84,
    "start_time": "2022-03-13T18:57:20.162Z"
   },
   {
    "duration": 42,
    "start_time": "2022-03-13T18:57:20.250Z"
   },
   {
    "duration": 711,
    "start_time": "2022-03-13T18:57:20.295Z"
   },
   {
    "duration": 98223,
    "start_time": "2022-03-13T18:57:58.500Z"
   },
   {
    "duration": 30,
    "start_time": "2022-03-13T19:00:43.159Z"
   },
   {
    "duration": 349,
    "start_time": "2022-03-13T19:02:17.982Z"
   },
   {
    "duration": 338,
    "start_time": "2022-03-13T19:02:35.484Z"
   },
   {
    "duration": 98367,
    "start_time": "2022-03-13T19:03:01.659Z"
   },
   {
    "duration": 5828,
    "start_time": "2022-03-13T19:10:05.544Z"
   },
   {
    "duration": 328,
    "start_time": "2022-03-13T19:10:20.052Z"
   },
   {
    "duration": 295,
    "start_time": "2022-03-14T06:42:33.467Z"
   },
   {
    "duration": 667,
    "start_time": "2022-03-14T06:42:40.096Z"
   },
   {
    "duration": 7,
    "start_time": "2022-03-14T06:42:40.765Z"
   },
   {
    "duration": 8,
    "start_time": "2022-03-14T06:42:40.775Z"
   },
   {
    "duration": 26,
    "start_time": "2022-03-14T06:42:40.785Z"
   },
   {
    "duration": 5,
    "start_time": "2022-03-14T06:42:40.812Z"
   },
   {
    "duration": 41,
    "start_time": "2022-03-14T06:42:40.819Z"
   },
   {
    "duration": 6,
    "start_time": "2022-03-14T06:42:40.861Z"
   },
   {
    "duration": 6,
    "start_time": "2022-03-14T06:42:40.869Z"
   },
   {
    "duration": 5,
    "start_time": "2022-03-14T06:42:40.876Z"
   },
   {
    "duration": 5,
    "start_time": "2022-03-14T06:42:40.883Z"
   },
   {
    "duration": 8,
    "start_time": "2022-03-14T06:42:40.889Z"
   },
   {
    "duration": 7,
    "start_time": "2022-03-14T06:42:40.898Z"
   },
   {
    "duration": 5,
    "start_time": "2022-03-14T06:42:40.906Z"
   },
   {
    "duration": 46,
    "start_time": "2022-03-14T06:42:40.913Z"
   },
   {
    "duration": 6,
    "start_time": "2022-03-14T06:42:40.961Z"
   },
   {
    "duration": 13,
    "start_time": "2022-03-14T06:42:40.968Z"
   },
   {
    "duration": 9,
    "start_time": "2022-03-14T06:42:40.983Z"
   },
   {
    "duration": 10,
    "start_time": "2022-03-14T06:42:40.994Z"
   },
   {
    "duration": 82,
    "start_time": "2022-03-14T06:42:41.006Z"
   },
   {
    "duration": 37,
    "start_time": "2022-03-14T06:42:41.090Z"
   },
   {
    "duration": 32,
    "start_time": "2022-03-14T06:42:41.128Z"
   },
   {
    "duration": 4,
    "start_time": "2022-03-14T06:42:41.161Z"
   },
   {
    "duration": 26,
    "start_time": "2022-03-14T06:42:41.168Z"
   },
   {
    "duration": 455,
    "start_time": "2022-03-14T06:42:41.196Z"
   },
   {
    "duration": 213,
    "start_time": "2022-03-14T06:42:41.653Z"
   },
   {
    "duration": 433,
    "start_time": "2022-03-14T06:42:41.867Z"
   },
   {
    "duration": 385,
    "start_time": "2022-03-14T06:42:42.302Z"
   },
   {
    "duration": 225,
    "start_time": "2022-03-14T06:42:42.689Z"
   },
   {
    "duration": 743,
    "start_time": "2022-03-14T06:42:42.916Z"
   },
   {
    "duration": 13,
    "start_time": "2022-03-14T06:42:43.661Z"
   },
   {
    "duration": 375,
    "start_time": "2022-03-14T06:42:43.676Z"
   },
   {
    "duration": 451,
    "start_time": "2022-03-14T06:42:44.053Z"
   },
   {
    "duration": 395,
    "start_time": "2022-03-14T06:42:44.506Z"
   },
   {
    "duration": 9,
    "start_time": "2022-03-14T06:42:44.902Z"
   },
   {
    "duration": 496,
    "start_time": "2022-03-14T06:42:44.913Z"
   },
   {
    "duration": 503,
    "start_time": "2022-03-14T06:42:45.410Z"
   },
   {
    "duration": 5,
    "start_time": "2022-03-14T06:42:45.915Z"
   },
   {
    "duration": 280,
    "start_time": "2022-03-14T06:42:45.921Z"
   },
   {
    "duration": 241,
    "start_time": "2022-03-14T06:42:46.203Z"
   },
   {
    "duration": 199,
    "start_time": "2022-03-14T06:42:46.445Z"
   },
   {
    "duration": 497,
    "start_time": "2022-03-14T06:42:46.646Z"
   },
   {
    "duration": 4,
    "start_time": "2022-03-14T06:42:47.145Z"
   },
   {
    "duration": 665,
    "start_time": "2022-03-14T06:42:47.159Z"
   },
   {
    "duration": 7,
    "start_time": "2022-03-14T06:42:47.826Z"
   },
   {
    "duration": 53,
    "start_time": "2022-03-14T06:42:47.834Z"
   },
   {
    "duration": 13,
    "start_time": "2022-03-14T06:42:47.888Z"
   },
   {
    "duration": 317,
    "start_time": "2022-03-14T06:42:47.903Z"
   },
   {
    "duration": 245,
    "start_time": "2022-03-14T06:44:11.098Z"
   },
   {
    "duration": 2947,
    "start_time": "2022-03-14T06:45:04.258Z"
   },
   {
    "duration": 661,
    "start_time": "2022-03-14T06:45:22.511Z"
   },
   {
    "duration": 8,
    "start_time": "2022-03-14T06:45:23.174Z"
   },
   {
    "duration": 8,
    "start_time": "2022-03-14T06:45:23.184Z"
   },
   {
    "duration": 30,
    "start_time": "2022-03-14T06:45:23.194Z"
   },
   {
    "duration": 5,
    "start_time": "2022-03-14T06:45:23.226Z"
   },
   {
    "duration": 35,
    "start_time": "2022-03-14T06:45:23.232Z"
   },
   {
    "duration": 5,
    "start_time": "2022-03-14T06:45:23.269Z"
   },
   {
    "duration": 4,
    "start_time": "2022-03-14T06:45:23.277Z"
   },
   {
    "duration": 4,
    "start_time": "2022-03-14T06:45:23.283Z"
   },
   {
    "duration": 7,
    "start_time": "2022-03-14T06:45:23.288Z"
   },
   {
    "duration": 10,
    "start_time": "2022-03-14T06:45:23.297Z"
   },
   {
    "duration": 7,
    "start_time": "2022-03-14T06:45:23.308Z"
   },
   {
    "duration": 6,
    "start_time": "2022-03-14T06:45:23.316Z"
   },
   {
    "duration": 39,
    "start_time": "2022-03-14T06:45:23.323Z"
   },
   {
    "duration": 9,
    "start_time": "2022-03-14T06:45:23.363Z"
   },
   {
    "duration": 12,
    "start_time": "2022-03-14T06:45:23.373Z"
   },
   {
    "duration": 7,
    "start_time": "2022-03-14T06:45:23.386Z"
   },
   {
    "duration": 7,
    "start_time": "2022-03-14T06:45:23.395Z"
   },
   {
    "duration": 61,
    "start_time": "2022-03-14T06:45:23.403Z"
   },
   {
    "duration": 38,
    "start_time": "2022-03-14T06:45:23.465Z"
   },
   {
    "duration": 34,
    "start_time": "2022-03-14T06:45:23.505Z"
   },
   {
    "duration": 4,
    "start_time": "2022-03-14T06:45:23.560Z"
   },
   {
    "duration": 26,
    "start_time": "2022-03-14T06:45:23.568Z"
   },
   {
    "duration": 455,
    "start_time": "2022-03-14T06:45:23.596Z"
   },
   {
    "duration": 224,
    "start_time": "2022-03-14T06:45:24.053Z"
   },
   {
    "duration": 430,
    "start_time": "2022-03-14T06:45:24.279Z"
   },
   {
    "duration": 384,
    "start_time": "2022-03-14T06:45:24.710Z"
   },
   {
    "duration": 234,
    "start_time": "2022-03-14T06:45:25.096Z"
   },
   {
    "duration": 754,
    "start_time": "2022-03-14T06:45:25.332Z"
   },
   {
    "duration": 12,
    "start_time": "2022-03-14T06:45:26.088Z"
   },
   {
    "duration": 380,
    "start_time": "2022-03-14T06:45:26.102Z"
   },
   {
    "duration": 444,
    "start_time": "2022-03-14T06:45:26.484Z"
   },
   {
    "duration": 398,
    "start_time": "2022-03-14T06:45:26.930Z"
   },
   {
    "duration": 9,
    "start_time": "2022-03-14T06:45:27.330Z"
   },
   {
    "duration": 490,
    "start_time": "2022-03-14T06:45:27.341Z"
   },
   {
    "duration": 507,
    "start_time": "2022-03-14T06:45:27.833Z"
   },
   {
    "duration": 17,
    "start_time": "2022-03-14T06:45:28.342Z"
   },
   {
    "duration": 249,
    "start_time": "2022-03-14T06:45:28.361Z"
   },
   {
    "duration": 251,
    "start_time": "2022-03-14T06:45:28.612Z"
   },
   {
    "duration": 179,
    "start_time": "2022-03-14T06:45:28.865Z"
   },
   {
    "duration": 490,
    "start_time": "2022-03-14T06:45:29.047Z"
   },
   {
    "duration": 5,
    "start_time": "2022-03-14T06:45:29.539Z"
   },
   {
    "duration": 687,
    "start_time": "2022-03-14T06:45:29.546Z"
   },
   {
    "duration": 8,
    "start_time": "2022-03-14T06:45:30.236Z"
   },
   {
    "duration": 53,
    "start_time": "2022-03-14T06:45:30.246Z"
   },
   {
    "duration": 15,
    "start_time": "2022-03-14T06:45:30.300Z"
   },
   {
    "duration": 3140,
    "start_time": "2022-03-14T06:45:30.317Z"
   },
   {
    "duration": 2904,
    "start_time": "2022-03-14T06:45:46.284Z"
   },
   {
    "duration": 688,
    "start_time": "2022-03-14T06:46:11.835Z"
   },
   {
    "duration": 8,
    "start_time": "2022-03-14T06:46:12.525Z"
   },
   {
    "duration": 8,
    "start_time": "2022-03-14T06:46:12.535Z"
   },
   {
    "duration": 38,
    "start_time": "2022-03-14T06:46:12.545Z"
   },
   {
    "duration": 5,
    "start_time": "2022-03-14T06:46:12.585Z"
   },
   {
    "duration": 22,
    "start_time": "2022-03-14T06:46:12.592Z"
   },
   {
    "duration": 7,
    "start_time": "2022-03-14T06:46:12.616Z"
   },
   {
    "duration": 5,
    "start_time": "2022-03-14T06:46:12.625Z"
   },
   {
    "duration": 26,
    "start_time": "2022-03-14T06:46:12.633Z"
   },
   {
    "duration": 4,
    "start_time": "2022-03-14T06:46:12.661Z"
   },
   {
    "duration": 10,
    "start_time": "2022-03-14T06:46:12.666Z"
   },
   {
    "duration": 7,
    "start_time": "2022-03-14T06:46:12.678Z"
   },
   {
    "duration": 5,
    "start_time": "2022-03-14T06:46:12.687Z"
   },
   {
    "duration": 5,
    "start_time": "2022-03-14T06:46:12.694Z"
   },
   {
    "duration": 6,
    "start_time": "2022-03-14T06:46:12.701Z"
   },
   {
    "duration": 11,
    "start_time": "2022-03-14T06:46:12.709Z"
   },
   {
    "duration": 42,
    "start_time": "2022-03-14T06:46:12.722Z"
   },
   {
    "duration": 8,
    "start_time": "2022-03-14T06:46:12.766Z"
   },
   {
    "duration": 23,
    "start_time": "2022-03-14T06:46:12.775Z"
   },
   {
    "duration": 65,
    "start_time": "2022-03-14T06:46:12.799Z"
   },
   {
    "duration": 30,
    "start_time": "2022-03-14T06:46:12.866Z"
   },
   {
    "duration": 4,
    "start_time": "2022-03-14T06:46:12.897Z"
   },
   {
    "duration": 27,
    "start_time": "2022-03-14T06:46:12.902Z"
   },
   {
    "duration": 443,
    "start_time": "2022-03-14T06:46:12.931Z"
   },
   {
    "duration": 195,
    "start_time": "2022-03-14T06:46:13.376Z"
   },
   {
    "duration": 417,
    "start_time": "2022-03-14T06:46:13.573Z"
   },
   {
    "duration": 379,
    "start_time": "2022-03-14T06:46:13.993Z"
   },
   {
    "duration": 234,
    "start_time": "2022-03-14T06:46:14.374Z"
   },
   {
    "duration": 723,
    "start_time": "2022-03-14T06:46:14.609Z"
   },
   {
    "duration": 11,
    "start_time": "2022-03-14T06:46:15.334Z"
   },
   {
    "duration": 370,
    "start_time": "2022-03-14T06:46:15.359Z"
   },
   {
    "duration": 441,
    "start_time": "2022-03-14T06:46:15.731Z"
   },
   {
    "duration": 379,
    "start_time": "2022-03-14T06:46:16.174Z"
   },
   {
    "duration": 10,
    "start_time": "2022-03-14T06:46:16.555Z"
   },
   {
    "duration": 453,
    "start_time": "2022-03-14T06:46:16.566Z"
   },
   {
    "duration": 502,
    "start_time": "2022-03-14T06:46:17.021Z"
   },
   {
    "duration": 5,
    "start_time": "2022-03-14T06:46:17.524Z"
   },
   {
    "duration": 262,
    "start_time": "2022-03-14T06:46:17.530Z"
   },
   {
    "duration": 249,
    "start_time": "2022-03-14T06:46:17.794Z"
   },
   {
    "duration": 186,
    "start_time": "2022-03-14T06:46:18.045Z"
   },
   {
    "duration": 493,
    "start_time": "2022-03-14T06:46:18.233Z"
   },
   {
    "duration": 5,
    "start_time": "2022-03-14T06:46:18.728Z"
   },
   {
    "duration": 692,
    "start_time": "2022-03-14T06:46:18.735Z"
   },
   {
    "duration": 6,
    "start_time": "2022-03-14T06:46:19.429Z"
   },
   {
    "duration": 42,
    "start_time": "2022-03-14T06:46:19.437Z"
   },
   {
    "duration": 14,
    "start_time": "2022-03-14T06:46:19.481Z"
   },
   {
    "duration": 224,
    "start_time": "2022-03-14T06:46:19.497Z"
   },
   {
    "duration": 308,
    "start_time": "2022-03-14T06:47:08.372Z"
   },
   {
    "duration": 2942,
    "start_time": "2022-03-14T06:47:22.562Z"
   },
   {
    "duration": 4008,
    "start_time": "2022-03-14T06:47:57.781Z"
   },
   {
    "duration": 663,
    "start_time": "2022-03-14T06:48:13.508Z"
   },
   {
    "duration": 8,
    "start_time": "2022-03-14T06:48:14.172Z"
   },
   {
    "duration": 9,
    "start_time": "2022-03-14T06:48:14.182Z"
   },
   {
    "duration": 26,
    "start_time": "2022-03-14T06:48:14.193Z"
   },
   {
    "duration": 6,
    "start_time": "2022-03-14T06:48:14.220Z"
   },
   {
    "duration": 39,
    "start_time": "2022-03-14T06:48:14.227Z"
   },
   {
    "duration": 5,
    "start_time": "2022-03-14T06:48:14.268Z"
   },
   {
    "duration": 6,
    "start_time": "2022-03-14T06:48:14.275Z"
   },
   {
    "duration": 5,
    "start_time": "2022-03-14T06:48:14.283Z"
   },
   {
    "duration": 4,
    "start_time": "2022-03-14T06:48:14.289Z"
   },
   {
    "duration": 10,
    "start_time": "2022-03-14T06:48:14.295Z"
   },
   {
    "duration": 7,
    "start_time": "2022-03-14T06:48:14.306Z"
   },
   {
    "duration": 47,
    "start_time": "2022-03-14T06:48:14.315Z"
   },
   {
    "duration": 6,
    "start_time": "2022-03-14T06:48:14.364Z"
   },
   {
    "duration": 7,
    "start_time": "2022-03-14T06:48:14.372Z"
   },
   {
    "duration": 14,
    "start_time": "2022-03-14T06:48:14.381Z"
   },
   {
    "duration": 9,
    "start_time": "2022-03-14T06:48:14.397Z"
   },
   {
    "duration": 54,
    "start_time": "2022-03-14T06:48:14.408Z"
   },
   {
    "duration": 25,
    "start_time": "2022-03-14T06:48:14.464Z"
   },
   {
    "duration": 38,
    "start_time": "2022-03-14T06:48:14.490Z"
   },
   {
    "duration": 57,
    "start_time": "2022-03-14T06:48:14.530Z"
   },
   {
    "duration": 4,
    "start_time": "2022-03-14T06:48:14.588Z"
   },
   {
    "duration": 27,
    "start_time": "2022-03-14T06:48:14.596Z"
   },
   {
    "duration": 453,
    "start_time": "2022-03-14T06:48:14.624Z"
   },
   {
    "duration": 206,
    "start_time": "2022-03-14T06:48:15.079Z"
   },
   {
    "duration": 442,
    "start_time": "2022-03-14T06:48:15.287Z"
   },
   {
    "duration": 408,
    "start_time": "2022-03-14T06:48:15.731Z"
   },
   {
    "duration": 239,
    "start_time": "2022-03-14T06:48:16.141Z"
   },
   {
    "duration": 779,
    "start_time": "2022-03-14T06:48:16.382Z"
   },
   {
    "duration": 12,
    "start_time": "2022-03-14T06:48:17.163Z"
   },
   {
    "duration": 391,
    "start_time": "2022-03-14T06:48:17.177Z"
   },
   {
    "duration": 451,
    "start_time": "2022-03-14T06:48:17.570Z"
   },
   {
    "duration": 391,
    "start_time": "2022-03-14T06:48:18.023Z"
   },
   {
    "duration": 8,
    "start_time": "2022-03-14T06:48:18.416Z"
   },
   {
    "duration": 483,
    "start_time": "2022-03-14T06:48:18.426Z"
   },
   {
    "duration": 529,
    "start_time": "2022-03-14T06:48:18.911Z"
   },
   {
    "duration": 4,
    "start_time": "2022-03-14T06:48:19.442Z"
   },
   {
    "duration": 248,
    "start_time": "2022-03-14T06:48:19.448Z"
   },
   {
    "duration": 227,
    "start_time": "2022-03-14T06:48:19.698Z"
   },
   {
    "duration": 175,
    "start_time": "2022-03-14T06:48:19.927Z"
   },
   {
    "duration": 674,
    "start_time": "2022-03-14T06:48:20.104Z"
   },
   {
    "duration": 5,
    "start_time": "2022-03-14T06:48:20.780Z"
   },
   {
    "duration": 696,
    "start_time": "2022-03-14T06:48:20.787Z"
   },
   {
    "duration": 9,
    "start_time": "2022-03-14T06:48:21.485Z"
   },
   {
    "duration": 42,
    "start_time": "2022-03-14T06:48:21.496Z"
   },
   {
    "duration": 33,
    "start_time": "2022-03-14T06:48:21.540Z"
   },
   {
    "duration": 3377,
    "start_time": "2022-03-14T06:48:21.575Z"
   },
   {
    "duration": 2821,
    "start_time": "2022-03-14T06:49:55.680Z"
   },
   {
    "duration": 676,
    "start_time": "2022-03-14T06:50:10.724Z"
   },
   {
    "duration": 9,
    "start_time": "2022-03-14T06:50:11.402Z"
   },
   {
    "duration": 11,
    "start_time": "2022-03-14T06:50:11.420Z"
   },
   {
    "duration": 34,
    "start_time": "2022-03-14T06:50:11.433Z"
   },
   {
    "duration": 5,
    "start_time": "2022-03-14T06:50:11.469Z"
   },
   {
    "duration": 14,
    "start_time": "2022-03-14T06:50:11.476Z"
   },
   {
    "duration": 19,
    "start_time": "2022-03-14T06:50:11.491Z"
   },
   {
    "duration": 19,
    "start_time": "2022-03-14T06:50:11.513Z"
   },
   {
    "duration": 13,
    "start_time": "2022-03-14T06:50:11.535Z"
   },
   {
    "duration": 28,
    "start_time": "2022-03-14T06:50:11.549Z"
   },
   {
    "duration": 23,
    "start_time": "2022-03-14T06:50:11.578Z"
   },
   {
    "duration": 41,
    "start_time": "2022-03-14T06:50:11.602Z"
   },
   {
    "duration": 47,
    "start_time": "2022-03-14T06:50:11.645Z"
   },
   {
    "duration": 24,
    "start_time": "2022-03-14T06:50:11.694Z"
   },
   {
    "duration": 21,
    "start_time": "2022-03-14T06:50:11.720Z"
   },
   {
    "duration": 23,
    "start_time": "2022-03-14T06:50:11.743Z"
   },
   {
    "duration": 35,
    "start_time": "2022-03-14T06:50:11.768Z"
   },
   {
    "duration": 20,
    "start_time": "2022-03-14T06:50:11.804Z"
   },
   {
    "duration": 25,
    "start_time": "2022-03-14T06:50:11.826Z"
   },
   {
    "duration": 36,
    "start_time": "2022-03-14T06:50:11.853Z"
   },
   {
    "duration": 31,
    "start_time": "2022-03-14T06:50:11.891Z"
   },
   {
    "duration": 6,
    "start_time": "2022-03-14T06:50:11.924Z"
   },
   {
    "duration": 45,
    "start_time": "2022-03-14T06:50:11.934Z"
   },
   {
    "duration": 451,
    "start_time": "2022-03-14T06:50:11.981Z"
   },
   {
    "duration": 210,
    "start_time": "2022-03-14T06:50:12.434Z"
   },
   {
    "duration": 437,
    "start_time": "2022-03-14T06:50:12.646Z"
   },
   {
    "duration": 394,
    "start_time": "2022-03-14T06:50:13.085Z"
   },
   {
    "duration": 234,
    "start_time": "2022-03-14T06:50:13.480Z"
   },
   {
    "duration": 720,
    "start_time": "2022-03-14T06:50:13.715Z"
   },
   {
    "duration": 23,
    "start_time": "2022-03-14T06:50:14.437Z"
   },
   {
    "duration": 381,
    "start_time": "2022-03-14T06:50:14.462Z"
   },
   {
    "duration": 451,
    "start_time": "2022-03-14T06:50:14.845Z"
   },
   {
    "duration": 389,
    "start_time": "2022-03-14T06:50:15.298Z"
   },
   {
    "duration": 9,
    "start_time": "2022-03-14T06:50:15.688Z"
   },
   {
    "duration": 517,
    "start_time": "2022-03-14T06:50:15.698Z"
   },
   {
    "duration": 515,
    "start_time": "2022-03-14T06:50:16.216Z"
   },
   {
    "duration": 5,
    "start_time": "2022-03-14T06:50:16.733Z"
   },
   {
    "duration": 279,
    "start_time": "2022-03-14T06:50:16.740Z"
   },
   {
    "duration": 242,
    "start_time": "2022-03-14T06:50:17.021Z"
   },
   {
    "duration": 188,
    "start_time": "2022-03-14T06:50:17.265Z"
   },
   {
    "duration": 476,
    "start_time": "2022-03-14T06:50:17.455Z"
   },
   {
    "duration": 12,
    "start_time": "2022-03-14T06:50:17.933Z"
   },
   {
    "duration": 681,
    "start_time": "2022-03-14T06:50:17.947Z"
   },
   {
    "duration": 7,
    "start_time": "2022-03-14T06:50:18.629Z"
   },
   {
    "duration": 53,
    "start_time": "2022-03-14T06:50:18.638Z"
   },
   {
    "duration": 13,
    "start_time": "2022-03-14T06:50:18.693Z"
   },
   {
    "duration": 23,
    "start_time": "2022-03-14T06:50:18.708Z"
   },
   {
    "duration": 32,
    "start_time": "2022-03-14T06:52:21.680Z"
   },
   {
    "duration": 28,
    "start_time": "2022-03-14T06:52:41.299Z"
   },
   {
    "duration": 222,
    "start_time": "2022-03-14T06:53:01.575Z"
   },
   {
    "duration": 503,
    "start_time": "2022-03-14T06:55:07.680Z"
   },
   {
    "duration": 214,
    "start_time": "2022-03-14T06:56:05.085Z"
   },
   {
    "duration": 64,
    "start_time": "2022-03-14T06:56:18.472Z"
   },
   {
    "duration": 64,
    "start_time": "2022-03-14T06:56:39.961Z"
   },
   {
    "duration": 273,
    "start_time": "2022-03-14T06:56:43.909Z"
   },
   {
    "duration": 196,
    "start_time": "2022-03-14T06:56:47.870Z"
   },
   {
    "duration": 201,
    "start_time": "2022-03-14T06:59:05.381Z"
   },
   {
    "duration": 28,
    "start_time": "2022-03-14T07:06:23.403Z"
   },
   {
    "duration": 213,
    "start_time": "2022-03-14T07:19:01.748Z"
   },
   {
    "duration": 21,
    "start_time": "2022-03-14T07:19:10.626Z"
   },
   {
    "duration": 27,
    "start_time": "2022-03-14T07:33:14.696Z"
   },
   {
    "duration": 19,
    "start_time": "2022-03-14T07:35:08.227Z"
   },
   {
    "duration": 256,
    "start_time": "2022-03-14T07:36:07.080Z"
   },
   {
    "duration": 243,
    "start_time": "2022-03-14T07:36:37.204Z"
   },
   {
    "duration": 1144,
    "start_time": "2022-03-14T07:37:23.478Z"
   },
   {
    "duration": 6029,
    "start_time": "2022-03-14T07:38:58.456Z"
   },
   {
    "duration": 670,
    "start_time": "2022-03-14T07:39:17.721Z"
   },
   {
    "duration": 8,
    "start_time": "2022-03-14T07:39:18.393Z"
   },
   {
    "duration": 8,
    "start_time": "2022-03-14T07:39:18.403Z"
   },
   {
    "duration": 26,
    "start_time": "2022-03-14T07:39:18.413Z"
   },
   {
    "duration": 22,
    "start_time": "2022-03-14T07:39:18.441Z"
   },
   {
    "duration": 19,
    "start_time": "2022-03-14T07:39:18.464Z"
   },
   {
    "duration": 5,
    "start_time": "2022-03-14T07:39:18.487Z"
   },
   {
    "duration": 6,
    "start_time": "2022-03-14T07:39:18.494Z"
   },
   {
    "duration": 3,
    "start_time": "2022-03-14T07:39:18.502Z"
   },
   {
    "duration": 4,
    "start_time": "2022-03-14T07:39:18.507Z"
   },
   {
    "duration": 53,
    "start_time": "2022-03-14T07:39:18.513Z"
   },
   {
    "duration": 9,
    "start_time": "2022-03-14T07:39:18.569Z"
   },
   {
    "duration": 6,
    "start_time": "2022-03-14T07:39:18.580Z"
   },
   {
    "duration": 6,
    "start_time": "2022-03-14T07:39:18.588Z"
   },
   {
    "duration": 7,
    "start_time": "2022-03-14T07:39:18.596Z"
   },
   {
    "duration": 56,
    "start_time": "2022-03-14T07:39:18.605Z"
   },
   {
    "duration": 12,
    "start_time": "2022-03-14T07:39:18.663Z"
   },
   {
    "duration": 8,
    "start_time": "2022-03-14T07:39:18.677Z"
   },
   {
    "duration": 25,
    "start_time": "2022-03-14T07:39:18.686Z"
   },
   {
    "duration": 76,
    "start_time": "2022-03-14T07:39:18.713Z"
   },
   {
    "duration": 29,
    "start_time": "2022-03-14T07:39:18.791Z"
   },
   {
    "duration": 3,
    "start_time": "2022-03-14T07:39:18.822Z"
   },
   {
    "duration": 52,
    "start_time": "2022-03-14T07:39:18.829Z"
   },
   {
    "duration": 461,
    "start_time": "2022-03-14T07:39:18.883Z"
   },
   {
    "duration": 234,
    "start_time": "2022-03-14T07:39:19.346Z"
   },
   {
    "duration": 455,
    "start_time": "2022-03-14T07:39:19.582Z"
   },
   {
    "duration": 419,
    "start_time": "2022-03-14T07:39:20.038Z"
   },
   {
    "duration": 262,
    "start_time": "2022-03-14T07:39:20.459Z"
   },
   {
    "duration": 797,
    "start_time": "2022-03-14T07:39:20.723Z"
   },
   {
    "duration": 15,
    "start_time": "2022-03-14T07:39:21.522Z"
   },
   {
    "duration": 423,
    "start_time": "2022-03-14T07:39:21.539Z"
   },
   {
    "duration": 473,
    "start_time": "2022-03-14T07:39:21.965Z"
   },
   {
    "duration": 404,
    "start_time": "2022-03-14T07:39:22.440Z"
   },
   {
    "duration": 20,
    "start_time": "2022-03-14T07:39:22.845Z"
   },
   {
    "duration": 472,
    "start_time": "2022-03-14T07:39:22.868Z"
   },
   {
    "duration": 518,
    "start_time": "2022-03-14T07:39:23.341Z"
   },
   {
    "duration": 7,
    "start_time": "2022-03-14T07:39:23.863Z"
   },
   {
    "duration": 282,
    "start_time": "2022-03-14T07:39:23.873Z"
   },
   {
    "duration": 260,
    "start_time": "2022-03-14T07:39:24.156Z"
   },
   {
    "duration": 202,
    "start_time": "2022-03-14T07:39:24.418Z"
   },
   {
    "duration": 535,
    "start_time": "2022-03-14T07:39:24.622Z"
   },
   {
    "duration": 7,
    "start_time": "2022-03-14T07:39:25.159Z"
   },
   {
    "duration": 730,
    "start_time": "2022-03-14T07:39:25.170Z"
   },
   {
    "duration": 7,
    "start_time": "2022-03-14T07:39:25.902Z"
   },
   {
    "duration": 64,
    "start_time": "2022-03-14T07:39:25.911Z"
   },
   {
    "duration": 15,
    "start_time": "2022-03-14T07:39:25.976Z"
   },
   {
    "duration": 254,
    "start_time": "2022-03-14T07:39:25.993Z"
   },
   {
    "duration": 31,
    "start_time": "2022-03-14T07:39:26.249Z"
   },
   {
    "duration": 6087,
    "start_time": "2022-03-14T07:39:26.281Z"
   },
   {
    "duration": 15,
    "start_time": "2022-03-14T07:40:49.445Z"
   },
   {
    "duration": 16,
    "start_time": "2022-03-14T07:40:56.050Z"
   },
   {
    "duration": 22,
    "start_time": "2022-03-14T07:41:06.625Z"
   },
   {
    "duration": 201,
    "start_time": "2022-03-14T07:44:44.804Z"
   },
   {
    "duration": 233,
    "start_time": "2022-03-14T07:44:54.749Z"
   },
   {
    "duration": 424,
    "start_time": "2022-03-14T07:46:39.848Z"
   },
   {
    "duration": 80,
    "start_time": "2022-03-14T07:54:57.470Z"
   },
   {
    "duration": 83,
    "start_time": "2022-03-14T07:55:06.144Z"
   },
   {
    "duration": 621,
    "start_time": "2022-03-14T07:55:37.994Z"
   },
   {
    "duration": 792,
    "start_time": "2022-03-14T07:56:10.788Z"
   }
  ],
  "kernelspec": {
   "display_name": "Python 3 (ipykernel)",
   "language": "python",
   "name": "python3"
  },
  "language_info": {
   "codemirror_mode": {
    "name": "ipython",
    "version": 3
   },
   "file_extension": ".py",
   "mimetype": "text/x-python",
   "name": "python",
   "nbconvert_exporter": "python",
   "pygments_lexer": "ipython3",
   "version": "3.9.7"
  },
  "toc": {
   "base_numbering": 1,
   "nav_menu": {},
   "number_sections": true,
   "sideBar": true,
   "skip_h1_title": true,
   "title_cell": "Содержание",
   "title_sidebar": "Contents",
   "toc_cell": true,
   "toc_position": {
    "height": "calc(100% - 180px)",
    "left": "10px",
    "top": "150px",
    "width": "267.396px"
   },
   "toc_section_display": true,
   "toc_window_display": true
  }
 },
 "nbformat": 4,
 "nbformat_minor": 4
}
