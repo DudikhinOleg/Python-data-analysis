{
 "cells": [
  {
   "cell_type": "markdown",
   "metadata": {},
   "source": [
    "# Анализ рынка заведений общественного питания Москвы\n",
    "<h1>Цели и задачи</h1>\n",
    "<br>Необходимо проанализировать и визуализировать данные о работе заведений общественного питания в городе Москва. Анализ в различных разрезах необходим для правильного позиционрования нового заведения и понимания перспектив его развития.\n",
    "<br><b>Цель:</b> дать рекомендации о виде заведения, количестве посадочных мест, а также районе расположения. Разработать предположения и предложения о возможности развития сети.\n",
    "<h1>Исходные данные</h1>\n",
    "Файл с основными данными по заведениям общественного питания в г. Москва. В файле собраны данные о названии места, его типе, адресе расположения, количестве посадочных мест, а также о признаке \"сетевое/несетевое\" заведение.\n",
    "<h2>Подготовка данных</h2>"
   ]
  },
  {
   "cell_type": "markdown",
   "metadata": {},
   "source": [
    "Импортируем все необходимые для работы библиотеки:"
   ]
  },
  {
   "cell_type": "code",
   "execution_count": 1,
   "metadata": {},
   "outputs": [],
   "source": [
    "#библиотеки\n",
    "import pandas as pd\n",
    "from datetime import datetime,timedelta as dt\n",
    "import scipy.stats as stats\n",
    "from matplotlib import pyplot as plt\n",
    "import numpy as np\n",
    "import seaborn as sns"
   ]
  },
  {
   "cell_type": "markdown",
   "metadata": {},
   "source": [
    "Откроем датасет, выведем информацию о содержащихся полях и типах данных, а также выведем первые 5 строк датасета на экран:"
   ]
  },
  {
   "cell_type": "code",
   "execution_count": 2,
   "metadata": {
    "scrolled": false
   },
   "outputs": [
    {
     "name": "stdout",
     "output_type": "stream",
     "text": [
      "<class 'pandas.core.frame.DataFrame'>\n",
      "RangeIndex: 15366 entries, 0 to 15365\n",
      "Data columns (total 6 columns):\n",
      " #   Column       Non-Null Count  Dtype \n",
      "---  ------       --------------  ----- \n",
      " 0   id           15366 non-null  int64 \n",
      " 1   object_name  15366 non-null  object\n",
      " 2   chain        15366 non-null  object\n",
      " 3   object_type  15366 non-null  object\n",
      " 4   address      15366 non-null  object\n",
      " 5   number       15366 non-null  int64 \n",
      "dtypes: int64(2), object(4)\n",
      "memory usage: 720.4+ KB\n",
      "None\n"
     ]
    },
    {
     "data": {
      "text/html": [
       "<div>\n",
       "<style scoped>\n",
       "    .dataframe tbody tr th:only-of-type {\n",
       "        vertical-align: middle;\n",
       "    }\n",
       "\n",
       "    .dataframe tbody tr th {\n",
       "        vertical-align: top;\n",
       "    }\n",
       "\n",
       "    .dataframe thead th {\n",
       "        text-align: right;\n",
       "    }\n",
       "</style>\n",
       "<table border=\"1\" class=\"dataframe\">\n",
       "  <thead>\n",
       "    <tr style=\"text-align: right;\">\n",
       "      <th></th>\n",
       "      <th>id</th>\n",
       "      <th>object_name</th>\n",
       "      <th>chain</th>\n",
       "      <th>object_type</th>\n",
       "      <th>address</th>\n",
       "      <th>number</th>\n",
       "    </tr>\n",
       "  </thead>\n",
       "  <tbody>\n",
       "    <tr>\n",
       "      <th>0</th>\n",
       "      <td>151635</td>\n",
       "      <td>СМЕТАНА</td>\n",
       "      <td>нет</td>\n",
       "      <td>кафе</td>\n",
       "      <td>город Москва, улица Егора Абакумова, дом 9</td>\n",
       "      <td>48</td>\n",
       "    </tr>\n",
       "    <tr>\n",
       "      <th>1</th>\n",
       "      <td>77874</td>\n",
       "      <td>Родник</td>\n",
       "      <td>нет</td>\n",
       "      <td>кафе</td>\n",
       "      <td>город Москва, улица Талалихина, дом 2/1, корпус 1</td>\n",
       "      <td>35</td>\n",
       "    </tr>\n",
       "    <tr>\n",
       "      <th>2</th>\n",
       "      <td>24309</td>\n",
       "      <td>Кафе «Академия»</td>\n",
       "      <td>нет</td>\n",
       "      <td>кафе</td>\n",
       "      <td>город Москва, Абельмановская улица, дом 6</td>\n",
       "      <td>95</td>\n",
       "    </tr>\n",
       "    <tr>\n",
       "      <th>3</th>\n",
       "      <td>21894</td>\n",
       "      <td>ПИЦЦЕТОРИЯ</td>\n",
       "      <td>да</td>\n",
       "      <td>кафе</td>\n",
       "      <td>город Москва, Абрамцевская улица, дом 1</td>\n",
       "      <td>40</td>\n",
       "    </tr>\n",
       "    <tr>\n",
       "      <th>4</th>\n",
       "      <td>119365</td>\n",
       "      <td>Кафе «Вишневая метель»</td>\n",
       "      <td>нет</td>\n",
       "      <td>кафе</td>\n",
       "      <td>город Москва, Абрамцевская улица, дом 9, корпус 1</td>\n",
       "      <td>50</td>\n",
       "    </tr>\n",
       "  </tbody>\n",
       "</table>\n",
       "</div>"
      ],
      "text/plain": [
       "       id             object_name chain object_type  \\\n",
       "0  151635                 СМЕТАНА   нет        кафе   \n",
       "1   77874                  Родник   нет        кафе   \n",
       "2   24309         Кафе «Академия»   нет        кафе   \n",
       "3   21894              ПИЦЦЕТОРИЯ    да        кафе   \n",
       "4  119365  Кафе «Вишневая метель»   нет        кафе   \n",
       "\n",
       "                                             address  number  \n",
       "0         город Москва, улица Егора Абакумова, дом 9      48  \n",
       "1  город Москва, улица Талалихина, дом 2/1, корпус 1      35  \n",
       "2          город Москва, Абельмановская улица, дом 6      95  \n",
       "3            город Москва, Абрамцевская улица, дом 1      40  \n",
       "4  город Москва, Абрамцевская улица, дом 9, корпус 1      50  "
      ]
     },
     "metadata": {},
     "output_type": "display_data"
    }
   ],
   "source": [
    "df = pd.read_csv('/datasets/rest_data.csv')\n",
    "print(df.info())\n",
    "display(df.head())"
   ]
  },
  {
   "cell_type": "markdown",
   "metadata": {},
   "source": [
    "<div class=\"alert alert-block alert-success\">✔️\n",
    "    \n",
    "\n",
    "__Комментарий от ревьюера №1__\n",
    "    \n",
    "Отлично! Первый взгляд на данные есть"
   ]
  },
  {
   "cell_type": "markdown",
   "metadata": {},
   "source": [
    "Пропущенные значения отсутсвуют.\n",
    "<br>Явно необходимо изменить тип данных поля \"chain\" на Boolean, а также проверить на наличие явных дубликатов"
   ]
  },
  {
   "cell_type": "code",
   "execution_count": 3,
   "metadata": {},
   "outputs": [
    {
     "name": "stdout",
     "output_type": "stream",
     "text": [
      "Обнаружено явных дубликатов:\n",
      "0\n"
     ]
    }
   ],
   "source": [
    "df.loc[df['chain']==\"нет\",'chain']=0\n",
    "df.loc[df['chain']==\"да\",'chain']=1\n",
    "df['chain'].astype('bool')\n",
    "print('Обнаружено явных дубликатов:')\n",
    "print(df.duplicated().sum())\n",
    "df=df.drop_duplicates().reset_index(drop=True) "
   ]
  },
  {
   "cell_type": "markdown",
   "metadata": {},
   "source": [
    "Так как заведения сами по себе очень разнородные, выведем по 20 строчек с начала и с конца датафрейма для ознакомления"
   ]
  },
  {
   "cell_type": "code",
   "execution_count": 4,
   "metadata": {},
   "outputs": [
    {
     "data": {
      "text/html": [
       "<div>\n",
       "<style scoped>\n",
       "    .dataframe tbody tr th:only-of-type {\n",
       "        vertical-align: middle;\n",
       "    }\n",
       "\n",
       "    .dataframe tbody tr th {\n",
       "        vertical-align: top;\n",
       "    }\n",
       "\n",
       "    .dataframe thead th {\n",
       "        text-align: right;\n",
       "    }\n",
       "</style>\n",
       "<table border=\"1\" class=\"dataframe\">\n",
       "  <thead>\n",
       "    <tr style=\"text-align: right;\">\n",
       "      <th></th>\n",
       "      <th>id</th>\n",
       "      <th>object_name</th>\n",
       "      <th>chain</th>\n",
       "      <th>object_type</th>\n",
       "      <th>address</th>\n",
       "      <th>number</th>\n",
       "    </tr>\n",
       "  </thead>\n",
       "  <tbody>\n",
       "    <tr>\n",
       "      <th>0</th>\n",
       "      <td>151635</td>\n",
       "      <td>СМЕТАНА</td>\n",
       "      <td>0</td>\n",
       "      <td>кафе</td>\n",
       "      <td>город Москва, улица Егора Абакумова, дом 9</td>\n",
       "      <td>48</td>\n",
       "    </tr>\n",
       "    <tr>\n",
       "      <th>1</th>\n",
       "      <td>77874</td>\n",
       "      <td>Родник</td>\n",
       "      <td>0</td>\n",
       "      <td>кафе</td>\n",
       "      <td>город Москва, улица Талалихина, дом 2/1, корпус 1</td>\n",
       "      <td>35</td>\n",
       "    </tr>\n",
       "    <tr>\n",
       "      <th>2</th>\n",
       "      <td>24309</td>\n",
       "      <td>Кафе «Академия»</td>\n",
       "      <td>0</td>\n",
       "      <td>кафе</td>\n",
       "      <td>город Москва, Абельмановская улица, дом 6</td>\n",
       "      <td>95</td>\n",
       "    </tr>\n",
       "    <tr>\n",
       "      <th>3</th>\n",
       "      <td>21894</td>\n",
       "      <td>ПИЦЦЕТОРИЯ</td>\n",
       "      <td>1</td>\n",
       "      <td>кафе</td>\n",
       "      <td>город Москва, Абрамцевская улица, дом 1</td>\n",
       "      <td>40</td>\n",
       "    </tr>\n",
       "    <tr>\n",
       "      <th>4</th>\n",
       "      <td>119365</td>\n",
       "      <td>Кафе «Вишневая метель»</td>\n",
       "      <td>0</td>\n",
       "      <td>кафе</td>\n",
       "      <td>город Москва, Абрамцевская улица, дом 9, корпус 1</td>\n",
       "      <td>50</td>\n",
       "    </tr>\n",
       "    <tr>\n",
       "      <th>5</th>\n",
       "      <td>27429</td>\n",
       "      <td>СТОЛ. ПРИ ГОУ СОШ № 1051</td>\n",
       "      <td>0</td>\n",
       "      <td>столовая</td>\n",
       "      <td>город Москва, Абрамцевская улица, дом 15, корп...</td>\n",
       "      <td>240</td>\n",
       "    </tr>\n",
       "    <tr>\n",
       "      <th>6</th>\n",
       "      <td>148815</td>\n",
       "      <td>Брусника</td>\n",
       "      <td>1</td>\n",
       "      <td>кафе</td>\n",
       "      <td>город Москва, переулок Сивцев Вражек, дом 6/2</td>\n",
       "      <td>10</td>\n",
       "    </tr>\n",
       "    <tr>\n",
       "      <th>7</th>\n",
       "      <td>20957</td>\n",
       "      <td>Буфет МТУСИ</td>\n",
       "      <td>0</td>\n",
       "      <td>столовая</td>\n",
       "      <td>город Москва, Авиамоторная улица, дом 8, строе...</td>\n",
       "      <td>90</td>\n",
       "    </tr>\n",
       "    <tr>\n",
       "      <th>8</th>\n",
       "      <td>20958</td>\n",
       "      <td>КПФ СЕМЬЯ-1</td>\n",
       "      <td>0</td>\n",
       "      <td>столовая</td>\n",
       "      <td>город Москва, Авиамоторная улица, дом 8, строе...</td>\n",
       "      <td>150</td>\n",
       "    </tr>\n",
       "    <tr>\n",
       "      <th>9</th>\n",
       "      <td>28858</td>\n",
       "      <td>Столовая МТУСИ</td>\n",
       "      <td>0</td>\n",
       "      <td>столовая</td>\n",
       "      <td>город Москва, Авиамоторная улица, дом 8, строе...</td>\n",
       "      <td>120</td>\n",
       "    </tr>\n",
       "    <tr>\n",
       "      <th>10</th>\n",
       "      <td>148595</td>\n",
       "      <td>Пекарня 24</td>\n",
       "      <td>0</td>\n",
       "      <td>закусочная</td>\n",
       "      <td>город Москва, Авиамоторная улица, дом 47</td>\n",
       "      <td>5</td>\n",
       "    </tr>\n",
       "    <tr>\n",
       "      <th>11</th>\n",
       "      <td>23394</td>\n",
       "      <td>Гогиели</td>\n",
       "      <td>0</td>\n",
       "      <td>кафе</td>\n",
       "      <td>город Москва, Авиамоторная улица, дом 49/1</td>\n",
       "      <td>24</td>\n",
       "    </tr>\n",
       "    <tr>\n",
       "      <th>12</th>\n",
       "      <td>28582</td>\n",
       "      <td>ШКОЛА 735</td>\n",
       "      <td>0</td>\n",
       "      <td>столовая</td>\n",
       "      <td>город Москва, Авиамоторная улица, дом 51</td>\n",
       "      <td>140</td>\n",
       "    </tr>\n",
       "    <tr>\n",
       "      <th>13</th>\n",
       "      <td>22579</td>\n",
       "      <td>Алло Пицца</td>\n",
       "      <td>1</td>\n",
       "      <td>кафе</td>\n",
       "      <td>город Москва, улица Авиаторов, дом 14</td>\n",
       "      <td>32</td>\n",
       "    </tr>\n",
       "    <tr>\n",
       "      <th>14</th>\n",
       "      <td>23670</td>\n",
       "      <td>Гимназия 1542</td>\n",
       "      <td>0</td>\n",
       "      <td>столовая</td>\n",
       "      <td>город Москва, улица Авиаторов, дом 16</td>\n",
       "      <td>270</td>\n",
       "    </tr>\n",
       "    <tr>\n",
       "      <th>15</th>\n",
       "      <td>23663</td>\n",
       "      <td>Школа 1011</td>\n",
       "      <td>0</td>\n",
       "      <td>столовая</td>\n",
       "      <td>город Москва, улица Авиаторов, дом 18</td>\n",
       "      <td>320</td>\n",
       "    </tr>\n",
       "    <tr>\n",
       "      <th>16</th>\n",
       "      <td>144107</td>\n",
       "      <td>Суши Wok</td>\n",
       "      <td>1</td>\n",
       "      <td>предприятие быстрого обслуживания</td>\n",
       "      <td>город Москва, Азовская улица, дом 3</td>\n",
       "      <td>7</td>\n",
       "    </tr>\n",
       "    <tr>\n",
       "      <th>17</th>\n",
       "      <td>154654</td>\n",
       "      <td>Донер Кебаб</td>\n",
       "      <td>0</td>\n",
       "      <td>предприятие быстрого обслуживания</td>\n",
       "      <td>город Москва, Азовская улица, дом 4</td>\n",
       "      <td>2</td>\n",
       "    </tr>\n",
       "    <tr>\n",
       "      <th>18</th>\n",
       "      <td>58565</td>\n",
       "      <td>Тануки</td>\n",
       "      <td>1</td>\n",
       "      <td>ресторан</td>\n",
       "      <td>город Москва, Большая Академическая улица, дом 65</td>\n",
       "      <td>160</td>\n",
       "    </tr>\n",
       "    <tr>\n",
       "      <th>19</th>\n",
       "      <td>153644</td>\n",
       "      <td>Американская Лаборатория Десертов</td>\n",
       "      <td>0</td>\n",
       "      <td>кафе</td>\n",
       "      <td>город Москва, Филипповский переулок, дом 15/5</td>\n",
       "      <td>20</td>\n",
       "    </tr>\n",
       "  </tbody>\n",
       "</table>\n",
       "</div>"
      ],
      "text/plain": [
       "        id                        object_name chain  \\\n",
       "0   151635                            СМЕТАНА     0   \n",
       "1    77874                             Родник     0   \n",
       "2    24309                    Кафе «Академия»     0   \n",
       "3    21894                         ПИЦЦЕТОРИЯ     1   \n",
       "4   119365             Кафе «Вишневая метель»     0   \n",
       "5    27429           СТОЛ. ПРИ ГОУ СОШ № 1051     0   \n",
       "6   148815                           Брусника     1   \n",
       "7    20957                        Буфет МТУСИ     0   \n",
       "8    20958                        КПФ СЕМЬЯ-1     0   \n",
       "9    28858                     Столовая МТУСИ     0   \n",
       "10  148595                         Пекарня 24     0   \n",
       "11   23394                            Гогиели     0   \n",
       "12   28582                          ШКОЛА 735     0   \n",
       "13   22579                         Алло Пицца     1   \n",
       "14   23670                      Гимназия 1542     0   \n",
       "15   23663                         Школа 1011     0   \n",
       "16  144107                           Суши Wok     1   \n",
       "17  154654                        Донер Кебаб     0   \n",
       "18   58565                             Тануки     1   \n",
       "19  153644  Американская Лаборатория Десертов     0   \n",
       "\n",
       "                          object_type  \\\n",
       "0                                кафе   \n",
       "1                                кафе   \n",
       "2                                кафе   \n",
       "3                                кафе   \n",
       "4                                кафе   \n",
       "5                            столовая   \n",
       "6                                кафе   \n",
       "7                            столовая   \n",
       "8                            столовая   \n",
       "9                            столовая   \n",
       "10                         закусочная   \n",
       "11                               кафе   \n",
       "12                           столовая   \n",
       "13                               кафе   \n",
       "14                           столовая   \n",
       "15                           столовая   \n",
       "16  предприятие быстрого обслуживания   \n",
       "17  предприятие быстрого обслуживания   \n",
       "18                           ресторан   \n",
       "19                               кафе   \n",
       "\n",
       "                                              address  number  \n",
       "0          город Москва, улица Егора Абакумова, дом 9      48  \n",
       "1   город Москва, улица Талалихина, дом 2/1, корпус 1      35  \n",
       "2           город Москва, Абельмановская улица, дом 6      95  \n",
       "3             город Москва, Абрамцевская улица, дом 1      40  \n",
       "4   город Москва, Абрамцевская улица, дом 9, корпус 1      50  \n",
       "5   город Москва, Абрамцевская улица, дом 15, корп...     240  \n",
       "6       город Москва, переулок Сивцев Вражек, дом 6/2      10  \n",
       "7   город Москва, Авиамоторная улица, дом 8, строе...      90  \n",
       "8   город Москва, Авиамоторная улица, дом 8, строе...     150  \n",
       "9   город Москва, Авиамоторная улица, дом 8, строе...     120  \n",
       "10           город Москва, Авиамоторная улица, дом 47       5  \n",
       "11         город Москва, Авиамоторная улица, дом 49/1      24  \n",
       "12           город Москва, Авиамоторная улица, дом 51     140  \n",
       "13              город Москва, улица Авиаторов, дом 14      32  \n",
       "14              город Москва, улица Авиаторов, дом 16     270  \n",
       "15              город Москва, улица Авиаторов, дом 18     320  \n",
       "16                город Москва, Азовская улица, дом 3       7  \n",
       "17                город Москва, Азовская улица, дом 4       2  \n",
       "18  город Москва, Большая Академическая улица, дом 65     160  \n",
       "19      город Москва, Филипповский переулок, дом 15/5      20  "
      ]
     },
     "metadata": {},
     "output_type": "display_data"
    },
    {
     "data": {
      "text/html": [
       "<div>\n",
       "<style scoped>\n",
       "    .dataframe tbody tr th:only-of-type {\n",
       "        vertical-align: middle;\n",
       "    }\n",
       "\n",
       "    .dataframe tbody tr th {\n",
       "        vertical-align: top;\n",
       "    }\n",
       "\n",
       "    .dataframe thead th {\n",
       "        text-align: right;\n",
       "    }\n",
       "</style>\n",
       "<table border=\"1\" class=\"dataframe\">\n",
       "  <thead>\n",
       "    <tr style=\"text-align: right;\">\n",
       "      <th></th>\n",
       "      <th>id</th>\n",
       "      <th>object_name</th>\n",
       "      <th>chain</th>\n",
       "      <th>object_type</th>\n",
       "      <th>address</th>\n",
       "      <th>number</th>\n",
       "    </tr>\n",
       "  </thead>\n",
       "  <tbody>\n",
       "    <tr>\n",
       "      <th>15346</th>\n",
       "      <td>208599</td>\n",
       "      <td>Мята Lounge</td>\n",
       "      <td>1</td>\n",
       "      <td>кафе</td>\n",
       "      <td>город Москва, Куликовская улица, дом 1А</td>\n",
       "      <td>30</td>\n",
       "    </tr>\n",
       "    <tr>\n",
       "      <th>15347</th>\n",
       "      <td>222491</td>\n",
       "      <td>Кальянная «Мята Lounge»</td>\n",
       "      <td>1</td>\n",
       "      <td>кафе</td>\n",
       "      <td>город Москва, Профсоюзная улица, дом 142, корп...</td>\n",
       "      <td>40</td>\n",
       "    </tr>\n",
       "    <tr>\n",
       "      <th>15348</th>\n",
       "      <td>212216</td>\n",
       "      <td>Мята Lounge</td>\n",
       "      <td>1</td>\n",
       "      <td>кафе</td>\n",
       "      <td>город Москва, Привольная улица, дом 11</td>\n",
       "      <td>56</td>\n",
       "    </tr>\n",
       "    <tr>\n",
       "      <th>15349</th>\n",
       "      <td>206341</td>\n",
       "      <td>Мята Lounge</td>\n",
       "      <td>1</td>\n",
       "      <td>кафе</td>\n",
       "      <td>город Москва, Салтыковская улица, дом 7Г</td>\n",
       "      <td>100</td>\n",
       "    </tr>\n",
       "    <tr>\n",
       "      <th>15350</th>\n",
       "      <td>213061</td>\n",
       "      <td>Мята</td>\n",
       "      <td>1</td>\n",
       "      <td>кафетерий</td>\n",
       "      <td>город Москва, Каширское шоссе, дом 96, корпус 1</td>\n",
       "      <td>35</td>\n",
       "    </tr>\n",
       "    <tr>\n",
       "      <th>15351</th>\n",
       "      <td>223036</td>\n",
       "      <td>Якитория</td>\n",
       "      <td>1</td>\n",
       "      <td>ресторан</td>\n",
       "      <td>город Москва, Авиационная улица, дом 66</td>\n",
       "      <td>92</td>\n",
       "    </tr>\n",
       "    <tr>\n",
       "      <th>15352</th>\n",
       "      <td>213602</td>\n",
       "      <td>Тануки</td>\n",
       "      <td>1</td>\n",
       "      <td>кафе</td>\n",
       "      <td>город Москва, Привольная улица, дом 65/32</td>\n",
       "      <td>50</td>\n",
       "    </tr>\n",
       "    <tr>\n",
       "      <th>15353</th>\n",
       "      <td>213772</td>\n",
       "      <td>Тануки</td>\n",
       "      <td>1</td>\n",
       "      <td>ресторан</td>\n",
       "      <td>город Москва, Осенний бульвар, дом 9</td>\n",
       "      <td>98</td>\n",
       "    </tr>\n",
       "    <tr>\n",
       "      <th>15354</th>\n",
       "      <td>210400</td>\n",
       "      <td>Шоколадница</td>\n",
       "      <td>1</td>\n",
       "      <td>кафе</td>\n",
       "      <td>город Москва, Театральный проезд, дом 5, строе...</td>\n",
       "      <td>45</td>\n",
       "    </tr>\n",
       "    <tr>\n",
       "      <th>15355</th>\n",
       "      <td>74972</td>\n",
       "      <td>Шоколадница</td>\n",
       "      <td>1</td>\n",
       "      <td>кафе</td>\n",
       "      <td>город Москва, улица Новый Арбат, дом 13</td>\n",
       "      <td>30</td>\n",
       "    </tr>\n",
       "    <tr>\n",
       "      <th>15356</th>\n",
       "      <td>220618</td>\n",
       "      <td>Шоколадница</td>\n",
       "      <td>1</td>\n",
       "      <td>кафе</td>\n",
       "      <td>город Москва, Митинская улица, дом 36, корпус 1</td>\n",
       "      <td>100</td>\n",
       "    </tr>\n",
       "    <tr>\n",
       "      <th>15357</th>\n",
       "      <td>218692</td>\n",
       "      <td>Шоколадница</td>\n",
       "      <td>1</td>\n",
       "      <td>кафе</td>\n",
       "      <td>город Москва, площадь Джавахарлала Неру, дом 1</td>\n",
       "      <td>30</td>\n",
       "    </tr>\n",
       "    <tr>\n",
       "      <th>15358</th>\n",
       "      <td>213724</td>\n",
       "      <td>Шоколадница</td>\n",
       "      <td>1</td>\n",
       "      <td>кафе</td>\n",
       "      <td>город Москва, Варшавское шоссе, дом 87Б</td>\n",
       "      <td>54</td>\n",
       "    </tr>\n",
       "    <tr>\n",
       "      <th>15359</th>\n",
       "      <td>222077</td>\n",
       "      <td>Кофейня «Шоколадница»</td>\n",
       "      <td>1</td>\n",
       "      <td>кафе</td>\n",
       "      <td>город Москва, Кантемировская улица, дом 47</td>\n",
       "      <td>72</td>\n",
       "    </tr>\n",
       "    <tr>\n",
       "      <th>15360</th>\n",
       "      <td>219759</td>\n",
       "      <td>Шоколадница</td>\n",
       "      <td>1</td>\n",
       "      <td>кафе</td>\n",
       "      <td>город Москва, улица Вавилова, дом 3</td>\n",
       "      <td>36</td>\n",
       "    </tr>\n",
       "    <tr>\n",
       "      <th>15361</th>\n",
       "      <td>208537</td>\n",
       "      <td>Шоколадница</td>\n",
       "      <td>1</td>\n",
       "      <td>кафе</td>\n",
       "      <td>город Москва, 3-й Крутицкий переулок, дом 18</td>\n",
       "      <td>50</td>\n",
       "    </tr>\n",
       "    <tr>\n",
       "      <th>15362</th>\n",
       "      <td>209264</td>\n",
       "      <td>Шоколадница</td>\n",
       "      <td>1</td>\n",
       "      <td>кафе</td>\n",
       "      <td>город Москва, улица Земляной Вал, дом 33</td>\n",
       "      <td>10</td>\n",
       "    </tr>\n",
       "    <tr>\n",
       "      <th>15363</th>\n",
       "      <td>209186</td>\n",
       "      <td>Шоколадница</td>\n",
       "      <td>1</td>\n",
       "      <td>кафе</td>\n",
       "      <td>город Москва, улица Земляной Вал, дом 33</td>\n",
       "      <td>20</td>\n",
       "    </tr>\n",
       "    <tr>\n",
       "      <th>15364</th>\n",
       "      <td>221900</td>\n",
       "      <td>Шоколадница</td>\n",
       "      <td>1</td>\n",
       "      <td>кафе</td>\n",
       "      <td>город Москва, поселение Московский, Киевское ш...</td>\n",
       "      <td>36</td>\n",
       "    </tr>\n",
       "    <tr>\n",
       "      <th>15365</th>\n",
       "      <td>222535</td>\n",
       "      <td>Шоколадница</td>\n",
       "      <td>1</td>\n",
       "      <td>кафе</td>\n",
       "      <td>город Москва, Ходынский бульвар, дом 4</td>\n",
       "      <td>10</td>\n",
       "    </tr>\n",
       "  </tbody>\n",
       "</table>\n",
       "</div>"
      ],
      "text/plain": [
       "           id              object_name chain object_type  \\\n",
       "15346  208599              Мята Lounge     1        кафе   \n",
       "15347  222491  Кальянная «Мята Lounge»     1        кафе   \n",
       "15348  212216              Мята Lounge     1        кафе   \n",
       "15349  206341              Мята Lounge     1        кафе   \n",
       "15350  213061                     Мята     1   кафетерий   \n",
       "15351  223036                 Якитория     1    ресторан   \n",
       "15352  213602                   Тануки     1        кафе   \n",
       "15353  213772                   Тануки     1    ресторан   \n",
       "15354  210400              Шоколадница     1        кафе   \n",
       "15355   74972              Шоколадница     1        кафе   \n",
       "15356  220618              Шоколадница     1        кафе   \n",
       "15357  218692              Шоколадница     1        кафе   \n",
       "15358  213724              Шоколадница     1        кафе   \n",
       "15359  222077    Кофейня «Шоколадница»     1        кафе   \n",
       "15360  219759              Шоколадница     1        кафе   \n",
       "15361  208537              Шоколадница     1        кафе   \n",
       "15362  209264              Шоколадница     1        кафе   \n",
       "15363  209186              Шоколадница     1        кафе   \n",
       "15364  221900              Шоколадница     1        кафе   \n",
       "15365  222535              Шоколадница     1        кафе   \n",
       "\n",
       "                                                 address  number  \n",
       "15346            город Москва, Куликовская улица, дом 1А      30  \n",
       "15347  город Москва, Профсоюзная улица, дом 142, корп...      40  \n",
       "15348             город Москва, Привольная улица, дом 11      56  \n",
       "15349           город Москва, Салтыковская улица, дом 7Г     100  \n",
       "15350    город Москва, Каширское шоссе, дом 96, корпус 1      35  \n",
       "15351            город Москва, Авиационная улица, дом 66      92  \n",
       "15352          город Москва, Привольная улица, дом 65/32      50  \n",
       "15353               город Москва, Осенний бульвар, дом 9      98  \n",
       "15354  город Москва, Театральный проезд, дом 5, строе...      45  \n",
       "15355            город Москва, улица Новый Арбат, дом 13      30  \n",
       "15356    город Москва, Митинская улица, дом 36, корпус 1     100  \n",
       "15357     город Москва, площадь Джавахарлала Неру, дом 1      30  \n",
       "15358            город Москва, Варшавское шоссе, дом 87Б      54  \n",
       "15359         город Москва, Кантемировская улица, дом 47      72  \n",
       "15360                город Москва, улица Вавилова, дом 3      36  \n",
       "15361       город Москва, 3-й Крутицкий переулок, дом 18      50  \n",
       "15362           город Москва, улица Земляной Вал, дом 33      10  \n",
       "15363           город Москва, улица Земляной Вал, дом 33      20  \n",
       "15364  город Москва, поселение Московский, Киевское ш...      36  \n",
       "15365             город Москва, Ходынский бульвар, дом 4      10  "
      ]
     },
     "metadata": {},
     "output_type": "display_data"
    }
   ],
   "source": [
    "display(df.head(20))\n",
    "display(df.tail(20))"
   ]
  },
  {
   "cell_type": "markdown",
   "metadata": {},
   "source": [
    "Проверим названия кафе на наличие неявных дубликатов.\n",
    "<br>Приведем столбец с названиями к нижнему регистру и проверим на наличие неявных дубликатов"
   ]
  },
  {
   "cell_type": "code",
   "execution_count": 5,
   "metadata": {},
   "outputs": [
    {
     "name": "stdout",
     "output_type": "stream",
     "text": [
      "Обнаружено неявных дубликатов с учетом регистра:\n",
      "0\n"
     ]
    }
   ],
   "source": [
    "df['object_name']=df['object_name'].str.lower()\n",
    "print('Обнаружено неявных дубликатов с учетом регистра:')\n",
    "print(df.duplicated().sum())\n",
    "df=df.drop_duplicates().reset_index(drop=True) "
   ]
  },
  {
   "cell_type": "markdown",
   "metadata": {},
   "source": [
    "Углубим проверку на неявные дубликаты: Создадим новый датафрейм, удалим столбец id приведем названия адреса к нижнему регистру и проверим:"
   ]
  },
  {
   "cell_type": "code",
   "execution_count": 6,
   "metadata": {},
   "outputs": [
    {
     "data": {
      "text/html": [
       "<div>\n",
       "<style scoped>\n",
       "    .dataframe tbody tr th:only-of-type {\n",
       "        vertical-align: middle;\n",
       "    }\n",
       "\n",
       "    .dataframe tbody tr th {\n",
       "        vertical-align: top;\n",
       "    }\n",
       "\n",
       "    .dataframe thead th {\n",
       "        text-align: right;\n",
       "    }\n",
       "</style>\n",
       "<table border=\"1\" class=\"dataframe\">\n",
       "  <thead>\n",
       "    <tr style=\"text-align: right;\">\n",
       "      <th></th>\n",
       "      <th>object_name</th>\n",
       "      <th>chain</th>\n",
       "      <th>object_type</th>\n",
       "      <th>address</th>\n",
       "      <th>number</th>\n",
       "    </tr>\n",
       "  </thead>\n",
       "  <tbody>\n",
       "    <tr>\n",
       "      <th>0</th>\n",
       "      <td>сметана</td>\n",
       "      <td>0</td>\n",
       "      <td>кафе</td>\n",
       "      <td>город москва, улица егора абакумова, дом 9</td>\n",
       "      <td>48</td>\n",
       "    </tr>\n",
       "    <tr>\n",
       "      <th>1</th>\n",
       "      <td>родник</td>\n",
       "      <td>0</td>\n",
       "      <td>кафе</td>\n",
       "      <td>город москва, улица талалихина, дом 2/1, корпус 1</td>\n",
       "      <td>35</td>\n",
       "    </tr>\n",
       "    <tr>\n",
       "      <th>2</th>\n",
       "      <td>кафе «академия»</td>\n",
       "      <td>0</td>\n",
       "      <td>кафе</td>\n",
       "      <td>город москва, абельмановская улица, дом 6</td>\n",
       "      <td>95</td>\n",
       "    </tr>\n",
       "    <tr>\n",
       "      <th>3</th>\n",
       "      <td>пиццетория</td>\n",
       "      <td>1</td>\n",
       "      <td>кафе</td>\n",
       "      <td>город москва, абрамцевская улица, дом 1</td>\n",
       "      <td>40</td>\n",
       "    </tr>\n",
       "    <tr>\n",
       "      <th>4</th>\n",
       "      <td>кафе «вишневая метель»</td>\n",
       "      <td>0</td>\n",
       "      <td>кафе</td>\n",
       "      <td>город москва, абрамцевская улица, дом 9, корпус 1</td>\n",
       "      <td>50</td>\n",
       "    </tr>\n",
       "  </tbody>\n",
       "</table>\n",
       "</div>"
      ],
      "text/plain": [
       "              object_name chain object_type  \\\n",
       "0                 сметана     0        кафе   \n",
       "1                  родник     0        кафе   \n",
       "2         кафе «академия»     0        кафе   \n",
       "3              пиццетория     1        кафе   \n",
       "4  кафе «вишневая метель»     0        кафе   \n",
       "\n",
       "                                             address  number  \n",
       "0         город москва, улица егора абакумова, дом 9      48  \n",
       "1  город москва, улица талалихина, дом 2/1, корпус 1      35  \n",
       "2          город москва, абельмановская улица, дом 6      95  \n",
       "3            город москва, абрамцевская улица, дом 1      40  \n",
       "4  город москва, абрамцевская улица, дом 9, корпус 1      50  "
      ]
     },
     "metadata": {},
     "output_type": "display_data"
    },
    {
     "name": "stdout",
     "output_type": "stream",
     "text": [
      "Обнаружено неявных дубликатов :\n",
      "85\n"
     ]
    }
   ],
   "source": [
    "df['address']=df['address'].str.lower()\n",
    "df=df.drop(columns = ['id'],axis = 1)\n",
    "display(df.head())\n",
    "print('Обнаружено неявных дубликатов :')\n",
    "print(df.duplicated().sum())\n",
    "df=df.drop_duplicates().reset_index(drop=True) "
   ]
  },
  {
   "cell_type": "markdown",
   "metadata": {},
   "source": [
    "Тут уже дубликаты были обнаружены и удалены.\n",
    "\n",
    "<br>Для дальнейшей группировки проверим возможные написания названий заведений и количесвто уникальных названий:"
   ]
  },
  {
   "cell_type": "code",
   "execution_count": 7,
   "metadata": {},
   "outputs": [
    {
     "name": "stdout",
     "output_type": "stream",
     "text": [
      "['сметана' 'родник' 'кафе «академия»' ... 'бар мята lounge'\n",
      " 'мята lounge октябрьская' 'кальянная «мята lounge»']\n",
      "Униклаьных названий: 9924\n"
     ]
    }
   ],
   "source": [
    "print(df['object_name'].unique())\n",
    "#можно вывести весь перечень через .sum() но так еще непонятнее\n",
    "print('Униклаьных названий:', df['object_name'].nunique())"
   ]
  },
  {
   "cell_type": "markdown",
   "metadata": {},
   "source": [
    "Очевидно, что уникальных данных по названию слишком много и такая группировка будет затруднительной. Попробуем выделить по типу объекта"
   ]
  },
  {
   "cell_type": "code",
   "execution_count": 8,
   "metadata": {},
   "outputs": [
    {
     "data": {
      "text/plain": [
       "array(['кафе', 'столовая', 'закусочная',\n",
       "       'предприятие быстрого обслуживания', 'ресторан', 'кафетерий',\n",
       "       'буфет', 'бар', 'магазин (отдел кулинарии)'], dtype=object)"
      ]
     },
     "execution_count": 8,
     "metadata": {},
     "output_type": "execute_result"
    }
   ],
   "source": [
    "df['object_type'].unique()"
   ]
  },
  {
   "cell_type": "markdown",
   "metadata": {},
   "source": [
    "Типов объектов немного. Такая группировка будет достаточна и удобна для решения дальнейших задач.\n",
    "\n",
    "<br><h2>Анализ данных</h2>\n",
    "<br><h3>Соотношение видов объектов общественного питания по количеству</h3>\n",
    "Построим график соотношения видов объектов общественного питания по количеству"
   ]
  },
  {
   "cell_type": "code",
   "execution_count": 9,
   "metadata": {},
   "outputs": [
    {
     "data": {
      "image/png": "[encoded data removed]",
      "text/plain": [
       "<Figure size 864x216 with 1 Axes>"
      ]
     },
     "metadata": {
      "needs_background": "light"
     },
     "output_type": "display_data"
    }
   ],
   "source": [
    "num_by_type = df.pivot_table(index='object_type',values='object_name',aggfunc='count').reset_index().sort_values(by='object_name',ascending = False)\n",
    "plt.figure(\n",
    "    figsize=(12, 3)\n",
    ") \n",
    "sns.barplot(x='object_type',y='object_name',data=num_by_type)\n",
    "\n",
    "plt.title('Количество заведений по типу')\n",
    "plt.ylabel('Количество заведений')\n",
    "plt.xlabel('Типы заведений')\n",
    "plt.xticks(rotation=90)\n",
    "\n",
    "plt.show()"
   ]
  },
  {
   "cell_type": "markdown",
   "metadata": {},
   "source": [
    "Наибольшее число заведений (свыше 6000) имеют кафе, далее с большим отрывом идут столовые (около 3000), рестораны (2500) и предприятия быстрого обслуживания (чуть более 2000 заведений).\n",
    "<br>Это позволяет сделать вывод, что если мы позиционируем наше заведение как \"кафе\", то оно попадает в жестко конкурентную среу и должно выгодно выделяться среди остальных как новизной предложения (обслуживают роботы - это хороший дифференциатор на старте), так и конкруентными ценами и качеством обслуживания. А эти показатели надо поддеживать на дистанции."
   ]
  },
  {
   "cell_type": "markdown",
   "metadata": {},
   "source": [
    "<br><h3>Соотношение сетевых и несетевых заведений по количеству</h3>\n",
    "Построим график соотношения сетевых и несетевых заведений по количеству"
   ]
  },
  {
   "cell_type": "markdown",
   "metadata": {},
   "source": [
    "Определим среди всех заведений долю сетевых и несетевых"
   ]
  },
  {
   "cell_type": "code",
   "execution_count": 10,
   "metadata": {
    "scrolled": false
   },
   "outputs": [
    {
     "data": {
      "image/png": "[encoded data removed]",
      "text/plain": [
       "<Figure size 360x360 with 1 Axes>"
      ]
     },
     "metadata": {},
     "output_type": "display_data"
    },
    {
     "data": {
      "text/html": [
       "<div>\n",
       "<style scoped>\n",
       "    .dataframe tbody tr th:only-of-type {\n",
       "        vertical-align: middle;\n",
       "    }\n",
       "\n",
       "    .dataframe tbody tr th {\n",
       "        vertical-align: top;\n",
       "    }\n",
       "\n",
       "    .dataframe thead th {\n",
       "        text-align: right;\n",
       "    }\n",
       "</style>\n",
       "<table border=\"1\" class=\"dataframe\">\n",
       "  <thead>\n",
       "    <tr style=\"text-align: right;\">\n",
       "      <th></th>\n",
       "      <th>Сетевое - да/нет</th>\n",
       "      <th>Количество объектов</th>\n",
       "      <th>Доля</th>\n",
       "    </tr>\n",
       "  </thead>\n",
       "  <tbody>\n",
       "    <tr>\n",
       "      <th>0</th>\n",
       "      <td>0</td>\n",
       "      <td>12317</td>\n",
       "      <td>0.806034</td>\n",
       "    </tr>\n",
       "    <tr>\n",
       "      <th>1</th>\n",
       "      <td>1</td>\n",
       "      <td>2964</td>\n",
       "      <td>0.193966</td>\n",
       "    </tr>\n",
       "  </tbody>\n",
       "</table>\n",
       "</div>"
      ],
      "text/plain": [
       "   Сетевое - да/нет  Количество объектов      Доля\n",
       "0                 0                12317  0.806034\n",
       "1                 1                 2964  0.193966"
      ]
     },
     "metadata": {},
     "output_type": "display_data"
    }
   ],
   "source": [
    "shares=df.pivot_table(index='chain',values='object_name',aggfunc='count').reset_index()\n",
    "shares.plot.pie(y='object_name', figsize=(5, 5))\n",
    "plt.ylabel('Соотношение сетевых и несетевых заведений')\n",
    "plt.show()\n",
    "shares = shares.rename(columns={\"chain\":\"Сетевое - да/нет\",\"object_name\":\"Количество объектов\" })\n",
    "shares['Доля']=shares['Количество объектов']/shares['Количество объектов'].sum()\n",
    "display(shares)"
   ]
  },
  {
   "cell_type": "markdown",
   "metadata": {},
   "source": [
    "В целом по заведениям преобладают (порядка 80%) несетевые.\n",
    "<br>Теперь определим долю сетевых заведений внутри каждого типа:"
   ]
  },
  {
   "cell_type": "code",
   "execution_count": 11,
   "metadata": {},
   "outputs": [
    {
     "data": {
      "text/html": [
       "<div>\n",
       "<style scoped>\n",
       "    .dataframe tbody tr th:only-of-type {\n",
       "        vertical-align: middle;\n",
       "    }\n",
       "\n",
       "    .dataframe tbody tr th {\n",
       "        vertical-align: top;\n",
       "    }\n",
       "\n",
       "    .dataframe thead th {\n",
       "        text-align: right;\n",
       "    }\n",
       "</style>\n",
       "<table border=\"1\" class=\"dataframe\">\n",
       "  <thead>\n",
       "    <tr style=\"text-align: right;\">\n",
       "      <th></th>\n",
       "      <th>object_type</th>\n",
       "      <th>object_name</th>\n",
       "      <th>chain</th>\n",
       "      <th>chain_share</th>\n",
       "    </tr>\n",
       "  </thead>\n",
       "  <tbody>\n",
       "    <tr>\n",
       "      <th>3</th>\n",
       "      <td>предприятие быстрого обслуживания</td>\n",
       "      <td>1897</td>\n",
       "      <td>788</td>\n",
       "      <td>0.415393</td>\n",
       "    </tr>\n",
       "    <tr>\n",
       "      <th>8</th>\n",
       "      <td>магазин (отдел кулинарии)</td>\n",
       "      <td>273</td>\n",
       "      <td>78</td>\n",
       "      <td>0.285714</td>\n",
       "    </tr>\n",
       "    <tr>\n",
       "      <th>2</th>\n",
       "      <td>ресторан</td>\n",
       "      <td>2282</td>\n",
       "      <td>543</td>\n",
       "      <td>0.237949</td>\n",
       "    </tr>\n",
       "    <tr>\n",
       "      <th>0</th>\n",
       "      <td>кафе</td>\n",
       "      <td>6071</td>\n",
       "      <td>1396</td>\n",
       "      <td>0.229946</td>\n",
       "    </tr>\n",
       "    <tr>\n",
       "      <th>7</th>\n",
       "      <td>закусочная</td>\n",
       "      <td>348</td>\n",
       "      <td>56</td>\n",
       "      <td>0.160920</td>\n",
       "    </tr>\n",
       "    <tr>\n",
       "      <th>6</th>\n",
       "      <td>кафетерий</td>\n",
       "      <td>395</td>\n",
       "      <td>52</td>\n",
       "      <td>0.131646</td>\n",
       "    </tr>\n",
       "    <tr>\n",
       "      <th>4</th>\n",
       "      <td>бар</td>\n",
       "      <td>855</td>\n",
       "      <td>37</td>\n",
       "      <td>0.043275</td>\n",
       "    </tr>\n",
       "    <tr>\n",
       "      <th>5</th>\n",
       "      <td>буфет</td>\n",
       "      <td>576</td>\n",
       "      <td>11</td>\n",
       "      <td>0.019097</td>\n",
       "    </tr>\n",
       "    <tr>\n",
       "      <th>1</th>\n",
       "      <td>столовая</td>\n",
       "      <td>2584</td>\n",
       "      <td>3</td>\n",
       "      <td>0.001161</td>\n",
       "    </tr>\n",
       "  </tbody>\n",
       "</table>\n",
       "</div>"
      ],
      "text/plain": [
       "                         object_type  object_name  chain  chain_share\n",
       "3  предприятие быстрого обслуживания         1897    788     0.415393\n",
       "8          магазин (отдел кулинарии)          273     78     0.285714\n",
       "2                           ресторан         2282    543     0.237949\n",
       "0                               кафе         6071   1396     0.229946\n",
       "7                         закусочная          348     56     0.160920\n",
       "6                          кафетерий          395     52     0.131646\n",
       "4                                бар          855     37     0.043275\n",
       "5                              буфет          576     11     0.019097\n",
       "1                           столовая         2584      3     0.001161"
      ]
     },
     "metadata": {},
     "output_type": "display_data"
    },
    {
     "data": {
      "image/png": "[encoded data removed]",
      "text/plain": [
       "<Figure size 864x216 with 1 Axes>"
      ]
     },
     "metadata": {
      "needs_background": "light"
     },
     "output_type": "display_data"
    }
   ],
   "source": [
    "chain_by_type = df.pivot_table(index='object_type',values='chain',aggfunc='sum').reset_index()\n",
    "num_by_type=num_by_type.merge(chain_by_type,on='object_type',how='left')\n",
    "num_by_type['chain_share']=num_by_type['chain']/num_by_type['object_name']\n",
    "num_by_type=num_by_type.sort_values(by='chain_share', ascending=False)\n",
    "display(num_by_type)\n",
    "plt.figure(\n",
    "    figsize=(12, 3)\n",
    ") \n",
    "sns.barplot(x='object_type',y='chain_share',data=num_by_type)\n",
    "\n",
    "plt.title('Доля сетевых заведений')\n",
    "plt.ylabel('Доля заведений')\n",
    "plt.xlabel('Типы заведений')\n",
    "plt.xticks(rotation=90)\n",
    "plt.show()"
   ]
  },
  {
   "cell_type": "markdown",
   "metadata": {},
   "source": [
    "Сетевые заведения преобладают среди предприятий быстрого обслуживания (около 40%), отделов кулинарии (30%), ретсораны и кафе (оба - примерно 25%). То есть, в целевом для нас сегменте кафе около 75% составляют несетевые заведения."
   ]
  },
  {
   "cell_type": "markdown",
   "metadata": {},
   "source": [
    "<h3>Характеристики сетевого заведения</h3>\n",
    "Изучим, какая посадка характерна для сетевых заведений - много или мало посадочных мест? Для этого построим диаграмму рассеяния количества мест для заведений с разделением по признаку \"сетевое/несетевое\". \n",
    "<br>Таким образом, мы определим разброс количесвта мест в заведениях с выделением \"сетевое/несетевое\", и, заодно поймем, много мест - это сколько?\n"
   ]
  },
  {
   "cell_type": "code",
   "execution_count": 12,
   "metadata": {},
   "outputs": [
    {
     "data": {
      "image/png": "[encoded data removed]",
      "text/plain": [
       "<Figure size 864x216 with 1 Axes>"
      ]
     },
     "metadata": {
      "needs_background": "light"
     },
     "output_type": "display_data"
    }
   ],
   "source": [
    "plt.figure(\n",
    "    figsize=(12, 3)\n",
    ") \n",
    "sns.scatterplot(x='object_type',y='number',hue='chain',data=df)\n",
    "plt.title('Количество осадочных мест по типам заведений')\n",
    "plt.ylabel('Посадочные места')\n",
    "plt.xlabel('Типы заведений')\n",
    "plt.xticks(rotation=90)\n",
    "plt.show()"
   ]
  },
  {
   "cell_type": "markdown",
   "metadata": {},
   "source": [
    "Данный график не слишком информативен и дублирует выводы предыдущего графика. Оданко, он даёт еще один повод для проверки:\n",
    "<br>Заведения с количеством мест в больше 1000 и даже больше 500 выглядят  как анломалии, поэтому выведем на экран некоторые из них и проверим."
   ]
  },
  {
   "cell_type": "code",
   "execution_count": 13,
   "metadata": {},
   "outputs": [
    {
     "data": {
      "text/html": [
       "<div>\n",
       "<style scoped>\n",
       "    .dataframe tbody tr th:only-of-type {\n",
       "        vertical-align: middle;\n",
       "    }\n",
       "\n",
       "    .dataframe tbody tr th {\n",
       "        vertical-align: top;\n",
       "    }\n",
       "\n",
       "    .dataframe thead th {\n",
       "        text-align: right;\n",
       "    }\n",
       "</style>\n",
       "<table border=\"1\" class=\"dataframe\">\n",
       "  <thead>\n",
       "    <tr style=\"text-align: right;\">\n",
       "      <th></th>\n",
       "      <th>object_name</th>\n",
       "      <th>chain</th>\n",
       "      <th>object_type</th>\n",
       "      <th>address</th>\n",
       "      <th>number</th>\n",
       "    </tr>\n",
       "  </thead>\n",
       "  <tbody>\n",
       "    <tr>\n",
       "      <th>120</th>\n",
       "      <td>макдоналдс</td>\n",
       "      <td>1</td>\n",
       "      <td>предприятие быстрого обслуживания</td>\n",
       "      <td>город москва, большая бронная улица, дом 29</td>\n",
       "      <td>580</td>\n",
       "    </tr>\n",
       "    <tr>\n",
       "      <th>2294</th>\n",
       "      <td>ресторан «михаил светлов»</td>\n",
       "      <td>0</td>\n",
       "      <td>ресторан</td>\n",
       "      <td>город москва, измайловское шоссе, дом 71, корп...</td>\n",
       "      <td>542</td>\n",
       "    </tr>\n",
       "    <tr>\n",
       "      <th>2313</th>\n",
       "      <td>ресторан «альфа»</td>\n",
       "      <td>0</td>\n",
       "      <td>ресторан</td>\n",
       "      <td>город москва, измайловское шоссе, дом 71, корп...</td>\n",
       "      <td>1040</td>\n",
       "    </tr>\n",
       "    <tr>\n",
       "      <th>2317</th>\n",
       "      <td>ресторан «бета»</td>\n",
       "      <td>0</td>\n",
       "      <td>ресторан</td>\n",
       "      <td>город москва, измайловское шоссе, дом 71, корп...</td>\n",
       "      <td>660</td>\n",
       "    </tr>\n",
       "    <tr>\n",
       "      <th>3399</th>\n",
       "      <td>дурдинъ</td>\n",
       "      <td>0</td>\n",
       "      <td>ресторан</td>\n",
       "      <td>город москва, мичуринский проспект, дом 8, стр...</td>\n",
       "      <td>650</td>\n",
       "    </tr>\n",
       "    <tr>\n",
       "      <th>3683</th>\n",
       "      <td>рум сервис</td>\n",
       "      <td>0</td>\n",
       "      <td>ресторан</td>\n",
       "      <td>город москва, площадь европы, дом 2</td>\n",
       "      <td>1200</td>\n",
       "    </tr>\n",
       "    <tr>\n",
       "      <th>4107</th>\n",
       "      <td>столовая</td>\n",
       "      <td>0</td>\n",
       "      <td>столовая</td>\n",
       "      <td>город москва, каширское шоссе, дом 31</td>\n",
       "      <td>680</td>\n",
       "    </tr>\n",
       "    <tr>\n",
       "      <th>4476</th>\n",
       "      <td>рум сервис</td>\n",
       "      <td>0</td>\n",
       "      <td>ресторан</td>\n",
       "      <td>город москва, кутузовский проспект, дом 2/1, с...</td>\n",
       "      <td>1200</td>\n",
       "    </tr>\n",
       "    <tr>\n",
       "      <th>5315</th>\n",
       "      <td>кардинал</td>\n",
       "      <td>0</td>\n",
       "      <td>кафе</td>\n",
       "      <td>город москва, хибинский проезд, дом 14, строен...</td>\n",
       "      <td>533</td>\n",
       "    </tr>\n",
       "    <tr>\n",
       "      <th>5637</th>\n",
       "      <td>столовая московский гуманитарный университет</td>\n",
       "      <td>0</td>\n",
       "      <td>столовая</td>\n",
       "      <td>город москва, улица юности, дом 5, строение 1</td>\n",
       "      <td>760</td>\n",
       "    </tr>\n",
       "    <tr>\n",
       "      <th>5654</th>\n",
       "      <td>ресторан мой двор</td>\n",
       "      <td>0</td>\n",
       "      <td>ресторан</td>\n",
       "      <td>город москва, улица сталеваров, дом 3л</td>\n",
       "      <td>585</td>\n",
       "    </tr>\n",
       "    <tr>\n",
       "      <th>6053</th>\n",
       "      <td>столовая 16 при рудн</td>\n",
       "      <td>0</td>\n",
       "      <td>столовая</td>\n",
       "      <td>город москва, улица миклухо-маклая, дом 6</td>\n",
       "      <td>644</td>\n",
       "    </tr>\n",
       "    <tr>\n",
       "      <th>6059</th>\n",
       "      <td>зал наполеон</td>\n",
       "      <td>0</td>\n",
       "      <td>ресторан</td>\n",
       "      <td>город москва, улица гарибальди, дом 1а</td>\n",
       "      <td>600</td>\n",
       "    </tr>\n",
       "    <tr>\n",
       "      <th>7077</th>\n",
       "      <td>банкетный</td>\n",
       "      <td>0</td>\n",
       "      <td>ресторан</td>\n",
       "      <td>город москва, ленинградский проспект, дом 31а,...</td>\n",
       "      <td>625</td>\n",
       "    </tr>\n",
       "    <tr>\n",
       "      <th>7180</th>\n",
       "      <td>столовая миэт</td>\n",
       "      <td>0</td>\n",
       "      <td>столовая</td>\n",
       "      <td>город москва, город зеленоград, площадь шокина...</td>\n",
       "      <td>520</td>\n",
       "    </tr>\n",
       "    <tr>\n",
       "      <th>7253</th>\n",
       "      <td>ресторан «шахин шах»</td>\n",
       "      <td>0</td>\n",
       "      <td>ресторан</td>\n",
       "      <td>город москва, улица маршала захарова, дом 6, к...</td>\n",
       "      <td>675</td>\n",
       "    </tr>\n",
       "    <tr>\n",
       "      <th>7780</th>\n",
       "      <td>стамбул</td>\n",
       "      <td>0</td>\n",
       "      <td>ресторан</td>\n",
       "      <td>город москва, улица скульптора мухиной, дом 11</td>\n",
       "      <td>650</td>\n",
       "    </tr>\n",
       "    <tr>\n",
       "      <th>8121</th>\n",
       "      <td>банкетный зал шелк</td>\n",
       "      <td>0</td>\n",
       "      <td>ресторан</td>\n",
       "      <td>город москва, большой саввинский переулок, дом...</td>\n",
       "      <td>1500</td>\n",
       "    </tr>\n",
       "    <tr>\n",
       "      <th>8318</th>\n",
       "      <td>столовая-буфет</td>\n",
       "      <td>0</td>\n",
       "      <td>столовая</td>\n",
       "      <td>город москва, улица волхонка, дом 15</td>\n",
       "      <td>1400</td>\n",
       "    </tr>\n",
       "    <tr>\n",
       "      <th>9035</th>\n",
       "      <td>комбинат питания «управление академсервис»</td>\n",
       "      <td>0</td>\n",
       "      <td>столовая</td>\n",
       "      <td>город москва, проспект вернадского, дом 84, ст...</td>\n",
       "      <td>1288</td>\n",
       "    </tr>\n",
       "    <tr>\n",
       "      <th>9923</th>\n",
       "      <td>eataly</td>\n",
       "      <td>0</td>\n",
       "      <td>ресторан</td>\n",
       "      <td>город москва, киевская улица, дом 2</td>\n",
       "      <td>920</td>\n",
       "    </tr>\n",
       "    <tr>\n",
       "      <th>12673</th>\n",
       "      <td>arena by soho family</td>\n",
       "      <td>0</td>\n",
       "      <td>бар</td>\n",
       "      <td>город москва, кутузовский проспект, дом 36, ст...</td>\n",
       "      <td>1700</td>\n",
       "    </tr>\n",
       "    <tr>\n",
       "      <th>13234</th>\n",
       "      <td>white hall</td>\n",
       "      <td>0</td>\n",
       "      <td>ресторан</td>\n",
       "      <td>город москва, ферганская улица, дом 8</td>\n",
       "      <td>700</td>\n",
       "    </tr>\n",
       "    <tr>\n",
       "      <th>14086</th>\n",
       "      <td>столовая мит</td>\n",
       "      <td>0</td>\n",
       "      <td>столовая</td>\n",
       "      <td>город москва, берёзовая аллея, дом 10, корпус 1</td>\n",
       "      <td>600</td>\n",
       "    </tr>\n",
       "  </tbody>\n",
       "</table>\n",
       "</div>"
      ],
      "text/plain": [
       "                                        object_name chain  \\\n",
       "120                                      макдоналдс     1   \n",
       "2294                      ресторан «михаил светлов»     0   \n",
       "2313                               ресторан «альфа»     0   \n",
       "2317                                ресторан «бета»     0   \n",
       "3399                                        дурдинъ     0   \n",
       "3683                                     рум сервис     0   \n",
       "4107                                       столовая     0   \n",
       "4476                                     рум сервис     0   \n",
       "5315                                       кардинал     0   \n",
       "5637   столовая московский гуманитарный университет     0   \n",
       "5654                              ресторан мой двор     0   \n",
       "6053                           столовая 16 при рудн     0   \n",
       "6059                                   зал наполеон     0   \n",
       "7077                                      банкетный     0   \n",
       "7180                                  столовая миэт     0   \n",
       "7253                           ресторан «шахин шах»     0   \n",
       "7780                                        стамбул     0   \n",
       "8121                             банкетный зал шелк     0   \n",
       "8318                                 столовая-буфет     0   \n",
       "9035     комбинат питания «управление академсервис»     0   \n",
       "9923                                         eataly     0   \n",
       "12673                          arena by soho family     0   \n",
       "13234                                    white hall     0   \n",
       "14086                                  столовая мит     0   \n",
       "\n",
       "                             object_type  \\\n",
       "120    предприятие быстрого обслуживания   \n",
       "2294                            ресторан   \n",
       "2313                            ресторан   \n",
       "2317                            ресторан   \n",
       "3399                            ресторан   \n",
       "3683                            ресторан   \n",
       "4107                            столовая   \n",
       "4476                            ресторан   \n",
       "5315                                кафе   \n",
       "5637                            столовая   \n",
       "5654                            ресторан   \n",
       "6053                            столовая   \n",
       "6059                            ресторан   \n",
       "7077                            ресторан   \n",
       "7180                            столовая   \n",
       "7253                            ресторан   \n",
       "7780                            ресторан   \n",
       "8121                            ресторан   \n",
       "8318                            столовая   \n",
       "9035                            столовая   \n",
       "9923                            ресторан   \n",
       "12673                                бар   \n",
       "13234                           ресторан   \n",
       "14086                           столовая   \n",
       "\n",
       "                                                 address  number  \n",
       "120          город москва, большая бронная улица, дом 29     580  \n",
       "2294   город москва, измайловское шоссе, дом 71, корп...     542  \n",
       "2313   город москва, измайловское шоссе, дом 71, корп...    1040  \n",
       "2317   город москва, измайловское шоссе, дом 71, корп...     660  \n",
       "3399   город москва, мичуринский проспект, дом 8, стр...     650  \n",
       "3683                 город москва, площадь европы, дом 2    1200  \n",
       "4107               город москва, каширское шоссе, дом 31     680  \n",
       "4476   город москва, кутузовский проспект, дом 2/1, с...    1200  \n",
       "5315   город москва, хибинский проезд, дом 14, строен...     533  \n",
       "5637       город москва, улица юности, дом 5, строение 1     760  \n",
       "5654              город москва, улица сталеваров, дом 3л     585  \n",
       "6053           город москва, улица миклухо-маклая, дом 6     644  \n",
       "6059              город москва, улица гарибальди, дом 1а     600  \n",
       "7077   город москва, ленинградский проспект, дом 31а,...     625  \n",
       "7180   город москва, город зеленоград, площадь шокина...     520  \n",
       "7253   город москва, улица маршала захарова, дом 6, к...     675  \n",
       "7780      город москва, улица скульптора мухиной, дом 11     650  \n",
       "8121   город москва, большой саввинский переулок, дом...    1500  \n",
       "8318                город москва, улица волхонка, дом 15    1400  \n",
       "9035   город москва, проспект вернадского, дом 84, ст...    1288  \n",
       "9923                 город москва, киевская улица, дом 2     920  \n",
       "12673  город москва, кутузовский проспект, дом 36, ст...    1700  \n",
       "13234              город москва, ферганская улица, дом 8     700  \n",
       "14086    город москва, берёзовая аллея, дом 10, корпус 1     600  "
      ]
     },
     "metadata": {},
     "output_type": "display_data"
    }
   ],
   "source": [
    "display(df.query('number>500'))"
   ]
  },
  {
   "cell_type": "markdown",
   "metadata": {},
   "source": [
    "Проверил эти заведения, они действительно существуют (напрмиер, банкетный зал на 1500 человек или бар Arena by Soho на 1700) - аномалий тут нет, продолжаем дальше.\n",
    "<br>Предыдущий график не слишком информативен. Построим для среза сетевых заведений точечный график с количеством заведений и количеством мест"
   ]
  },
  {
   "cell_type": "code",
   "execution_count": 14,
   "metadata": {},
   "outputs": [
    {
     "data": {
      "text/html": [
       "<div>\n",
       "<style scoped>\n",
       "    .dataframe tbody tr th:only-of-type {\n",
       "        vertical-align: middle;\n",
       "    }\n",
       "\n",
       "    .dataframe tbody tr th {\n",
       "        vertical-align: top;\n",
       "    }\n",
       "\n",
       "    .dataframe thead tr th {\n",
       "        text-align: left;\n",
       "    }\n",
       "</style>\n",
       "<table border=\"1\" class=\"dataframe\">\n",
       "  <thead>\n",
       "    <tr>\n",
       "      <th></th>\n",
       "      <th>object_name</th>\n",
       "      <th>count</th>\n",
       "      <th>mean</th>\n",
       "    </tr>\n",
       "    <tr>\n",
       "      <th></th>\n",
       "      <th></th>\n",
       "      <th></th>\n",
       "      <th></th>\n",
       "    </tr>\n",
       "  </thead>\n",
       "  <tbody>\n",
       "    <tr>\n",
       "      <th>0</th>\n",
       "      <td>beverly hills diner</td>\n",
       "      <td>1</td>\n",
       "      <td>88.000000</td>\n",
       "    </tr>\n",
       "    <tr>\n",
       "      <th>1</th>\n",
       "      <td>bierloga</td>\n",
       "      <td>1</td>\n",
       "      <td>75.000000</td>\n",
       "    </tr>\n",
       "    <tr>\n",
       "      <th>2</th>\n",
       "      <td>black &amp; white</td>\n",
       "      <td>1</td>\n",
       "      <td>40.000000</td>\n",
       "    </tr>\n",
       "    <tr>\n",
       "      <th>3</th>\n",
       "      <td>bocconcino</td>\n",
       "      <td>3</td>\n",
       "      <td>66.666667</td>\n",
       "    </tr>\n",
       "    <tr>\n",
       "      <th>4</th>\n",
       "      <td>boobo</td>\n",
       "      <td>1</td>\n",
       "      <td>46.000000</td>\n",
       "    </tr>\n",
       "    <tr>\n",
       "      <th>...</th>\n",
       "      <td>...</td>\n",
       "      <td>...</td>\n",
       "      <td>...</td>\n",
       "    </tr>\n",
       "    <tr>\n",
       "      <th>572</th>\n",
       "      <td>ямми микс</td>\n",
       "      <td>1</td>\n",
       "      <td>2.000000</td>\n",
       "    </tr>\n",
       "    <tr>\n",
       "      <th>573</th>\n",
       "      <td>ян примус</td>\n",
       "      <td>1</td>\n",
       "      <td>300.000000</td>\n",
       "    </tr>\n",
       "    <tr>\n",
       "      <th>574</th>\n",
       "      <td>японский ресторан «ваби-саби»</td>\n",
       "      <td>1</td>\n",
       "      <td>155.000000</td>\n",
       "    </tr>\n",
       "    <tr>\n",
       "      <th>575</th>\n",
       "      <td>япоша</td>\n",
       "      <td>2</td>\n",
       "      <td>105.000000</td>\n",
       "    </tr>\n",
       "    <tr>\n",
       "      <th>576</th>\n",
       "      <td>ёрш</td>\n",
       "      <td>4</td>\n",
       "      <td>112.250000</td>\n",
       "    </tr>\n",
       "  </tbody>\n",
       "</table>\n",
       "<p>577 rows × 3 columns</p>\n",
       "</div>"
      ],
      "text/plain": [
       "                       object_name count        mean\n",
       "                                                    \n",
       "0              beverly hills diner     1   88.000000\n",
       "1                         bierloga     1   75.000000\n",
       "2                    black & white     1   40.000000\n",
       "3                       bocconcino     3   66.666667\n",
       "4                            boobo     1   46.000000\n",
       "..                             ...   ...         ...\n",
       "572                      ямми микс     1    2.000000\n",
       "573                      ян примус     1  300.000000\n",
       "574  японский ресторан «ваби-саби»     1  155.000000\n",
       "575                          япоша     2  105.000000\n",
       "576                            ёрш     4  112.250000\n",
       "\n",
       "[577 rows x 3 columns]"
      ]
     },
     "metadata": {},
     "output_type": "display_data"
    },
    {
     "data": {
      "image/png": "[encoded data removed]",
      "text/plain": [
       "<Figure size 864x720 with 1 Axes>"
      ]
     },
     "metadata": {
      "needs_background": "light"
     },
     "output_type": "display_data"
    },
    {
     "data": {
      "text/plain": [
       "<Figure size 864x720 with 0 Axes>"
      ]
     },
     "metadata": {},
     "output_type": "display_data"
    },
    {
     "data": {
      "image/png": "[encoded data removed]",
      "text/plain": [
       "<Figure size 432x432 with 3 Axes>"
      ]
     },
     "metadata": {
      "needs_background": "light"
     },
     "output_type": "display_data"
    }
   ],
   "source": [
    "seats_number= df.query('chain==1').pivot_table(index='object_name',values='number',aggfunc=['count','mean']).reset_index()\n",
    "\n",
    "seats_number = seats_number.rename(columns={\"number\":\"\"})\n",
    "display(seats_number)\n",
    "\n",
    "plt.figure(\n",
    "    figsize=(12, 10)\n",
    ") \n",
    "sns.scatterplot(x='count',y='mean',data=seats_number)\n",
    "plt.title('Среднее количество посадочных мест для сетевых заведений')\n",
    "plt.ylabel('Среднее количество мест')\n",
    "plt.xlabel('Количество заведений в сети')\n",
    "plt.show()\n",
    "#для наглдядности можно построить jointplot\n",
    "plt.figure(\n",
    "    figsize=(12, 10)\n",
    ") \n",
    "sns.jointplot(x='count',y='mean',data=seats_number)\n",
    "plt.ylabel('Седнее количество мест')\n",
    "plt.xlabel('Количество заведений в сети')\n",
    "plt.show()"
   ]
  },
  {
   "cell_type": "markdown",
   "metadata": {},
   "source": [
    "Очевидно, что для сетевых заведений в среднем характерно небольшое число заведений (меньше 10) с небольшим (25-30) количеством мест. Несколько, очевидно крупнейших известных сетей имеют очень большое количесвто ресторанов около 150 шт с количестовм мест чуть выше среднего (50 мест)."
   ]
  },
  {
   "cell_type": "markdown",
   "metadata": {},
   "source": [
    "<h3>Хараектристика количества мест</h3>\n",
    "Определим для каждого вида объекта общественного питания  среднее количество посадочных мест. Построим boxplot для каждого вида заведений"
   ]
  },
  {
   "cell_type": "code",
   "execution_count": 15,
   "metadata": {},
   "outputs": [
    {
     "data": {
      "image/png": "[encoded data removed]",
      "text/plain": [
       "<Figure size 864x1080 with 1 Axes>"
      ]
     },
     "metadata": {
      "needs_background": "light"
     },
     "output_type": "display_data"
    }
   ],
   "source": [
    "plt.figure(\n",
    "    figsize=(12, 15)\n",
    ")\n",
    "sns.boxplot(x=\"object_type\", y=\"number\", data=df)\n",
    "plt.title('Среднее количество посадочных мест по типам заведений')\n",
    "plt.ylabel('Количество мест')\n",
    "plt.xlabel('Типы заведений')\n",
    "plt.xticks(rotation=90)\n",
    "plt.show()"
   ]
  },
  {
   "cell_type": "markdown",
   "metadata": {},
   "source": [
    "Максимальное количество мест предоставляют столовые, рестораны, а также один бар (Arena by Soho). Для большей наглядности в изучении средних занчений \"отрежем\" заведения с более чем 750 местами"
   ]
  },
  {
   "cell_type": "code",
   "execution_count": 16,
   "metadata": {},
   "outputs": [
    {
     "data": {
      "image/png": "[encoded data removed]",
      "text/plain": [
       "<Figure size 864x720 with 1 Axes>"
      ]
     },
     "metadata": {
      "needs_background": "light"
     },
     "output_type": "display_data"
    }
   ],
   "source": [
    "plt.figure(\n",
    "    figsize=(12, 10)\n",
    ")\n",
    "sns.boxplot(x=\"object_type\", y=\"number\", data=df.query('number<750'))\n",
    "plt.title('Среднее количество посадочных мест по типам заведений')\n",
    "plt.ylabel('Количество мест')\n",
    "plt.xlabel('Типы заведений')\n",
    "plt.xticks(rotation=90)\n",
    "plt.show()"
   ]
  },
  {
   "cell_type": "markdown",
   "metadata": {},
   "source": [
    "В среднем, наибольшее медианное число мест имеют столовые,рестораны и буфеты, они же имеют и максимлаьный размах. Столовые и рестораны имеют макисмальные выбросы (бар не считаем, он всего один с большим числом мест).\n",
    "<br>В интересующем нас сегменте \"кафе\" среднее количесвто мест порядка 30 с интервалом от 10 до 50 по верхнему и нижнему квартилям."
   ]
  },
  {
   "cell_type": "markdown",
   "metadata": {},
   "source": [
    "<h3>Обработка адресов расположения заведений</h3>\n",
    "\n",
    "Выделим в отдельный столбец информацию об улице из столбца address\n",
    "<br>Для этого напишем функцию, которая по ключевым словами вида \"улица, ул., шоссе\" и проч. будет выделять содержимое, ограниченное запятыми, и выносить его в отдельный столбец\n"
   ]
  },
  {
   "cell_type": "code",
   "execution_count": 17,
   "metadata": {},
   "outputs": [
    {
     "data": {
      "text/html": [
       "<div>\n",
       "<style scoped>\n",
       "    .dataframe tbody tr th:only-of-type {\n",
       "        vertical-align: middle;\n",
       "    }\n",
       "\n",
       "    .dataframe tbody tr th {\n",
       "        vertical-align: top;\n",
       "    }\n",
       "\n",
       "    .dataframe thead th {\n",
       "        text-align: right;\n",
       "    }\n",
       "</style>\n",
       "<table border=\"1\" class=\"dataframe\">\n",
       "  <thead>\n",
       "    <tr style=\"text-align: right;\">\n",
       "      <th></th>\n",
       "      <th>object_name</th>\n",
       "      <th>chain</th>\n",
       "      <th>object_type</th>\n",
       "      <th>address</th>\n",
       "      <th>number</th>\n",
       "      <th>street</th>\n",
       "    </tr>\n",
       "  </thead>\n",
       "  <tbody>\n",
       "    <tr>\n",
       "      <th>0</th>\n",
       "      <td>сметана</td>\n",
       "      <td>0</td>\n",
       "      <td>кафе</td>\n",
       "      <td>город москва, улица егора абакумова, дом 9</td>\n",
       "      <td>48</td>\n",
       "      <td>улица егора абакумова</td>\n",
       "    </tr>\n",
       "    <tr>\n",
       "      <th>1</th>\n",
       "      <td>родник</td>\n",
       "      <td>0</td>\n",
       "      <td>кафе</td>\n",
       "      <td>город москва, улица талалихина, дом 2/1, корпус 1</td>\n",
       "      <td>35</td>\n",
       "      <td>улица талалихина</td>\n",
       "    </tr>\n",
       "    <tr>\n",
       "      <th>2</th>\n",
       "      <td>кафе «академия»</td>\n",
       "      <td>0</td>\n",
       "      <td>кафе</td>\n",
       "      <td>город москва, абельмановская улица, дом 6</td>\n",
       "      <td>95</td>\n",
       "      <td>абельмановская улица</td>\n",
       "    </tr>\n",
       "    <tr>\n",
       "      <th>3</th>\n",
       "      <td>пиццетория</td>\n",
       "      <td>1</td>\n",
       "      <td>кафе</td>\n",
       "      <td>город москва, абрамцевская улица, дом 1</td>\n",
       "      <td>40</td>\n",
       "      <td>абрамцевская улица</td>\n",
       "    </tr>\n",
       "    <tr>\n",
       "      <th>4</th>\n",
       "      <td>кафе «вишневая метель»</td>\n",
       "      <td>0</td>\n",
       "      <td>кафе</td>\n",
       "      <td>город москва, абрамцевская улица, дом 9, корпус 1</td>\n",
       "      <td>50</td>\n",
       "      <td>абрамцевская улица</td>\n",
       "    </tr>\n",
       "  </tbody>\n",
       "</table>\n",
       "</div>"
      ],
      "text/plain": [
       "              object_name chain object_type  \\\n",
       "0                 сметана     0        кафе   \n",
       "1                  родник     0        кафе   \n",
       "2         кафе «академия»     0        кафе   \n",
       "3              пиццетория     1        кафе   \n",
       "4  кафе «вишневая метель»     0        кафе   \n",
       "\n",
       "                                             address  number  \\\n",
       "0         город москва, улица егора абакумова, дом 9      48   \n",
       "1  город москва, улица талалихина, дом 2/1, корпус 1      35   \n",
       "2          город москва, абельмановская улица, дом 6      95   \n",
       "3            город москва, абрамцевская улица, дом 1      40   \n",
       "4  город москва, абрамцевская улица, дом 9, корпус 1      50   \n",
       "\n",
       "                  street  \n",
       "0  улица егора абакумова  \n",
       "1       улица талалихина  \n",
       "2   абельмановская улица  \n",
       "3     абрамцевская улица  \n",
       "4     абрамцевская улица  "
      ]
     },
     "metadata": {},
     "output_type": "display_data"
    }
   ],
   "source": [
    "street_def = ['улица', 'проезд', 'бульвар', 'шоссе', 'проезд','проспект','переулок','тупик','ул.','пр.','бульв.','площадь', 'пл.']\n",
    "\n",
    "def get_street(row):\n",
    "    for e in row.split(','):\n",
    "        for i in street_def:\n",
    "            if i in e.lower():\n",
    "                return e\n",
    "df['street'] = df['address'].apply(get_street)\n",
    "df['street'] = df['street'].str.strip()\n",
    "display(df.head())"
   ]
  },
  {
   "cell_type": "code",
   "execution_count": 18,
   "metadata": {},
   "outputs": [
    {
     "data": {
      "text/html": [
       "<div>\n",
       "<style scoped>\n",
       "    .dataframe tbody tr th:only-of-type {\n",
       "        vertical-align: middle;\n",
       "    }\n",
       "\n",
       "    .dataframe tbody tr th {\n",
       "        vertical-align: top;\n",
       "    }\n",
       "\n",
       "    .dataframe thead th {\n",
       "        text-align: right;\n",
       "    }\n",
       "</style>\n",
       "<table border=\"1\" class=\"dataframe\">\n",
       "  <thead>\n",
       "    <tr style=\"text-align: right;\">\n",
       "      <th></th>\n",
       "      <th>street</th>\n",
       "      <th>object_name</th>\n",
       "    </tr>\n",
       "  </thead>\n",
       "  <tbody>\n",
       "    <tr>\n",
       "      <th>1032</th>\n",
       "      <td>проспект мира</td>\n",
       "      <td>203</td>\n",
       "    </tr>\n",
       "    <tr>\n",
       "      <th>1036</th>\n",
       "      <td>профсоюзная улица</td>\n",
       "      <td>182</td>\n",
       "    </tr>\n",
       "    <tr>\n",
       "      <th>670</th>\n",
       "      <td>ленинградский проспект</td>\n",
       "      <td>172</td>\n",
       "    </tr>\n",
       "    <tr>\n",
       "      <th>395</th>\n",
       "      <td>варшавское шоссе</td>\n",
       "      <td>165</td>\n",
       "    </tr>\n",
       "    <tr>\n",
       "      <th>673</th>\n",
       "      <td>ленинский проспект</td>\n",
       "      <td>148</td>\n",
       "    </tr>\n",
       "    <tr>\n",
       "      <th>1028</th>\n",
       "      <td>проспект вернадского</td>\n",
       "      <td>128</td>\n",
       "    </tr>\n",
       "    <tr>\n",
       "      <th>660</th>\n",
       "      <td>кутузовский проспект</td>\n",
       "      <td>114</td>\n",
       "    </tr>\n",
       "    <tr>\n",
       "      <th>590</th>\n",
       "      <td>каширское шоссе</td>\n",
       "      <td>111</td>\n",
       "    </tr>\n",
       "    <tr>\n",
       "      <th>597</th>\n",
       "      <td>кировоградская улица</td>\n",
       "      <td>108</td>\n",
       "    </tr>\n",
       "    <tr>\n",
       "      <th>1770</th>\n",
       "      <td>ходынский бульвар</td>\n",
       "      <td>102</td>\n",
       "    </tr>\n",
       "  </tbody>\n",
       "</table>\n",
       "</div>"
      ],
      "text/plain": [
       "                      street  object_name\n",
       "1032           проспект мира          203\n",
       "1036       профсоюзная улица          182\n",
       "670   ленинградский проспект          172\n",
       "395         варшавское шоссе          165\n",
       "673       ленинский проспект          148\n",
       "1028    проспект вернадского          128\n",
       "660     кутузовский проспект          114\n",
       "590          каширское шоссе          111\n",
       "597     кировоградская улица          108\n",
       "1770       ходынский бульвар          102"
      ]
     },
     "metadata": {},
     "output_type": "display_data"
    }
   ],
   "source": [
    "#в принципе, можно вот так\n",
    "#streets = df.groupby(by=[\"street\"])[\"id\"].count().sort_values(ascending=False)\n",
    "#display(streets.head(10))\n",
    "\n",
    "#Но мы сделаем через pivot, чтоб использовать в дальнейшем\n",
    "streets=df.pivot_table(index='street',values='object_name',aggfunc='count').reset_index()\n",
    "display(streets.sort_values(by='object_name',ascending=False).head(10))"
   ]
  },
  {
   "cell_type": "markdown",
   "metadata": {},
   "source": [
    "Построим график улиц"
   ]
  },
  {
   "cell_type": "code",
   "execution_count": 19,
   "metadata": {
    "scrolled": true
   },
   "outputs": [
    {
     "data": {
      "image/png": "[encoded data removed]",
      "text/plain": [
       "<Figure size 864x216 with 1 Axes>"
      ]
     },
     "metadata": {
      "needs_background": "light"
     },
     "output_type": "display_data"
    }
   ],
   "source": [
    "top_10_streets=streets.sort_values(by='object_name',ascending=False).head(10)\n",
    "plt.figure(\n",
    "    figsize=(12, 3)\n",
    ") \n",
    "sns.barplot(x='street',y='object_name',data=top_10_streets)\n",
    "\n",
    "plt.title('Доля сетевых заведений')\n",
    "plt.ylabel('Доля заведений')\n",
    "plt.xlabel('Типы заведений')\n",
    "plt.xticks(rotation=90)\n",
    "plt.show()"
   ]
  },
  {
   "cell_type": "markdown",
   "metadata": {},
   "source": [
    "Загрузим внешний источник для соотнесения района и улицы"
   ]
  },
  {
   "cell_type": "code",
   "execution_count": 20,
   "metadata": {},
   "outputs": [
    {
     "data": {
      "text/html": [
       "<div>\n",
       "<style scoped>\n",
       "    .dataframe tbody tr th:only-of-type {\n",
       "        vertical-align: middle;\n",
       "    }\n",
       "\n",
       "    .dataframe tbody tr th {\n",
       "        vertical-align: top;\n",
       "    }\n",
       "\n",
       "    .dataframe thead th {\n",
       "        text-align: right;\n",
       "    }\n",
       "</style>\n",
       "<table border=\"1\" class=\"dataframe\">\n",
       "  <thead>\n",
       "    <tr style=\"text-align: right;\">\n",
       "      <th></th>\n",
       "      <th>street</th>\n",
       "      <th>areaid</th>\n",
       "      <th>okrug</th>\n",
       "      <th>area</th>\n",
       "    </tr>\n",
       "  </thead>\n",
       "  <tbody>\n",
       "    <tr>\n",
       "      <th>0</th>\n",
       "      <td>выставочный переулок</td>\n",
       "      <td>17</td>\n",
       "      <td>ЦАО</td>\n",
       "      <td>Пресненский район</td>\n",
       "    </tr>\n",
       "    <tr>\n",
       "      <th>1</th>\n",
       "      <td>улица гашека</td>\n",
       "      <td>17</td>\n",
       "      <td>ЦАО</td>\n",
       "      <td>Пресненский район</td>\n",
       "    </tr>\n",
       "    <tr>\n",
       "      <th>2</th>\n",
       "      <td>большая никитская улица</td>\n",
       "      <td>17</td>\n",
       "      <td>ЦАО</td>\n",
       "      <td>Пресненский район</td>\n",
       "    </tr>\n",
       "    <tr>\n",
       "      <th>3</th>\n",
       "      <td>глубокий переулок</td>\n",
       "      <td>17</td>\n",
       "      <td>ЦАО</td>\n",
       "      <td>Пресненский район</td>\n",
       "    </tr>\n",
       "    <tr>\n",
       "      <th>4</th>\n",
       "      <td>большой гнездниковский переулок</td>\n",
       "      <td>17</td>\n",
       "      <td>ЦАО</td>\n",
       "      <td>Пресненский район</td>\n",
       "    </tr>\n",
       "    <tr>\n",
       "      <th>5</th>\n",
       "      <td>малый гнездниковский переулок</td>\n",
       "      <td>17</td>\n",
       "      <td>ЦАО</td>\n",
       "      <td>Пресненский район</td>\n",
       "    </tr>\n",
       "    <tr>\n",
       "      <th>6</th>\n",
       "      <td>большая грузинская улица</td>\n",
       "      <td>17</td>\n",
       "      <td>ЦАО</td>\n",
       "      <td>Пресненский район</td>\n",
       "    </tr>\n",
       "    <tr>\n",
       "      <th>7</th>\n",
       "      <td>малая грузинская улица</td>\n",
       "      <td>17</td>\n",
       "      <td>ЦАО</td>\n",
       "      <td>Пресненский район</td>\n",
       "    </tr>\n",
       "    <tr>\n",
       "      <th>8</th>\n",
       "      <td>грузинская площадь</td>\n",
       "      <td>17</td>\n",
       "      <td>ЦАО</td>\n",
       "      <td>Пресненский район</td>\n",
       "    </tr>\n",
       "    <tr>\n",
       "      <th>9</th>\n",
       "      <td>улица грузинский вал</td>\n",
       "      <td>17</td>\n",
       "      <td>ЦАО</td>\n",
       "      <td>Пресненский район</td>\n",
       "    </tr>\n",
       "  </tbody>\n",
       "</table>\n",
       "</div>"
      ],
      "text/plain": [
       "                            street  areaid okrug               area\n",
       "0             выставочный переулок      17   ЦАО  Пресненский район\n",
       "1                     улица гашека      17   ЦАО  Пресненский район\n",
       "2          большая никитская улица      17   ЦАО  Пресненский район\n",
       "3                глубокий переулок      17   ЦАО  Пресненский район\n",
       "4  большой гнездниковский переулок      17   ЦАО  Пресненский район\n",
       "5    малый гнездниковский переулок      17   ЦАО  Пресненский район\n",
       "6         большая грузинская улица      17   ЦАО  Пресненский район\n",
       "7           малая грузинская улица      17   ЦАО  Пресненский район\n",
       "8               грузинская площадь      17   ЦАО  Пресненский район\n",
       "9             улица грузинский вал      17   ЦАО  Пресненский район"
      ]
     },
     "metadata": {},
     "output_type": "display_data"
    }
   ],
   "source": [
    "#from io import BytesIO\n",
    "#import requests\n",
    "#spreadsheet_id = '<ИДЕНТИФИКАТОР_GOOGLE_SPREADSHEET>'\n",
    "#file_name = 'https://docs.google.com/presentation/d/1locZxLYEPUHMCJUUIXybff-KfodJPgqWpNxkxWhy92U/edit?usp=sharing'#.format(spreadsheet_id)\n",
    "#r = requests.get(file_name)\n",
    "#df = pd.read_csv(BytesIO(r.content))\n",
    "#df \n",
    "\n",
    "distr = pd.read_csv('https://frs.noosphere.ru/xmlui/bitstream/handle/20.500.11925/714058/mosgaz-streets.csv?sequence=1&isAllowed=y')\n",
    "distr['streetname']=distr['streetname'].str.lower()\n",
    "distr = distr.rename(columns={\"streetname\":\"street\"})\n",
    "display(distr.head(10))"
   ]
  },
  {
   "cell_type": "markdown",
   "metadata": {},
   "source": [
    "Определим районы, где расположены ТОП-10 улиц"
   ]
  },
  {
   "cell_type": "code",
   "execution_count": 21,
   "metadata": {},
   "outputs": [
    {
     "data": {
      "text/html": [
       "<div>\n",
       "<style scoped>\n",
       "    .dataframe tbody tr th:only-of-type {\n",
       "        vertical-align: middle;\n",
       "    }\n",
       "\n",
       "    .dataframe tbody tr th {\n",
       "        vertical-align: top;\n",
       "    }\n",
       "\n",
       "    .dataframe thead th {\n",
       "        text-align: right;\n",
       "    }\n",
       "</style>\n",
       "<table border=\"1\" class=\"dataframe\">\n",
       "  <thead>\n",
       "    <tr style=\"text-align: right;\">\n",
       "      <th></th>\n",
       "      <th>street</th>\n",
       "      <th>object_name</th>\n",
       "      <th>areaid</th>\n",
       "      <th>okrug</th>\n",
       "      <th>area</th>\n",
       "    </tr>\n",
       "  </thead>\n",
       "  <tbody>\n",
       "    <tr>\n",
       "      <th>0</th>\n",
       "      <td>проспект мира</td>\n",
       "      <td>203</td>\n",
       "      <td>70</td>\n",
       "      <td>СВАО</td>\n",
       "      <td>Алексеевский район</td>\n",
       "    </tr>\n",
       "    <tr>\n",
       "      <th>1</th>\n",
       "      <td>проспект мира</td>\n",
       "      <td>203</td>\n",
       "      <td>86</td>\n",
       "      <td>СВАО</td>\n",
       "      <td>Ярославский Район</td>\n",
       "    </tr>\n",
       "    <tr>\n",
       "      <th>2</th>\n",
       "      <td>проспект мира</td>\n",
       "      <td>203</td>\n",
       "      <td>78</td>\n",
       "      <td>СВАО</td>\n",
       "      <td>Район Марьина роща</td>\n",
       "    </tr>\n",
       "    <tr>\n",
       "      <th>3</th>\n",
       "      <td>проспект мира</td>\n",
       "      <td>203</td>\n",
       "      <td>79</td>\n",
       "      <td>СВАО</td>\n",
       "      <td>Останкинский район</td>\n",
       "    </tr>\n",
       "    <tr>\n",
       "      <th>4</th>\n",
       "      <td>проспект мира</td>\n",
       "      <td>203</td>\n",
       "      <td>81</td>\n",
       "      <td>СВАО</td>\n",
       "      <td>Район Ростокино</td>\n",
       "    </tr>\n",
       "    <tr>\n",
       "      <th>5</th>\n",
       "      <td>проспект мира</td>\n",
       "      <td>203</td>\n",
       "      <td>82</td>\n",
       "      <td>СВАО</td>\n",
       "      <td>Район Свиблово</td>\n",
       "    </tr>\n",
       "    <tr>\n",
       "      <th>6</th>\n",
       "      <td>проспект мира</td>\n",
       "      <td>203</td>\n",
       "      <td>16</td>\n",
       "      <td>ЦАО</td>\n",
       "      <td>Мещанский район</td>\n",
       "    </tr>\n",
       "    <tr>\n",
       "      <th>7</th>\n",
       "      <td>профсоюзная улица</td>\n",
       "      <td>182</td>\n",
       "      <td>123</td>\n",
       "      <td>ЮЗАО</td>\n",
       "      <td>Академический район</td>\n",
       "    </tr>\n",
       "    <tr>\n",
       "      <th>8</th>\n",
       "      <td>профсоюзная улица</td>\n",
       "      <td>182</td>\n",
       "      <td>132</td>\n",
       "      <td>ЮЗАО</td>\n",
       "      <td>Район Черемушки</td>\n",
       "    </tr>\n",
       "    <tr>\n",
       "      <th>9</th>\n",
       "      <td>профсоюзная улица</td>\n",
       "      <td>182</td>\n",
       "      <td>134</td>\n",
       "      <td>ЮЗАО</td>\n",
       "      <td>Район Ясенево</td>\n",
       "    </tr>\n",
       "    <tr>\n",
       "      <th>10</th>\n",
       "      <td>профсоюзная улица</td>\n",
       "      <td>182</td>\n",
       "      <td>126</td>\n",
       "      <td>ЮЗАО</td>\n",
       "      <td>Район Коньково</td>\n",
       "    </tr>\n",
       "    <tr>\n",
       "      <th>11</th>\n",
       "      <td>профсоюзная улица</td>\n",
       "      <td>182</td>\n",
       "      <td>129</td>\n",
       "      <td>ЮЗАО</td>\n",
       "      <td>Обручевский район</td>\n",
       "    </tr>\n",
       "    <tr>\n",
       "      <th>12</th>\n",
       "      <td>профсоюзная улица</td>\n",
       "      <td>182</td>\n",
       "      <td>131</td>\n",
       "      <td>ЮЗАО</td>\n",
       "      <td>Район Теплый Стан</td>\n",
       "    </tr>\n",
       "    <tr>\n",
       "      <th>13</th>\n",
       "      <td>ленинградский проспект</td>\n",
       "      <td>172</td>\n",
       "      <td>54</td>\n",
       "      <td>САО</td>\n",
       "      <td>Район Аэропорт</td>\n",
       "    </tr>\n",
       "    <tr>\n",
       "      <th>14</th>\n",
       "      <td>ленинградский проспект</td>\n",
       "      <td>172</td>\n",
       "      <td>55</td>\n",
       "      <td>САО</td>\n",
       "      <td>Район Беговой</td>\n",
       "    </tr>\n",
       "    <tr>\n",
       "      <th>15</th>\n",
       "      <td>ленинградский проспект</td>\n",
       "      <td>172</td>\n",
       "      <td>69</td>\n",
       "      <td>САО</td>\n",
       "      <td>Хорошевский район</td>\n",
       "    </tr>\n",
       "    <tr>\n",
       "      <th>16</th>\n",
       "      <td>ленинградский проспект</td>\n",
       "      <td>172</td>\n",
       "      <td>66</td>\n",
       "      <td>САО</td>\n",
       "      <td>Район Сокол</td>\n",
       "    </tr>\n",
       "    <tr>\n",
       "      <th>17</th>\n",
       "      <td>варшавское шоссе</td>\n",
       "      <td>165</td>\n",
       "      <td>109</td>\n",
       "      <td>ЮАО</td>\n",
       "      <td>Район Чертаново Центральное</td>\n",
       "    </tr>\n",
       "    <tr>\n",
       "      <th>18</th>\n",
       "      <td>варшавское шоссе</td>\n",
       "      <td>165</td>\n",
       "      <td>108</td>\n",
       "      <td>ЮАО</td>\n",
       "      <td>Район Чертаново Северное</td>\n",
       "    </tr>\n",
       "    <tr>\n",
       "      <th>19</th>\n",
       "      <td>варшавское шоссе</td>\n",
       "      <td>165</td>\n",
       "      <td>110</td>\n",
       "      <td>ЮАО</td>\n",
       "      <td>Район Чертаново Южное</td>\n",
       "    </tr>\n",
       "    <tr>\n",
       "      <th>20</th>\n",
       "      <td>варшавское шоссе</td>\n",
       "      <td>165</td>\n",
       "      <td>99</td>\n",
       "      <td>ЮАО</td>\n",
       "      <td>Донской район</td>\n",
       "    </tr>\n",
       "    <tr>\n",
       "      <th>21</th>\n",
       "      <td>варшавское шоссе</td>\n",
       "      <td>165</td>\n",
       "      <td>102</td>\n",
       "      <td>ЮАО</td>\n",
       "      <td>Район Нагатино-Садовники</td>\n",
       "    </tr>\n",
       "    <tr>\n",
       "      <th>22</th>\n",
       "      <td>варшавское шоссе</td>\n",
       "      <td>165</td>\n",
       "      <td>104</td>\n",
       "      <td>ЮАО</td>\n",
       "      <td>Нагорный район</td>\n",
       "    </tr>\n",
       "    <tr>\n",
       "      <th>23</th>\n",
       "      <td>варшавское шоссе</td>\n",
       "      <td>165</td>\n",
       "      <td>130</td>\n",
       "      <td>ЮЗАО</td>\n",
       "      <td>Район Северное Бутово</td>\n",
       "    </tr>\n",
       "    <tr>\n",
       "      <th>24</th>\n",
       "      <td>варшавское шоссе</td>\n",
       "      <td>165</td>\n",
       "      <td>133</td>\n",
       "      <td>ЮЗАО</td>\n",
       "      <td>Район Южное Бутово</td>\n",
       "    </tr>\n",
       "    <tr>\n",
       "      <th>25</th>\n",
       "      <td>ленинский проспект</td>\n",
       "      <td>148</td>\n",
       "      <td>44</td>\n",
       "      <td>ЗАО</td>\n",
       "      <td>Район Проспект Вернадского</td>\n",
       "    </tr>\n",
       "    <tr>\n",
       "      <th>26</th>\n",
       "      <td>ленинский проспект</td>\n",
       "      <td>148</td>\n",
       "      <td>47</td>\n",
       "      <td>ЗАО</td>\n",
       "      <td>Район Тропарево-Никулино</td>\n",
       "    </tr>\n",
       "    <tr>\n",
       "      <th>27</th>\n",
       "      <td>ленинский проспект</td>\n",
       "      <td>148</td>\n",
       "      <td>99</td>\n",
       "      <td>ЮАО</td>\n",
       "      <td>Донской район</td>\n",
       "    </tr>\n",
       "    <tr>\n",
       "      <th>28</th>\n",
       "      <td>ленинский проспект</td>\n",
       "      <td>148</td>\n",
       "      <td>124</td>\n",
       "      <td>ЮЗАО</td>\n",
       "      <td>Район Гагаринский</td>\n",
       "    </tr>\n",
       "    <tr>\n",
       "      <th>29</th>\n",
       "      <td>ленинский проспект</td>\n",
       "      <td>148</td>\n",
       "      <td>128</td>\n",
       "      <td>ЮЗАО</td>\n",
       "      <td>Ломоносовский район</td>\n",
       "    </tr>\n",
       "    <tr>\n",
       "      <th>30</th>\n",
       "      <td>ленинский проспект</td>\n",
       "      <td>148</td>\n",
       "      <td>129</td>\n",
       "      <td>ЮЗАО</td>\n",
       "      <td>Обручевский район</td>\n",
       "    </tr>\n",
       "    <tr>\n",
       "      <th>31</th>\n",
       "      <td>ленинский проспект</td>\n",
       "      <td>148</td>\n",
       "      <td>131</td>\n",
       "      <td>ЮЗАО</td>\n",
       "      <td>Район Теплый Стан</td>\n",
       "    </tr>\n",
       "    <tr>\n",
       "      <th>32</th>\n",
       "      <td>ленинский проспект</td>\n",
       "      <td>148</td>\n",
       "      <td>21</td>\n",
       "      <td>ЦАО</td>\n",
       "      <td>Район Якиманка</td>\n",
       "    </tr>\n",
       "    <tr>\n",
       "      <th>33</th>\n",
       "      <td>проспект вернадского</td>\n",
       "      <td>128</td>\n",
       "      <td>44</td>\n",
       "      <td>ЗАО</td>\n",
       "      <td>Район Проспект Вернадского</td>\n",
       "    </tr>\n",
       "    <tr>\n",
       "      <th>34</th>\n",
       "      <td>проспект вернадского</td>\n",
       "      <td>128</td>\n",
       "      <td>45</td>\n",
       "      <td>ЗАО</td>\n",
       "      <td>Район Раменки</td>\n",
       "    </tr>\n",
       "    <tr>\n",
       "      <th>35</th>\n",
       "      <td>проспект вернадского</td>\n",
       "      <td>128</td>\n",
       "      <td>47</td>\n",
       "      <td>ЗАО</td>\n",
       "      <td>Район Тропарево-Никулино</td>\n",
       "    </tr>\n",
       "    <tr>\n",
       "      <th>36</th>\n",
       "      <td>проспект вернадского</td>\n",
       "      <td>128</td>\n",
       "      <td>124</td>\n",
       "      <td>ЮЗАО</td>\n",
       "      <td>Район Гагаринский</td>\n",
       "    </tr>\n",
       "    <tr>\n",
       "      <th>37</th>\n",
       "      <td>проспект вернадского</td>\n",
       "      <td>128</td>\n",
       "      <td>128</td>\n",
       "      <td>ЮЗАО</td>\n",
       "      <td>Ломоносовский район</td>\n",
       "    </tr>\n",
       "    <tr>\n",
       "      <th>38</th>\n",
       "      <td>кутузовский проспект</td>\n",
       "      <td>114</td>\n",
       "      <td>38</td>\n",
       "      <td>ЗАО</td>\n",
       "      <td>Район Дорогомилово</td>\n",
       "    </tr>\n",
       "    <tr>\n",
       "      <th>39</th>\n",
       "      <td>кутузовский проспект</td>\n",
       "      <td>114</td>\n",
       "      <td>49</td>\n",
       "      <td>ЗАО</td>\n",
       "      <td>Район Фили-Давыдково</td>\n",
       "    </tr>\n",
       "    <tr>\n",
       "      <th>40</th>\n",
       "      <td>каширское шоссе</td>\n",
       "      <td>111</td>\n",
       "      <td>101</td>\n",
       "      <td>ЮАО</td>\n",
       "      <td>Район Москворечье-Сабурово</td>\n",
       "    </tr>\n",
       "    <tr>\n",
       "      <th>41</th>\n",
       "      <td>каширское шоссе</td>\n",
       "      <td>111</td>\n",
       "      <td>102</td>\n",
       "      <td>ЮАО</td>\n",
       "      <td>Район Нагатино-Садовники</td>\n",
       "    </tr>\n",
       "    <tr>\n",
       "      <th>42</th>\n",
       "      <td>каширское шоссе</td>\n",
       "      <td>111</td>\n",
       "      <td>106</td>\n",
       "      <td>ЮАО</td>\n",
       "      <td>Район Орехово-Борисово Южное</td>\n",
       "    </tr>\n",
       "    <tr>\n",
       "      <th>43</th>\n",
       "      <td>каширское шоссе</td>\n",
       "      <td>111</td>\n",
       "      <td>105</td>\n",
       "      <td>ЮАО</td>\n",
       "      <td>Район Орехово-Борисово Северное</td>\n",
       "    </tr>\n",
       "    <tr>\n",
       "      <th>44</th>\n",
       "      <td>кировоградская улица</td>\n",
       "      <td>108</td>\n",
       "      <td>109</td>\n",
       "      <td>ЮАО</td>\n",
       "      <td>Район Чертаново Центральное</td>\n",
       "    </tr>\n",
       "    <tr>\n",
       "      <th>45</th>\n",
       "      <td>кировоградская улица</td>\n",
       "      <td>108</td>\n",
       "      <td>108</td>\n",
       "      <td>ЮАО</td>\n",
       "      <td>Район Чертаново Северное</td>\n",
       "    </tr>\n",
       "    <tr>\n",
       "      <th>46</th>\n",
       "      <td>кировоградская улица</td>\n",
       "      <td>108</td>\n",
       "      <td>110</td>\n",
       "      <td>ЮАО</td>\n",
       "      <td>Район Чертаново Южное</td>\n",
       "    </tr>\n",
       "    <tr>\n",
       "      <th>47</th>\n",
       "      <td>ходынский бульвар</td>\n",
       "      <td>102</td>\n",
       "      <td>69</td>\n",
       "      <td>САО</td>\n",
       "      <td>Хорошевский район</td>\n",
       "    </tr>\n",
       "  </tbody>\n",
       "</table>\n",
       "</div>"
      ],
      "text/plain": [
       "                    street  object_name  areaid okrug  \\\n",
       "0            проспект мира          203      70  СВАО   \n",
       "1            проспект мира          203      86  СВАО   \n",
       "2            проспект мира          203      78  СВАО   \n",
       "3            проспект мира          203      79  СВАО   \n",
       "4            проспект мира          203      81  СВАО   \n",
       "5            проспект мира          203      82  СВАО   \n",
       "6            проспект мира          203      16   ЦАО   \n",
       "7        профсоюзная улица          182     123  ЮЗАО   \n",
       "8        профсоюзная улица          182     132  ЮЗАО   \n",
       "9        профсоюзная улица          182     134  ЮЗАО   \n",
       "10       профсоюзная улица          182     126  ЮЗАО   \n",
       "11       профсоюзная улица          182     129  ЮЗАО   \n",
       "12       профсоюзная улица          182     131  ЮЗАО   \n",
       "13  ленинградский проспект          172      54   САО   \n",
       "14  ленинградский проспект          172      55   САО   \n",
       "15  ленинградский проспект          172      69   САО   \n",
       "16  ленинградский проспект          172      66   САО   \n",
       "17        варшавское шоссе          165     109   ЮАО   \n",
       "18        варшавское шоссе          165     108   ЮАО   \n",
       "19        варшавское шоссе          165     110   ЮАО   \n",
       "20        варшавское шоссе          165      99   ЮАО   \n",
       "21        варшавское шоссе          165     102   ЮАО   \n",
       "22        варшавское шоссе          165     104   ЮАО   \n",
       "23        варшавское шоссе          165     130  ЮЗАО   \n",
       "24        варшавское шоссе          165     133  ЮЗАО   \n",
       "25      ленинский проспект          148      44   ЗАО   \n",
       "26      ленинский проспект          148      47   ЗАО   \n",
       "27      ленинский проспект          148      99   ЮАО   \n",
       "28      ленинский проспект          148     124  ЮЗАО   \n",
       "29      ленинский проспект          148     128  ЮЗАО   \n",
       "30      ленинский проспект          148     129  ЮЗАО   \n",
       "31      ленинский проспект          148     131  ЮЗАО   \n",
       "32      ленинский проспект          148      21   ЦАО   \n",
       "33    проспект вернадского          128      44   ЗАО   \n",
       "34    проспект вернадского          128      45   ЗАО   \n",
       "35    проспект вернадского          128      47   ЗАО   \n",
       "36    проспект вернадского          128     124  ЮЗАО   \n",
       "37    проспект вернадского          128     128  ЮЗАО   \n",
       "38    кутузовский проспект          114      38   ЗАО   \n",
       "39    кутузовский проспект          114      49   ЗАО   \n",
       "40         каширское шоссе          111     101   ЮАО   \n",
       "41         каширское шоссе          111     102   ЮАО   \n",
       "42         каширское шоссе          111     106   ЮАО   \n",
       "43         каширское шоссе          111     105   ЮАО   \n",
       "44    кировоградская улица          108     109   ЮАО   \n",
       "45    кировоградская улица          108     108   ЮАО   \n",
       "46    кировоградская улица          108     110   ЮАО   \n",
       "47       ходынский бульвар          102      69   САО   \n",
       "\n",
       "                               area  \n",
       "0                Алексеевский район  \n",
       "1                 Ярославский Район  \n",
       "2                Район Марьина роща  \n",
       "3                Останкинский район  \n",
       "4                   Район Ростокино  \n",
       "5                    Район Свиблово  \n",
       "6                   Мещанский район  \n",
       "7               Академический район  \n",
       "8                   Район Черемушки  \n",
       "9                     Район Ясенево  \n",
       "10                   Район Коньково  \n",
       "11                Обручевский район  \n",
       "12                Район Теплый Стан  \n",
       "13                   Район Аэропорт  \n",
       "14                    Район Беговой  \n",
       "15                Хорошевский район  \n",
       "16                      Район Сокол  \n",
       "17      Район Чертаново Центральное  \n",
       "18         Район Чертаново Северное  \n",
       "19            Район Чертаново Южное  \n",
       "20                    Донской район  \n",
       "21         Район Нагатино-Садовники  \n",
       "22                   Нагорный район  \n",
       "23            Район Северное Бутово  \n",
       "24               Район Южное Бутово  \n",
       "25       Район Проспект Вернадского  \n",
       "26         Район Тропарево-Никулино  \n",
       "27                    Донской район  \n",
       "28                Район Гагаринский  \n",
       "29              Ломоносовский район  \n",
       "30                Обручевский район  \n",
       "31                Район Теплый Стан  \n",
       "32                   Район Якиманка  \n",
       "33       Район Проспект Вернадского  \n",
       "34                    Район Раменки  \n",
       "35         Район Тропарево-Никулино  \n",
       "36                Район Гагаринский  \n",
       "37              Ломоносовский район  \n",
       "38               Район Дорогомилово  \n",
       "39             Район Фили-Давыдково  \n",
       "40       Район Москворечье-Сабурово  \n",
       "41         Район Нагатино-Садовники  \n",
       "42     Район Орехово-Борисово Южное  \n",
       "43  Район Орехово-Борисово Северное  \n",
       "44      Район Чертаново Центральное  \n",
       "45         Район Чертаново Северное  \n",
       "46            Район Чертаново Южное  \n",
       "47                Хорошевский район  "
      ]
     },
     "metadata": {},
     "output_type": "display_data"
    }
   ],
   "source": [
    "top_10_streets=top_10_streets.merge(distr,on='street',how='left')\n",
    "display(top_10_streets)"
   ]
  },
  {
   "cell_type": "markdown",
   "metadata": {},
   "source": [
    "Улицы, на которых расположено наибольшее количесвто заведений - длинные вылетные магистрали. За счёт большой длины на этих адресах расположено максимальное количесвто завдений. Причем, географически их нельзая отнести к какому-то только одному району города - они начинаются от ТТК и заканчиваются на МКАД. Для полноты картины можно выделить административыне округа, к которым принадлежаат данные районы :"
   ]
  },
  {
   "cell_type": "code",
   "execution_count": 22,
   "metadata": {},
   "outputs": [
    {
     "name": "stdout",
     "output_type": "stream",
     "text": [
      "['СВАО' 'ЦАО' 'ЮЗАО' 'САО' 'ЮАО' 'ЗАО']\n"
     ]
    }
   ],
   "source": [
    "print(top_10_streets['okrug'].unique())"
   ]
  },
  {
   "cell_type": "markdown",
   "metadata": {},
   "source": [
    "Очевиден фокус на \"левую\" - западную, южную, юго-западную и северную части Столицы. Центры притяжения на восточных вылетных магистралях (Энтузиастов, Волгоградский, Рязанский, Щелковское) отсутсвуют."
   ]
  },
  {
   "cell_type": "markdown",
   "metadata": {},
   "source": [
    "Определим улицы, где расположены только по 1 заведению общепита:"
   ]
  },
  {
   "cell_type": "code",
   "execution_count": 23,
   "metadata": {},
   "outputs": [
    {
     "data": {
      "text/html": [
       "<div>\n",
       "<style scoped>\n",
       "    .dataframe tbody tr th:only-of-type {\n",
       "        vertical-align: middle;\n",
       "    }\n",
       "\n",
       "    .dataframe tbody tr th {\n",
       "        vertical-align: top;\n",
       "    }\n",
       "\n",
       "    .dataframe thead th {\n",
       "        text-align: right;\n",
       "    }\n",
       "</style>\n",
       "<table border=\"1\" class=\"dataframe\">\n",
       "  <thead>\n",
       "    <tr style=\"text-align: right;\">\n",
       "      <th></th>\n",
       "      <th>street</th>\n",
       "      <th>object_name</th>\n",
       "    </tr>\n",
       "  </thead>\n",
       "  <tbody>\n",
       "    <tr>\n",
       "      <th>2</th>\n",
       "      <td>1-й балтийский переулок</td>\n",
       "      <td>1</td>\n",
       "    </tr>\n",
       "    <tr>\n",
       "      <th>3</th>\n",
       "      <td>1-й басманный переулок</td>\n",
       "      <td>1</td>\n",
       "    </tr>\n",
       "    <tr>\n",
       "      <th>4</th>\n",
       "      <td>1-й ботанический проезд</td>\n",
       "      <td>1</td>\n",
       "    </tr>\n",
       "    <tr>\n",
       "      <th>7</th>\n",
       "      <td>1-й вешняковский проезд</td>\n",
       "      <td>1</td>\n",
       "    </tr>\n",
       "    <tr>\n",
       "      <th>9</th>\n",
       "      <td>1-й голутвинский переулок</td>\n",
       "      <td>1</td>\n",
       "    </tr>\n",
       "    <tr>\n",
       "      <th>14</th>\n",
       "      <td>1-й заречный переулок</td>\n",
       "      <td>1</td>\n",
       "    </tr>\n",
       "    <tr>\n",
       "      <th>15</th>\n",
       "      <td>1-й зачатьевский переулок</td>\n",
       "      <td>1</td>\n",
       "    </tr>\n",
       "    <tr>\n",
       "      <th>17</th>\n",
       "      <td>1-й кирпичный переулок</td>\n",
       "      <td>1</td>\n",
       "    </tr>\n",
       "    <tr>\n",
       "      <th>18</th>\n",
       "      <td>1-й кожевнический переулок</td>\n",
       "      <td>1</td>\n",
       "    </tr>\n",
       "    <tr>\n",
       "      <th>19</th>\n",
       "      <td>1-й кожуховский проезд</td>\n",
       "      <td>1</td>\n",
       "    </tr>\n",
       "    <tr>\n",
       "      <th>20</th>\n",
       "      <td>1-й коптельский переулок</td>\n",
       "      <td>1</td>\n",
       "    </tr>\n",
       "    <tr>\n",
       "      <th>21</th>\n",
       "      <td>1-й котельнический переулок</td>\n",
       "      <td>1</td>\n",
       "    </tr>\n",
       "    <tr>\n",
       "      <th>24</th>\n",
       "      <td>1-й краснокурсантский проезд</td>\n",
       "      <td>1</td>\n",
       "    </tr>\n",
       "    <tr>\n",
       "      <th>25</th>\n",
       "      <td>1-й курьяновский проезд</td>\n",
       "      <td>1</td>\n",
       "    </tr>\n",
       "    <tr>\n",
       "      <th>26</th>\n",
       "      <td>1-й люсиновский переулок</td>\n",
       "      <td>1</td>\n",
       "    </tr>\n",
       "    <tr>\n",
       "      <th>27</th>\n",
       "      <td>1-й магистральный тупик</td>\n",
       "      <td>1</td>\n",
       "    </tr>\n",
       "    <tr>\n",
       "      <th>29</th>\n",
       "      <td>1-й монетчиковский переулок</td>\n",
       "      <td>1</td>\n",
       "    </tr>\n",
       "    <tr>\n",
       "      <th>32</th>\n",
       "      <td>1-й николощеповский переулок</td>\n",
       "      <td>1</td>\n",
       "    </tr>\n",
       "    <tr>\n",
       "      <th>33</th>\n",
       "      <td>1-й новокузнецкий переулок</td>\n",
       "      <td>1</td>\n",
       "    </tr>\n",
       "    <tr>\n",
       "      <th>34</th>\n",
       "      <td>1-й обыденский переулок</td>\n",
       "      <td>1</td>\n",
       "    </tr>\n",
       "  </tbody>\n",
       "</table>\n",
       "</div>"
      ],
      "text/plain": [
       "                          street  object_name\n",
       "2        1-й балтийский переулок            1\n",
       "3         1-й басманный переулок            1\n",
       "4        1-й ботанический проезд            1\n",
       "7        1-й вешняковский проезд            1\n",
       "9      1-й голутвинский переулок            1\n",
       "14         1-й заречный переулок            1\n",
       "15     1-й зачатьевский переулок            1\n",
       "17        1-й кирпичный переулок            1\n",
       "18    1-й кожевнический переулок            1\n",
       "19        1-й кожуховский проезд            1\n",
       "20      1-й коптельский переулок            1\n",
       "21   1-й котельнический переулок            1\n",
       "24  1-й краснокурсантский проезд            1\n",
       "25       1-й курьяновский проезд            1\n",
       "26      1-й люсиновский переулок            1\n",
       "27       1-й магистральный тупик            1\n",
       "29   1-й монетчиковский переулок            1\n",
       "32  1-й николощеповский переулок            1\n",
       "33    1-й новокузнецкий переулок            1\n",
       "34       1-й обыденский переулок            1"
      ]
     },
     "metadata": {},
     "output_type": "display_data"
    },
    {
     "name": "stdout",
     "output_type": "stream",
     "text": [
      "Количество улиц только с одним заведением: 536\n"
     ]
    }
   ],
   "source": [
    "streets_1=streets.query('object_name==1')\n",
    "display(streets_1.head(20))\n",
    "print('Количество улиц только с одним заведением:',streets_1.shape[0])"
   ]
  },
  {
   "cell_type": "markdown",
   "metadata": {},
   "source": [
    "Найдем аналогично все районы, через которые проходят эти улицы"
   ]
  },
  {
   "cell_type": "code",
   "execution_count": 24,
   "metadata": {},
   "outputs": [
    {
     "data": {
      "text/html": [
       "<div>\n",
       "<style scoped>\n",
       "    .dataframe tbody tr th:only-of-type {\n",
       "        vertical-align: middle;\n",
       "    }\n",
       "\n",
       "    .dataframe tbody tr th {\n",
       "        vertical-align: top;\n",
       "    }\n",
       "\n",
       "    .dataframe thead th {\n",
       "        text-align: right;\n",
       "    }\n",
       "</style>\n",
       "<table border=\"1\" class=\"dataframe\">\n",
       "  <thead>\n",
       "    <tr style=\"text-align: right;\">\n",
       "      <th></th>\n",
       "      <th>street</th>\n",
       "      <th>object_name</th>\n",
       "      <th>areaid</th>\n",
       "      <th>okrug</th>\n",
       "      <th>area</th>\n",
       "    </tr>\n",
       "  </thead>\n",
       "  <tbody>\n",
       "    <tr>\n",
       "      <th>0</th>\n",
       "      <td>1-й балтийский переулок</td>\n",
       "      <td>1</td>\n",
       "      <td>54.0</td>\n",
       "      <td>САО</td>\n",
       "      <td>Район Аэропорт</td>\n",
       "    </tr>\n",
       "    <tr>\n",
       "      <th>1</th>\n",
       "      <td>1-й басманный переулок</td>\n",
       "      <td>1</td>\n",
       "      <td>13.0</td>\n",
       "      <td>ЦАО</td>\n",
       "      <td>Басманный район</td>\n",
       "    </tr>\n",
       "    <tr>\n",
       "      <th>2</th>\n",
       "      <td>1-й басманный переулок</td>\n",
       "      <td>1</td>\n",
       "      <td>15.0</td>\n",
       "      <td>ЦАО</td>\n",
       "      <td>Красносельский район</td>\n",
       "    </tr>\n",
       "    <tr>\n",
       "      <th>3</th>\n",
       "      <td>1-й ботанический проезд</td>\n",
       "      <td>1</td>\n",
       "      <td>82.0</td>\n",
       "      <td>СВАО</td>\n",
       "      <td>Район Свиблово</td>\n",
       "    </tr>\n",
       "    <tr>\n",
       "      <th>4</th>\n",
       "      <td>1-й вешняковский проезд</td>\n",
       "      <td>1</td>\n",
       "      <td>120.0</td>\n",
       "      <td>ЮВАО</td>\n",
       "      <td>Рязанский район</td>\n",
       "    </tr>\n",
       "    <tr>\n",
       "      <th>5</th>\n",
       "      <td>1-й голутвинский переулок</td>\n",
       "      <td>1</td>\n",
       "      <td>21.0</td>\n",
       "      <td>ЦАО</td>\n",
       "      <td>Район Якиманка</td>\n",
       "    </tr>\n",
       "    <tr>\n",
       "      <th>6</th>\n",
       "      <td>1-й заречный переулок</td>\n",
       "      <td>1</td>\n",
       "      <td>NaN</td>\n",
       "      <td>NaN</td>\n",
       "      <td>NaN</td>\n",
       "    </tr>\n",
       "    <tr>\n",
       "      <th>7</th>\n",
       "      <td>1-й зачатьевский переулок</td>\n",
       "      <td>1</td>\n",
       "      <td>20.0</td>\n",
       "      <td>ЦАО</td>\n",
       "      <td>Район Хамовники</td>\n",
       "    </tr>\n",
       "    <tr>\n",
       "      <th>8</th>\n",
       "      <td>1-й кирпичный переулок</td>\n",
       "      <td>1</td>\n",
       "      <td>36.0</td>\n",
       "      <td>ВАО</td>\n",
       "      <td>Район Соколиная Гора</td>\n",
       "    </tr>\n",
       "    <tr>\n",
       "      <th>9</th>\n",
       "      <td>1-й кожевнический переулок</td>\n",
       "      <td>1</td>\n",
       "      <td>98.0</td>\n",
       "      <td>ЮАО</td>\n",
       "      <td>Даниловский район</td>\n",
       "    </tr>\n",
       "    <tr>\n",
       "      <th>10</th>\n",
       "      <td>1-й кожуховский проезд</td>\n",
       "      <td>1</td>\n",
       "      <td>98.0</td>\n",
       "      <td>ЮАО</td>\n",
       "      <td>Даниловский район</td>\n",
       "    </tr>\n",
       "    <tr>\n",
       "      <th>11</th>\n",
       "      <td>1-й коптельский переулок</td>\n",
       "      <td>1</td>\n",
       "      <td>15.0</td>\n",
       "      <td>ЦАО</td>\n",
       "      <td>Красносельский район</td>\n",
       "    </tr>\n",
       "    <tr>\n",
       "      <th>12</th>\n",
       "      <td>1-й коптельский переулок</td>\n",
       "      <td>1</td>\n",
       "      <td>16.0</td>\n",
       "      <td>ЦАО</td>\n",
       "      <td>Мещанский район</td>\n",
       "    </tr>\n",
       "    <tr>\n",
       "      <th>13</th>\n",
       "      <td>1-й котельнический переулок</td>\n",
       "      <td>1</td>\n",
       "      <td>18.0</td>\n",
       "      <td>ЦАО</td>\n",
       "      <td>Таганский район</td>\n",
       "    </tr>\n",
       "    <tr>\n",
       "      <th>14</th>\n",
       "      <td>1-й краснокурсантский проезд</td>\n",
       "      <td>1</td>\n",
       "      <td>114.0</td>\n",
       "      <td>ЮВАО</td>\n",
       "      <td>Район Лефортово</td>\n",
       "    </tr>\n",
       "    <tr>\n",
       "      <th>15</th>\n",
       "      <td>1-й курьяновский проезд</td>\n",
       "      <td>1</td>\n",
       "      <td>118.0</td>\n",
       "      <td>ЮВАО</td>\n",
       "      <td>Район Печатники</td>\n",
       "    </tr>\n",
       "    <tr>\n",
       "      <th>16</th>\n",
       "      <td>1-й люсиновский переулок</td>\n",
       "      <td>1</td>\n",
       "      <td>14.0</td>\n",
       "      <td>ЦАО</td>\n",
       "      <td>Район Замоскворечье</td>\n",
       "    </tr>\n",
       "    <tr>\n",
       "      <th>17</th>\n",
       "      <td>1-й магистральный тупик</td>\n",
       "      <td>1</td>\n",
       "      <td>69.0</td>\n",
       "      <td>САО</td>\n",
       "      <td>Хорошевский район</td>\n",
       "    </tr>\n",
       "    <tr>\n",
       "      <th>18</th>\n",
       "      <td>1-й монетчиковский переулок</td>\n",
       "      <td>1</td>\n",
       "      <td>14.0</td>\n",
       "      <td>ЦАО</td>\n",
       "      <td>Район Замоскворечье</td>\n",
       "    </tr>\n",
       "    <tr>\n",
       "      <th>19</th>\n",
       "      <td>1-й николощеповский переулок</td>\n",
       "      <td>1</td>\n",
       "      <td>12.0</td>\n",
       "      <td>ЦАО</td>\n",
       "      <td>Район Арбат</td>\n",
       "    </tr>\n",
       "  </tbody>\n",
       "</table>\n",
       "</div>"
      ],
      "text/plain": [
       "                          street  object_name  areaid okrug  \\\n",
       "0        1-й балтийский переулок            1    54.0   САО   \n",
       "1         1-й басманный переулок            1    13.0   ЦАО   \n",
       "2         1-й басманный переулок            1    15.0   ЦАО   \n",
       "3        1-й ботанический проезд            1    82.0  СВАО   \n",
       "4        1-й вешняковский проезд            1   120.0  ЮВАО   \n",
       "5      1-й голутвинский переулок            1    21.0   ЦАО   \n",
       "6          1-й заречный переулок            1     NaN   NaN   \n",
       "7      1-й зачатьевский переулок            1    20.0   ЦАО   \n",
       "8         1-й кирпичный переулок            1    36.0   ВАО   \n",
       "9     1-й кожевнический переулок            1    98.0   ЮАО   \n",
       "10        1-й кожуховский проезд            1    98.0   ЮАО   \n",
       "11      1-й коптельский переулок            1    15.0   ЦАО   \n",
       "12      1-й коптельский переулок            1    16.0   ЦАО   \n",
       "13   1-й котельнический переулок            1    18.0   ЦАО   \n",
       "14  1-й краснокурсантский проезд            1   114.0  ЮВАО   \n",
       "15       1-й курьяновский проезд            1   118.0  ЮВАО   \n",
       "16      1-й люсиновский переулок            1    14.0   ЦАО   \n",
       "17       1-й магистральный тупик            1    69.0   САО   \n",
       "18   1-й монетчиковский переулок            1    14.0   ЦАО   \n",
       "19  1-й николощеповский переулок            1    12.0   ЦАО   \n",
       "\n",
       "                    area  \n",
       "0         Район Аэропорт  \n",
       "1        Басманный район  \n",
       "2   Красносельский район  \n",
       "3         Район Свиблово  \n",
       "4        Рязанский район  \n",
       "5         Район Якиманка  \n",
       "6                    NaN  \n",
       "7        Район Хамовники  \n",
       "8   Район Соколиная Гора  \n",
       "9      Даниловский район  \n",
       "10     Даниловский район  \n",
       "11  Красносельский район  \n",
       "12       Мещанский район  \n",
       "13       Таганский район  \n",
       "14       Район Лефортово  \n",
       "15       Район Печатники  \n",
       "16   Район Замоскворечье  \n",
       "17     Хорошевский район  \n",
       "18   Район Замоскворечье  \n",
       "19           Район Арбат  "
      ]
     },
     "metadata": {},
     "output_type": "display_data"
    }
   ],
   "source": [
    "streets_1=streets_1.merge(distr,on='street',how='left')\n",
    "display(streets_1.head(20))"
   ]
  },
  {
   "cell_type": "markdown",
   "metadata": {},
   "source": [
    "Построим график для ТОП-5 районов"
   ]
  },
  {
   "cell_type": "code",
   "execution_count": 25,
   "metadata": {},
   "outputs": [
    {
     "data": {
      "text/html": [
       "<div>\n",
       "<style scoped>\n",
       "    .dataframe tbody tr th:only-of-type {\n",
       "        vertical-align: middle;\n",
       "    }\n",
       "\n",
       "    .dataframe tbody tr th {\n",
       "        vertical-align: top;\n",
       "    }\n",
       "\n",
       "    .dataframe thead th {\n",
       "        text-align: right;\n",
       "    }\n",
       "</style>\n",
       "<table border=\"1\" class=\"dataframe\">\n",
       "  <thead>\n",
       "    <tr style=\"text-align: right;\">\n",
       "      <th></th>\n",
       "      <th>area</th>\n",
       "      <th>okrug</th>\n",
       "      <th>object_name</th>\n",
       "    </tr>\n",
       "  </thead>\n",
       "  <tbody>\n",
       "    <tr>\n",
       "      <th>3</th>\n",
       "      <td>Басманный район</td>\n",
       "      <td>ЦАО</td>\n",
       "      <td>25</td>\n",
       "    </tr>\n",
       "    <tr>\n",
       "      <th>80</th>\n",
       "      <td>Район Хамовники</td>\n",
       "      <td>ЦАО</td>\n",
       "      <td>25</td>\n",
       "    </tr>\n",
       "    <tr>\n",
       "      <th>94</th>\n",
       "      <td>Таганский район</td>\n",
       "      <td>ЦАО</td>\n",
       "      <td>24</td>\n",
       "    </tr>\n",
       "    <tr>\n",
       "      <th>21</th>\n",
       "      <td>Пресненский район</td>\n",
       "      <td>ЦАО</td>\n",
       "      <td>20</td>\n",
       "    </tr>\n",
       "    <tr>\n",
       "      <th>95</th>\n",
       "      <td>Тверской район</td>\n",
       "      <td>ЦАО</td>\n",
       "      <td>20</td>\n",
       "    </tr>\n",
       "  </tbody>\n",
       "</table>\n",
       "</div>"
      ],
      "text/plain": [
       "                 area okrug  object_name\n",
       "3     Басманный район   ЦАО           25\n",
       "80    Район Хамовники   ЦАО           25\n",
       "94    Таганский район   ЦАО           24\n",
       "21  Пресненский район   ЦАО           20\n",
       "95     Тверской район   ЦАО           20"
      ]
     },
     "metadata": {},
     "output_type": "display_data"
    }
   ],
   "source": [
    "distr_pivot=streets_1.pivot_table(index=['area','okrug'],values='object_name',aggfunc='sum').reset_index().sort_values(by='object_name', ascending=False)\n",
    "display(distr_pivot.head(5))"
   ]
  },
  {
   "cell_type": "code",
   "execution_count": 26,
   "metadata": {
    "scrolled": true
   },
   "outputs": [
    {
     "data": {
      "image/png": "[encoded data removed]",
      "text/plain": [
       "<Figure size 432x288 with 1 Axes>"
      ]
     },
     "metadata": {
      "needs_background": "light"
     },
     "output_type": "display_data"
    }
   ],
   "source": [
    "sns.barplot(x='area',y='object_name',data=distr_pivot.head(5))\n",
    "\n",
    "plt.title('Количество улиц с 1 заведением по районам')\n",
    "plt.ylabel('Количество улиц с 1 заведением')\n",
    "plt.xlabel('Районы')\n",
    "plt.xticks(rotation=90)\n",
    "plt.show()"
   ]
  },
  {
   "cell_type": "markdown",
   "metadata": {},
   "source": [
    "<b>Выводы по адресам размещения</b>\n",
    "<br>Улицы, на которых расположено наибольшее количесвто заведений - длинные вылетные магистрали. За счёт большой длины на этих адресах расположено максимальное количесвто завдений. Причем, географически их нельзая отнести к какому-то только одному району города - они начинаются от ТТК и заканчиваются на МКАД с фокусом на западную и северную часть Столицы. Причем, выделяется с фокус на западную и северную часть Столицы. Центры притяжения на восточных вылетных магистралях (Энтузиастов, Волгоградский, Рязанский, Щелковское) отсутсвуют.\n",
    "<br>Улицы с одним заведением - маленькие улицы (переулки и проезды), как правило, расположенные в пределах ТТК, или даже ближе к центру. Есть выбросы за тертье кольцо, или даже за МКАД (Новокосино), но тем не менее в основном можно утверждать, что это малленькте короткие улицы внутри Третьего транспортного кольца. Топ-5 районов с улицами, имеющими 1 заведение сосредоточены в ЦАО."
   ]
  },
  {
   "cell_type": "markdown",
   "metadata": {},
   "source": [
    "<h2>Рекомендации</h2>\n",
    "Сегмент \"кафе\" - один из наиболее конкурентных в Москве, поэтому для того, чтобы выделиться необходимо иметь какое-то уникальное предложение. Обслуживание роботами может помочь эффектно выделиться среди конкурентов на первое время, но в дальнейшем необходимо держать сатбильно высокий уровень обслуживания и приемлемые цены для поддержания конкурентоспособности.\n",
    "<br>Наиболее оптимально иметь порядка 20-30 посадочных мест в кафе, то есть около 5-7 столиков. \n",
    "<br>Также для такого достаточно камерного формата (кафе со своей \"фишкой\", явно не рассчитанное на массового потребителя) рекомендуется располагать в пределах ТТК на тихих небольших улицах вдали от крупных магистралей.\n",
    "<br>Презентация по ссылке ниже:"
   ]
  },
  {
   "cell_type": "markdown",
   "metadata": {},
   "source": [
    "Презентация: <https://drive.google.com/file/d/1LpKpWSr9ijiEgLboK4D5TyAF1uql5BAR/view?usp=sharing>"
   ]
  }
 ],
 "metadata": {
  "ExecuteTimeLog": [
   {
    "duration": 1319,
    "start_time": "2022-07-21T20:58:47.765Z"
   },
   {
    "duration": 323,
    "start_time": "2022-07-21T21:00:28.893Z"
   },
   {
    "duration": 105,
    "start_time": "2022-07-21T21:06:11.137Z"
   },
   {
    "duration": 19,
    "start_time": "2022-07-21T21:08:11.592Z"
   },
   {
    "duration": 15,
    "start_time": "2022-07-21T21:09:30.090Z"
   },
   {
    "duration": 1354,
    "start_time": "2022-07-21T21:09:48.950Z"
   },
   {
    "duration": 90,
    "start_time": "2022-07-21T21:09:50.307Z"
   },
   {
    "duration": 17,
    "start_time": "2022-07-21T21:09:50.398Z"
   },
   {
    "duration": 56,
    "start_time": "2022-07-21T21:10:46.623Z"
   },
   {
    "duration": 14,
    "start_time": "2022-07-21T21:11:05.381Z"
   },
   {
    "duration": 2265,
    "start_time": "2022-07-21T21:11:46.093Z"
   },
   {
    "duration": 11,
    "start_time": "2022-07-21T21:11:49.049Z"
   },
   {
    "duration": 23,
    "start_time": "2022-07-21T21:11:56.618Z"
   },
   {
    "duration": 12,
    "start_time": "2022-07-21T21:12:03.456Z"
   },
   {
    "duration": 19,
    "start_time": "2022-07-21T21:12:14.737Z"
   },
   {
    "duration": 17,
    "start_time": "2022-07-21T21:12:19.058Z"
   },
   {
    "duration": 1497,
    "start_time": "2022-07-21T21:14:36.389Z"
   },
   {
    "duration": 130,
    "start_time": "2022-07-21T21:14:37.888Z"
   },
   {
    "duration": 54,
    "start_time": "2022-07-21T21:14:38.023Z"
   },
   {
    "duration": 14,
    "start_time": "2022-07-21T21:14:38.080Z"
   },
   {
    "duration": 43,
    "start_time": "2022-07-21T21:15:04.873Z"
   },
   {
    "duration": 48,
    "start_time": "2022-07-21T21:15:22.533Z"
   },
   {
    "duration": 13,
    "start_time": "2022-07-21T21:15:23.159Z"
   },
   {
    "duration": 42,
    "start_time": "2022-07-21T21:17:29.724Z"
   },
   {
    "duration": 14,
    "start_time": "2022-07-21T21:17:31.284Z"
   },
   {
    "duration": 31,
    "start_time": "2022-07-21T21:17:43.963Z"
   },
   {
    "duration": 34,
    "start_time": "2022-07-21T21:17:52.966Z"
   },
   {
    "duration": 29,
    "start_time": "2022-07-21T21:17:56.094Z"
   },
   {
    "duration": 196,
    "start_time": "2022-07-21T21:21:21.413Z"
   },
   {
    "duration": 54,
    "start_time": "2022-07-21T21:21:24.663Z"
   },
   {
    "duration": 34,
    "start_time": "2022-07-21T21:21:29.144Z"
   },
   {
    "duration": 17,
    "start_time": "2022-07-21T21:22:47.954Z"
   },
   {
    "duration": 18,
    "start_time": "2022-07-21T21:22:53.265Z"
   },
   {
    "duration": 12,
    "start_time": "2022-07-21T21:23:03.057Z"
   },
   {
    "duration": 22,
    "start_time": "2022-07-21T21:23:28.536Z"
   },
   {
    "duration": 6,
    "start_time": "2022-07-21T21:24:27.556Z"
   },
   {
    "duration": 10,
    "start_time": "2022-07-21T21:24:42.323Z"
   },
   {
    "duration": 6,
    "start_time": "2022-07-21T21:24:52.245Z"
   },
   {
    "duration": 12,
    "start_time": "2022-07-21T21:25:10.122Z"
   },
   {
    "duration": 6,
    "start_time": "2022-07-21T21:25:16.660Z"
   },
   {
    "duration": 67,
    "start_time": "2022-07-21T21:25:25.474Z"
   },
   {
    "duration": 5,
    "start_time": "2022-07-21T21:25:45.382Z"
   },
   {
    "duration": 63,
    "start_time": "2022-07-21T21:25:53.654Z"
   },
   {
    "duration": 9,
    "start_time": "2022-07-21T21:26:36.961Z"
   },
   {
    "duration": 74,
    "start_time": "2022-07-21T21:26:43.390Z"
   },
   {
    "duration": 12,
    "start_time": "2022-07-21T21:27:45.674Z"
   },
   {
    "duration": 7,
    "start_time": "2022-07-21T21:30:28.407Z"
   },
   {
    "duration": 7,
    "start_time": "2022-07-21T21:31:21.032Z"
   },
   {
    "duration": 63,
    "start_time": "2022-07-21T21:31:34.529Z"
   },
   {
    "duration": 7,
    "start_time": "2022-07-21T21:31:53.269Z"
   },
   {
    "duration": 10,
    "start_time": "2022-07-21T21:32:19.605Z"
   },
   {
    "duration": 63,
    "start_time": "2022-07-22T19:34:20.008Z"
   },
   {
    "duration": 1324,
    "start_time": "2022-07-22T19:34:27.019Z"
   },
   {
    "duration": 138,
    "start_time": "2022-07-22T19:34:28.345Z"
   },
   {
    "duration": 33,
    "start_time": "2022-07-22T19:34:28.485Z"
   },
   {
    "duration": 20,
    "start_time": "2022-07-22T19:34:28.519Z"
   },
   {
    "duration": 12,
    "start_time": "2022-07-22T19:34:28.542Z"
   },
   {
    "duration": 17,
    "start_time": "2022-07-22T19:34:28.556Z"
   },
   {
    "duration": 7,
    "start_time": "2022-07-22T19:34:28.575Z"
   },
   {
    "duration": 18,
    "start_time": "2022-07-22T19:34:28.586Z"
   },
   {
    "duration": 10,
    "start_time": "2022-07-22T19:34:28.606Z"
   },
   {
    "duration": 4,
    "start_time": "2022-07-22T19:34:28.618Z"
   },
   {
    "duration": 15,
    "start_time": "2022-07-22T20:21:59.778Z"
   },
   {
    "duration": 125,
    "start_time": "2022-07-22T20:22:25.580Z"
   },
   {
    "duration": 181,
    "start_time": "2022-07-22T20:24:18.671Z"
   },
   {
    "duration": 22,
    "start_time": "2022-07-22T20:32:12.703Z"
   },
   {
    "duration": 203,
    "start_time": "2022-07-22T20:33:39.206Z"
   },
   {
    "duration": 201,
    "start_time": "2022-07-22T20:37:52.267Z"
   },
   {
    "duration": 204,
    "start_time": "2022-07-22T20:38:17.808Z"
   },
   {
    "duration": 209,
    "start_time": "2022-07-22T20:38:25.564Z"
   },
   {
    "duration": 195,
    "start_time": "2022-07-22T20:39:28.321Z"
   },
   {
    "duration": 209,
    "start_time": "2022-07-22T20:39:34.968Z"
   },
   {
    "duration": 195,
    "start_time": "2022-07-22T20:40:33.946Z"
   },
   {
    "duration": 176,
    "start_time": "2022-07-22T20:40:41.095Z"
   },
   {
    "duration": 105,
    "start_time": "2022-07-22T20:41:59.081Z"
   },
   {
    "duration": 301,
    "start_time": "2022-07-22T20:42:06.667Z"
   },
   {
    "duration": 669,
    "start_time": "2022-07-22T20:42:36.520Z"
   },
   {
    "duration": 122,
    "start_time": "2022-07-22T20:43:38.983Z"
   },
   {
    "duration": 23,
    "start_time": "2022-07-22T20:47:44.255Z"
   },
   {
    "duration": 30,
    "start_time": "2022-07-22T20:48:33.811Z"
   },
   {
    "duration": 32,
    "start_time": "2022-07-22T20:50:17.587Z"
   },
   {
    "duration": 27,
    "start_time": "2022-07-22T20:50:30.851Z"
   },
   {
    "duration": 185,
    "start_time": "2022-07-22T20:50:50.718Z"
   },
   {
    "duration": 138,
    "start_time": "2022-07-22T20:51:18.310Z"
   },
   {
    "duration": 143,
    "start_time": "2022-07-22T20:51:37.855Z"
   },
   {
    "duration": 34,
    "start_time": "2022-07-22T20:57:26.915Z"
   },
   {
    "duration": 142,
    "start_time": "2022-07-22T20:57:35.776Z"
   },
   {
    "duration": 229,
    "start_time": "2022-07-22T20:57:48.817Z"
   },
   {
    "duration": 154,
    "start_time": "2022-07-22T20:58:22.036Z"
   },
   {
    "duration": 1091,
    "start_time": "2022-07-22T20:58:28.180Z"
   },
   {
    "duration": 87,
    "start_time": "2022-07-22T20:58:29.273Z"
   },
   {
    "duration": 36,
    "start_time": "2022-07-22T20:58:29.362Z"
   },
   {
    "duration": 52,
    "start_time": "2022-07-22T20:58:29.400Z"
   },
   {
    "duration": 11,
    "start_time": "2022-07-22T20:58:29.454Z"
   },
   {
    "duration": 22,
    "start_time": "2022-07-22T20:58:29.467Z"
   },
   {
    "duration": 6,
    "start_time": "2022-07-22T20:58:29.491Z"
   },
   {
    "duration": 10,
    "start_time": "2022-07-22T20:58:29.499Z"
   },
   {
    "duration": 42,
    "start_time": "2022-07-22T20:58:29.511Z"
   },
   {
    "duration": 212,
    "start_time": "2022-07-22T20:58:29.557Z"
   },
   {
    "duration": 172,
    "start_time": "2022-07-22T20:58:29.771Z"
   },
   {
    "duration": 1143,
    "start_time": "2022-07-22T20:58:47.944Z"
   },
   {
    "duration": 87,
    "start_time": "2022-07-22T20:58:49.088Z"
   },
   {
    "duration": 45,
    "start_time": "2022-07-22T20:58:49.177Z"
   },
   {
    "duration": 51,
    "start_time": "2022-07-22T20:58:49.224Z"
   },
   {
    "duration": 13,
    "start_time": "2022-07-22T20:58:49.277Z"
   },
   {
    "duration": 20,
    "start_time": "2022-07-22T20:58:49.292Z"
   },
   {
    "duration": 6,
    "start_time": "2022-07-22T20:58:49.313Z"
   },
   {
    "duration": 32,
    "start_time": "2022-07-22T20:58:49.321Z"
   },
   {
    "duration": 4,
    "start_time": "2022-07-22T20:58:49.355Z"
   },
   {
    "duration": 207,
    "start_time": "2022-07-22T20:58:49.362Z"
   },
   {
    "duration": 150,
    "start_time": "2022-07-22T20:58:49.571Z"
   },
   {
    "duration": 1651,
    "start_time": "2022-07-22T20:59:58.022Z"
   },
   {
    "duration": 1197,
    "start_time": "2022-07-22T21:00:08.611Z"
   },
   {
    "duration": 89,
    "start_time": "2022-07-22T21:00:09.811Z"
   },
   {
    "duration": 35,
    "start_time": "2022-07-22T21:00:09.902Z"
   },
   {
    "duration": 49,
    "start_time": "2022-07-22T21:00:09.939Z"
   },
   {
    "duration": 12,
    "start_time": "2022-07-22T21:00:09.990Z"
   },
   {
    "duration": 48,
    "start_time": "2022-07-22T21:00:10.005Z"
   },
   {
    "duration": 7,
    "start_time": "2022-07-22T21:00:10.055Z"
   },
   {
    "duration": 27,
    "start_time": "2022-07-22T21:00:10.064Z"
   },
   {
    "duration": 13,
    "start_time": "2022-07-22T21:00:10.093Z"
   },
   {
    "duration": 224,
    "start_time": "2022-07-22T21:00:10.108Z"
   },
   {
    "duration": 155,
    "start_time": "2022-07-22T21:00:10.333Z"
   },
   {
    "duration": 1641,
    "start_time": "2022-07-22T21:00:35.157Z"
   },
   {
    "duration": 1195,
    "start_time": "2022-07-22T21:00:44.062Z"
   },
   {
    "duration": 92,
    "start_time": "2022-07-22T21:00:45.259Z"
   },
   {
    "duration": 41,
    "start_time": "2022-07-22T21:00:45.353Z"
   },
   {
    "duration": 63,
    "start_time": "2022-07-22T21:00:45.397Z"
   },
   {
    "duration": 11,
    "start_time": "2022-07-22T21:00:45.463Z"
   },
   {
    "duration": 24,
    "start_time": "2022-07-22T21:00:45.476Z"
   },
   {
    "duration": 7,
    "start_time": "2022-07-22T21:00:45.502Z"
   },
   {
    "duration": 42,
    "start_time": "2022-07-22T21:00:45.511Z"
   },
   {
    "duration": 5,
    "start_time": "2022-07-22T21:00:45.555Z"
   },
   {
    "duration": 233,
    "start_time": "2022-07-22T21:00:45.562Z"
   },
   {
    "duration": 781,
    "start_time": "2022-07-22T21:00:45.797Z"
   },
   {
    "duration": 1127,
    "start_time": "2022-07-22T21:02:18.262Z"
   },
   {
    "duration": 92,
    "start_time": "2022-07-22T21:02:19.392Z"
   },
   {
    "duration": 66,
    "start_time": "2022-07-22T21:02:19.486Z"
   },
   {
    "duration": 39,
    "start_time": "2022-07-22T21:02:19.555Z"
   },
   {
    "duration": 12,
    "start_time": "2022-07-22T21:02:19.597Z"
   },
   {
    "duration": 43,
    "start_time": "2022-07-22T21:02:19.611Z"
   },
   {
    "duration": 8,
    "start_time": "2022-07-22T21:02:19.656Z"
   },
   {
    "duration": 9,
    "start_time": "2022-07-22T21:02:19.666Z"
   },
   {
    "duration": 5,
    "start_time": "2022-07-22T21:02:19.677Z"
   },
   {
    "duration": 231,
    "start_time": "2022-07-22T21:02:19.684Z"
   },
   {
    "duration": 246,
    "start_time": "2022-07-22T21:02:19.918Z"
   },
   {
    "duration": 48,
    "start_time": "2022-07-23T19:36:42.285Z"
   },
   {
    "duration": 1325,
    "start_time": "2022-07-23T19:36:47.805Z"
   },
   {
    "duration": 145,
    "start_time": "2022-07-23T19:36:49.132Z"
   },
   {
    "duration": 41,
    "start_time": "2022-07-23T19:36:49.278Z"
   },
   {
    "duration": 33,
    "start_time": "2022-07-23T19:36:49.321Z"
   },
   {
    "duration": 11,
    "start_time": "2022-07-23T19:36:49.356Z"
   },
   {
    "duration": 39,
    "start_time": "2022-07-23T19:36:49.368Z"
   },
   {
    "duration": 6,
    "start_time": "2022-07-23T19:36:49.409Z"
   },
   {
    "duration": 10,
    "start_time": "2022-07-23T19:36:49.417Z"
   },
   {
    "duration": 6,
    "start_time": "2022-07-23T19:36:49.429Z"
   },
   {
    "duration": 238,
    "start_time": "2022-07-23T19:36:49.436Z"
   },
   {
    "duration": 225,
    "start_time": "2022-07-23T19:36:49.675Z"
   },
   {
    "duration": 106,
    "start_time": "2022-07-23T19:36:49.904Z"
   },
   {
    "duration": 522,
    "start_time": "2022-07-23T19:36:54.920Z"
   },
   {
    "duration": 540,
    "start_time": "2022-07-23T19:40:18.958Z"
   },
   {
    "duration": 549,
    "start_time": "2022-07-23T19:40:48.982Z"
   },
   {
    "duration": 14,
    "start_time": "2022-07-23T19:42:40.576Z"
   },
   {
    "duration": 16,
    "start_time": "2022-07-23T20:03:40.240Z"
   },
   {
    "duration": 199,
    "start_time": "2022-07-23T20:03:58.852Z"
   },
   {
    "duration": 25,
    "start_time": "2022-07-23T20:06:56.953Z"
   },
   {
    "duration": 33,
    "start_time": "2022-07-23T20:07:08.108Z"
   },
   {
    "duration": 6,
    "start_time": "2022-07-23T20:07:21.176Z"
   },
   {
    "duration": 17,
    "start_time": "2022-07-23T20:07:34.868Z"
   },
   {
    "duration": 24,
    "start_time": "2022-07-23T20:08:00.682Z"
   },
   {
    "duration": 32,
    "start_time": "2022-07-23T20:08:18.985Z"
   },
   {
    "duration": 31,
    "start_time": "2022-07-23T20:08:46.991Z"
   },
   {
    "duration": 31,
    "start_time": "2022-07-23T20:15:58.582Z"
   },
   {
    "duration": 57,
    "start_time": "2022-07-23T20:16:35.346Z"
   },
   {
    "duration": 7,
    "start_time": "2022-07-23T20:19:32.027Z"
   },
   {
    "duration": 9,
    "start_time": "2022-07-23T20:19:44.836Z"
   },
   {
    "duration": 14,
    "start_time": "2022-07-23T20:20:10.616Z"
   },
   {
    "duration": 10,
    "start_time": "2022-07-23T20:20:18.073Z"
   },
   {
    "duration": 13,
    "start_time": "2022-07-23T20:20:36.363Z"
   },
   {
    "duration": 77,
    "start_time": "2022-07-23T20:24:10.099Z"
   },
   {
    "duration": 77,
    "start_time": "2022-07-23T20:24:25.993Z"
   },
   {
    "duration": 32,
    "start_time": "2022-07-23T20:24:41.660Z"
   },
   {
    "duration": 33,
    "start_time": "2022-07-23T20:25:02.225Z"
   },
   {
    "duration": 29,
    "start_time": "2022-07-23T20:25:17.359Z"
   },
   {
    "duration": 39,
    "start_time": "2022-07-23T20:25:28.794Z"
   },
   {
    "duration": 37,
    "start_time": "2022-07-23T20:25:34.365Z"
   },
   {
    "duration": 11,
    "start_time": "2022-07-23T20:34:23.427Z"
   },
   {
    "duration": 342,
    "start_time": "2022-07-23T20:34:27.316Z"
   },
   {
    "duration": 264,
    "start_time": "2022-07-23T20:35:04.475Z"
   },
   {
    "duration": 297,
    "start_time": "2022-07-23T20:35:12.583Z"
   },
   {
    "duration": 330,
    "start_time": "2022-07-23T20:35:44.515Z"
   },
   {
    "duration": 323,
    "start_time": "2022-07-23T20:35:52.715Z"
   },
   {
    "duration": 355,
    "start_time": "2022-07-23T20:36:05.114Z"
   },
   {
    "duration": 446,
    "start_time": "2022-07-23T20:37:39.620Z"
   },
   {
    "duration": 294,
    "start_time": "2022-07-23T20:37:50.636Z"
   },
   {
    "duration": 34,
    "start_time": "2022-07-23T20:47:39.764Z"
   },
   {
    "duration": 50,
    "start_time": "2022-07-23T20:47:48.185Z"
   },
   {
    "duration": 33,
    "start_time": "2022-07-23T20:47:55.525Z"
   },
   {
    "duration": 42,
    "start_time": "2022-07-23T20:48:16.902Z"
   },
   {
    "duration": 200,
    "start_time": "2022-07-23T20:48:40.066Z"
   },
   {
    "duration": 1131,
    "start_time": "2022-07-25T18:35:37.652Z"
   },
   {
    "duration": 123,
    "start_time": "2022-07-25T18:35:38.785Z"
   },
   {
    "duration": 42,
    "start_time": "2022-07-25T18:35:38.910Z"
   },
   {
    "duration": 51,
    "start_time": "2022-07-25T18:35:38.954Z"
   },
   {
    "duration": 12,
    "start_time": "2022-07-25T18:35:39.007Z"
   },
   {
    "duration": 19,
    "start_time": "2022-07-25T18:35:39.021Z"
   },
   {
    "duration": 5,
    "start_time": "2022-07-25T18:35:39.042Z"
   },
   {
    "duration": 16,
    "start_time": "2022-07-25T18:35:39.049Z"
   },
   {
    "duration": 5,
    "start_time": "2022-07-25T18:35:39.067Z"
   },
   {
    "duration": 239,
    "start_time": "2022-07-25T18:35:39.074Z"
   },
   {
    "duration": 220,
    "start_time": "2022-07-25T18:35:39.315Z"
   },
   {
    "duration": 547,
    "start_time": "2022-07-25T18:35:39.537Z"
   },
   {
    "duration": 27,
    "start_time": "2022-07-25T18:35:40.085Z"
   },
   {
    "duration": 211,
    "start_time": "2022-07-25T18:35:40.114Z"
   },
   {
    "duration": 12,
    "start_time": "2022-07-25T18:35:40.326Z"
   },
   {
    "duration": 329,
    "start_time": "2022-07-25T18:35:40.340Z"
   },
   {
    "duration": 305,
    "start_time": "2022-07-25T18:35:40.671Z"
   },
   {
    "duration": 56,
    "start_time": "2022-07-25T18:36:57.258Z"
   },
   {
    "duration": 1270,
    "start_time": "2022-07-25T18:39:31.818Z"
   },
   {
    "duration": 91,
    "start_time": "2022-07-25T18:39:33.090Z"
   },
   {
    "duration": 49,
    "start_time": "2022-07-25T18:39:33.183Z"
   },
   {
    "duration": 34,
    "start_time": "2022-07-25T18:39:33.234Z"
   },
   {
    "duration": 36,
    "start_time": "2022-07-25T18:39:33.270Z"
   },
   {
    "duration": 19,
    "start_time": "2022-07-25T18:39:33.308Z"
   },
   {
    "duration": 6,
    "start_time": "2022-07-25T18:39:33.328Z"
   },
   {
    "duration": 8,
    "start_time": "2022-07-25T18:39:33.335Z"
   },
   {
    "duration": 4,
    "start_time": "2022-07-25T18:39:33.345Z"
   },
   {
    "duration": 270,
    "start_time": "2022-07-25T18:39:33.352Z"
   },
   {
    "duration": 243,
    "start_time": "2022-07-25T18:39:33.624Z"
   },
   {
    "duration": 556,
    "start_time": "2022-07-25T18:39:33.869Z"
   },
   {
    "duration": 14,
    "start_time": "2022-07-25T18:39:34.427Z"
   },
   {
    "duration": 205,
    "start_time": "2022-07-25T18:39:34.443Z"
   },
   {
    "duration": 13,
    "start_time": "2022-07-25T18:39:34.650Z"
   },
   {
    "duration": 329,
    "start_time": "2022-07-25T18:39:34.665Z"
   },
   {
    "duration": 319,
    "start_time": "2022-07-25T18:39:34.996Z"
   },
   {
    "duration": 109,
    "start_time": "2022-07-25T18:39:35.317Z"
   },
   {
    "duration": 8,
    "start_time": "2022-07-25T18:44:01.641Z"
   },
   {
    "duration": 10,
    "start_time": "2022-07-25T18:44:25.542Z"
   },
   {
    "duration": 12,
    "start_time": "2022-07-25T18:48:01.245Z"
   },
   {
    "duration": 9,
    "start_time": "2022-07-25T18:48:24.297Z"
   },
   {
    "duration": 11,
    "start_time": "2022-07-25T18:48:31.279Z"
   },
   {
    "duration": 106,
    "start_time": "2022-07-25T18:53:09.760Z"
   },
   {
    "duration": 20,
    "start_time": "2022-07-25T18:57:16.813Z"
   },
   {
    "duration": 22,
    "start_time": "2022-07-25T18:57:35.462Z"
   },
   {
    "duration": 20,
    "start_time": "2022-07-25T18:57:51.074Z"
   },
   {
    "duration": 12,
    "start_time": "2022-07-25T19:11:05.272Z"
   },
   {
    "duration": 12,
    "start_time": "2022-07-25T19:11:20.302Z"
   },
   {
    "duration": 26,
    "start_time": "2022-07-25T19:11:59.393Z"
   },
   {
    "duration": 17,
    "start_time": "2022-07-25T19:13:07.235Z"
   },
   {
    "duration": 17,
    "start_time": "2022-07-25T19:13:15.553Z"
   },
   {
    "duration": 22,
    "start_time": "2022-07-25T19:24:29.097Z"
   },
   {
    "duration": 9,
    "start_time": "2022-07-25T19:40:19.390Z"
   },
   {
    "duration": 208,
    "start_time": "2022-07-25T19:43:23.763Z"
   },
   {
    "duration": 318,
    "start_time": "2022-07-25T19:45:07.729Z"
   },
   {
    "duration": 218,
    "start_time": "2022-07-25T19:45:19.803Z"
   },
   {
    "duration": 206,
    "start_time": "2022-07-25T19:45:25.670Z"
   },
   {
    "duration": 214,
    "start_time": "2022-07-25T19:45:36.131Z"
   },
   {
    "duration": 206,
    "start_time": "2022-07-25T19:45:47.457Z"
   },
   {
    "duration": 209,
    "start_time": "2022-07-25T19:47:20.155Z"
   },
   {
    "duration": 1134,
    "start_time": "2022-07-25T19:47:41.556Z"
   },
   {
    "duration": 91,
    "start_time": "2022-07-25T19:47:42.692Z"
   },
   {
    "duration": 39,
    "start_time": "2022-07-25T19:47:42.785Z"
   },
   {
    "duration": 20,
    "start_time": "2022-07-25T19:47:42.826Z"
   },
   {
    "duration": 12,
    "start_time": "2022-07-25T19:47:42.849Z"
   },
   {
    "duration": 44,
    "start_time": "2022-07-25T19:47:42.862Z"
   },
   {
    "duration": 9,
    "start_time": "2022-07-25T19:47:42.908Z"
   },
   {
    "duration": 10,
    "start_time": "2022-07-25T19:47:42.919Z"
   },
   {
    "duration": 348,
    "start_time": "2022-07-25T19:47:42.930Z"
   },
   {
    "duration": 0,
    "start_time": "2022-07-25T19:47:43.280Z"
   },
   {
    "duration": 0,
    "start_time": "2022-07-25T19:47:43.281Z"
   },
   {
    "duration": 0,
    "start_time": "2022-07-25T19:47:43.282Z"
   },
   {
    "duration": 0,
    "start_time": "2022-07-25T19:47:43.283Z"
   },
   {
    "duration": 0,
    "start_time": "2022-07-25T19:47:43.285Z"
   },
   {
    "duration": 0,
    "start_time": "2022-07-25T19:47:43.286Z"
   },
   {
    "duration": 0,
    "start_time": "2022-07-25T19:47:43.287Z"
   },
   {
    "duration": 0,
    "start_time": "2022-07-25T19:47:43.304Z"
   },
   {
    "duration": 0,
    "start_time": "2022-07-25T19:47:43.305Z"
   },
   {
    "duration": 0,
    "start_time": "2022-07-25T19:47:43.306Z"
   },
   {
    "duration": 216,
    "start_time": "2022-07-25T19:47:57.778Z"
   },
   {
    "duration": 183,
    "start_time": "2022-07-25T19:48:17.992Z"
   },
   {
    "duration": 206,
    "start_time": "2022-07-25T19:48:54.320Z"
   },
   {
    "duration": 212,
    "start_time": "2022-07-25T19:49:02.451Z"
   },
   {
    "duration": 217,
    "start_time": "2022-07-25T19:50:09.535Z"
   },
   {
    "duration": 216,
    "start_time": "2022-07-25T19:50:38.534Z"
   },
   {
    "duration": 214,
    "start_time": "2022-07-25T19:50:58.664Z"
   },
   {
    "duration": 211,
    "start_time": "2022-07-25T19:51:14.014Z"
   },
   {
    "duration": 324,
    "start_time": "2022-07-25T19:51:41.564Z"
   },
   {
    "duration": 215,
    "start_time": "2022-07-25T19:51:52.391Z"
   },
   {
    "duration": 1263,
    "start_time": "2022-07-25T19:52:14.955Z"
   },
   {
    "duration": 1240,
    "start_time": "2022-07-25T19:52:26.477Z"
   },
   {
    "duration": 110,
    "start_time": "2022-07-25T19:52:27.720Z"
   },
   {
    "duration": 40,
    "start_time": "2022-07-25T19:52:27.832Z"
   },
   {
    "duration": 36,
    "start_time": "2022-07-25T19:52:27.875Z"
   },
   {
    "duration": 12,
    "start_time": "2022-07-25T19:52:27.913Z"
   },
   {
    "duration": 40,
    "start_time": "2022-07-25T19:52:27.927Z"
   },
   {
    "duration": 10,
    "start_time": "2022-07-25T19:52:27.969Z"
   },
   {
    "duration": 33,
    "start_time": "2022-07-25T19:52:27.981Z"
   },
   {
    "duration": 267,
    "start_time": "2022-07-25T19:52:28.015Z"
   },
   {
    "duration": 227,
    "start_time": "2022-07-25T19:52:28.284Z"
   },
   {
    "duration": 558,
    "start_time": "2022-07-25T19:52:28.513Z"
   },
   {
    "duration": 15,
    "start_time": "2022-07-25T19:52:29.073Z"
   },
   {
    "duration": 211,
    "start_time": "2022-07-25T19:52:29.089Z"
   },
   {
    "duration": 11,
    "start_time": "2022-07-25T19:52:29.304Z"
   },
   {
    "duration": 334,
    "start_time": "2022-07-25T19:52:29.317Z"
   },
   {
    "duration": 308,
    "start_time": "2022-07-25T19:52:29.652Z"
   },
   {
    "duration": 90,
    "start_time": "2022-07-25T19:52:29.962Z"
   },
   {
    "duration": 22,
    "start_time": "2022-07-25T19:52:30.054Z"
   },
   {
    "duration": 37,
    "start_time": "2022-07-25T19:52:30.078Z"
   },
   {
    "duration": 17,
    "start_time": "2022-07-25T20:12:12.709Z"
   },
   {
    "duration": 114,
    "start_time": "2022-07-25T20:12:27.817Z"
   },
   {
    "duration": 24,
    "start_time": "2022-07-25T20:12:49.302Z"
   },
   {
    "duration": 254,
    "start_time": "2022-07-25T20:13:01.073Z"
   },
   {
    "duration": 21,
    "start_time": "2022-07-25T20:13:24.651Z"
   },
   {
    "duration": 1206,
    "start_time": "2022-07-25T20:16:07.695Z"
   },
   {
    "duration": 253,
    "start_time": "2022-07-25T20:16:20.792Z"
   },
   {
    "duration": 565,
    "start_time": "2022-07-25T20:22:20.305Z"
   },
   {
    "duration": 621,
    "start_time": "2022-07-25T20:29:37.571Z"
   },
   {
    "duration": 19,
    "start_time": "2022-07-25T20:29:41.264Z"
   },
   {
    "duration": 231,
    "start_time": "2022-07-25T20:40:52.095Z"
   },
   {
    "duration": 224,
    "start_time": "2022-07-25T20:41:46.282Z"
   },
   {
    "duration": 1037,
    "start_time": "2022-07-25T20:43:04.717Z"
   },
   {
    "duration": 286,
    "start_time": "2022-07-25T20:43:35.580Z"
   },
   {
    "duration": 369,
    "start_time": "2022-07-25T20:43:53.862Z"
   },
   {
    "duration": 49,
    "start_time": "2022-07-25T20:45:13.776Z"
   },
   {
    "duration": 1057,
    "start_time": "2022-07-25T20:45:18.766Z"
   },
   {
    "duration": 45,
    "start_time": "2022-07-25T20:46:07.949Z"
   },
   {
    "duration": 58,
    "start_time": "2022-07-25T20:46:16.561Z"
   },
   {
    "duration": 275,
    "start_time": "2022-07-25T20:46:23.382Z"
   },
   {
    "duration": 1395,
    "start_time": "2022-07-25T20:47:07.939Z"
   },
   {
    "duration": 1268,
    "start_time": "2022-07-25T20:47:28.513Z"
   },
   {
    "duration": 1518,
    "start_time": "2022-07-25T20:48:02.055Z"
   },
   {
    "duration": 1473,
    "start_time": "2022-07-25T20:48:17.836Z"
   },
   {
    "duration": 1374,
    "start_time": "2022-07-25T20:48:55.290Z"
   },
   {
    "duration": 1617,
    "start_time": "2022-07-25T20:49:08.618Z"
   },
   {
    "duration": 1207,
    "start_time": "2022-07-25T20:55:52.352Z"
   },
   {
    "duration": 318,
    "start_time": "2022-07-25T20:56:07.111Z"
   },
   {
    "duration": 18,
    "start_time": "2022-07-25T21:22:38.699Z"
   },
   {
    "duration": 20,
    "start_time": "2022-07-25T21:35:50.274Z"
   },
   {
    "duration": 27,
    "start_time": "2022-07-25T21:35:56.474Z"
   },
   {
    "duration": 17,
    "start_time": "2022-07-25T21:37:56.141Z"
   },
   {
    "duration": 1181,
    "start_time": "2022-07-26T11:46:25.427Z"
   },
   {
    "duration": 98,
    "start_time": "2022-07-26T11:46:26.610Z"
   },
   {
    "duration": 36,
    "start_time": "2022-07-26T11:46:26.710Z"
   },
   {
    "duration": 20,
    "start_time": "2022-07-26T11:46:26.748Z"
   },
   {
    "duration": 37,
    "start_time": "2022-07-26T11:46:26.770Z"
   },
   {
    "duration": 24,
    "start_time": "2022-07-26T11:46:26.809Z"
   },
   {
    "duration": 11,
    "start_time": "2022-07-26T11:46:26.835Z"
   },
   {
    "duration": 6,
    "start_time": "2022-07-26T11:46:26.848Z"
   },
   {
    "duration": 240,
    "start_time": "2022-07-26T11:46:26.855Z"
   },
   {
    "duration": 151,
    "start_time": "2022-07-26T11:46:27.099Z"
   },
   {
    "duration": 208,
    "start_time": "2022-07-26T11:46:27.252Z"
   },
   {
    "duration": 537,
    "start_time": "2022-07-26T11:46:27.463Z"
   },
   {
    "duration": 14,
    "start_time": "2022-07-26T11:46:28.001Z"
   },
   {
    "duration": 1095,
    "start_time": "2022-07-26T11:46:28.017Z"
   },
   {
    "duration": 328,
    "start_time": "2022-07-26T11:46:29.114Z"
   },
   {
    "duration": 297,
    "start_time": "2022-07-26T11:46:29.444Z"
   },
   {
    "duration": 96,
    "start_time": "2022-07-26T11:46:29.743Z"
   },
   {
    "duration": 19,
    "start_time": "2022-07-26T11:46:29.840Z"
   },
   {
    "duration": 12,
    "start_time": "2022-07-26T11:46:29.861Z"
   },
   {
    "duration": 12,
    "start_time": "2022-07-27T07:14:08.548Z"
   },
   {
    "duration": 1336,
    "start_time": "2022-07-27T07:14:15.970Z"
   },
   {
    "duration": 98,
    "start_time": "2022-07-27T07:14:17.309Z"
   },
   {
    "duration": 73,
    "start_time": "2022-07-27T07:14:17.408Z"
   },
   {
    "duration": 138,
    "start_time": "2022-07-27T07:14:17.484Z"
   },
   {
    "duration": 183,
    "start_time": "2022-07-27T07:14:17.625Z"
   },
   {
    "duration": 0,
    "start_time": "2022-07-27T07:14:17.810Z"
   },
   {
    "duration": 0,
    "start_time": "2022-07-27T07:14:17.812Z"
   },
   {
    "duration": 0,
    "start_time": "2022-07-27T07:14:17.815Z"
   },
   {
    "duration": 0,
    "start_time": "2022-07-27T07:14:17.817Z"
   },
   {
    "duration": 0,
    "start_time": "2022-07-27T07:14:17.818Z"
   },
   {
    "duration": 0,
    "start_time": "2022-07-27T07:14:17.820Z"
   },
   {
    "duration": 0,
    "start_time": "2022-07-27T07:14:17.821Z"
   },
   {
    "duration": 0,
    "start_time": "2022-07-27T07:14:17.822Z"
   },
   {
    "duration": 0,
    "start_time": "2022-07-27T07:14:17.823Z"
   },
   {
    "duration": 0,
    "start_time": "2022-07-27T07:14:17.824Z"
   },
   {
    "duration": 0,
    "start_time": "2022-07-27T07:14:17.825Z"
   },
   {
    "duration": 0,
    "start_time": "2022-07-27T07:14:17.826Z"
   },
   {
    "duration": 0,
    "start_time": "2022-07-27T07:14:17.826Z"
   },
   {
    "duration": 0,
    "start_time": "2022-07-27T07:14:17.827Z"
   },
   {
    "duration": 1259,
    "start_time": "2022-07-27T07:19:30.752Z"
   },
   {
    "duration": 1279,
    "start_time": "2022-07-27T07:19:41.918Z"
   },
   {
    "duration": 95,
    "start_time": "2022-07-27T07:19:43.200Z"
   },
   {
    "duration": 39,
    "start_time": "2022-07-27T07:19:43.296Z"
   },
   {
    "duration": 20,
    "start_time": "2022-07-27T07:19:43.338Z"
   },
   {
    "duration": 1746,
    "start_time": "2022-07-27T07:19:43.360Z"
   },
   {
    "duration": 0,
    "start_time": "2022-07-27T07:19:45.109Z"
   },
   {
    "duration": 0,
    "start_time": "2022-07-27T07:19:45.111Z"
   },
   {
    "duration": 0,
    "start_time": "2022-07-27T07:19:45.112Z"
   },
   {
    "duration": 0,
    "start_time": "2022-07-27T07:19:45.114Z"
   },
   {
    "duration": 0,
    "start_time": "2022-07-27T07:19:45.115Z"
   },
   {
    "duration": 0,
    "start_time": "2022-07-27T07:19:45.116Z"
   },
   {
    "duration": 0,
    "start_time": "2022-07-27T07:19:45.116Z"
   },
   {
    "duration": 1,
    "start_time": "2022-07-27T07:19:45.117Z"
   },
   {
    "duration": 0,
    "start_time": "2022-07-27T07:19:45.119Z"
   },
   {
    "duration": 0,
    "start_time": "2022-07-27T07:19:45.120Z"
   },
   {
    "duration": 0,
    "start_time": "2022-07-27T07:19:45.121Z"
   },
   {
    "duration": 0,
    "start_time": "2022-07-27T07:19:45.122Z"
   },
   {
    "duration": 0,
    "start_time": "2022-07-27T07:19:45.123Z"
   },
   {
    "duration": 0,
    "start_time": "2022-07-27T07:19:45.124Z"
   },
   {
    "duration": 12,
    "start_time": "2022-07-27T07:19:55.654Z"
   },
   {
    "duration": 6,
    "start_time": "2022-07-27T07:20:00.539Z"
   },
   {
    "duration": 1937,
    "start_time": "2022-07-27T07:20:10.306Z"
   },
   {
    "duration": 102,
    "start_time": "2022-07-27T07:20:12.246Z"
   },
   {
    "duration": 42,
    "start_time": "2022-07-27T07:20:12.349Z"
   },
   {
    "duration": 22,
    "start_time": "2022-07-27T07:20:12.405Z"
   },
   {
    "duration": 12,
    "start_time": "2022-07-27T07:20:12.429Z"
   },
   {
    "duration": 10,
    "start_time": "2022-07-27T07:20:12.443Z"
   },
   {
    "duration": 23,
    "start_time": "2022-07-27T07:20:12.455Z"
   },
   {
    "duration": 32,
    "start_time": "2022-07-27T07:20:12.479Z"
   },
   {
    "duration": 261,
    "start_time": "2022-07-27T07:20:12.513Z"
   },
   {
    "duration": 342,
    "start_time": "2022-07-27T07:20:12.776Z"
   },
   {
    "duration": 497,
    "start_time": "2022-07-27T07:20:13.120Z"
   },
   {
    "duration": 1237,
    "start_time": "2022-07-27T07:20:13.618Z"
   },
   {
    "duration": 59,
    "start_time": "2022-07-27T07:20:14.857Z"
   },
   {
    "duration": 2024,
    "start_time": "2022-07-27T07:20:14.919Z"
   },
   {
    "duration": 382,
    "start_time": "2022-07-27T07:20:16.945Z"
   },
   {
    "duration": 348,
    "start_time": "2022-07-27T07:20:17.329Z"
   },
   {
    "duration": 117,
    "start_time": "2022-07-27T07:20:17.679Z"
   },
   {
    "duration": 36,
    "start_time": "2022-07-27T07:20:17.805Z"
   },
   {
    "duration": 130,
    "start_time": "2022-07-27T07:20:17.844Z"
   },
   {
    "duration": 11,
    "start_time": "2022-07-27T07:20:41.888Z"
   },
   {
    "duration": 1301,
    "start_time": "2022-07-27T07:20:48.706Z"
   },
   {
    "duration": 96,
    "start_time": "2022-07-27T07:20:50.010Z"
   },
   {
    "duration": 51,
    "start_time": "2022-07-27T07:20:50.108Z"
   },
   {
    "duration": 44,
    "start_time": "2022-07-27T07:20:50.162Z"
   },
   {
    "duration": 12,
    "start_time": "2022-07-27T07:20:50.208Z"
   },
   {
    "duration": 15,
    "start_time": "2022-07-27T07:20:50.222Z"
   },
   {
    "duration": 130,
    "start_time": "2022-07-27T07:20:50.239Z"
   },
   {
    "duration": 0,
    "start_time": "2022-07-27T07:20:50.371Z"
   },
   {
    "duration": 0,
    "start_time": "2022-07-27T07:20:50.373Z"
   },
   {
    "duration": 0,
    "start_time": "2022-07-27T07:20:50.374Z"
   },
   {
    "duration": 0,
    "start_time": "2022-07-27T07:20:50.375Z"
   },
   {
    "duration": 0,
    "start_time": "2022-07-27T07:20:50.376Z"
   },
   {
    "duration": 0,
    "start_time": "2022-07-27T07:20:50.377Z"
   },
   {
    "duration": 0,
    "start_time": "2022-07-27T07:20:50.381Z"
   },
   {
    "duration": 0,
    "start_time": "2022-07-27T07:20:50.382Z"
   },
   {
    "duration": 0,
    "start_time": "2022-07-27T07:20:50.383Z"
   },
   {
    "duration": 0,
    "start_time": "2022-07-27T07:20:50.384Z"
   },
   {
    "duration": 0,
    "start_time": "2022-07-27T07:20:50.404Z"
   },
   {
    "duration": 0,
    "start_time": "2022-07-27T07:20:50.405Z"
   },
   {
    "duration": 1187,
    "start_time": "2022-07-27T07:21:42.339Z"
   },
   {
    "duration": 105,
    "start_time": "2022-07-27T07:21:43.529Z"
   },
   {
    "duration": 45,
    "start_time": "2022-07-27T07:21:43.636Z"
   },
   {
    "duration": 40,
    "start_time": "2022-07-27T07:21:43.683Z"
   },
   {
    "duration": 12,
    "start_time": "2022-07-27T07:21:43.725Z"
   },
   {
    "duration": 11,
    "start_time": "2022-07-27T07:21:43.739Z"
   },
   {
    "duration": 131,
    "start_time": "2022-07-27T07:21:43.752Z"
   },
   {
    "duration": 0,
    "start_time": "2022-07-27T07:21:43.886Z"
   },
   {
    "duration": 0,
    "start_time": "2022-07-27T07:21:43.888Z"
   },
   {
    "duration": 0,
    "start_time": "2022-07-27T07:21:43.889Z"
   },
   {
    "duration": 0,
    "start_time": "2022-07-27T07:21:43.891Z"
   },
   {
    "duration": 0,
    "start_time": "2022-07-27T07:21:43.905Z"
   },
   {
    "duration": 0,
    "start_time": "2022-07-27T07:21:43.907Z"
   },
   {
    "duration": 0,
    "start_time": "2022-07-27T07:21:43.909Z"
   },
   {
    "duration": 0,
    "start_time": "2022-07-27T07:21:43.911Z"
   },
   {
    "duration": 0,
    "start_time": "2022-07-27T07:21:43.915Z"
   },
   {
    "duration": 0,
    "start_time": "2022-07-27T07:21:43.917Z"
   },
   {
    "duration": 0,
    "start_time": "2022-07-27T07:21:43.919Z"
   },
   {
    "duration": 0,
    "start_time": "2022-07-27T07:21:43.921Z"
   },
   {
    "duration": 1201,
    "start_time": "2022-07-27T07:22:38.350Z"
   },
   {
    "duration": 97,
    "start_time": "2022-07-27T07:22:39.554Z"
   },
   {
    "duration": 40,
    "start_time": "2022-07-27T07:22:39.653Z"
   },
   {
    "duration": 23,
    "start_time": "2022-07-27T07:22:39.703Z"
   },
   {
    "duration": 3,
    "start_time": "2022-07-27T07:22:39.728Z"
   },
   {
    "duration": 20,
    "start_time": "2022-07-27T07:22:39.733Z"
   },
   {
    "duration": 11,
    "start_time": "2022-07-27T07:22:39.754Z"
   },
   {
    "duration": 39,
    "start_time": "2022-07-27T07:22:39.766Z"
   },
   {
    "duration": 244,
    "start_time": "2022-07-27T07:22:39.807Z"
   },
   {
    "duration": 200,
    "start_time": "2022-07-27T07:22:40.053Z"
   },
   {
    "duration": 242,
    "start_time": "2022-07-27T07:22:40.255Z"
   },
   {
    "duration": 626,
    "start_time": "2022-07-27T07:22:40.503Z"
   },
   {
    "duration": 17,
    "start_time": "2022-07-27T07:22:41.131Z"
   },
   {
    "duration": 2953,
    "start_time": "2022-07-27T07:22:41.151Z"
   },
   {
    "duration": 375,
    "start_time": "2022-07-27T07:22:44.105Z"
   },
   {
    "duration": 344,
    "start_time": "2022-07-27T07:22:44.482Z"
   },
   {
    "duration": 94,
    "start_time": "2022-07-27T07:22:44.828Z"
   },
   {
    "duration": 24,
    "start_time": "2022-07-27T07:22:44.924Z"
   },
   {
    "duration": 16,
    "start_time": "2022-07-27T07:22:44.950Z"
   },
   {
    "duration": 12,
    "start_time": "2022-07-27T07:26:02.934Z"
   },
   {
    "duration": 6,
    "start_time": "2022-07-27T07:26:04.657Z"
   },
   {
    "duration": 6,
    "start_time": "2022-07-27T07:26:16.402Z"
   },
   {
    "duration": 116,
    "start_time": "2022-07-27T07:26:17.523Z"
   },
   {
    "duration": 14,
    "start_time": "2022-07-27T07:26:27.327Z"
   },
   {
    "duration": 13,
    "start_time": "2022-07-27T07:26:49.188Z"
   },
   {
    "duration": 13,
    "start_time": "2022-07-27T07:27:12.785Z"
   },
   {
    "duration": 9,
    "start_time": "2022-07-27T07:30:28.814Z"
   },
   {
    "duration": 14,
    "start_time": "2022-07-27T07:30:30.652Z"
   },
   {
    "duration": 16,
    "start_time": "2022-07-27T07:30:31.443Z"
   },
   {
    "duration": 16,
    "start_time": "2022-07-27T07:30:32.218Z"
   },
   {
    "duration": 13,
    "start_time": "2022-07-27T07:30:55.031Z"
   },
   {
    "duration": 14,
    "start_time": "2022-07-27T07:32:58.584Z"
   },
   {
    "duration": 9,
    "start_time": "2022-07-27T07:33:00.039Z"
   },
   {
    "duration": 1345,
    "start_time": "2022-07-27T07:33:05.563Z"
   },
   {
    "duration": 101,
    "start_time": "2022-07-27T07:33:06.910Z"
   },
   {
    "duration": 44,
    "start_time": "2022-07-27T07:33:07.013Z"
   },
   {
    "duration": 47,
    "start_time": "2022-07-27T07:33:07.060Z"
   },
   {
    "duration": 21,
    "start_time": "2022-07-27T07:33:07.109Z"
   },
   {
    "duration": 36,
    "start_time": "2022-07-27T07:33:07.132Z"
   },
   {
    "duration": 35,
    "start_time": "2022-07-27T07:33:07.170Z"
   },
   {
    "duration": 6,
    "start_time": "2022-07-27T07:33:07.208Z"
   },
   {
    "duration": 252,
    "start_time": "2022-07-27T07:33:07.216Z"
   },
   {
    "duration": 172,
    "start_time": "2022-07-27T07:33:07.470Z"
   },
   {
    "duration": 228,
    "start_time": "2022-07-27T07:33:07.645Z"
   },
   {
    "duration": 621,
    "start_time": "2022-07-27T07:33:07.875Z"
   },
   {
    "duration": 20,
    "start_time": "2022-07-27T07:33:08.498Z"
   },
   {
    "duration": 2319,
    "start_time": "2022-07-27T07:33:08.521Z"
   },
   {
    "duration": 662,
    "start_time": "2022-07-27T07:33:10.842Z"
   },
   {
    "duration": 339,
    "start_time": "2022-07-27T07:33:11.506Z"
   },
   {
    "duration": 99,
    "start_time": "2022-07-27T07:33:11.847Z"
   },
   {
    "duration": 25,
    "start_time": "2022-07-27T07:33:11.948Z"
   },
   {
    "duration": 41,
    "start_time": "2022-07-27T07:33:11.975Z"
   },
   {
    "duration": 116,
    "start_time": "2022-07-27T07:38:10.485Z"
   },
   {
    "duration": 19,
    "start_time": "2022-07-27T07:38:24.591Z"
   },
   {
    "duration": 22,
    "start_time": "2022-07-27T07:38:31.981Z"
   },
   {
    "duration": 21,
    "start_time": "2022-07-27T07:42:27.518Z"
   },
   {
    "duration": 27,
    "start_time": "2022-07-27T07:43:45.182Z"
   },
   {
    "duration": 39,
    "start_time": "2022-07-27T07:43:48.960Z"
   },
   {
    "duration": 46,
    "start_time": "2022-07-27T07:44:45.842Z"
   },
   {
    "duration": 30,
    "start_time": "2022-07-27T07:44:50.205Z"
   },
   {
    "duration": 30,
    "start_time": "2022-07-27T07:45:44.035Z"
   },
   {
    "duration": 33,
    "start_time": "2022-07-27T07:45:49.770Z"
   },
   {
    "duration": 50,
    "start_time": "2022-07-27T07:46:27.483Z"
   },
   {
    "duration": 54,
    "start_time": "2022-07-27T07:48:30.362Z"
   },
   {
    "duration": 60,
    "start_time": "2022-07-27T07:54:14.671Z"
   },
   {
    "duration": 30,
    "start_time": "2022-07-27T08:06:35.517Z"
   },
   {
    "duration": 222,
    "start_time": "2022-07-27T08:06:46.995Z"
   },
   {
    "duration": 233,
    "start_time": "2022-07-27T08:07:04.462Z"
   },
   {
    "duration": 99,
    "start_time": "2022-07-27T09:56:57.861Z"
   },
   {
    "duration": 23,
    "start_time": "2022-07-27T09:57:00.833Z"
   },
   {
    "duration": 35,
    "start_time": "2022-07-27T09:57:28.125Z"
   },
   {
    "duration": 289,
    "start_time": "2022-07-27T09:57:37.809Z"
   },
   {
    "duration": 275,
    "start_time": "2022-07-27T09:57:53.877Z"
   },
   {
    "duration": 13,
    "start_time": "2022-07-27T09:58:27.166Z"
   },
   {
    "duration": 399,
    "start_time": "2022-07-27T09:58:44.543Z"
   },
   {
    "duration": 27,
    "start_time": "2022-07-27T09:59:08.047Z"
   },
   {
    "duration": 224,
    "start_time": "2022-07-27T09:59:14.813Z"
   },
   {
    "duration": 225,
    "start_time": "2022-07-27T09:59:44.238Z"
   },
   {
    "duration": 182,
    "start_time": "2022-07-27T09:59:54.383Z"
   },
   {
    "duration": 192,
    "start_time": "2022-07-27T10:52:45.035Z"
   },
   {
    "duration": 186,
    "start_time": "2022-07-27T10:53:19.075Z"
   },
   {
    "duration": 191,
    "start_time": "2022-07-27T10:55:32.872Z"
   },
   {
    "duration": 175,
    "start_time": "2022-07-27T10:55:48.259Z"
   },
   {
    "duration": 169,
    "start_time": "2022-07-27T10:55:59.768Z"
   },
   {
    "duration": 202,
    "start_time": "2022-07-27T10:56:21.390Z"
   },
   {
    "duration": 169,
    "start_time": "2022-07-27T10:56:58.797Z"
   },
   {
    "duration": 205,
    "start_time": "2022-07-27T10:57:31.241Z"
   },
   {
    "duration": 298,
    "start_time": "2022-07-27T10:57:42.077Z"
   },
   {
    "duration": 180,
    "start_time": "2022-07-27T10:58:10.270Z"
   },
   {
    "duration": 203,
    "start_time": "2022-07-27T10:59:26.876Z"
   },
   {
    "duration": 206,
    "start_time": "2022-07-27T11:00:32.525Z"
   },
   {
    "duration": 174,
    "start_time": "2022-07-27T11:00:50.921Z"
   },
   {
    "duration": 188,
    "start_time": "2022-07-27T11:00:58.681Z"
   },
   {
    "duration": 204,
    "start_time": "2022-07-27T11:02:07.083Z"
   },
   {
    "duration": 246,
    "start_time": "2022-07-27T11:03:05.942Z"
   },
   {
    "duration": 1664,
    "start_time": "2022-07-27T11:04:46.193Z"
   },
   {
    "duration": 248,
    "start_time": "2022-07-27T11:05:00.259Z"
   },
   {
    "duration": 2059,
    "start_time": "2022-07-27T11:05:09.324Z"
   },
   {
    "duration": 228,
    "start_time": "2022-07-27T11:05:23.219Z"
   },
   {
    "duration": 76,
    "start_time": "2022-07-27T13:11:05.792Z"
   },
   {
    "duration": 704,
    "start_time": "2022-07-27T13:11:11.620Z"
   },
   {
    "duration": 2650,
    "start_time": "2022-07-27T13:11:40.295Z"
   },
   {
    "duration": 14,
    "start_time": "2022-07-27T19:13:02.646Z"
   },
   {
    "duration": 23,
    "start_time": "2022-07-27T19:13:15.022Z"
   },
   {
    "duration": 23,
    "start_time": "2022-07-27T19:13:44.505Z"
   },
   {
    "duration": 212,
    "start_time": "2022-07-27T19:14:08.147Z"
   },
   {
    "duration": 257,
    "start_time": "2022-07-27T19:33:11.760Z"
   },
   {
    "duration": 242,
    "start_time": "2022-07-27T19:33:29.470Z"
   },
   {
    "duration": 1230,
    "start_time": "2022-07-27T19:33:51.951Z"
   },
   {
    "duration": 107,
    "start_time": "2022-07-27T19:33:53.183Z"
   },
   {
    "duration": 47,
    "start_time": "2022-07-27T19:33:53.292Z"
   },
   {
    "duration": 21,
    "start_time": "2022-07-27T19:33:53.342Z"
   },
   {
    "duration": 144,
    "start_time": "2022-07-27T19:33:53.365Z"
   },
   {
    "duration": 146,
    "start_time": "2022-07-27T19:33:53.510Z"
   },
   {
    "duration": 11,
    "start_time": "2022-07-27T19:33:53.658Z"
   },
   {
    "duration": 13,
    "start_time": "2022-07-27T19:33:53.672Z"
   },
   {
    "duration": 262,
    "start_time": "2022-07-27T19:33:53.686Z"
   },
   {
    "duration": 200,
    "start_time": "2022-07-27T19:33:53.950Z"
   },
   {
    "duration": 265,
    "start_time": "2022-07-27T19:33:54.152Z"
   },
   {
    "duration": 630,
    "start_time": "2022-07-27T19:33:54.419Z"
   },
   {
    "duration": 15,
    "start_time": "2022-07-27T19:33:55.052Z"
   },
   {
    "duration": 1320,
    "start_time": "2022-07-27T19:33:55.068Z"
   },
   {
    "duration": 408,
    "start_time": "2022-07-27T19:33:56.390Z"
   },
   {
    "duration": 349,
    "start_time": "2022-07-27T19:33:56.800Z"
   },
   {
    "duration": 113,
    "start_time": "2022-07-27T19:33:57.150Z"
   },
   {
    "duration": 42,
    "start_time": "2022-07-27T19:33:57.265Z"
   },
   {
    "duration": 229,
    "start_time": "2022-07-27T19:33:57.309Z"
   },
   {
    "duration": 279,
    "start_time": "2022-07-27T19:33:57.540Z"
   },
   {
    "duration": 139,
    "start_time": "2022-07-27T19:33:57.821Z"
   },
   {
    "duration": 14,
    "start_time": "2022-07-27T19:44:27.069Z"
   },
   {
    "duration": 454,
    "start_time": "2022-07-27T19:47:19.208Z"
   },
   {
    "duration": 265,
    "start_time": "2022-07-27T19:47:38.272Z"
   },
   {
    "duration": 228,
    "start_time": "2022-07-27T19:49:38.498Z"
   },
   {
    "duration": 11,
    "start_time": "2022-07-27T19:49:46.911Z"
   },
   {
    "duration": 29,
    "start_time": "2022-07-27T19:49:58.465Z"
   },
   {
    "duration": 1266,
    "start_time": "2022-07-27T19:50:28.370Z"
   },
   {
    "duration": 104,
    "start_time": "2022-07-27T19:50:29.638Z"
   },
   {
    "duration": 42,
    "start_time": "2022-07-27T19:50:29.744Z"
   },
   {
    "duration": 39,
    "start_time": "2022-07-27T19:50:29.788Z"
   },
   {
    "duration": 44,
    "start_time": "2022-07-27T19:50:29.829Z"
   },
   {
    "duration": 89,
    "start_time": "2022-07-27T19:50:29.875Z"
   },
   {
    "duration": 39,
    "start_time": "2022-07-27T19:50:29.966Z"
   },
   {
    "duration": 7,
    "start_time": "2022-07-27T19:50:30.006Z"
   },
   {
    "duration": 281,
    "start_time": "2022-07-27T19:50:30.014Z"
   },
   {
    "duration": 225,
    "start_time": "2022-07-27T19:50:30.297Z"
   },
   {
    "duration": 259,
    "start_time": "2022-07-27T19:50:30.527Z"
   },
   {
    "duration": 665,
    "start_time": "2022-07-27T19:50:30.790Z"
   },
   {
    "duration": 20,
    "start_time": "2022-07-27T19:50:31.458Z"
   },
   {
    "duration": 2645,
    "start_time": "2022-07-27T19:50:31.480Z"
   },
   {
    "duration": 470,
    "start_time": "2022-07-27T19:50:34.127Z"
   },
   {
    "duration": 339,
    "start_time": "2022-07-27T19:50:34.599Z"
   },
   {
    "duration": 102,
    "start_time": "2022-07-27T19:50:34.940Z"
   },
   {
    "duration": 33,
    "start_time": "2022-07-27T19:50:35.043Z"
   },
   {
    "duration": 241,
    "start_time": "2022-07-27T19:50:35.079Z"
   },
   {
    "duration": 260,
    "start_time": "2022-07-27T19:50:35.322Z"
   },
   {
    "duration": 19,
    "start_time": "2022-07-27T19:50:35.584Z"
   },
   {
    "duration": 1438,
    "start_time": "2022-07-27T19:50:35.605Z"
   },
   {
    "duration": 0,
    "start_time": "2022-07-27T19:50:37.046Z"
   },
   {
    "duration": 11,
    "start_time": "2022-07-27T20:12:09.904Z"
   },
   {
    "duration": 6,
    "start_time": "2022-07-27T20:13:59.536Z"
   },
   {
    "duration": 6,
    "start_time": "2022-07-27T20:14:10.105Z"
   },
   {
    "duration": 5,
    "start_time": "2022-07-27T20:14:17.865Z"
   },
   {
    "duration": 5,
    "start_time": "2022-07-27T20:15:33.614Z"
   },
   {
    "duration": 5,
    "start_time": "2022-07-27T20:15:42.883Z"
   },
   {
    "duration": 20,
    "start_time": "2022-07-27T20:19:10.973Z"
   },
   {
    "duration": 14,
    "start_time": "2022-07-27T20:23:32.935Z"
   },
   {
    "duration": 13,
    "start_time": "2022-07-27T20:23:43.975Z"
   },
   {
    "duration": 23,
    "start_time": "2022-07-27T20:24:15.136Z"
   },
   {
    "duration": 18,
    "start_time": "2022-07-27T20:34:17.752Z"
   },
   {
    "duration": 22,
    "start_time": "2022-07-27T20:34:50.427Z"
   },
   {
    "duration": 31,
    "start_time": "2022-07-27T20:35:00.832Z"
   },
   {
    "duration": 24,
    "start_time": "2022-07-27T20:35:10.862Z"
   },
   {
    "duration": 28,
    "start_time": "2022-07-27T20:35:16.094Z"
   },
   {
    "duration": 22,
    "start_time": "2022-07-27T20:36:29.754Z"
   },
   {
    "duration": 2589,
    "start_time": "2022-07-27T20:38:24.769Z"
   },
   {
    "duration": 345,
    "start_time": "2022-07-27T20:38:42.781Z"
   },
   {
    "duration": 164,
    "start_time": "2022-07-27T20:39:33.830Z"
   },
   {
    "duration": 1603,
    "start_time": "2022-07-27T20:40:14.561Z"
   },
   {
    "duration": 110,
    "start_time": "2022-07-27T20:40:16.168Z"
   },
   {
    "duration": 55,
    "start_time": "2022-07-27T20:40:16.280Z"
   },
   {
    "duration": 22,
    "start_time": "2022-07-27T20:40:16.337Z"
   },
   {
    "duration": 71,
    "start_time": "2022-07-27T20:40:16.361Z"
   },
   {
    "duration": 78,
    "start_time": "2022-07-27T20:40:16.434Z"
   },
   {
    "duration": 17,
    "start_time": "2022-07-27T20:40:16.515Z"
   },
   {
    "duration": 10,
    "start_time": "2022-07-27T20:40:16.534Z"
   },
   {
    "duration": 288,
    "start_time": "2022-07-27T20:40:16.546Z"
   },
   {
    "duration": 208,
    "start_time": "2022-07-27T20:40:16.837Z"
   },
   {
    "duration": 252,
    "start_time": "2022-07-27T20:40:17.047Z"
   },
   {
    "duration": 646,
    "start_time": "2022-07-27T20:40:17.301Z"
   },
   {
    "duration": 16,
    "start_time": "2022-07-27T20:40:17.949Z"
   },
   {
    "duration": 1373,
    "start_time": "2022-07-27T20:40:17.966Z"
   },
   {
    "duration": 378,
    "start_time": "2022-07-27T20:40:19.342Z"
   },
   {
    "duration": 361,
    "start_time": "2022-07-27T20:40:19.722Z"
   },
   {
    "duration": 138,
    "start_time": "2022-07-27T20:40:20.085Z"
   },
   {
    "duration": 34,
    "start_time": "2022-07-27T20:40:20.225Z"
   },
   {
    "duration": 327,
    "start_time": "2022-07-27T20:40:20.261Z"
   },
   {
    "duration": 278,
    "start_time": "2022-07-27T20:40:20.590Z"
   },
   {
    "duration": 28,
    "start_time": "2022-07-27T20:40:20.870Z"
   },
   {
    "duration": 8,
    "start_time": "2022-07-27T20:40:20.901Z"
   },
   {
    "duration": 26,
    "start_time": "2022-07-27T20:40:20.917Z"
   },
   {
    "duration": 20,
    "start_time": "2022-07-27T20:40:20.945Z"
   },
   {
    "duration": 20,
    "start_time": "2022-07-27T20:40:20.967Z"
   },
   {
    "duration": 188,
    "start_time": "2022-07-27T20:40:20.989Z"
   },
   {
    "duration": 1330,
    "start_time": "2022-07-27T20:51:07.585Z"
   },
   {
    "duration": 109,
    "start_time": "2022-07-27T20:51:08.922Z"
   },
   {
    "duration": 47,
    "start_time": "2022-07-27T20:51:09.036Z"
   },
   {
    "duration": 49,
    "start_time": "2022-07-27T20:51:09.085Z"
   },
   {
    "duration": 46,
    "start_time": "2022-07-27T20:51:09.136Z"
   },
   {
    "duration": 83,
    "start_time": "2022-07-27T20:51:09.184Z"
   },
   {
    "duration": 10,
    "start_time": "2022-07-27T20:51:09.269Z"
   },
   {
    "duration": 5,
    "start_time": "2022-07-27T20:51:09.282Z"
   },
   {
    "duration": 262,
    "start_time": "2022-07-27T20:51:09.306Z"
   },
   {
    "duration": 208,
    "start_time": "2022-07-27T20:51:09.572Z"
   },
   {
    "duration": 257,
    "start_time": "2022-07-27T20:51:09.783Z"
   },
   {
    "duration": 696,
    "start_time": "2022-07-27T20:51:10.042Z"
   },
   {
    "duration": 15,
    "start_time": "2022-07-27T20:51:10.740Z"
   },
   {
    "duration": 1356,
    "start_time": "2022-07-27T20:51:10.757Z"
   },
   {
    "duration": 382,
    "start_time": "2022-07-27T20:51:12.115Z"
   },
   {
    "duration": 380,
    "start_time": "2022-07-27T20:51:12.499Z"
   },
   {
    "duration": 111,
    "start_time": "2022-07-27T20:51:12.881Z"
   },
   {
    "duration": 34,
    "start_time": "2022-07-27T20:51:13.008Z"
   },
   {
    "duration": 236,
    "start_time": "2022-07-27T20:51:13.044Z"
   },
   {
    "duration": 299,
    "start_time": "2022-07-27T20:51:13.282Z"
   },
   {
    "duration": 28,
    "start_time": "2022-07-27T20:51:13.584Z"
   },
   {
    "duration": 5,
    "start_time": "2022-07-27T20:51:13.617Z"
   },
   {
    "duration": 25,
    "start_time": "2022-07-27T20:51:13.624Z"
   },
   {
    "duration": 17,
    "start_time": "2022-07-27T20:51:13.651Z"
   },
   {
    "duration": 19,
    "start_time": "2022-07-27T20:51:13.670Z"
   },
   {
    "duration": 183,
    "start_time": "2022-07-27T20:51:13.691Z"
   },
   {
    "duration": 1606,
    "start_time": "2022-07-27T20:54:08.255Z"
   },
   {
    "duration": 233,
    "start_time": "2022-07-27T20:54:50.776Z"
   },
   {
    "duration": 2605,
    "start_time": "2022-07-27T20:55:00.777Z"
   },
   {
    "duration": 1363,
    "start_time": "2022-07-27T20:55:09.627Z"
   },
   {
    "duration": 136,
    "start_time": "2022-07-27T20:55:10.993Z"
   },
   {
    "duration": 46,
    "start_time": "2022-07-27T20:55:11.133Z"
   },
   {
    "duration": 37,
    "start_time": "2022-07-27T20:55:11.181Z"
   },
   {
    "duration": 53,
    "start_time": "2022-07-27T20:55:11.221Z"
   },
   {
    "duration": 145,
    "start_time": "2022-07-27T20:55:11.276Z"
   },
   {
    "duration": 30,
    "start_time": "2022-07-27T20:55:11.431Z"
   },
   {
    "duration": 48,
    "start_time": "2022-07-27T20:55:11.464Z"
   },
   {
    "duration": 726,
    "start_time": "2022-07-27T20:55:11.518Z"
   },
   {
    "duration": 565,
    "start_time": "2022-07-27T20:55:12.245Z"
   },
   {
    "duration": 630,
    "start_time": "2022-07-27T20:55:12.813Z"
   },
   {
    "duration": 1074,
    "start_time": "2022-07-27T20:55:13.445Z"
   },
   {
    "duration": 22,
    "start_time": "2022-07-27T20:55:14.521Z"
   },
   {
    "duration": 1426,
    "start_time": "2022-07-27T20:55:14.546Z"
   },
   {
    "duration": 386,
    "start_time": "2022-07-27T20:55:15.974Z"
   },
   {
    "duration": 416,
    "start_time": "2022-07-27T20:55:16.362Z"
   },
   {
    "duration": 128,
    "start_time": "2022-07-27T20:55:16.781Z"
   },
   {
    "duration": 32,
    "start_time": "2022-07-27T20:55:16.911Z"
   },
   {
    "duration": 242,
    "start_time": "2022-07-27T20:55:16.945Z"
   },
   {
    "duration": 299,
    "start_time": "2022-07-27T20:55:17.190Z"
   },
   {
    "duration": 36,
    "start_time": "2022-07-27T20:55:17.491Z"
   },
   {
    "duration": 68,
    "start_time": "2022-07-27T20:55:17.529Z"
   },
   {
    "duration": 79,
    "start_time": "2022-07-27T20:55:17.599Z"
   },
   {
    "duration": 79,
    "start_time": "2022-07-27T20:55:17.680Z"
   },
   {
    "duration": 89,
    "start_time": "2022-07-27T20:55:17.761Z"
   },
   {
    "duration": 194,
    "start_time": "2022-07-27T20:55:17.852Z"
   },
   {
    "duration": 1316,
    "start_time": "2022-07-27T20:55:57.346Z"
   },
   {
    "duration": 167,
    "start_time": "2022-07-27T20:55:58.665Z"
   },
   {
    "duration": 99,
    "start_time": "2022-07-27T20:55:58.834Z"
   },
   {
    "duration": 78,
    "start_time": "2022-07-27T20:55:58.936Z"
   },
   {
    "duration": 103,
    "start_time": "2022-07-27T20:55:59.017Z"
   },
   {
    "duration": 117,
    "start_time": "2022-07-27T20:55:59.121Z"
   },
   {
    "duration": 68,
    "start_time": "2022-07-27T20:55:59.240Z"
   },
   {
    "duration": 31,
    "start_time": "2022-07-27T20:55:59.310Z"
   },
   {
    "duration": 599,
    "start_time": "2022-07-27T20:55:59.343Z"
   },
   {
    "duration": 490,
    "start_time": "2022-07-27T20:55:59.947Z"
   },
   {
    "duration": 591,
    "start_time": "2022-07-27T20:56:00.441Z"
   },
   {
    "duration": 864,
    "start_time": "2022-07-27T20:56:01.035Z"
   },
   {
    "duration": 21,
    "start_time": "2022-07-27T20:56:01.901Z"
   },
   {
    "duration": 1468,
    "start_time": "2022-07-27T20:56:01.925Z"
   },
   {
    "duration": 378,
    "start_time": "2022-07-27T20:56:03.395Z"
   },
   {
    "duration": 368,
    "start_time": "2022-07-27T20:56:03.775Z"
   },
   {
    "duration": 124,
    "start_time": "2022-07-27T20:56:04.146Z"
   },
   {
    "duration": 44,
    "start_time": "2022-07-27T20:56:04.272Z"
   },
   {
    "duration": 241,
    "start_time": "2022-07-27T20:56:04.318Z"
   },
   {
    "duration": 260,
    "start_time": "2022-07-27T20:56:04.561Z"
   },
   {
    "duration": 29,
    "start_time": "2022-07-27T20:56:04.823Z"
   },
   {
    "duration": 4,
    "start_time": "2022-07-27T20:56:04.854Z"
   },
   {
    "duration": 19,
    "start_time": "2022-07-27T20:56:04.860Z"
   },
   {
    "duration": 46,
    "start_time": "2022-07-27T20:56:04.880Z"
   },
   {
    "duration": 21,
    "start_time": "2022-07-27T20:56:04.927Z"
   },
   {
    "duration": 193,
    "start_time": "2022-07-27T20:56:04.949Z"
   },
   {
    "duration": 1041,
    "start_time": "2022-07-27T21:52:51.822Z"
   },
   {
    "duration": 84,
    "start_time": "2022-07-27T21:52:52.865Z"
   },
   {
    "duration": 35,
    "start_time": "2022-07-27T21:52:52.951Z"
   },
   {
    "duration": 17,
    "start_time": "2022-07-27T21:52:52.988Z"
   },
   {
    "duration": 53,
    "start_time": "2022-07-27T21:52:53.007Z"
   },
   {
    "duration": 42,
    "start_time": "2022-07-27T21:52:53.062Z"
   },
   {
    "duration": 9,
    "start_time": "2022-07-27T21:52:53.106Z"
   },
   {
    "duration": 5,
    "start_time": "2022-07-27T21:52:53.116Z"
   },
   {
    "duration": 213,
    "start_time": "2022-07-27T21:52:53.122Z"
   },
   {
    "duration": 150,
    "start_time": "2022-07-27T21:52:53.337Z"
   },
   {
    "duration": 200,
    "start_time": "2022-07-27T21:52:53.489Z"
   },
   {
    "duration": 502,
    "start_time": "2022-07-27T21:52:53.691Z"
   },
   {
    "duration": 13,
    "start_time": "2022-07-27T21:52:54.194Z"
   },
   {
    "duration": 1114,
    "start_time": "2022-07-27T21:52:54.209Z"
   },
   {
    "duration": 285,
    "start_time": "2022-07-27T21:52:55.324Z"
   },
   {
    "duration": 272,
    "start_time": "2022-07-27T21:52:55.611Z"
   },
   {
    "duration": 84,
    "start_time": "2022-07-27T21:52:55.884Z"
   },
   {
    "duration": 18,
    "start_time": "2022-07-27T21:52:55.969Z"
   },
   {
    "duration": 182,
    "start_time": "2022-07-27T21:52:55.988Z"
   },
   {
    "duration": 183,
    "start_time": "2022-07-27T21:52:56.171Z"
   },
   {
    "duration": 20,
    "start_time": "2022-07-27T21:52:56.356Z"
   },
   {
    "duration": 4,
    "start_time": "2022-07-27T21:52:56.378Z"
   },
   {
    "duration": 22,
    "start_time": "2022-07-27T21:52:56.384Z"
   },
   {
    "duration": 16,
    "start_time": "2022-07-27T21:52:56.407Z"
   },
   {
    "duration": 16,
    "start_time": "2022-07-27T21:52:56.424Z"
   },
   {
    "duration": 135,
    "start_time": "2022-07-27T21:52:56.461Z"
   },
   {
    "duration": 13,
    "start_time": "2022-07-27T21:54:10.321Z"
   },
   {
    "duration": 17,
    "start_time": "2022-07-27T21:54:36.132Z"
   }
  ],
  "kernelspec": {
   "display_name": "Python 3 (ipykernel)",
   "language": "python",
   "name": "python3"
  },
  "language_info": {
   "codemirror_mode": {
    "name": "ipython",
    "version": 3
   },
   "file_extension": ".py",
   "mimetype": "text/x-python",
   "name": "python",
   "nbconvert_exporter": "python",
   "pygments_lexer": "ipython3",
   "version": "3.9.7"
  },
  "toc": {
   "base_numbering": 1,
   "nav_menu": {},
   "number_sections": true,
   "sideBar": true,
   "skip_h1_title": true,
   "title_cell": "Table of Contents",
   "title_sidebar": "Contents",
   "toc_cell": false,
   "toc_position": {},
   "toc_section_display": true,
   "toc_window_display": true
  }
 },
 "nbformat": 4,
 "nbformat_minor": 2
}
