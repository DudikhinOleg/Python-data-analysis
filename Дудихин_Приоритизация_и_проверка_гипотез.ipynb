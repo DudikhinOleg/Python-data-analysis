{
 "cells": [
  {
   "cell_type": "markdown",
   "metadata": {},
   "source": [
    "# Приоритизация и проверка гипотез для интернет-магазина\n",
    "<h1>Цели и задачи</h1>\n",
    "Приоритизировать и проверить гипотезы по увеличению выручки для интернет-магазина. В ходе проритизации гипотез будем использовать подходы ICE и RICE. Для анализа результата А/В теста определим кумулятивные средние выручки, конверсии, средние чеки по группам, аналогично по количеству и стоимостям заказов. о результатам теста определим либо превосходство одной группы, либо равенство двух групп, либо примем решение продолжить тест.   \n",
    "<h1>Исходные данные</h1>\n",
    "В качестве исходных данных для приоритизации гипотез предоставлен файл с 9 гипотезами по увеличению выручки интернет-магазина с указанными параметрами Reach, Impact, Confidence, Effort.\n",
    "<br>Для проведения анализа А/В теста даны 2 файла, содержащие результаты теста отдельно по посетителям и по заказам.\n",
    "<h2>Анализ и подготовка данных</h2>\n",
    "Загрузим необходимые для выполнения работы библиотеки:"
   ]
  },
  {
   "cell_type": "code",
   "execution_count": 1,
   "metadata": {},
   "outputs": [],
   "source": [
    "#библиотеки\n",
    "import pandas as pd\n",
    "from datetime import datetime,timedelta as dt\n",
    "import scipy.stats as stats\n",
    "from matplotlib import pyplot as plt\n",
    "import numpy as np\n",
    "from pandas.plotting import register_matplotlib_converters\n",
    "import warnings"
   ]
  },
  {
   "cell_type": "markdown",
   "metadata": {},
   "source": [
    "Прочитаем исходные файлы и выведем информацию по каждому из них"
   ]
  },
  {
   "cell_type": "code",
   "execution_count": 2,
   "metadata": {},
   "outputs": [
    {
     "name": "stdout",
     "output_type": "stream",
     "text": [
      "<class 'pandas.core.frame.DataFrame'>\n",
      "RangeIndex: 9 entries, 0 to 8\n",
      "Data columns (total 5 columns):\n",
      " #   Column      Non-Null Count  Dtype \n",
      "---  ------      --------------  ----- \n",
      " 0   Hypothesis  9 non-null      object\n",
      " 1   Reach       9 non-null      int64 \n",
      " 2   Impact      9 non-null      int64 \n",
      " 3   Confidence  9 non-null      int64 \n",
      " 4   Efforts     9 non-null      int64 \n",
      "dtypes: int64(4), object(1)\n",
      "memory usage: 488.0+ bytes\n",
      "<class 'pandas.core.frame.DataFrame'>\n",
      "RangeIndex: 1197 entries, 0 to 1196\n",
      "Data columns (total 5 columns):\n",
      " #   Column         Non-Null Count  Dtype \n",
      "---  ------         --------------  ----- \n",
      " 0   transactionId  1197 non-null   int64 \n",
      " 1   visitorId      1197 non-null   int64 \n",
      " 2   date           1197 non-null   object\n",
      " 3   revenue        1197 non-null   int64 \n",
      " 4   group          1197 non-null   object\n",
      "dtypes: int64(3), object(2)\n",
      "memory usage: 46.9+ KB\n",
      "<class 'pandas.core.frame.DataFrame'>\n",
      "RangeIndex: 62 entries, 0 to 61\n",
      "Data columns (total 3 columns):\n",
      " #   Column    Non-Null Count  Dtype \n",
      "---  ------    --------------  ----- \n",
      " 0   date      62 non-null     object\n",
      " 1   group     62 non-null     object\n",
      " 2   visitors  62 non-null     int64 \n",
      "dtypes: int64(1), object(2)\n",
      "memory usage: 1.6+ KB\n"
     ]
    },
    {
     "data": {
      "text/plain": [
       "None"
      ]
     },
     "metadata": {},
     "output_type": "display_data"
    },
    {
     "data": {
      "text/plain": [
       "None"
      ]
     },
     "metadata": {},
     "output_type": "display_data"
    },
    {
     "data": {
      "text/plain": [
       "None"
      ]
     },
     "metadata": {},
     "output_type": "display_data"
    }
   ],
   "source": [
    "hypothesis=pd.read_csv('/datasets/hypothesis.csv')\n",
    "orders=pd.read_csv('/datasets/orders.csv')\n",
    "visitors=pd.read_csv('/datasets/visitors.csv')\n",
    "display(hypothesis.info(),orders.info(),visitors.info())"
   ]
  },
  {
   "cell_type": "markdown",
   "metadata": {},
   "source": [
    "Преобразуем названия столбцов в \"змеиный\" регистр и поменяем формат у столбцов, содержащих дату:"
   ]
  },
  {
   "cell_type": "code",
   "execution_count": 3,
   "metadata": {},
   "outputs": [
    {
     "data": {
      "text/html": [
       "<div>\n",
       "<style scoped>\n",
       "    .dataframe tbody tr th:only-of-type {\n",
       "        vertical-align: middle;\n",
       "    }\n",
       "\n",
       "    .dataframe tbody tr th {\n",
       "        vertical-align: top;\n",
       "    }\n",
       "\n",
       "    .dataframe thead th {\n",
       "        text-align: right;\n",
       "    }\n",
       "</style>\n",
       "<table border=\"1\" class=\"dataframe\">\n",
       "  <thead>\n",
       "    <tr style=\"text-align: right;\">\n",
       "      <th></th>\n",
       "      <th>hypothesis</th>\n",
       "      <th>reach</th>\n",
       "      <th>impact</th>\n",
       "      <th>confidence</th>\n",
       "      <th>efforts</th>\n",
       "    </tr>\n",
       "  </thead>\n",
       "  <tbody>\n",
       "    <tr>\n",
       "      <th>0</th>\n",
       "      <td>Добавить два новых канала привлечения трафика,...</td>\n",
       "      <td>3</td>\n",
       "      <td>10</td>\n",
       "      <td>8</td>\n",
       "      <td>6</td>\n",
       "    </tr>\n",
       "    <tr>\n",
       "      <th>1</th>\n",
       "      <td>Запустить собственную службу доставки, что сок...</td>\n",
       "      <td>2</td>\n",
       "      <td>5</td>\n",
       "      <td>4</td>\n",
       "      <td>10</td>\n",
       "    </tr>\n",
       "    <tr>\n",
       "      <th>2</th>\n",
       "      <td>Добавить блоки рекомендаций товаров на сайт ин...</td>\n",
       "      <td>8</td>\n",
       "      <td>3</td>\n",
       "      <td>7</td>\n",
       "      <td>3</td>\n",
       "    </tr>\n",
       "    <tr>\n",
       "      <th>3</th>\n",
       "      <td>Изменить структура категорий, что увеличит кон...</td>\n",
       "      <td>8</td>\n",
       "      <td>3</td>\n",
       "      <td>3</td>\n",
       "      <td>8</td>\n",
       "    </tr>\n",
       "    <tr>\n",
       "      <th>4</th>\n",
       "      <td>Изменить цвет фона главной страницы, чтобы уве...</td>\n",
       "      <td>3</td>\n",
       "      <td>1</td>\n",
       "      <td>1</td>\n",
       "      <td>1</td>\n",
       "    </tr>\n",
       "  </tbody>\n",
       "</table>\n",
       "</div>"
      ],
      "text/plain": [
       "                                          hypothesis  reach  impact  \\\n",
       "0  Добавить два новых канала привлечения трафика,...      3      10   \n",
       "1  Запустить собственную службу доставки, что сок...      2       5   \n",
       "2  Добавить блоки рекомендаций товаров на сайт ин...      8       3   \n",
       "3  Изменить структура категорий, что увеличит кон...      8       3   \n",
       "4  Изменить цвет фона главной страницы, чтобы уве...      3       1   \n",
       "\n",
       "   confidence  efforts  \n",
       "0           8        6  \n",
       "1           4       10  \n",
       "2           7        3  \n",
       "3           3        8  \n",
       "4           1        1  "
      ]
     },
     "metadata": {},
     "output_type": "display_data"
    },
    {
     "data": {
      "text/html": [
       "<div>\n",
       "<style scoped>\n",
       "    .dataframe tbody tr th:only-of-type {\n",
       "        vertical-align: middle;\n",
       "    }\n",
       "\n",
       "    .dataframe tbody tr th {\n",
       "        vertical-align: top;\n",
       "    }\n",
       "\n",
       "    .dataframe thead th {\n",
       "        text-align: right;\n",
       "    }\n",
       "</style>\n",
       "<table border=\"1\" class=\"dataframe\">\n",
       "  <thead>\n",
       "    <tr style=\"text-align: right;\">\n",
       "      <th></th>\n",
       "      <th>transaction_id</th>\n",
       "      <th>visitor_id</th>\n",
       "      <th>date</th>\n",
       "      <th>revenue</th>\n",
       "      <th>group</th>\n",
       "    </tr>\n",
       "  </thead>\n",
       "  <tbody>\n",
       "    <tr>\n",
       "      <th>0</th>\n",
       "      <td>3667963787</td>\n",
       "      <td>3312258926</td>\n",
       "      <td>2019-08-15</td>\n",
       "      <td>1650</td>\n",
       "      <td>B</td>\n",
       "    </tr>\n",
       "    <tr>\n",
       "      <th>1</th>\n",
       "      <td>2804400009</td>\n",
       "      <td>3642806036</td>\n",
       "      <td>2019-08-15</td>\n",
       "      <td>730</td>\n",
       "      <td>B</td>\n",
       "    </tr>\n",
       "    <tr>\n",
       "      <th>2</th>\n",
       "      <td>2961555356</td>\n",
       "      <td>4069496402</td>\n",
       "      <td>2019-08-15</td>\n",
       "      <td>400</td>\n",
       "      <td>A</td>\n",
       "    </tr>\n",
       "    <tr>\n",
       "      <th>3</th>\n",
       "      <td>3797467345</td>\n",
       "      <td>1196621759</td>\n",
       "      <td>2019-08-15</td>\n",
       "      <td>9759</td>\n",
       "      <td>B</td>\n",
       "    </tr>\n",
       "    <tr>\n",
       "      <th>4</th>\n",
       "      <td>2282983706</td>\n",
       "      <td>2322279887</td>\n",
       "      <td>2019-08-15</td>\n",
       "      <td>2308</td>\n",
       "      <td>B</td>\n",
       "    </tr>\n",
       "  </tbody>\n",
       "</table>\n",
       "</div>"
      ],
      "text/plain": [
       "   transaction_id  visitor_id       date  revenue group\n",
       "0      3667963787  3312258926 2019-08-15     1650     B\n",
       "1      2804400009  3642806036 2019-08-15      730     B\n",
       "2      2961555356  4069496402 2019-08-15      400     A\n",
       "3      3797467345  1196621759 2019-08-15     9759     B\n",
       "4      2282983706  2322279887 2019-08-15     2308     B"
      ]
     },
     "metadata": {},
     "output_type": "display_data"
    },
    {
     "data": {
      "text/html": [
       "<div>\n",
       "<style scoped>\n",
       "    .dataframe tbody tr th:only-of-type {\n",
       "        vertical-align: middle;\n",
       "    }\n",
       "\n",
       "    .dataframe tbody tr th {\n",
       "        vertical-align: top;\n",
       "    }\n",
       "\n",
       "    .dataframe thead th {\n",
       "        text-align: right;\n",
       "    }\n",
       "</style>\n",
       "<table border=\"1\" class=\"dataframe\">\n",
       "  <thead>\n",
       "    <tr style=\"text-align: right;\">\n",
       "      <th></th>\n",
       "      <th>date</th>\n",
       "      <th>group</th>\n",
       "      <th>visitors</th>\n",
       "    </tr>\n",
       "  </thead>\n",
       "  <tbody>\n",
       "    <tr>\n",
       "      <th>0</th>\n",
       "      <td>2019-08-01</td>\n",
       "      <td>A</td>\n",
       "      <td>719</td>\n",
       "    </tr>\n",
       "    <tr>\n",
       "      <th>1</th>\n",
       "      <td>2019-08-02</td>\n",
       "      <td>A</td>\n",
       "      <td>619</td>\n",
       "    </tr>\n",
       "    <tr>\n",
       "      <th>2</th>\n",
       "      <td>2019-08-03</td>\n",
       "      <td>A</td>\n",
       "      <td>507</td>\n",
       "    </tr>\n",
       "    <tr>\n",
       "      <th>3</th>\n",
       "      <td>2019-08-04</td>\n",
       "      <td>A</td>\n",
       "      <td>717</td>\n",
       "    </tr>\n",
       "    <tr>\n",
       "      <th>4</th>\n",
       "      <td>2019-08-05</td>\n",
       "      <td>A</td>\n",
       "      <td>756</td>\n",
       "    </tr>\n",
       "  </tbody>\n",
       "</table>\n",
       "</div>"
      ],
      "text/plain": [
       "        date group  visitors\n",
       "0 2019-08-01     A       719\n",
       "1 2019-08-02     A       619\n",
       "2 2019-08-03     A       507\n",
       "3 2019-08-04     A       717\n",
       "4 2019-08-05     A       756"
      ]
     },
     "metadata": {},
     "output_type": "display_data"
    }
   ],
   "source": [
    "#датасет hypothesis\n",
    "hypothesis = hypothesis.rename(\n",
    "columns={\n",
    "'Hypothesis': 'hypothesis',\n",
    "'Reach': 'reach',\n",
    "'Impact': 'impact',\n",
    "'Confidence': 'confidence',\n",
    "'Efforts': 'efforts',\n",
    "}\n",
    ")\n",
    "display(hypothesis.head())\n",
    "\n",
    "#датасет orders\n",
    "orders = orders.rename(\n",
    "columns={\n",
    "'transactionId': 'transaction_id',\n",
    "'visitorId': 'visitor_id',\n",
    "}\n",
    ")\n",
    "orders['date'] = pd.to_datetime(orders['date'])\n",
    "display(orders.head())\n",
    "\n",
    "#датасет visitors\n",
    "visitors['date'] = pd.to_datetime(visitors['date'])\n",
    "display(visitors.head())"
   ]
  },
  {
   "cell_type": "markdown",
   "metadata": {},
   "source": [
    "<h3>Проверка явных и неявных дубликатов</h3>\n",
    "Уберем явные дубликаты по каждому датафрейму"
   ]
  },
  {
   "cell_type": "code",
   "execution_count": 4,
   "metadata": {},
   "outputs": [
    {
     "name": "stdout",
     "output_type": "stream",
     "text": [
      "0\n",
      "0\n",
      "0\n"
     ]
    }
   ],
   "source": [
    "print(hypothesis.duplicated().sum())\n",
    "hypothesis = hypothesis.drop_duplicates().reset_index(drop=True)\n",
    "\n",
    "print(orders.duplicated().sum())\n",
    "orders = orders.drop_duplicates().reset_index(drop=True)\n",
    "\n",
    "print(visitors.duplicated().sum())\n",
    "visitors = visitors.drop_duplicates().reset_index(drop=True)"
   ]
  },
  {
   "cell_type": "markdown",
   "metadata": {},
   "source": [
    "Явные дубликаты в датасетах отсутствуют. Неявных также быть не может, исходя из структуры предоставленных данных. Предварительная обработка данных закончена."
   ]
  },
  {
   "cell_type": "markdown",
   "metadata": {},
   "source": [
    "<h2>приоритизация гипотез</h2>\n",
    "<h3>Приоритизация с помощью фреймворка ICE</h3>\n",
    "Для приоритизации посредством ICE найдем произведение метрик Impact, Confidence и разделим его на Efforts, запишем его в столбец ICE и упорядочим по убыванию этого показателя:"
   ]
  },
  {
   "cell_type": "code",
   "execution_count": 5,
   "metadata": {},
   "outputs": [
    {
     "data": {
      "text/html": [
       "<div>\n",
       "<style scoped>\n",
       "    .dataframe tbody tr th:only-of-type {\n",
       "        vertical-align: middle;\n",
       "    }\n",
       "\n",
       "    .dataframe tbody tr th {\n",
       "        vertical-align: top;\n",
       "    }\n",
       "\n",
       "    .dataframe thead th {\n",
       "        text-align: right;\n",
       "    }\n",
       "</style>\n",
       "<table border=\"1\" class=\"dataframe\">\n",
       "  <thead>\n",
       "    <tr style=\"text-align: right;\">\n",
       "      <th></th>\n",
       "      <th>hypothesis</th>\n",
       "      <th>reach</th>\n",
       "      <th>impact</th>\n",
       "      <th>confidence</th>\n",
       "      <th>efforts</th>\n",
       "      <th>ICE</th>\n",
       "    </tr>\n",
       "  </thead>\n",
       "  <tbody>\n",
       "    <tr>\n",
       "      <th>8</th>\n",
       "      <td>Запустить акцию, дающую скидку на товар в день...</td>\n",
       "      <td>1</td>\n",
       "      <td>9</td>\n",
       "      <td>9</td>\n",
       "      <td>5</td>\n",
       "      <td>16.200000</td>\n",
       "    </tr>\n",
       "    <tr>\n",
       "      <th>0</th>\n",
       "      <td>Добавить два новых канала привлечения трафика,...</td>\n",
       "      <td>3</td>\n",
       "      <td>10</td>\n",
       "      <td>8</td>\n",
       "      <td>6</td>\n",
       "      <td>13.333333</td>\n",
       "    </tr>\n",
       "    <tr>\n",
       "      <th>7</th>\n",
       "      <td>Добавить форму подписки на все основные страни...</td>\n",
       "      <td>10</td>\n",
       "      <td>7</td>\n",
       "      <td>8</td>\n",
       "      <td>5</td>\n",
       "      <td>11.200000</td>\n",
       "    </tr>\n",
       "    <tr>\n",
       "      <th>6</th>\n",
       "      <td>Показать на главной странице баннеры с актуаль...</td>\n",
       "      <td>5</td>\n",
       "      <td>3</td>\n",
       "      <td>8</td>\n",
       "      <td>3</td>\n",
       "      <td>8.000000</td>\n",
       "    </tr>\n",
       "    <tr>\n",
       "      <th>2</th>\n",
       "      <td>Добавить блоки рекомендаций товаров на сайт ин...</td>\n",
       "      <td>8</td>\n",
       "      <td>3</td>\n",
       "      <td>7</td>\n",
       "      <td>3</td>\n",
       "      <td>7.000000</td>\n",
       "    </tr>\n",
       "    <tr>\n",
       "      <th>1</th>\n",
       "      <td>Запустить собственную службу доставки, что сок...</td>\n",
       "      <td>2</td>\n",
       "      <td>5</td>\n",
       "      <td>4</td>\n",
       "      <td>10</td>\n",
       "      <td>2.000000</td>\n",
       "    </tr>\n",
       "    <tr>\n",
       "      <th>5</th>\n",
       "      <td>Добавить страницу отзывов клиентов о магазине,...</td>\n",
       "      <td>3</td>\n",
       "      <td>2</td>\n",
       "      <td>2</td>\n",
       "      <td>3</td>\n",
       "      <td>1.333333</td>\n",
       "    </tr>\n",
       "    <tr>\n",
       "      <th>3</th>\n",
       "      <td>Изменить структура категорий, что увеличит кон...</td>\n",
       "      <td>8</td>\n",
       "      <td>3</td>\n",
       "      <td>3</td>\n",
       "      <td>8</td>\n",
       "      <td>1.125000</td>\n",
       "    </tr>\n",
       "    <tr>\n",
       "      <th>4</th>\n",
       "      <td>Изменить цвет фона главной страницы, чтобы уве...</td>\n",
       "      <td>3</td>\n",
       "      <td>1</td>\n",
       "      <td>1</td>\n",
       "      <td>1</td>\n",
       "      <td>1.000000</td>\n",
       "    </tr>\n",
       "  </tbody>\n",
       "</table>\n",
       "</div>"
      ],
      "text/plain": [
       "                                          hypothesis  reach  impact  \\\n",
       "8  Запустить акцию, дающую скидку на товар в день...      1       9   \n",
       "0  Добавить два новых канала привлечения трафика,...      3      10   \n",
       "7  Добавить форму подписки на все основные страни...     10       7   \n",
       "6  Показать на главной странице баннеры с актуаль...      5       3   \n",
       "2  Добавить блоки рекомендаций товаров на сайт ин...      8       3   \n",
       "1  Запустить собственную службу доставки, что сок...      2       5   \n",
       "5  Добавить страницу отзывов клиентов о магазине,...      3       2   \n",
       "3  Изменить структура категорий, что увеличит кон...      8       3   \n",
       "4  Изменить цвет фона главной страницы, чтобы уве...      3       1   \n",
       "\n",
       "   confidence  efforts        ICE  \n",
       "8           9        5  16.200000  \n",
       "0           8        6  13.333333  \n",
       "7           8        5  11.200000  \n",
       "6           8        3   8.000000  \n",
       "2           7        3   7.000000  \n",
       "1           4       10   2.000000  \n",
       "5           2        3   1.333333  \n",
       "3           3        8   1.125000  \n",
       "4           1        1   1.000000  "
      ]
     },
     "metadata": {},
     "output_type": "display_data"
    }
   ],
   "source": [
    "hypothesis['ICE']=hypothesis['impact']*hypothesis['confidence']/hypothesis['efforts']\n",
    "display(hypothesis.sort_values(by='ICE', ascending=False))"
   ]
  },
  {
   "cell_type": "markdown",
   "metadata": {},
   "source": [
    "<b>По фреймворку ICE топ-5 гипотез слеудющий: </b>\n",
    "<br>8   Запустить акцию, дающую скидку на товар в день\n",
    "<br>0\tДобавить два новых канала привлечения трафика...\n",
    "<br>7\tДобавить форму подписки на все основные страни.\n",
    "<br>6\tПоказать на главной странице баннеры с актуаль...\n",
    "<br>2   Добавить блоки рекомендаций товаров на сайт ин"
   ]
  },
  {
   "cell_type": "markdown",
   "metadata": {},
   "source": [
    "<h3>Приоритизация с помощью фреймворка RICE</h3>\n",
    "Теперь проведем приоритизацию методом RICE: произведение метрик Impact, Confidence дополнительно домножим на Reach и разделим его на Efforts, запишем его в столбец RICE и упорядочим по убыванию этого показателя:"
   ]
  },
  {
   "cell_type": "code",
   "execution_count": 6,
   "metadata": {},
   "outputs": [
    {
     "data": {
      "text/html": [
       "<div>\n",
       "<style scoped>\n",
       "    .dataframe tbody tr th:only-of-type {\n",
       "        vertical-align: middle;\n",
       "    }\n",
       "\n",
       "    .dataframe tbody tr th {\n",
       "        vertical-align: top;\n",
       "    }\n",
       "\n",
       "    .dataframe thead th {\n",
       "        text-align: right;\n",
       "    }\n",
       "</style>\n",
       "<table border=\"1\" class=\"dataframe\">\n",
       "  <thead>\n",
       "    <tr style=\"text-align: right;\">\n",
       "      <th></th>\n",
       "      <th>hypothesis</th>\n",
       "      <th>reach</th>\n",
       "      <th>impact</th>\n",
       "      <th>confidence</th>\n",
       "      <th>efforts</th>\n",
       "      <th>ICE</th>\n",
       "      <th>RICE</th>\n",
       "    </tr>\n",
       "  </thead>\n",
       "  <tbody>\n",
       "    <tr>\n",
       "      <th>7</th>\n",
       "      <td>Добавить форму подписки на все основные страни...</td>\n",
       "      <td>10</td>\n",
       "      <td>7</td>\n",
       "      <td>8</td>\n",
       "      <td>5</td>\n",
       "      <td>11.200000</td>\n",
       "      <td>112.0</td>\n",
       "    </tr>\n",
       "    <tr>\n",
       "      <th>2</th>\n",
       "      <td>Добавить блоки рекомендаций товаров на сайт ин...</td>\n",
       "      <td>8</td>\n",
       "      <td>3</td>\n",
       "      <td>7</td>\n",
       "      <td>3</td>\n",
       "      <td>7.000000</td>\n",
       "      <td>56.0</td>\n",
       "    </tr>\n",
       "    <tr>\n",
       "      <th>0</th>\n",
       "      <td>Добавить два новых канала привлечения трафика,...</td>\n",
       "      <td>3</td>\n",
       "      <td>10</td>\n",
       "      <td>8</td>\n",
       "      <td>6</td>\n",
       "      <td>13.333333</td>\n",
       "      <td>40.0</td>\n",
       "    </tr>\n",
       "    <tr>\n",
       "      <th>6</th>\n",
       "      <td>Показать на главной странице баннеры с актуаль...</td>\n",
       "      <td>5</td>\n",
       "      <td>3</td>\n",
       "      <td>8</td>\n",
       "      <td>3</td>\n",
       "      <td>8.000000</td>\n",
       "      <td>40.0</td>\n",
       "    </tr>\n",
       "    <tr>\n",
       "      <th>8</th>\n",
       "      <td>Запустить акцию, дающую скидку на товар в день...</td>\n",
       "      <td>1</td>\n",
       "      <td>9</td>\n",
       "      <td>9</td>\n",
       "      <td>5</td>\n",
       "      <td>16.200000</td>\n",
       "      <td>16.2</td>\n",
       "    </tr>\n",
       "    <tr>\n",
       "      <th>3</th>\n",
       "      <td>Изменить структура категорий, что увеличит кон...</td>\n",
       "      <td>8</td>\n",
       "      <td>3</td>\n",
       "      <td>3</td>\n",
       "      <td>8</td>\n",
       "      <td>1.125000</td>\n",
       "      <td>9.0</td>\n",
       "    </tr>\n",
       "    <tr>\n",
       "      <th>1</th>\n",
       "      <td>Запустить собственную службу доставки, что сок...</td>\n",
       "      <td>2</td>\n",
       "      <td>5</td>\n",
       "      <td>4</td>\n",
       "      <td>10</td>\n",
       "      <td>2.000000</td>\n",
       "      <td>4.0</td>\n",
       "    </tr>\n",
       "    <tr>\n",
       "      <th>5</th>\n",
       "      <td>Добавить страницу отзывов клиентов о магазине,...</td>\n",
       "      <td>3</td>\n",
       "      <td>2</td>\n",
       "      <td>2</td>\n",
       "      <td>3</td>\n",
       "      <td>1.333333</td>\n",
       "      <td>4.0</td>\n",
       "    </tr>\n",
       "    <tr>\n",
       "      <th>4</th>\n",
       "      <td>Изменить цвет фона главной страницы, чтобы уве...</td>\n",
       "      <td>3</td>\n",
       "      <td>1</td>\n",
       "      <td>1</td>\n",
       "      <td>1</td>\n",
       "      <td>1.000000</td>\n",
       "      <td>3.0</td>\n",
       "    </tr>\n",
       "  </tbody>\n",
       "</table>\n",
       "</div>"
      ],
      "text/plain": [
       "                                          hypothesis  reach  impact  \\\n",
       "7  Добавить форму подписки на все основные страни...     10       7   \n",
       "2  Добавить блоки рекомендаций товаров на сайт ин...      8       3   \n",
       "0  Добавить два новых канала привлечения трафика,...      3      10   \n",
       "6  Показать на главной странице баннеры с актуаль...      5       3   \n",
       "8  Запустить акцию, дающую скидку на товар в день...      1       9   \n",
       "3  Изменить структура категорий, что увеличит кон...      8       3   \n",
       "1  Запустить собственную службу доставки, что сок...      2       5   \n",
       "5  Добавить страницу отзывов клиентов о магазине,...      3       2   \n",
       "4  Изменить цвет фона главной страницы, чтобы уве...      3       1   \n",
       "\n",
       "   confidence  efforts        ICE   RICE  \n",
       "7           8        5  11.200000  112.0  \n",
       "2           7        3   7.000000   56.0  \n",
       "0           8        6  13.333333   40.0  \n",
       "6           8        3   8.000000   40.0  \n",
       "8           9        5  16.200000   16.2  \n",
       "3           3        8   1.125000    9.0  \n",
       "1           4       10   2.000000    4.0  \n",
       "5           2        3   1.333333    4.0  \n",
       "4           1        1   1.000000    3.0  "
      ]
     },
     "metadata": {},
     "output_type": "display_data"
    }
   ],
   "source": [
    "hypothesis['RICE']=hypothesis['reach']*hypothesis['impact']*hypothesis['confidence']/hypothesis['efforts']\n",
    "display(hypothesis.sort_values(by='RICE', ascending=False))"
   ]
  },
  {
   "cell_type": "markdown",
   "metadata": {},
   "source": [
    "После оценки с применением фреймворка RICE в топ-5 находятся всё те же гипотезы, что и для ICE. Однако, их приоритизация сменилась - ушли вниз гипотезы с малым охватом (8 и 0), лидируют гипотезы, имеющие высокий охват - 7 и 2."
   ]
  },
  {
   "cell_type": "markdown",
   "metadata": {},
   "source": [
    "<h2>Анализ A/B-теста</h2>\n",
    "<h3>Кумулятивная выручка</h3>\n",
    "Построим график кумулятивной выручки по группам"
   ]
  },
  {
   "cell_type": "code",
   "execution_count": 7,
   "metadata": {},
   "outputs": [
    {
     "data": {
      "image/png": "[encoded data removed]",
      "text/plain": [
       "<Figure size 720x360 with 1 Axes>"
      ]
     },
     "metadata": {
      "needs_background": "light"
     },
     "output_type": "display_data"
    }
   ],
   "source": [
    "register_matplotlib_converters()\n",
    "\n",
    "#orders['date'] = orders['date'].map(\n",
    "#    lambda x: dt.datetime.strptime(x, '%d/%m/%Y')\n",
    "#)\n",
    "\n",
    "\n",
    "#visitors['date'] = visitors['date'].map(\n",
    "#    lambda x: dt.datetime.strptime(x, '%d/%m/%Y')\n",
    "#)\n",
    "\n",
    "datesGroups = orders[['date', 'group']].drop_duplicates()\n",
    "\n",
    "ordersAggregated = datesGroups.apply(\n",
    "    lambda x: orders[\n",
    "        np.logical_and(\n",
    "            orders['date'] <= x['date'], orders['group'] == x['group']\n",
    "        )\n",
    "    ].agg(\n",
    "        {\n",
    "            'date': 'max',\n",
    "            'group': 'max',\n",
    "            'transaction_id': 'nunique',\n",
    "            'visitor_id': 'nunique',\n",
    "            'revenue': 'sum',\n",
    "        }\n",
    "    ),\n",
    "    axis=1,\n",
    ").sort_values(by=['date', 'group'])\n",
    "\n",
    "visitorsAggregated = datesGroups.apply(\n",
    "    lambda x: visitors[\n",
    "        np.logical_and(\n",
    "            visitors['date'] <= x['date'], visitors['group'] == x['group']\n",
    "        )\n",
    "    ].agg({'date': 'max', 'group': 'max', 'visitors': 'sum'}),\n",
    "    axis=1,\n",
    ").sort_values(by=['date', 'group'])\n",
    "\n",
    "cumulativeData = ordersAggregated.merge(\n",
    "    visitorsAggregated, left_on=['date', 'group'], right_on=['date', 'group']\n",
    ")\n",
    "cumulativeData.columns = [\n",
    "    'date',\n",
    "    'group',\n",
    "    'orders',\n",
    "    'buyers',\n",
    "    'revenue',\n",
    "    'visitors',\n",
    "]\n",
    "cumulativeRevenueA = cumulativeData[cumulativeData['group']=='A'][['date','revenue', 'orders']]\n",
    "cumulativeRevenueB = cumulativeData[cumulativeData['group']=='B'][['date','revenue', 'orders']]\n",
    "\n",
    "plt.figure(figsize=(10,5))\n",
    "plt.plot(cumulativeRevenueA['date'], cumulativeRevenueA['revenue'], label='A')\n",
    "\n",
    "# Строим график выручки группы B\n",
    "plt.plot(cumulativeRevenueB['date'], cumulativeRevenueB['revenue'], label='B')\n",
    "\n",
    "plt.legend() \n",
    "plt.title('Кумулятивная выручка')\n",
    "plt.ylabel('Выручка, млн $')\n",
    "plt.xlabel('Время')\n",
    "plt.show()"
   ]
  },
  {
   "cell_type": "markdown",
   "metadata": {},
   "source": [
    "Кумулятивная выручка по группе В находится стабильно выше, чем по группе А. При этом, до какого-то момента графики выручки идут довольно близко, а затем происходит резкий скачок у группы В, что может говорить о налиции аномалий в выборке."
   ]
  },
  {
   "cell_type": "markdown",
   "metadata": {},
   "source": [
    "<h3>Кумулятивный средний чек</h3>\n",
    "Построим график кумулятивного среднего чека по группам:"
   ]
  },
  {
   "cell_type": "code",
   "execution_count": 8,
   "metadata": {},
   "outputs": [
    {
     "data": {
      "image/png": "[encoded data removed]",
      "text/plain": [
       "<Figure size 720x360 with 1 Axes>"
      ]
     },
     "metadata": {
      "needs_background": "light"
     },
     "output_type": "display_data"
    }
   ],
   "source": [
    "plt.figure(figsize=(10,5))\n",
    "plt.plot(cumulativeRevenueA['date'], cumulativeRevenueA['revenue']/cumulativeRevenueA['orders'], label='A')\n",
    "plt.plot(cumulativeRevenueB['date'], cumulativeRevenueB['revenue']/cumulativeRevenueB['orders'], label='B')\n",
    "plt.legend()\n",
    "plt.title('Кумулятивный седний чек')\n",
    "plt.ylabel('Кумулятивный средний чек')\n",
    "plt.xlabel('Время')\n",
    "plt.show()"
   ]
  },
  {
   "cell_type": "markdown",
   "metadata": {},
   "source": [
    "Кумулятивный средний чек по группе В также в среднем превышает аналогичный для группы А. При этом выброс в районе 18 августа здесь еще более отчетливый, что подтверждает наше предположение о выбросах, которые необходимо определить и отфильтровать."
   ]
  },
  {
   "cell_type": "markdown",
   "metadata": {},
   "source": [
    "<h3>Изменение кумулятивного среднего чека</h3>\n",
    "Построим график относительного изменения кумулятивного среднего чека группы B к группе A:"
   ]
  },
  {
   "cell_type": "code",
   "execution_count": 9,
   "metadata": {},
   "outputs": [
    {
     "data": {
      "image/png": "[encoded data removed]",
      "text/plain": [
       "<Figure size 720x360 with 1 Axes>"
      ]
     },
     "metadata": {
      "needs_background": "light"
     },
     "output_type": "display_data"
    }
   ],
   "source": [
    "mergedCumulativeRevenue = cumulativeRevenueA.merge(cumulativeRevenueB, left_on='date', right_on='date', how='left', suffixes=['A', 'B'])\n",
    "plt.figure(figsize=(10,5))\n",
    "plt.plot(mergedCumulativeRevenue['date'], (mergedCumulativeRevenue['revenueB']/mergedCumulativeRevenue['ordersB'])/(mergedCumulativeRevenue['revenueA']/mergedCumulativeRevenue['ordersA'])-1)\n",
    "\n",
    "# добавляем ось X\n",
    "plt.axhline(y=0, color='black', linestyle='--')\n",
    "plt.title('Изменение кумулятивного среднего чека')\n",
    "plt.ylabel('Изменение чека')\n",
    "plt.xlabel('Время')\n",
    "plt.show()"
   ]
  },
  {
   "cell_type": "markdown",
   "metadata": {},
   "source": [
    "Кумулятивное изменение среднего чека имеет резкий провал, вызванный падением чека в группе А, а потом резкий всплеск, который мы отмечали ранеее в группе В. <b>Вероятно, в эти периоды были совершены аномальные заказы.</b> Фактически, <b>изменение кумулятивного чека колеблется, поэтому сложно скзать о какой-то установившейся динамике.</b>"
   ]
  },
  {
   "cell_type": "markdown",
   "metadata": {},
   "source": [
    "<h3>Кумулятивная конверсия</h3>\n",
    "Построим график кумулятивной конверсии по группам:"
   ]
  },
  {
   "cell_type": "code",
   "execution_count": 10,
   "metadata": {},
   "outputs": [
    {
     "data": {
      "image/png": "[encoded data removed]",
      "text/plain": [
       "<Figure size 720x360 with 1 Axes>"
      ]
     },
     "metadata": {
      "needs_background": "light"
     },
     "output_type": "display_data"
    }
   ],
   "source": [
    "cumulativeData['conversion']=cumulativeData['orders']/cumulativeData['visitors']\n",
    "cumulativeDataA = cumulativeData[cumulativeData['group']=='A']\n",
    "cumulativeDataB = cumulativeData[cumulativeData['group']=='B']\n",
    "\n",
    "# строим графики\n",
    "plt.figure(figsize=(10,5))\n",
    "plt.plot(cumulativeDataA['date'], cumulativeDataA['conversion'], label='A')\n",
    "plt.plot(cumulativeDataB['date'], cumulativeDataB['conversion'], label='B')\n",
    "plt.legend()\n",
    "plt.title('Изменение консервии')\n",
    "plt.ylabel('Конверсия')\n",
    "plt.xlabel('Время')\n",
    "plt.show()\n"
   ]
  },
  {
   "cell_type": "markdown",
   "metadata": {},
   "source": [
    "Непродолжительное время обе конверсии колебались примерно одинаоквым образом, но достаточно быстро разнонаправленно разошлись: конверсия группы А снизилась и продолжила колебаться в районе значения 0,03, конверсия группы В выросла и установилась в области значений 0,034 - 0,035"
   ]
  },
  {
   "cell_type": "markdown",
   "metadata": {},
   "source": [
    "<h3>Изменение кумулятивной конверсии</h3>\n",
    "Построим график относительного изменения кумулятивной конверсии группы B к группе A:"
   ]
  },
  {
   "cell_type": "code",
   "execution_count": 11,
   "metadata": {},
   "outputs": [
    {
     "data": {
      "image/png": "[encoded data removed]",
      "text/plain": [
       "<Figure size 720x360 with 1 Axes>"
      ]
     },
     "metadata": {
      "needs_background": "light"
     },
     "output_type": "display_data"
    }
   ],
   "source": [
    "mergedCumulativeConversions = cumulativeDataA[['date','conversion']].merge(cumulativeDataB[['date','conversion']], left_on='date', right_on='date', how='left', suffixes=['A', 'B'])\n",
    "plt.figure(figsize=(10,5))\n",
    "plt.plot(mergedCumulativeConversions['date'], mergedCumulativeConversions['conversionB']/mergedCumulativeConversions['conversionA']-1, label=\"Относительный прирост конверсии группы B относительно группы A\")\n",
    "plt.legend()\n",
    "\n",
    "plt.axhline(y=0, color='black', linestyle='--')\n",
    "plt.axhline(y=0.1, color='grey', linestyle='--')\n",
    "plt.axhline(y=0.2, color='grey', linestyle='--')\n",
    "plt.title('Относительное изменение консервии')\n",
    "plt.ylabel('Изменение')\n",
    "plt.xlabel('Время')\n",
    "plt.show()"
   ]
  },
  {
   "cell_type": "markdown",
   "metadata": {},
   "source": [
    "В подтверждение предыдущего графиука относительное изменение конверсии групппы В относительно группы А демонстрирует рост и устоявшиеся колебания вокруг значения прироста порядка 12% относительно значений группы А."
   ]
  },
  {
   "cell_type": "markdown",
   "metadata": {},
   "source": [
    "<h3>Количество заказов по пользователям</h3>\n",
    "Построим точечный график количества заказов по пользователям:"
   ]
  },
  {
   "cell_type": "code",
   "execution_count": 12,
   "metadata": {},
   "outputs": [
    {
     "name": "stdout",
     "output_type": "stream",
     "text": [
      "      visitor_id  orders\n",
      "1023  4256040402      11\n",
      "591   2458001652      11\n",
      "569   2378935119       9\n",
      "487   2038680547       8\n",
      "44     199603092       5\n",
      "744   3062433592       5\n",
      "55     237748145       5\n",
      "917   3803269165       5\n",
      "299   1230306981       5\n",
      "897   3717692402       5\n"
     ]
    },
    {
     "data": {
      "image/png": "[encoded data removed]",
      "text/plain": [
       "<Figure size 720x360 with 1 Axes>"
      ]
     },
     "metadata": {
      "needs_background": "light"
     },
     "output_type": "display_data"
    }
   ],
   "source": [
    "ordersByUsers = (\n",
    "    orders.groupby('visitor_id', as_index=False)\n",
    "    .agg({'transaction_id': 'nunique'})\n",
    ")\n",
    "ordersByUsers.columns = ['visitor_id', 'orders']\n",
    "\n",
    "print(ordersByUsers.sort_values(by='orders', ascending=False).head(10))\n",
    "\n",
    "# серия из чисел от 0 до количества наблюдений в ordersByUsers\n",
    "x_values = pd.Series(range(0, len(ordersByUsers)))\n",
    "plt.figure(figsize=(10,5))\n",
    "plt.scatter(x_values,ordersByUsers['orders'])\n",
    "plt.title('Количество заказов')\n",
    "plt.ylabel('Количество, шт')\n",
    "plt.xlabel('Пользователи')\n",
    "plt.show()"
   ]
  },
  {
   "cell_type": "markdown",
   "metadata": {},
   "source": [
    "Подавляющее большинство пользователей совершили всего 1 заказ, значительно меньше, но все же еще большое количество - 2 заказа, 3 и более - единичные случаи, их мы и будем считать выбросами. Проверим наше предположение, посчитав перцентили:"
   ]
  },
  {
   "cell_type": "markdown",
   "metadata": {},
   "source": [
    "<h3>Расчет перцентилей</h3>\n",
    "Посчитаем 95-й и 99-й перцентили количества заказов на пользователя. Выберем границу для определения аномальных пользователей:b"
   ]
  },
  {
   "cell_type": "code",
   "execution_count": 13,
   "metadata": {},
   "outputs": [
    {
     "name": "stdout",
     "output_type": "stream",
     "text": [
      "[2. 4.]\n"
     ]
    }
   ],
   "source": [
    "print(np.percentile(ordersByUsers['orders'],[95,99]))"
   ]
  },
  {
   "cell_type": "markdown",
   "metadata": {},
   "source": [
    "Получаем, что только 5% польователей сделали 2 и более заказов, 4 и более заказа - не более 1%. Таким образом, <b>аномальными будут считаться пользователи, совершившие более 2 заказов.</b>"
   ]
  },
  {
   "cell_type": "markdown",
   "metadata": {},
   "source": [
    "<h3>Стоимость заказов</h3>\n",
    "Построим точечный график стоимости заказов:"
   ]
  },
  {
   "cell_type": "code",
   "execution_count": 14,
   "metadata": {},
   "outputs": [
    {
     "name": "stdout",
     "output_type": "stream",
     "text": [
      "      transaction_id  visitor_id       date  revenue group\n",
      "425        590470918  1920142716 2019-08-19  1294500     B\n",
      "1196      3936777065  2108080724 2019-08-15   202740     B\n",
      "858        192721366  1316129916 2019-08-27    93940     A\n",
      "1136       666610489  1307669133 2019-08-13    92550     A\n",
      "744       3668308183   888512513 2019-08-27    86620     B\n",
      "682       1216533772  4266935830 2019-08-29    78990     B\n",
      "662       1811671147  4266935830 2019-08-29    78990     A\n",
      "743       3603576309  4133034833 2019-08-09    67990     A\n",
      "1103      1348774318  1164614297 2019-08-12    66350     A\n",
      "1099       316924019   148427295 2019-08-12    65710     A\n"
     ]
    },
    {
     "data": {
      "image/png": "[encoded data removed]",
      "text/plain": [
       "<Figure size 720x360 with 1 Axes>"
      ]
     },
     "metadata": {
      "needs_background": "light"
     },
     "output_type": "display_data"
    }
   ],
   "source": [
    "print(orders.sort_values(by='revenue', ascending=False).head(10))\n",
    "\n",
    "x_values = pd.Series(range(0, len(orders['revenue'])))\n",
    "plt.figure(figsize=(10,5))\n",
    "plt.scatter(x_values,orders['revenue'])\n",
    "plt.title('Стоимость заказов')\n",
    "plt.ylabel('Стоимость, млн $')\n",
    "plt.xlabel('Пользователи')\n",
    "plt.show()"
   ]
  },
  {
   "cell_type": "markdown",
   "metadata": {},
   "source": [
    "Значительно выбивается заказ в 1,3 миллиона. Он, очевидно и служит причиной аномалий в выручке и конверсии. В среднем, выбиваются заказы в районе 200 тысяч и около 100 тысяч. Рассчитаем 95 и 99 перцентили для определния более точной границы аномалий"
   ]
  },
  {
   "cell_type": "markdown",
   "metadata": {},
   "source": [
    "<h3>Расчет перцентилей</h3>\n",
    "Посчитаем 95-й и 99-й перцентили стоимости заказов. Выберем границу для определения аномальных пользователей:"
   ]
  },
  {
   "cell_type": "code",
   "execution_count": 15,
   "metadata": {},
   "outputs": [
    {
     "name": "stdout",
     "output_type": "stream",
     "text": [
      "[28000.  58233.2]\n"
     ]
    }
   ],
   "source": [
    "print(np.percentile(orders['revenue'],[95,99]))"
   ]
  },
  {
   "cell_type": "markdown",
   "metadata": {},
   "source": [
    "Аналогично  количеству заказов, можем отсечь границу аномалии по 95 перцентилю. Принимаем границу в <b>28000.</b>"
   ]
  },
  {
   "cell_type": "markdown",
   "metadata": {},
   "source": [
    "<h3>Статистическая значимость различий в конверсии между группами по «сырым» данным</h3>\n",
    "Посчитаем статистическую значимость различий в конверсии между группами по «сырым» данным:"
   ]
  },
  {
   "cell_type": "markdown",
   "metadata": {},
   "source": [
    "Сформулируем нулевую и альтерантивную гипотезы:\n",
    "<br><b>Нулевая гипотеза Н0</b> - статистически значимые различия конверсии в грппах А и В по \"сырым данным\" отстутсвуют\n",
    "<br><b>Альтернативная гипотеза Н1</b> - В средних конверсиях по \"сырым данным\" есть статистически значимые различия "
   ]
  },
  {
   "cell_type": "code",
   "execution_count": 20,
   "metadata": {},
   "outputs": [
    {
     "name": "stdout",
     "output_type": "stream",
     "text": [
      "        date  ordersPerDateA  revenuePerDateA  ordersPerDateB  \\\n",
      "0 2019-08-01              24           148579              21   \n",
      "1 2019-08-02              20            93822              24   \n",
      "2 2019-08-03              24           112473              16   \n",
      "3 2019-08-04              16            70825              17   \n",
      "4 2019-08-05              25           124218              23   \n",
      "\n",
      "   revenuePerDateB  ordersCummulativeA  revenueCummulativeA  \\\n",
      "0           101217                  24               148579   \n",
      "1           165531                  44               242401   \n",
      "2           114248                  68               354874   \n",
      "3           108571                  84               425699   \n",
      "4            92428                 109               549917   \n",
      "\n",
      "   ordersCummulativeB  revenueCummulativeB  visitorsPerDateA  \\\n",
      "0                  21               101217               719   \n",
      "1                  45               266748               619   \n",
      "2                  61               380996               507   \n",
      "3                  78               489567               717   \n",
      "4                 101               581995               756   \n",
      "\n",
      "   visitorsPerDateB  visitorsCummulativeA  visitorsCummulativeB  \n",
      "0               713                   719                   713  \n",
      "1               581                  1338                  1294  \n",
      "2               509                  1845                  1803  \n",
      "3               770                  2562                  2573  \n",
      "4               707                  3318                  3280  \n",
      "p-value 0.01679\n",
      "Относительное различие между группами 0.138\n"
     ]
    }
   ],
   "source": [
    "visitorsADaily = visitors[visitors['group'] == 'A'][['date', 'visitors']]\n",
    "visitorsADaily.columns = ['date', 'visitorsPerDateA']\n",
    "\n",
    "visitorsACummulative = visitorsADaily.apply(\n",
    "    lambda x: visitorsADaily[visitorsADaily['date'] <= x['date']].agg(\n",
    "        {'date': 'max', 'visitorsPerDateA': 'sum'}\n",
    "    ),\n",
    "    axis=1,\n",
    ")\n",
    "visitorsACummulative.columns = ['date', 'visitorsCummulativeA']\n",
    "\n",
    "visitorsBDaily = visitors[visitors['group'] == 'B'][['date', 'visitors']]\n",
    "visitorsBDaily.columns = ['date', 'visitorsPerDateB']\n",
    "\n",
    "visitorsBCummulative = visitorsBDaily.apply(\n",
    "    lambda x: visitorsBDaily[visitorsBDaily['date'] <= x['date']].agg(\n",
    "        {'date': 'max', 'visitorsPerDateB': 'sum'}\n",
    "    ),\n",
    "    axis=1,\n",
    ")\n",
    "visitorsBCummulative.columns = ['date', 'visitorsCummulativeB']\n",
    "\n",
    "ordersADaily = (\n",
    "    orders[orders['group'] == 'A'][['date', 'transaction_id', 'visitor_id', 'revenue']]\n",
    "    .groupby('date', as_index=False)\n",
    "    .agg({'transaction_id': pd.Series.nunique, 'revenue': 'sum'})\n",
    ")\n",
    "ordersADaily.columns = ['date', 'ordersPerDateA', 'revenuePerDateA']\n",
    "\n",
    "ordersACummulative = ordersADaily.apply(\n",
    "    lambda x: ordersADaily[ordersADaily['date'] <= x['date']].agg(\n",
    "        {'date': 'max', 'ordersPerDateA': 'sum', 'revenuePerDateA': 'sum'}\n",
    "    ),\n",
    "    axis=1,\n",
    ").sort_values(by=['date'])\n",
    "ordersACummulative.columns = [\n",
    "    'date',\n",
    "    'ordersCummulativeA',\n",
    "    'revenueCummulativeA',\n",
    "]\n",
    "\n",
    "ordersBDaily = (\n",
    "    orders[orders['group'] == 'B'][['date', 'transaction_id', 'visitor_id', 'revenue']]\n",
    "    .groupby('date', as_index=False)\n",
    "    .agg({'transaction_id': pd.Series.nunique, 'revenue': 'sum'})\n",
    ")\n",
    "ordersBDaily.columns = ['date', 'ordersPerDateB', 'revenuePerDateB']\n",
    "\n",
    "ordersBCummulative = ordersBDaily.apply(\n",
    "    lambda x: ordersBDaily[ordersBDaily['date'] <= x['date']].agg(\n",
    "        {'date': 'max', 'ordersPerDateB': 'sum', 'revenuePerDateB': 'sum'}\n",
    "    ),\n",
    "    axis=1,\n",
    ").sort_values(by=['date'])\n",
    "ordersBCummulative.columns = [\n",
    "    'date',\n",
    "    'ordersCummulativeB',\n",
    "    'revenueCummulativeB',\n",
    "]\n",
    "\n",
    "data = (\n",
    "    ordersADaily.merge(\n",
    "        ordersBDaily, left_on='date', right_on='date', how='left'\n",
    "    )\n",
    "    .merge(ordersACummulative, left_on='date', right_on='date', how='left')\n",
    "    .merge(ordersBCummulative, left_on='date', right_on='date', how='left')\n",
    "    .merge(visitorsADaily, left_on='date', right_on='date', how='left')\n",
    "    .merge(visitorsBDaily, left_on='date', right_on='date', how='left')\n",
    "    .merge(visitorsACummulative, left_on='date', right_on='date', how='left')\n",
    "    .merge(visitorsBCummulative, left_on='date', right_on='date', how='left')\n",
    ")\n",
    "\n",
    "print(data.head(5))\n",
    "ordersByUsersA = (\n",
    "    orders[orders['group'] == 'A']\n",
    "    .groupby('visitor_id', as_index=False)\n",
    "    .agg({'transaction_id': pd.Series.nunique})\n",
    ")\n",
    "ordersByUsersA.columns = ['visitor_id', 'orders']\n",
    "\n",
    "ordersByUsersB = (\n",
    "    orders[orders['group'] == 'B']\n",
    "    .groupby('visitor_id', as_index=False)\n",
    "    .agg({'transaction_id': pd.Series.nunique})\n",
    ")\n",
    "ordersByUsersB.columns = ['visitor_id', 'orders'] \n",
    "pd.Series(0, index=np.arange(data['visitorsPerDateA'].sum() - len(ordersByUsersA['orders'])), name='orders')\n",
    "\n",
    "\n",
    "sampleA = pd.concat([ordersByUsersA['orders'],pd.Series(0, index=np.arange(data['visitorsPerDateA'].sum() - len(ordersByUsersA['orders'])), name='orders')],axis=0)\n",
    "\n",
    "sampleB = pd.concat([ordersByUsersB['orders'],pd.Series(0, index=np.arange(data['visitorsPerDateB'].sum() - len(ordersByUsersB['orders'])), name='orders')],axis=0)\n",
    "\n",
    "print('p-value',\"{0:.5f}\".format(stats.mannwhitneyu(sampleA, sampleB)[1]))\n",
    "\n",
    "print('Относительное различие между группами',\"{0:.3f}\".format(sampleB.mean() / sampleA.mean() - 1))"
   ]
  },
  {
   "cell_type": "markdown",
   "metadata": {},
   "source": [
    "P-value меньше, чем статистическая значимость 0.05, таким образом нулевую гипотезу отвергаем.\n",
    "<br><b>Сырые данне говорят о том, что в средних конверсиях есть статистически значимые различия. Относительный прирост по срырм данным конверсии группы В к конверсии группы А составляет почти 14%</b>"
   ]
  },
  {
   "cell_type": "markdown",
   "metadata": {},
   "source": [
    "<h3>Статистическая значимость различий в среднем чеке заказа между группами по «сырым» данным</h3>\n",
    "\n",
    "<br>Сформулируем нулевую и альтерантивную гипотезы:\n",
    "<br><b>Нулевая гипотеза Н0</b> - статистически значимые различия в среднем чеке заказа между группами А и В по \"сырым данным\" отстутсвуют\n",
    "<br><b>Альтернативная гипотеза Н1</b> - В среднем чеке по \"сырым данным\" есть статистически значимые различия \n",
    "\n",
    "Посчитаем статистическую значимость различий в среднем чеке заказа между группами по «сырым» данным."
   ]
  },
  {
   "cell_type": "code",
   "execution_count": 17,
   "metadata": {},
   "outputs": [
    {
     "name": "stdout",
     "output_type": "stream",
     "text": [
      "p-value 0.729\n",
      "Относительное различие между группами 0.259\n"
     ]
    }
   ],
   "source": [
    "visitorsADaily = visitors[visitors['group'] == 'A'][['date', 'visitors']]\n",
    "visitorsADaily.columns = ['date', 'visitorsPerDateA']\n",
    "\n",
    "visitorsACummulative = visitorsADaily.apply(\n",
    "    lambda x: visitorsADaily[visitorsADaily['date'] <= x['date']].agg(\n",
    "        {'date': 'max', 'visitorsPerDateA': 'sum'}\n",
    "    ),\n",
    "    axis=1,\n",
    ")\n",
    "visitorsACummulative.columns = ['date', 'visitorsCummulativeA']\n",
    "\n",
    "visitorsBDaily = visitors[visitors['group'] == 'B'][['date', 'visitors']]\n",
    "visitorsBDaily.columns = ['date', 'visitorsPerDateB']\n",
    "\n",
    "visitorsBCummulative = visitorsBDaily.apply(\n",
    "    lambda x: visitorsBDaily[visitorsBDaily['date'] <= x['date']].agg(\n",
    "        {'date': 'max', 'visitorsPerDateB': 'sum'}\n",
    "    ),\n",
    "    axis=1,\n",
    ")\n",
    "visitorsBCummulative.columns = ['date', 'visitorsCummulativeB']\n",
    "\n",
    "ordersADaily = (\n",
    "    orders[orders['group'] == 'A'][['date', 'transaction_id', 'visitor_id', 'revenue']]\n",
    "    .groupby('date', as_index=False)\n",
    "    .agg({'transaction_id': pd.Series.nunique, 'revenue': 'sum'})\n",
    ")\n",
    "ordersADaily.columns = ['date', 'ordersPerDateA', 'revenuePerDateA']\n",
    "\n",
    "ordersACummulative = ordersADaily.apply(\n",
    "    lambda x: ordersADaily[ordersADaily['date'] <= x['date']].agg(\n",
    "        {'date': 'max', 'ordersPerDateA': 'sum', 'revenuePerDateA': 'sum'}\n",
    "    ),\n",
    "    axis=1,\n",
    ").sort_values(by=['date'])\n",
    "ordersACummulative.columns = [\n",
    "    'date',\n",
    "    'ordersCummulativeA',\n",
    "    'revenueCummulativeA',\n",
    "]\n",
    "\n",
    "ordersBDaily = (\n",
    "    orders[orders['group'] == 'B'][['date', 'transaction_id', 'visitor_id', 'revenue']]\n",
    "    .groupby('date', as_index=False)\n",
    "    .agg({'transaction_id': pd.Series.nunique, 'revenue': 'sum'})\n",
    ")\n",
    "ordersBDaily.columns = ['date', 'ordersPerDateB', 'revenuePerDateB']\n",
    "\n",
    "ordersBCummulative = ordersBDaily.apply(\n",
    "    lambda x: ordersBDaily[ordersBDaily['date'] <= x['date']].agg(\n",
    "        {'date': 'max', 'ordersPerDateB': 'sum', 'revenuePerDateB': 'sum'}\n",
    "    ),\n",
    "    axis=1,\n",
    ").sort_values(by=['date'])\n",
    "ordersBCummulative.columns = [\n",
    "    'date',\n",
    "    'ordersCummulativeB',\n",
    "    'revenueCummulativeB',\n",
    "]\n",
    "\n",
    "data = (\n",
    "    ordersADaily.merge(\n",
    "        ordersBDaily, left_on='date', right_on='date', how='left'\n",
    "    )\n",
    "    .merge(ordersACummulative, left_on='date', right_on='date', how='left')\n",
    "    .merge(ordersBCummulative, left_on='date', right_on='date', how='left')\n",
    "    .merge(visitorsADaily, left_on='date', right_on='date', how='left')\n",
    "    .merge(visitorsBDaily, left_on='date', right_on='date', how='left')\n",
    "    .merge(visitorsACummulative, left_on='date', right_on='date', how='left')\n",
    "    .merge(visitorsBCummulative, left_on='date', right_on='date', how='left')\n",
    ")\n",
    "\n",
    "print('p-value','{0:.3f}'.format(stats.mannwhitneyu(orders[orders['group']=='A']['revenue'], orders[orders['group']=='B']['revenue'])[1]))\n",
    "print('Относительное различие между группами','{0:.3f}'.format(orders[orders['group']=='B']['revenue'].mean()/orders[orders['group']=='A']['revenue'].mean()-1)) "
   ]
  },
  {
   "cell_type": "markdown",
   "metadata": {},
   "source": [
    "P-value больше 0.05, то есть статистически значимых различий между средними чеками по сырым данным нет. Хотя относительное различе выглядит достаточно большим и составляет 26%. \n",
    "<br>Явно требуется очистить данные от аномалий и проанализировать чистые данные."
   ]
  },
  {
   "cell_type": "markdown",
   "metadata": {},
   "source": [
    "<h3>Статистическая значимость различий в конверсии между группами по «очищенным» данным</h3>\n",
    "\n",
    "Сформулируем нулевую и альтерантивную гипотезы:\n",
    "<br><b>Нулевая гипотеза Н0</b> - статистически значимые различия конверсии в грппах А и В по очищенным данным отстутсвуют\n",
    "<br><b>Альтернативная гипотеза Н1</b> - В средних конверсиях по очищенным данным есть статистически значимые различия \n",
    "Посчитаем статистическую значимость различий в конверсии между группами по «очищенным» данным."
   ]
  },
  {
   "cell_type": "code",
   "execution_count": 18,
   "metadata": {},
   "outputs": [
    {
     "name": "stdout",
     "output_type": "stream",
     "text": [
      "p-value 0.01334\n",
      "Относительное различие между группами 0.172\n"
     ]
    }
   ],
   "source": [
    "usersWithManyOrders = pd.concat(\n",
    "    [\n",
    "        ordersByUsersA[ordersByUsersA['orders'] > 2]['visitor_id'],\n",
    "        ordersByUsersB[ordersByUsersB['orders'] > 2]['visitor_id'],\n",
    "    ],\n",
    "    axis=0,\n",
    ")\n",
    "usersWithExpensiveOrders = orders[orders['revenue'] > 28000]['visitor_id']\n",
    "abnormalUsers = (\n",
    "    pd.concat([usersWithManyOrders, usersWithExpensiveOrders], axis=0)\n",
    "    .drop_duplicates()\n",
    "    .sort_values()\n",
    ")\n",
    "sampleAFiltered = pd.concat(\n",
    "    [\n",
    "        ordersByUsersA[\n",
    "            np.logical_not(ordersByUsersA['visitor_id'].isin(abnormalUsers))\n",
    "        ]['orders'],\n",
    "        pd.Series(\n",
    "            0,\n",
    "            index=np.arange(\n",
    "                data['visitorsPerDateA'].sum() - len(ordersByUsersA['orders'])\n",
    "            ),\n",
    "            name='orders',\n",
    "        ),\n",
    "    ],\n",
    "    axis=0,\n",
    ")\n",
    "\n",
    "sampleBFiltered = pd.concat(\n",
    "    [\n",
    "        ordersByUsersB[\n",
    "            np.logical_not(ordersByUsersB['visitor_id'].isin(abnormalUsers))\n",
    "        ]['orders'],\n",
    "        pd.Series(\n",
    "            0,\n",
    "            index=np.arange(\n",
    "                data['visitorsPerDateB'].sum() - len(ordersByUsersB['orders'])\n",
    "            ),\n",
    "            name='orders',\n",
    "        ),\n",
    "    ],\n",
    "    axis=0,\n",
    ")\n",
    "print('p-value','{0:.5f}'.format(stats.mannwhitneyu(sampleAFiltered, sampleBFiltered)[1]))\n",
    "print('Относительное различие между группами','{0:.3f}'.format(sampleBFiltered.mean()/sampleAFiltered.mean()-1)) "
   ]
  },
  {
   "cell_type": "markdown",
   "metadata": {},
   "source": [
    "P-value меньше, чем статистическая значимость 0.05, таким образом нулевую гипотезу отвергаем.\n",
    "Обработанные и избавленные от аномалий данные также говорят о том, что в средних конверсиях есть статистически значимые различия. Относительный прирост по срырм данным конверсии группы В к конверсии группы А составляет 17%"
   ]
  },
  {
   "cell_type": "markdown",
   "metadata": {},
   "source": [
    "<h3>Статистическая значимость различий в среднем чеке заказа между группами по «очищенным» данным</h3>\n",
    "Посчитаем статистическую значимость различий в среднем чеке заказа между группами по «очищенным» данным:\n",
    "\n",
    "<br>Сформулируем нулевую и альтерантивную гипотезы:\n",
    "<br><b>Нулевая гипотеза Н0</b> - статистически значимые различия в среднем чеке заказа между группами А и В по очищенным данным отстутсвуют\n",
    "<br><b>Альтернативная гипотеза Н1</b> - В среднем чеке по очищенным данным есть статистически значимые различия "
   ]
  },
  {
   "cell_type": "code",
   "execution_count": 19,
   "metadata": {},
   "outputs": [
    {
     "name": "stdout",
     "output_type": "stream",
     "text": [
      "p-value 0.720\n",
      "Относительное различие между группами -0.023\n"
     ]
    }
   ],
   "source": [
    "\n",
    "\n",
    "print('p-value',\n",
    "    '{0:.3f}'.format(\n",
    "        stats.mannwhitneyu(\n",
    "            orders[\n",
    "                np.logical_and(\n",
    "                    orders['group'] == 'A',\n",
    "                    np.logical_not(orders['visitor_id'].isin(abnormalUsers)),\n",
    "                )\n",
    "            ]['revenue'],\n",
    "            orders[\n",
    "                np.logical_and(\n",
    "                    orders['group'] == 'B',\n",
    "                    np.logical_not(orders['visitor_id'].isin(abnormalUsers)),\n",
    "                )\n",
    "            ]['revenue'],\n",
    "        )[1]\n",
    "    )\n",
    ")\n",
    "\n",
    "print('Относительное различие между группами',\n",
    "    \"{0:.3f}\".format(\n",
    "        orders[\n",
    "            np.logical_and(\n",
    "                orders['group'] == 'B',\n",
    "                np.logical_not(orders['visitor_id'].isin(abnormalUsers)),\n",
    "            )\n",
    "        ]['revenue'].mean()\n",
    "        / orders[\n",
    "            np.logical_and(\n",
    "                orders['group'] == 'A',\n",
    "                np.logical_not(orders['visitor_id'].isin(abnormalUsers)),\n",
    "            )\n",
    "        ]['revenue'].mean()\n",
    "        - 1\n",
    "    )\n",
    ") "
   ]
  },
  {
   "cell_type": "markdown",
   "metadata": {},
   "source": [
    "P-value больше, чем статистическая значимость 0.05, таким образом нулевую гипотезу не отвергаем.\n",
    "Обработанные и избавленные от аномалий данные говорят, что статистически значимых различий между средними чеками нет. Хотя относительное различие  очень невелико по сравнению с сырыми данными и составляет всего 2,3%."
   ]
  },
  {
   "cell_type": "markdown",
   "metadata": {},
   "source": [
    "<h3>Решение по результатам теста</h3>"
   ]
  },
  {
   "cell_type": "markdown",
   "metadata": {},
   "source": [
    "По сырым и очищенным данным конверсии выборка В явно смотится лучше выборки А, аналогично выглядят и графики конверсии и её относительного изменения. \n",
    "<br>Однако, и сырые и обработанные данные по среднему чеку говорят, что статистически значимых различий между данными группами нет. Несмотря на то, что относительное различие между группами после удаления аномалий сократилось с 26% до 2,3%.\n",
    "График относительного изменения среднего чека также выглядит неустановившимся.\n",
    "<b>Необходимо продолжить тест с целью сбора большего количества данных.</b>"
   ]
  },
  {
   "cell_type": "markdown",
   "metadata": {},
   "source": [
    "<h1>Общий вывод</h1>"
   ]
  },
  {
   "cell_type": "markdown",
   "metadata": {},
   "source": [
    "В ходе исследования были приоритизированы гипотезы с примененеиме фреймворков ICE и RICE. По результатам приоритизации в топ-5 оказались одни и те же гиоптезы ,однако их положение внутри топа изменилось. При переходе от методологии ICE к RICE веред вышли гипотезы,имеющие больший охват, а гипотезы с меньшим охватом - откатились вниз."
   ]
  },
  {
   "cell_type": "markdown",
   "metadata": {},
   "source": [
    "В ходе анализа A/B-теста были изучены показатели выручки для групп А и В. Графики по основынм показателям демонстрировали явное наличие аномалий - выбросов по кумулятивной выручке и среднему чеку. С помощью точечных графиков и выделения перцентилей аномалии были определены и впоследствии исключены.\n",
    "Анализ по сырым данным показал отсутсвие статистически значимых отлиичий по среднему чеку и превосходство группы В над группой А по коневесрии. После очистки данных от аномалий результат остался аналогичным - превосходство В над А по конверсии (что подтверждается графиком изменения конверсии), но отствтие статистически значимых различий по среднему чеку. \n",
    "<b>Рекомендовано продолжить тест для сбора большего количества данных</b>"
   ]
  }
 ],
 "metadata": {
  "ExecuteTimeLog": [
   {
    "duration": 55,
    "start_time": "2022-07-13T20:18:19.237Z"
   },
   {
    "duration": 883,
    "start_time": "2022-07-13T20:18:27.369Z"
   },
   {
    "duration": 89,
    "start_time": "2022-07-13T20:18:28.254Z"
   },
   {
    "duration": 213,
    "start_time": "2022-07-13T20:19:46.216Z"
   },
   {
    "duration": 102,
    "start_time": "2022-07-13T20:20:43.740Z"
   },
   {
    "duration": 24,
    "start_time": "2022-07-13T20:34:11.416Z"
   },
   {
    "duration": 13,
    "start_time": "2022-07-13T20:36:14.850Z"
   },
   {
    "duration": 1722,
    "start_time": "2022-07-13T20:47:12.379Z"
   },
   {
    "duration": 12,
    "start_time": "2022-07-13T20:47:38.120Z"
   },
   {
    "duration": 10,
    "start_time": "2022-07-13T20:49:16.375Z"
   },
   {
    "duration": 12,
    "start_time": "2022-07-13T20:49:24.715Z"
   },
   {
    "duration": 13,
    "start_time": "2022-07-13T20:51:01.821Z"
   },
   {
    "duration": 11,
    "start_time": "2022-07-13T20:51:27.720Z"
   },
   {
    "duration": 18,
    "start_time": "2022-07-13T20:56:38.980Z"
   },
   {
    "duration": 13,
    "start_time": "2022-07-13T20:58:21.237Z"
   },
   {
    "duration": 887,
    "start_time": "2022-07-14T09:18:07.943Z"
   },
   {
    "duration": 217,
    "start_time": "2022-07-14T09:18:08.832Z"
   },
   {
    "duration": 26,
    "start_time": "2022-07-14T09:18:09.052Z"
   },
   {
    "duration": 14,
    "start_time": "2022-07-14T09:18:09.079Z"
   },
   {
    "duration": 15,
    "start_time": "2022-07-14T09:18:09.110Z"
   },
   {
    "duration": 12,
    "start_time": "2022-07-14T09:18:09.126Z"
   },
   {
    "duration": 87,
    "start_time": "2022-07-14T09:18:09.140Z"
   },
   {
    "duration": 392,
    "start_time": "2022-07-14T09:18:21.144Z"
   },
   {
    "duration": 644,
    "start_time": "2022-07-14T09:19:41.944Z"
   },
   {
    "duration": 86,
    "start_time": "2022-07-14T09:19:42.590Z"
   },
   {
    "duration": 26,
    "start_time": "2022-07-14T09:19:42.677Z"
   },
   {
    "duration": 15,
    "start_time": "2022-07-14T09:19:42.705Z"
   },
   {
    "duration": 12,
    "start_time": "2022-07-14T09:19:42.722Z"
   },
   {
    "duration": 12,
    "start_time": "2022-07-14T09:19:42.736Z"
   },
   {
    "duration": 551,
    "start_time": "2022-07-14T09:19:42.749Z"
   },
   {
    "duration": 5,
    "start_time": "2022-07-14T09:20:10.943Z"
   },
   {
    "duration": 675,
    "start_time": "2022-07-14T09:20:16.098Z"
   },
   {
    "duration": 85,
    "start_time": "2022-07-14T09:20:16.775Z"
   },
   {
    "duration": 23,
    "start_time": "2022-07-14T09:20:16.862Z"
   },
   {
    "duration": 13,
    "start_time": "2022-07-14T09:20:16.887Z"
   },
   {
    "duration": 12,
    "start_time": "2022-07-14T09:20:16.902Z"
   },
   {
    "duration": 16,
    "start_time": "2022-07-14T09:20:16.917Z"
   },
   {
    "duration": 556,
    "start_time": "2022-07-14T09:20:16.935Z"
   },
   {
    "duration": 30,
    "start_time": "2022-07-14T09:21:38.353Z"
   },
   {
    "duration": 638,
    "start_time": "2022-07-14T09:22:57.355Z"
   },
   {
    "duration": 113,
    "start_time": "2022-07-14T09:22:57.994Z"
   },
   {
    "duration": 30,
    "start_time": "2022-07-14T09:22:58.108Z"
   },
   {
    "duration": 16,
    "start_time": "2022-07-14T09:22:58.140Z"
   },
   {
    "duration": 46,
    "start_time": "2022-07-14T09:22:58.159Z"
   },
   {
    "duration": 13,
    "start_time": "2022-07-14T09:22:58.207Z"
   },
   {
    "duration": 115,
    "start_time": "2022-07-14T09:22:58.222Z"
   },
   {
    "duration": 26,
    "start_time": "2022-07-14T09:23:39.850Z"
   },
   {
    "duration": 7,
    "start_time": "2022-07-14T09:24:03.663Z"
   },
   {
    "duration": 6,
    "start_time": "2022-07-14T09:24:07.220Z"
   },
   {
    "duration": 364,
    "start_time": "2022-07-14T09:26:16.036Z"
   },
   {
    "duration": 731,
    "start_time": "2022-07-14T09:27:06.224Z"
   },
   {
    "duration": 109,
    "start_time": "2022-07-14T09:27:06.958Z"
   },
   {
    "duration": 30,
    "start_time": "2022-07-14T09:27:07.069Z"
   },
   {
    "duration": 17,
    "start_time": "2022-07-14T09:27:07.101Z"
   },
   {
    "duration": 16,
    "start_time": "2022-07-14T09:27:07.121Z"
   },
   {
    "duration": 15,
    "start_time": "2022-07-14T09:27:07.138Z"
   },
   {
    "duration": 493,
    "start_time": "2022-07-14T09:27:07.155Z"
   },
   {
    "duration": 705,
    "start_time": "2022-07-14T09:28:10.936Z"
   },
   {
    "duration": 110,
    "start_time": "2022-07-14T09:28:11.643Z"
   },
   {
    "duration": 32,
    "start_time": "2022-07-14T09:28:11.755Z"
   },
   {
    "duration": 25,
    "start_time": "2022-07-14T09:28:11.790Z"
   },
   {
    "duration": 14,
    "start_time": "2022-07-14T09:28:11.817Z"
   },
   {
    "duration": 13,
    "start_time": "2022-07-14T09:28:11.833Z"
   },
   {
    "duration": 665,
    "start_time": "2022-07-14T09:28:11.847Z"
   },
   {
    "duration": 500,
    "start_time": "2022-07-14T09:29:07.601Z"
   },
   {
    "duration": 516,
    "start_time": "2022-07-14T09:29:12.028Z"
   },
   {
    "duration": 527,
    "start_time": "2022-07-14T09:29:21.141Z"
   },
   {
    "duration": 463,
    "start_time": "2022-07-14T09:29:27.703Z"
   },
   {
    "duration": 189,
    "start_time": "2022-07-14T09:31:10.358Z"
   },
   {
    "duration": 280,
    "start_time": "2022-07-14T09:34:27.212Z"
   },
   {
    "duration": 194,
    "start_time": "2022-07-14T09:36:57.744Z"
   },
   {
    "duration": 286,
    "start_time": "2022-07-14T09:37:51.736Z"
   },
   {
    "duration": 340,
    "start_time": "2022-07-14T09:38:03.393Z"
   },
   {
    "duration": 128,
    "start_time": "2022-07-14T09:44:02.512Z"
   },
   {
    "duration": 122,
    "start_time": "2022-07-14T09:44:17.116Z"
   },
   {
    "duration": 4,
    "start_time": "2022-07-14T09:44:42.283Z"
   },
   {
    "duration": 78,
    "start_time": "2022-07-14T09:47:24.203Z"
   },
   {
    "duration": 143,
    "start_time": "2022-07-14T09:47:41.851Z"
   },
   {
    "duration": 4,
    "start_time": "2022-07-14T09:48:19.193Z"
   },
   {
    "duration": 4,
    "start_time": "2022-07-14T09:48:41.901Z"
   },
   {
    "duration": 4,
    "start_time": "2022-07-14T09:48:45.472Z"
   },
   {
    "duration": 123,
    "start_time": "2022-07-14T11:10:33.670Z"
   },
   {
    "duration": 119,
    "start_time": "2022-07-14T11:10:53.759Z"
   },
   {
    "duration": 262,
    "start_time": "2022-07-14T11:11:12.456Z"
   },
   {
    "duration": 351,
    "start_time": "2022-07-14T11:11:58.960Z"
   },
   {
    "duration": 1034,
    "start_time": "2022-07-14T11:12:33.640Z"
   },
   {
    "duration": 172,
    "start_time": "2022-07-14T11:12:34.675Z"
   },
   {
    "duration": 32,
    "start_time": "2022-07-14T11:12:34.848Z"
   },
   {
    "duration": 22,
    "start_time": "2022-07-14T11:12:34.882Z"
   },
   {
    "duration": 13,
    "start_time": "2022-07-14T11:12:34.907Z"
   },
   {
    "duration": 13,
    "start_time": "2022-07-14T11:12:34.921Z"
   },
   {
    "duration": 652,
    "start_time": "2022-07-14T11:12:34.936Z"
   },
   {
    "duration": 200,
    "start_time": "2022-07-14T11:12:35.590Z"
   },
   {
    "duration": 314,
    "start_time": "2022-07-14T11:12:35.792Z"
   },
   {
    "duration": 222,
    "start_time": "2022-07-14T11:12:36.108Z"
   },
   {
    "duration": 347,
    "start_time": "2022-07-14T11:12:36.332Z"
   },
   {
    "duration": 150,
    "start_time": "2022-07-14T11:12:36.681Z"
   },
   {
    "duration": 5,
    "start_time": "2022-07-14T11:12:36.833Z"
   },
   {
    "duration": 163,
    "start_time": "2022-07-14T11:12:36.841Z"
   },
   {
    "duration": 4,
    "start_time": "2022-07-14T11:12:37.006Z"
   },
   {
    "duration": 399,
    "start_time": "2022-07-14T11:12:37.012Z"
   },
   {
    "duration": 354,
    "start_time": "2022-07-14T11:12:52.858Z"
   },
   {
    "duration": 361,
    "start_time": "2022-07-14T11:13:31.558Z"
   },
   {
    "duration": 405,
    "start_time": "2022-07-14T11:16:50.780Z"
   },
   {
    "duration": 392,
    "start_time": "2022-07-14T11:33:02.553Z"
   },
   {
    "duration": 457,
    "start_time": "2022-07-14T11:36:24.892Z"
   },
   {
    "duration": 227,
    "start_time": "2022-07-14T11:38:55.992Z"
   },
   {
    "duration": 229,
    "start_time": "2022-07-14T11:39:23.276Z"
   },
   {
    "duration": 23,
    "start_time": "2022-07-14T11:48:19.021Z"
   },
   {
    "duration": 411,
    "start_time": "2022-07-14T13:42:18.211Z"
   },
   {
    "duration": 457,
    "start_time": "2022-07-14T13:42:46.214Z"
   },
   {
    "duration": 1552,
    "start_time": "2022-07-14T20:09:51.689Z"
   },
   {
    "duration": 380,
    "start_time": "2022-07-14T20:09:53.244Z"
   },
   {
    "duration": 54,
    "start_time": "2022-07-14T20:09:53.626Z"
   },
   {
    "duration": 20,
    "start_time": "2022-07-14T20:09:53.682Z"
   },
   {
    "duration": 14,
    "start_time": "2022-07-14T20:09:53.705Z"
   },
   {
    "duration": 14,
    "start_time": "2022-07-14T20:09:53.721Z"
   },
   {
    "duration": 741,
    "start_time": "2022-07-14T20:09:53.745Z"
   },
   {
    "duration": 303,
    "start_time": "2022-07-14T20:09:54.492Z"
   },
   {
    "duration": 394,
    "start_time": "2022-07-14T20:09:54.798Z"
   },
   {
    "duration": 230,
    "start_time": "2022-07-14T20:09:55.196Z"
   },
   {
    "duration": 348,
    "start_time": "2022-07-14T20:09:55.429Z"
   },
   {
    "duration": 154,
    "start_time": "2022-07-14T20:09:55.780Z"
   },
   {
    "duration": 23,
    "start_time": "2022-07-14T20:09:55.935Z"
   },
   {
    "duration": 225,
    "start_time": "2022-07-14T20:09:55.961Z"
   },
   {
    "duration": 7,
    "start_time": "2022-07-14T20:09:56.188Z"
   },
   {
    "duration": 614,
    "start_time": "2022-07-14T20:09:56.198Z"
   },
   {
    "duration": 310,
    "start_time": "2022-07-14T20:09:56.814Z"
   },
   {
    "duration": 30,
    "start_time": "2022-07-14T20:09:57.126Z"
   },
   {
    "duration": 1215,
    "start_time": "2022-07-14T20:16:00.845Z"
   },
   {
    "duration": 194,
    "start_time": "2022-07-14T20:16:02.072Z"
   },
   {
    "duration": 38,
    "start_time": "2022-07-14T20:16:02.268Z"
   },
   {
    "duration": 24,
    "start_time": "2022-07-14T20:16:02.308Z"
   },
   {
    "duration": 21,
    "start_time": "2022-07-14T20:16:02.335Z"
   },
   {
    "duration": 31,
    "start_time": "2022-07-14T20:16:02.365Z"
   },
   {
    "duration": 622,
    "start_time": "2022-07-14T20:16:02.398Z"
   },
   {
    "duration": 218,
    "start_time": "2022-07-14T20:16:03.021Z"
   },
   {
    "duration": 365,
    "start_time": "2022-07-14T20:16:03.241Z"
   },
   {
    "duration": 318,
    "start_time": "2022-07-14T20:16:03.609Z"
   },
   {
    "duration": 379,
    "start_time": "2022-07-14T20:16:03.929Z"
   },
   {
    "duration": 211,
    "start_time": "2022-07-14T20:16:04.311Z"
   },
   {
    "duration": 7,
    "start_time": "2022-07-14T20:16:04.524Z"
   },
   {
    "duration": 256,
    "start_time": "2022-07-14T20:16:04.546Z"
   },
   {
    "duration": 9,
    "start_time": "2022-07-14T20:16:04.804Z"
   },
   {
    "duration": 456,
    "start_time": "2022-07-14T20:16:04.815Z"
   },
   {
    "duration": 251,
    "start_time": "2022-07-14T20:16:05.278Z"
   },
   {
    "duration": 1302,
    "start_time": "2022-07-14T20:16:05.531Z"
   },
   {
    "duration": 0,
    "start_time": "2022-07-14T20:16:06.835Z"
   },
   {
    "duration": 1101,
    "start_time": "2022-07-14T20:16:44.470Z"
   },
   {
    "duration": 192,
    "start_time": "2022-07-14T20:16:45.573Z"
   },
   {
    "duration": 33,
    "start_time": "2022-07-14T20:16:45.766Z"
   },
   {
    "duration": 21,
    "start_time": "2022-07-14T20:16:45.802Z"
   },
   {
    "duration": 36,
    "start_time": "2022-07-14T20:16:45.824Z"
   },
   {
    "duration": 32,
    "start_time": "2022-07-14T20:16:45.865Z"
   },
   {
    "duration": 601,
    "start_time": "2022-07-14T20:16:45.900Z"
   },
   {
    "duration": 215,
    "start_time": "2022-07-14T20:16:46.504Z"
   },
   {
    "duration": 357,
    "start_time": "2022-07-14T20:16:46.721Z"
   },
   {
    "duration": 217,
    "start_time": "2022-07-14T20:16:47.081Z"
   },
   {
    "duration": 371,
    "start_time": "2022-07-14T20:16:47.301Z"
   },
   {
    "duration": 153,
    "start_time": "2022-07-14T20:16:47.676Z"
   },
   {
    "duration": 9,
    "start_time": "2022-07-14T20:16:47.831Z"
   },
   {
    "duration": 183,
    "start_time": "2022-07-14T20:16:47.846Z"
   },
   {
    "duration": 5,
    "start_time": "2022-07-14T20:16:48.030Z"
   },
   {
    "duration": 393,
    "start_time": "2022-07-14T20:16:48.050Z"
   },
   {
    "duration": 245,
    "start_time": "2022-07-14T20:16:48.447Z"
   },
   {
    "duration": 1295,
    "start_time": "2022-07-14T20:16:48.695Z"
   },
   {
    "duration": 0,
    "start_time": "2022-07-14T20:16:49.992Z"
   },
   {
    "duration": 1104,
    "start_time": "2022-07-14T20:17:19.684Z"
   },
   {
    "duration": 225,
    "start_time": "2022-07-14T20:17:20.792Z"
   },
   {
    "duration": 56,
    "start_time": "2022-07-14T20:17:21.020Z"
   },
   {
    "duration": 18,
    "start_time": "2022-07-14T20:17:21.084Z"
   },
   {
    "duration": 12,
    "start_time": "2022-07-14T20:17:21.104Z"
   },
   {
    "duration": 19,
    "start_time": "2022-07-14T20:17:21.119Z"
   },
   {
    "duration": 646,
    "start_time": "2022-07-14T20:17:21.140Z"
   },
   {
    "duration": 224,
    "start_time": "2022-07-14T20:17:21.788Z"
   },
   {
    "duration": 364,
    "start_time": "2022-07-14T20:17:22.014Z"
   },
   {
    "duration": 262,
    "start_time": "2022-07-14T20:17:22.380Z"
   },
   {
    "duration": 373,
    "start_time": "2022-07-14T20:17:22.649Z"
   },
   {
    "duration": 168,
    "start_time": "2022-07-14T20:17:23.024Z"
   },
   {
    "duration": 5,
    "start_time": "2022-07-14T20:17:23.194Z"
   },
   {
    "duration": 184,
    "start_time": "2022-07-14T20:17:23.202Z"
   },
   {
    "duration": 6,
    "start_time": "2022-07-14T20:17:23.388Z"
   },
   {
    "duration": 446,
    "start_time": "2022-07-14T20:17:23.397Z"
   },
   {
    "duration": 270,
    "start_time": "2022-07-14T20:17:23.849Z"
   },
   {
    "duration": 66,
    "start_time": "2022-07-14T20:17:24.121Z"
   },
   {
    "duration": 17,
    "start_time": "2022-07-14T20:17:24.189Z"
   },
   {
    "duration": 170,
    "start_time": "2022-07-14T20:20:27.918Z"
   },
   {
    "duration": 229,
    "start_time": "2022-07-14T20:20:42.887Z"
   },
   {
    "duration": 190,
    "start_time": "2022-07-14T20:21:07.413Z"
   },
   {
    "duration": 183,
    "start_time": "2022-07-14T20:21:20.296Z"
   },
   {
    "duration": 192,
    "start_time": "2022-07-14T20:21:27.637Z"
   },
   {
    "duration": 165,
    "start_time": "2022-07-14T20:21:34.177Z"
   },
   {
    "duration": 327,
    "start_time": "2022-07-14T20:23:53.943Z"
   },
   {
    "duration": 167,
    "start_time": "2022-07-14T20:24:11.589Z"
   },
   {
    "duration": 194,
    "start_time": "2022-07-14T20:25:44.765Z"
   },
   {
    "duration": 167,
    "start_time": "2022-07-14T20:32:00.814Z"
   },
   {
    "duration": 202,
    "start_time": "2022-07-14T20:33:08.894Z"
   },
   {
    "duration": 343,
    "start_time": "2022-07-14T20:33:40.280Z"
   },
   {
    "duration": 380,
    "start_time": "2022-07-14T20:34:31.411Z"
   },
   {
    "duration": 283,
    "start_time": "2022-07-14T20:43:17.044Z"
   },
   {
    "duration": 510,
    "start_time": "2022-07-14T20:44:40.314Z"
   },
   {
    "duration": 296,
    "start_time": "2022-07-14T20:46:36.385Z"
   },
   {
    "duration": 593,
    "start_time": "2022-07-14T20:48:21.526Z"
   },
   {
    "duration": 30,
    "start_time": "2022-07-14T21:19:51.103Z"
   },
   {
    "duration": 15,
    "start_time": "2022-07-14T21:19:53.032Z"
   },
   {
    "duration": 4,
    "start_time": "2022-07-14T21:23:55.516Z"
   },
   {
    "duration": 7,
    "start_time": "2022-07-14T21:24:18.086Z"
   },
   {
    "duration": 1052,
    "start_time": "2022-07-14T21:33:11.190Z"
   },
   {
    "duration": 180,
    "start_time": "2022-07-14T21:33:12.244Z"
   },
   {
    "duration": 35,
    "start_time": "2022-07-14T21:33:12.426Z"
   },
   {
    "duration": 14,
    "start_time": "2022-07-14T21:33:12.463Z"
   },
   {
    "duration": 13,
    "start_time": "2022-07-14T21:33:12.479Z"
   },
   {
    "duration": 13,
    "start_time": "2022-07-14T21:33:12.494Z"
   },
   {
    "duration": 623,
    "start_time": "2022-07-14T21:33:12.509Z"
   },
   {
    "duration": 232,
    "start_time": "2022-07-14T21:33:13.134Z"
   },
   {
    "duration": 321,
    "start_time": "2022-07-14T21:33:13.368Z"
   },
   {
    "duration": 270,
    "start_time": "2022-07-14T21:33:13.691Z"
   },
   {
    "duration": 341,
    "start_time": "2022-07-14T21:33:13.964Z"
   },
   {
    "duration": 164,
    "start_time": "2022-07-14T21:33:14.307Z"
   },
   {
    "duration": 5,
    "start_time": "2022-07-14T21:33:14.473Z"
   },
   {
    "duration": 181,
    "start_time": "2022-07-14T21:33:14.481Z"
   },
   {
    "duration": 6,
    "start_time": "2022-07-14T21:33:14.664Z"
   },
   {
    "duration": 389,
    "start_time": "2022-07-14T21:33:14.672Z"
   },
   {
    "duration": 229,
    "start_time": "2022-07-14T21:33:15.063Z"
   },
   {
    "duration": 36,
    "start_time": "2022-07-14T21:33:15.294Z"
   },
   {
    "duration": 18,
    "start_time": "2022-07-14T21:33:15.351Z"
   },
   {
    "duration": 29,
    "start_time": "2022-07-14T21:36:35.232Z"
   },
   {
    "duration": 15,
    "start_time": "2022-07-14T21:36:40.678Z"
   },
   {
    "duration": 44,
    "start_time": "2022-07-14T21:39:03.736Z"
   },
   {
    "duration": 15,
    "start_time": "2022-07-14T21:39:06.299Z"
   },
   {
    "duration": 56,
    "start_time": "2022-07-14T21:39:14.117Z"
   },
   {
    "duration": 23,
    "start_time": "2022-07-14T21:39:18.438Z"
   },
   {
    "duration": 55,
    "start_time": "2022-07-14T21:39:25.620Z"
   },
   {
    "duration": 18,
    "start_time": "2022-07-14T21:39:28.625Z"
   },
   {
    "duration": 44,
    "start_time": "2022-07-14T21:39:44.734Z"
   },
   {
    "duration": 16,
    "start_time": "2022-07-14T21:39:50.201Z"
   },
   {
    "duration": 39,
    "start_time": "2022-07-14T21:39:59.092Z"
   },
   {
    "duration": 17,
    "start_time": "2022-07-14T21:40:00.433Z"
   },
   {
    "duration": 49,
    "start_time": "2022-07-14T21:40:36.067Z"
   },
   {
    "duration": 18,
    "start_time": "2022-07-14T21:40:38.247Z"
   },
   {
    "duration": 43,
    "start_time": "2022-07-14T21:40:50.840Z"
   },
   {
    "duration": 19,
    "start_time": "2022-07-14T21:40:53.099Z"
   },
   {
    "duration": 22,
    "start_time": "2022-07-14T21:47:08.269Z"
   },
   {
    "duration": 14,
    "start_time": "2022-07-14T21:47:21.590Z"
   },
   {
    "duration": 1118,
    "start_time": "2022-07-14T21:47:30.863Z"
   },
   {
    "duration": 191,
    "start_time": "2022-07-14T21:47:31.984Z"
   },
   {
    "duration": 39,
    "start_time": "2022-07-14T21:47:32.181Z"
   },
   {
    "duration": 43,
    "start_time": "2022-07-14T21:47:32.223Z"
   },
   {
    "duration": 19,
    "start_time": "2022-07-14T21:47:32.269Z"
   },
   {
    "duration": 15,
    "start_time": "2022-07-14T21:47:32.290Z"
   },
   {
    "duration": 614,
    "start_time": "2022-07-14T21:47:32.307Z"
   },
   {
    "duration": 241,
    "start_time": "2022-07-14T21:47:32.923Z"
   },
   {
    "duration": 325,
    "start_time": "2022-07-14T21:47:33.167Z"
   },
   {
    "duration": 263,
    "start_time": "2022-07-14T21:47:33.494Z"
   },
   {
    "duration": 407,
    "start_time": "2022-07-14T21:47:33.762Z"
   },
   {
    "duration": 166,
    "start_time": "2022-07-14T21:47:34.171Z"
   },
   {
    "duration": 14,
    "start_time": "2022-07-14T21:47:34.339Z"
   },
   {
    "duration": 189,
    "start_time": "2022-07-14T21:47:34.360Z"
   },
   {
    "duration": 14,
    "start_time": "2022-07-14T21:47:34.553Z"
   },
   {
    "duration": 408,
    "start_time": "2022-07-14T21:47:34.569Z"
   },
   {
    "duration": 232,
    "start_time": "2022-07-14T21:47:34.979Z"
   },
   {
    "duration": 46,
    "start_time": "2022-07-14T21:47:35.213Z"
   },
   {
    "duration": 18,
    "start_time": "2022-07-14T21:47:35.261Z"
   },
   {
    "duration": 35,
    "start_time": "2022-07-14T21:54:51.007Z"
   },
   {
    "duration": 35,
    "start_time": "2022-07-14T21:55:02.408Z"
   },
   {
    "duration": 14,
    "start_time": "2022-07-14T21:55:10.070Z"
   },
   {
    "duration": 1119,
    "start_time": "2022-07-15T08:10:10.821Z"
   },
   {
    "duration": 277,
    "start_time": "2022-07-15T08:10:11.943Z"
   },
   {
    "duration": 27,
    "start_time": "2022-07-15T08:10:12.222Z"
   },
   {
    "duration": 14,
    "start_time": "2022-07-15T08:10:12.251Z"
   },
   {
    "duration": 16,
    "start_time": "2022-07-15T08:10:12.267Z"
   },
   {
    "duration": 15,
    "start_time": "2022-07-15T08:10:12.285Z"
   },
   {
    "duration": 603,
    "start_time": "2022-07-15T08:10:12.302Z"
   },
   {
    "duration": 211,
    "start_time": "2022-07-15T08:10:12.907Z"
   },
   {
    "duration": 330,
    "start_time": "2022-07-15T08:10:13.120Z"
   },
   {
    "duration": 244,
    "start_time": "2022-07-15T08:10:13.453Z"
   },
   {
    "duration": 339,
    "start_time": "2022-07-15T08:10:13.699Z"
   },
   {
    "duration": 150,
    "start_time": "2022-07-15T08:10:14.045Z"
   },
   {
    "duration": 4,
    "start_time": "2022-07-15T08:10:14.197Z"
   },
   {
    "duration": 179,
    "start_time": "2022-07-15T08:10:14.203Z"
   },
   {
    "duration": 5,
    "start_time": "2022-07-15T08:10:14.384Z"
   },
   {
    "duration": 377,
    "start_time": "2022-07-15T08:10:14.391Z"
   },
   {
    "duration": 228,
    "start_time": "2022-07-15T08:10:14.770Z"
   },
   {
    "duration": 52,
    "start_time": "2022-07-15T08:10:15.000Z"
   },
   {
    "duration": 14,
    "start_time": "2022-07-15T08:10:15.054Z"
   },
   {
    "duration": 54,
    "start_time": "2022-07-15T10:40:25.407Z"
   },
   {
    "duration": 1301,
    "start_time": "2022-07-15T10:40:34.323Z"
   },
   {
    "duration": 294,
    "start_time": "2022-07-15T10:40:35.626Z"
   },
   {
    "duration": 27,
    "start_time": "2022-07-15T10:40:35.922Z"
   },
   {
    "duration": 19,
    "start_time": "2022-07-15T10:40:35.951Z"
   },
   {
    "duration": 13,
    "start_time": "2022-07-15T10:40:35.972Z"
   },
   {
    "duration": 13,
    "start_time": "2022-07-15T10:40:35.987Z"
   },
   {
    "duration": 614,
    "start_time": "2022-07-15T10:40:36.002Z"
   },
   {
    "duration": 240,
    "start_time": "2022-07-15T10:40:36.618Z"
   },
   {
    "duration": 333,
    "start_time": "2022-07-15T10:40:36.860Z"
   },
   {
    "duration": 247,
    "start_time": "2022-07-15T10:40:37.194Z"
   },
   {
    "duration": 368,
    "start_time": "2022-07-15T10:40:37.443Z"
   },
   {
    "duration": 199,
    "start_time": "2022-07-15T10:40:37.814Z"
   },
   {
    "duration": 7,
    "start_time": "2022-07-15T10:40:38.015Z"
   },
   {
    "duration": 169,
    "start_time": "2022-07-15T10:40:38.042Z"
   },
   {
    "duration": 4,
    "start_time": "2022-07-15T10:40:38.212Z"
   },
   {
    "duration": 398,
    "start_time": "2022-07-15T10:40:38.218Z"
   },
   {
    "duration": 248,
    "start_time": "2022-07-15T10:40:38.618Z"
   },
   {
    "duration": 40,
    "start_time": "2022-07-15T10:40:38.869Z"
   },
   {
    "duration": 46,
    "start_time": "2022-07-15T10:40:38.911Z"
   },
   {
    "duration": 388,
    "start_time": "2022-07-15T11:12:50.465Z"
   }
  ],
  "kernelspec": {
   "display_name": "Python 3 (ipykernel)",
   "language": "python",
   "name": "python3"
  },
  "language_info": {
   "codemirror_mode": {
    "name": "ipython",
    "version": 3
   },
   "file_extension": ".py",
   "mimetype": "text/x-python",
   "name": "python",
   "nbconvert_exporter": "python",
   "pygments_lexer": "ipython3",
   "version": "3.9.7"
  },
  "toc": {
   "base_numbering": 1,
   "nav_menu": {},
   "number_sections": false,
   "sideBar": true,
   "skip_h1_title": false,
   "title_cell": "Table of Contents",
   "title_sidebar": "Contents",
   "toc_cell": false,
   "toc_position": {},
   "toc_section_display": true,
   "toc_window_display": true
  }
 },
 "nbformat": 4,
 "nbformat_minor": 2
}
